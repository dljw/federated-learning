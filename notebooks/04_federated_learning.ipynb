{
 "cells": [
  {
   "cell_type": "code",
   "execution_count": 2,
   "metadata": {},
   "outputs": [
    {
     "name": "stdout",
     "output_type": "stream",
     "text": [
      "/Users/darrenlee/Desktop/portfolio/Data-science/Federated-learning\n"
     ]
    }
   ],
   "source": [
    "%cd .."
   ]
  },
  {
   "cell_type": "code",
   "execution_count": 3,
   "metadata": {},
   "outputs": [],
   "source": [
    "import pandas as pd\n",
    "import tensorflow as tf\n",
    "\n",
    "from tensorflow.keras.models import load_model\n",
    "\n",
    "# from src1.client import StoreClient\n",
    "from src.model import Model\n",
    "from src.data import load_data\n"
   ]
  },
  {
   "cell_type": "code",
   "execution_count": 4,
   "metadata": {},
   "outputs": [],
   "source": [
    "df_fine = pd.DataFrame()\n",
    "failed_fine = []"
   ]
  },
  {
   "cell_type": "code",
   "execution_count": 5,
   "metadata": {},
   "outputs": [
    {
     "name": "stdout",
     "output_type": "stream",
     "text": [
      "_____________________________________Store_1__________________________\n",
      "Metal device set to: Apple M1 Pro\n",
      "\n",
      "systemMemory: 32.00 GB\n",
      "maxCacheSize: 10.67 GB\n",
      "\n"
     ]
    },
    {
     "name": "stderr",
     "output_type": "stream",
     "text": [
      "2022-12-18 10:55:36.810271: I tensorflow/core/common_runtime/pluggable_device/pluggable_device_factory.cc:306] Could not identify NUMA node of platform GPU ID 0, defaulting to 0. Your kernel may not have been built with NUMA support.\n",
      "2022-12-18 10:55:36.810402: I tensorflow/core/common_runtime/pluggable_device/pluggable_device_factory.cc:272] Created TensorFlow device (/job:localhost/replica:0/task:0/device:GPU:0 with 0 MB memory) -> physical PluggableDevice (device: 0, name: METAL, pci bus id: <undefined>)\n"
     ]
    },
    {
     "name": "stdout",
     "output_type": "stream",
     "text": [
      "Epoch 1/100\n",
      "WARNING:tensorflow:Model was constructed with shape (None, None, 103) for input KerasTensor(type_spec=TensorSpec(shape=(None, None, 103), dtype=tf.float32, name='dense_input'), name='dense_input', description=\"created by layer 'dense_input'\"), but it was called on an input with incompatible shape (None, 103).\n"
     ]
    },
    {
     "name": "stderr",
     "output_type": "stream",
     "text": [
      "2022-12-18 10:55:37.547434: W tensorflow/core/platform/profile_utils/cpu_utils.cc:128] Failed to get CPU frequency: 0 Hz\n"
     ]
    },
    {
     "name": "stdout",
     "output_type": "stream",
     "text": [
      "WARNING:tensorflow:Model was constructed with shape (None, None, 103) for input KerasTensor(type_spec=TensorSpec(shape=(None, None, 103), dtype=tf.float32, name='dense_input'), name='dense_input', description=\"created by layer 'dense_input'\"), but it was called on an input with incompatible shape (None, 103).\n"
     ]
    },
    {
     "name": "stderr",
     "output_type": "stream",
     "text": [
      "2022-12-18 10:55:38.025247: I tensorflow/core/grappler/optimizers/custom_graph_optimizer_registry.cc:114] Plugin optimizer for device_type GPU is enabled.\n"
     ]
    },
    {
     "name": "stdout",
     "output_type": "stream",
     "text": [
      "262/262 [==============================] - ETA: 0s - loss: 9780.7832 - mean_squared_error: 370930496.0000 - mean_absolute_error: 9780.7832WARNING:tensorflow:Model was constructed with shape (None, None, 103) for input KerasTensor(type_spec=TensorSpec(shape=(None, None, 103), dtype=tf.float32, name='dense_input'), name='dense_input', description=\"created by layer 'dense_input'\"), but it was called on an input with incompatible shape (None, 103).\n"
     ]
    },
    {
     "name": "stderr",
     "output_type": "stream",
     "text": [
      "2022-12-18 10:55:43.364860: I tensorflow/core/grappler/optimizers/custom_graph_optimizer_registry.cc:114] Plugin optimizer for device_type GPU is enabled.\n"
     ]
    },
    {
     "name": "stdout",
     "output_type": "stream",
     "text": [
      "262/262 [==============================] - 6s 20ms/step - loss: 9780.7832 - mean_squared_error: 370930496.0000 - mean_absolute_error: 9780.7832 - val_loss: 8284.3662 - val_mean_squared_error: 164886112.0000 - val_mean_absolute_error: 8284.3662\n",
      "Epoch 2/100\n",
      "262/262 [==============================] - 5s 17ms/step - loss: 4984.2300 - mean_squared_error: 86949088.0000 - mean_absolute_error: 4984.2300 - val_loss: 5961.2925 - val_mean_squared_error: 79594152.0000 - val_mean_absolute_error: 5961.2925\n",
      "Epoch 3/100\n",
      "262/262 [==============================] - 5s 18ms/step - loss: 4580.8545 - mean_squared_error: 75511160.0000 - mean_absolute_error: 4580.8545 - val_loss: 3959.1160 - val_mean_squared_error: 41404596.0000 - val_mean_absolute_error: 3959.1160\n",
      "Epoch 4/100\n",
      "262/262 [==============================] - 5s 18ms/step - loss: 4292.6333 - mean_squared_error: 71312816.0000 - mean_absolute_error: 4292.6333 - val_loss: 4090.5999 - val_mean_squared_error: 48714016.0000 - val_mean_absolute_error: 4090.5999\n",
      "Epoch 5/100\n",
      "262/262 [==============================] - 5s 17ms/step - loss: 4129.1694 - mean_squared_error: 65943764.0000 - mean_absolute_error: 4129.1694 - val_loss: 6942.5991 - val_mean_squared_error: 134849648.0000 - val_mean_absolute_error: 6942.5991\n",
      "Epoch 6/100\n",
      "262/262 [==============================] - 5s 17ms/step - loss: 4076.6589 - mean_squared_error: 66330768.0000 - mean_absolute_error: 4076.6589 - val_loss: 2889.4675 - val_mean_squared_error: 23192066.0000 - val_mean_absolute_error: 2889.4675\n",
      "Epoch 7/100\n",
      "262/262 [==============================] - 5s 17ms/step - loss: 3966.4314 - mean_squared_error: 62467132.0000 - mean_absolute_error: 3966.4314 - val_loss: 2862.8931 - val_mean_squared_error: 23369880.0000 - val_mean_absolute_error: 2862.8931\n",
      "Epoch 8/100\n",
      "262/262 [==============================] - 5s 18ms/step - loss: 3834.5432 - mean_squared_error: 59686976.0000 - mean_absolute_error: 3834.5432 - val_loss: 2858.8584 - val_mean_squared_error: 24723320.0000 - val_mean_absolute_error: 2858.8584\n",
      "Epoch 9/100\n",
      "262/262 [==============================] - 5s 18ms/step - loss: 3746.4578 - mean_squared_error: 58379672.0000 - mean_absolute_error: 3746.4578 - val_loss: 5544.6782 - val_mean_squared_error: 72419840.0000 - val_mean_absolute_error: 5544.6782\n",
      "Epoch 10/100\n",
      "262/262 [==============================] - 5s 18ms/step - loss: 3647.1699 - mean_squared_error: 54279412.0000 - mean_absolute_error: 3647.1699 - val_loss: 2579.4297 - val_mean_squared_error: 19568696.0000 - val_mean_absolute_error: 2579.4297\n",
      "Epoch 11/100\n",
      "262/262 [==============================] - 5s 17ms/step - loss: 3554.6375 - mean_squared_error: 54243276.0000 - mean_absolute_error: 3554.6375 - val_loss: 5425.5771 - val_mean_squared_error: 72967992.0000 - val_mean_absolute_error: 5425.5771\n",
      "Epoch 12/100\n",
      "262/262 [==============================] - 5s 17ms/step - loss: 3508.2764 - mean_squared_error: 51425708.0000 - mean_absolute_error: 3508.2764 - val_loss: 3637.0515 - val_mean_squared_error: 33885432.0000 - val_mean_absolute_error: 3637.0515\n",
      "Epoch 13/100\n",
      "262/262 [==============================] - 5s 17ms/step - loss: 3472.7065 - mean_squared_error: 53331624.0000 - mean_absolute_error: 3472.7065 - val_loss: 4258.9141 - val_mean_squared_error: 46862728.0000 - val_mean_absolute_error: 4258.9141\n",
      "Epoch 14/100\n",
      "262/262 [==============================] - 5s 17ms/step - loss: 3380.3821 - mean_squared_error: 49099828.0000 - mean_absolute_error: 3380.3821 - val_loss: 2737.4060 - val_mean_squared_error: 22293692.0000 - val_mean_absolute_error: 2737.4060\n",
      "262/262 [==============================] - 2s 7ms/step - loss: 3276.3638 - mean_squared_error: 42902948.0000 - mean_absolute_error: 3276.3638\n",
      "30/30 [==============================] - 0s 8ms/step - loss: 2616.8306 - mean_squared_error: 20387752.0000 - mean_absolute_error: 2616.8306\n",
      "INFO:tensorflow:Assets written to: ../models/fl_tuned/fl_model_store1.pkt/assets\n",
      "**********************Evaluation!!*********************Store_1\n",
      "2616.83056640625\n",
      "_____________________________________Store_2__________________________\n",
      "Epoch 1/100\n",
      "WARNING:tensorflow:Model was constructed with shape (None, None, 103) for input KerasTensor(type_spec=TensorSpec(shape=(None, None, 103), dtype=tf.float32, name='dense_8_input'), name='dense_8_input', description=\"created by layer 'dense_8_input'\"), but it was called on an input with incompatible shape (None, 103).\n",
      "WARNING:tensorflow:Model was constructed with shape (None, None, 103) for input KerasTensor(type_spec=TensorSpec(shape=(None, None, 103), dtype=tf.float32, name='dense_8_input'), name='dense_8_input', description=\"created by layer 'dense_8_input'\"), but it was called on an input with incompatible shape (None, 103).\n"
     ]
    },
    {
     "name": "stderr",
     "output_type": "stream",
     "text": [
      "2022-12-18 10:56:47.694047: I tensorflow/core/grappler/optimizers/custom_graph_optimizer_registry.cc:114] Plugin optimizer for device_type GPU is enabled.\n"
     ]
    },
    {
     "name": "stdout",
     "output_type": "stream",
     "text": [
      "262/262 [==============================] - ETA: 0s - loss: 12486.6680 - mean_squared_error: 602033216.0000 - mean_absolute_error: 12486.6680WARNING:tensorflow:Model was constructed with shape (None, None, 103) for input KerasTensor(type_spec=TensorSpec(shape=(None, None, 103), dtype=tf.float32, name='dense_8_input'), name='dense_8_input', description=\"created by layer 'dense_8_input'\"), but it was called on an input with incompatible shape (None, 103).\n"
     ]
    },
    {
     "name": "stderr",
     "output_type": "stream",
     "text": [
      "2022-12-18 10:56:52.671117: I tensorflow/core/grappler/optimizers/custom_graph_optimizer_registry.cc:114] Plugin optimizer for device_type GPU is enabled.\n"
     ]
    },
    {
     "name": "stdout",
     "output_type": "stream",
     "text": [
      "262/262 [==============================] - 6s 19ms/step - loss: 12486.6680 - mean_squared_error: 602033216.0000 - mean_absolute_error: 12486.6680 - val_loss: 10685.7930 - val_mean_squared_error: 248056288.0000 - val_mean_absolute_error: 10685.7930\n",
      "Epoch 2/100\n",
      "262/262 [==============================] - 5s 18ms/step - loss: 6326.4243 - mean_squared_error: 149533872.0000 - mean_absolute_error: 6326.4243 - val_loss: 4936.8110 - val_mean_squared_error: 74665528.0000 - val_mean_absolute_error: 4936.8110\n",
      "Epoch 3/100\n",
      "262/262 [==============================] - 5s 17ms/step - loss: 5841.0562 - mean_squared_error: 139740032.0000 - mean_absolute_error: 5841.0562 - val_loss: 4845.5073 - val_mean_squared_error: 47209372.0000 - val_mean_absolute_error: 4845.5073\n",
      "Epoch 4/100\n",
      "262/262 [==============================] - 5s 17ms/step - loss: 5525.9004 - mean_squared_error: 129400136.0000 - mean_absolute_error: 5525.9004 - val_loss: 3797.1357 - val_mean_squared_error: 35531164.0000 - val_mean_absolute_error: 3797.1357\n",
      "Epoch 5/100\n",
      "262/262 [==============================] - 5s 18ms/step - loss: 5312.6211 - mean_squared_error: 122778960.0000 - mean_absolute_error: 5312.6211 - val_loss: 7785.8843 - val_mean_squared_error: 136753808.0000 - val_mean_absolute_error: 7785.8843\n",
      "Epoch 6/100\n",
      "262/262 [==============================] - 5s 17ms/step - loss: 5102.8936 - mean_squared_error: 117165456.0000 - mean_absolute_error: 5102.8936 - val_loss: 8222.5107 - val_mean_squared_error: 197662992.0000 - val_mean_absolute_error: 8222.5107\n",
      "Epoch 7/100\n",
      "262/262 [==============================] - 5s 17ms/step - loss: 4962.5459 - mean_squared_error: 114799800.0000 - mean_absolute_error: 4962.5459 - val_loss: 6575.8281 - val_mean_squared_error: 98474704.0000 - val_mean_absolute_error: 6575.8281\n",
      "Epoch 8/100\n",
      "262/262 [==============================] - 5s 17ms/step - loss: 4757.7310 - mean_squared_error: 109469616.0000 - mean_absolute_error: 4757.7310 - val_loss: 3457.1084 - val_mean_squared_error: 34469256.0000 - val_mean_absolute_error: 3457.1084\n",
      "Epoch 9/100\n",
      "262/262 [==============================] - 5s 17ms/step - loss: 4678.8042 - mean_squared_error: 106252544.0000 - mean_absolute_error: 4678.8042 - val_loss: 3387.7012 - val_mean_squared_error: 33952496.0000 - val_mean_absolute_error: 3387.7012\n",
      "Epoch 10/100\n",
      "262/262 [==============================] - 5s 17ms/step - loss: 4608.7593 - mean_squared_error: 102446632.0000 - mean_absolute_error: 4608.7593 - val_loss: 4581.6289 - val_mean_squared_error: 54447540.0000 - val_mean_absolute_error: 4581.6289\n",
      "Epoch 11/100\n",
      "262/262 [==============================] - 5s 17ms/step - loss: 4438.8696 - mean_squared_error: 98518576.0000 - mean_absolute_error: 4438.8696 - val_loss: 5122.7344 - val_mean_squared_error: 82130400.0000 - val_mean_absolute_error: 5122.7344\n",
      "Epoch 12/100\n",
      "262/262 [==============================] - 5s 18ms/step - loss: 4392.0444 - mean_squared_error: 96414928.0000 - mean_absolute_error: 4392.0444 - val_loss: 4244.3110 - val_mean_squared_error: 50815076.0000 - val_mean_absolute_error: 4244.3110\n",
      "262/262 [==============================] - 2s 7ms/step - loss: 3743.1694 - mean_squared_error: 90626368.0000 - mean_absolute_error: 3743.1694\n",
      "30/30 [==============================] - 0s 8ms/step - loss: 3282.1509 - mean_squared_error: 38180240.0000 - mean_absolute_error: 3282.1509\n",
      "INFO:tensorflow:Assets written to: ../models/fl_tuned/fl_model_store2.pkt/assets\n",
      "**********************Evaluation!!*********************Store_2\n",
      "3282.15087890625\n",
      "_____________________________________Store_3__________________________\n",
      "Epoch 1/100\n",
      "WARNING:tensorflow:Model was constructed with shape (None, None, 103) for input KerasTensor(type_spec=TensorSpec(shape=(None, None, 103), dtype=tf.float32, name='dense_16_input'), name='dense_16_input', description=\"created by layer 'dense_16_input'\"), but it was called on an input with incompatible shape (None, 103).\n",
      "WARNING:tensorflow:Model was constructed with shape (None, None, 103) for input KerasTensor(type_spec=TensorSpec(shape=(None, None, 103), dtype=tf.float32, name='dense_16_input'), name='dense_16_input', description=\"created by layer 'dense_16_input'\"), but it was called on an input with incompatible shape (None, 103).\n"
     ]
    },
    {
     "name": "stderr",
     "output_type": "stream",
     "text": [
      "2022-12-18 10:57:47.571240: I tensorflow/core/grappler/optimizers/custom_graph_optimizer_registry.cc:114] Plugin optimizer for device_type GPU is enabled.\n"
     ]
    },
    {
     "name": "stdout",
     "output_type": "stream",
     "text": [
      "232/232 [==============================] - ETA: 0s - loss: 3771.3240 - mean_squared_error: 186457968.0000 - mean_absolute_error: 3771.3240WARNING:tensorflow:Model was constructed with shape (None, None, 103) for input KerasTensor(type_spec=TensorSpec(shape=(None, None, 103), dtype=tf.float32, name='dense_16_input'), name='dense_16_input', description=\"created by layer 'dense_16_input'\"), but it was called on an input with incompatible shape (None, 103).\n"
     ]
    },
    {
     "name": "stderr",
     "output_type": "stream",
     "text": [
      "2022-12-18 10:57:52.117346: I tensorflow/core/grappler/optimizers/custom_graph_optimizer_registry.cc:114] Plugin optimizer for device_type GPU is enabled.\n"
     ]
    },
    {
     "name": "stdout",
     "output_type": "stream",
     "text": [
      "232/232 [==============================] - 5s 19ms/step - loss: 3771.3240 - mean_squared_error: 186457968.0000 - mean_absolute_error: 3771.3240 - val_loss: 3029.1433 - val_mean_squared_error: 89599784.0000 - val_mean_absolute_error: 3029.1433\n",
      "Epoch 2/100\n",
      "232/232 [==============================] - 4s 18ms/step - loss: 2159.5398 - mean_squared_error: 61032676.0000 - mean_absolute_error: 2159.5398 - val_loss: 3110.6350 - val_mean_squared_error: 29324390.0000 - val_mean_absolute_error: 3110.6350\n",
      "Epoch 3/100\n",
      "232/232 [==============================] - 4s 18ms/step - loss: 1616.9175 - mean_squared_error: 20521694.0000 - mean_absolute_error: 1616.9175 - val_loss: 3001.9814 - val_mean_squared_error: 23554216.0000 - val_mean_absolute_error: 3001.9814\n",
      "Epoch 4/100\n",
      "232/232 [==============================] - 4s 17ms/step - loss: 1579.2712 - mean_squared_error: 18461758.0000 - mean_absolute_error: 1579.2712 - val_loss: 1733.8242 - val_mean_squared_error: 9900860.0000 - val_mean_absolute_error: 1733.8242\n",
      "Epoch 5/100\n",
      "232/232 [==============================] - 4s 17ms/step - loss: 1438.8439 - mean_squared_error: 16143197.0000 - mean_absolute_error: 1438.8439 - val_loss: 1167.2091 - val_mean_squared_error: 5358021.5000 - val_mean_absolute_error: 1167.2091\n",
      "Epoch 6/100\n",
      "232/232 [==============================] - 4s 16ms/step - loss: 1416.1749 - mean_squared_error: 16442722.0000 - mean_absolute_error: 1416.1749 - val_loss: 2560.8181 - val_mean_squared_error: 13233115.0000 - val_mean_absolute_error: 2560.8181\n",
      "Epoch 7/100\n",
      "232/232 [==============================] - 4s 16ms/step - loss: 1392.1641 - mean_squared_error: 15891347.0000 - mean_absolute_error: 1392.1641 - val_loss: 3056.1348 - val_mean_squared_error: 32796522.0000 - val_mean_absolute_error: 3056.1348\n",
      "Epoch 8/100\n",
      "232/232 [==============================] - 4s 16ms/step - loss: 1327.2166 - mean_squared_error: 13099115.0000 - mean_absolute_error: 1327.2166 - val_loss: 1699.9695 - val_mean_squared_error: 8485725.0000 - val_mean_absolute_error: 1699.9695\n",
      "Epoch 9/100\n",
      "232/232 [==============================] - 4s 17ms/step - loss: 1292.5114 - mean_squared_error: 13324019.0000 - mean_absolute_error: 1292.5114 - val_loss: 1338.4971 - val_mean_squared_error: 16599170.0000 - val_mean_absolute_error: 1338.4971\n",
      "232/232 [==============================] - 2s 7ms/step - loss: 1309.0361 - mean_squared_error: 14276973.0000 - mean_absolute_error: 1309.0361\n",
      "26/26 [==============================] - 0s 8ms/step - loss: 1106.1615 - mean_squared_error: 4132957.2500 - mean_absolute_error: 1106.1615\n",
      "INFO:tensorflow:Assets written to: ../models/fl_tuned/fl_model_store3.pkt/assets\n",
      "**********************Evaluation!!*********************Store_3\n",
      "1106.1614990234375\n",
      "_____________________________________Store_4__________________________\n",
      "Epoch 1/100\n",
      "WARNING:tensorflow:Model was constructed with shape (None, None, 103) for input KerasTensor(type_spec=TensorSpec(shape=(None, None, 103), dtype=tf.float32, name='dense_24_input'), name='dense_24_input', description=\"created by layer 'dense_24_input'\"), but it was called on an input with incompatible shape (None, 103).\n",
      "WARNING:tensorflow:Model was constructed with shape (None, None, 103) for input KerasTensor(type_spec=TensorSpec(shape=(None, None, 103), dtype=tf.float32, name='dense_24_input'), name='dense_24_input', description=\"created by layer 'dense_24_input'\"), but it was called on an input with incompatible shape (None, 103).\n"
     ]
    },
    {
     "name": "stderr",
     "output_type": "stream",
     "text": [
      "2022-12-18 10:58:27.959620: I tensorflow/core/grappler/optimizers/custom_graph_optimizer_registry.cc:114] Plugin optimizer for device_type GPU is enabled.\n"
     ]
    },
    {
     "name": "stdout",
     "output_type": "stream",
     "text": [
      "263/263 [==============================] - ETA: 0s - loss: 12857.1328 - mean_squared_error: 630498752.0000 - mean_absolute_error: 12857.1328WARNING:tensorflow:Model was constructed with shape (None, None, 103) for input KerasTensor(type_spec=TensorSpec(shape=(None, None, 103), dtype=tf.float32, name='dense_24_input'), name='dense_24_input', description=\"created by layer 'dense_24_input'\"), but it was called on an input with incompatible shape (None, 103).\n"
     ]
    },
    {
     "name": "stderr",
     "output_type": "stream",
     "text": [
      "2022-12-18 10:58:33.159082: I tensorflow/core/grappler/optimizers/custom_graph_optimizer_registry.cc:114] Plugin optimizer for device_type GPU is enabled.\n"
     ]
    },
    {
     "name": "stdout",
     "output_type": "stream",
     "text": [
      "263/263 [==============================] - 6s 19ms/step - loss: 12857.1328 - mean_squared_error: 630498752.0000 - mean_absolute_error: 12857.1328 - val_loss: 5530.0732 - val_mean_squared_error: 81060320.0000 - val_mean_absolute_error: 5530.0732\n",
      "Epoch 2/100\n",
      "263/263 [==============================] - 5s 18ms/step - loss: 6490.1855 - mean_squared_error: 171466032.0000 - mean_absolute_error: 6490.1855 - val_loss: 4360.7710 - val_mean_squared_error: 48197704.0000 - val_mean_absolute_error: 4360.7710\n",
      "Epoch 3/100\n",
      "263/263 [==============================] - 5s 18ms/step - loss: 6028.3433 - mean_squared_error: 160226880.0000 - mean_absolute_error: 6028.3433 - val_loss: 6535.4780 - val_mean_squared_error: 108828200.0000 - val_mean_absolute_error: 6535.4780\n",
      "Epoch 4/100\n",
      "263/263 [==============================] - 5s 18ms/step - loss: 5808.6992 - mean_squared_error: 153964736.0000 - mean_absolute_error: 5808.6992 - val_loss: 4014.9175 - val_mean_squared_error: 46458176.0000 - val_mean_absolute_error: 4014.9175\n",
      "Epoch 5/100\n",
      "263/263 [==============================] - 5s 18ms/step - loss: 5574.5249 - mean_squared_error: 149546320.0000 - mean_absolute_error: 5574.5249 - val_loss: 6973.7935 - val_mean_squared_error: 88281496.0000 - val_mean_absolute_error: 6973.7935\n",
      "Epoch 6/100\n",
      "263/263 [==============================] - 5s 18ms/step - loss: 5413.0259 - mean_squared_error: 145997232.0000 - mean_absolute_error: 5413.0259 - val_loss: 6439.5850 - val_mean_squared_error: 116443504.0000 - val_mean_absolute_error: 6439.5850\n",
      "Epoch 7/100\n",
      "263/263 [==============================] - 5s 17ms/step - loss: 5170.4468 - mean_squared_error: 136932176.0000 - mean_absolute_error: 5170.4468 - val_loss: 6313.6387 - val_mean_squared_error: 109343160.0000 - val_mean_absolute_error: 6313.6387\n",
      "Epoch 8/100\n",
      "263/263 [==============================] - 5s 17ms/step - loss: 5053.2036 - mean_squared_error: 134577728.0000 - mean_absolute_error: 5053.2036 - val_loss: 3959.7175 - val_mean_squared_error: 50462348.0000 - val_mean_absolute_error: 3959.7175\n",
      "263/263 [==============================] - 2s 7ms/step - loss: 4662.8247 - mean_squared_error: 137981392.0000 - mean_absolute_error: 4662.8247\n",
      "30/30 [==============================] - 0s 8ms/step - loss: 4215.6997 - mean_squared_error: 58982804.0000 - mean_absolute_error: 4215.6997\n",
      "INFO:tensorflow:Assets written to: ../models/fl_tuned/fl_model_store4.pkt/assets\n",
      "**********************Evaluation!!*********************Store_4\n",
      "4215.69970703125\n",
      "_____________________________________Store_5__________________________\n",
      "Epoch 1/100\n",
      "WARNING:tensorflow:Model was constructed with shape (None, None, 103) for input KerasTensor(type_spec=TensorSpec(shape=(None, None, 103), dtype=tf.float32, name='dense_32_input'), name='dense_32_input', description=\"created by layer 'dense_32_input'\"), but it was called on an input with incompatible shape (None, 103).\n",
      "WARNING:tensorflow:Model was constructed with shape (None, None, 103) for input KerasTensor(type_spec=TensorSpec(shape=(None, None, 103), dtype=tf.float32, name='dense_32_input'), name='dense_32_input', description=\"created by layer 'dense_32_input'\"), but it was called on an input with incompatible shape (None, 103).\n"
     ]
    },
    {
     "name": "stderr",
     "output_type": "stream",
     "text": [
      "2022-12-18 10:59:10.091038: I tensorflow/core/grappler/optimizers/custom_graph_optimizer_registry.cc:114] Plugin optimizer for device_type GPU is enabled.\n"
     ]
    },
    {
     "name": "stdout",
     "output_type": "stream",
     "text": [
      "231/231 [==============================] - ETA: 0s - loss: 2729.4468 - mean_squared_error: 47150052.0000 - mean_absolute_error: 2729.4468WARNING:tensorflow:Model was constructed with shape (None, None, 103) for input KerasTensor(type_spec=TensorSpec(shape=(None, None, 103), dtype=tf.float32, name='dense_32_input'), name='dense_32_input', description=\"created by layer 'dense_32_input'\"), but it was called on an input with incompatible shape (None, 103).\n"
     ]
    },
    {
     "name": "stderr",
     "output_type": "stream",
     "text": [
      "2022-12-18 10:59:14.728295: I tensorflow/core/grappler/optimizers/custom_graph_optimizer_registry.cc:114] Plugin optimizer for device_type GPU is enabled.\n"
     ]
    },
    {
     "name": "stdout",
     "output_type": "stream",
     "text": [
      "231/231 [==============================] - 5s 19ms/step - loss: 2729.4468 - mean_squared_error: 47150052.0000 - mean_absolute_error: 2729.4468 - val_loss: 1409.1429 - val_mean_squared_error: 26026676.0000 - val_mean_absolute_error: 1409.1429\n",
      "Epoch 2/100\n",
      "231/231 [==============================] - 4s 18ms/step - loss: 1469.8218 - mean_squared_error: 12541495.0000 - mean_absolute_error: 1469.8218 - val_loss: 1056.5945 - val_mean_squared_error: 5067905.0000 - val_mean_absolute_error: 1056.5945\n",
      "Epoch 3/100\n",
      "231/231 [==============================] - 4s 18ms/step - loss: 1275.7189 - mean_squared_error: 8957518.0000 - mean_absolute_error: 1275.7189 - val_loss: 1762.9493 - val_mean_squared_error: 9416066.0000 - val_mean_absolute_error: 1762.9493\n",
      "Epoch 4/100\n",
      "231/231 [==============================] - 4s 18ms/step - loss: 1181.8730 - mean_squared_error: 7833943.0000 - mean_absolute_error: 1181.8730 - val_loss: 1795.5673 - val_mean_squared_error: 10644861.0000 - val_mean_absolute_error: 1795.5673\n",
      "Epoch 5/100\n",
      "231/231 [==============================] - 4s 18ms/step - loss: 1124.1670 - mean_squared_error: 7626646.5000 - mean_absolute_error: 1124.1670 - val_loss: 777.3051 - val_mean_squared_error: 1939026.2500 - val_mean_absolute_error: 777.3051\n",
      "Epoch 6/100\n",
      "231/231 [==============================] - 4s 17ms/step - loss: 1099.9714 - mean_squared_error: 7135309.5000 - mean_absolute_error: 1099.9714 - val_loss: 1028.1920 - val_mean_squared_error: 5646999.5000 - val_mean_absolute_error: 1028.1920\n",
      "Epoch 7/100\n",
      "231/231 [==============================] - 4s 17ms/step - loss: 1068.3727 - mean_squared_error: 6988101.5000 - mean_absolute_error: 1068.3727 - val_loss: 1571.2880 - val_mean_squared_error: 7707500.5000 - val_mean_absolute_error: 1571.2880\n",
      "Epoch 8/100\n",
      "231/231 [==============================] - 4s 17ms/step - loss: 1031.1863 - mean_squared_error: 6631492.0000 - mean_absolute_error: 1031.1863 - val_loss: 823.0305 - val_mean_squared_error: 3049003.5000 - val_mean_absolute_error: 823.0305\n",
      "Epoch 9/100\n",
      "231/231 [==============================] - 4s 18ms/step - loss: 997.1693 - mean_squared_error: 6588154.5000 - mean_absolute_error: 997.1693 - val_loss: 796.4420 - val_mean_squared_error: 2069962.6250 - val_mean_absolute_error: 796.4420\n",
      "231/231 [==============================] - 2s 7ms/step - loss: 966.8246 - mean_squared_error: 5559791.0000 - mean_absolute_error: 966.8246\n",
      "26/26 [==============================] - 0s 8ms/step - loss: 914.4478 - mean_squared_error: 2512270.0000 - mean_absolute_error: 914.4478\n",
      "INFO:tensorflow:Assets written to: ../models/fl_tuned/fl_model_store5.pkt/assets\n",
      "**********************Evaluation!!*********************Store_5\n",
      "914.4478149414062\n",
      "_____________________________________Store_6__________________________\n",
      "Epoch 1/100\n",
      "WARNING:tensorflow:Model was constructed with shape (None, None, 103) for input KerasTensor(type_spec=TensorSpec(shape=(None, None, 103), dtype=tf.float32, name='dense_40_input'), name='dense_40_input', description=\"created by layer 'dense_40_input'\"), but it was called on an input with incompatible shape (None, 103).\n",
      "WARNING:tensorflow:Model was constructed with shape (None, None, 103) for input KerasTensor(type_spec=TensorSpec(shape=(None, None, 103), dtype=tf.float32, name='dense_40_input'), name='dense_40_input', description=\"created by layer 'dense_40_input'\"), but it was called on an input with incompatible shape (None, 103).\n"
     ]
    },
    {
     "name": "stderr",
     "output_type": "stream",
     "text": [
      "2022-12-18 10:59:51.368828: I tensorflow/core/grappler/optimizers/custom_graph_optimizer_registry.cc:114] Plugin optimizer for device_type GPU is enabled.\n"
     ]
    },
    {
     "name": "stdout",
     "output_type": "stream",
     "text": [
      "261/261 [==============================] - ETA: 0s - loss: 9099.8369 - mean_squared_error: 281217344.0000 - mean_absolute_error: 9099.8369WARNING:tensorflow:Model was constructed with shape (None, None, 103) for input KerasTensor(type_spec=TensorSpec(shape=(None, None, 103), dtype=tf.float32, name='dense_40_input'), name='dense_40_input', description=\"created by layer 'dense_40_input'\"), but it was called on an input with incompatible shape (None, 103).\n"
     ]
    },
    {
     "name": "stderr",
     "output_type": "stream",
     "text": [
      "2022-12-18 10:59:56.646607: I tensorflow/core/grappler/optimizers/custom_graph_optimizer_registry.cc:114] Plugin optimizer for device_type GPU is enabled.\n"
     ]
    },
    {
     "name": "stdout",
     "output_type": "stream",
     "text": [
      "261/261 [==============================] - 6s 19ms/step - loss: 9099.8369 - mean_squared_error: 281217344.0000 - mean_absolute_error: 9099.8369 - val_loss: 3355.2292 - val_mean_squared_error: 25065840.0000 - val_mean_absolute_error: 3355.2292\n",
      "Epoch 2/100\n",
      "261/261 [==============================] - 5s 17ms/step - loss: 5277.7759 - mean_squared_error: 106301952.0000 - mean_absolute_error: 5277.7759 - val_loss: 4270.4429 - val_mean_squared_error: 47476176.0000 - val_mean_absolute_error: 4270.4429\n",
      "Epoch 3/100\n",
      "261/261 [==============================] - 5s 17ms/step - loss: 4857.7856 - mean_squared_error: 97136576.0000 - mean_absolute_error: 4857.7856 - val_loss: 10897.9209 - val_mean_squared_error: 225094688.0000 - val_mean_absolute_error: 10897.9209\n",
      "Epoch 4/100\n",
      "261/261 [==============================] - 5s 17ms/step - loss: 4778.7007 - mean_squared_error: 97183352.0000 - mean_absolute_error: 4778.7007 - val_loss: 7021.3599 - val_mean_squared_error: 95431656.0000 - val_mean_absolute_error: 7021.3599\n",
      "Epoch 5/100\n",
      "261/261 [==============================] - 5s 17ms/step - loss: 4510.3086 - mean_squared_error: 89565808.0000 - mean_absolute_error: 4510.3086 - val_loss: 7464.7695 - val_mean_squared_error: 124113608.0000 - val_mean_absolute_error: 7464.7695\n",
      "261/261 [==============================] - 2s 7ms/step - loss: 4045.4146 - mean_squared_error: 78600296.0000 - mean_absolute_error: 4045.4146\n",
      "30/30 [==============================] - 0s 9ms/step - loss: 4767.9907 - mean_squared_error: 45128236.0000 - mean_absolute_error: 4767.9907\n",
      "INFO:tensorflow:Assets written to: ../models/fl_tuned/fl_model_store6.pkt/assets\n",
      "**********************Evaluation!!*********************Store_6\n",
      "4767.99072265625\n",
      "_____________________________________Store_7__________________________\n",
      "Epoch 1/100\n",
      "WARNING:tensorflow:Model was constructed with shape (None, None, 103) for input KerasTensor(type_spec=TensorSpec(shape=(None, None, 103), dtype=tf.float32, name='dense_48_input'), name='dense_48_input', description=\"created by layer 'dense_48_input'\"), but it was called on an input with incompatible shape (None, 103).\n",
      "WARNING:tensorflow:Model was constructed with shape (None, None, 103) for input KerasTensor(type_spec=TensorSpec(shape=(None, None, 103), dtype=tf.float32, name='dense_48_input'), name='dense_48_input', description=\"created by layer 'dense_48_input'\"), but it was called on an input with incompatible shape (None, 103).\n"
     ]
    },
    {
     "name": "stderr",
     "output_type": "stream",
     "text": [
      "2022-12-18 11:00:19.473318: I tensorflow/core/grappler/optimizers/custom_graph_optimizer_registry.cc:114] Plugin optimizer for device_type GPU is enabled.\n"
     ]
    },
    {
     "name": "stdout",
     "output_type": "stream",
     "text": [
      "250/250 [==============================] - ETA: 0s - loss: 4107.1201 - mean_squared_error: 66104168.0000 - mean_absolute_error: 4107.1201WARNING:tensorflow:Model was constructed with shape (None, None, 103) for input KerasTensor(type_spec=TensorSpec(shape=(None, None, 103), dtype=tf.float32, name='dense_48_input'), name='dense_48_input', description=\"created by layer 'dense_48_input'\"), but it was called on an input with incompatible shape (None, 103).\n"
     ]
    },
    {
     "name": "stderr",
     "output_type": "stream",
     "text": [
      "2022-12-18 11:00:24.584731: I tensorflow/core/grappler/optimizers/custom_graph_optimizer_registry.cc:114] Plugin optimizer for device_type GPU is enabled.\n"
     ]
    },
    {
     "name": "stdout",
     "output_type": "stream",
     "text": [
      "250/250 [==============================] - 6s 20ms/step - loss: 4107.1201 - mean_squared_error: 66104168.0000 - mean_absolute_error: 4107.1201 - val_loss: 5717.8608 - val_mean_squared_error: 96172736.0000 - val_mean_absolute_error: 5717.8608\n",
      "Epoch 2/100\n",
      "250/250 [==============================] - 4s 18ms/step - loss: 2533.0491 - mean_squared_error: 31385414.0000 - mean_absolute_error: 2533.0491 - val_loss: 2717.9482 - val_mean_squared_error: 43698848.0000 - val_mean_absolute_error: 2717.9482\n",
      "Epoch 3/100\n",
      "250/250 [==============================] - 4s 18ms/step - loss: 2333.5002 - mean_squared_error: 29413696.0000 - mean_absolute_error: 2333.5002 - val_loss: 10246.9062 - val_mean_squared_error: 175026560.0000 - val_mean_absolute_error: 10246.9062\n",
      "Epoch 4/100\n",
      "250/250 [==============================] - 4s 18ms/step - loss: 2114.8240 - mean_squared_error: 25013194.0000 - mean_absolute_error: 2114.8240 - val_loss: 2546.5430 - val_mean_squared_error: 31084630.0000 - val_mean_absolute_error: 2546.5430\n",
      "Epoch 5/100\n",
      "250/250 [==============================] - 4s 17ms/step - loss: 1996.3358 - mean_squared_error: 22765414.0000 - mean_absolute_error: 1996.3358 - val_loss: 4598.9414 - val_mean_squared_error: 47476948.0000 - val_mean_absolute_error: 4598.9414\n",
      "Epoch 6/100\n",
      "250/250 [==============================] - 4s 17ms/step - loss: 1919.3215 - mean_squared_error: 22817516.0000 - mean_absolute_error: 1919.3215 - val_loss: 2354.4839 - val_mean_squared_error: 25423754.0000 - val_mean_absolute_error: 2354.4839\n",
      "Epoch 7/100\n",
      "250/250 [==============================] - 4s 17ms/step - loss: 1823.2679 - mean_squared_error: 20111378.0000 - mean_absolute_error: 1823.2679 - val_loss: 3709.4792 - val_mean_squared_error: 48621564.0000 - val_mean_absolute_error: 3709.4792\n",
      "Epoch 8/100\n",
      "250/250 [==============================] - 4s 17ms/step - loss: 1780.1061 - mean_squared_error: 19962022.0000 - mean_absolute_error: 1780.1061 - val_loss: 3502.5098 - val_mean_squared_error: 58398772.0000 - val_mean_absolute_error: 3502.5098\n",
      "Epoch 9/100\n",
      "250/250 [==============================] - 4s 17ms/step - loss: 1746.5793 - mean_squared_error: 19687992.0000 - mean_absolute_error: 1746.5793 - val_loss: 5185.4258 - val_mean_squared_error: 71073736.0000 - val_mean_absolute_error: 5185.4258\n",
      "Epoch 10/100\n",
      "250/250 [==============================] - 4s 17ms/step - loss: 1698.3688 - mean_squared_error: 19244230.0000 - mean_absolute_error: 1698.3688 - val_loss: 2310.6255 - val_mean_squared_error: 23374792.0000 - val_mean_absolute_error: 2310.6255\n",
      "250/250 [==============================] - 2s 7ms/step - loss: 1852.1049 - mean_squared_error: 19657696.0000 - mean_absolute_error: 1852.1049\n",
      "28/28 [==============================] - 0s 9ms/step - loss: 1435.2197 - mean_squared_error: 7850834.5000 - mean_absolute_error: 1435.2197\n",
      "INFO:tensorflow:Assets written to: ../models/fl_tuned/fl_model_store7.pkt/assets\n",
      "**********************Evaluation!!*********************Store_7\n",
      "1435.2197265625\n",
      "_____________________________________Store_8__________________________\n",
      "Epoch 1/100\n",
      "WARNING:tensorflow:Model was constructed with shape (None, None, 103) for input KerasTensor(type_spec=TensorSpec(shape=(None, None, 103), dtype=tf.float32, name='dense_56_input'), name='dense_56_input', description=\"created by layer 'dense_56_input'\"), but it was called on an input with incompatible shape (None, 103).\n",
      "WARNING:tensorflow:Model was constructed with shape (None, None, 103) for input KerasTensor(type_spec=TensorSpec(shape=(None, None, 103), dtype=tf.float32, name='dense_56_input'), name='dense_56_input', description=\"created by layer 'dense_56_input'\"), but it was called on an input with incompatible shape (None, 103).\n"
     ]
    },
    {
     "name": "stderr",
     "output_type": "stream",
     "text": [
      "2022-12-18 11:01:08.221151: I tensorflow/core/grappler/optimizers/custom_graph_optimizer_registry.cc:114] Plugin optimizer for device_type GPU is enabled.\n"
     ]
    },
    {
     "name": "stdout",
     "output_type": "stream",
     "text": [
      "253/253 [==============================] - ETA: 0s - loss: 6142.6123 - mean_squared_error: 118674968.0000 - mean_absolute_error: 6142.6123WARNING:tensorflow:Model was constructed with shape (None, None, 103) for input KerasTensor(type_spec=TensorSpec(shape=(None, None, 103), dtype=tf.float32, name='dense_56_input'), name='dense_56_input', description=\"created by layer 'dense_56_input'\"), but it was called on an input with incompatible shape (None, 103).\n"
     ]
    },
    {
     "name": "stderr",
     "output_type": "stream",
     "text": [
      "2022-12-18 11:01:13.558115: I tensorflow/core/grappler/optimizers/custom_graph_optimizer_registry.cc:114] Plugin optimizer for device_type GPU is enabled.\n"
     ]
    },
    {
     "name": "stdout",
     "output_type": "stream",
     "text": [
      "253/253 [==============================] - 6s 19ms/step - loss: 6142.6123 - mean_squared_error: 118674968.0000 - mean_absolute_error: 6142.6123 - val_loss: 2680.2229 - val_mean_squared_error: 20347654.0000 - val_mean_absolute_error: 2680.2229\n",
      "Epoch 2/100\n",
      "253/253 [==============================] - 4s 17ms/step - loss: 3240.4988 - mean_squared_error: 37605068.0000 - mean_absolute_error: 3240.4988 - val_loss: 4087.8835 - val_mean_squared_error: 41848584.0000 - val_mean_absolute_error: 4087.8835\n",
      "Epoch 3/100\n",
      "253/253 [==============================] - 5s 18ms/step - loss: 3002.3315 - mean_squared_error: 34484316.0000 - mean_absolute_error: 3002.3315 - val_loss: 2382.7634 - val_mean_squared_error: 19232944.0000 - val_mean_absolute_error: 2382.7634\n",
      "Epoch 4/100\n",
      "253/253 [==============================] - 4s 18ms/step - loss: 2845.8906 - mean_squared_error: 32860182.0000 - mean_absolute_error: 2845.8906 - val_loss: 2315.5664 - val_mean_squared_error: 19540912.0000 - val_mean_absolute_error: 2315.5664\n",
      "Epoch 5/100\n",
      "253/253 [==============================] - 5s 18ms/step - loss: 2761.8098 - mean_squared_error: 31814430.0000 - mean_absolute_error: 2761.8098 - val_loss: 2258.9697 - val_mean_squared_error: 15148555.0000 - val_mean_absolute_error: 2258.9697\n",
      "Epoch 6/100\n",
      "253/253 [==============================] - 4s 17ms/step - loss: 2684.2170 - mean_squared_error: 29635126.0000 - mean_absolute_error: 2684.2170 - val_loss: 3030.6106 - val_mean_squared_error: 29091376.0000 - val_mean_absolute_error: 3030.6106\n",
      "Epoch 7/100\n",
      "253/253 [==============================] - 4s 17ms/step - loss: 2593.2168 - mean_squared_error: 30275936.0000 - mean_absolute_error: 2593.2168 - val_loss: 2928.5276 - val_mean_squared_error: 18000950.0000 - val_mean_absolute_error: 2928.5276\n",
      "Epoch 8/100\n",
      "253/253 [==============================] - 4s 17ms/step - loss: 2485.0295 - mean_squared_error: 27641742.0000 - mean_absolute_error: 2485.0295 - val_loss: 1905.7164 - val_mean_squared_error: 11328926.0000 - val_mean_absolute_error: 1905.7164\n",
      "Epoch 9/100\n",
      "253/253 [==============================] - 4s 17ms/step - loss: 2420.6929 - mean_squared_error: 26593990.0000 - mean_absolute_error: 2420.6929 - val_loss: 2426.0962 - val_mean_squared_error: 17393050.0000 - val_mean_absolute_error: 2426.0962\n",
      "Epoch 10/100\n",
      "253/253 [==============================] - 4s 17ms/step - loss: 2356.1868 - mean_squared_error: 25426872.0000 - mean_absolute_error: 2356.1868 - val_loss: 2357.3391 - val_mean_squared_error: 17677214.0000 - val_mean_absolute_error: 2357.3391\n",
      "Epoch 11/100\n",
      "253/253 [==============================] - 4s 17ms/step - loss: 2349.7883 - mean_squared_error: 25691550.0000 - mean_absolute_error: 2349.7883 - val_loss: 1980.1489 - val_mean_squared_error: 11538602.0000 - val_mean_absolute_error: 1980.1489\n",
      "Epoch 12/100\n",
      "253/253 [==============================] - 4s 17ms/step - loss: 2307.0876 - mean_squared_error: 24724774.0000 - mean_absolute_error: 2307.0876 - val_loss: 2746.2961 - val_mean_squared_error: 21307880.0000 - val_mean_absolute_error: 2746.2961\n",
      "253/253 [==============================] - 2s 7ms/step - loss: 2536.1621 - mean_squared_error: 24621804.0000 - mean_absolute_error: 2536.1621\n",
      "29/29 [==============================] - 0s 8ms/step - loss: 1931.5132 - mean_squared_error: 11561581.0000 - mean_absolute_error: 1931.5132\n",
      "INFO:tensorflow:Assets written to: ../models/fl_tuned/fl_model_store8.pkt/assets\n",
      "**********************Evaluation!!*********************Store_8\n",
      "1931.51318359375\n",
      "_____________________________________Store_9__________________________\n",
      "Epoch 1/100\n",
      "WARNING:tensorflow:Model was constructed with shape (None, None, 103) for input KerasTensor(type_spec=TensorSpec(shape=(None, None, 103), dtype=tf.float32, name='dense_64_input'), name='dense_64_input', description=\"created by layer 'dense_64_input'\"), but it was called on an input with incompatible shape (None, 103).\n",
      "WARNING:tensorflow:Model was constructed with shape (None, None, 103) for input KerasTensor(type_spec=TensorSpec(shape=(None, None, 103), dtype=tf.float32, name='dense_64_input'), name='dense_64_input', description=\"created by layer 'dense_64_input'\"), but it was called on an input with incompatible shape (None, 103).\n"
     ]
    },
    {
     "name": "stderr",
     "output_type": "stream",
     "text": [
      "2022-12-18 11:02:07.067798: I tensorflow/core/grappler/optimizers/custom_graph_optimizer_registry.cc:114] Plugin optimizer for device_type GPU is enabled.\n"
     ]
    },
    {
     "name": "stdout",
     "output_type": "stream",
     "text": [
      "226/226 [==============================] - ETA: 0s - loss: 4718.5938 - mean_squared_error: 117097696.0000 - mean_absolute_error: 4718.5938WARNING:tensorflow:Model was constructed with shape (None, None, 103) for input KerasTensor(type_spec=TensorSpec(shape=(None, None, 103), dtype=tf.float32, name='dense_64_input'), name='dense_64_input', description=\"created by layer 'dense_64_input'\"), but it was called on an input with incompatible shape (None, 103).\n"
     ]
    },
    {
     "name": "stderr",
     "output_type": "stream",
     "text": [
      "2022-12-18 11:02:11.734763: I tensorflow/core/grappler/optimizers/custom_graph_optimizer_registry.cc:114] Plugin optimizer for device_type GPU is enabled.\n"
     ]
    },
    {
     "name": "stdout",
     "output_type": "stream",
     "text": [
      "226/226 [==============================] - 5s 20ms/step - loss: 4718.5938 - mean_squared_error: 117097696.0000 - mean_absolute_error: 4718.5938 - val_loss: 2549.1304 - val_mean_squared_error: 45428924.0000 - val_mean_absolute_error: 2549.1304\n",
      "Epoch 2/100\n",
      "226/226 [==============================] - 4s 18ms/step - loss: 2604.8027 - mean_squared_error: 35305568.0000 - mean_absolute_error: 2604.8027 - val_loss: 5287.7993 - val_mean_squared_error: 71472904.0000 - val_mean_absolute_error: 5287.7993\n",
      "Epoch 3/100\n",
      "226/226 [==============================] - 4s 18ms/step - loss: 2207.9802 - mean_squared_error: 21455708.0000 - mean_absolute_error: 2207.9802 - val_loss: 1570.0638 - val_mean_squared_error: 8779535.0000 - val_mean_absolute_error: 1570.0638\n",
      "Epoch 4/100\n",
      "226/226 [==============================] - 4s 18ms/step - loss: 2083.0923 - mean_squared_error: 19254648.0000 - mean_absolute_error: 2083.0923 - val_loss: 1428.3956 - val_mean_squared_error: 7872800.0000 - val_mean_absolute_error: 1428.3956\n",
      "Epoch 5/100\n",
      "226/226 [==============================] - 4s 18ms/step - loss: 2024.8875 - mean_squared_error: 19735922.0000 - mean_absolute_error: 2024.8875 - val_loss: 2485.0513 - val_mean_squared_error: 19129618.0000 - val_mean_absolute_error: 2485.0513\n",
      "Epoch 6/100\n",
      "226/226 [==============================] - 4s 18ms/step - loss: 1936.8768 - mean_squared_error: 18821454.0000 - mean_absolute_error: 1936.8768 - val_loss: 2097.7798 - val_mean_squared_error: 13856413.0000 - val_mean_absolute_error: 2097.7798\n",
      "Epoch 7/100\n",
      "226/226 [==============================] - 4s 18ms/step - loss: 1856.5688 - mean_squared_error: 17919654.0000 - mean_absolute_error: 1856.5688 - val_loss: 2498.3018 - val_mean_squared_error: 16428329.0000 - val_mean_absolute_error: 2498.3018\n",
      "Epoch 8/100\n",
      "226/226 [==============================] - 4s 18ms/step - loss: 1807.6888 - mean_squared_error: 17390302.0000 - mean_absolute_error: 1807.6888 - val_loss: 1665.2653 - val_mean_squared_error: 10120640.0000 - val_mean_absolute_error: 1665.2653\n",
      "226/226 [==============================] - 2s 7ms/step - loss: 1572.0859 - mean_squared_error: 15330162.0000 - mean_absolute_error: 1572.0859\n",
      "26/26 [==============================] - 0s 10ms/step - loss: 1447.5170 - mean_squared_error: 10475696.0000 - mean_absolute_error: 1447.5170\n",
      "INFO:tensorflow:Assets written to: ../models/fl_tuned/fl_model_store9.pkt/assets\n",
      "**********************Evaluation!!*********************Store_9\n",
      "1447.5169677734375\n",
      "_____________________________________Store_10__________________________\n",
      "Epoch 1/100\n",
      "WARNING:tensorflow:Model was constructed with shape (None, None, 103) for input KerasTensor(type_spec=TensorSpec(shape=(None, None, 103), dtype=tf.float32, name='dense_72_input'), name='dense_72_input', description=\"created by layer 'dense_72_input'\"), but it was called on an input with incompatible shape (None, 103).\n",
      "WARNING:tensorflow:Model was constructed with shape (None, None, 103) for input KerasTensor(type_spec=TensorSpec(shape=(None, None, 103), dtype=tf.float32, name='dense_72_input'), name='dense_72_input', description=\"created by layer 'dense_72_input'\"), but it was called on an input with incompatible shape (None, 103).\n"
     ]
    },
    {
     "name": "stderr",
     "output_type": "stream",
     "text": [
      "2022-12-18 11:02:43.926986: I tensorflow/core/grappler/optimizers/custom_graph_optimizer_registry.cc:114] Plugin optimizer for device_type GPU is enabled.\n"
     ]
    },
    {
     "name": "stdout",
     "output_type": "stream",
     "text": [
      "264/264 [==============================] - ETA: 0s - loss: 12088.2686 - mean_squared_error: 607269184.0000 - mean_absolute_error: 12088.2686WARNING:tensorflow:Model was constructed with shape (None, None, 103) for input KerasTensor(type_spec=TensorSpec(shape=(None, None, 103), dtype=tf.float32, name='dense_72_input'), name='dense_72_input', description=\"created by layer 'dense_72_input'\"), but it was called on an input with incompatible shape (None, 103).\n"
     ]
    },
    {
     "name": "stderr",
     "output_type": "stream",
     "text": [
      "2022-12-18 11:02:49.617145: I tensorflow/core/grappler/optimizers/custom_graph_optimizer_registry.cc:114] Plugin optimizer for device_type GPU is enabled.\n"
     ]
    },
    {
     "name": "stdout",
     "output_type": "stream",
     "text": [
      "264/264 [==============================] - 6s 20ms/step - loss: 12088.2686 - mean_squared_error: 607269184.0000 - mean_absolute_error: 12088.2686 - val_loss: 4991.4751 - val_mean_squared_error: 59751920.0000 - val_mean_absolute_error: 4991.4751\n",
      "Epoch 2/100\n",
      "264/264 [==============================] - 5s 18ms/step - loss: 6442.5615 - mean_squared_error: 271912864.0000 - mean_absolute_error: 6442.5615 - val_loss: 3354.9387 - val_mean_squared_error: 42224160.0000 - val_mean_absolute_error: 3354.9387\n",
      "Epoch 3/100\n",
      "264/264 [==============================] - 5s 17ms/step - loss: 6088.1401 - mean_squared_error: 250143776.0000 - mean_absolute_error: 6088.1401 - val_loss: 9375.7666 - val_mean_squared_error: 220840176.0000 - val_mean_absolute_error: 9375.7666\n",
      "Epoch 4/100\n",
      "264/264 [==============================] - 5s 18ms/step - loss: 5820.2759 - mean_squared_error: 247196416.0000 - mean_absolute_error: 5820.2759 - val_loss: 8264.7705 - val_mean_squared_error: 141541600.0000 - val_mean_absolute_error: 8264.7705\n",
      "Epoch 5/100\n",
      "264/264 [==============================] - 5s 18ms/step - loss: 5648.5298 - mean_squared_error: 241948016.0000 - mean_absolute_error: 5648.5298 - val_loss: 8053.5151 - val_mean_squared_error: 143999392.0000 - val_mean_absolute_error: 8053.5151\n",
      "Epoch 6/100\n",
      "264/264 [==============================] - 5s 18ms/step - loss: 5477.4355 - mean_squared_error: 238198224.0000 - mean_absolute_error: 5477.4355 - val_loss: 4822.1665 - val_mean_squared_error: 99238384.0000 - val_mean_absolute_error: 4822.1665\n",
      "264/264 [==============================] - 2s 7ms/step - loss: 8979.0801 - mean_squared_error: 306179072.0000 - mean_absolute_error: 8979.0801\n",
      "29/29 [==============================] - 0s 8ms/step - loss: 3637.4358 - mean_squared_error: 48592596.0000 - mean_absolute_error: 3637.4358\n",
      "INFO:tensorflow:Assets written to: ../models/fl_tuned/fl_model_store10.pkt/assets\n",
      "**********************Evaluation!!*********************Store_10\n",
      "3637.435791015625\n",
      "_____________________________________Store_11__________________________\n",
      "Epoch 1/100\n",
      "WARNING:tensorflow:Model was constructed with shape (None, None, 103) for input KerasTensor(type_spec=TensorSpec(shape=(None, None, 103), dtype=tf.float32, name='dense_80_input'), name='dense_80_input', description=\"created by layer 'dense_80_input'\"), but it was called on an input with incompatible shape (None, 103).\n",
      "WARNING:tensorflow:Model was constructed with shape (None, None, 103) for input KerasTensor(type_spec=TensorSpec(shape=(None, None, 103), dtype=tf.float32, name='dense_80_input'), name='dense_80_input', description=\"created by layer 'dense_80_input'\"), but it was called on an input with incompatible shape (None, 103).\n"
     ]
    },
    {
     "name": "stderr",
     "output_type": "stream",
     "text": [
      "2022-12-18 11:03:17.621591: I tensorflow/core/grappler/optimizers/custom_graph_optimizer_registry.cc:114] Plugin optimizer for device_type GPU is enabled.\n"
     ]
    },
    {
     "name": "stdout",
     "output_type": "stream",
     "text": [
      "257/257 [==============================] - ETA: 0s - loss: 8390.3750 - mean_squared_error: 228039136.0000 - mean_absolute_error: 8390.3750WARNING:tensorflow:Model was constructed with shape (None, None, 103) for input KerasTensor(type_spec=TensorSpec(shape=(None, None, 103), dtype=tf.float32, name='dense_80_input'), name='dense_80_input', description=\"created by layer 'dense_80_input'\"), but it was called on an input with incompatible shape (None, 103).\n"
     ]
    },
    {
     "name": "stderr",
     "output_type": "stream",
     "text": [
      "2022-12-18 11:03:23.206719: I tensorflow/core/grappler/optimizers/custom_graph_optimizer_registry.cc:114] Plugin optimizer for device_type GPU is enabled.\n"
     ]
    },
    {
     "name": "stdout",
     "output_type": "stream",
     "text": [
      "257/257 [==============================] - 6s 20ms/step - loss: 8390.3750 - mean_squared_error: 228039136.0000 - mean_absolute_error: 8390.3750 - val_loss: 3594.5996 - val_mean_squared_error: 26177238.0000 - val_mean_absolute_error: 3594.5996\n",
      "Epoch 2/100\n",
      "257/257 [==============================] - 5s 18ms/step - loss: 4485.0537 - mean_squared_error: 78599288.0000 - mean_absolute_error: 4485.0537 - val_loss: 2252.6589 - val_mean_squared_error: 12951257.0000 - val_mean_absolute_error: 2252.6589\n",
      "Epoch 3/100\n",
      "257/257 [==============================] - 5s 18ms/step - loss: 4215.7485 - mean_squared_error: 74132648.0000 - mean_absolute_error: 4215.7485 - val_loss: 9609.8516 - val_mean_squared_error: 170979744.0000 - val_mean_absolute_error: 9609.8516\n",
      "Epoch 4/100\n",
      "257/257 [==============================] - 5s 18ms/step - loss: 4015.9104 - mean_squared_error: 68884720.0000 - mean_absolute_error: 4015.9104 - val_loss: 3158.3972 - val_mean_squared_error: 21956340.0000 - val_mean_absolute_error: 3158.3972\n",
      "Epoch 5/100\n",
      "257/257 [==============================] - 5s 18ms/step - loss: 3904.6980 - mean_squared_error: 68768280.0000 - mean_absolute_error: 3904.6980 - val_loss: 5296.8081 - val_mean_squared_error: 48834860.0000 - val_mean_absolute_error: 5296.8081\n",
      "Epoch 6/100\n",
      "257/257 [==============================] - 4s 18ms/step - loss: 3716.0828 - mean_squared_error: 65827932.0000 - mean_absolute_error: 3716.0828 - val_loss: 7035.1929 - val_mean_squared_error: 120526640.0000 - val_mean_absolute_error: 7035.1929\n",
      "257/257 [==============================] - 2s 7ms/step - loss: 3257.9475 - mean_squared_error: 63214128.0000 - mean_absolute_error: 3257.9475\n",
      "29/29 [==============================] - 0s 7ms/step - loss: 2974.4807 - mean_squared_error: 25015896.0000 - mean_absolute_error: 2974.4807\n",
      "INFO:tensorflow:Assets written to: ../models/fl_tuned/fl_model_store11.pkt/assets\n",
      "**********************Evaluation!!*********************Store_11\n",
      "2974.480712890625\n",
      "_____________________________________Store_12__________________________\n",
      "Epoch 1/100\n",
      "WARNING:tensorflow:Model was constructed with shape (None, None, 103) for input KerasTensor(type_spec=TensorSpec(shape=(None, None, 103), dtype=tf.float32, name='dense_88_input'), name='dense_88_input', description=\"created by layer 'dense_88_input'\"), but it was called on an input with incompatible shape (None, 103).\n",
      "WARNING:tensorflow:Model was constructed with shape (None, None, 103) for input KerasTensor(type_spec=TensorSpec(shape=(None, None, 103), dtype=tf.float32, name='dense_88_input'), name='dense_88_input', description=\"created by layer 'dense_88_input'\"), but it was called on an input with incompatible shape (None, 103).\n"
     ]
    },
    {
     "name": "stderr",
     "output_type": "stream",
     "text": [
      "2022-12-18 11:03:50.258972: I tensorflow/core/grappler/optimizers/custom_graph_optimizer_registry.cc:114] Plugin optimizer for device_type GPU is enabled.\n"
     ]
    },
    {
     "name": "stdout",
     "output_type": "stream",
     "text": [
      "247/247 [==============================] - ETA: 0s - loss: 6994.1523 - mean_squared_error: 188476144.0000 - mean_absolute_error: 6994.1523WARNING:tensorflow:Model was constructed with shape (None, None, 103) for input KerasTensor(type_spec=TensorSpec(shape=(None, None, 103), dtype=tf.float32, name='dense_88_input'), name='dense_88_input', description=\"created by layer 'dense_88_input'\"), but it was called on an input with incompatible shape (None, 103).\n"
     ]
    },
    {
     "name": "stderr",
     "output_type": "stream",
     "text": [
      "2022-12-18 11:03:55.704107: I tensorflow/core/grappler/optimizers/custom_graph_optimizer_registry.cc:114] Plugin optimizer for device_type GPU is enabled.\n"
     ]
    },
    {
     "name": "stdout",
     "output_type": "stream",
     "text": [
      "247/247 [==============================] - 6s 20ms/step - loss: 6994.1523 - mean_squared_error: 188476144.0000 - mean_absolute_error: 6994.1523 - val_loss: 4540.3525 - val_mean_squared_error: 36406520.0000 - val_mean_absolute_error: 4540.3525\n",
      "Epoch 2/100\n",
      "247/247 [==============================] - 4s 18ms/step - loss: 3709.5073 - mean_squared_error: 83270688.0000 - mean_absolute_error: 3709.5073 - val_loss: 2760.5522 - val_mean_squared_error: 19304704.0000 - val_mean_absolute_error: 2760.5522\n",
      "Epoch 3/100\n",
      "247/247 [==============================] - 4s 17ms/step - loss: 3465.5256 - mean_squared_error: 79553432.0000 - mean_absolute_error: 3465.5256 - val_loss: 2798.1667 - val_mean_squared_error: 19662718.0000 - val_mean_absolute_error: 2798.1667\n",
      "Epoch 4/100\n",
      "247/247 [==============================] - 4s 17ms/step - loss: 3266.4561 - mean_squared_error: 75564448.0000 - mean_absolute_error: 3266.4561 - val_loss: 3293.6150 - val_mean_squared_error: 24931760.0000 - val_mean_absolute_error: 3293.6150\n",
      "Epoch 5/100\n",
      "247/247 [==============================] - 4s 17ms/step - loss: 3155.6418 - mean_squared_error: 71510168.0000 - mean_absolute_error: 3155.6418 - val_loss: 2726.6611 - val_mean_squared_error: 18297414.0000 - val_mean_absolute_error: 2726.6611\n",
      "Epoch 6/100\n",
      "247/247 [==============================] - 4s 17ms/step - loss: 3003.3760 - mean_squared_error: 70001592.0000 - mean_absolute_error: 3003.3760 - val_loss: 2309.3721 - val_mean_squared_error: 13522546.0000 - val_mean_absolute_error: 2309.3721\n",
      "Epoch 7/100\n",
      "247/247 [==============================] - 4s 17ms/step - loss: 2930.8574 - mean_squared_error: 68301296.0000 - mean_absolute_error: 2930.8574 - val_loss: 2607.9028 - val_mean_squared_error: 16814130.0000 - val_mean_absolute_error: 2607.9028\n",
      "Epoch 8/100\n",
      "247/247 [==============================] - 4s 17ms/step - loss: 2809.5901 - mean_squared_error: 68214784.0000 - mean_absolute_error: 2809.5901 - val_loss: 3113.1116 - val_mean_squared_error: 25403548.0000 - val_mean_absolute_error: 3113.1116\n",
      "Epoch 9/100\n",
      "247/247 [==============================] - 4s 17ms/step - loss: 2777.7722 - mean_squared_error: 65580964.0000 - mean_absolute_error: 2777.7722 - val_loss: 3122.5645 - val_mean_squared_error: 24258362.0000 - val_mean_absolute_error: 3122.5645\n",
      "Epoch 10/100\n",
      "247/247 [==============================] - 5s 18ms/step - loss: 2743.3315 - mean_squared_error: 67981504.0000 - mean_absolute_error: 2743.3315 - val_loss: 1966.1134 - val_mean_squared_error: 10048563.0000 - val_mean_absolute_error: 1966.1134\n",
      "Epoch 11/100\n",
      "247/247 [==============================] - 4s 17ms/step - loss: 2678.2776 - mean_squared_error: 67053680.0000 - mean_absolute_error: 2678.2776 - val_loss: 2676.8108 - val_mean_squared_error: 18513070.0000 - val_mean_absolute_error: 2676.8108\n",
      "Epoch 12/100\n",
      "247/247 [==============================] - 4s 18ms/step - loss: 2626.8906 - mean_squared_error: 66945204.0000 - mean_absolute_error: 2626.8906 - val_loss: 1692.0457 - val_mean_squared_error: 7295487.5000 - val_mean_absolute_error: 1692.0457\n",
      "Epoch 13/100\n",
      "247/247 [==============================] - 4s 17ms/step - loss: 2592.2319 - mean_squared_error: 62257668.0000 - mean_absolute_error: 2592.2319 - val_loss: 1511.0925 - val_mean_squared_error: 6196041.0000 - val_mean_absolute_error: 1511.0925\n",
      "Epoch 14/100\n",
      "247/247 [==============================] - 4s 18ms/step - loss: 2545.9595 - mean_squared_error: 63144332.0000 - mean_absolute_error: 2545.9595 - val_loss: 2116.1367 - val_mean_squared_error: 10442309.0000 - val_mean_absolute_error: 2116.1367\n",
      "Epoch 15/100\n",
      "247/247 [==============================] - 4s 17ms/step - loss: 2510.6799 - mean_squared_error: 63229080.0000 - mean_absolute_error: 2510.6799 - val_loss: 2211.8882 - val_mean_squared_error: 12850181.0000 - val_mean_absolute_error: 2211.8882\n",
      "Epoch 16/100\n",
      "247/247 [==============================] - 4s 17ms/step - loss: 2490.2400 - mean_squared_error: 62249172.0000 - mean_absolute_error: 2490.2400 - val_loss: 2044.7450 - val_mean_squared_error: 11668763.0000 - val_mean_absolute_error: 2044.7450\n",
      "Epoch 17/100\n",
      "247/247 [==============================] - 4s 18ms/step - loss: 2485.0825 - mean_squared_error: 61176824.0000 - mean_absolute_error: 2485.0825 - val_loss: 1416.8689 - val_mean_squared_error: 4777643.0000 - val_mean_absolute_error: 1416.8689\n",
      "247/247 [==============================] - 2s 7ms/step - loss: 2182.6682 - mean_squared_error: 63471400.0000 - mean_absolute_error: 2182.6682\n",
      "28/28 [==============================] - 0s 9ms/step - loss: 2201.1887 - mean_squared_error: 26835310.0000 - mean_absolute_error: 2201.1887\n",
      "INFO:tensorflow:Assets written to: ../models/fl_tuned/fl_model_store12.pkt/assets\n",
      "**********************Evaluation!!*********************Store_12\n",
      "2201.188720703125\n",
      "_____________________________________Store_13__________________________\n",
      "Epoch 1/100\n",
      "WARNING:tensorflow:Model was constructed with shape (None, None, 103) for input KerasTensor(type_spec=TensorSpec(shape=(None, None, 103), dtype=tf.float32, name='dense_96_input'), name='dense_96_input', description=\"created by layer 'dense_96_input'\"), but it was called on an input with incompatible shape (None, 103).\n",
      "WARNING:tensorflow:Model was constructed with shape (None, None, 103) for input KerasTensor(type_spec=TensorSpec(shape=(None, None, 103), dtype=tf.float32, name='dense_96_input'), name='dense_96_input', description=\"created by layer 'dense_96_input'\"), but it was called on an input with incompatible shape (None, 103).\n"
     ]
    },
    {
     "name": "stderr",
     "output_type": "stream",
     "text": [
      "2022-12-18 11:05:09.648826: I tensorflow/core/grappler/optimizers/custom_graph_optimizer_registry.cc:114] Plugin optimizer for device_type GPU is enabled.\n"
     ]
    },
    {
     "name": "stdout",
     "output_type": "stream",
     "text": [
      "268/268 [==============================] - ETA: 0s - loss: 12220.7988 - mean_squared_error: 576638912.0000 - mean_absolute_error: 12220.7988WARNING:tensorflow:Model was constructed with shape (None, None, 103) for input KerasTensor(type_spec=TensorSpec(shape=(None, None, 103), dtype=tf.float32, name='dense_96_input'), name='dense_96_input', description=\"created by layer 'dense_96_input'\"), but it was called on an input with incompatible shape (None, 103).\n"
     ]
    },
    {
     "name": "stderr",
     "output_type": "stream",
     "text": [
      "2022-12-18 11:05:15.791542: I tensorflow/core/grappler/optimizers/custom_graph_optimizer_registry.cc:114] Plugin optimizer for device_type GPU is enabled.\n"
     ]
    },
    {
     "name": "stdout",
     "output_type": "stream",
     "text": [
      "268/268 [==============================] - 7s 21ms/step - loss: 12220.7988 - mean_squared_error: 576638912.0000 - mean_absolute_error: 12220.7988 - val_loss: 7476.5146 - val_mean_squared_error: 165774096.0000 - val_mean_absolute_error: 7476.5146\n",
      "Epoch 2/100\n",
      "268/268 [==============================] - 5s 17ms/step - loss: 6516.9263 - mean_squared_error: 180002416.0000 - mean_absolute_error: 6516.9263 - val_loss: 8547.6221 - val_mean_squared_error: 184862208.0000 - val_mean_absolute_error: 8547.6221\n",
      "Epoch 3/100\n",
      "268/268 [==============================] - 5s 17ms/step - loss: 6054.5845 - mean_squared_error: 165845680.0000 - mean_absolute_error: 6054.5845 - val_loss: 4999.1138 - val_mean_squared_error: 62578312.0000 - val_mean_absolute_error: 4999.1138\n",
      "Epoch 4/100\n",
      "268/268 [==============================] - 5s 17ms/step - loss: 5798.3789 - mean_squared_error: 162508720.0000 - mean_absolute_error: 5798.3789 - val_loss: 3443.3452 - val_mean_squared_error: 42938800.0000 - val_mean_absolute_error: 3443.3452\n",
      "Epoch 5/100\n",
      "268/268 [==============================] - 5s 17ms/step - loss: 5423.4365 - mean_squared_error: 149754400.0000 - mean_absolute_error: 5423.4365 - val_loss: 6514.6025 - val_mean_squared_error: 139135920.0000 - val_mean_absolute_error: 6514.6025\n",
      "Epoch 6/100\n",
      "268/268 [==============================] - 5s 17ms/step - loss: 5318.2964 - mean_squared_error: 147184672.0000 - mean_absolute_error: 5318.2964 - val_loss: 6586.4307 - val_mean_squared_error: 125570648.0000 - val_mean_absolute_error: 6586.4307\n",
      "Epoch 7/100\n",
      "268/268 [==============================] - 5s 17ms/step - loss: 5149.5469 - mean_squared_error: 142832032.0000 - mean_absolute_error: 5149.5469 - val_loss: 5861.4111 - val_mean_squared_error: 100555496.0000 - val_mean_absolute_error: 5861.4111\n",
      "Epoch 8/100\n",
      "268/268 [==============================] - 5s 17ms/step - loss: 4986.1938 - mean_squared_error: 137986576.0000 - mean_absolute_error: 4986.1938 - val_loss: 4218.4722 - val_mean_squared_error: 53528812.0000 - val_mean_absolute_error: 4218.4722\n",
      "268/268 [==============================] - 2s 6ms/step - loss: 4777.8257 - mean_squared_error: 136900256.0000 - mean_absolute_error: 4777.8257\n",
      "30/30 [==============================] - 0s 9ms/step - loss: 3075.7019 - mean_squared_error: 42645624.0000 - mean_absolute_error: 3075.7019\n",
      "INFO:tensorflow:Assets written to: ../models/fl_tuned/fl_model_store13.pkt/assets\n",
      "**********************Evaluation!!*********************Store_13\n",
      "3075.701904296875\n",
      "_____________________________________Store_14__________________________\n",
      "Epoch 1/100\n",
      "WARNING:tensorflow:Model was constructed with shape (None, None, 103) for input KerasTensor(type_spec=TensorSpec(shape=(None, None, 103), dtype=tf.float32, name='dense_104_input'), name='dense_104_input', description=\"created by layer 'dense_104_input'\"), but it was called on an input with incompatible shape (None, 103).\n",
      "WARNING:tensorflow:Model was constructed with shape (None, None, 103) for input KerasTensor(type_spec=TensorSpec(shape=(None, None, 103), dtype=tf.float32, name='dense_104_input'), name='dense_104_input', description=\"created by layer 'dense_104_input'\"), but it was called on an input with incompatible shape (None, 103).\n"
     ]
    },
    {
     "name": "stderr",
     "output_type": "stream",
     "text": [
      "2022-12-18 11:05:52.032589: I tensorflow/core/grappler/optimizers/custom_graph_optimizer_registry.cc:114] Plugin optimizer for device_type GPU is enabled.\n"
     ]
    },
    {
     "name": "stdout",
     "output_type": "stream",
     "text": [
      "256/256 [==============================] - ETA: 0s - loss: 13973.0107 - mean_squared_error: 802454400.0000 - mean_absolute_error: 13973.0107WARNING:tensorflow:Model was constructed with shape (None, None, 103) for input KerasTensor(type_spec=TensorSpec(shape=(None, None, 103), dtype=tf.float32, name='dense_104_input'), name='dense_104_input', description=\"created by layer 'dense_104_input'\"), but it was called on an input with incompatible shape (None, 103).\n"
     ]
    },
    {
     "name": "stderr",
     "output_type": "stream",
     "text": [
      "2022-12-18 11:05:57.359610: I tensorflow/core/grappler/optimizers/custom_graph_optimizer_registry.cc:114] Plugin optimizer for device_type GPU is enabled.\n"
     ]
    },
    {
     "name": "stdout",
     "output_type": "stream",
     "text": [
      "256/256 [==============================] - 6s 19ms/step - loss: 13973.0107 - mean_squared_error: 802454400.0000 - mean_absolute_error: 13973.0107 - val_loss: 5793.8003 - val_mean_squared_error: 110014968.0000 - val_mean_absolute_error: 5793.8003\n",
      "Epoch 2/100\n",
      "256/256 [==============================] - 4s 17ms/step - loss: 7200.4883 - mean_squared_error: 234408096.0000 - mean_absolute_error: 7200.4883 - val_loss: 9965.5371 - val_mean_squared_error: 178852512.0000 - val_mean_absolute_error: 9965.5371\n",
      "Epoch 3/100\n",
      "256/256 [==============================] - 4s 17ms/step - loss: 6851.8506 - mean_squared_error: 227120048.0000 - mean_absolute_error: 6851.8506 - val_loss: 5411.3325 - val_mean_squared_error: 95456296.0000 - val_mean_absolute_error: 5411.3325\n",
      "Epoch 4/100\n",
      "256/256 [==============================] - 4s 17ms/step - loss: 6479.0986 - mean_squared_error: 218888080.0000 - mean_absolute_error: 6479.0986 - val_loss: 5595.8623 - val_mean_squared_error: 104641328.0000 - val_mean_absolute_error: 5595.8623\n",
      "Epoch 5/100\n",
      "256/256 [==============================] - 4s 17ms/step - loss: 6295.6182 - mean_squared_error: 212676544.0000 - mean_absolute_error: 6295.6182 - val_loss: 5180.7607 - val_mean_squared_error: 91287056.0000 - val_mean_absolute_error: 5180.7607\n",
      "Epoch 6/100\n",
      "256/256 [==============================] - 4s 17ms/step - loss: 5992.5503 - mean_squared_error: 200733424.0000 - mean_absolute_error: 5992.5503 - val_loss: 6954.6826 - val_mean_squared_error: 148706608.0000 - val_mean_absolute_error: 6954.6826\n",
      "Epoch 7/100\n",
      "256/256 [==============================] - 4s 18ms/step - loss: 5772.5049 - mean_squared_error: 188677168.0000 - mean_absolute_error: 5772.5049 - val_loss: 4609.7559 - val_mean_squared_error: 75056312.0000 - val_mean_absolute_error: 4609.7559\n",
      "Epoch 8/100\n",
      "256/256 [==============================] - 4s 17ms/step - loss: 5650.8057 - mean_squared_error: 188292832.0000 - mean_absolute_error: 5650.8057 - val_loss: 6209.7246 - val_mean_squared_error: 125230496.0000 - val_mean_absolute_error: 6209.7246\n",
      "Epoch 9/100\n",
      "256/256 [==============================] - 4s 17ms/step - loss: 5506.6050 - mean_squared_error: 176925392.0000 - mean_absolute_error: 5506.6050 - val_loss: 8557.8359 - val_mean_squared_error: 202393664.0000 - val_mean_absolute_error: 8557.8359\n",
      "Epoch 10/100\n",
      "256/256 [==============================] - 4s 17ms/step - loss: 5312.7314 - mean_squared_error: 178961520.0000 - mean_absolute_error: 5312.7314 - val_loss: 4910.4009 - val_mean_squared_error: 81626448.0000 - val_mean_absolute_error: 4910.4009\n",
      "Epoch 11/100\n",
      "256/256 [==============================] - 4s 17ms/step - loss: 5326.4448 - mean_squared_error: 177433728.0000 - mean_absolute_error: 5326.4448 - val_loss: 6382.6211 - val_mean_squared_error: 132181688.0000 - val_mean_absolute_error: 6382.6211\n",
      "256/256 [==============================] - 2s 7ms/step - loss: 5935.1587 - mean_squared_error: 203424384.0000 - mean_absolute_error: 5935.1587\n",
      "29/29 [==============================] - 0s 10ms/step - loss: 3575.8716 - mean_squared_error: 39205760.0000 - mean_absolute_error: 3575.8716\n",
      "INFO:tensorflow:Assets written to: ../models/fl_tuned/fl_model_store14.pkt/assets\n",
      "**********************Evaluation!!*********************Store_14\n",
      "3575.87158203125\n",
      "_____________________________________Store_15__________________________\n",
      "Epoch 1/100\n",
      "WARNING:tensorflow:Model was constructed with shape (None, None, 103) for input KerasTensor(type_spec=TensorSpec(shape=(None, None, 103), dtype=tf.float32, name='dense_112_input'), name='dense_112_input', description=\"created by layer 'dense_112_input'\"), but it was called on an input with incompatible shape (None, 103).\n",
      "WARNING:tensorflow:Model was constructed with shape (None, None, 103) for input KerasTensor(type_spec=TensorSpec(shape=(None, None, 103), dtype=tf.float32, name='dense_112_input'), name='dense_112_input', description=\"created by layer 'dense_112_input'\"), but it was called on an input with incompatible shape (None, 103).\n"
     ]
    },
    {
     "name": "stderr",
     "output_type": "stream",
     "text": [
      "2022-12-18 11:06:45.790653: I tensorflow/core/grappler/optimizers/custom_graph_optimizer_registry.cc:114] Plugin optimizer for device_type GPU is enabled.\n"
     ]
    },
    {
     "name": "stdout",
     "output_type": "stream",
     "text": [
      "253/253 [==============================] - ETA: 0s - loss: 4466.4458 - mean_squared_error: 91491352.0000 - mean_absolute_error: 4466.4458WARNING:tensorflow:Model was constructed with shape (None, None, 103) for input KerasTensor(type_spec=TensorSpec(shape=(None, None, 103), dtype=tf.float32, name='dense_112_input'), name='dense_112_input', description=\"created by layer 'dense_112_input'\"), but it was called on an input with incompatible shape (None, 103).\n"
     ]
    },
    {
     "name": "stderr",
     "output_type": "stream",
     "text": [
      "2022-12-18 11:06:51.874828: I tensorflow/core/grappler/optimizers/custom_graph_optimizer_registry.cc:114] Plugin optimizer for device_type GPU is enabled.\n"
     ]
    },
    {
     "name": "stdout",
     "output_type": "stream",
     "text": [
      "253/253 [==============================] - 7s 21ms/step - loss: 4466.4458 - mean_squared_error: 91491352.0000 - mean_absolute_error: 4466.4458 - val_loss: 4202.4033 - val_mean_squared_error: 49088724.0000 - val_mean_absolute_error: 4202.4033\n",
      "Epoch 2/100\n",
      "253/253 [==============================] - 5s 18ms/step - loss: 2677.0273 - mean_squared_error: 46174780.0000 - mean_absolute_error: 2677.0273 - val_loss: 2064.9673 - val_mean_squared_error: 23016788.0000 - val_mean_absolute_error: 2064.9673\n",
      "Epoch 3/100\n",
      "253/253 [==============================] - 4s 18ms/step - loss: 2492.2515 - mean_squared_error: 44400188.0000 - mean_absolute_error: 2492.2515 - val_loss: 2403.0386 - val_mean_squared_error: 25654464.0000 - val_mean_absolute_error: 2403.0386\n",
      "Epoch 4/100\n",
      "253/253 [==============================] - 4s 18ms/step - loss: 2345.1919 - mean_squared_error: 41411560.0000 - mean_absolute_error: 2345.1919 - val_loss: 6804.1689 - val_mean_squared_error: 88057536.0000 - val_mean_absolute_error: 6804.1689\n",
      "Epoch 5/100\n",
      "253/253 [==============================] - 4s 18ms/step - loss: 2294.7588 - mean_squared_error: 41080168.0000 - mean_absolute_error: 2294.7588 - val_loss: 3160.4653 - val_mean_squared_error: 33718324.0000 - val_mean_absolute_error: 3160.4653\n",
      "Epoch 6/100\n",
      "253/253 [==============================] - 4s 18ms/step - loss: 2199.5938 - mean_squared_error: 39086176.0000 - mean_absolute_error: 2199.5938 - val_loss: 4260.0879 - val_mean_squared_error: 52156112.0000 - val_mean_absolute_error: 4260.0879\n",
      "253/253 [==============================] - 2s 7ms/step - loss: 2247.1707 - mean_squared_error: 40909528.0000 - mean_absolute_error: 2247.1707\n",
      "28/28 [==============================] - 0s 12ms/step - loss: 1505.1207 - mean_squared_error: 7498944.0000 - mean_absolute_error: 1505.1207\n",
      "INFO:tensorflow:Assets written to: ../models/fl_tuned/fl_model_store15.pkt/assets\n",
      "**********************Evaluation!!*********************Store_15\n",
      "1505.1207275390625\n",
      "_____________________________________Store_16__________________________\n",
      "Epoch 1/100\n",
      "WARNING:tensorflow:Model was constructed with shape (None, None, 103) for input KerasTensor(type_spec=TensorSpec(shape=(None, None, 103), dtype=tf.float32, name='dense_120_input'), name='dense_120_input', description=\"created by layer 'dense_120_input'\"), but it was called on an input with incompatible shape (None, 103).\n",
      "WARNING:tensorflow:Model was constructed with shape (None, None, 103) for input KerasTensor(type_spec=TensorSpec(shape=(None, None, 103), dtype=tf.float32, name='dense_120_input'), name='dense_120_input', description=\"created by layer 'dense_120_input'\"), but it was called on an input with incompatible shape (None, 103).\n"
     ]
    },
    {
     "name": "stderr",
     "output_type": "stream",
     "text": [
      "2022-12-18 11:07:19.188718: I tensorflow/core/grappler/optimizers/custom_graph_optimizer_registry.cc:114] Plugin optimizer for device_type GPU is enabled.\n"
     ]
    },
    {
     "name": "stdout",
     "output_type": "stream",
     "text": [
      "239/239 [==============================] - ETA: 0s - loss: 4071.7190 - mean_squared_error: 70514904.0000 - mean_absolute_error: 4071.7190WARNING:tensorflow:Model was constructed with shape (None, None, 103) for input KerasTensor(type_spec=TensorSpec(shape=(None, None, 103), dtype=tf.float32, name='dense_120_input'), name='dense_120_input', description=\"created by layer 'dense_120_input'\"), but it was called on an input with incompatible shape (None, 103).\n"
     ]
    },
    {
     "name": "stderr",
     "output_type": "stream",
     "text": [
      "2022-12-18 11:07:25.092402: I tensorflow/core/grappler/optimizers/custom_graph_optimizer_registry.cc:114] Plugin optimizer for device_type GPU is enabled.\n"
     ]
    },
    {
     "name": "stdout",
     "output_type": "stream",
     "text": [
      "239/239 [==============================] - 7s 21ms/step - loss: 4071.7190 - mean_squared_error: 70514904.0000 - mean_absolute_error: 4071.7190 - val_loss: 3018.0466 - val_mean_squared_error: 36434120.0000 - val_mean_absolute_error: 3018.0466\n",
      "Epoch 2/100\n",
      "239/239 [==============================] - 4s 18ms/step - loss: 2343.3740 - mean_squared_error: 26822092.0000 - mean_absolute_error: 2343.3740 - val_loss: 4610.1138 - val_mean_squared_error: 52918272.0000 - val_mean_absolute_error: 4610.1138\n",
      "Epoch 3/100\n",
      "239/239 [==============================] - 4s 18ms/step - loss: 2162.3088 - mean_squared_error: 24513772.0000 - mean_absolute_error: 2162.3088 - val_loss: 4266.0488 - val_mean_squared_error: 50897336.0000 - val_mean_absolute_error: 4266.0488\n",
      "Epoch 4/100\n",
      "239/239 [==============================] - 4s 18ms/step - loss: 1991.0780 - mean_squared_error: 21710080.0000 - mean_absolute_error: 1991.0780 - val_loss: 3634.2483 - val_mean_squared_error: 39193428.0000 - val_mean_absolute_error: 3634.2483\n",
      "Epoch 5/100\n",
      "239/239 [==============================] - 4s 18ms/step - loss: 1873.8575 - mean_squared_error: 19260612.0000 - mean_absolute_error: 1873.8575 - val_loss: 2123.4795 - val_mean_squared_error: 22926620.0000 - val_mean_absolute_error: 2123.4795\n",
      "Epoch 6/100\n",
      "239/239 [==============================] - 4s 18ms/step - loss: 1810.4530 - mean_squared_error: 19690038.0000 - mean_absolute_error: 1810.4530 - val_loss: 1872.3361 - val_mean_squared_error: 19845916.0000 - val_mean_absolute_error: 1872.3361\n",
      "Epoch 7/100\n",
      "239/239 [==============================] - 4s 18ms/step - loss: 1752.4670 - mean_squared_error: 18171242.0000 - mean_absolute_error: 1752.4670 - val_loss: 2319.5444 - val_mean_squared_error: 22487948.0000 - val_mean_absolute_error: 2319.5444\n",
      "Epoch 8/100\n",
      "239/239 [==============================] - 4s 18ms/step - loss: 1687.3699 - mean_squared_error: 17276232.0000 - mean_absolute_error: 1687.3699 - val_loss: 1834.6880 - val_mean_squared_error: 19486196.0000 - val_mean_absolute_error: 1834.6880\n",
      "Epoch 9/100\n",
      "239/239 [==============================] - 4s 17ms/step - loss: 1663.5555 - mean_squared_error: 17551694.0000 - mean_absolute_error: 1663.5555 - val_loss: 2324.1013 - val_mean_squared_error: 23134862.0000 - val_mean_absolute_error: 2324.1013\n",
      "Epoch 10/100\n",
      "239/239 [==============================] - 4s 17ms/step - loss: 1597.3424 - mean_squared_error: 16525260.0000 - mean_absolute_error: 1597.3424 - val_loss: 2180.3887 - val_mean_squared_error: 25419430.0000 - val_mean_absolute_error: 2180.3887\n",
      "239/239 [==============================] - 2s 7ms/step - loss: 1461.8801 - mean_squared_error: 15927180.0000 - mean_absolute_error: 1461.8801\n",
      "28/28 [==============================] - 0s 10ms/step - loss: 1732.7606 - mean_squared_error: 25423120.0000 - mean_absolute_error: 1732.7606\n",
      "INFO:tensorflow:Assets written to: ../models/fl_tuned/fl_model_store16.pkt/assets\n",
      "**********************Evaluation!!*********************Store_16\n",
      "1732.7606201171875\n",
      "_____________________________________Store_17__________________________\n",
      "Epoch 1/100\n",
      "WARNING:tensorflow:Model was constructed with shape (None, None, 103) for input KerasTensor(type_spec=TensorSpec(shape=(None, None, 103), dtype=tf.float32, name='dense_128_input'), name='dense_128_input', description=\"created by layer 'dense_128_input'\"), but it was called on an input with incompatible shape (None, 103).\n",
      "WARNING:tensorflow:Model was constructed with shape (None, None, 103) for input KerasTensor(type_spec=TensorSpec(shape=(None, None, 103), dtype=tf.float32, name='dense_128_input'), name='dense_128_input', description=\"created by layer 'dense_128_input'\"), but it was called on an input with incompatible shape (None, 103).\n"
     ]
    },
    {
     "name": "stderr",
     "output_type": "stream",
     "text": [
      "2022-12-18 11:08:07.432696: I tensorflow/core/grappler/optimizers/custom_graph_optimizer_registry.cc:114] Plugin optimizer for device_type GPU is enabled.\n"
     ]
    },
    {
     "name": "stdout",
     "output_type": "stream",
     "text": [
      "251/251 [==============================] - ETA: 0s - loss: 6136.8027 - mean_squared_error: 141701728.0000 - mean_absolute_error: 6136.8027WARNING:tensorflow:Model was constructed with shape (None, None, 103) for input KerasTensor(type_spec=TensorSpec(shape=(None, None, 103), dtype=tf.float32, name='dense_128_input'), name='dense_128_input', description=\"created by layer 'dense_128_input'\"), but it was called on an input with incompatible shape (None, 103).\n"
     ]
    },
    {
     "name": "stderr",
     "output_type": "stream",
     "text": [
      "2022-12-18 11:08:13.736820: I tensorflow/core/grappler/optimizers/custom_graph_optimizer_registry.cc:114] Plugin optimizer for device_type GPU is enabled.\n"
     ]
    },
    {
     "name": "stdout",
     "output_type": "stream",
     "text": [
      "251/251 [==============================] - 7s 22ms/step - loss: 6136.8027 - mean_squared_error: 141701728.0000 - mean_absolute_error: 6136.8027 - val_loss: 3990.6350 - val_mean_squared_error: 57343880.0000 - val_mean_absolute_error: 3990.6350\n",
      "Epoch 2/100\n",
      "251/251 [==============================] - 5s 18ms/step - loss: 3435.8430 - mean_squared_error: 46957560.0000 - mean_absolute_error: 3435.8430 - val_loss: 5231.1333 - val_mean_squared_error: 79082848.0000 - val_mean_absolute_error: 5231.1333\n",
      "Epoch 3/100\n",
      "251/251 [==============================] - 4s 18ms/step - loss: 3227.3899 - mean_squared_error: 43316320.0000 - mean_absolute_error: 3227.3899 - val_loss: 2973.3999 - val_mean_squared_error: 35334180.0000 - val_mean_absolute_error: 2973.3999\n",
      "Epoch 4/100\n",
      "251/251 [==============================] - 4s 18ms/step - loss: 3093.0940 - mean_squared_error: 42170732.0000 - mean_absolute_error: 3093.0940 - val_loss: 2761.5730 - val_mean_squared_error: 30202872.0000 - val_mean_absolute_error: 2761.5730\n",
      "Epoch 5/100\n",
      "251/251 [==============================] - 4s 18ms/step - loss: 2918.2498 - mean_squared_error: 39155840.0000 - mean_absolute_error: 2918.2498 - val_loss: 3004.6013 - val_mean_squared_error: 31179076.0000 - val_mean_absolute_error: 3004.6013\n",
      "Epoch 6/100\n",
      "251/251 [==============================] - 4s 18ms/step - loss: 2829.4514 - mean_squared_error: 37879148.0000 - mean_absolute_error: 2829.4514 - val_loss: 2268.7573 - val_mean_squared_error: 21226196.0000 - val_mean_absolute_error: 2268.7573\n",
      "Epoch 7/100\n",
      "251/251 [==============================] - 4s 18ms/step - loss: 2730.2119 - mean_squared_error: 35882500.0000 - mean_absolute_error: 2730.2119 - val_loss: 4096.1011 - val_mean_squared_error: 46930468.0000 - val_mean_absolute_error: 4096.1011\n",
      "Epoch 8/100\n",
      "251/251 [==============================] - 4s 18ms/step - loss: 2679.6882 - mean_squared_error: 34601820.0000 - mean_absolute_error: 2679.6882 - val_loss: 2470.7803 - val_mean_squared_error: 22529158.0000 - val_mean_absolute_error: 2470.7803\n",
      "Epoch 9/100\n",
      "251/251 [==============================] - 4s 18ms/step - loss: 2631.3298 - mean_squared_error: 34415396.0000 - mean_absolute_error: 2631.3298 - val_loss: 2233.4458 - val_mean_squared_error: 19672622.0000 - val_mean_absolute_error: 2233.4458\n",
      "Epoch 10/100\n",
      "251/251 [==============================] - 5s 18ms/step - loss: 2555.1423 - mean_squared_error: 33217236.0000 - mean_absolute_error: 2555.1423 - val_loss: 3213.0210 - val_mean_squared_error: 32973528.0000 - val_mean_absolute_error: 3213.0210\n",
      "251/251 [==============================] - 2s 7ms/step - loss: 2887.4685 - mean_squared_error: 31122486.0000 - mean_absolute_error: 2887.4685\n",
      "29/29 [==============================] - 0s 10ms/step - loss: 2434.1389 - mean_squared_error: 24671732.0000 - mean_absolute_error: 2434.1389\n",
      "INFO:tensorflow:Assets written to: ../models/fl_tuned/fl_model_store17.pkt/assets\n",
      "**********************Evaluation!!*********************Store_17\n",
      "2434.138916015625\n",
      "_____________________________________Store_18__________________________\n",
      "Epoch 1/100\n",
      "WARNING:tensorflow:Model was constructed with shape (None, None, 103) for input KerasTensor(type_spec=TensorSpec(shape=(None, None, 103), dtype=tf.float32, name='dense_136_input'), name='dense_136_input', description=\"created by layer 'dense_136_input'\"), but it was called on an input with incompatible shape (None, 103).\n",
      "WARNING:tensorflow:Model was constructed with shape (None, None, 103) for input KerasTensor(type_spec=TensorSpec(shape=(None, None, 103), dtype=tf.float32, name='dense_136_input'), name='dense_136_input', description=\"created by layer 'dense_136_input'\"), but it was called on an input with incompatible shape (None, 103).\n"
     ]
    },
    {
     "name": "stderr",
     "output_type": "stream",
     "text": [
      "2022-12-18 11:08:59.225823: I tensorflow/core/grappler/optimizers/custom_graph_optimizer_registry.cc:114] Plugin optimizer for device_type GPU is enabled.\n"
     ]
    },
    {
     "name": "stdout",
     "output_type": "stream",
     "text": [
      "251/251 [==============================] - ETA: 0s - loss: 7785.9282 - mean_squared_error: 216771008.0000 - mean_absolute_error: 7785.9282WARNING:tensorflow:Model was constructed with shape (None, None, 103) for input KerasTensor(type_spec=TensorSpec(shape=(None, None, 103), dtype=tf.float32, name='dense_136_input'), name='dense_136_input', description=\"created by layer 'dense_136_input'\"), but it was called on an input with incompatible shape (None, 103).\n"
     ]
    },
    {
     "name": "stderr",
     "output_type": "stream",
     "text": [
      "2022-12-18 11:09:05.306063: I tensorflow/core/grappler/optimizers/custom_graph_optimizer_registry.cc:114] Plugin optimizer for device_type GPU is enabled.\n"
     ]
    },
    {
     "name": "stdout",
     "output_type": "stream",
     "text": [
      "251/251 [==============================] - 7s 21ms/step - loss: 7785.9282 - mean_squared_error: 216771008.0000 - mean_absolute_error: 7785.9282 - val_loss: 3986.8135 - val_mean_squared_error: 48763376.0000 - val_mean_absolute_error: 3986.8135\n",
      "Epoch 2/100\n",
      "251/251 [==============================] - 4s 18ms/step - loss: 4433.4741 - mean_squared_error: 96784360.0000 - mean_absolute_error: 4433.4741 - val_loss: 4394.8130 - val_mean_squared_error: 46700112.0000 - val_mean_absolute_error: 4394.8130\n",
      "Epoch 3/100\n",
      "251/251 [==============================] - 4s 18ms/step - loss: 4157.7993 - mean_squared_error: 89714520.0000 - mean_absolute_error: 4157.7993 - val_loss: 4167.9829 - val_mean_squared_error: 40085044.0000 - val_mean_absolute_error: 4167.9829\n",
      "Epoch 4/100\n",
      "251/251 [==============================] - 4s 18ms/step - loss: 3962.7654 - mean_squared_error: 86152720.0000 - mean_absolute_error: 3962.7654 - val_loss: 5063.5288 - val_mean_squared_error: 59723592.0000 - val_mean_absolute_error: 5063.5288\n",
      "Epoch 5/100\n",
      "251/251 [==============================] - 4s 18ms/step - loss: 3831.0464 - mean_squared_error: 84525456.0000 - mean_absolute_error: 3831.0464 - val_loss: 3210.9595 - val_mean_squared_error: 36049588.0000 - val_mean_absolute_error: 3210.9595\n",
      "Epoch 6/100\n",
      "251/251 [==============================] - 4s 18ms/step - loss: 3653.1863 - mean_squared_error: 79248992.0000 - mean_absolute_error: 3653.1863 - val_loss: 3592.3992 - val_mean_squared_error: 40202556.0000 - val_mean_absolute_error: 3592.3992\n",
      "Epoch 7/100\n",
      "251/251 [==============================] - 4s 18ms/step - loss: 3567.3564 - mean_squared_error: 79889280.0000 - mean_absolute_error: 3567.3564 - val_loss: 3077.6162 - val_mean_squared_error: 28973614.0000 - val_mean_absolute_error: 3077.6162\n",
      "Epoch 8/100\n",
      "251/251 [==============================] - 4s 18ms/step - loss: 3451.4492 - mean_squared_error: 74315040.0000 - mean_absolute_error: 3451.4492 - val_loss: 3027.8994 - val_mean_squared_error: 29679028.0000 - val_mean_absolute_error: 3027.8994\n",
      "Epoch 9/100\n",
      "251/251 [==============================] - 4s 18ms/step - loss: 3368.3000 - mean_squared_error: 74485792.0000 - mean_absolute_error: 3368.3000 - val_loss: 2954.6169 - val_mean_squared_error: 29631156.0000 - val_mean_absolute_error: 2954.6169\n",
      "Epoch 10/100\n",
      "251/251 [==============================] - 4s 18ms/step - loss: 3291.6228 - mean_squared_error: 72383600.0000 - mean_absolute_error: 3291.6228 - val_loss: 3178.9688 - val_mean_squared_error: 29529008.0000 - val_mean_absolute_error: 3178.9688\n",
      "Epoch 11/100\n",
      "251/251 [==============================] - 4s 18ms/step - loss: 3217.6287 - mean_squared_error: 68330416.0000 - mean_absolute_error: 3217.6287 - val_loss: 3134.7195 - val_mean_squared_error: 33310348.0000 - val_mean_absolute_error: 3134.7195\n",
      "Epoch 12/100\n",
      "251/251 [==============================] - 4s 18ms/step - loss: 3177.4885 - mean_squared_error: 71627328.0000 - mean_absolute_error: 3177.4885 - val_loss: 4981.6934 - val_mean_squared_error: 66708232.0000 - val_mean_absolute_error: 4981.6934\n",
      "Epoch 13/100\n",
      "251/251 [==============================] - 4s 18ms/step - loss: 3094.4375 - mean_squared_error: 66207352.0000 - mean_absolute_error: 3094.4375 - val_loss: 2794.3491 - val_mean_squared_error: 27012480.0000 - val_mean_absolute_error: 2794.3491\n",
      "Epoch 14/100\n",
      "251/251 [==============================] - 4s 18ms/step - loss: 3013.8044 - mean_squared_error: 63976764.0000 - mean_absolute_error: 3013.8044 - val_loss: 3198.4346 - val_mean_squared_error: 31972002.0000 - val_mean_absolute_error: 3198.4346\n",
      "Epoch 15/100\n",
      "251/251 [==============================] - 4s 18ms/step - loss: 3016.0393 - mean_squared_error: 66108568.0000 - mean_absolute_error: 3016.0393 - val_loss: 4074.5288 - val_mean_squared_error: 40206640.0000 - val_mean_absolute_error: 4074.5288\n",
      "Epoch 16/100\n",
      "251/251 [==============================] - 4s 18ms/step - loss: 2961.2856 - mean_squared_error: 65098424.0000 - mean_absolute_error: 2961.2856 - val_loss: 3629.9048 - val_mean_squared_error: 38575544.0000 - val_mean_absolute_error: 3629.9048\n",
      "Epoch 17/100\n",
      "251/251 [==============================] - 5s 18ms/step - loss: 2946.4434 - mean_squared_error: 61115336.0000 - mean_absolute_error: 2946.4434 - val_loss: 3137.3994 - val_mean_squared_error: 31728716.0000 - val_mean_absolute_error: 3137.3994\n",
      "251/251 [==============================] - 2s 7ms/step - loss: 3272.5503 - mean_squared_error: 65938544.0000 - mean_absolute_error: 3272.5503\n",
      "29/29 [==============================] - 0s 7ms/step - loss: 2507.8416 - mean_squared_error: 24887428.0000 - mean_absolute_error: 2507.8416\n",
      "INFO:tensorflow:Assets written to: ../models/fl_tuned/fl_model_store18.pkt/assets\n",
      "**********************Evaluation!!*********************Store_18\n",
      "2507.841552734375\n",
      "_____________________________________Store_19__________________________\n",
      "Epoch 1/100\n",
      "WARNING:tensorflow:Model was constructed with shape (None, None, 103) for input KerasTensor(type_spec=TensorSpec(shape=(None, None, 103), dtype=tf.float32, name='dense_144_input'), name='dense_144_input', description=\"created by layer 'dense_144_input'\"), but it was called on an input with incompatible shape (None, 103).\n",
      "WARNING:tensorflow:Model was constructed with shape (None, None, 103) for input KerasTensor(type_spec=TensorSpec(shape=(None, None, 103), dtype=tf.float32, name='dense_144_input'), name='dense_144_input', description=\"created by layer 'dense_144_input'\"), but it was called on an input with incompatible shape (None, 103).\n"
     ]
    },
    {
     "name": "stderr",
     "output_type": "stream",
     "text": [
      "2022-12-18 11:10:21.270386: I tensorflow/core/grappler/optimizers/custom_graph_optimizer_registry.cc:114] Plugin optimizer for device_type GPU is enabled.\n"
     ]
    },
    {
     "name": "stdout",
     "output_type": "stream",
     "text": [
      "259/259 [==============================] - ETA: 0s - loss: 9866.6689 - mean_squared_error: 365841728.0000 - mean_absolute_error: 9866.6689WARNING:tensorflow:Model was constructed with shape (None, None, 103) for input KerasTensor(type_spec=TensorSpec(shape=(None, None, 103), dtype=tf.float32, name='dense_144_input'), name='dense_144_input', description=\"created by layer 'dense_144_input'\"), but it was called on an input with incompatible shape (None, 103).\n"
     ]
    },
    {
     "name": "stderr",
     "output_type": "stream",
     "text": [
      "2022-12-18 11:10:27.604792: I tensorflow/core/grappler/optimizers/custom_graph_optimizer_registry.cc:114] Plugin optimizer for device_type GPU is enabled.\n"
     ]
    },
    {
     "name": "stdout",
     "output_type": "stream",
     "text": [
      "259/259 [==============================] - 7s 21ms/step - loss: 9866.6689 - mean_squared_error: 365841728.0000 - mean_absolute_error: 9866.6689 - val_loss: 5727.3145 - val_mean_squared_error: 96477056.0000 - val_mean_absolute_error: 5727.3145\n",
      "Epoch 2/100\n",
      "259/259 [==============================] - 5s 18ms/step - loss: 5180.3125 - mean_squared_error: 113765800.0000 - mean_absolute_error: 5180.3125 - val_loss: 4343.5371 - val_mean_squared_error: 70569128.0000 - val_mean_absolute_error: 4343.5371\n",
      "Epoch 3/100\n",
      "259/259 [==============================] - 5s 18ms/step - loss: 4759.0718 - mean_squared_error: 108294272.0000 - mean_absolute_error: 4759.0718 - val_loss: 3848.8110 - val_mean_squared_error: 66684760.0000 - val_mean_absolute_error: 3848.8110\n",
      "Epoch 4/100\n",
      "259/259 [==============================] - 5s 18ms/step - loss: 4568.2759 - mean_squared_error: 99682440.0000 - mean_absolute_error: 4568.2759 - val_loss: 3826.0591 - val_mean_squared_error: 65974248.0000 - val_mean_absolute_error: 3826.0591\n",
      "Epoch 5/100\n",
      "259/259 [==============================] - 5s 18ms/step - loss: 4368.4614 - mean_squared_error: 97757424.0000 - mean_absolute_error: 4368.4614 - val_loss: 3971.3110 - val_mean_squared_error: 60516096.0000 - val_mean_absolute_error: 3971.3110\n",
      "Epoch 6/100\n",
      "259/259 [==============================] - 5s 18ms/step - loss: 4185.0503 - mean_squared_error: 92840008.0000 - mean_absolute_error: 4185.0503 - val_loss: 3408.4858 - val_mean_squared_error: 60211144.0000 - val_mean_absolute_error: 3408.4858\n",
      "Epoch 7/100\n",
      "259/259 [==============================] - 5s 18ms/step - loss: 4029.3608 - mean_squared_error: 89419384.0000 - mean_absolute_error: 4029.3608 - val_loss: 3449.3757 - val_mean_squared_error: 56690504.0000 - val_mean_absolute_error: 3449.3757\n",
      "Epoch 8/100\n",
      "259/259 [==============================] - 5s 18ms/step - loss: 3907.2986 - mean_squared_error: 86707880.0000 - mean_absolute_error: 3907.2986 - val_loss: 3384.9041 - val_mean_squared_error: 56812452.0000 - val_mean_absolute_error: 3384.9041\n",
      "Epoch 9/100\n",
      "259/259 [==============================] - 5s 18ms/step - loss: 3849.3528 - mean_squared_error: 87383152.0000 - mean_absolute_error: 3849.3528 - val_loss: 3338.2258 - val_mean_squared_error: 53126628.0000 - val_mean_absolute_error: 3338.2258\n",
      "Epoch 10/100\n",
      "259/259 [==============================] - 5s 18ms/step - loss: 3755.5913 - mean_squared_error: 81957288.0000 - mean_absolute_error: 3755.5913 - val_loss: 4035.6072 - val_mean_squared_error: 59289268.0000 - val_mean_absolute_error: 4035.6072\n",
      "259/259 [==============================] - 2s 7ms/step - loss: 3412.1289 - mean_squared_error: 73104712.0000 - mean_absolute_error: 3412.1289\n",
      "29/29 [==============================] - 0s 10ms/step - loss: 2871.2168 - mean_squared_error: 31769480.0000 - mean_absolute_error: 2871.2168\n",
      "INFO:tensorflow:Assets written to: ../models/fl_tuned/fl_model_store19.pkt/assets\n",
      "**********************Evaluation!!*********************Store_19\n",
      "2871.216796875\n",
      "_____________________________________Store_20__________________________\n",
      "Epoch 1/100\n",
      "WARNING:tensorflow:Model was constructed with shape (None, None, 103) for input KerasTensor(type_spec=TensorSpec(shape=(None, None, 103), dtype=tf.float32, name='dense_152_input'), name='dense_152_input', description=\"created by layer 'dense_152_input'\"), but it was called on an input with incompatible shape (None, 103).\n",
      "WARNING:tensorflow:Model was constructed with shape (None, None, 103) for input KerasTensor(type_spec=TensorSpec(shape=(None, None, 103), dtype=tf.float32, name='dense_152_input'), name='dense_152_input', description=\"created by layer 'dense_152_input'\"), but it was called on an input with incompatible shape (None, 103).\n"
     ]
    },
    {
     "name": "stderr",
     "output_type": "stream",
     "text": [
      "2022-12-18 11:11:14.167603: I tensorflow/core/grappler/optimizers/custom_graph_optimizer_registry.cc:114] Plugin optimizer for device_type GPU is enabled.\n"
     ]
    },
    {
     "name": "stdout",
     "output_type": "stream",
     "text": [
      "261/261 [==============================] - ETA: 0s - loss: 13808.0557 - mean_squared_error: 713416064.0000 - mean_absolute_error: 13808.0557WARNING:tensorflow:Model was constructed with shape (None, None, 103) for input KerasTensor(type_spec=TensorSpec(shape=(None, None, 103), dtype=tf.float32, name='dense_152_input'), name='dense_152_input', description=\"created by layer 'dense_152_input'\"), but it was called on an input with incompatible shape (None, 103).\n"
     ]
    },
    {
     "name": "stderr",
     "output_type": "stream",
     "text": [
      "2022-12-18 11:11:20.657272: I tensorflow/core/grappler/optimizers/custom_graph_optimizer_registry.cc:114] Plugin optimizer for device_type GPU is enabled.\n"
     ]
    },
    {
     "name": "stdout",
     "output_type": "stream",
     "text": [
      "261/261 [==============================] - 7s 22ms/step - loss: 13808.0557 - mean_squared_error: 713416064.0000 - mean_absolute_error: 13808.0557 - val_loss: 7432.5078 - val_mean_squared_error: 170317440.0000 - val_mean_absolute_error: 7432.5078\n",
      "Epoch 2/100\n",
      "261/261 [==============================] - 5s 19ms/step - loss: 7242.5708 - mean_squared_error: 211369840.0000 - mean_absolute_error: 7242.5708 - val_loss: 8424.8906 - val_mean_squared_error: 149797808.0000 - val_mean_absolute_error: 8424.8906\n",
      "Epoch 3/100\n",
      "261/261 [==============================] - 5s 18ms/step - loss: 6678.6621 - mean_squared_error: 193128320.0000 - mean_absolute_error: 6678.6621 - val_loss: 4911.1484 - val_mean_squared_error: 80468664.0000 - val_mean_absolute_error: 4911.1484\n",
      "Epoch 4/100\n",
      "261/261 [==============================] - 5s 18ms/step - loss: 6324.9927 - mean_squared_error: 181466848.0000 - mean_absolute_error: 6324.9927 - val_loss: 20108.5020 - val_mean_squared_error: 688813248.0000 - val_mean_absolute_error: 20108.5020\n",
      "Epoch 5/100\n",
      "261/261 [==============================] - 5s 18ms/step - loss: 6132.1030 - mean_squared_error: 175932880.0000 - mean_absolute_error: 6132.1030 - val_loss: 10669.3193 - val_mean_squared_error: 280036384.0000 - val_mean_absolute_error: 10669.3193\n",
      "Epoch 6/100\n",
      "261/261 [==============================] - 5s 17ms/step - loss: 5920.6128 - mean_squared_error: 168664032.0000 - mean_absolute_error: 5920.6128 - val_loss: 4648.7817 - val_mean_squared_error: 69053416.0000 - val_mean_absolute_error: 4648.7817\n",
      "Epoch 7/100\n",
      "261/261 [==============================] - 5s 17ms/step - loss: 5835.2988 - mean_squared_error: 168897776.0000 - mean_absolute_error: 5835.2988 - val_loss: 5396.4106 - val_mean_squared_error: 89016576.0000 - val_mean_absolute_error: 5396.4106\n",
      "Epoch 8/100\n",
      "261/261 [==============================] - 4s 17ms/step - loss: 5658.5283 - mean_squared_error: 156954032.0000 - mean_absolute_error: 5658.5283 - val_loss: 4469.4712 - val_mean_squared_error: 61462192.0000 - val_mean_absolute_error: 4469.4712\n",
      "Epoch 9/100\n",
      "261/261 [==============================] - 4s 17ms/step - loss: 5554.4556 - mean_squared_error: 152720624.0000 - mean_absolute_error: 5554.4556 - val_loss: 5639.9883 - val_mean_squared_error: 78730640.0000 - val_mean_absolute_error: 5639.9883\n",
      "Epoch 10/100\n",
      "261/261 [==============================] - 5s 18ms/step - loss: 5447.9941 - mean_squared_error: 147878272.0000 - mean_absolute_error: 5447.9941 - val_loss: 5870.6284 - val_mean_squared_error: 102393264.0000 - val_mean_absolute_error: 5870.6284\n",
      "Epoch 11/100\n",
      "261/261 [==============================] - 4s 17ms/step - loss: 5369.9214 - mean_squared_error: 141857504.0000 - mean_absolute_error: 5369.9214 - val_loss: 4700.8198 - val_mean_squared_error: 74498808.0000 - val_mean_absolute_error: 4700.8198\n",
      "Epoch 12/100\n",
      "261/261 [==============================] - 4s 17ms/step - loss: 5316.0439 - mean_squared_error: 147866800.0000 - mean_absolute_error: 5316.0439 - val_loss: 4539.2456 - val_mean_squared_error: 71919776.0000 - val_mean_absolute_error: 4539.2456\n",
      "261/261 [==============================] - 2s 6ms/step - loss: 5618.2017 - mean_squared_error: 152227744.0000 - mean_absolute_error: 5618.2017\n",
      "29/29 [==============================] - 0s 9ms/step - loss: 4051.1184 - mean_squared_error: 41027920.0000 - mean_absolute_error: 4051.1184\n",
      "INFO:tensorflow:Assets written to: ../models/fl_tuned/fl_model_store20.pkt/assets\n",
      "**********************Evaluation!!*********************Store_20\n",
      "4051.118408203125\n",
      "_____________________________________Store_21__________________________\n",
      "Epoch 1/100\n",
      "WARNING:tensorflow:Model was constructed with shape (None, None, 103) for input KerasTensor(type_spec=TensorSpec(shape=(None, None, 103), dtype=tf.float32, name='dense_160_input'), name='dense_160_input', description=\"created by layer 'dense_160_input'\"), but it was called on an input with incompatible shape (None, 103).\n",
      "WARNING:tensorflow:Model was constructed with shape (None, None, 103) for input KerasTensor(type_spec=TensorSpec(shape=(None, None, 103), dtype=tf.float32, name='dense_160_input'), name='dense_160_input', description=\"created by layer 'dense_160_input'\"), but it was called on an input with incompatible shape (None, 103).\n"
     ]
    },
    {
     "name": "stderr",
     "output_type": "stream",
     "text": [
      "2022-12-18 11:12:15.488075: I tensorflow/core/grappler/optimizers/custom_graph_optimizer_registry.cc:114] Plugin optimizer for device_type GPU is enabled.\n"
     ]
    },
    {
     "name": "stdout",
     "output_type": "stream",
     "text": [
      "244/244 [==============================] - ETA: 0s - loss: 5278.0601 - mean_squared_error: 108196056.0000 - mean_absolute_error: 5278.0601WARNING:tensorflow:Model was constructed with shape (None, None, 103) for input KerasTensor(type_spec=TensorSpec(shape=(None, None, 103), dtype=tf.float32, name='dense_160_input'), name='dense_160_input', description=\"created by layer 'dense_160_input'\"), but it was called on an input with incompatible shape (None, 103).\n"
     ]
    },
    {
     "name": "stderr",
     "output_type": "stream",
     "text": [
      "2022-12-18 11:12:20.664616: I tensorflow/core/grappler/optimizers/custom_graph_optimizer_registry.cc:114] Plugin optimizer for device_type GPU is enabled.\n"
     ]
    },
    {
     "name": "stdout",
     "output_type": "stream",
     "text": [
      "244/244 [==============================] - 6s 20ms/step - loss: 5278.0601 - mean_squared_error: 108196056.0000 - mean_absolute_error: 5278.0601 - val_loss: 3680.4883 - val_mean_squared_error: 37492312.0000 - val_mean_absolute_error: 3680.4883\n",
      "Epoch 2/100\n",
      "244/244 [==============================] - 4s 17ms/step - loss: 2933.6733 - mean_squared_error: 49995460.0000 - mean_absolute_error: 2933.6733 - val_loss: 3810.0225 - val_mean_squared_error: 32211506.0000 - val_mean_absolute_error: 3810.0225\n",
      "Epoch 3/100\n",
      "244/244 [==============================] - 4s 17ms/step - loss: 2728.4307 - mean_squared_error: 49017236.0000 - mean_absolute_error: 2728.4307 - val_loss: 1995.4625 - val_mean_squared_error: 9990214.0000 - val_mean_absolute_error: 1995.4625\n",
      "Epoch 4/100\n",
      "244/244 [==============================] - 4s 17ms/step - loss: 2638.4460 - mean_squared_error: 46499648.0000 - mean_absolute_error: 2638.4460 - val_loss: 1816.3694 - val_mean_squared_error: 8461271.0000 - val_mean_absolute_error: 1816.3694\n",
      "Epoch 5/100\n",
      "244/244 [==============================] - 4s 17ms/step - loss: 2546.2542 - mean_squared_error: 45990060.0000 - mean_absolute_error: 2546.2542 - val_loss: 2064.3269 - val_mean_squared_error: 10260144.0000 - val_mean_absolute_error: 2064.3269\n",
      "Epoch 6/100\n",
      "244/244 [==============================] - 4s 17ms/step - loss: 2435.4827 - mean_squared_error: 45103644.0000 - mean_absolute_error: 2435.4827 - val_loss: 2352.2368 - val_mean_squared_error: 11513005.0000 - val_mean_absolute_error: 2352.2368\n",
      "Epoch 7/100\n",
      "244/244 [==============================] - 4s 17ms/step - loss: 2393.6470 - mean_squared_error: 44656296.0000 - mean_absolute_error: 2393.6470 - val_loss: 1873.6637 - val_mean_squared_error: 9196908.0000 - val_mean_absolute_error: 1873.6637\n",
      "Epoch 8/100\n",
      "244/244 [==============================] - 4s 17ms/step - loss: 2315.9141 - mean_squared_error: 42592628.0000 - mean_absolute_error: 2315.9141 - val_loss: 1742.7458 - val_mean_squared_error: 9448167.0000 - val_mean_absolute_error: 1742.7458\n",
      "244/244 [==============================] - 2s 6ms/step - loss: 2216.1775 - mean_squared_error: 43304464.0000 - mean_absolute_error: 2216.1775\n",
      "28/28 [==============================] - 0s 8ms/step - loss: 2113.5764 - mean_squared_error: 21819872.0000 - mean_absolute_error: 2113.5764\n",
      "INFO:tensorflow:Assets written to: ../models/fl_tuned/fl_model_store21.pkt/assets\n",
      "**********************Evaluation!!*********************Store_21\n",
      "2113.576416015625\n",
      "_____________________________________Store_22__________________________\n",
      "Epoch 1/100\n",
      "WARNING:tensorflow:Model was constructed with shape (None, None, 103) for input KerasTensor(type_spec=TensorSpec(shape=(None, None, 103), dtype=tf.float32, name='dense_168_input'), name='dense_168_input', description=\"created by layer 'dense_168_input'\"), but it was called on an input with incompatible shape (None, 103).\n",
      "WARNING:tensorflow:Model was constructed with shape (None, None, 103) for input KerasTensor(type_spec=TensorSpec(shape=(None, None, 103), dtype=tf.float32, name='dense_168_input'), name='dense_168_input', description=\"created by layer 'dense_168_input'\"), but it was called on an input with incompatible shape (None, 103).\n"
     ]
    },
    {
     "name": "stderr",
     "output_type": "stream",
     "text": [
      "2022-12-18 11:12:53.304527: I tensorflow/core/grappler/optimizers/custom_graph_optimizer_registry.cc:114] Plugin optimizer for device_type GPU is enabled.\n"
     ]
    },
    {
     "name": "stdout",
     "output_type": "stream",
     "text": [
      "247/247 [==============================] - ETA: 0s - loss: 7221.5977 - mean_squared_error: 201117504.0000 - mean_absolute_error: 7221.5977WARNING:tensorflow:Model was constructed with shape (None, None, 103) for input KerasTensor(type_spec=TensorSpec(shape=(None, None, 103), dtype=tf.float32, name='dense_168_input'), name='dense_168_input', description=\"created by layer 'dense_168_input'\"), but it was called on an input with incompatible shape (None, 103).\n"
     ]
    },
    {
     "name": "stderr",
     "output_type": "stream",
     "text": [
      "2022-12-18 11:12:59.213089: I tensorflow/core/grappler/optimizers/custom_graph_optimizer_registry.cc:114] Plugin optimizer for device_type GPU is enabled.\n"
     ]
    },
    {
     "name": "stdout",
     "output_type": "stream",
     "text": [
      "247/247 [==============================] - 7s 20ms/step - loss: 7221.5977 - mean_squared_error: 201117504.0000 - mean_absolute_error: 7221.5977 - val_loss: 4861.9019 - val_mean_squared_error: 66001412.0000 - val_mean_absolute_error: 4861.9019\n",
      "Epoch 2/100\n",
      "247/247 [==============================] - 4s 17ms/step - loss: 4128.1597 - mean_squared_error: 91719048.0000 - mean_absolute_error: 4128.1597 - val_loss: 7839.2866 - val_mean_squared_error: 102625672.0000 - val_mean_absolute_error: 7839.2866\n",
      "Epoch 3/100\n",
      "247/247 [==============================] - 4s 17ms/step - loss: 3886.3020 - mean_squared_error: 89925728.0000 - mean_absolute_error: 3886.3020 - val_loss: 4685.3755 - val_mean_squared_error: 66493384.0000 - val_mean_absolute_error: 4685.3755\n",
      "Epoch 4/100\n",
      "247/247 [==============================] - 4s 17ms/step - loss: 3713.3259 - mean_squared_error: 88002056.0000 - mean_absolute_error: 3713.3259 - val_loss: 5253.1152 - val_mean_squared_error: 77412456.0000 - val_mean_absolute_error: 5253.1152\n",
      "Epoch 5/100\n",
      "247/247 [==============================] - 4s 17ms/step - loss: 3538.6763 - mean_squared_error: 84841128.0000 - mean_absolute_error: 3538.6763 - val_loss: 4283.8398 - val_mean_squared_error: 46098932.0000 - val_mean_absolute_error: 4283.8398\n",
      "Epoch 6/100\n",
      "247/247 [==============================] - 4s 17ms/step - loss: 3397.2578 - mean_squared_error: 81208440.0000 - mean_absolute_error: 3397.2578 - val_loss: 3639.5571 - val_mean_squared_error: 48021296.0000 - val_mean_absolute_error: 3639.5571\n",
      "Epoch 7/100\n",
      "247/247 [==============================] - 4s 17ms/step - loss: 3286.2112 - mean_squared_error: 79095592.0000 - mean_absolute_error: 3286.2112 - val_loss: 3695.4187 - val_mean_squared_error: 50966344.0000 - val_mean_absolute_error: 3695.4187\n",
      "Epoch 8/100\n",
      "247/247 [==============================] - 4s 17ms/step - loss: 3162.3250 - mean_squared_error: 75738368.0000 - mean_absolute_error: 3162.3250 - val_loss: 3589.9036 - val_mean_squared_error: 38264248.0000 - val_mean_absolute_error: 3589.9036\n",
      "Epoch 9/100\n",
      "247/247 [==============================] - 4s 17ms/step - loss: 3082.2585 - mean_squared_error: 75299112.0000 - mean_absolute_error: 3082.2585 - val_loss: 3120.0100 - val_mean_squared_error: 41135748.0000 - val_mean_absolute_error: 3120.0100\n",
      "Epoch 10/100\n",
      "247/247 [==============================] - 4s 16ms/step - loss: 3065.9810 - mean_squared_error: 71003728.0000 - mean_absolute_error: 3065.9810 - val_loss: 4974.7729 - val_mean_squared_error: 57857100.0000 - val_mean_absolute_error: 4974.7729\n",
      "Epoch 11/100\n",
      "247/247 [==============================] - 4s 17ms/step - loss: 2970.3853 - mean_squared_error: 73080424.0000 - mean_absolute_error: 2970.3853 - val_loss: 3002.5303 - val_mean_squared_error: 39752652.0000 - val_mean_absolute_error: 3002.5303\n",
      "Epoch 12/100\n",
      "247/247 [==============================] - 4s 17ms/step - loss: 2895.8657 - mean_squared_error: 69511840.0000 - mean_absolute_error: 2895.8657 - val_loss: 2974.7310 - val_mean_squared_error: 41957632.0000 - val_mean_absolute_error: 2974.7310\n",
      "Epoch 13/100\n",
      "247/247 [==============================] - 4s 17ms/step - loss: 2902.4971 - mean_squared_error: 70554368.0000 - mean_absolute_error: 2902.4971 - val_loss: 3139.3242 - val_mean_squared_error: 43039488.0000 - val_mean_absolute_error: 3139.3242\n",
      "Epoch 14/100\n",
      "247/247 [==============================] - 4s 17ms/step - loss: 2806.6865 - mean_squared_error: 70052160.0000 - mean_absolute_error: 2806.6865 - val_loss: 3507.5078 - val_mean_squared_error: 44730540.0000 - val_mean_absolute_error: 3507.5078\n",
      "Epoch 15/100\n",
      "247/247 [==============================] - 4s 17ms/step - loss: 2789.9390 - mean_squared_error: 66767636.0000 - mean_absolute_error: 2789.9390 - val_loss: 3102.0901 - val_mean_squared_error: 41941932.0000 - val_mean_absolute_error: 3102.0901\n",
      "247/247 [==============================] - 2s 6ms/step - loss: 2557.8984 - mean_squared_error: 68681376.0000 - mean_absolute_error: 2557.8984\n",
      "28/28 [==============================] - 0s 10ms/step - loss: 2136.0046 - mean_squared_error: 15987334.0000 - mean_absolute_error: 2136.0046\n",
      "INFO:tensorflow:Assets written to: ../models/fl_tuned/fl_model_store22.pkt/assets\n",
      "**********************Evaluation!!*********************Store_22\n",
      "2136.004638671875\n",
      "_____________________________________Store_23__________________________\n",
      "Epoch 1/100\n",
      "WARNING:tensorflow:Model was constructed with shape (None, None, 103) for input KerasTensor(type_spec=TensorSpec(shape=(None, None, 103), dtype=tf.float32, name='dense_176_input'), name='dense_176_input', description=\"created by layer 'dense_176_input'\"), but it was called on an input with incompatible shape (None, 103).\n",
      "WARNING:tensorflow:Model was constructed with shape (None, None, 103) for input KerasTensor(type_spec=TensorSpec(shape=(None, None, 103), dtype=tf.float32, name='dense_176_input'), name='dense_176_input', description=\"created by layer 'dense_176_input'\"), but it was called on an input with incompatible shape (None, 103).\n"
     ]
    },
    {
     "name": "stderr",
     "output_type": "stream",
     "text": [
      "2022-12-18 11:14:01.270877: I tensorflow/core/grappler/optimizers/custom_graph_optimizer_registry.cc:114] Plugin optimizer for device_type GPU is enabled.\n"
     ]
    },
    {
     "name": "stdout",
     "output_type": "stream",
     "text": [
      "257/257 [==============================] - ETA: 0s - loss: 8822.7119 - mean_squared_error: 261130224.0000 - mean_absolute_error: 8822.7119WARNING:tensorflow:Model was constructed with shape (None, None, 103) for input KerasTensor(type_spec=TensorSpec(shape=(None, None, 103), dtype=tf.float32, name='dense_176_input'), name='dense_176_input', description=\"created by layer 'dense_176_input'\"), but it was called on an input with incompatible shape (None, 103).\n"
     ]
    },
    {
     "name": "stderr",
     "output_type": "stream",
     "text": [
      "2022-12-18 11:14:07.409433: I tensorflow/core/grappler/optimizers/custom_graph_optimizer_registry.cc:114] Plugin optimizer for device_type GPU is enabled.\n"
     ]
    },
    {
     "name": "stdout",
     "output_type": "stream",
     "text": [
      "257/257 [==============================] - 7s 21ms/step - loss: 8822.7119 - mean_squared_error: 261130224.0000 - mean_absolute_error: 8822.7119 - val_loss: 8361.8066 - val_mean_squared_error: 119365160.0000 - val_mean_absolute_error: 8361.8066\n",
      "Epoch 2/100\n",
      "257/257 [==============================] - 4s 17ms/step - loss: 5578.3198 - mean_squared_error: 142012800.0000 - mean_absolute_error: 5578.3198 - val_loss: 4187.0815 - val_mean_squared_error: 76311440.0000 - val_mean_absolute_error: 4187.0815\n",
      "Epoch 3/100\n",
      "257/257 [==============================] - 4s 17ms/step - loss: 5233.6763 - mean_squared_error: 134938848.0000 - mean_absolute_error: 5233.6763 - val_loss: 7216.0742 - val_mean_squared_error: 138643552.0000 - val_mean_absolute_error: 7216.0742\n",
      "Epoch 4/100\n",
      "257/257 [==============================] - 4s 17ms/step - loss: 5086.1094 - mean_squared_error: 131777728.0000 - mean_absolute_error: 5086.1094 - val_loss: 6092.9702 - val_mean_squared_error: 90653600.0000 - val_mean_absolute_error: 6092.9702\n",
      "Epoch 5/100\n",
      "257/257 [==============================] - 4s 17ms/step - loss: 4863.4097 - mean_squared_error: 125793168.0000 - mean_absolute_error: 4863.4097 - val_loss: 5380.7358 - val_mean_squared_error: 87852368.0000 - val_mean_absolute_error: 5380.7358\n",
      "Epoch 6/100\n",
      "257/257 [==============================] - 4s 17ms/step - loss: 4660.5752 - mean_squared_error: 119074504.0000 - mean_absolute_error: 4660.5752 - val_loss: 4082.1741 - val_mean_squared_error: 72021392.0000 - val_mean_absolute_error: 4082.1741\n",
      "Epoch 7/100\n",
      "257/257 [==============================] - 4s 17ms/step - loss: 4483.5850 - mean_squared_error: 116287432.0000 - mean_absolute_error: 4483.5850 - val_loss: 6323.2402 - val_mean_squared_error: 116169440.0000 - val_mean_absolute_error: 6323.2402\n",
      "Epoch 8/100\n",
      "257/257 [==============================] - 4s 17ms/step - loss: 4350.2637 - mean_squared_error: 110396288.0000 - mean_absolute_error: 4350.2637 - val_loss: 4962.1924 - val_mean_squared_error: 72670416.0000 - val_mean_absolute_error: 4962.1924\n",
      "Epoch 9/100\n",
      "257/257 [==============================] - 4s 17ms/step - loss: 4211.2515 - mean_squared_error: 108168336.0000 - mean_absolute_error: 4211.2515 - val_loss: 4189.4282 - val_mean_squared_error: 73960648.0000 - val_mean_absolute_error: 4189.4282\n",
      "Epoch 10/100\n",
      "257/257 [==============================] - 4s 17ms/step - loss: 4225.1499 - mean_squared_error: 108482656.0000 - mean_absolute_error: 4225.1499 - val_loss: 5035.9360 - val_mean_squared_error: 102638056.0000 - val_mean_absolute_error: 5035.9360\n",
      "257/257 [==============================] - 2s 6ms/step - loss: 3764.0916 - mean_squared_error: 104563816.0000 - mean_absolute_error: 3764.0916\n",
      "29/29 [==============================] - 0s 10ms/step - loss: 3340.9417 - mean_squared_error: 38493984.0000 - mean_absolute_error: 3340.9417\n",
      "INFO:tensorflow:Assets written to: ../models/fl_tuned/fl_model_store23.pkt/assets\n",
      "**********************Evaluation!!*********************Store_23\n",
      "3340.941650390625\n",
      "_____________________________________Store_24__________________________\n",
      "Epoch 1/100\n",
      "WARNING:tensorflow:Model was constructed with shape (None, None, 103) for input KerasTensor(type_spec=TensorSpec(shape=(None, None, 103), dtype=tf.float32, name='dense_184_input'), name='dense_184_input', description=\"created by layer 'dense_184_input'\"), but it was called on an input with incompatible shape (None, 103).\n",
      "WARNING:tensorflow:Model was constructed with shape (None, None, 103) for input KerasTensor(type_spec=TensorSpec(shape=(None, None, 103), dtype=tf.float32, name='dense_184_input'), name='dense_184_input', description=\"created by layer 'dense_184_input'\"), but it was called on an input with incompatible shape (None, 103).\n"
     ]
    },
    {
     "name": "stderr",
     "output_type": "stream",
     "text": [
      "2022-12-18 11:14:50.654763: I tensorflow/core/grappler/optimizers/custom_graph_optimizer_registry.cc:114] Plugin optimizer for device_type GPU is enabled.\n"
     ]
    },
    {
     "name": "stdout",
     "output_type": "stream",
     "text": [
      "262/262 [==============================] - ETA: 0s - loss: 8564.9004 - mean_squared_error: 275387392.0000 - mean_absolute_error: 8564.9004WARNING:tensorflow:Model was constructed with shape (None, None, 103) for input KerasTensor(type_spec=TensorSpec(shape=(None, None, 103), dtype=tf.float32, name='dense_184_input'), name='dense_184_input', description=\"created by layer 'dense_184_input'\"), but it was called on an input with incompatible shape (None, 103).\n"
     ]
    },
    {
     "name": "stderr",
     "output_type": "stream",
     "text": [
      "2022-12-18 11:14:56.723588: I tensorflow/core/grappler/optimizers/custom_graph_optimizer_registry.cc:114] Plugin optimizer for device_type GPU is enabled.\n"
     ]
    },
    {
     "name": "stdout",
     "output_type": "stream",
     "text": [
      "262/262 [==============================] - 7s 20ms/step - loss: 8564.9004 - mean_squared_error: 275387392.0000 - mean_absolute_error: 8564.9004 - val_loss: 6588.9590 - val_mean_squared_error: 123085288.0000 - val_mean_absolute_error: 6588.9590\n",
      "Epoch 2/100\n",
      "262/262 [==============================] - 4s 17ms/step - loss: 4529.3882 - mean_squared_error: 80184016.0000 - mean_absolute_error: 4529.3882 - val_loss: 7387.3555 - val_mean_squared_error: 123301416.0000 - val_mean_absolute_error: 7387.3555\n",
      "Epoch 3/100\n",
      "262/262 [==============================] - 4s 17ms/step - loss: 4234.9517 - mean_squared_error: 71917656.0000 - mean_absolute_error: 4234.9517 - val_loss: 6780.0068 - val_mean_squared_error: 134106016.0000 - val_mean_absolute_error: 6780.0068\n",
      "Epoch 4/100\n",
      "262/262 [==============================] - 4s 17ms/step - loss: 3968.3667 - mean_squared_error: 64913892.0000 - mean_absolute_error: 3968.3667 - val_loss: 5294.0898 - val_mean_squared_error: 71667352.0000 - val_mean_absolute_error: 5294.0898\n",
      "Epoch 5/100\n",
      "262/262 [==============================] - 4s 17ms/step - loss: 3747.2117 - mean_squared_error: 60324380.0000 - mean_absolute_error: 3747.2117 - val_loss: 4948.0132 - val_mean_squared_error: 46078028.0000 - val_mean_absolute_error: 4948.0132\n",
      "Epoch 6/100\n",
      "262/262 [==============================] - 4s 17ms/step - loss: 3657.7869 - mean_squared_error: 59386744.0000 - mean_absolute_error: 3657.7869 - val_loss: 10571.6904 - val_mean_squared_error: 260008896.0000 - val_mean_absolute_error: 10571.6904\n",
      "Epoch 7/100\n",
      "262/262 [==============================] - 4s 16ms/step - loss: 3517.3328 - mean_squared_error: 56601780.0000 - mean_absolute_error: 3517.3328 - val_loss: 7589.8296 - val_mean_squared_error: 150511280.0000 - val_mean_absolute_error: 7589.8296\n",
      "Epoch 8/100\n",
      "262/262 [==============================] - 4s 16ms/step - loss: 3473.5994 - mean_squared_error: 54875208.0000 - mean_absolute_error: 3473.5994 - val_loss: 3480.4990 - val_mean_squared_error: 40196760.0000 - val_mean_absolute_error: 3480.4990\n",
      "Epoch 9/100\n",
      "262/262 [==============================] - 5s 17ms/step - loss: 3264.8213 - mean_squared_error: 50837624.0000 - mean_absolute_error: 3264.8213 - val_loss: 4912.9990 - val_mean_squared_error: 66225824.0000 - val_mean_absolute_error: 4912.9990\n",
      "Epoch 10/100\n",
      "262/262 [==============================] - 5s 18ms/step - loss: 3262.1641 - mean_squared_error: 51363040.0000 - mean_absolute_error: 3262.1641 - val_loss: 3297.4412 - val_mean_squared_error: 41223988.0000 - val_mean_absolute_error: 3297.4412\n",
      "Epoch 11/100\n",
      "262/262 [==============================] - 5s 17ms/step - loss: 3191.9480 - mean_squared_error: 50949356.0000 - mean_absolute_error: 3191.9480 - val_loss: 4169.6191 - val_mean_squared_error: 48615664.0000 - val_mean_absolute_error: 4169.6191\n",
      "Epoch 12/100\n",
      "262/262 [==============================] - 4s 17ms/step - loss: 3121.3323 - mean_squared_error: 45944684.0000 - mean_absolute_error: 3121.3323 - val_loss: 3635.8467 - val_mean_squared_error: 46731008.0000 - val_mean_absolute_error: 3635.8467\n",
      "Epoch 13/100\n",
      "262/262 [==============================] - 5s 17ms/step - loss: 3032.8320 - mean_squared_error: 44538820.0000 - mean_absolute_error: 3032.8320 - val_loss: 4479.2705 - val_mean_squared_error: 61361496.0000 - val_mean_absolute_error: 4479.2705\n",
      "Epoch 14/100\n",
      "262/262 [==============================] - 5s 18ms/step - loss: 3003.5903 - mean_squared_error: 45904692.0000 - mean_absolute_error: 3003.5903 - val_loss: 5984.0186 - val_mean_squared_error: 64918648.0000 - val_mean_absolute_error: 5984.0186\n",
      "262/262 [==============================] - 2s 7ms/step - loss: 4966.7666 - mean_squared_error: 90129776.0000 - mean_absolute_error: 4966.7666\n",
      "30/30 [==============================] - 0s 9ms/step - loss: 3038.1633 - mean_squared_error: 29086538.0000 - mean_absolute_error: 3038.1633\n",
      "INFO:tensorflow:Assets written to: ../models/fl_tuned/fl_model_store24.pkt/assets\n",
      "**********************Evaluation!!*********************Store_24\n",
      "3038.163330078125\n",
      "_____________________________________Store_25__________________________\n",
      "Epoch 1/100\n",
      "WARNING:tensorflow:Model was constructed with shape (None, None, 103) for input KerasTensor(type_spec=TensorSpec(shape=(None, None, 103), dtype=tf.float32, name='dense_192_input'), name='dense_192_input', description=\"created by layer 'dense_192_input'\"), but it was called on an input with incompatible shape (None, 103).\n",
      "WARNING:tensorflow:Model was constructed with shape (None, None, 103) for input KerasTensor(type_spec=TensorSpec(shape=(None, None, 103), dtype=tf.float32, name='dense_192_input'), name='dense_192_input', description=\"created by layer 'dense_192_input'\"), but it was called on an input with incompatible shape (None, 103).\n"
     ]
    },
    {
     "name": "stderr",
     "output_type": "stream",
     "text": [
      "2022-12-18 11:15:59.227367: I tensorflow/core/grappler/optimizers/custom_graph_optimizer_registry.cc:114] Plugin optimizer for device_type GPU is enabled.\n"
     ]
    },
    {
     "name": "stdout",
     "output_type": "stream",
     "text": [
      "250/250 [==============================] - ETA: 0s - loss: 5170.0508 - mean_squared_error: 96919648.0000 - mean_absolute_error: 5170.0508WARNING:tensorflow:Model was constructed with shape (None, None, 103) for input KerasTensor(type_spec=TensorSpec(shape=(None, None, 103), dtype=tf.float32, name='dense_192_input'), name='dense_192_input', description=\"created by layer 'dense_192_input'\"), but it was called on an input with incompatible shape (None, 103).\n"
     ]
    },
    {
     "name": "stderr",
     "output_type": "stream",
     "text": [
      "2022-12-18 11:16:05.297517: I tensorflow/core/grappler/optimizers/custom_graph_optimizer_registry.cc:114] Plugin optimizer for device_type GPU is enabled.\n"
     ]
    },
    {
     "name": "stdout",
     "output_type": "stream",
     "text": [
      "250/250 [==============================] - 7s 21ms/step - loss: 5170.0508 - mean_squared_error: 96919648.0000 - mean_absolute_error: 5170.0508 - val_loss: 2413.9189 - val_mean_squared_error: 22307546.0000 - val_mean_absolute_error: 2413.9189\n",
      "Epoch 2/100\n",
      "250/250 [==============================] - 4s 17ms/step - loss: 2770.5022 - mean_squared_error: 36636348.0000 - mean_absolute_error: 2770.5022 - val_loss: 3082.6611 - val_mean_squared_error: 26401912.0000 - val_mean_absolute_error: 3082.6611\n",
      "Epoch 3/100\n",
      "250/250 [==============================] - 4s 17ms/step - loss: 2650.7915 - mean_squared_error: 35785612.0000 - mean_absolute_error: 2650.7915 - val_loss: 2827.0269 - val_mean_squared_error: 26919110.0000 - val_mean_absolute_error: 2827.0269\n",
      "Epoch 4/100\n",
      "250/250 [==============================] - 4s 17ms/step - loss: 2511.5930 - mean_squared_error: 34587360.0000 - mean_absolute_error: 2511.5930 - val_loss: 2597.5605 - val_mean_squared_error: 25738012.0000 - val_mean_absolute_error: 2597.5605\n",
      "Epoch 5/100\n",
      "250/250 [==============================] - 4s 17ms/step - loss: 2405.3286 - mean_squared_error: 32974784.0000 - mean_absolute_error: 2405.3286 - val_loss: 2203.3396 - val_mean_squared_error: 18750586.0000 - val_mean_absolute_error: 2203.3396\n",
      "Epoch 6/100\n",
      "250/250 [==============================] - 4s 17ms/step - loss: 2321.1973 - mean_squared_error: 32030606.0000 - mean_absolute_error: 2321.1973 - val_loss: 2958.9048 - val_mean_squared_error: 26946912.0000 - val_mean_absolute_error: 2958.9048\n",
      "Epoch 7/100\n",
      "250/250 [==============================] - 4s 17ms/step - loss: 2249.3145 - mean_squared_error: 30457802.0000 - mean_absolute_error: 2249.3145 - val_loss: 2359.0972 - val_mean_squared_error: 23090008.0000 - val_mean_absolute_error: 2359.0972\n",
      "Epoch 8/100\n",
      "250/250 [==============================] - 4s 17ms/step - loss: 2187.0085 - mean_squared_error: 29630452.0000 - mean_absolute_error: 2187.0085 - val_loss: 1976.4984 - val_mean_squared_error: 17249074.0000 - val_mean_absolute_error: 1976.4984\n",
      "Epoch 9/100\n",
      "250/250 [==============================] - 4s 17ms/step - loss: 2175.1089 - mean_squared_error: 28830940.0000 - mean_absolute_error: 2175.1089 - val_loss: 2110.7861 - val_mean_squared_error: 21096680.0000 - val_mean_absolute_error: 2110.7861\n",
      "Epoch 10/100\n",
      "250/250 [==============================] - 4s 18ms/step - loss: 2091.3315 - mean_squared_error: 27479886.0000 - mean_absolute_error: 2091.3315 - val_loss: 2312.6724 - val_mean_squared_error: 20340278.0000 - val_mean_absolute_error: 2312.6724\n",
      "Epoch 11/100\n",
      "250/250 [==============================] - 4s 17ms/step - loss: 2032.5210 - mean_squared_error: 26522188.0000 - mean_absolute_error: 2032.5210 - val_loss: 2175.9150 - val_mean_squared_error: 21814864.0000 - val_mean_absolute_error: 2175.9150\n",
      "Epoch 12/100\n",
      "250/250 [==============================] - 4s 17ms/step - loss: 2010.4598 - mean_squared_error: 26034886.0000 - mean_absolute_error: 2010.4598 - val_loss: 2348.9822 - val_mean_squared_error: 23238152.0000 - val_mean_absolute_error: 2348.9822\n",
      "250/250 [==============================] - 2s 7ms/step - loss: 1816.6775 - mean_squared_error: 25183448.0000 - mean_absolute_error: 1816.6775\n",
      "28/28 [==============================] - 0s 9ms/step - loss: 1456.4233 - mean_squared_error: 8121126.5000 - mean_absolute_error: 1456.4233\n",
      "INFO:tensorflow:Assets written to: ../models/fl_tuned/fl_model_store25.pkt/assets\n",
      "**********************Evaluation!!*********************Store_25\n",
      "1456.42333984375\n",
      "_____________________________________Store_26__________________________\n",
      "Epoch 1/100\n",
      "WARNING:tensorflow:Model was constructed with shape (None, None, 103) for input KerasTensor(type_spec=TensorSpec(shape=(None, None, 103), dtype=tf.float32, name='dense_200_input'), name='dense_200_input', description=\"created by layer 'dense_200_input'\"), but it was called on an input with incompatible shape (None, 103).\n",
      "WARNING:tensorflow:Model was constructed with shape (None, None, 103) for input KerasTensor(type_spec=TensorSpec(shape=(None, None, 103), dtype=tf.float32, name='dense_200_input'), name='dense_200_input', description=\"created by layer 'dense_200_input'\"), but it was called on an input with incompatible shape (None, 103).\n"
     ]
    },
    {
     "name": "stderr",
     "output_type": "stream",
     "text": [
      "2022-12-18 11:16:57.277072: I tensorflow/core/grappler/optimizers/custom_graph_optimizer_registry.cc:114] Plugin optimizer for device_type GPU is enabled.\n"
     ]
    },
    {
     "name": "stdout",
     "output_type": "stream",
     "text": [
      "252/252 [==============================] - ETA: 0s - loss: 7235.3755 - mean_squared_error: 223262448.0000 - mean_absolute_error: 7235.3755WARNING:tensorflow:Model was constructed with shape (None, None, 103) for input KerasTensor(type_spec=TensorSpec(shape=(None, None, 103), dtype=tf.float32, name='dense_200_input'), name='dense_200_input', description=\"created by layer 'dense_200_input'\"), but it was called on an input with incompatible shape (None, 103).\n"
     ]
    },
    {
     "name": "stderr",
     "output_type": "stream",
     "text": [
      "2022-12-18 11:17:03.333538: I tensorflow/core/grappler/optimizers/custom_graph_optimizer_registry.cc:114] Plugin optimizer for device_type GPU is enabled.\n"
     ]
    },
    {
     "name": "stdout",
     "output_type": "stream",
     "text": [
      "252/252 [==============================] - 7s 20ms/step - loss: 7235.3755 - mean_squared_error: 223262448.0000 - mean_absolute_error: 7235.3755 - val_loss: 8466.3350 - val_mean_squared_error: 124669752.0000 - val_mean_absolute_error: 8466.3350\n",
      "Epoch 2/100\n",
      "252/252 [==============================] - 4s 17ms/step - loss: 3626.6208 - mean_squared_error: 50281172.0000 - mean_absolute_error: 3626.6208 - val_loss: 2800.4116 - val_mean_squared_error: 29877544.0000 - val_mean_absolute_error: 2800.4116\n",
      "Epoch 3/100\n",
      "252/252 [==============================] - 4s 17ms/step - loss: 3229.9712 - mean_squared_error: 42520944.0000 - mean_absolute_error: 3229.9712 - val_loss: 2442.6333 - val_mean_squared_error: 23610826.0000 - val_mean_absolute_error: 2442.6333\n",
      "Epoch 4/100\n",
      "252/252 [==============================] - 4s 17ms/step - loss: 3017.7998 - mean_squared_error: 37959744.0000 - mean_absolute_error: 3017.7998 - val_loss: 2679.4424 - val_mean_squared_error: 31940114.0000 - val_mean_absolute_error: 2679.4424\n",
      "Epoch 5/100\n",
      "252/252 [==============================] - 4s 17ms/step - loss: 2895.1355 - mean_squared_error: 37172508.0000 - mean_absolute_error: 2895.1355 - val_loss: 4029.6665 - val_mean_squared_error: 46174568.0000 - val_mean_absolute_error: 4029.6665\n",
      "Epoch 6/100\n",
      "252/252 [==============================] - 4s 17ms/step - loss: 2741.7664 - mean_squared_error: 32782424.0000 - mean_absolute_error: 2741.7664 - val_loss: 2670.3984 - val_mean_squared_error: 28436004.0000 - val_mean_absolute_error: 2670.3984\n",
      "Epoch 7/100\n",
      "252/252 [==============================] - 4s 17ms/step - loss: 2687.8044 - mean_squared_error: 33719824.0000 - mean_absolute_error: 2687.8044 - val_loss: 3428.7458 - val_mean_squared_error: 43415308.0000 - val_mean_absolute_error: 3428.7458\n",
      "252/252 [==============================] - 2s 6ms/step - loss: 2443.2815 - mean_squared_error: 32265642.0000 - mean_absolute_error: 2443.2815\n",
      "29/29 [==============================] - 0s 10ms/step - loss: 2247.0581 - mean_squared_error: 17463236.0000 - mean_absolute_error: 2247.0581\n",
      "INFO:tensorflow:Assets written to: ../models/fl_tuned/fl_model_store26.pkt/assets\n",
      "**********************Evaluation!!*********************Store_26\n",
      "2247.05810546875\n",
      "_____________________________________Store_27__________________________\n",
      "Epoch 1/100\n",
      "WARNING:tensorflow:Model was constructed with shape (None, None, 103) for input KerasTensor(type_spec=TensorSpec(shape=(None, None, 103), dtype=tf.float32, name='dense_208_input'), name='dense_208_input', description=\"created by layer 'dense_208_input'\"), but it was called on an input with incompatible shape (None, 103).\n",
      "WARNING:tensorflow:Model was constructed with shape (None, None, 103) for input KerasTensor(type_spec=TensorSpec(shape=(None, None, 103), dtype=tf.float32, name='dense_208_input'), name='dense_208_input', description=\"created by layer 'dense_208_input'\"), but it was called on an input with incompatible shape (None, 103).\n"
     ]
    },
    {
     "name": "stderr",
     "output_type": "stream",
     "text": [
      "2022-12-18 11:17:33.367031: I tensorflow/core/grappler/optimizers/custom_graph_optimizer_registry.cc:114] Plugin optimizer for device_type GPU is enabled.\n"
     ]
    },
    {
     "name": "stdout",
     "output_type": "stream",
     "text": [
      "261/261 [==============================] - ETA: 0s - loss: 11330.5391 - mean_squared_error: 497089024.0000 - mean_absolute_error: 11330.5391WARNING:tensorflow:Model was constructed with shape (None, None, 103) for input KerasTensor(type_spec=TensorSpec(shape=(None, None, 103), dtype=tf.float32, name='dense_208_input'), name='dense_208_input', description=\"created by layer 'dense_208_input'\"), but it was called on an input with incompatible shape (None, 103).\n"
     ]
    },
    {
     "name": "stderr",
     "output_type": "stream",
     "text": [
      "2022-12-18 11:17:39.481386: I tensorflow/core/grappler/optimizers/custom_graph_optimizer_registry.cc:114] Plugin optimizer for device_type GPU is enabled.\n"
     ]
    },
    {
     "name": "stdout",
     "output_type": "stream",
     "text": [
      "261/261 [==============================] - 7s 20ms/step - loss: 11330.5391 - mean_squared_error: 497089024.0000 - mean_absolute_error: 11330.5391 - val_loss: 4134.8037 - val_mean_squared_error: 58067944.0000 - val_mean_absolute_error: 4134.8037\n",
      "Epoch 2/100\n",
      "261/261 [==============================] - 4s 17ms/step - loss: 6140.8140 - mean_squared_error: 155335600.0000 - mean_absolute_error: 6140.8140 - val_loss: 4550.3726 - val_mean_squared_error: 56056168.0000 - val_mean_absolute_error: 4550.3726\n",
      "Epoch 3/100\n",
      "261/261 [==============================] - 4s 17ms/step - loss: 5706.9395 - mean_squared_error: 145721008.0000 - mean_absolute_error: 5706.9395 - val_loss: 4167.9238 - val_mean_squared_error: 57473800.0000 - val_mean_absolute_error: 4167.9238\n",
      "Epoch 4/100\n",
      "261/261 [==============================] - 4s 17ms/step - loss: 5286.3496 - mean_squared_error: 131548712.0000 - mean_absolute_error: 5286.3496 - val_loss: 3916.4756 - val_mean_squared_error: 58163004.0000 - val_mean_absolute_error: 3916.4756\n",
      "Epoch 5/100\n",
      "261/261 [==============================] - 4s 17ms/step - loss: 5124.0298 - mean_squared_error: 133517392.0000 - mean_absolute_error: 5124.0298 - val_loss: 3991.0474 - val_mean_squared_error: 53516024.0000 - val_mean_absolute_error: 3991.0474\n",
      "Epoch 6/100\n",
      "261/261 [==============================] - 4s 17ms/step - loss: 4906.1792 - mean_squared_error: 124854600.0000 - mean_absolute_error: 4906.1792 - val_loss: 4602.8994 - val_mean_squared_error: 66377984.0000 - val_mean_absolute_error: 4602.8994\n",
      "Epoch 7/100\n",
      "261/261 [==============================] - 4s 17ms/step - loss: 4669.5615 - mean_squared_error: 118988008.0000 - mean_absolute_error: 4669.5615 - val_loss: 4303.1694 - val_mean_squared_error: 66589644.0000 - val_mean_absolute_error: 4303.1694\n",
      "Epoch 8/100\n",
      "261/261 [==============================] - 4s 17ms/step - loss: 4556.3809 - mean_squared_error: 115911864.0000 - mean_absolute_error: 4556.3809 - val_loss: 5674.5361 - val_mean_squared_error: 78808344.0000 - val_mean_absolute_error: 5674.5361\n",
      "261/261 [==============================] - 2s 6ms/step - loss: 4304.5854 - mean_squared_error: 104422856.0000 - mean_absolute_error: 4304.5854\n",
      "29/29 [==============================] - 0s 10ms/step - loss: 3311.7876 - mean_squared_error: 36506824.0000 - mean_absolute_error: 3311.7876\n",
      "INFO:tensorflow:Assets written to: ../models/fl_tuned/fl_model_store27.pkt/assets\n",
      "**********************Evaluation!!*********************Store_27\n",
      "3311.78759765625\n",
      "_____________________________________Store_28__________________________\n",
      "Epoch 1/100\n",
      "WARNING:tensorflow:Model was constructed with shape (None, None, 103) for input KerasTensor(type_spec=TensorSpec(shape=(None, None, 103), dtype=tf.float32, name='dense_216_input'), name='dense_216_input', description=\"created by layer 'dense_216_input'\"), but it was called on an input with incompatible shape (None, 103).\n",
      "WARNING:tensorflow:Model was constructed with shape (None, None, 103) for input KerasTensor(type_spec=TensorSpec(shape=(None, None, 103), dtype=tf.float32, name='dense_216_input'), name='dense_216_input', description=\"created by layer 'dense_216_input'\"), but it was called on an input with incompatible shape (None, 103).\n"
     ]
    },
    {
     "name": "stderr",
     "output_type": "stream",
     "text": [
      "2022-12-18 11:18:14.674633: I tensorflow/core/grappler/optimizers/custom_graph_optimizer_registry.cc:114] Plugin optimizer for device_type GPU is enabled.\n"
     ]
    },
    {
     "name": "stdout",
     "output_type": "stream",
     "text": [
      "259/259 [==============================] - ETA: 0s - loss: 8399.2559 - mean_squared_error: 270255040.0000 - mean_absolute_error: 8399.2559WARNING:tensorflow:Model was constructed with shape (None, None, 103) for input KerasTensor(type_spec=TensorSpec(shape=(None, None, 103), dtype=tf.float32, name='dense_216_input'), name='dense_216_input', description=\"created by layer 'dense_216_input'\"), but it was called on an input with incompatible shape (None, 103).\n"
     ]
    },
    {
     "name": "stderr",
     "output_type": "stream",
     "text": [
      "2022-12-18 11:18:20.580993: I tensorflow/core/grappler/optimizers/custom_graph_optimizer_registry.cc:114] Plugin optimizer for device_type GPU is enabled.\n"
     ]
    },
    {
     "name": "stdout",
     "output_type": "stream",
     "text": [
      "259/259 [==============================] - 7s 20ms/step - loss: 8399.2559 - mean_squared_error: 270255040.0000 - mean_absolute_error: 8399.2559 - val_loss: 3345.5793 - val_mean_squared_error: 39458928.0000 - val_mean_absolute_error: 3345.5793\n",
      "Epoch 2/100\n",
      "259/259 [==============================] - 4s 17ms/step - loss: 4625.2368 - mean_squared_error: 98790480.0000 - mean_absolute_error: 4625.2368 - val_loss: 3185.4087 - val_mean_squared_error: 30737912.0000 - val_mean_absolute_error: 3185.4087\n",
      "Epoch 3/100\n",
      "259/259 [==============================] - 4s 17ms/step - loss: 4371.4478 - mean_squared_error: 95214624.0000 - mean_absolute_error: 4371.4478 - val_loss: 8492.0283 - val_mean_squared_error: 176363872.0000 - val_mean_absolute_error: 8492.0283\n",
      "Epoch 4/100\n",
      "259/259 [==============================] - 4s 17ms/step - loss: 4139.3691 - mean_squared_error: 88217472.0000 - mean_absolute_error: 4139.3691 - val_loss: 6234.3320 - val_mean_squared_error: 99290456.0000 - val_mean_absolute_error: 6234.3320\n",
      "Epoch 5/100\n",
      "259/259 [==============================] - 4s 17ms/step - loss: 4062.0596 - mean_squared_error: 88207896.0000 - mean_absolute_error: 4062.0596 - val_loss: 5304.8628 - val_mean_squared_error: 65102372.0000 - val_mean_absolute_error: 5304.8628\n",
      "Epoch 6/100\n",
      "259/259 [==============================] - 4s 17ms/step - loss: 3851.3110 - mean_squared_error: 83058400.0000 - mean_absolute_error: 3851.3110 - val_loss: 2445.4653 - val_mean_squared_error: 32216508.0000 - val_mean_absolute_error: 2445.4653\n",
      "Epoch 7/100\n",
      "259/259 [==============================] - 4s 17ms/step - loss: 3768.4219 - mean_squared_error: 80932992.0000 - mean_absolute_error: 3768.4219 - val_loss: 5604.1528 - val_mean_squared_error: 94768016.0000 - val_mean_absolute_error: 5604.1528\n",
      "Epoch 8/100\n",
      "259/259 [==============================] - 4s 17ms/step - loss: 3768.2295 - mean_squared_error: 82190120.0000 - mean_absolute_error: 3768.2295 - val_loss: 5111.6108 - val_mean_squared_error: 90195136.0000 - val_mean_absolute_error: 5111.6108\n",
      "Epoch 9/100\n",
      "259/259 [==============================] - 4s 17ms/step - loss: 3628.0701 - mean_squared_error: 80634616.0000 - mean_absolute_error: 3628.0701 - val_loss: 4040.5872 - val_mean_squared_error: 53314380.0000 - val_mean_absolute_error: 4040.5872\n",
      "Epoch 10/100\n",
      "259/259 [==============================] - 4s 17ms/step - loss: 3566.3547 - mean_squared_error: 76834184.0000 - mean_absolute_error: 3566.3547 - val_loss: 3529.9060 - val_mean_squared_error: 34994996.0000 - val_mean_absolute_error: 3529.9060\n",
      "259/259 [==============================] - 2s 7ms/step - loss: 3667.7007 - mean_squared_error: 85434080.0000 - mean_absolute_error: 3667.7007\n",
      "29/29 [==============================] - 0s 10ms/step - loss: 2989.2361 - mean_squared_error: 40747152.0000 - mean_absolute_error: 2989.2361\n",
      "INFO:tensorflow:Assets written to: ../models/fl_tuned/fl_model_store28.pkt/assets\n",
      "**********************Evaluation!!*********************Store_28\n",
      "2989.236083984375\n",
      "_____________________________________Store_29__________________________\n",
      "Epoch 1/100\n",
      "WARNING:tensorflow:Model was constructed with shape (None, None, 103) for input KerasTensor(type_spec=TensorSpec(shape=(None, None, 103), dtype=tf.float32, name='dense_224_input'), name='dense_224_input', description=\"created by layer 'dense_224_input'\"), but it was called on an input with incompatible shape (None, 103).\n",
      "WARNING:tensorflow:Model was constructed with shape (None, None, 103) for input KerasTensor(type_spec=TensorSpec(shape=(None, None, 103), dtype=tf.float32, name='dense_224_input'), name='dense_224_input', description=\"created by layer 'dense_224_input'\"), but it was called on an input with incompatible shape (None, 103).\n"
     ]
    },
    {
     "name": "stderr",
     "output_type": "stream",
     "text": [
      "2022-12-18 11:19:04.214507: I tensorflow/core/grappler/optimizers/custom_graph_optimizer_registry.cc:114] Plugin optimizer for device_type GPU is enabled.\n"
     ]
    },
    {
     "name": "stdout",
     "output_type": "stream",
     "text": [
      "242/242 [==============================] - ETA: 0s - loss: 3922.3271 - mean_squared_error: 68547680.0000 - mean_absolute_error: 3922.3271WARNING:tensorflow:Model was constructed with shape (None, None, 103) for input KerasTensor(type_spec=TensorSpec(shape=(None, None, 103), dtype=tf.float32, name='dense_224_input'), name='dense_224_input', description=\"created by layer 'dense_224_input'\"), but it was called on an input with incompatible shape (None, 103).\n"
     ]
    },
    {
     "name": "stderr",
     "output_type": "stream",
     "text": [
      "2022-12-18 11:19:10.269868: I tensorflow/core/grappler/optimizers/custom_graph_optimizer_registry.cc:114] Plugin optimizer for device_type GPU is enabled.\n"
     ]
    },
    {
     "name": "stdout",
     "output_type": "stream",
     "text": [
      "242/242 [==============================] - 7s 22ms/step - loss: 3922.3271 - mean_squared_error: 68547680.0000 - mean_absolute_error: 3922.3271 - val_loss: 1527.5282 - val_mean_squared_error: 7479967.5000 - val_mean_absolute_error: 1527.5282\n",
      "Epoch 2/100\n",
      "242/242 [==============================] - 4s 17ms/step - loss: 2316.3430 - mean_squared_error: 35173904.0000 - mean_absolute_error: 2316.3430 - val_loss: 1735.8206 - val_mean_squared_error: 8857404.0000 - val_mean_absolute_error: 1735.8206\n",
      "Epoch 3/100\n",
      "242/242 [==============================] - 4s 17ms/step - loss: 2121.9556 - mean_squared_error: 33710612.0000 - mean_absolute_error: 2121.9556 - val_loss: 1779.9955 - val_mean_squared_error: 10894767.0000 - val_mean_absolute_error: 1779.9955\n",
      "Epoch 4/100\n",
      "242/242 [==============================] - 4s 17ms/step - loss: 1997.9717 - mean_squared_error: 31405004.0000 - mean_absolute_error: 1997.9717 - val_loss: 1715.8662 - val_mean_squared_error: 8411055.0000 - val_mean_absolute_error: 1715.8662\n",
      "Epoch 5/100\n",
      "242/242 [==============================] - 4s 17ms/step - loss: 1954.1473 - mean_squared_error: 31470858.0000 - mean_absolute_error: 1954.1473 - val_loss: 1515.0847 - val_mean_squared_error: 8046882.5000 - val_mean_absolute_error: 1515.0847\n",
      "242/242 [==============================] - 2s 6ms/step - loss: 2014.3470 - mean_squared_error: 29965498.0000 - mean_absolute_error: 2014.3470\n",
      "27/27 [==============================] - 0s 10ms/step - loss: 1892.2439 - mean_squared_error: 9914338.0000 - mean_absolute_error: 1892.2439\n",
      "INFO:tensorflow:Assets written to: ../models/fl_tuned/fl_model_store29.pkt/assets\n",
      "**********************Evaluation!!*********************Store_29\n",
      "1892.243896484375\n",
      "_____________________________________Store_30__________________________\n",
      "Epoch 1/100\n",
      "WARNING:tensorflow:Model was constructed with shape (None, None, 103) for input KerasTensor(type_spec=TensorSpec(shape=(None, None, 103), dtype=tf.float32, name='dense_232_input'), name='dense_232_input', description=\"created by layer 'dense_232_input'\"), but it was called on an input with incompatible shape (None, 103).\n",
      "WARNING:tensorflow:Model was constructed with shape (None, None, 103) for input KerasTensor(type_spec=TensorSpec(shape=(None, None, 103), dtype=tf.float32, name='dense_232_input'), name='dense_232_input', description=\"created by layer 'dense_232_input'\"), but it was called on an input with incompatible shape (None, 103).\n"
     ]
    },
    {
     "name": "stderr",
     "output_type": "stream",
     "text": [
      "2022-12-18 11:19:31.434704: I tensorflow/core/grappler/optimizers/custom_graph_optimizer_registry.cc:114] Plugin optimizer for device_type GPU is enabled.\n"
     ]
    },
    {
     "name": "stdout",
     "output_type": "stream",
     "text": [
      "184/184 [==============================] - ETA: 0s - loss: 4779.5693 - mean_squared_error: 114638440.0000 - mean_absolute_error: 4779.5693WARNING:tensorflow:Model was constructed with shape (None, None, 103) for input KerasTensor(type_spec=TensorSpec(shape=(None, None, 103), dtype=tf.float32, name='dense_232_input'), name='dense_232_input', description=\"created by layer 'dense_232_input'\"), but it was called on an input with incompatible shape (None, 103).\n"
     ]
    },
    {
     "name": "stderr",
     "output_type": "stream",
     "text": [
      "2022-12-18 11:19:36.618088: I tensorflow/core/grappler/optimizers/custom_graph_optimizer_registry.cc:114] Plugin optimizer for device_type GPU is enabled.\n"
     ]
    },
    {
     "name": "stdout",
     "output_type": "stream",
     "text": [
      "184/184 [==============================] - 6s 23ms/step - loss: 4779.5693 - mean_squared_error: 114638440.0000 - mean_absolute_error: 4779.5693 - val_loss: 3426.1870 - val_mean_squared_error: 33417530.0000 - val_mean_absolute_error: 3426.1870\n",
      "Epoch 2/100\n",
      "184/184 [==============================] - 3s 17ms/step - loss: 1940.1654 - mean_squared_error: 15194297.0000 - mean_absolute_error: 1940.1654 - val_loss: 1708.6704 - val_mean_squared_error: 9342577.0000 - val_mean_absolute_error: 1708.6704\n",
      "Epoch 3/100\n",
      "184/184 [==============================] - 3s 17ms/step - loss: 1618.0382 - mean_squared_error: 11605608.0000 - mean_absolute_error: 1618.0382 - val_loss: 4226.1919 - val_mean_squared_error: 56873696.0000 - val_mean_absolute_error: 4226.1919\n",
      "Epoch 4/100\n",
      "184/184 [==============================] - 3s 17ms/step - loss: 1534.5743 - mean_squared_error: 11086157.0000 - mean_absolute_error: 1534.5743 - val_loss: 5341.1660 - val_mean_squared_error: 85448960.0000 - val_mean_absolute_error: 5341.1660\n",
      "Epoch 5/100\n",
      "184/184 [==============================] - 3s 17ms/step - loss: 1375.5659 - mean_squared_error: 8828994.0000 - mean_absolute_error: 1375.5659 - val_loss: 2280.0515 - val_mean_squared_error: 18342904.0000 - val_mean_absolute_error: 2280.0515\n",
      "Epoch 6/100\n",
      "184/184 [==============================] - 3s 17ms/step - loss: 1349.6473 - mean_squared_error: 8914424.0000 - mean_absolute_error: 1349.6473 - val_loss: 3316.9917 - val_mean_squared_error: 23862066.0000 - val_mean_absolute_error: 3316.9917\n",
      "184/184 [==============================] - 1s 7ms/step - loss: 1072.8348 - mean_squared_error: 4673177.0000 - mean_absolute_error: 1072.8348\n",
      "21/21 [==============================] - 0s 11ms/step - loss: 1469.7933 - mean_squared_error: 8044543.5000 - mean_absolute_error: 1469.7933\n",
      "INFO:tensorflow:Assets written to: ../models/fl_tuned/fl_model_store30.pkt/assets\n",
      "**********************Evaluation!!*********************Store_30\n",
      "1469.7933349609375\n",
      "_____________________________________Store_31__________________________\n",
      "Epoch 1/100\n",
      "WARNING:tensorflow:Model was constructed with shape (None, None, 103) for input KerasTensor(type_spec=TensorSpec(shape=(None, None, 103), dtype=tf.float32, name='dense_240_input'), name='dense_240_input', description=\"created by layer 'dense_240_input'\"), but it was called on an input with incompatible shape (None, 103).\n",
      "WARNING:tensorflow:Model was constructed with shape (None, None, 103) for input KerasTensor(type_spec=TensorSpec(shape=(None, None, 103), dtype=tf.float32, name='dense_240_input'), name='dense_240_input', description=\"created by layer 'dense_240_input'\"), but it was called on an input with incompatible shape (None, 103).\n"
     ]
    },
    {
     "name": "stderr",
     "output_type": "stream",
     "text": [
      "2022-12-18 11:19:56.016976: I tensorflow/core/grappler/optimizers/custom_graph_optimizer_registry.cc:114] Plugin optimizer for device_type GPU is enabled.\n"
     ]
    },
    {
     "name": "stdout",
     "output_type": "stream",
     "text": [
      "259/259 [==============================] - ETA: 0s - loss: 9439.6094 - mean_squared_error: 376928224.0000 - mean_absolute_error: 9439.6094WARNING:tensorflow:Model was constructed with shape (None, None, 103) for input KerasTensor(type_spec=TensorSpec(shape=(None, None, 103), dtype=tf.float32, name='dense_240_input'), name='dense_240_input', description=\"created by layer 'dense_240_input'\"), but it was called on an input with incompatible shape (None, 103).\n"
     ]
    },
    {
     "name": "stderr",
     "output_type": "stream",
     "text": [
      "2022-12-18 11:20:01.972183: I tensorflow/core/grappler/optimizers/custom_graph_optimizer_registry.cc:114] Plugin optimizer for device_type GPU is enabled.\n"
     ]
    },
    {
     "name": "stdout",
     "output_type": "stream",
     "text": [
      "259/259 [==============================] - 7s 22ms/step - loss: 9439.6094 - mean_squared_error: 376928224.0000 - mean_absolute_error: 9439.6094 - val_loss: 3804.3162 - val_mean_squared_error: 29468788.0000 - val_mean_absolute_error: 3804.3162\n",
      "Epoch 2/100\n",
      "259/259 [==============================] - 4s 17ms/step - loss: 4356.7979 - mean_squared_error: 76420096.0000 - mean_absolute_error: 4356.7979 - val_loss: 3347.6130 - val_mean_squared_error: 23668756.0000 - val_mean_absolute_error: 3347.6130\n",
      "Epoch 3/100\n",
      "259/259 [==============================] - 4s 17ms/step - loss: 3922.3804 - mean_squared_error: 66585692.0000 - mean_absolute_error: 3922.3804 - val_loss: 2860.7932 - val_mean_squared_error: 22019986.0000 - val_mean_absolute_error: 2860.7932\n",
      "Epoch 4/100\n",
      "259/259 [==============================] - 4s 17ms/step - loss: 3693.9761 - mean_squared_error: 63225404.0000 - mean_absolute_error: 3693.9761 - val_loss: 5610.0054 - val_mean_squared_error: 67228576.0000 - val_mean_absolute_error: 5610.0054\n",
      "Epoch 5/100\n",
      "259/259 [==============================] - 4s 17ms/step - loss: 3597.4202 - mean_squared_error: 62204952.0000 - mean_absolute_error: 3597.4202 - val_loss: 2343.6045 - val_mean_squared_error: 16054829.0000 - val_mean_absolute_error: 2343.6045\n",
      "Epoch 6/100\n",
      "259/259 [==============================] - 4s 17ms/step - loss: 3380.4805 - mean_squared_error: 57810328.0000 - mean_absolute_error: 3380.4805 - val_loss: 2908.4316 - val_mean_squared_error: 23892294.0000 - val_mean_absolute_error: 2908.4316\n",
      "Epoch 7/100\n",
      "259/259 [==============================] - 4s 17ms/step - loss: 3239.0920 - mean_squared_error: 53771784.0000 - mean_absolute_error: 3239.0920 - val_loss: 4519.1074 - val_mean_squared_error: 44967164.0000 - val_mean_absolute_error: 4519.1074\n",
      "Epoch 8/100\n",
      "259/259 [==============================] - 4s 17ms/step - loss: 3196.0713 - mean_squared_error: 51710016.0000 - mean_absolute_error: 3196.0713 - val_loss: 2707.0779 - val_mean_squared_error: 18710374.0000 - val_mean_absolute_error: 2707.0779\n",
      "Epoch 9/100\n",
      "259/259 [==============================] - 4s 17ms/step - loss: 3085.8818 - mean_squared_error: 49778220.0000 - mean_absolute_error: 3085.8818 - val_loss: 1844.9474 - val_mean_squared_error: 8767850.0000 - val_mean_absolute_error: 1844.9474\n",
      "Epoch 10/100\n",
      "259/259 [==============================] - 4s 17ms/step - loss: 3003.3198 - mean_squared_error: 48502272.0000 - mean_absolute_error: 3003.3198 - val_loss: 2274.3452 - val_mean_squared_error: 15219633.0000 - val_mean_absolute_error: 2274.3452\n",
      "Epoch 11/100\n",
      "259/259 [==============================] - 4s 17ms/step - loss: 2905.3398 - mean_squared_error: 45780264.0000 - mean_absolute_error: 2905.3398 - val_loss: 3257.0452 - val_mean_squared_error: 34147500.0000 - val_mean_absolute_error: 3257.0452\n",
      "Epoch 12/100\n",
      "259/259 [==============================] - 4s 17ms/step - loss: 2889.1138 - mean_squared_error: 46896400.0000 - mean_absolute_error: 2889.1138 - val_loss: 5524.0610 - val_mean_squared_error: 79399328.0000 - val_mean_absolute_error: 5524.0610\n",
      "Epoch 13/100\n",
      "259/259 [==============================] - 4s 17ms/step - loss: 2823.9680 - mean_squared_error: 45932732.0000 - mean_absolute_error: 2823.9680 - val_loss: 2215.0715 - val_mean_squared_error: 11932180.0000 - val_mean_absolute_error: 2215.0715\n",
      "259/259 [==============================] - 2s 6ms/step - loss: 2316.3745 - mean_squared_error: 36704884.0000 - mean_absolute_error: 2316.3745\n",
      "29/29 [==============================] - 0s 12ms/step - loss: 2377.9045 - mean_squared_error: 17905788.0000 - mean_absolute_error: 2377.9045\n",
      "INFO:tensorflow:Assets written to: ../models/fl_tuned/fl_model_store31.pkt/assets\n",
      "**********************Evaluation!!*********************Store_31\n",
      "2377.904541015625\n",
      "_____________________________________Store_32__________________________\n",
      "Epoch 1/100\n",
      "WARNING:tensorflow:Model was constructed with shape (None, None, 103) for input KerasTensor(type_spec=TensorSpec(shape=(None, None, 103), dtype=tf.float32, name='dense_248_input'), name='dense_248_input', description=\"created by layer 'dense_248_input'\"), but it was called on an input with incompatible shape (None, 103).\n",
      "WARNING:tensorflow:Model was constructed with shape (None, None, 103) for input KerasTensor(type_spec=TensorSpec(shape=(None, None, 103), dtype=tf.float32, name='dense_248_input'), name='dense_248_input', description=\"created by layer 'dense_248_input'\"), but it was called on an input with incompatible shape (None, 103).\n"
     ]
    },
    {
     "name": "stderr",
     "output_type": "stream",
     "text": [
      "2022-12-18 11:20:58.967380: I tensorflow/core/grappler/optimizers/custom_graph_optimizer_registry.cc:114] Plugin optimizer for device_type GPU is enabled.\n"
     ]
    },
    {
     "name": "stdout",
     "output_type": "stream",
     "text": [
      "261/261 [==============================] - ETA: 0s - loss: 7400.9077 - mean_squared_error: 217567088.0000 - mean_absolute_error: 7400.9077WARNING:tensorflow:Model was constructed with shape (None, None, 103) for input KerasTensor(type_spec=TensorSpec(shape=(None, None, 103), dtype=tf.float32, name='dense_248_input'), name='dense_248_input', description=\"created by layer 'dense_248_input'\"), but it was called on an input with incompatible shape (None, 103).\n"
     ]
    },
    {
     "name": "stderr",
     "output_type": "stream",
     "text": [
      "2022-12-18 11:21:05.597601: I tensorflow/core/grappler/optimizers/custom_graph_optimizer_registry.cc:114] Plugin optimizer for device_type GPU is enabled.\n"
     ]
    },
    {
     "name": "stdout",
     "output_type": "stream",
     "text": [
      "261/261 [==============================] - 8s 23ms/step - loss: 7400.9077 - mean_squared_error: 217567088.0000 - mean_absolute_error: 7400.9077 - val_loss: 3552.5195 - val_mean_squared_error: 33805072.0000 - val_mean_absolute_error: 3552.5195\n",
      "Epoch 2/100\n",
      "261/261 [==============================] - 4s 17ms/step - loss: 3865.9875 - mean_squared_error: 63438436.0000 - mean_absolute_error: 3865.9875 - val_loss: 3595.5151 - val_mean_squared_error: 29924102.0000 - val_mean_absolute_error: 3595.5151\n",
      "Epoch 3/100\n",
      "261/261 [==============================] - 4s 17ms/step - loss: 3517.1748 - mean_squared_error: 55568596.0000 - mean_absolute_error: 3517.1748 - val_loss: 6399.7842 - val_mean_squared_error: 98563472.0000 - val_mean_absolute_error: 6399.7842\n",
      "Epoch 4/100\n",
      "261/261 [==============================] - 4s 17ms/step - loss: 3295.0562 - mean_squared_error: 52058584.0000 - mean_absolute_error: 3295.0562 - val_loss: 2982.2317 - val_mean_squared_error: 26546596.0000 - val_mean_absolute_error: 2982.2317\n",
      "Epoch 5/100\n",
      "261/261 [==============================] - 4s 17ms/step - loss: 3121.1333 - mean_squared_error: 48924556.0000 - mean_absolute_error: 3121.1333 - val_loss: 5567.4785 - val_mean_squared_error: 82917032.0000 - val_mean_absolute_error: 5567.4785\n",
      "Epoch 6/100\n",
      "261/261 [==============================] - 4s 17ms/step - loss: 3004.2864 - mean_squared_error: 47611356.0000 - mean_absolute_error: 3004.2864 - val_loss: 5021.5894 - val_mean_squared_error: 68430600.0000 - val_mean_absolute_error: 5021.5894\n",
      "Epoch 7/100\n",
      "261/261 [==============================] - 5s 21ms/step - loss: 2859.4729 - mean_squared_error: 44363096.0000 - mean_absolute_error: 2859.4729 - val_loss: 4049.6636 - val_mean_squared_error: 36009752.0000 - val_mean_absolute_error: 4049.6636\n",
      "Epoch 8/100\n",
      "261/261 [==============================] - 5s 18ms/step - loss: 2798.0012 - mean_squared_error: 43950356.0000 - mean_absolute_error: 2798.0012 - val_loss: 2470.3948 - val_mean_squared_error: 18053800.0000 - val_mean_absolute_error: 2470.3948\n",
      "Epoch 9/100\n",
      "261/261 [==============================] - 5s 18ms/step - loss: 2718.9141 - mean_squared_error: 43420076.0000 - mean_absolute_error: 2718.9141 - val_loss: 2626.0281 - val_mean_squared_error: 14034001.0000 - val_mean_absolute_error: 2626.0281\n",
      "Epoch 10/100\n",
      "261/261 [==============================] - 5s 18ms/step - loss: 2630.5251 - mean_squared_error: 40279952.0000 - mean_absolute_error: 2630.5251 - val_loss: 2467.2336 - val_mean_squared_error: 20025286.0000 - val_mean_absolute_error: 2467.2336\n",
      "Epoch 11/100\n",
      "261/261 [==============================] - 5s 17ms/step - loss: 2567.8511 - mean_squared_error: 39780604.0000 - mean_absolute_error: 2567.8511 - val_loss: 3777.0408 - val_mean_squared_error: 41274648.0000 - val_mean_absolute_error: 3777.0408\n",
      "Epoch 12/100\n",
      "261/261 [==============================] - 4s 17ms/step - loss: 2528.1084 - mean_squared_error: 40219556.0000 - mean_absolute_error: 2528.1084 - val_loss: 6268.3999 - val_mean_squared_error: 155216416.0000 - val_mean_absolute_error: 6268.3999\n",
      "261/261 [==============================] - 2s 8ms/step - loss: 3070.5808 - mean_squared_error: 44604868.0000 - mean_absolute_error: 3070.5808\n",
      "29/29 [==============================] - 0s 11ms/step - loss: 2403.5371 - mean_squared_error: 21088536.0000 - mean_absolute_error: 2403.5371\n",
      "INFO:tensorflow:Assets written to: ../models/fl_tuned/fl_model_store32.pkt/assets\n",
      "**********************Evaluation!!*********************Store_32\n",
      "2403.537109375\n",
      "_____________________________________Store_33__________________________\n",
      "Epoch 1/100\n",
      "WARNING:tensorflow:Model was constructed with shape (None, None, 103) for input KerasTensor(type_spec=TensorSpec(shape=(None, None, 103), dtype=tf.float32, name='dense_256_input'), name='dense_256_input', description=\"created by layer 'dense_256_input'\"), but it was called on an input with incompatible shape (None, 103).\n",
      "WARNING:tensorflow:Model was constructed with shape (None, None, 103) for input KerasTensor(type_spec=TensorSpec(shape=(None, None, 103), dtype=tf.float32, name='dense_256_input'), name='dense_256_input', description=\"created by layer 'dense_256_input'\"), but it was called on an input with incompatible shape (None, 103).\n"
     ]
    },
    {
     "name": "stderr",
     "output_type": "stream",
     "text": [
      "2022-12-18 11:22:01.377089: I tensorflow/core/grappler/optimizers/custom_graph_optimizer_registry.cc:114] Plugin optimizer for device_type GPU is enabled.\n"
     ]
    },
    {
     "name": "stdout",
     "output_type": "stream",
     "text": [
      "165/165 [==============================] - ETA: 0s - loss: 3333.0210 - mean_squared_error: 50103576.0000 - mean_absolute_error: 3333.0210WARNING:tensorflow:Model was constructed with shape (None, None, 103) for input KerasTensor(type_spec=TensorSpec(shape=(None, None, 103), dtype=tf.float32, name='dense_256_input'), name='dense_256_input', description=\"created by layer 'dense_256_input'\"), but it was called on an input with incompatible shape (None, 103).\n"
     ]
    },
    {
     "name": "stderr",
     "output_type": "stream",
     "text": [
      "2022-12-18 11:22:07.138861: I tensorflow/core/grappler/optimizers/custom_graph_optimizer_registry.cc:114] Plugin optimizer for device_type GPU is enabled.\n"
     ]
    },
    {
     "name": "stdout",
     "output_type": "stream",
     "text": [
      "165/165 [==============================] - 7s 25ms/step - loss: 3333.0210 - mean_squared_error: 50103576.0000 - mean_absolute_error: 3333.0210 - val_loss: 2076.8245 - val_mean_squared_error: 11898154.0000 - val_mean_absolute_error: 2076.8245\n",
      "Epoch 2/100\n",
      "165/165 [==============================] - 3s 18ms/step - loss: 1483.1781 - mean_squared_error: 9672970.0000 - mean_absolute_error: 1483.1781 - val_loss: 1574.7943 - val_mean_squared_error: 7111451.5000 - val_mean_absolute_error: 1574.7943\n",
      "Epoch 3/100\n",
      "165/165 [==============================] - 3s 17ms/step - loss: 1268.5182 - mean_squared_error: 6939710.5000 - mean_absolute_error: 1268.5182 - val_loss: 1508.3102 - val_mean_squared_error: 6295298.0000 - val_mean_absolute_error: 1508.3102\n",
      "Epoch 4/100\n",
      "165/165 [==============================] - 3s 18ms/step - loss: 1182.9215 - mean_squared_error: 6746785.0000 - mean_absolute_error: 1182.9215 - val_loss: 1428.9062 - val_mean_squared_error: 6679448.5000 - val_mean_absolute_error: 1428.9062\n",
      "Epoch 5/100\n",
      "165/165 [==============================] - 3s 18ms/step - loss: 1107.3572 - mean_squared_error: 5891693.5000 - mean_absolute_error: 1107.3572 - val_loss: 1509.8975 - val_mean_squared_error: 7684343.0000 - val_mean_absolute_error: 1509.8975\n",
      "Epoch 6/100\n",
      "165/165 [==============================] - 3s 18ms/step - loss: 1057.8110 - mean_squared_error: 5453094.0000 - mean_absolute_error: 1057.8110 - val_loss: 1294.4963 - val_mean_squared_error: 5848047.0000 - val_mean_absolute_error: 1294.4963\n",
      "Epoch 7/100\n",
      "165/165 [==============================] - 3s 17ms/step - loss: 1016.5370 - mean_squared_error: 5248933.0000 - mean_absolute_error: 1016.5370 - val_loss: 1014.4182 - val_mean_squared_error: 4027989.0000 - val_mean_absolute_error: 1014.4182\n",
      "Epoch 8/100\n",
      "165/165 [==============================] - 3s 18ms/step - loss: 978.0037 - mean_squared_error: 4911303.5000 - mean_absolute_error: 978.0037 - val_loss: 802.4911 - val_mean_squared_error: 3365775.5000 - val_mean_absolute_error: 802.4911\n",
      "Epoch 9/100\n",
      "165/165 [==============================] - 3s 17ms/step - loss: 958.7181 - mean_squared_error: 4810703.5000 - mean_absolute_error: 958.7181 - val_loss: 1745.7953 - val_mean_squared_error: 11971123.0000 - val_mean_absolute_error: 1745.7953\n",
      "Epoch 10/100\n",
      "165/165 [==============================] - 3s 17ms/step - loss: 953.7511 - mean_squared_error: 4774024.5000 - mean_absolute_error: 953.7511 - val_loss: 1403.5687 - val_mean_squared_error: 8400964.0000 - val_mean_absolute_error: 1403.5687\n",
      "Epoch 11/100\n",
      "165/165 [==============================] - 3s 17ms/step - loss: 900.6446 - mean_squared_error: 4307900.0000 - mean_absolute_error: 900.6446 - val_loss: 924.5130 - val_mean_squared_error: 3792247.7500 - val_mean_absolute_error: 924.5130\n",
      "Epoch 12/100\n",
      "165/165 [==============================] - 3s 17ms/step - loss: 886.5534 - mean_squared_error: 4261578.0000 - mean_absolute_error: 886.5534 - val_loss: 795.4558 - val_mean_squared_error: 3257154.7500 - val_mean_absolute_error: 795.4558\n",
      "165/165 [==============================] - 1s 7ms/step - loss: 1156.3469 - mean_squared_error: 6964015.0000 - mean_absolute_error: 1156.3469\n",
      "19/19 [==============================] - 0s 6ms/step - loss: 984.8937 - mean_squared_error: 4682585.0000 - mean_absolute_error: 984.8937\n",
      "INFO:tensorflow:Assets written to: ../models/fl_tuned/fl_model_store33.pkt/assets\n",
      "**********************Evaluation!!*********************Store_33\n",
      "984.8936767578125\n",
      "_____________________________________Store_34__________________________\n",
      "Epoch 1/100\n",
      "WARNING:tensorflow:Model was constructed with shape (None, None, 103) for input KerasTensor(type_spec=TensorSpec(shape=(None, None, 103), dtype=tf.float32, name='dense_264_input'), name='dense_264_input', description=\"created by layer 'dense_264_input'\"), but it was called on an input with incompatible shape (None, 103).\n",
      "WARNING:tensorflow:Model was constructed with shape (None, None, 103) for input KerasTensor(type_spec=TensorSpec(shape=(None, None, 103), dtype=tf.float32, name='dense_264_input'), name='dense_264_input', description=\"created by layer 'dense_264_input'\"), but it was called on an input with incompatible shape (None, 103).\n"
     ]
    },
    {
     "name": "stderr",
     "output_type": "stream",
     "text": [
      "2022-12-18 11:22:42.469591: I tensorflow/core/grappler/optimizers/custom_graph_optimizer_registry.cc:114] Plugin optimizer for device_type GPU is enabled.\n"
     ]
    },
    {
     "name": "stdout",
     "output_type": "stream",
     "text": [
      "262/262 [==============================] - ETA: 0s - loss: 6241.6152 - mean_squared_error: 136424640.0000 - mean_absolute_error: 6241.6152WARNING:tensorflow:Model was constructed with shape (None, None, 103) for input KerasTensor(type_spec=TensorSpec(shape=(None, None, 103), dtype=tf.float32, name='dense_264_input'), name='dense_264_input', description=\"created by layer 'dense_264_input'\"), but it was called on an input with incompatible shape (None, 103).\n"
     ]
    },
    {
     "name": "stderr",
     "output_type": "stream",
     "text": [
      "2022-12-18 11:22:49.156600: I tensorflow/core/grappler/optimizers/custom_graph_optimizer_registry.cc:114] Plugin optimizer for device_type GPU is enabled.\n"
     ]
    },
    {
     "name": "stdout",
     "output_type": "stream",
     "text": [
      "262/262 [==============================] - 8s 23ms/step - loss: 6241.6152 - mean_squared_error: 136424640.0000 - mean_absolute_error: 6241.6152 - val_loss: 3544.4509 - val_mean_squared_error: 29341120.0000 - val_mean_absolute_error: 3544.4509\n",
      "Epoch 2/100\n",
      "262/262 [==============================] - 4s 17ms/step - loss: 3178.6187 - mean_squared_error: 36980948.0000 - mean_absolute_error: 3178.6187 - val_loss: 2725.2539 - val_mean_squared_error: 17553158.0000 - val_mean_absolute_error: 2725.2539\n",
      "Epoch 3/100\n",
      "262/262 [==============================] - 4s 17ms/step - loss: 2941.1504 - mean_squared_error: 34129596.0000 - mean_absolute_error: 2941.1504 - val_loss: 3364.4705 - val_mean_squared_error: 21676586.0000 - val_mean_absolute_error: 3364.4705\n",
      "Epoch 4/100\n",
      "262/262 [==============================] - 4s 17ms/step - loss: 2763.0144 - mean_squared_error: 32239202.0000 - mean_absolute_error: 2763.0144 - val_loss: 3030.5535 - val_mean_squared_error: 19271992.0000 - val_mean_absolute_error: 3030.5535\n",
      "Epoch 5/100\n",
      "262/262 [==============================] - 4s 17ms/step - loss: 2643.0208 - mean_squared_error: 29177400.0000 - mean_absolute_error: 2643.0208 - val_loss: 1612.0063 - val_mean_squared_error: 7107756.0000 - val_mean_absolute_error: 1612.0063\n",
      "Epoch 6/100\n",
      "262/262 [==============================] - 4s 17ms/step - loss: 2508.8240 - mean_squared_error: 27695396.0000 - mean_absolute_error: 2508.8240 - val_loss: 1924.2933 - val_mean_squared_error: 10829561.0000 - val_mean_absolute_error: 1924.2933\n",
      "Epoch 7/100\n",
      "262/262 [==============================] - 4s 17ms/step - loss: 2446.8611 - mean_squared_error: 26954134.0000 - mean_absolute_error: 2446.8611 - val_loss: 1765.4484 - val_mean_squared_error: 8793044.0000 - val_mean_absolute_error: 1765.4484\n",
      "Epoch 8/100\n",
      "262/262 [==============================] - 4s 17ms/step - loss: 2388.0742 - mean_squared_error: 26221300.0000 - mean_absolute_error: 2388.0742 - val_loss: 2354.9902 - val_mean_squared_error: 13171767.0000 - val_mean_absolute_error: 2354.9902\n",
      "Epoch 9/100\n",
      "262/262 [==============================] - 4s 16ms/step - loss: 2292.4087 - mean_squared_error: 25105820.0000 - mean_absolute_error: 2292.4087 - val_loss: 2358.5295 - val_mean_squared_error: 14377076.0000 - val_mean_absolute_error: 2358.5295\n",
      "262/262 [==============================] - 2s 6ms/step - loss: 2262.8506 - mean_squared_error: 22919522.0000 - mean_absolute_error: 2262.8506\n",
      "29/29 [==============================] - 0s 9ms/step - loss: 1755.2407 - mean_squared_error: 8889416.0000 - mean_absolute_error: 1755.2407\n",
      "INFO:tensorflow:Assets written to: ../models/fl_tuned/fl_model_store34.pkt/assets\n",
      "**********************Evaluation!!*********************Store_34\n",
      "1755.24072265625\n",
      "_____________________________________Store_35__________________________\n",
      "Epoch 1/100\n",
      "WARNING:tensorflow:Model was constructed with shape (None, None, 103) for input KerasTensor(type_spec=TensorSpec(shape=(None, None, 103), dtype=tf.float32, name='dense_272_input'), name='dense_272_input', description=\"created by layer 'dense_272_input'\"), but it was called on an input with incompatible shape (None, 103).\n",
      "WARNING:tensorflow:Model was constructed with shape (None, None, 103) for input KerasTensor(type_spec=TensorSpec(shape=(None, None, 103), dtype=tf.float32, name='dense_272_input'), name='dense_272_input', description=\"created by layer 'dense_272_input'\"), but it was called on an input with incompatible shape (None, 103).\n"
     ]
    },
    {
     "name": "stderr",
     "output_type": "stream",
     "text": [
      "2022-12-18 11:23:28.766974: I tensorflow/core/grappler/optimizers/custom_graph_optimizer_registry.cc:114] Plugin optimizer for device_type GPU is enabled.\n"
     ]
    },
    {
     "name": "stdout",
     "output_type": "stream",
     "text": [
      "241/241 [==============================] - ETA: 0s - loss: 6793.3950 - mean_squared_error: 248363568.0000 - mean_absolute_error: 6793.3950WARNING:tensorflow:Model was constructed with shape (None, None, 103) for input KerasTensor(type_spec=TensorSpec(shape=(None, None, 103), dtype=tf.float32, name='dense_272_input'), name='dense_272_input', description=\"created by layer 'dense_272_input'\"), but it was called on an input with incompatible shape (None, 103).\n"
     ]
    },
    {
     "name": "stderr",
     "output_type": "stream",
     "text": [
      "2022-12-18 11:23:35.373252: I tensorflow/core/grappler/optimizers/custom_graph_optimizer_registry.cc:114] Plugin optimizer for device_type GPU is enabled.\n"
     ]
    },
    {
     "name": "stdout",
     "output_type": "stream",
     "text": [
      "241/241 [==============================] - 7s 24ms/step - loss: 6793.3950 - mean_squared_error: 248363568.0000 - mean_absolute_error: 6793.3950 - val_loss: 2861.9565 - val_mean_squared_error: 29132686.0000 - val_mean_absolute_error: 2861.9565\n",
      "Epoch 2/100\n",
      "241/241 [==============================] - 4s 17ms/step - loss: 4011.4211 - mean_squared_error: 149343008.0000 - mean_absolute_error: 4011.4211 - val_loss: 2584.6572 - val_mean_squared_error: 24876580.0000 - val_mean_absolute_error: 2584.6572\n",
      "Epoch 3/100\n",
      "241/241 [==============================] - 4s 17ms/step - loss: 3701.0261 - mean_squared_error: 147329648.0000 - mean_absolute_error: 3701.0261 - val_loss: 2825.0269 - val_mean_squared_error: 22898774.0000 - val_mean_absolute_error: 2825.0269\n",
      "Epoch 4/100\n",
      "241/241 [==============================] - 4s 17ms/step - loss: 3575.6733 - mean_squared_error: 142598624.0000 - mean_absolute_error: 3575.6733 - val_loss: 2285.7795 - val_mean_squared_error: 23326050.0000 - val_mean_absolute_error: 2285.7795\n",
      "Epoch 5/100\n",
      "241/241 [==============================] - 4s 17ms/step - loss: 3435.1548 - mean_squared_error: 138931056.0000 - mean_absolute_error: 3435.1548 - val_loss: 3474.1421 - val_mean_squared_error: 35493120.0000 - val_mean_absolute_error: 3474.1421\n",
      "Epoch 6/100\n",
      "241/241 [==============================] - 4s 17ms/step - loss: 3304.1206 - mean_squared_error: 138563104.0000 - mean_absolute_error: 3304.1206 - val_loss: 2433.5903 - val_mean_squared_error: 22798300.0000 - val_mean_absolute_error: 2433.5903\n",
      "Epoch 7/100\n",
      "241/241 [==============================] - 4s 17ms/step - loss: 3195.7256 - mean_squared_error: 135628592.0000 - mean_absolute_error: 3195.7256 - val_loss: 2421.4011 - val_mean_squared_error: 25444380.0000 - val_mean_absolute_error: 2421.4011\n",
      "Epoch 8/100\n",
      "241/241 [==============================] - 4s 17ms/step - loss: 3140.6536 - mean_squared_error: 137036368.0000 - mean_absolute_error: 3140.6536 - val_loss: 3856.1594 - val_mean_squared_error: 46335420.0000 - val_mean_absolute_error: 3856.1594\n",
      "241/241 [==============================] - 2s 7ms/step - loss: 3188.3228 - mean_squared_error: 138189584.0000 - mean_absolute_error: 3188.3228\n",
      "27/27 [==============================] - 0s 12ms/step - loss: 2222.3870 - mean_squared_error: 23461572.0000 - mean_absolute_error: 2222.3870\n",
      "INFO:tensorflow:Assets written to: ../models/fl_tuned/fl_model_store35.pkt/assets\n",
      "**********************Evaluation!!*********************Store_35\n",
      "2222.386962890625\n",
      "_____________________________________Store_36__________________________\n",
      "Epoch 1/100\n",
      "WARNING:tensorflow:Model was constructed with shape (None, None, 103) for input KerasTensor(type_spec=TensorSpec(shape=(None, None, 103), dtype=tf.float32, name='dense_280_input'), name='dense_280_input', description=\"created by layer 'dense_280_input'\"), but it was called on an input with incompatible shape (None, 103).\n",
      "WARNING:tensorflow:Model was constructed with shape (None, None, 103) for input KerasTensor(type_spec=TensorSpec(shape=(None, None, 103), dtype=tf.float32, name='dense_280_input'), name='dense_280_input', description=\"created by layer 'dense_280_input'\"), but it was called on an input with incompatible shape (None, 103).\n"
     ]
    },
    {
     "name": "stderr",
     "output_type": "stream",
     "text": [
      "2022-12-18 11:24:08.728473: I tensorflow/core/grappler/optimizers/custom_graph_optimizer_registry.cc:114] Plugin optimizer for device_type GPU is enabled.\n"
     ]
    },
    {
     "name": "stdout",
     "output_type": "stream",
     "text": [
      "159/159 [==============================] - ETA: 0s - loss: 4929.1372 - mean_squared_error: 97207536.0000 - mean_absolute_error: 4929.1372WARNING:tensorflow:Model was constructed with shape (None, None, 103) for input KerasTensor(type_spec=TensorSpec(shape=(None, None, 103), dtype=tf.float32, name='dense_280_input'), name='dense_280_input', description=\"created by layer 'dense_280_input'\"), but it was called on an input with incompatible shape (None, 103).\n"
     ]
    },
    {
     "name": "stderr",
     "output_type": "stream",
     "text": [
      "2022-12-18 11:24:14.860166: I tensorflow/core/grappler/optimizers/custom_graph_optimizer_registry.cc:114] Plugin optimizer for device_type GPU is enabled.\n"
     ]
    },
    {
     "name": "stdout",
     "output_type": "stream",
     "text": [
      "159/159 [==============================] - 7s 29ms/step - loss: 4929.1372 - mean_squared_error: 97207536.0000 - mean_absolute_error: 4929.1372 - val_loss: 8091.3535 - val_mean_squared_error: 120294856.0000 - val_mean_absolute_error: 8091.3535\n",
      "Epoch 2/100\n",
      "159/159 [==============================] - 3s 17ms/step - loss: 2216.9382 - mean_squared_error: 17632220.0000 - mean_absolute_error: 2216.9382 - val_loss: 2851.7524 - val_mean_squared_error: 24211564.0000 - val_mean_absolute_error: 2851.7524\n",
      "Epoch 3/100\n",
      "159/159 [==============================] - 3s 17ms/step - loss: 1819.9034 - mean_squared_error: 12629567.0000 - mean_absolute_error: 1819.9034 - val_loss: 1113.0238 - val_mean_squared_error: 4195918.5000 - val_mean_absolute_error: 1113.0238\n",
      "Epoch 4/100\n",
      "159/159 [==============================] - 3s 17ms/step - loss: 1705.5314 - mean_squared_error: 11965526.0000 - mean_absolute_error: 1705.5314 - val_loss: 2090.1809 - val_mean_squared_error: 17590110.0000 - val_mean_absolute_error: 2090.1809\n",
      "Epoch 5/100\n",
      "159/159 [==============================] - 3s 17ms/step - loss: 1560.9951 - mean_squared_error: 10699792.0000 - mean_absolute_error: 1560.9951 - val_loss: 961.2324 - val_mean_squared_error: 3065824.7500 - val_mean_absolute_error: 961.2324\n",
      "Epoch 6/100\n",
      "159/159 [==============================] - 3s 17ms/step - loss: 1510.4612 - mean_squared_error: 10235474.0000 - mean_absolute_error: 1510.4612 - val_loss: 949.8172 - val_mean_squared_error: 2825381.0000 - val_mean_absolute_error: 949.8172\n",
      "Epoch 7/100\n",
      "159/159 [==============================] - 3s 17ms/step - loss: 1400.1316 - mean_squared_error: 8368653.0000 - mean_absolute_error: 1400.1316 - val_loss: 1180.8865 - val_mean_squared_error: 6204258.5000 - val_mean_absolute_error: 1180.8865\n",
      "Epoch 8/100\n",
      "159/159 [==============================] - 3s 17ms/step - loss: 1379.1050 - mean_squared_error: 8642138.0000 - mean_absolute_error: 1379.1050 - val_loss: 905.0142 - val_mean_squared_error: 2741231.0000 - val_mean_absolute_error: 905.0142\n",
      "Epoch 9/100\n",
      "159/159 [==============================] - 3s 17ms/step - loss: 1304.7177 - mean_squared_error: 7541176.0000 - mean_absolute_error: 1304.7177 - val_loss: 1456.5977 - val_mean_squared_error: 8134319.5000 - val_mean_absolute_error: 1456.5977\n",
      "159/159 [==============================] - 1s 7ms/step - loss: 2325.2891 - mean_squared_error: 22291178.0000 - mean_absolute_error: 2325.2891\n",
      "18/18 [==============================] - 0s 17ms/step - loss: 1003.8137 - mean_squared_error: 3736211.2500 - mean_absolute_error: 1003.8137\n",
      "INFO:tensorflow:Assets written to: ../models/fl_tuned/fl_model_store36.pkt/assets\n",
      "**********************Evaluation!!*********************Store_36\n",
      "1003.813720703125\n",
      "_____________________________________Store_37__________________________\n",
      "Epoch 1/100\n",
      "WARNING:tensorflow:Model was constructed with shape (None, None, 103) for input KerasTensor(type_spec=TensorSpec(shape=(None, None, 103), dtype=tf.float32, name='dense_288_input'), name='dense_288_input', description=\"created by layer 'dense_288_input'\"), but it was called on an input with incompatible shape (None, 103).\n",
      "WARNING:tensorflow:Model was constructed with shape (None, None, 103) for input KerasTensor(type_spec=TensorSpec(shape=(None, None, 103), dtype=tf.float32, name='dense_288_input'), name='dense_288_input', description=\"created by layer 'dense_288_input'\"), but it was called on an input with incompatible shape (None, 103).\n"
     ]
    },
    {
     "name": "stderr",
     "output_type": "stream",
     "text": [
      "2022-12-18 11:24:41.050420: I tensorflow/core/grappler/optimizers/custom_graph_optimizer_registry.cc:114] Plugin optimizer for device_type GPU is enabled.\n"
     ]
    },
    {
     "name": "stdout",
     "output_type": "stream",
     "text": [
      "183/183 [==============================] - ETA: 0s - loss: 5961.6450 - mean_squared_error: 164972384.0000 - mean_absolute_error: 5961.6450WARNING:tensorflow:Model was constructed with shape (None, None, 103) for input KerasTensor(type_spec=TensorSpec(shape=(None, None, 103), dtype=tf.float32, name='dense_288_input'), name='dense_288_input', description=\"created by layer 'dense_288_input'\"), but it was called on an input with incompatible shape (None, 103).\n"
     ]
    },
    {
     "name": "stderr",
     "output_type": "stream",
     "text": [
      "2022-12-18 11:24:47.350753: I tensorflow/core/grappler/optimizers/custom_graph_optimizer_registry.cc:114] Plugin optimizer for device_type GPU is enabled.\n"
     ]
    },
    {
     "name": "stdout",
     "output_type": "stream",
     "text": [
      "183/183 [==============================] - 7s 27ms/step - loss: 5961.6450 - mean_squared_error: 164972384.0000 - mean_absolute_error: 5961.6450 - val_loss: 1950.5897 - val_mean_squared_error: 10282898.0000 - val_mean_absolute_error: 1950.5897\n",
      "Epoch 2/100\n",
      "183/183 [==============================] - 3s 18ms/step - loss: 2317.5066 - mean_squared_error: 21258068.0000 - mean_absolute_error: 2317.5066 - val_loss: 910.2849 - val_mean_squared_error: 3267040.7500 - val_mean_absolute_error: 910.2849\n",
      "Epoch 3/100\n",
      "183/183 [==============================] - 3s 17ms/step - loss: 1907.4955 - mean_squared_error: 15962805.0000 - mean_absolute_error: 1907.4955 - val_loss: 1270.9978 - val_mean_squared_error: 8022155.5000 - val_mean_absolute_error: 1270.9978\n",
      "Epoch 4/100\n",
      "183/183 [==============================] - 3s 17ms/step - loss: 1861.6941 - mean_squared_error: 16114700.0000 - mean_absolute_error: 1861.6941 - val_loss: 2061.4688 - val_mean_squared_error: 14628938.0000 - val_mean_absolute_error: 2061.4688\n",
      "Epoch 5/100\n",
      "183/183 [==============================] - 3s 17ms/step - loss: 1677.9392 - mean_squared_error: 13292408.0000 - mean_absolute_error: 1677.9392 - val_loss: 731.8046 - val_mean_squared_error: 2546628.2500 - val_mean_absolute_error: 731.8046\n",
      "Epoch 6/100\n",
      "183/183 [==============================] - 3s 17ms/step - loss: 1582.6410 - mean_squared_error: 12306046.0000 - mean_absolute_error: 1582.6410 - val_loss: 3263.4805 - val_mean_squared_error: 38963900.0000 - val_mean_absolute_error: 3263.4805\n",
      "Epoch 7/100\n",
      "183/183 [==============================] - 3s 17ms/step - loss: 1524.1747 - mean_squared_error: 11520600.0000 - mean_absolute_error: 1524.1747 - val_loss: 952.1631 - val_mean_squared_error: 5023805.0000 - val_mean_absolute_error: 952.1631\n",
      "Epoch 8/100\n",
      "183/183 [==============================] - 3s 17ms/step - loss: 1510.8406 - mean_squared_error: 11595201.0000 - mean_absolute_error: 1510.8406 - val_loss: 904.0461 - val_mean_squared_error: 3786185.7500 - val_mean_absolute_error: 904.0461\n",
      "Epoch 9/100\n",
      "183/183 [==============================] - 3s 17ms/step - loss: 1407.0751 - mean_squared_error: 10321640.0000 - mean_absolute_error: 1407.0751 - val_loss: 2459.5132 - val_mean_squared_error: 20748480.0000 - val_mean_absolute_error: 2459.5132\n",
      "183/183 [==============================] - 1s 7ms/step - loss: 1098.5928 - mean_squared_error: 5627322.5000 - mean_absolute_error: 1098.5928\n",
      "22/22 [==============================] - 0s 11ms/step - loss: 2102.7241 - mean_squared_error: 25996776.0000 - mean_absolute_error: 2102.7241\n",
      "INFO:tensorflow:Assets written to: ../models/fl_tuned/fl_model_store37.pkt/assets\n",
      "**********************Evaluation!!*********************Store_37\n",
      "2102.72412109375\n",
      "_____________________________________Store_38__________________________\n",
      "Epoch 1/100\n",
      "WARNING:tensorflow:Model was constructed with shape (None, None, 103) for input KerasTensor(type_spec=TensorSpec(shape=(None, None, 103), dtype=tf.float32, name='dense_296_input'), name='dense_296_input', description=\"created by layer 'dense_296_input'\"), but it was called on an input with incompatible shape (None, 103).\n",
      "WARNING:tensorflow:Model was constructed with shape (None, None, 103) for input KerasTensor(type_spec=TensorSpec(shape=(None, None, 103), dtype=tf.float32, name='dense_296_input'), name='dense_296_input', description=\"created by layer 'dense_296_input'\"), but it was called on an input with incompatible shape (None, 103).\n"
     ]
    },
    {
     "name": "stderr",
     "output_type": "stream",
     "text": [
      "2022-12-18 11:25:16.699980: I tensorflow/core/grappler/optimizers/custom_graph_optimizer_registry.cc:114] Plugin optimizer for device_type GPU is enabled.\n"
     ]
    },
    {
     "name": "stdout",
     "output_type": "stream",
     "text": [
      "187/187 [==============================] - ETA: 0s - loss: 3811.2590 - mean_squared_error: 74048944.0000 - mean_absolute_error: 3811.2590WARNING:tensorflow:Model was constructed with shape (None, None, 103) for input KerasTensor(type_spec=TensorSpec(shape=(None, None, 103), dtype=tf.float32, name='dense_296_input'), name='dense_296_input', description=\"created by layer 'dense_296_input'\"), but it was called on an input with incompatible shape (None, 103).\n"
     ]
    },
    {
     "name": "stderr",
     "output_type": "stream",
     "text": [
      "2022-12-18 11:25:23.036358: I tensorflow/core/grappler/optimizers/custom_graph_optimizer_registry.cc:114] Plugin optimizer for device_type GPU is enabled.\n"
     ]
    },
    {
     "name": "stdout",
     "output_type": "stream",
     "text": [
      "187/187 [==============================] - 7s 27ms/step - loss: 3811.2590 - mean_squared_error: 74048944.0000 - mean_absolute_error: 3811.2590 - val_loss: 2253.3774 - val_mean_squared_error: 35216368.0000 - val_mean_absolute_error: 2253.3774\n",
      "Epoch 2/100\n",
      "187/187 [==============================] - 3s 18ms/step - loss: 1680.1707 - mean_squared_error: 14675347.0000 - mean_absolute_error: 1680.1707 - val_loss: 3821.5027 - val_mean_squared_error: 68024216.0000 - val_mean_absolute_error: 3821.5027\n",
      "Epoch 3/100\n",
      "187/187 [==============================] - 4s 19ms/step - loss: 1453.1183 - mean_squared_error: 11751627.0000 - mean_absolute_error: 1453.1183 - val_loss: 1216.7784 - val_mean_squared_error: 17121498.0000 - val_mean_absolute_error: 1216.7784\n",
      "Epoch 4/100\n",
      "187/187 [==============================] - 3s 18ms/step - loss: 1308.5250 - mean_squared_error: 9945356.0000 - mean_absolute_error: 1308.5250 - val_loss: 1220.6946 - val_mean_squared_error: 10879668.0000 - val_mean_absolute_error: 1220.6946\n",
      "Epoch 5/100\n",
      "187/187 [==============================] - 3s 18ms/step - loss: 1256.6721 - mean_squared_error: 9096671.0000 - mean_absolute_error: 1256.6721 - val_loss: 1043.7915 - val_mean_squared_error: 10317325.0000 - val_mean_absolute_error: 1043.7915\n",
      "Epoch 6/100\n",
      "187/187 [==============================] - 3s 17ms/step - loss: 1168.6187 - mean_squared_error: 7708167.0000 - mean_absolute_error: 1168.6187 - val_loss: 1113.0363 - val_mean_squared_error: 16245686.0000 - val_mean_absolute_error: 1113.0363\n",
      "Epoch 7/100\n",
      "187/187 [==============================] - 3s 18ms/step - loss: 1135.3229 - mean_squared_error: 7748775.5000 - mean_absolute_error: 1135.3229 - val_loss: 1510.9874 - val_mean_squared_error: 10120999.0000 - val_mean_absolute_error: 1510.9874\n",
      "Epoch 8/100\n",
      "187/187 [==============================] - 3s 17ms/step - loss: 1096.9519 - mean_squared_error: 7578771.5000 - mean_absolute_error: 1096.9519 - val_loss: 831.9301 - val_mean_squared_error: 5398403.5000 - val_mean_absolute_error: 831.9301\n",
      "Epoch 9/100\n",
      "187/187 [==============================] - 3s 17ms/step - loss: 1041.4629 - mean_squared_error: 6329694.5000 - mean_absolute_error: 1041.4629 - val_loss: 850.1352 - val_mean_squared_error: 6387570.5000 - val_mean_absolute_error: 850.1352\n",
      "Epoch 10/100\n",
      "187/187 [==============================] - 3s 17ms/step - loss: 981.2202 - mean_squared_error: 6115509.0000 - mean_absolute_error: 981.2202 - val_loss: 1365.9575 - val_mean_squared_error: 12562004.0000 - val_mean_absolute_error: 1365.9575\n",
      "Epoch 11/100\n",
      "187/187 [==============================] - 3s 18ms/step - loss: 1002.6365 - mean_squared_error: 5925117.0000 - mean_absolute_error: 1002.6365 - val_loss: 916.5245 - val_mean_squared_error: 5858799.5000 - val_mean_absolute_error: 916.5245\n",
      "Epoch 12/100\n",
      "187/187 [==============================] - 3s 18ms/step - loss: 988.5698 - mean_squared_error: 5877615.5000 - mean_absolute_error: 988.5698 - val_loss: 3143.0383 - val_mean_squared_error: 38483580.0000 - val_mean_absolute_error: 3143.0383\n",
      "187/187 [==============================] - 1s 7ms/step - loss: 766.3978 - mean_squared_error: 3187791.7500 - mean_absolute_error: 766.3978\n",
      "22/22 [==============================] - 0s 13ms/step - loss: 1737.1311 - mean_squared_error: 14539793.0000 - mean_absolute_error: 1737.1311\n",
      "INFO:tensorflow:Assets written to: ../models/fl_tuned/fl_model_store38.pkt/assets\n",
      "**********************Evaluation!!*********************Store_38\n",
      "1737.131103515625\n",
      "_____________________________________Store_39__________________________\n",
      "Epoch 1/100\n",
      "WARNING:tensorflow:Model was constructed with shape (None, None, 103) for input KerasTensor(type_spec=TensorSpec(shape=(None, None, 103), dtype=tf.float32, name='dense_304_input'), name='dense_304_input', description=\"created by layer 'dense_304_input'\"), but it was called on an input with incompatible shape (None, 103).\n",
      "WARNING:tensorflow:Model was constructed with shape (None, None, 103) for input KerasTensor(type_spec=TensorSpec(shape=(None, None, 103), dtype=tf.float32, name='dense_304_input'), name='dense_304_input', description=\"created by layer 'dense_304_input'\"), but it was called on an input with incompatible shape (None, 103).\n"
     ]
    },
    {
     "name": "stderr",
     "output_type": "stream",
     "text": [
      "2022-12-18 11:26:04.038873: I tensorflow/core/grappler/optimizers/custom_graph_optimizer_registry.cc:114] Plugin optimizer for device_type GPU is enabled.\n"
     ]
    },
    {
     "name": "stdout",
     "output_type": "stream",
     "text": [
      "252/252 [==============================] - ETA: 0s - loss: 9386.2588 - mean_squared_error: 340148608.0000 - mean_absolute_error: 9386.2588WARNING:tensorflow:Model was constructed with shape (None, None, 103) for input KerasTensor(type_spec=TensorSpec(shape=(None, None, 103), dtype=tf.float32, name='dense_304_input'), name='dense_304_input', description=\"created by layer 'dense_304_input'\"), but it was called on an input with incompatible shape (None, 103).\n"
     ]
    },
    {
     "name": "stderr",
     "output_type": "stream",
     "text": [
      "2022-12-18 11:26:11.111237: I tensorflow/core/grappler/optimizers/custom_graph_optimizer_registry.cc:114] Plugin optimizer for device_type GPU is enabled.\n"
     ]
    },
    {
     "name": "stdout",
     "output_type": "stream",
     "text": [
      "252/252 [==============================] - 8s 25ms/step - loss: 9386.2588 - mean_squared_error: 340148608.0000 - mean_absolute_error: 9386.2588 - val_loss: 9317.3975 - val_mean_squared_error: 178409408.0000 - val_mean_absolute_error: 9317.3975\n",
      "Epoch 2/100\n",
      "252/252 [==============================] - 4s 17ms/step - loss: 4841.8813 - mean_squared_error: 113439536.0000 - mean_absolute_error: 4841.8813 - val_loss: 6218.3418 - val_mean_squared_error: 71928808.0000 - val_mean_absolute_error: 6218.3418\n",
      "Epoch 3/100\n",
      "252/252 [==============================] - 4s 17ms/step - loss: 4558.8682 - mean_squared_error: 106471088.0000 - mean_absolute_error: 4558.8682 - val_loss: 5990.7500 - val_mean_squared_error: 72336992.0000 - val_mean_absolute_error: 5990.7500\n",
      "Epoch 4/100\n",
      "252/252 [==============================] - 4s 17ms/step - loss: 4361.0229 - mean_squared_error: 105426912.0000 - mean_absolute_error: 4361.0229 - val_loss: 5308.5947 - val_mean_squared_error: 52983488.0000 - val_mean_absolute_error: 5308.5947\n",
      "Epoch 5/100\n",
      "252/252 [==============================] - 4s 17ms/step - loss: 4212.5928 - mean_squared_error: 100630264.0000 - mean_absolute_error: 4212.5928 - val_loss: 4971.6382 - val_mean_squared_error: 47659896.0000 - val_mean_absolute_error: 4971.6382\n",
      "Epoch 6/100\n",
      "252/252 [==============================] - 4s 17ms/step - loss: 4028.3523 - mean_squared_error: 100763816.0000 - mean_absolute_error: 4028.3523 - val_loss: 3550.0549 - val_mean_squared_error: 26899968.0000 - val_mean_absolute_error: 3550.0549\n",
      "Epoch 7/100\n",
      "252/252 [==============================] - 5s 18ms/step - loss: 3903.7131 - mean_squared_error: 92305024.0000 - mean_absolute_error: 3903.7131 - val_loss: 13146.9912 - val_mean_squared_error: 346566752.0000 - val_mean_absolute_error: 13146.9912\n",
      "Epoch 8/100\n",
      "252/252 [==============================] - 5s 18ms/step - loss: 3731.8015 - mean_squared_error: 91422912.0000 - mean_absolute_error: 3731.8015 - val_loss: 6161.1309 - val_mean_squared_error: 75121744.0000 - val_mean_absolute_error: 6161.1309\n",
      "Epoch 9/100\n",
      "252/252 [==============================] - 4s 18ms/step - loss: 3701.0022 - mean_squared_error: 90294512.0000 - mean_absolute_error: 3701.0022 - val_loss: 7239.8125 - val_mean_squared_error: 106541416.0000 - val_mean_absolute_error: 7239.8125\n",
      "Epoch 10/100\n",
      "252/252 [==============================] - 4s 17ms/step - loss: 3591.2002 - mean_squared_error: 86875192.0000 - mean_absolute_error: 3591.2002 - val_loss: 7438.2793 - val_mean_squared_error: 107008752.0000 - val_mean_absolute_error: 7438.2793\n",
      "252/252 [==============================] - 2s 7ms/step - loss: 3408.2468 - mean_squared_error: 86035944.0000 - mean_absolute_error: 3408.2468\n",
      "29/29 [==============================] - 0s 12ms/step - loss: 2996.8975 - mean_squared_error: 40118720.0000 - mean_absolute_error: 2996.8975\n",
      "INFO:tensorflow:Assets written to: ../models/fl_tuned/fl_model_store39.pkt/assets\n",
      "**********************Evaluation!!*********************Store_39\n",
      "2996.8974609375\n",
      "_____________________________________Store_40__________________________\n",
      "Epoch 1/100\n",
      "WARNING:tensorflow:Model was constructed with shape (None, None, 103) for input KerasTensor(type_spec=TensorSpec(shape=(None, None, 103), dtype=tf.float32, name='dense_312_input'), name='dense_312_input', description=\"created by layer 'dense_312_input'\"), but it was called on an input with incompatible shape (None, 103).\n",
      "WARNING:tensorflow:Model was constructed with shape (None, None, 103) for input KerasTensor(type_spec=TensorSpec(shape=(None, None, 103), dtype=tf.float32, name='dense_312_input'), name='dense_312_input', description=\"created by layer 'dense_312_input'\"), but it was called on an input with incompatible shape (None, 103).\n"
     ]
    },
    {
     "name": "stderr",
     "output_type": "stream",
     "text": [
      "2022-12-18 11:26:55.674513: I tensorflow/core/grappler/optimizers/custom_graph_optimizer_registry.cc:114] Plugin optimizer for device_type GPU is enabled.\n"
     ]
    },
    {
     "name": "stdout",
     "output_type": "stream",
     "text": [
      "256/256 [==============================] - ETA: 0s - loss: 6211.2505 - mean_squared_error: 151848048.0000 - mean_absolute_error: 6211.2505WARNING:tensorflow:Model was constructed with shape (None, None, 103) for input KerasTensor(type_spec=TensorSpec(shape=(None, None, 103), dtype=tf.float32, name='dense_312_input'), name='dense_312_input', description=\"created by layer 'dense_312_input'\"), but it was called on an input with incompatible shape (None, 103).\n"
     ]
    },
    {
     "name": "stderr",
     "output_type": "stream",
     "text": [
      "2022-12-18 11:27:03.522792: I tensorflow/core/grappler/optimizers/custom_graph_optimizer_registry.cc:114] Plugin optimizer for device_type GPU is enabled.\n"
     ]
    },
    {
     "name": "stdout",
     "output_type": "stream",
     "text": [
      "256/256 [==============================] - 9s 24ms/step - loss: 6211.2505 - mean_squared_error: 151848048.0000 - mean_absolute_error: 6211.2505 - val_loss: 3119.7029 - val_mean_squared_error: 36264196.0000 - val_mean_absolute_error: 3119.7029\n",
      "Epoch 2/100\n",
      "256/256 [==============================] - 4s 17ms/step - loss: 3350.7954 - mean_squared_error: 41192696.0000 - mean_absolute_error: 3350.7954 - val_loss: 2477.7861 - val_mean_squared_error: 21044660.0000 - val_mean_absolute_error: 2477.7861\n",
      "Epoch 3/100\n",
      "256/256 [==============================] - 4s 17ms/step - loss: 3113.1155 - mean_squared_error: 35934472.0000 - mean_absolute_error: 3113.1155 - val_loss: 2575.0566 - val_mean_squared_error: 29199762.0000 - val_mean_absolute_error: 2575.0566\n",
      "Epoch 4/100\n",
      "256/256 [==============================] - 4s 17ms/step - loss: 2925.1128 - mean_squared_error: 33914036.0000 - mean_absolute_error: 2925.1128 - val_loss: 2349.4709 - val_mean_squared_error: 20764220.0000 - val_mean_absolute_error: 2349.4709\n",
      "Epoch 5/100\n",
      "256/256 [==============================] - 4s 17ms/step - loss: 2759.5164 - mean_squared_error: 30550886.0000 - mean_absolute_error: 2759.5164 - val_loss: 4158.0957 - val_mean_squared_error: 51900316.0000 - val_mean_absolute_error: 4158.0957\n",
      "Epoch 6/100\n",
      "256/256 [==============================] - 4s 17ms/step - loss: 2678.0012 - mean_squared_error: 29193230.0000 - mean_absolute_error: 2678.0012 - val_loss: 3294.6145 - val_mean_squared_error: 26075336.0000 - val_mean_absolute_error: 3294.6145\n",
      "Epoch 7/100\n",
      "256/256 [==============================] - 4s 17ms/step - loss: 2598.0374 - mean_squared_error: 28473468.0000 - mean_absolute_error: 2598.0374 - val_loss: 4278.1978 - val_mean_squared_error: 58890224.0000 - val_mean_absolute_error: 4278.1978\n",
      "Epoch 8/100\n",
      "256/256 [==============================] - 4s 17ms/step - loss: 2492.5217 - mean_squared_error: 27623936.0000 - mean_absolute_error: 2492.5217 - val_loss: 2687.3035 - val_mean_squared_error: 23899876.0000 - val_mean_absolute_error: 2687.3035\n",
      "256/256 [==============================] - 2s 7ms/step - loss: 2151.7612 - mean_squared_error: 23621652.0000 - mean_absolute_error: 2151.7612\n",
      "29/29 [==============================] - 0s 11ms/step - loss: 1717.8749 - mean_squared_error: 10586160.0000 - mean_absolute_error: 1717.8749\n",
      "INFO:tensorflow:Assets written to: ../models/fl_tuned/fl_model_store40.pkt/assets\n",
      "**********************Evaluation!!*********************Store_40\n",
      "1717.8748779296875\n",
      "_____________________________________Store_41__________________________\n",
      "Epoch 1/100\n",
      "WARNING:tensorflow:Model was constructed with shape (None, None, 103) for input KerasTensor(type_spec=TensorSpec(shape=(None, None, 103), dtype=tf.float32, name='dense_320_input'), name='dense_320_input', description=\"created by layer 'dense_320_input'\"), but it was called on an input with incompatible shape (None, 103).\n",
      "WARNING:tensorflow:Model was constructed with shape (None, None, 103) for input KerasTensor(type_spec=TensorSpec(shape=(None, None, 103), dtype=tf.float32, name='dense_320_input'), name='dense_320_input', description=\"created by layer 'dense_320_input'\"), but it was called on an input with incompatible shape (None, 103).\n"
     ]
    },
    {
     "name": "stderr",
     "output_type": "stream",
     "text": [
      "2022-12-18 11:27:38.813447: I tensorflow/core/grappler/optimizers/custom_graph_optimizer_registry.cc:114] Plugin optimizer for device_type GPU is enabled.\n"
     ]
    },
    {
     "name": "stdout",
     "output_type": "stream",
     "text": [
      "257/257 [==============================] - ETA: 0s - loss: 8071.9492 - mean_squared_error: 259588512.0000 - mean_absolute_error: 8071.9492WARNING:tensorflow:Model was constructed with shape (None, None, 103) for input KerasTensor(type_spec=TensorSpec(shape=(None, None, 103), dtype=tf.float32, name='dense_320_input'), name='dense_320_input', description=\"created by layer 'dense_320_input'\"), but it was called on an input with incompatible shape (None, 103).\n"
     ]
    },
    {
     "name": "stderr",
     "output_type": "stream",
     "text": [
      "2022-12-18 11:27:46.621289: I tensorflow/core/grappler/optimizers/custom_graph_optimizer_registry.cc:114] Plugin optimizer for device_type GPU is enabled.\n"
     ]
    },
    {
     "name": "stdout",
     "output_type": "stream",
     "text": [
      "257/257 [==============================] - 9s 24ms/step - loss: 8071.9492 - mean_squared_error: 259588512.0000 - mean_absolute_error: 8071.9492 - val_loss: 6844.9277 - val_mean_squared_error: 111317320.0000 - val_mean_absolute_error: 6844.9277\n",
      "Epoch 2/100\n",
      "257/257 [==============================] - 4s 17ms/step - loss: 4386.5391 - mean_squared_error: 84439336.0000 - mean_absolute_error: 4386.5391 - val_loss: 4765.0732 - val_mean_squared_error: 65431096.0000 - val_mean_absolute_error: 4765.0732\n",
      "Epoch 3/100\n",
      "257/257 [==============================] - 4s 17ms/step - loss: 4037.6772 - mean_squared_error: 81131720.0000 - mean_absolute_error: 4037.6772 - val_loss: 5580.3657 - val_mean_squared_error: 84742296.0000 - val_mean_absolute_error: 5580.3657\n",
      "Epoch 4/100\n",
      "257/257 [==============================] - 4s 17ms/step - loss: 3795.9048 - mean_squared_error: 76803400.0000 - mean_absolute_error: 3795.9048 - val_loss: 4022.8159 - val_mean_squared_error: 45251408.0000 - val_mean_absolute_error: 4022.8159\n",
      "Epoch 5/100\n",
      "257/257 [==============================] - 4s 17ms/step - loss: 3610.1526 - mean_squared_error: 73231296.0000 - mean_absolute_error: 3610.1526 - val_loss: 2548.2874 - val_mean_squared_error: 28928356.0000 - val_mean_absolute_error: 2548.2874\n",
      "Epoch 6/100\n",
      "257/257 [==============================] - 4s 17ms/step - loss: 3476.7966 - mean_squared_error: 69567600.0000 - mean_absolute_error: 3476.7966 - val_loss: 5151.5923 - val_mean_squared_error: 63302752.0000 - val_mean_absolute_error: 5151.5923\n",
      "Epoch 7/100\n",
      "257/257 [==============================] - 4s 17ms/step - loss: 3389.7983 - mean_squared_error: 69536784.0000 - mean_absolute_error: 3389.7983 - val_loss: 8351.3359 - val_mean_squared_error: 213279360.0000 - val_mean_absolute_error: 8351.3359\n",
      "Epoch 8/100\n",
      "257/257 [==============================] - 4s 17ms/step - loss: 3295.3342 - mean_squared_error: 67003092.0000 - mean_absolute_error: 3295.3342 - val_loss: 6048.9336 - val_mean_squared_error: 80238016.0000 - val_mean_absolute_error: 6048.9336\n",
      "Epoch 9/100\n",
      "257/257 [==============================] - 4s 17ms/step - loss: 3170.8892 - mean_squared_error: 62981120.0000 - mean_absolute_error: 3170.8892 - val_loss: 2135.4709 - val_mean_squared_error: 15194442.0000 - val_mean_absolute_error: 2135.4709\n",
      "Epoch 10/100\n",
      "257/257 [==============================] - 4s 17ms/step - loss: 3138.9600 - mean_squared_error: 62133220.0000 - mean_absolute_error: 3138.9600 - val_loss: 5472.2856 - val_mean_squared_error: 90684832.0000 - val_mean_absolute_error: 5472.2856\n",
      "Epoch 11/100\n",
      "257/257 [==============================] - 4s 17ms/step - loss: 3004.8772 - mean_squared_error: 60291684.0000 - mean_absolute_error: 3004.8772 - val_loss: 2653.3584 - val_mean_squared_error: 31943634.0000 - val_mean_absolute_error: 2653.3584\n",
      "Epoch 12/100\n",
      "257/257 [==============================] - 4s 17ms/step - loss: 2943.7874 - mean_squared_error: 59822204.0000 - mean_absolute_error: 2943.7874 - val_loss: 2969.4216 - val_mean_squared_error: 21117046.0000 - val_mean_absolute_error: 2969.4216\n",
      "Epoch 13/100\n",
      "257/257 [==============================] - 4s 17ms/step - loss: 2880.3379 - mean_squared_error: 56485228.0000 - mean_absolute_error: 2880.3379 - val_loss: 2466.7046 - val_mean_squared_error: 18846804.0000 - val_mean_absolute_error: 2466.7046\n",
      "257/257 [==============================] - 2s 7ms/step - loss: 2609.6873 - mean_squared_error: 54098448.0000 - mean_absolute_error: 2609.6873\n",
      "30/30 [==============================] - 0s 6ms/step - loss: 3242.5869 - mean_squared_error: 36854040.0000 - mean_absolute_error: 3242.5869\n",
      "INFO:tensorflow:Assets written to: ../models/fl_tuned/fl_model_store41.pkt/assets\n",
      "**********************Evaluation!!*********************Store_41\n",
      "3242.5869140625\n",
      "_____________________________________Store_42__________________________\n",
      "Epoch 1/100\n",
      "WARNING:tensorflow:Model was constructed with shape (None, None, 103) for input KerasTensor(type_spec=TensorSpec(shape=(None, None, 103), dtype=tf.float32, name='dense_328_input'), name='dense_328_input', description=\"created by layer 'dense_328_input'\"), but it was called on an input with incompatible shape (None, 103).\n",
      "WARNING:tensorflow:Model was constructed with shape (None, None, 103) for input KerasTensor(type_spec=TensorSpec(shape=(None, None, 103), dtype=tf.float32, name='dense_328_input'), name='dense_328_input', description=\"created by layer 'dense_328_input'\"), but it was called on an input with incompatible shape (None, 103).\n"
     ]
    },
    {
     "name": "stderr",
     "output_type": "stream",
     "text": [
      "2022-12-18 11:28:43.711802: I tensorflow/core/grappler/optimizers/custom_graph_optimizer_registry.cc:114] Plugin optimizer for device_type GPU is enabled.\n"
     ]
    },
    {
     "name": "stdout",
     "output_type": "stream",
     "text": [
      "175/175 [==============================] - ETA: 0s - loss: 6543.3198 - mean_squared_error: 203780160.0000 - mean_absolute_error: 6543.3198WARNING:tensorflow:Model was constructed with shape (None, None, 103) for input KerasTensor(type_spec=TensorSpec(shape=(None, None, 103), dtype=tf.float32, name='dense_328_input'), name='dense_328_input', description=\"created by layer 'dense_328_input'\"), but it was called on an input with incompatible shape (None, 103).\n"
     ]
    },
    {
     "name": "stderr",
     "output_type": "stream",
     "text": [
      "2022-12-18 11:28:50.118297: I tensorflow/core/grappler/optimizers/custom_graph_optimizer_registry.cc:114] Plugin optimizer for device_type GPU is enabled.\n"
     ]
    },
    {
     "name": "stdout",
     "output_type": "stream",
     "text": [
      "175/175 [==============================] - 7s 27ms/step - loss: 6543.3198 - mean_squared_error: 203780160.0000 - mean_absolute_error: 6543.3198 - val_loss: 5838.6514 - val_mean_squared_error: 119819520.0000 - val_mean_absolute_error: 5838.6514\n",
      "Epoch 2/100\n",
      "175/175 [==============================] - 3s 18ms/step - loss: 2651.3208 - mean_squared_error: 29267402.0000 - mean_absolute_error: 2651.3208 - val_loss: 1436.6522 - val_mean_squared_error: 9399270.0000 - val_mean_absolute_error: 1436.6522\n",
      "Epoch 3/100\n",
      "175/175 [==============================] - 3s 17ms/step - loss: 2274.2178 - mean_squared_error: 22468900.0000 - mean_absolute_error: 2274.2178 - val_loss: 3221.0181 - val_mean_squared_error: 37220052.0000 - val_mean_absolute_error: 3221.0181\n",
      "Epoch 4/100\n",
      "175/175 [==============================] - 3s 17ms/step - loss: 2101.6304 - mean_squared_error: 19087596.0000 - mean_absolute_error: 2101.6304 - val_loss: 2581.7368 - val_mean_squared_error: 30552914.0000 - val_mean_absolute_error: 2581.7368\n",
      "Epoch 5/100\n",
      "175/175 [==============================] - 3s 17ms/step - loss: 2010.4131 - mean_squared_error: 18412128.0000 - mean_absolute_error: 2010.4131 - val_loss: 1538.2031 - val_mean_squared_error: 10085938.0000 - val_mean_absolute_error: 1538.2031\n",
      "Epoch 6/100\n",
      "175/175 [==============================] - 3s 17ms/step - loss: 1899.2518 - mean_squared_error: 17303606.0000 - mean_absolute_error: 1899.2518 - val_loss: 1184.2529 - val_mean_squared_error: 6766233.5000 - val_mean_absolute_error: 1184.2529\n",
      "Epoch 7/100\n",
      "175/175 [==============================] - 3s 17ms/step - loss: 1816.4769 - mean_squared_error: 16134630.0000 - mean_absolute_error: 1816.4769 - val_loss: 1156.3639 - val_mean_squared_error: 7130726.5000 - val_mean_absolute_error: 1156.3639\n",
      "Epoch 8/100\n",
      "175/175 [==============================] - 3s 17ms/step - loss: 1764.0063 - mean_squared_error: 15627677.0000 - mean_absolute_error: 1764.0063 - val_loss: 1630.0288 - val_mean_squared_error: 16896242.0000 - val_mean_absolute_error: 1630.0288\n",
      "Epoch 9/100\n",
      "175/175 [==============================] - 3s 17ms/step - loss: 1668.5444 - mean_squared_error: 14069840.0000 - mean_absolute_error: 1668.5444 - val_loss: 2003.9602 - val_mean_squared_error: 21971484.0000 - val_mean_absolute_error: 2003.9602\n",
      "Epoch 10/100\n",
      "175/175 [==============================] - 3s 17ms/step - loss: 1722.5488 - mean_squared_error: 15328009.0000 - mean_absolute_error: 1722.5488 - val_loss: 2280.2002 - val_mean_squared_error: 24238658.0000 - val_mean_absolute_error: 2280.2002\n",
      "175/175 [==============================] - 1s 7ms/step - loss: 1278.4375 - mean_squared_error: 7854778.0000 - mean_absolute_error: 1278.4375\n",
      "21/21 [==============================] - 0s 10ms/step - loss: 1332.4275 - mean_squared_error: 7427343.0000 - mean_absolute_error: 1332.4275\n",
      "INFO:tensorflow:Assets written to: ../models/fl_tuned/fl_model_store42.pkt/assets\n",
      "**********************Evaluation!!*********************Store_42\n",
      "1332.427490234375\n",
      "_____________________________________Store_43__________________________\n",
      "Epoch 1/100\n",
      "WARNING:tensorflow:Model was constructed with shape (None, None, 103) for input KerasTensor(type_spec=TensorSpec(shape=(None, None, 103), dtype=tf.float32, name='dense_336_input'), name='dense_336_input', description=\"created by layer 'dense_336_input'\"), but it was called on an input with incompatible shape (32, 103).\n",
      "WARNING:tensorflow:Model was constructed with shape (None, None, 103) for input KerasTensor(type_spec=TensorSpec(shape=(None, None, 103), dtype=tf.float32, name='dense_336_input'), name='dense_336_input', description=\"created by layer 'dense_336_input'\"), but it was called on an input with incompatible shape (32, 103).\n"
     ]
    },
    {
     "name": "stderr",
     "output_type": "stream",
     "text": [
      "2022-12-18 11:29:21.224162: I tensorflow/core/grappler/optimizers/custom_graph_optimizer_registry.cc:114] Plugin optimizer for device_type GPU is enabled.\n"
     ]
    },
    {
     "name": "stdout",
     "output_type": "stream",
     "text": [
      "172/172 [==============================] - ETA: 0s - loss: 7452.2544 - mean_squared_error: 231915136.0000 - mean_absolute_error: 7452.2544WARNING:tensorflow:Model was constructed with shape (None, None, 103) for input KerasTensor(type_spec=TensorSpec(shape=(None, None, 103), dtype=tf.float32, name='dense_336_input'), name='dense_336_input', description=\"created by layer 'dense_336_input'\"), but it was called on an input with incompatible shape (None, 103).\n"
     ]
    },
    {
     "name": "stderr",
     "output_type": "stream",
     "text": [
      "2022-12-18 11:29:26.651075: I tensorflow/core/grappler/optimizers/custom_graph_optimizer_registry.cc:114] Plugin optimizer for device_type GPU is enabled.\n"
     ]
    },
    {
     "name": "stdout",
     "output_type": "stream",
     "text": [
      "172/172 [==============================] - 6s 21ms/step - loss: 7452.2544 - mean_squared_error: 231915136.0000 - mean_absolute_error: 7452.2544 - val_loss: 2063.4485 - val_mean_squared_error: 13855938.0000 - val_mean_absolute_error: 2063.4485\n",
      "Epoch 2/100\n",
      "172/172 [==============================] - 3s 15ms/step - loss: 3058.9102 - mean_squared_error: 36799892.0000 - mean_absolute_error: 3058.9102 - val_loss: 2240.1060 - val_mean_squared_error: 15568752.0000 - val_mean_absolute_error: 2240.1060\n",
      "Epoch 3/100\n",
      "172/172 [==============================] - 3s 16ms/step - loss: 2664.7915 - mean_squared_error: 28964352.0000 - mean_absolute_error: 2664.7915 - val_loss: 1690.2368 - val_mean_squared_error: 11303520.0000 - val_mean_absolute_error: 1690.2368\n",
      "Epoch 4/100\n",
      "172/172 [==============================] - 3s 15ms/step - loss: 2493.3599 - mean_squared_error: 26783318.0000 - mean_absolute_error: 2493.3599 - val_loss: 1831.8643 - val_mean_squared_error: 11864541.0000 - val_mean_absolute_error: 1831.8643\n",
      "Epoch 5/100\n",
      "172/172 [==============================] - 3s 15ms/step - loss: 2303.9954 - mean_squared_error: 24874876.0000 - mean_absolute_error: 2303.9954 - val_loss: 2505.1931 - val_mean_squared_error: 32391802.0000 - val_mean_absolute_error: 2505.1931\n",
      "Epoch 6/100\n",
      "172/172 [==============================] - 3s 16ms/step - loss: 2160.6155 - mean_squared_error: 21457004.0000 - mean_absolute_error: 2160.6155 - val_loss: 1345.9148 - val_mean_squared_error: 7772250.0000 - val_mean_absolute_error: 1345.9148\n",
      "Epoch 7/100\n",
      "172/172 [==============================] - 3s 15ms/step - loss: 2092.1165 - mean_squared_error: 21238288.0000 - mean_absolute_error: 2092.1165 - val_loss: 1339.5955 - val_mean_squared_error: 6385670.5000 - val_mean_absolute_error: 1339.5955\n",
      "Epoch 8/100\n",
      "172/172 [==============================] - 3s 15ms/step - loss: 2053.5281 - mean_squared_error: 19372940.0000 - mean_absolute_error: 2053.5281 - val_loss: 1468.4485 - val_mean_squared_error: 8630303.0000 - val_mean_absolute_error: 1468.4485\n",
      "Epoch 9/100\n",
      "172/172 [==============================] - 3s 17ms/step - loss: 1980.9271 - mean_squared_error: 20087780.0000 - mean_absolute_error: 1980.9271 - val_loss: 1617.3518 - val_mean_squared_error: 11293153.0000 - val_mean_absolute_error: 1617.3518\n",
      "Epoch 10/100\n",
      "172/172 [==============================] - 3s 16ms/step - loss: 1872.3407 - mean_squared_error: 17433948.0000 - mean_absolute_error: 1872.3407 - val_loss: 1053.1445 - val_mean_squared_error: 4236722.5000 - val_mean_absolute_error: 1053.1445\n",
      "Epoch 11/100\n",
      "172/172 [==============================] - 3s 15ms/step - loss: 1881.7576 - mean_squared_error: 17645018.0000 - mean_absolute_error: 1881.7576 - val_loss: 3380.2852 - val_mean_squared_error: 33861092.0000 - val_mean_absolute_error: 3380.2852\n",
      "Epoch 12/100\n",
      "172/172 [==============================] - 3s 15ms/step - loss: 1824.7057 - mean_squared_error: 17077288.0000 - mean_absolute_error: 1824.7057 - val_loss: 1644.4783 - val_mean_squared_error: 16245930.0000 - val_mean_absolute_error: 1644.4783\n",
      "Epoch 13/100\n",
      "172/172 [==============================] - 3s 15ms/step - loss: 1777.1971 - mean_squared_error: 15609082.0000 - mean_absolute_error: 1777.1971 - val_loss: 1717.4429 - val_mean_squared_error: 9281394.0000 - val_mean_absolute_error: 1717.4429\n",
      "Epoch 14/100\n",
      "172/172 [==============================] - 3s 15ms/step - loss: 1723.4802 - mean_squared_error: 14689924.0000 - mean_absolute_error: 1723.4802 - val_loss: 2954.2412 - val_mean_squared_error: 42058892.0000 - val_mean_absolute_error: 2954.2412\n",
      "172/172 [==============================] - 1s 6ms/step - loss: 1301.1821 - mean_squared_error: 8833249.0000 - mean_absolute_error: 1301.1821\n",
      "20/20 [==============================] - 0s 17ms/step - loss: 1314.1689 - mean_squared_error: 9125920.0000 - mean_absolute_error: 1314.1689\n",
      "INFO:tensorflow:Assets written to: ../models/fl_tuned/fl_model_store43.pkt/assets\n",
      "**********************Evaluation!!*********************Store_43\n",
      "1314.1689453125\n",
      "_____________________________________Store_44__________________________\n",
      "Epoch 1/100\n",
      "WARNING:tensorflow:Model was constructed with shape (None, None, 103) for input KerasTensor(type_spec=TensorSpec(shape=(None, None, 103), dtype=tf.float32, name='dense_344_input'), name='dense_344_input', description=\"created by layer 'dense_344_input'\"), but it was called on an input with incompatible shape (None, 103).\n",
      "WARNING:tensorflow:Model was constructed with shape (None, None, 103) for input KerasTensor(type_spec=TensorSpec(shape=(None, None, 103), dtype=tf.float32, name='dense_344_input'), name='dense_344_input', description=\"created by layer 'dense_344_input'\"), but it was called on an input with incompatible shape (None, 103).\n"
     ]
    },
    {
     "name": "stderr",
     "output_type": "stream",
     "text": [
      "2022-12-18 11:30:05.719164: I tensorflow/core/grappler/optimizers/custom_graph_optimizer_registry.cc:114] Plugin optimizer for device_type GPU is enabled.\n"
     ]
    },
    {
     "name": "stdout",
     "output_type": "stream",
     "text": [
      "181/181 [==============================] - ETA: 0s - loss: 3402.3035 - mean_squared_error: 61066924.0000 - mean_absolute_error: 3402.3035WARNING:tensorflow:Model was constructed with shape (None, None, 103) for input KerasTensor(type_spec=TensorSpec(shape=(None, None, 103), dtype=tf.float32, name='dense_344_input'), name='dense_344_input', description=\"created by layer 'dense_344_input'\"), but it was called on an input with incompatible shape (None, 103).\n"
     ]
    },
    {
     "name": "stderr",
     "output_type": "stream",
     "text": [
      "2022-12-18 11:30:11.313462: I tensorflow/core/grappler/optimizers/custom_graph_optimizer_registry.cc:114] Plugin optimizer for device_type GPU is enabled.\n"
     ]
    },
    {
     "name": "stdout",
     "output_type": "stream",
     "text": [
      "181/181 [==============================] - 7s 27ms/step - loss: 3402.3035 - mean_squared_error: 61066924.0000 - mean_absolute_error: 3402.3035 - val_loss: 1528.5162 - val_mean_squared_error: 9396730.0000 - val_mean_absolute_error: 1528.5162\n",
      "Epoch 2/100\n",
      "181/181 [==============================] - 3s 18ms/step - loss: 1348.8320 - mean_squared_error: 7937420.0000 - mean_absolute_error: 1348.8320 - val_loss: 2390.8123 - val_mean_squared_error: 17608934.0000 - val_mean_absolute_error: 2390.8123\n",
      "Epoch 3/100\n",
      "181/181 [==============================] - 3s 17ms/step - loss: 1141.6105 - mean_squared_error: 6244952.5000 - mean_absolute_error: 1141.6105 - val_loss: 1957.6996 - val_mean_squared_error: 17423870.0000 - val_mean_absolute_error: 1957.6996\n",
      "Epoch 4/100\n",
      "181/181 [==============================] - 3s 17ms/step - loss: 1049.0814 - mean_squared_error: 5489398.5000 - mean_absolute_error: 1049.0814 - val_loss: 1327.6084 - val_mean_squared_error: 9008768.0000 - val_mean_absolute_error: 1327.6084\n",
      "Epoch 5/100\n",
      "181/181 [==============================] - 3s 17ms/step - loss: 955.5574 - mean_squared_error: 4778511.5000 - mean_absolute_error: 955.5574 - val_loss: 1010.9003 - val_mean_squared_error: 3768061.0000 - val_mean_absolute_error: 1010.9003\n",
      "Epoch 6/100\n",
      "181/181 [==============================] - 3s 17ms/step - loss: 951.8810 - mean_squared_error: 4770363.0000 - mean_absolute_error: 951.8810 - val_loss: 1221.7966 - val_mean_squared_error: 4883037.5000 - val_mean_absolute_error: 1221.7966\n",
      "Epoch 7/100\n",
      "181/181 [==============================] - 3s 17ms/step - loss: 918.5553 - mean_squared_error: 4497438.5000 - mean_absolute_error: 918.5553 - val_loss: 1123.0365 - val_mean_squared_error: 4986179.5000 - val_mean_absolute_error: 1123.0365\n",
      "Epoch 8/100\n",
      "181/181 [==============================] - 3s 17ms/step - loss: 859.8611 - mean_squared_error: 4135572.0000 - mean_absolute_error: 859.8611 - val_loss: 747.8337 - val_mean_squared_error: 2586611.7500 - val_mean_absolute_error: 747.8337\n",
      "Epoch 9/100\n",
      "181/181 [==============================] - 3s 17ms/step - loss: 820.0883 - mean_squared_error: 3758401.0000 - mean_absolute_error: 820.0883 - val_loss: 905.0501 - val_mean_squared_error: 4209093.5000 - val_mean_absolute_error: 905.0501\n",
      "Epoch 10/100\n",
      "181/181 [==============================] - 3s 17ms/step - loss: 791.4007 - mean_squared_error: 3443795.5000 - mean_absolute_error: 791.4007 - val_loss: 1208.2103 - val_mean_squared_error: 5640983.0000 - val_mean_absolute_error: 1208.2103\n",
      "Epoch 11/100\n",
      "181/181 [==============================] - 3s 17ms/step - loss: 784.6108 - mean_squared_error: 3497994.7500 - mean_absolute_error: 784.6108 - val_loss: 981.9465 - val_mean_squared_error: 2971325.0000 - val_mean_absolute_error: 981.9465\n",
      "Epoch 12/100\n",
      "181/181 [==============================] - 3s 17ms/step - loss: 767.4024 - mean_squared_error: 3495404.5000 - mean_absolute_error: 767.4024 - val_loss: 1213.8438 - val_mean_squared_error: 6146482.5000 - val_mean_absolute_error: 1213.8438\n",
      "181/181 [==============================] - 1s 7ms/step - loss: 741.2629 - mean_squared_error: 2283788.0000 - mean_absolute_error: 741.2629\n",
      "22/22 [==============================] - 0s 15ms/step - loss: 886.1663 - mean_squared_error: 4052287.7500 - mean_absolute_error: 886.1663\n",
      "INFO:tensorflow:Assets written to: ../models/fl_tuned/fl_model_store44.pkt/assets\n",
      "**********************Evaluation!!*********************Store_44\n",
      "886.1663208007812\n",
      "_____________________________________Store_45__________________________\n",
      "Epoch 1/100\n",
      "WARNING:tensorflow:Model was constructed with shape (None, None, 103) for input KerasTensor(type_spec=TensorSpec(shape=(None, None, 103), dtype=tf.float32, name='dense_352_input'), name='dense_352_input', description=\"created by layer 'dense_352_input'\"), but it was called on an input with incompatible shape (None, 103).\n",
      "WARNING:tensorflow:Model was constructed with shape (None, None, 103) for input KerasTensor(type_spec=TensorSpec(shape=(None, None, 103), dtype=tf.float32, name='dense_352_input'), name='dense_352_input', description=\"created by layer 'dense_352_input'\"), but it was called on an input with incompatible shape (None, 103).\n"
     ]
    },
    {
     "name": "stderr",
     "output_type": "stream",
     "text": [
      "2022-12-18 11:30:49.683615: I tensorflow/core/grappler/optimizers/custom_graph_optimizer_registry.cc:114] Plugin optimizer for device_type GPU is enabled.\n"
     ]
    },
    {
     "name": "stdout",
     "output_type": "stream",
     "text": [
      "246/246 [==============================] - ETA: 0s - loss: 5904.4790 - mean_squared_error: 126876112.0000 - mean_absolute_error: 5904.4790WARNING:tensorflow:Model was constructed with shape (None, None, 103) for input KerasTensor(type_spec=TensorSpec(shape=(None, None, 103), dtype=tf.float32, name='dense_352_input'), name='dense_352_input', description=\"created by layer 'dense_352_input'\"), but it was called on an input with incompatible shape (None, 103).\n"
     ]
    },
    {
     "name": "stderr",
     "output_type": "stream",
     "text": [
      "2022-12-18 11:30:57.409579: I tensorflow/core/grappler/optimizers/custom_graph_optimizer_registry.cc:114] Plugin optimizer for device_type GPU is enabled.\n"
     ]
    },
    {
     "name": "stdout",
     "output_type": "stream",
     "text": [
      "246/246 [==============================] - 9s 24ms/step - loss: 5904.4790 - mean_squared_error: 126876112.0000 - mean_absolute_error: 5904.4790 - val_loss: 2542.5229 - val_mean_squared_error: 25652530.0000 - val_mean_absolute_error: 2542.5229\n",
      "Epoch 2/100\n",
      "246/246 [==============================] - 4s 17ms/step - loss: 3248.4358 - mean_squared_error: 52689192.0000 - mean_absolute_error: 3248.4358 - val_loss: 5417.1338 - val_mean_squared_error: 53676672.0000 - val_mean_absolute_error: 5417.1338\n",
      "Epoch 3/100\n",
      "246/246 [==============================] - 4s 17ms/step - loss: 3037.1050 - mean_squared_error: 49150132.0000 - mean_absolute_error: 3037.1050 - val_loss: 2253.2432 - val_mean_squared_error: 20562498.0000 - val_mean_absolute_error: 2253.2432\n",
      "Epoch 4/100\n",
      "246/246 [==============================] - 4s 17ms/step - loss: 2879.0400 - mean_squared_error: 46976236.0000 - mean_absolute_error: 2879.0400 - val_loss: 2143.4753 - val_mean_squared_error: 20610904.0000 - val_mean_absolute_error: 2143.4753\n",
      "Epoch 5/100\n",
      "246/246 [==============================] - 4s 17ms/step - loss: 2731.9434 - mean_squared_error: 45786112.0000 - mean_absolute_error: 2731.9434 - val_loss: 2034.8699 - val_mean_squared_error: 16573874.0000 - val_mean_absolute_error: 2034.8699\n",
      "Epoch 6/100\n",
      "246/246 [==============================] - 4s 17ms/step - loss: 2655.4128 - mean_squared_error: 44750396.0000 - mean_absolute_error: 2655.4128 - val_loss: 2602.7427 - val_mean_squared_error: 20386912.0000 - val_mean_absolute_error: 2602.7427\n",
      "Epoch 7/100\n",
      "246/246 [==============================] - 4s 17ms/step - loss: 2523.6736 - mean_squared_error: 43635536.0000 - mean_absolute_error: 2523.6736 - val_loss: 2853.1040 - val_mean_squared_error: 26978840.0000 - val_mean_absolute_error: 2853.1040\n",
      "Epoch 8/100\n",
      "246/246 [==============================] - 4s 17ms/step - loss: 2481.8391 - mean_squared_error: 41047804.0000 - mean_absolute_error: 2481.8391 - val_loss: 2086.3984 - val_mean_squared_error: 17910416.0000 - val_mean_absolute_error: 2086.3984\n",
      "Epoch 9/100\n",
      "246/246 [==============================] - 4s 17ms/step - loss: 2414.0964 - mean_squared_error: 40358996.0000 - mean_absolute_error: 2414.0964 - val_loss: 2409.0862 - val_mean_squared_error: 24214544.0000 - val_mean_absolute_error: 2409.0862\n",
      "246/246 [==============================] - 2s 7ms/step - loss: 2263.7424 - mean_squared_error: 37473196.0000 - mean_absolute_error: 2263.7424\n",
      "28/28 [==============================] - 0s 14ms/step - loss: 2148.2007 - mean_squared_error: 10155986.0000 - mean_absolute_error: 2148.2007\n",
      "INFO:tensorflow:Assets written to: ../models/fl_tuned/fl_model_store45.pkt/assets\n",
      "**********************Evaluation!!*********************Store_45\n",
      "2148.20068359375\n"
     ]
    }
   ],
   "source": [
    "for i in range(0, 45):\n",
    "    print(\"_____________________________________Store_\"+str(i+1)+\"__________________________\")\n",
    "    model = load_model(\"./models/federated_model_adagrad_2.pkt\")\n",
    "    new_model = Model().model\n",
    "    new_model.set_weights(model.get_weights())\n",
    "    X_train, y_train,X_valid, y_valid, X_test, y_test = load_data(str(i+1), data_dir=\"./data/store_level_data/\")\n",
    "    early_stopping = tf.keras.callbacks.EarlyStopping(\n",
    "                monitor='val_loss',\n",
    "                patience=4,\n",
    "                min_delta= 100,\n",
    "                restore_best_weights=True,\n",
    "            )\n",
    "    try:\n",
    "        history = new_model.fit(\n",
    "                            X_train,\n",
    "                            y_train,\n",
    "                            epochs=100,\n",
    "                            callbacks=[early_stopping],\n",
    "                            validation_data=(X_valid, y_valid)\n",
    "                        )\n",
    "        loss, train_mean_squared_error, train_mean_absolute_error = new_model.evaluate(\n",
    "                X_train, y_train\n",
    "            )\n",
    "        loss, test_mean_squared_error, test_mean_absolute_error = new_model.evaluate(\n",
    "                X_test, y_test\n",
    "            )\n",
    "        new_model.save(\"../models/fl_tuned/fl_model_store\"+str(i+1)+\".pkt\")\n",
    "        df_sub = pd.DataFrame({\"Store\":[str(i+1)],\n",
    "                            \"train_mse\": [train_mean_squared_error],\n",
    "                            \"train_mae\":[train_mean_absolute_error],\n",
    "                            \"test_mse\": [test_mean_squared_error],\n",
    "                            \"test_mae\":[test_mean_absolute_error],\n",
    "                            \"training_history\": history})\n",
    "        df_fine = pd.concat([df_fine, df_sub])\n",
    "        print(\"**********************Evaluation!!*********************Store_\" +str(i+1))\n",
    "        print(test_mean_absolute_error)\n",
    "    except:\n",
    "        failed_fine.append(str(i+1))"
   ]
  },
  {
   "cell_type": "code",
   "execution_count": 8,
   "metadata": {},
   "outputs": [
    {
     "data": {
      "text/html": [
       "<div>\n",
       "<style scoped>\n",
       "    .dataframe tbody tr th:only-of-type {\n",
       "        vertical-align: middle;\n",
       "    }\n",
       "\n",
       "    .dataframe tbody tr th {\n",
       "        vertical-align: top;\n",
       "    }\n",
       "\n",
       "    .dataframe thead th {\n",
       "        text-align: right;\n",
       "    }\n",
       "</style>\n",
       "<table border=\"1\" class=\"dataframe\">\n",
       "  <thead>\n",
       "    <tr style=\"text-align: right;\">\n",
       "      <th></th>\n",
       "      <th>Store</th>\n",
       "      <th>train_mse</th>\n",
       "      <th>train_mae</th>\n",
       "      <th>test_mse</th>\n",
       "      <th>test_mae</th>\n",
       "      <th>training_history</th>\n",
       "    </tr>\n",
       "  </thead>\n",
       "  <tbody>\n",
       "    <tr>\n",
       "      <th>0</th>\n",
       "      <td>1</td>\n",
       "      <td>4.290295e+07</td>\n",
       "      <td>3276.363770</td>\n",
       "      <td>20387752.00</td>\n",
       "      <td>2616.830566</td>\n",
       "      <td>&lt;keras.callbacks.History object at 0x292d475b0&gt;</td>\n",
       "    </tr>\n",
       "    <tr>\n",
       "      <th>0</th>\n",
       "      <td>2</td>\n",
       "      <td>9.062637e+07</td>\n",
       "      <td>3743.169434</td>\n",
       "      <td>38180240.00</td>\n",
       "      <td>3282.150879</td>\n",
       "      <td>&lt;keras.callbacks.History object at 0x2d3bb4610&gt;</td>\n",
       "    </tr>\n",
       "    <tr>\n",
       "      <th>0</th>\n",
       "      <td>3</td>\n",
       "      <td>1.427697e+07</td>\n",
       "      <td>1309.036133</td>\n",
       "      <td>4132957.25</td>\n",
       "      <td>1106.161499</td>\n",
       "      <td>&lt;keras.callbacks.History object at 0x2d4554580&gt;</td>\n",
       "    </tr>\n",
       "    <tr>\n",
       "      <th>0</th>\n",
       "      <td>4</td>\n",
       "      <td>1.379814e+08</td>\n",
       "      <td>4662.824707</td>\n",
       "      <td>58982804.00</td>\n",
       "      <td>4215.699707</td>\n",
       "      <td>&lt;keras.callbacks.History object at 0x2eceaf430&gt;</td>\n",
       "    </tr>\n",
       "    <tr>\n",
       "      <th>0</th>\n",
       "      <td>5</td>\n",
       "      <td>5.559791e+06</td>\n",
       "      <td>966.824646</td>\n",
       "      <td>2512270.00</td>\n",
       "      <td>914.447815</td>\n",
       "      <td>&lt;keras.callbacks.History object at 0x290095dc0&gt;</td>\n",
       "    </tr>\n",
       "    <tr>\n",
       "      <th>0</th>\n",
       "      <td>6</td>\n",
       "      <td>7.860030e+07</td>\n",
       "      <td>4045.414551</td>\n",
       "      <td>45128236.00</td>\n",
       "      <td>4767.990723</td>\n",
       "      <td>&lt;keras.callbacks.History object at 0x306fc3f10&gt;</td>\n",
       "    </tr>\n",
       "    <tr>\n",
       "      <th>0</th>\n",
       "      <td>7</td>\n",
       "      <td>1.965770e+07</td>\n",
       "      <td>1852.104858</td>\n",
       "      <td>7850834.50</td>\n",
       "      <td>1435.219727</td>\n",
       "      <td>&lt;keras.callbacks.History object at 0x2d4add970&gt;</td>\n",
       "    </tr>\n",
       "    <tr>\n",
       "      <th>0</th>\n",
       "      <td>8</td>\n",
       "      <td>2.462180e+07</td>\n",
       "      <td>2536.162109</td>\n",
       "      <td>11561581.00</td>\n",
       "      <td>1931.513184</td>\n",
       "      <td>&lt;keras.callbacks.History object at 0x3214c6190&gt;</td>\n",
       "    </tr>\n",
       "    <tr>\n",
       "      <th>0</th>\n",
       "      <td>9</td>\n",
       "      <td>1.533016e+07</td>\n",
       "      <td>1572.085938</td>\n",
       "      <td>10475696.00</td>\n",
       "      <td>1447.516968</td>\n",
       "      <td>&lt;keras.callbacks.History object at 0x346592640&gt;</td>\n",
       "    </tr>\n",
       "    <tr>\n",
       "      <th>0</th>\n",
       "      <td>10</td>\n",
       "      <td>3.061791e+08</td>\n",
       "      <td>8979.080078</td>\n",
       "      <td>48592596.00</td>\n",
       "      <td>3637.435791</td>\n",
       "      <td>&lt;keras.callbacks.History object at 0x31496dac0&gt;</td>\n",
       "    </tr>\n",
       "    <tr>\n",
       "      <th>0</th>\n",
       "      <td>11</td>\n",
       "      <td>6.321413e+07</td>\n",
       "      <td>3257.947510</td>\n",
       "      <td>25015896.00</td>\n",
       "      <td>2974.480713</td>\n",
       "      <td>&lt;keras.callbacks.History object at 0x3808315e0&gt;</td>\n",
       "    </tr>\n",
       "    <tr>\n",
       "      <th>0</th>\n",
       "      <td>12</td>\n",
       "      <td>6.347140e+07</td>\n",
       "      <td>2182.668213</td>\n",
       "      <td>26835310.00</td>\n",
       "      <td>2201.188721</td>\n",
       "      <td>&lt;keras.callbacks.History object at 0x2e110b430&gt;</td>\n",
       "    </tr>\n",
       "    <tr>\n",
       "      <th>0</th>\n",
       "      <td>13</td>\n",
       "      <td>1.369003e+08</td>\n",
       "      <td>4777.825684</td>\n",
       "      <td>42645624.00</td>\n",
       "      <td>3075.701904</td>\n",
       "      <td>&lt;keras.callbacks.History object at 0x32d621df0&gt;</td>\n",
       "    </tr>\n",
       "    <tr>\n",
       "      <th>0</th>\n",
       "      <td>14</td>\n",
       "      <td>2.034244e+08</td>\n",
       "      <td>5935.158691</td>\n",
       "      <td>39205760.00</td>\n",
       "      <td>3575.871582</td>\n",
       "      <td>&lt;keras.callbacks.History object at 0x2d4b4fac0&gt;</td>\n",
       "    </tr>\n",
       "    <tr>\n",
       "      <th>0</th>\n",
       "      <td>15</td>\n",
       "      <td>4.090953e+07</td>\n",
       "      <td>2247.170654</td>\n",
       "      <td>7498944.00</td>\n",
       "      <td>1505.120728</td>\n",
       "      <td>&lt;keras.callbacks.History object at 0x398bcafd0&gt;</td>\n",
       "    </tr>\n",
       "    <tr>\n",
       "      <th>0</th>\n",
       "      <td>16</td>\n",
       "      <td>1.592718e+07</td>\n",
       "      <td>1461.880127</td>\n",
       "      <td>25423120.00</td>\n",
       "      <td>1732.760620</td>\n",
       "      <td>&lt;keras.callbacks.History object at 0x37669f850&gt;</td>\n",
       "    </tr>\n",
       "    <tr>\n",
       "      <th>0</th>\n",
       "      <td>17</td>\n",
       "      <td>3.112249e+07</td>\n",
       "      <td>2887.468506</td>\n",
       "      <td>24671732.00</td>\n",
       "      <td>2434.138916</td>\n",
       "      <td>&lt;keras.callbacks.History object at 0x290b28070&gt;</td>\n",
       "    </tr>\n",
       "    <tr>\n",
       "      <th>0</th>\n",
       "      <td>18</td>\n",
       "      <td>6.593854e+07</td>\n",
       "      <td>3272.550293</td>\n",
       "      <td>24887428.00</td>\n",
       "      <td>2507.841553</td>\n",
       "      <td>&lt;keras.callbacks.History object at 0x3f55c7550&gt;</td>\n",
       "    </tr>\n",
       "    <tr>\n",
       "      <th>0</th>\n",
       "      <td>19</td>\n",
       "      <td>7.310471e+07</td>\n",
       "      <td>3412.128906</td>\n",
       "      <td>31769480.00</td>\n",
       "      <td>2871.216797</td>\n",
       "      <td>&lt;keras.callbacks.History object at 0x3f5538a60&gt;</td>\n",
       "    </tr>\n",
       "    <tr>\n",
       "      <th>0</th>\n",
       "      <td>20</td>\n",
       "      <td>1.522277e+08</td>\n",
       "      <td>5618.201660</td>\n",
       "      <td>41027920.00</td>\n",
       "      <td>4051.118408</td>\n",
       "      <td>&lt;keras.callbacks.History object at 0x36f7aeeb0&gt;</td>\n",
       "    </tr>\n",
       "    <tr>\n",
       "      <th>0</th>\n",
       "      <td>21</td>\n",
       "      <td>4.330446e+07</td>\n",
       "      <td>2216.177490</td>\n",
       "      <td>21819872.00</td>\n",
       "      <td>2113.576416</td>\n",
       "      <td>&lt;keras.callbacks.History object at 0x36cf698b0&gt;</td>\n",
       "    </tr>\n",
       "    <tr>\n",
       "      <th>0</th>\n",
       "      <td>22</td>\n",
       "      <td>6.868138e+07</td>\n",
       "      <td>2557.898438</td>\n",
       "      <td>15987334.00</td>\n",
       "      <td>2136.004639</td>\n",
       "      <td>&lt;keras.callbacks.History object at 0x3f55c75e0&gt;</td>\n",
       "    </tr>\n",
       "    <tr>\n",
       "      <th>0</th>\n",
       "      <td>23</td>\n",
       "      <td>1.045638e+08</td>\n",
       "      <td>3764.091553</td>\n",
       "      <td>38493984.00</td>\n",
       "      <td>3340.941650</td>\n",
       "      <td>&lt;keras.callbacks.History object at 0x43a6b3790&gt;</td>\n",
       "    </tr>\n",
       "    <tr>\n",
       "      <th>0</th>\n",
       "      <td>24</td>\n",
       "      <td>9.012978e+07</td>\n",
       "      <td>4966.766602</td>\n",
       "      <td>29086538.00</td>\n",
       "      <td>3038.163330</td>\n",
       "      <td>&lt;keras.callbacks.History object at 0x3e9761df0&gt;</td>\n",
       "    </tr>\n",
       "    <tr>\n",
       "      <th>0</th>\n",
       "      <td>25</td>\n",
       "      <td>2.518345e+07</td>\n",
       "      <td>1816.677490</td>\n",
       "      <td>8121126.50</td>\n",
       "      <td>1456.423340</td>\n",
       "      <td>&lt;keras.callbacks.History object at 0x4118199d0&gt;</td>\n",
       "    </tr>\n",
       "    <tr>\n",
       "      <th>0</th>\n",
       "      <td>26</td>\n",
       "      <td>3.226564e+07</td>\n",
       "      <td>2443.281494</td>\n",
       "      <td>17463236.00</td>\n",
       "      <td>2247.058105</td>\n",
       "      <td>&lt;keras.callbacks.History object at 0x46b9b29d0&gt;</td>\n",
       "    </tr>\n",
       "    <tr>\n",
       "      <th>0</th>\n",
       "      <td>27</td>\n",
       "      <td>1.044229e+08</td>\n",
       "      <td>4304.585449</td>\n",
       "      <td>36506824.00</td>\n",
       "      <td>3311.787598</td>\n",
       "      <td>&lt;keras.callbacks.History object at 0x3f2ce8880&gt;</td>\n",
       "    </tr>\n",
       "    <tr>\n",
       "      <th>0</th>\n",
       "      <td>28</td>\n",
       "      <td>8.543408e+07</td>\n",
       "      <td>3667.700684</td>\n",
       "      <td>40747152.00</td>\n",
       "      <td>2989.236084</td>\n",
       "      <td>&lt;keras.callbacks.History object at 0x3f57c2190&gt;</td>\n",
       "    </tr>\n",
       "    <tr>\n",
       "      <th>0</th>\n",
       "      <td>29</td>\n",
       "      <td>2.996550e+07</td>\n",
       "      <td>2014.347046</td>\n",
       "      <td>9914338.00</td>\n",
       "      <td>1892.243896</td>\n",
       "      <td>&lt;keras.callbacks.History object at 0x4849cfeb0&gt;</td>\n",
       "    </tr>\n",
       "    <tr>\n",
       "      <th>0</th>\n",
       "      <td>30</td>\n",
       "      <td>4.673177e+06</td>\n",
       "      <td>1072.834839</td>\n",
       "      <td>8044543.50</td>\n",
       "      <td>1469.793335</td>\n",
       "      <td>&lt;keras.callbacks.History object at 0x3d7adfd60&gt;</td>\n",
       "    </tr>\n",
       "    <tr>\n",
       "      <th>0</th>\n",
       "      <td>31</td>\n",
       "      <td>3.670488e+07</td>\n",
       "      <td>2316.374512</td>\n",
       "      <td>17905788.00</td>\n",
       "      <td>2377.904541</td>\n",
       "      <td>&lt;keras.callbacks.History object at 0x4798c5df0&gt;</td>\n",
       "    </tr>\n",
       "    <tr>\n",
       "      <th>0</th>\n",
       "      <td>32</td>\n",
       "      <td>4.460487e+07</td>\n",
       "      <td>3070.580811</td>\n",
       "      <td>21088536.00</td>\n",
       "      <td>2403.537109</td>\n",
       "      <td>&lt;keras.callbacks.History object at 0x44feada90&gt;</td>\n",
       "    </tr>\n",
       "    <tr>\n",
       "      <th>0</th>\n",
       "      <td>33</td>\n",
       "      <td>6.964015e+06</td>\n",
       "      <td>1156.346924</td>\n",
       "      <td>4682585.00</td>\n",
       "      <td>984.893677</td>\n",
       "      <td>&lt;keras.callbacks.History object at 0x4daea4790&gt;</td>\n",
       "    </tr>\n",
       "    <tr>\n",
       "      <th>0</th>\n",
       "      <td>34</td>\n",
       "      <td>2.291952e+07</td>\n",
       "      <td>2262.850586</td>\n",
       "      <td>8889416.00</td>\n",
       "      <td>1755.240723</td>\n",
       "      <td>&lt;keras.callbacks.History object at 0x440493f10&gt;</td>\n",
       "    </tr>\n",
       "    <tr>\n",
       "      <th>0</th>\n",
       "      <td>35</td>\n",
       "      <td>1.381896e+08</td>\n",
       "      <td>3188.322754</td>\n",
       "      <td>23461572.00</td>\n",
       "      <td>2222.386963</td>\n",
       "      <td>&lt;keras.callbacks.History object at 0x4a5f73ee0&gt;</td>\n",
       "    </tr>\n",
       "    <tr>\n",
       "      <th>0</th>\n",
       "      <td>36</td>\n",
       "      <td>2.229118e+07</td>\n",
       "      <td>2325.289062</td>\n",
       "      <td>3736211.25</td>\n",
       "      <td>1003.813721</td>\n",
       "      <td>&lt;keras.callbacks.History object at 0x50b29d760&gt;</td>\n",
       "    </tr>\n",
       "    <tr>\n",
       "      <th>0</th>\n",
       "      <td>37</td>\n",
       "      <td>5.627322e+06</td>\n",
       "      <td>1098.592773</td>\n",
       "      <td>25996776.00</td>\n",
       "      <td>2102.724121</td>\n",
       "      <td>&lt;keras.callbacks.History object at 0x3f5552610&gt;</td>\n",
       "    </tr>\n",
       "    <tr>\n",
       "      <th>0</th>\n",
       "      <td>38</td>\n",
       "      <td>3.187792e+06</td>\n",
       "      <td>766.397827</td>\n",
       "      <td>14539793.00</td>\n",
       "      <td>1737.131104</td>\n",
       "      <td>&lt;keras.callbacks.History object at 0x46609b430&gt;</td>\n",
       "    </tr>\n",
       "    <tr>\n",
       "      <th>0</th>\n",
       "      <td>39</td>\n",
       "      <td>8.603594e+07</td>\n",
       "      <td>3408.246826</td>\n",
       "      <td>40118720.00</td>\n",
       "      <td>2996.897461</td>\n",
       "      <td>&lt;keras.callbacks.History object at 0x4e77340d0&gt;</td>\n",
       "    </tr>\n",
       "    <tr>\n",
       "      <th>0</th>\n",
       "      <td>40</td>\n",
       "      <td>2.362165e+07</td>\n",
       "      <td>2151.761230</td>\n",
       "      <td>10586160.00</td>\n",
       "      <td>1717.874878</td>\n",
       "      <td>&lt;keras.callbacks.History object at 0x5313c8b80&gt;</td>\n",
       "    </tr>\n",
       "    <tr>\n",
       "      <th>0</th>\n",
       "      <td>41</td>\n",
       "      <td>5.409845e+07</td>\n",
       "      <td>2609.687256</td>\n",
       "      <td>36854040.00</td>\n",
       "      <td>3242.586914</td>\n",
       "      <td>&lt;keras.callbacks.History object at 0x4465e9ca0&gt;</td>\n",
       "    </tr>\n",
       "    <tr>\n",
       "      <th>0</th>\n",
       "      <td>42</td>\n",
       "      <td>7.854778e+06</td>\n",
       "      <td>1278.437500</td>\n",
       "      <td>7427343.00</td>\n",
       "      <td>1332.427490</td>\n",
       "      <td>&lt;keras.callbacks.History object at 0x4f2fc85b0&gt;</td>\n",
       "    </tr>\n",
       "    <tr>\n",
       "      <th>0</th>\n",
       "      <td>43</td>\n",
       "      <td>8.833249e+06</td>\n",
       "      <td>1301.182129</td>\n",
       "      <td>9125920.00</td>\n",
       "      <td>1314.168945</td>\n",
       "      <td>&lt;keras.callbacks.History object at 0x5728d3c40&gt;</td>\n",
       "    </tr>\n",
       "    <tr>\n",
       "      <th>0</th>\n",
       "      <td>44</td>\n",
       "      <td>2.283788e+06</td>\n",
       "      <td>741.262939</td>\n",
       "      <td>4052287.75</td>\n",
       "      <td>886.166321</td>\n",
       "      <td>&lt;keras.callbacks.History object at 0x521c676d0&gt;</td>\n",
       "    </tr>\n",
       "    <tr>\n",
       "      <th>0</th>\n",
       "      <td>45</td>\n",
       "      <td>3.747320e+07</td>\n",
       "      <td>2263.742432</td>\n",
       "      <td>10155986.00</td>\n",
       "      <td>2148.200684</td>\n",
       "      <td>&lt;keras.callbacks.History object at 0x4f0be3610&gt;</td>\n",
       "    </tr>\n",
       "  </tbody>\n",
       "</table>\n",
       "</div>"
      ],
      "text/plain": [
       "  Store     train_mse    train_mae     test_mse     test_mae  \\\n",
       "0     1  4.290295e+07  3276.363770  20387752.00  2616.830566   \n",
       "0     2  9.062637e+07  3743.169434  38180240.00  3282.150879   \n",
       "0     3  1.427697e+07  1309.036133   4132957.25  1106.161499   \n",
       "0     4  1.379814e+08  4662.824707  58982804.00  4215.699707   \n",
       "0     5  5.559791e+06   966.824646   2512270.00   914.447815   \n",
       "0     6  7.860030e+07  4045.414551  45128236.00  4767.990723   \n",
       "0     7  1.965770e+07  1852.104858   7850834.50  1435.219727   \n",
       "0     8  2.462180e+07  2536.162109  11561581.00  1931.513184   \n",
       "0     9  1.533016e+07  1572.085938  10475696.00  1447.516968   \n",
       "0    10  3.061791e+08  8979.080078  48592596.00  3637.435791   \n",
       "0    11  6.321413e+07  3257.947510  25015896.00  2974.480713   \n",
       "0    12  6.347140e+07  2182.668213  26835310.00  2201.188721   \n",
       "0    13  1.369003e+08  4777.825684  42645624.00  3075.701904   \n",
       "0    14  2.034244e+08  5935.158691  39205760.00  3575.871582   \n",
       "0    15  4.090953e+07  2247.170654   7498944.00  1505.120728   \n",
       "0    16  1.592718e+07  1461.880127  25423120.00  1732.760620   \n",
       "0    17  3.112249e+07  2887.468506  24671732.00  2434.138916   \n",
       "0    18  6.593854e+07  3272.550293  24887428.00  2507.841553   \n",
       "0    19  7.310471e+07  3412.128906  31769480.00  2871.216797   \n",
       "0    20  1.522277e+08  5618.201660  41027920.00  4051.118408   \n",
       "0    21  4.330446e+07  2216.177490  21819872.00  2113.576416   \n",
       "0    22  6.868138e+07  2557.898438  15987334.00  2136.004639   \n",
       "0    23  1.045638e+08  3764.091553  38493984.00  3340.941650   \n",
       "0    24  9.012978e+07  4966.766602  29086538.00  3038.163330   \n",
       "0    25  2.518345e+07  1816.677490   8121126.50  1456.423340   \n",
       "0    26  3.226564e+07  2443.281494  17463236.00  2247.058105   \n",
       "0    27  1.044229e+08  4304.585449  36506824.00  3311.787598   \n",
       "0    28  8.543408e+07  3667.700684  40747152.00  2989.236084   \n",
       "0    29  2.996550e+07  2014.347046   9914338.00  1892.243896   \n",
       "0    30  4.673177e+06  1072.834839   8044543.50  1469.793335   \n",
       "0    31  3.670488e+07  2316.374512  17905788.00  2377.904541   \n",
       "0    32  4.460487e+07  3070.580811  21088536.00  2403.537109   \n",
       "0    33  6.964015e+06  1156.346924   4682585.00   984.893677   \n",
       "0    34  2.291952e+07  2262.850586   8889416.00  1755.240723   \n",
       "0    35  1.381896e+08  3188.322754  23461572.00  2222.386963   \n",
       "0    36  2.229118e+07  2325.289062   3736211.25  1003.813721   \n",
       "0    37  5.627322e+06  1098.592773  25996776.00  2102.724121   \n",
       "0    38  3.187792e+06   766.397827  14539793.00  1737.131104   \n",
       "0    39  8.603594e+07  3408.246826  40118720.00  2996.897461   \n",
       "0    40  2.362165e+07  2151.761230  10586160.00  1717.874878   \n",
       "0    41  5.409845e+07  2609.687256  36854040.00  3242.586914   \n",
       "0    42  7.854778e+06  1278.437500   7427343.00  1332.427490   \n",
       "0    43  8.833249e+06  1301.182129   9125920.00  1314.168945   \n",
       "0    44  2.283788e+06   741.262939   4052287.75   886.166321   \n",
       "0    45  3.747320e+07  2263.742432  10155986.00  2148.200684   \n",
       "\n",
       "                                  training_history  \n",
       "0  <keras.callbacks.History object at 0x292d475b0>  \n",
       "0  <keras.callbacks.History object at 0x2d3bb4610>  \n",
       "0  <keras.callbacks.History object at 0x2d4554580>  \n",
       "0  <keras.callbacks.History object at 0x2eceaf430>  \n",
       "0  <keras.callbacks.History object at 0x290095dc0>  \n",
       "0  <keras.callbacks.History object at 0x306fc3f10>  \n",
       "0  <keras.callbacks.History object at 0x2d4add970>  \n",
       "0  <keras.callbacks.History object at 0x3214c6190>  \n",
       "0  <keras.callbacks.History object at 0x346592640>  \n",
       "0  <keras.callbacks.History object at 0x31496dac0>  \n",
       "0  <keras.callbacks.History object at 0x3808315e0>  \n",
       "0  <keras.callbacks.History object at 0x2e110b430>  \n",
       "0  <keras.callbacks.History object at 0x32d621df0>  \n",
       "0  <keras.callbacks.History object at 0x2d4b4fac0>  \n",
       "0  <keras.callbacks.History object at 0x398bcafd0>  \n",
       "0  <keras.callbacks.History object at 0x37669f850>  \n",
       "0  <keras.callbacks.History object at 0x290b28070>  \n",
       "0  <keras.callbacks.History object at 0x3f55c7550>  \n",
       "0  <keras.callbacks.History object at 0x3f5538a60>  \n",
       "0  <keras.callbacks.History object at 0x36f7aeeb0>  \n",
       "0  <keras.callbacks.History object at 0x36cf698b0>  \n",
       "0  <keras.callbacks.History object at 0x3f55c75e0>  \n",
       "0  <keras.callbacks.History object at 0x43a6b3790>  \n",
       "0  <keras.callbacks.History object at 0x3e9761df0>  \n",
       "0  <keras.callbacks.History object at 0x4118199d0>  \n",
       "0  <keras.callbacks.History object at 0x46b9b29d0>  \n",
       "0  <keras.callbacks.History object at 0x3f2ce8880>  \n",
       "0  <keras.callbacks.History object at 0x3f57c2190>  \n",
       "0  <keras.callbacks.History object at 0x4849cfeb0>  \n",
       "0  <keras.callbacks.History object at 0x3d7adfd60>  \n",
       "0  <keras.callbacks.History object at 0x4798c5df0>  \n",
       "0  <keras.callbacks.History object at 0x44feada90>  \n",
       "0  <keras.callbacks.History object at 0x4daea4790>  \n",
       "0  <keras.callbacks.History object at 0x440493f10>  \n",
       "0  <keras.callbacks.History object at 0x4a5f73ee0>  \n",
       "0  <keras.callbacks.History object at 0x50b29d760>  \n",
       "0  <keras.callbacks.History object at 0x3f5552610>  \n",
       "0  <keras.callbacks.History object at 0x46609b430>  \n",
       "0  <keras.callbacks.History object at 0x4e77340d0>  \n",
       "0  <keras.callbacks.History object at 0x5313c8b80>  \n",
       "0  <keras.callbacks.History object at 0x4465e9ca0>  \n",
       "0  <keras.callbacks.History object at 0x4f2fc85b0>  \n",
       "0  <keras.callbacks.History object at 0x5728d3c40>  \n",
       "0  <keras.callbacks.History object at 0x521c676d0>  \n",
       "0  <keras.callbacks.History object at 0x4f0be3610>  "
      ]
     },
     "execution_count": 8,
     "metadata": {},
     "output_type": "execute_result"
    }
   ],
   "source": [
    "df_fine"
   ]
  },
  {
   "cell_type": "code",
   "execution_count": 7,
   "metadata": {},
   "outputs": [],
   "source": [
    "df_fine.to_csv(\"./data/performance/fl_result_2.csv\", index=False)"
   ]
  },
  {
   "cell_type": "code",
   "execution_count": 15,
   "metadata": {},
   "outputs": [
    {
     "ename": "NameError",
     "evalue": "name 'df_fine' is not defined",
     "output_type": "error",
     "traceback": [
      "\u001b[0;31m---------------------------------------------------------------------------\u001b[0m",
      "\u001b[0;31mNameError\u001b[0m                                 Traceback (most recent call last)",
      "Cell \u001b[0;32mIn [15], line 1\u001b[0m\n\u001b[0;32m----> 1\u001b[0m df_fine\n",
      "\u001b[0;31mNameError\u001b[0m: name 'df_fine' is not defined"
     ]
    }
   ],
   "source": [
    "df_fine"
   ]
  },
  {
   "cell_type": "code",
   "execution_count": null,
   "metadata": {},
   "outputs": [],
   "source": []
  }
 ],
 "metadata": {
  "kernelspec": {
   "display_name": "Python 3.9.13 ('assignment-5-tensor')",
   "language": "python",
   "name": "python3"
  },
  "language_info": {
   "codemirror_mode": {
    "name": "ipython",
    "version": 3
   },
   "file_extension": ".py",
   "mimetype": "text/x-python",
   "name": "python",
   "nbconvert_exporter": "python",
   "pygments_lexer": "ipython3",
   "version": "3.9.13"
  },
  "orig_nbformat": 4,
  "vscode": {
   "interpreter": {
    "hash": "5f7b906d99b2ec91f843337fb9b0616c07f4c02a7a501f2516fb446e3b496cbd"
   }
  }
 },
 "nbformat": 4,
 "nbformat_minor": 2
}
