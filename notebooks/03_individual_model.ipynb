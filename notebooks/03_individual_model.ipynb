{
 "cells": [
  {
   "cell_type": "code",
   "execution_count": 4,
   "metadata": {},
   "outputs": [
    {
     "name": "stdout",
     "output_type": "stream",
     "text": [
      "/Users/darrenlee/Desktop/portfolio/Data-science/Federated-learning\n",
      "README.md  conda.yml  \u001b[1m\u001b[36mdata\u001b[m\u001b[m/      \u001b[1m\u001b[36mmodels\u001b[m\u001b[m/    \u001b[1m\u001b[36mnotebooks\u001b[m\u001b[m/ \u001b[1m\u001b[36msrc\u001b[m\u001b[m/\n"
     ]
    }
   ],
   "source": [
    "%cd ..\n",
    "%ls"
   ]
  },
  {
   "cell_type": "code",
   "execution_count": 23,
   "metadata": {},
   "outputs": [
    {
     "name": "stdout",
     "output_type": "stream",
     "text": [
      "The autoreload extension is already loaded. To reload it, use:\n",
      "  %reload_ext autoreload\n"
     ]
    }
   ],
   "source": [
    "%load_ext autoreload\n",
    "%autoreload 2"
   ]
  },
  {
   "cell_type": "code",
   "execution_count": 24,
   "metadata": {},
   "outputs": [],
   "source": [
    "from src.data import load_data\n",
    "from src.model import Model\n",
    "import os\n",
    "import pandas as pd\n",
    "\n",
    "import matplotlib.pyplot as plt\n",
    "import seaborn as sns\n",
    "\n",
    "import tensorflow as tf"
   ]
  },
  {
   "cell_type": "code",
   "execution_count": 7,
   "metadata": {},
   "outputs": [
    {
     "name": "stdout",
     "output_type": "stream",
     "text": [
      "README.md  conda.yml  \u001b[1m\u001b[36mdata\u001b[m\u001b[m/      \u001b[1m\u001b[36mmodels\u001b[m\u001b[m/    \u001b[1m\u001b[36mnotebooks\u001b[m\u001b[m/ \u001b[1m\u001b[36msrc\u001b[m\u001b[m/\n"
     ]
    }
   ],
   "source": [
    "%ls"
   ]
  },
  {
   "cell_type": "code",
   "execution_count": 12,
   "metadata": {},
   "outputs": [],
   "source": [
    "df = pd.DataFrame()\n",
    "failed = []"
   ]
  },
  {
   "cell_type": "code",
   "execution_count": 13,
   "metadata": {},
   "outputs": [
    {
     "name": "stdout",
     "output_type": "stream",
     "text": [
      "_______________________________________STORE_1______________________________________\n",
      "Epoch 1/100\n",
      "WARNING:tensorflow:Model was constructed with shape (None, None, 103) for input KerasTensor(type_spec=TensorSpec(shape=(None, None, 103), dtype=tf.float32, name='dense_360_input'), name='dense_360_input', description=\"created by layer 'dense_360_input'\"), but it was called on an input with incompatible shape (None, 103).\n",
      "WARNING:tensorflow:Model was constructed with shape (None, None, 103) for input KerasTensor(type_spec=TensorSpec(shape=(None, None, 103), dtype=tf.float32, name='dense_360_input'), name='dense_360_input', description=\"created by layer 'dense_360_input'\"), but it was called on an input with incompatible shape (None, 103).\n"
     ]
    },
    {
     "name": "stderr",
     "output_type": "stream",
     "text": [
      "2022-12-17 13:21:47.153390: I tensorflow/core/grappler/optimizers/custom_graph_optimizer_registry.cc:114] Plugin optimizer for device_type GPU is enabled.\n"
     ]
    },
    {
     "name": "stdout",
     "output_type": "stream",
     "text": [
      "262/262 [==============================] - ETA: 0s - loss: 9754.5918 - mean_squared_error: 368695744.0000 - mean_absolute_error: 9754.5918WARNING:tensorflow:Model was constructed with shape (None, None, 103) for input KerasTensor(type_spec=TensorSpec(shape=(None, None, 103), dtype=tf.float32, name='dense_360_input'), name='dense_360_input', description=\"created by layer 'dense_360_input'\"), but it was called on an input with incompatible shape (None, 103).\n"
     ]
    },
    {
     "name": "stderr",
     "output_type": "stream",
     "text": [
      "2022-12-17 13:21:55.533020: I tensorflow/core/grappler/optimizers/custom_graph_optimizer_registry.cc:114] Plugin optimizer for device_type GPU is enabled.\n"
     ]
    },
    {
     "name": "stdout",
     "output_type": "stream",
     "text": [
      "262/262 [==============================] - 10s 25ms/step - loss: 9754.5918 - mean_squared_error: 368695744.0000 - mean_absolute_error: 9754.5918 - val_loss: 6286.9800 - val_mean_squared_error: 109616984.0000 - val_mean_absolute_error: 6286.9800\n",
      "Epoch 2/100\n",
      "262/262 [==============================] - 5s 17ms/step - loss: 5233.0664 - mean_squared_error: 93870736.0000 - mean_absolute_error: 5233.0664 - val_loss: 8851.4600 - val_mean_squared_error: 181539680.0000 - val_mean_absolute_error: 8851.4600\n",
      "Epoch 3/100\n",
      "262/262 [==============================] - 4s 17ms/step - loss: 4738.4775 - mean_squared_error: 83723416.0000 - mean_absolute_error: 4738.4775 - val_loss: 3749.8286 - val_mean_squared_error: 41768320.0000 - val_mean_absolute_error: 3749.8286\n",
      "Epoch 4/100\n",
      "262/262 [==============================] - 4s 17ms/step - loss: 4489.2427 - mean_squared_error: 76076504.0000 - mean_absolute_error: 4489.2427 - val_loss: 2792.8655 - val_mean_squared_error: 23699866.0000 - val_mean_absolute_error: 2792.8655\n",
      "Epoch 5/100\n",
      "262/262 [==============================] - 4s 17ms/step - loss: 4231.6133 - mean_squared_error: 70921088.0000 - mean_absolute_error: 4231.6133 - val_loss: 5408.2007 - val_mean_squared_error: 77853736.0000 - val_mean_absolute_error: 5408.2007\n",
      "Epoch 6/100\n",
      "262/262 [==============================] - 4s 17ms/step - loss: 4077.2480 - mean_squared_error: 66498372.0000 - mean_absolute_error: 4077.2480 - val_loss: 3967.5222 - val_mean_squared_error: 47946244.0000 - val_mean_absolute_error: 3967.5222\n",
      "Epoch 7/100\n",
      "262/262 [==============================] - 4s 17ms/step - loss: 3880.8806 - mean_squared_error: 61198380.0000 - mean_absolute_error: 3880.8806 - val_loss: 2904.0959 - val_mean_squared_error: 24081870.0000 - val_mean_absolute_error: 2904.0959\n",
      "Epoch 8/100\n",
      "262/262 [==============================] - 4s 17ms/step - loss: 3787.1599 - mean_squared_error: 59302000.0000 - mean_absolute_error: 3787.1599 - val_loss: 2867.6311 - val_mean_squared_error: 21506594.0000 - val_mean_absolute_error: 2867.6311\n",
      "84/84 [==============================] - 1s 10ms/step - loss: 3384.5420 - mean_squared_error: 54257960.0000 - mean_absolute_error: 3384.5420\n",
      "10/10 [==============================] - 0s 33ms/step - loss: 3014.6716 - mean_squared_error: 24391380.0000 - mean_absolute_error: 3014.6716\n",
      "_______________________________________STORE_2______________________________________\n",
      "Epoch 1/100\n",
      "WARNING:tensorflow:Model was constructed with shape (None, None, 103) for input KerasTensor(type_spec=TensorSpec(shape=(None, None, 103), dtype=tf.float32, name='dense_368_input'), name='dense_368_input', description=\"created by layer 'dense_368_input'\"), but it was called on an input with incompatible shape (None, 103).\n",
      "WARNING:tensorflow:Model was constructed with shape (None, None, 103) for input KerasTensor(type_spec=TensorSpec(shape=(None, None, 103), dtype=tf.float32, name='dense_368_input'), name='dense_368_input', description=\"created by layer 'dense_368_input'\"), but it was called on an input with incompatible shape (None, 103).\n"
     ]
    },
    {
     "name": "stderr",
     "output_type": "stream",
     "text": [
      "2022-12-17 13:22:29.360706: I tensorflow/core/grappler/optimizers/custom_graph_optimizer_registry.cc:114] Plugin optimizer for device_type GPU is enabled.\n"
     ]
    },
    {
     "name": "stdout",
     "output_type": "stream",
     "text": [
      "262/262 [==============================] - ETA: 0s - loss: 12141.5059 - mean_squared_error: 585319616.0000 - mean_absolute_error: 12141.5059WARNING:tensorflow:Model was constructed with shape (None, None, 103) for input KerasTensor(type_spec=TensorSpec(shape=(None, None, 103), dtype=tf.float32, name='dense_368_input'), name='dense_368_input', description=\"created by layer 'dense_368_input'\"), but it was called on an input with incompatible shape (None, 103).\n"
     ]
    },
    {
     "name": "stderr",
     "output_type": "stream",
     "text": [
      "2022-12-17 13:22:37.557403: I tensorflow/core/grappler/optimizers/custom_graph_optimizer_registry.cc:114] Plugin optimizer for device_type GPU is enabled.\n"
     ]
    },
    {
     "name": "stdout",
     "output_type": "stream",
     "text": [
      "262/262 [==============================] - 9s 25ms/step - loss: 12141.5059 - mean_squared_error: 585319616.0000 - mean_absolute_error: 12141.5059 - val_loss: 6422.1074 - val_mean_squared_error: 107436064.0000 - val_mean_absolute_error: 6422.1074\n",
      "Epoch 2/100\n",
      "262/262 [==============================] - 5s 17ms/step - loss: 5801.0933 - mean_squared_error: 135589376.0000 - mean_absolute_error: 5801.0933 - val_loss: 4251.7988 - val_mean_squared_error: 60743156.0000 - val_mean_absolute_error: 4251.7988\n",
      "Epoch 3/100\n",
      "262/262 [==============================] - 4s 17ms/step - loss: 5558.0391 - mean_squared_error: 128255544.0000 - mean_absolute_error: 5558.0391 - val_loss: 4424.7358 - val_mean_squared_error: 66337788.0000 - val_mean_absolute_error: 4424.7358\n",
      "Epoch 4/100\n",
      "262/262 [==============================] - 5s 19ms/step - loss: 5239.2769 - mean_squared_error: 115520344.0000 - mean_absolute_error: 5239.2769 - val_loss: 5290.1533 - val_mean_squared_error: 70396536.0000 - val_mean_absolute_error: 5290.1533\n",
      "Epoch 5/100\n",
      "262/262 [==============================] - 5s 18ms/step - loss: 5071.4180 - mean_squared_error: 118079672.0000 - mean_absolute_error: 5071.4180 - val_loss: 3892.9985 - val_mean_squared_error: 43052340.0000 - val_mean_absolute_error: 3892.9985\n",
      "Epoch 6/100\n",
      "262/262 [==============================] - 5s 17ms/step - loss: 4886.6006 - mean_squared_error: 113015984.0000 - mean_absolute_error: 4886.6006 - val_loss: 3749.9468 - val_mean_squared_error: 41497076.0000 - val_mean_absolute_error: 3749.9468\n",
      "Epoch 7/100\n",
      "262/262 [==============================] - 4s 17ms/step - loss: 4757.9497 - mean_squared_error: 107492192.0000 - mean_absolute_error: 4757.9497 - val_loss: 9987.8896 - val_mean_squared_error: 255055408.0000 - val_mean_absolute_error: 9987.8896\n",
      "Epoch 8/100\n",
      "262/262 [==============================] - 5s 18ms/step - loss: 4657.6592 - mean_squared_error: 103256848.0000 - mean_absolute_error: 4657.6592 - val_loss: 3886.8149 - val_mean_squared_error: 42561556.0000 - val_mean_absolute_error: 3886.8149\n",
      "Epoch 9/100\n",
      "262/262 [==============================] - 4s 17ms/step - loss: 4612.9497 - mean_squared_error: 103315296.0000 - mean_absolute_error: 4612.9497 - val_loss: 6123.2490 - val_mean_squared_error: 119204512.0000 - val_mean_absolute_error: 6123.2490\n",
      "Epoch 10/100\n",
      "262/262 [==============================] - 4s 16ms/step - loss: 4595.5229 - mean_squared_error: 106356664.0000 - mean_absolute_error: 4595.5229 - val_loss: 7451.3721 - val_mean_squared_error: 142787536.0000 - val_mean_absolute_error: 7451.3721\n",
      "84/84 [==============================] - 1s 10ms/step - loss: 3868.5032 - mean_squared_error: 84635832.0000 - mean_absolute_error: 3868.5034\n",
      "10/10 [==============================] - 0s 24ms/step - loss: 3288.6562 - mean_squared_error: 33393176.0000 - mean_absolute_error: 3288.6562\n",
      "_______________________________________STORE_3______________________________________\n",
      "Epoch 1/100\n",
      "WARNING:tensorflow:Model was constructed with shape (None, None, 103) for input KerasTensor(type_spec=TensorSpec(shape=(None, None, 103), dtype=tf.float32, name='dense_376_input'), name='dense_376_input', description=\"created by layer 'dense_376_input'\"), but it was called on an input with incompatible shape (None, 103).\n",
      "WARNING:tensorflow:Model was constructed with shape (None, None, 103) for input KerasTensor(type_spec=TensorSpec(shape=(None, None, 103), dtype=tf.float32, name='dense_376_input'), name='dense_376_input', description=\"created by layer 'dense_376_input'\"), but it was called on an input with incompatible shape (None, 103).\n"
     ]
    },
    {
     "name": "stderr",
     "output_type": "stream",
     "text": [
      "2022-12-17 13:23:21.419881: I tensorflow/core/grappler/optimizers/custom_graph_optimizer_registry.cc:114] Plugin optimizer for device_type GPU is enabled.\n"
     ]
    },
    {
     "name": "stdout",
     "output_type": "stream",
     "text": [
      "232/232 [==============================] - ETA: 0s - loss: 3815.7710 - mean_squared_error: 185348352.0000 - mean_absolute_error: 3815.7710WARNING:tensorflow:Model was constructed with shape (None, None, 103) for input KerasTensor(type_spec=TensorSpec(shape=(None, None, 103), dtype=tf.float32, name='dense_376_input'), name='dense_376_input', description=\"created by layer 'dense_376_input'\"), but it was called on an input with incompatible shape (None, 103).\n"
     ]
    },
    {
     "name": "stderr",
     "output_type": "stream",
     "text": [
      "2022-12-17 13:23:29.002253: I tensorflow/core/grappler/optimizers/custom_graph_optimizer_registry.cc:114] Plugin optimizer for device_type GPU is enabled.\n"
     ]
    },
    {
     "name": "stdout",
     "output_type": "stream",
     "text": [
      "232/232 [==============================] - 9s 26ms/step - loss: 3815.7710 - mean_squared_error: 185348352.0000 - mean_absolute_error: 3815.7710 - val_loss: 2355.3298 - val_mean_squared_error: 74018752.0000 - val_mean_absolute_error: 2355.3298\n",
      "Epoch 2/100\n",
      "232/232 [==============================] - 4s 17ms/step - loss: 2181.9749 - mean_squared_error: 56583064.0000 - mean_absolute_error: 2181.9749 - val_loss: 2111.3235 - val_mean_squared_error: 15674595.0000 - val_mean_absolute_error: 2111.3235\n",
      "Epoch 3/100\n",
      "232/232 [==============================] - 4s 17ms/step - loss: 1617.7914 - mean_squared_error: 17605684.0000 - mean_absolute_error: 1617.7914 - val_loss: 1369.1122 - val_mean_squared_error: 12501390.0000 - val_mean_absolute_error: 1369.1122\n",
      "Epoch 4/100\n",
      "232/232 [==============================] - 4s 18ms/step - loss: 1532.5640 - mean_squared_error: 17352958.0000 - mean_absolute_error: 1532.5640 - val_loss: 1428.3302 - val_mean_squared_error: 8138858.0000 - val_mean_absolute_error: 1428.3302\n",
      "Epoch 5/100\n",
      "232/232 [==============================] - 4s 18ms/step - loss: 1453.2892 - mean_squared_error: 16487715.0000 - mean_absolute_error: 1453.2892 - val_loss: 2635.9897 - val_mean_squared_error: 71655752.0000 - val_mean_absolute_error: 2635.9897\n",
      "Epoch 6/100\n",
      "232/232 [==============================] - 4s 17ms/step - loss: 1426.1161 - mean_squared_error: 16499515.0000 - mean_absolute_error: 1426.1161 - val_loss: 1325.4565 - val_mean_squared_error: 7758556.0000 - val_mean_absolute_error: 1325.4565\n",
      "Epoch 7/100\n",
      "232/232 [==============================] - 4s 18ms/step - loss: 1364.5396 - mean_squared_error: 15273936.0000 - mean_absolute_error: 1364.5396 - val_loss: 1026.8420 - val_mean_squared_error: 5448960.0000 - val_mean_absolute_error: 1026.8420\n",
      "Epoch 8/100\n",
      "232/232 [==============================] - 4s 17ms/step - loss: 1339.5668 - mean_squared_error: 14899845.0000 - mean_absolute_error: 1339.5668 - val_loss: 1520.5527 - val_mean_squared_error: 11693607.0000 - val_mean_absolute_error: 1520.5527\n",
      "Epoch 9/100\n",
      "232/232 [==============================] - 4s 17ms/step - loss: 1326.5370 - mean_squared_error: 16047897.0000 - mean_absolute_error: 1326.5370 - val_loss: 1152.7039 - val_mean_squared_error: 4830650.0000 - val_mean_absolute_error: 1152.7039\n",
      "Epoch 10/100\n",
      "232/232 [==============================] - 4s 17ms/step - loss: 1293.4321 - mean_squared_error: 14194181.0000 - mean_absolute_error: 1293.4321 - val_loss: 2547.1455 - val_mean_squared_error: 40898392.0000 - val_mean_absolute_error: 2547.1455\n",
      "Epoch 11/100\n",
      "232/232 [==============================] - 4s 16ms/step - loss: 1247.1489 - mean_squared_error: 13032600.0000 - mean_absolute_error: 1247.1489 - val_loss: 1250.4628 - val_mean_squared_error: 5636924.0000 - val_mean_absolute_error: 1250.4628\n",
      "74/74 [==============================] - 1s 11ms/step - loss: 1100.7632 - mean_squared_error: 8630816.0000 - mean_absolute_error: 1100.7632\n",
      "9/9 [==============================] - 0s 26ms/step - loss: 1148.2443 - mean_squared_error: 4478777.0000 - mean_absolute_error: 1148.2443\n",
      "_______________________________________STORE_4______________________________________\n",
      "Epoch 1/100\n",
      "WARNING:tensorflow:Model was constructed with shape (None, None, 103) for input KerasTensor(type_spec=TensorSpec(shape=(None, None, 103), dtype=tf.float32, name='dense_384_input'), name='dense_384_input', description=\"created by layer 'dense_384_input'\"), but it was called on an input with incompatible shape (None, 103).\n",
      "WARNING:tensorflow:Model was constructed with shape (None, None, 103) for input KerasTensor(type_spec=TensorSpec(shape=(None, None, 103), dtype=tf.float32, name='dense_384_input'), name='dense_384_input', description=\"created by layer 'dense_384_input'\"), but it was called on an input with incompatible shape (None, 103).\n"
     ]
    },
    {
     "name": "stderr",
     "output_type": "stream",
     "text": [
      "2022-12-17 13:24:11.140591: I tensorflow/core/grappler/optimizers/custom_graph_optimizer_registry.cc:114] Plugin optimizer for device_type GPU is enabled.\n"
     ]
    },
    {
     "name": "stdout",
     "output_type": "stream",
     "text": [
      "263/263 [==============================] - ETA: 0s - loss: 13233.1875 - mean_squared_error: 639121088.0000 - mean_absolute_error: 13233.1875WARNING:tensorflow:Model was constructed with shape (None, None, 103) for input KerasTensor(type_spec=TensorSpec(shape=(None, None, 103), dtype=tf.float32, name='dense_384_input'), name='dense_384_input', description=\"created by layer 'dense_384_input'\"), but it was called on an input with incompatible shape (None, 103).\n"
     ]
    },
    {
     "name": "stderr",
     "output_type": "stream",
     "text": [
      "2022-12-17 13:24:19.540949: I tensorflow/core/grappler/optimizers/custom_graph_optimizer_registry.cc:114] Plugin optimizer for device_type GPU is enabled.\n"
     ]
    },
    {
     "name": "stdout",
     "output_type": "stream",
     "text": [
      "263/263 [==============================] - 10s 26ms/step - loss: 13233.1875 - mean_squared_error: 639121088.0000 - mean_absolute_error: 13233.1875 - val_loss: 4479.2944 - val_mean_squared_error: 51686852.0000 - val_mean_absolute_error: 4479.2944\n",
      "Epoch 2/100\n",
      "263/263 [==============================] - 5s 18ms/step - loss: 6181.0850 - mean_squared_error: 161111456.0000 - mean_absolute_error: 6181.0850 - val_loss: 4031.8704 - val_mean_squared_error: 44560844.0000 - val_mean_absolute_error: 4031.8704\n",
      "Epoch 3/100\n",
      "263/263 [==============================] - 5s 18ms/step - loss: 5722.0220 - mean_squared_error: 150945968.0000 - mean_absolute_error: 5722.0220 - val_loss: 3854.5286 - val_mean_squared_error: 39997828.0000 - val_mean_absolute_error: 3854.5286\n",
      "Epoch 4/100\n",
      "263/263 [==============================] - 5s 18ms/step - loss: 5556.1689 - mean_squared_error: 150389360.0000 - mean_absolute_error: 5556.1689 - val_loss: 4799.4526 - val_mean_squared_error: 60800232.0000 - val_mean_absolute_error: 4799.4526\n",
      "Epoch 5/100\n",
      "263/263 [==============================] - 5s 17ms/step - loss: 5372.2061 - mean_squared_error: 146158000.0000 - mean_absolute_error: 5372.2061 - val_loss: 3611.7842 - val_mean_squared_error: 34656632.0000 - val_mean_absolute_error: 3611.7842\n",
      "Epoch 6/100\n",
      "263/263 [==============================] - 4s 17ms/step - loss: 5178.9131 - mean_squared_error: 142923424.0000 - mean_absolute_error: 5178.9131 - val_loss: 3815.9617 - val_mean_squared_error: 40776988.0000 - val_mean_absolute_error: 3815.9617\n",
      "Epoch 7/100\n",
      "263/263 [==============================] - 5s 17ms/step - loss: 5054.8755 - mean_squared_error: 133724368.0000 - mean_absolute_error: 5054.8755 - val_loss: 3602.5757 - val_mean_squared_error: 40468548.0000 - val_mean_absolute_error: 3602.5757\n",
      "Epoch 8/100\n",
      "263/263 [==============================] - 5s 17ms/step - loss: 5021.1050 - mean_squared_error: 135821248.0000 - mean_absolute_error: 5021.1050 - val_loss: 3754.2214 - val_mean_squared_error: 38656196.0000 - val_mean_absolute_error: 3754.2214\n",
      "Epoch 9/100\n",
      "263/263 [==============================] - 5s 17ms/step - loss: 4873.4736 - mean_squared_error: 128147080.0000 - mean_absolute_error: 4873.4736 - val_loss: 3365.9631 - val_mean_squared_error: 30072838.0000 - val_mean_absolute_error: 3365.9631\n",
      "Epoch 10/100\n",
      "263/263 [==============================] - 5s 18ms/step - loss: 4849.0669 - mean_squared_error: 130208360.0000 - mean_absolute_error: 4849.0669 - val_loss: 8046.4609 - val_mean_squared_error: 157251328.0000 - val_mean_absolute_error: 8046.4609\n",
      "Epoch 11/100\n",
      "263/263 [==============================] - 5s 17ms/step - loss: 4756.1934 - mean_squared_error: 125894400.0000 - mean_absolute_error: 4756.1934 - val_loss: 3491.9861 - val_mean_squared_error: 32182430.0000 - val_mean_absolute_error: 3491.9861\n",
      "Epoch 12/100\n",
      "263/263 [==============================] - 4s 17ms/step - loss: 4594.6143 - mean_squared_error: 122547576.0000 - mean_absolute_error: 4594.6143 - val_loss: 5966.3267 - val_mean_squared_error: 67818456.0000 - val_mean_absolute_error: 5966.3267\n",
      "Epoch 13/100\n",
      "263/263 [==============================] - 4s 17ms/step - loss: 4511.6177 - mean_squared_error: 118696640.0000 - mean_absolute_error: 4511.6177 - val_loss: 6011.5605 - val_mean_squared_error: 83522520.0000 - val_mean_absolute_error: 6011.5605\n",
      "84/84 [==============================] - 1s 11ms/step - loss: 3820.5212 - mean_squared_error: 106001096.0000 - mean_absolute_error: 3820.5215\n",
      "10/10 [==============================] - 0s 35ms/step - loss: 4020.9944 - mean_squared_error: 45023840.0000 - mean_absolute_error: 4020.9944\n",
      "_______________________________________STORE_5______________________________________\n",
      "Epoch 1/100\n",
      "WARNING:tensorflow:Model was constructed with shape (None, None, 103) for input KerasTensor(type_spec=TensorSpec(shape=(None, None, 103), dtype=tf.float32, name='dense_392_input'), name='dense_392_input', description=\"created by layer 'dense_392_input'\"), but it was called on an input with incompatible shape (None, 103).\n",
      "WARNING:tensorflow:Model was constructed with shape (None, None, 103) for input KerasTensor(type_spec=TensorSpec(shape=(None, None, 103), dtype=tf.float32, name='dense_392_input'), name='dense_392_input', description=\"created by layer 'dense_392_input'\"), but it was called on an input with incompatible shape (None, 103).\n"
     ]
    },
    {
     "name": "stderr",
     "output_type": "stream",
     "text": [
      "2022-12-17 13:25:17.137983: I tensorflow/core/grappler/optimizers/custom_graph_optimizer_registry.cc:114] Plugin optimizer for device_type GPU is enabled.\n"
     ]
    },
    {
     "name": "stdout",
     "output_type": "stream",
     "text": [
      "231/231 [==============================] - ETA: 0s - loss: 2666.9512 - mean_squared_error: 45081308.0000 - mean_absolute_error: 2666.9512WARNING:tensorflow:Model was constructed with shape (None, None, 103) for input KerasTensor(type_spec=TensorSpec(shape=(None, None, 103), dtype=tf.float32, name='dense_392_input'), name='dense_392_input', description=\"created by layer 'dense_392_input'\"), but it was called on an input with incompatible shape (None, 103).\n"
     ]
    },
    {
     "name": "stderr",
     "output_type": "stream",
     "text": [
      "2022-12-17 13:25:24.725020: I tensorflow/core/grappler/optimizers/custom_graph_optimizer_registry.cc:114] Plugin optimizer for device_type GPU is enabled.\n"
     ]
    },
    {
     "name": "stdout",
     "output_type": "stream",
     "text": [
      "231/231 [==============================] - 11s 37ms/step - loss: 2666.9512 - mean_squared_error: 45081308.0000 - mean_absolute_error: 2666.9512 - val_loss: 4804.9375 - val_mean_squared_error: 36952332.0000 - val_mean_absolute_error: 4804.9375\n",
      "Epoch 2/100\n",
      "231/231 [==============================] - 24s 103ms/step - loss: 1464.7744 - mean_squared_error: 11525469.0000 - mean_absolute_error: 1464.7744 - val_loss: 1639.1842 - val_mean_squared_error: 12224689.0000 - val_mean_absolute_error: 1639.1842\n",
      "Epoch 3/100\n",
      "231/231 [==============================] - 6s 28ms/step - loss: 1283.2249 - mean_squared_error: 8881568.0000 - mean_absolute_error: 1283.2249 - val_loss: 728.4148 - val_mean_squared_error: 1917127.5000 - val_mean_absolute_error: 728.4148\n",
      "Epoch 4/100\n",
      "231/231 [==============================] - 7s 28ms/step - loss: 1207.5743 - mean_squared_error: 7866258.5000 - mean_absolute_error: 1207.5743 - val_loss: 1877.8105 - val_mean_squared_error: 12289685.0000 - val_mean_absolute_error: 1877.8105\n",
      "Epoch 5/100\n",
      "231/231 [==============================] - 16s 71ms/step - loss: 1144.7772 - mean_squared_error: 7551253.0000 - mean_absolute_error: 1144.7772 - val_loss: 1533.2085 - val_mean_squared_error: 9999672.0000 - val_mean_absolute_error: 1533.2085\n",
      "Epoch 6/100\n",
      "231/231 [==============================] - 20s 87ms/step - loss: 1097.8988 - mean_squared_error: 7302672.5000 - mean_absolute_error: 1097.8988 - val_loss: 824.4396 - val_mean_squared_error: 3034677.0000 - val_mean_absolute_error: 824.4396\n",
      "Epoch 7/100\n",
      "231/231 [==============================] - 14s 60ms/step - loss: 1044.9550 - mean_squared_error: 6642170.0000 - mean_absolute_error: 1044.9550 - val_loss: 1029.7920 - val_mean_squared_error: 3176090.5000 - val_mean_absolute_error: 1029.7920\n",
      "74/74 [==============================] - 3s 33ms/step - loss: 1184.5814 - mean_squared_error: 7252623.5000 - mean_absolute_error: 1184.5814\n",
      "9/9 [==============================] - 0s 52ms/step - loss: 854.6564 - mean_squared_error: 2459125.7500 - mean_absolute_error: 854.6564\n",
      "_______________________________________STORE_6______________________________________\n",
      "Epoch 1/100\n",
      "WARNING:tensorflow:Model was constructed with shape (None, None, 103) for input KerasTensor(type_spec=TensorSpec(shape=(None, None, 103), dtype=tf.float32, name='dense_400_input'), name='dense_400_input', description=\"created by layer 'dense_400_input'\"), but it was called on an input with incompatible shape (None, 103).\n",
      "WARNING:tensorflow:Model was constructed with shape (None, None, 103) for input KerasTensor(type_spec=TensorSpec(shape=(None, None, 103), dtype=tf.float32, name='dense_400_input'), name='dense_400_input', description=\"created by layer 'dense_400_input'\"), but it was called on an input with incompatible shape (None, 103).\n"
     ]
    },
    {
     "name": "stderr",
     "output_type": "stream",
     "text": [
      "2022-12-17 13:27:00.484821: I tensorflow/core/grappler/optimizers/custom_graph_optimizer_registry.cc:114] Plugin optimizer for device_type GPU is enabled.\n"
     ]
    },
    {
     "name": "stdout",
     "output_type": "stream",
     "text": [
      "261/261 [==============================] - ETA: 0s - loss: 9627.1699 - mean_squared_error: 314105824.0000 - mean_absolute_error: 9627.1699WARNING:tensorflow:Model was constructed with shape (None, None, 103) for input KerasTensor(type_spec=TensorSpec(shape=(None, None, 103), dtype=tf.float32, name='dense_400_input'), name='dense_400_input', description=\"created by layer 'dense_400_input'\"), but it was called on an input with incompatible shape (None, 103).\n"
     ]
    },
    {
     "name": "stderr",
     "output_type": "stream",
     "text": [
      "2022-12-17 13:27:12.035178: I tensorflow/core/grappler/optimizers/custom_graph_optimizer_registry.cc:114] Plugin optimizer for device_type GPU is enabled.\n"
     ]
    },
    {
     "name": "stdout",
     "output_type": "stream",
     "text": [
      "261/261 [==============================] - 15s 38ms/step - loss: 9627.1699 - mean_squared_error: 314105824.0000 - mean_absolute_error: 9627.1699 - val_loss: 3730.8398 - val_mean_squared_error: 33243610.0000 - val_mean_absolute_error: 3730.8398\n",
      "Epoch 2/100\n",
      "261/261 [==============================] - 30s 114ms/step - loss: 5186.5649 - mean_squared_error: 105488840.0000 - mean_absolute_error: 5186.5649 - val_loss: 3869.0579 - val_mean_squared_error: 38470872.0000 - val_mean_absolute_error: 3869.0579\n",
      "Epoch 3/100\n",
      "261/261 [==============================] - 21s 80ms/step - loss: 4880.6567 - mean_squared_error: 96833528.0000 - mean_absolute_error: 4880.6567 - val_loss: 3621.8450 - val_mean_squared_error: 32629112.0000 - val_mean_absolute_error: 3621.8450\n",
      "Epoch 4/100\n",
      "261/261 [==============================] - 8s 29ms/step - loss: 4749.6929 - mean_squared_error: 96256680.0000 - mean_absolute_error: 4749.6929 - val_loss: 3104.8582 - val_mean_squared_error: 24317974.0000 - val_mean_absolute_error: 3104.8582\n",
      "Epoch 5/100\n",
      "261/261 [==============================] - 5s 20ms/step - loss: 4545.2344 - mean_squared_error: 92185120.0000 - mean_absolute_error: 4545.2344 - val_loss: 3450.0227 - val_mean_squared_error: 33463158.0000 - val_mean_absolute_error: 3450.0227\n",
      "Epoch 6/100\n",
      "261/261 [==============================] - 7s 26ms/step - loss: 4411.2051 - mean_squared_error: 88571264.0000 - mean_absolute_error: 4411.2051 - val_loss: 4392.9062 - val_mean_squared_error: 42876832.0000 - val_mean_absolute_error: 4392.9062\n",
      "Epoch 7/100\n",
      "261/261 [==============================] - 21s 80ms/step - loss: 4321.3359 - mean_squared_error: 86746480.0000 - mean_absolute_error: 4321.3359 - val_loss: 4159.0093 - val_mean_squared_error: 40131984.0000 - val_mean_absolute_error: 4159.0093\n",
      "Epoch 8/100\n",
      "261/261 [==============================] - 20s 77ms/step - loss: 4214.9141 - mean_squared_error: 86529648.0000 - mean_absolute_error: 4214.9141 - val_loss: 6840.4707 - val_mean_squared_error: 98496128.0000 - val_mean_absolute_error: 6840.4707\n",
      "84/84 [==============================] - 3s 33ms/step - loss: 5484.5864 - mean_squared_error: 98282712.0000 - mean_absolute_error: 5484.5869\n",
      "10/10 [==============================] - 0s 49ms/step - loss: 3464.0776 - mean_squared_error: 34587156.0000 - mean_absolute_error: 3464.0776\n",
      "_______________________________________STORE_7______________________________________\n",
      "Epoch 1/100\n",
      "WARNING:tensorflow:Model was constructed with shape (None, None, 103) for input KerasTensor(type_spec=TensorSpec(shape=(None, None, 103), dtype=tf.float32, name='dense_408_input'), name='dense_408_input', description=\"created by layer 'dense_408_input'\"), but it was called on an input with incompatible shape (None, 103).\n",
      "WARNING:tensorflow:Model was constructed with shape (None, None, 103) for input KerasTensor(type_spec=TensorSpec(shape=(None, None, 103), dtype=tf.float32, name='dense_408_input'), name='dense_408_input', description=\"created by layer 'dense_408_input'\"), but it was called on an input with incompatible shape (None, 103).\n"
     ]
    },
    {
     "name": "stderr",
     "output_type": "stream",
     "text": [
      "2022-12-17 13:29:11.000688: I tensorflow/core/grappler/optimizers/custom_graph_optimizer_registry.cc:114] Plugin optimizer for device_type GPU is enabled.\n"
     ]
    },
    {
     "name": "stdout",
     "output_type": "stream",
     "text": [
      "250/250 [==============================] - ETA: 0s - loss: 4031.2878 - mean_squared_error: 62898212.0000 - mean_absolute_error: 4031.2878WARNING:tensorflow:Model was constructed with shape (None, None, 103) for input KerasTensor(type_spec=TensorSpec(shape=(None, None, 103), dtype=tf.float32, name='dense_408_input'), name='dense_408_input', description=\"created by layer 'dense_408_input'\"), but it was called on an input with incompatible shape (None, 103).\n"
     ]
    },
    {
     "name": "stderr",
     "output_type": "stream",
     "text": [
      "2022-12-17 13:29:19.792028: I tensorflow/core/grappler/optimizers/custom_graph_optimizer_registry.cc:114] Plugin optimizer for device_type GPU is enabled.\n"
     ]
    },
    {
     "name": "stdout",
     "output_type": "stream",
     "text": [
      "250/250 [==============================] - 11s 32ms/step - loss: 4031.2878 - mean_squared_error: 62898212.0000 - mean_absolute_error: 4031.2878 - val_loss: 4541.3896 - val_mean_squared_error: 56920012.0000 - val_mean_absolute_error: 4541.3896\n",
      "Epoch 2/100\n",
      "250/250 [==============================] - 12s 46ms/step - loss: 2462.9299 - mean_squared_error: 31469700.0000 - mean_absolute_error: 2462.9299 - val_loss: 4854.2578 - val_mean_squared_error: 72271848.0000 - val_mean_absolute_error: 4854.2578\n",
      "Epoch 3/100\n",
      "250/250 [==============================] - 24s 96ms/step - loss: 2292.4041 - mean_squared_error: 28427750.0000 - mean_absolute_error: 2292.4041 - val_loss: 2840.3906 - val_mean_squared_error: 29864030.0000 - val_mean_absolute_error: 2840.3906\n",
      "Epoch 4/100\n",
      "250/250 [==============================] - 15s 61ms/step - loss: 2132.0864 - mean_squared_error: 25443590.0000 - mean_absolute_error: 2132.0864 - val_loss: 2766.5601 - val_mean_squared_error: 33238254.0000 - val_mean_absolute_error: 2766.5601\n",
      "Epoch 5/100\n",
      "250/250 [==============================] - 9s 37ms/step - loss: 2016.4568 - mean_squared_error: 24415110.0000 - mean_absolute_error: 2016.4568 - val_loss: 6701.1699 - val_mean_squared_error: 76724920.0000 - val_mean_absolute_error: 6701.1699\n",
      "Epoch 6/100\n",
      "250/250 [==============================] - 6s 25ms/step - loss: 1941.9479 - mean_squared_error: 22715428.0000 - mean_absolute_error: 1941.9479 - val_loss: 2699.3750 - val_mean_squared_error: 28693946.0000 - val_mean_absolute_error: 2699.3750\n",
      "Epoch 7/100\n",
      "250/250 [==============================] - 22s 86ms/step - loss: 1873.6975 - mean_squared_error: 21543648.0000 - mean_absolute_error: 1873.6975 - val_loss: 2645.5020 - val_mean_squared_error: 30618148.0000 - val_mean_absolute_error: 2645.5020\n",
      "Epoch 8/100\n",
      "250/250 [==============================] - 21s 81ms/step - loss: 1811.3785 - mean_squared_error: 21105976.0000 - mean_absolute_error: 1811.3785 - val_loss: 2573.4565 - val_mean_squared_error: 30317556.0000 - val_mean_absolute_error: 2573.4565\n",
      "Epoch 9/100\n",
      "250/250 [==============================] - 7s 28ms/step - loss: 1749.9364 - mean_squared_error: 19442916.0000 - mean_absolute_error: 1749.9364 - val_loss: 5480.6460 - val_mean_squared_error: 62070872.0000 - val_mean_absolute_error: 5480.6460\n",
      "Epoch 10/100\n",
      "250/250 [==============================] - 6s 23ms/step - loss: 1718.7925 - mean_squared_error: 19388360.0000 - mean_absolute_error: 1718.7925 - val_loss: 3831.1877 - val_mean_squared_error: 63957040.0000 - val_mean_absolute_error: 3831.1877\n",
      "Epoch 11/100\n",
      "250/250 [==============================] - 22s 87ms/step - loss: 1679.4420 - mean_squared_error: 18733762.0000 - mean_absolute_error: 1679.4420 - val_loss: 3495.0378 - val_mean_squared_error: 53406640.0000 - val_mean_absolute_error: 3495.0378\n",
      "Epoch 12/100\n",
      "250/250 [==============================] - 20s 80ms/step - loss: 1633.1110 - mean_squared_error: 17717998.0000 - mean_absolute_error: 1633.1110 - val_loss: 10624.2070 - val_mean_squared_error: 524854304.0000 - val_mean_absolute_error: 10624.2070\n",
      "80/80 [==============================] - 3s 31ms/step - loss: 1712.3855 - mean_squared_error: 19840048.0000 - mean_absolute_error: 1712.3855\n",
      "9/9 [==============================] - 0s 47ms/step - loss: 1303.0676 - mean_squared_error: 5906901.0000 - mean_absolute_error: 1303.0677\n",
      "_______________________________________STORE_8______________________________________\n",
      "Epoch 1/100\n",
      "WARNING:tensorflow:Model was constructed with shape (None, None, 103) for input KerasTensor(type_spec=TensorSpec(shape=(None, None, 103), dtype=tf.float32, name='dense_416_input'), name='dense_416_input', description=\"created by layer 'dense_416_input'\"), but it was called on an input with incompatible shape (None, 103).\n",
      "WARNING:tensorflow:Model was constructed with shape (None, None, 103) for input KerasTensor(type_spec=TensorSpec(shape=(None, None, 103), dtype=tf.float32, name='dense_416_input'), name='dense_416_input', description=\"created by layer 'dense_416_input'\"), but it was called on an input with incompatible shape (None, 103).\n"
     ]
    },
    {
     "name": "stderr",
     "output_type": "stream",
     "text": [
      "2022-12-17 13:32:08.352961: I tensorflow/core/grappler/optimizers/custom_graph_optimizer_registry.cc:114] Plugin optimizer for device_type GPU is enabled.\n"
     ]
    },
    {
     "name": "stdout",
     "output_type": "stream",
     "text": [
      "253/253 [==============================] - ETA: 0s - loss: 5838.5244 - mean_squared_error: 115170488.0000 - mean_absolute_error: 5838.5244WARNING:tensorflow:Model was constructed with shape (None, None, 103) for input KerasTensor(type_spec=TensorSpec(shape=(None, None, 103), dtype=tf.float32, name='dense_416_input'), name='dense_416_input', description=\"created by layer 'dense_416_input'\"), but it was called on an input with incompatible shape (None, 103).\n"
     ]
    },
    {
     "name": "stderr",
     "output_type": "stream",
     "text": [
      "2022-12-17 13:32:28.476612: I tensorflow/core/grappler/optimizers/custom_graph_optimizer_registry.cc:114] Plugin optimizer for device_type GPU is enabled.\n"
     ]
    },
    {
     "name": "stdout",
     "output_type": "stream",
     "text": [
      "253/253 [==============================] - 29s 104ms/step - loss: 5838.5244 - mean_squared_error: 115170488.0000 - mean_absolute_error: 5838.5244 - val_loss: 2462.8987 - val_mean_squared_error: 14736893.0000 - val_mean_absolute_error: 2462.8987\n",
      "Epoch 2/100\n",
      "253/253 [==============================] - 21s 83ms/step - loss: 3310.3657 - mean_squared_error: 38993296.0000 - mean_absolute_error: 3310.3657 - val_loss: 2293.8604 - val_mean_squared_error: 16360635.0000 - val_mean_absolute_error: 2293.8604\n",
      "Epoch 3/100\n",
      "253/253 [==============================] - 8s 32ms/step - loss: 3045.1006 - mean_squared_error: 35520512.0000 - mean_absolute_error: 3045.1006 - val_loss: 1965.1494 - val_mean_squared_error: 14434958.0000 - val_mean_absolute_error: 1965.1494\n",
      "Epoch 4/100\n",
      "253/253 [==============================] - 6s 23ms/step - loss: 2923.7222 - mean_squared_error: 34137808.0000 - mean_absolute_error: 2923.7222 - val_loss: 2592.5952 - val_mean_squared_error: 23058960.0000 - val_mean_absolute_error: 2592.5952\n",
      "Epoch 5/100\n",
      "253/253 [==============================] - 5s 21ms/step - loss: 2781.1443 - mean_squared_error: 32379038.0000 - mean_absolute_error: 2781.1443 - val_loss: 1979.5593 - val_mean_squared_error: 13672307.0000 - val_mean_absolute_error: 1979.5593\n",
      "Epoch 6/100\n",
      "253/253 [==============================] - 5s 21ms/step - loss: 2637.2510 - mean_squared_error: 29371486.0000 - mean_absolute_error: 2637.2510 - val_loss: 3256.8423 - val_mean_squared_error: 29014750.0000 - val_mean_absolute_error: 3256.8423\n",
      "Epoch 7/100\n",
      "253/253 [==============================] - 5s 21ms/step - loss: 2608.1904 - mean_squared_error: 29531380.0000 - mean_absolute_error: 2608.1904 - val_loss: 4234.2837 - val_mean_squared_error: 46362228.0000 - val_mean_absolute_error: 4234.2837\n",
      "81/81 [==============================] - 1s 12ms/step - loss: 2161.3782 - mean_squared_error: 25430058.0000 - mean_absolute_error: 2161.3782\n",
      "10/10 [==============================] - 0s 38ms/step - loss: 1859.8235 - mean_squared_error: 10637168.0000 - mean_absolute_error: 1859.8235\n",
      "_______________________________________STORE_9______________________________________\n",
      "Epoch 1/100\n",
      "WARNING:tensorflow:Model was constructed with shape (None, None, 103) for input KerasTensor(type_spec=TensorSpec(shape=(None, None, 103), dtype=tf.float32, name='dense_424_input'), name='dense_424_input', description=\"created by layer 'dense_424_input'\"), but it was called on an input with incompatible shape (None, 103).\n",
      "WARNING:tensorflow:Model was constructed with shape (None, None, 103) for input KerasTensor(type_spec=TensorSpec(shape=(None, None, 103), dtype=tf.float32, name='dense_424_input'), name='dense_424_input', description=\"created by layer 'dense_424_input'\"), but it was called on an input with incompatible shape (None, 103).\n"
     ]
    },
    {
     "name": "stderr",
     "output_type": "stream",
     "text": [
      "2022-12-17 13:33:30.253825: I tensorflow/core/grappler/optimizers/custom_graph_optimizer_registry.cc:114] Plugin optimizer for device_type GPU is enabled.\n"
     ]
    },
    {
     "name": "stdout",
     "output_type": "stream",
     "text": [
      "226/226 [==============================] - ETA: 0s - loss: 4630.5469 - mean_squared_error: 106555712.0000 - mean_absolute_error: 4630.5469WARNING:tensorflow:Model was constructed with shape (None, None, 103) for input KerasTensor(type_spec=TensorSpec(shape=(None, None, 103), dtype=tf.float32, name='dense_424_input'), name='dense_424_input', description=\"created by layer 'dense_424_input'\"), but it was called on an input with incompatible shape (None, 103).\n"
     ]
    },
    {
     "name": "stderr",
     "output_type": "stream",
     "text": [
      "2022-12-17 13:33:50.059708: I tensorflow/core/grappler/optimizers/custom_graph_optimizer_registry.cc:114] Plugin optimizer for device_type GPU is enabled.\n"
     ]
    },
    {
     "name": "stdout",
     "output_type": "stream",
     "text": [
      "226/226 [==============================] - 28s 116ms/step - loss: 4630.5469 - mean_squared_error: 106555712.0000 - mean_absolute_error: 4630.5469 - val_loss: 5101.7759 - val_mean_squared_error: 42658084.0000 - val_mean_absolute_error: 5101.7759\n",
      "Epoch 2/100\n",
      "226/226 [==============================] - 22s 98ms/step - loss: 2596.7014 - mean_squared_error: 28366274.0000 - mean_absolute_error: 2596.7014 - val_loss: 4241.4590 - val_mean_squared_error: 51802540.0000 - val_mean_absolute_error: 4241.4590\n",
      "Epoch 3/100\n",
      "226/226 [==============================] - 11s 49ms/step - loss: 2277.1777 - mean_squared_error: 22148904.0000 - mean_absolute_error: 2277.1777 - val_loss: 1453.8818 - val_mean_squared_error: 7635906.5000 - val_mean_absolute_error: 1453.8818\n",
      "Epoch 4/100\n",
      "226/226 [==============================] - 6s 25ms/step - loss: 2195.3750 - mean_squared_error: 22434150.0000 - mean_absolute_error: 2195.3750 - val_loss: 1426.3876 - val_mean_squared_error: 7680327.5000 - val_mean_absolute_error: 1426.3876\n",
      "Epoch 5/100\n",
      "226/226 [==============================] - 11s 49ms/step - loss: 2045.4830 - mean_squared_error: 20767296.0000 - mean_absolute_error: 2045.4830 - val_loss: 1454.9283 - val_mean_squared_error: 6262507.0000 - val_mean_absolute_error: 1454.9283\n",
      "Epoch 6/100\n",
      "226/226 [==============================] - 21s 94ms/step - loss: 1947.2484 - mean_squared_error: 18648704.0000 - mean_absolute_error: 1947.2484 - val_loss: 1526.5309 - val_mean_squared_error: 9125504.0000 - val_mean_absolute_error: 1526.5309\n",
      "Epoch 7/100\n",
      "226/226 [==============================] - 13s 58ms/step - loss: 1894.6494 - mean_squared_error: 18876792.0000 - mean_absolute_error: 1894.6494 - val_loss: 1751.1123 - val_mean_squared_error: 19830672.0000 - val_mean_absolute_error: 1751.1123\n",
      "73/73 [==============================] - 2s 21ms/step - loss: 1779.8956 - mean_squared_error: 18347602.0000 - mean_absolute_error: 1779.8956\n",
      "9/9 [==============================] - 0s 18ms/step - loss: 1497.9797 - mean_squared_error: 7601814.0000 - mean_absolute_error: 1497.9797\n",
      "_______________________________________STORE_10______________________________________\n",
      "Epoch 1/100\n",
      "WARNING:tensorflow:Model was constructed with shape (None, None, 103) for input KerasTensor(type_spec=TensorSpec(shape=(None, None, 103), dtype=tf.float32, name='dense_432_input'), name='dense_432_input', description=\"created by layer 'dense_432_input'\"), but it was called on an input with incompatible shape (None, 103).\n",
      "WARNING:tensorflow:Model was constructed with shape (None, None, 103) for input KerasTensor(type_spec=TensorSpec(shape=(None, None, 103), dtype=tf.float32, name='dense_432_input'), name='dense_432_input', description=\"created by layer 'dense_432_input'\"), but it was called on an input with incompatible shape (None, 103).\n"
     ]
    },
    {
     "name": "stderr",
     "output_type": "stream",
     "text": [
      "2022-12-17 13:35:25.163953: I tensorflow/core/grappler/optimizers/custom_graph_optimizer_registry.cc:114] Plugin optimizer for device_type GPU is enabled.\n"
     ]
    },
    {
     "name": "stdout",
     "output_type": "stream",
     "text": [
      "264/264 [==============================] - ETA: 0s - loss: 11976.2588 - mean_squared_error: 621274240.0000 - mean_absolute_error: 11976.2588WARNING:tensorflow:Model was constructed with shape (None, None, 103) for input KerasTensor(type_spec=TensorSpec(shape=(None, None, 103), dtype=tf.float32, name='dense_432_input'), name='dense_432_input', description=\"created by layer 'dense_432_input'\"), but it was called on an input with incompatible shape (None, 103).\n"
     ]
    },
    {
     "name": "stderr",
     "output_type": "stream",
     "text": [
      "2022-12-17 13:35:32.304009: I tensorflow/core/grappler/optimizers/custom_graph_optimizer_registry.cc:114] Plugin optimizer for device_type GPU is enabled.\n"
     ]
    },
    {
     "name": "stdout",
     "output_type": "stream",
     "text": [
      "264/264 [==============================] - 9s 27ms/step - loss: 11976.2588 - mean_squared_error: 621274240.0000 - mean_absolute_error: 11976.2588 - val_loss: 5119.0889 - val_mean_squared_error: 69593088.0000 - val_mean_absolute_error: 5119.0889\n",
      "Epoch 2/100\n",
      "264/264 [==============================] - 12s 45ms/step - loss: 6539.2637 - mean_squared_error: 270370112.0000 - mean_absolute_error: 6539.2637 - val_loss: 7614.4375 - val_mean_squared_error: 142883488.0000 - val_mean_absolute_error: 7614.4375\n",
      "Epoch 3/100\n",
      "264/264 [==============================] - 4s 16ms/step - loss: 6169.4272 - mean_squared_error: 263845232.0000 - mean_absolute_error: 6169.4272 - val_loss: 7890.7153 - val_mean_squared_error: 166759072.0000 - val_mean_absolute_error: 7890.7153\n",
      "Epoch 4/100\n",
      "264/264 [==============================] - 4s 16ms/step - loss: 5878.4907 - mean_squared_error: 249522832.0000 - mean_absolute_error: 5878.4907 - val_loss: 6517.6055 - val_mean_squared_error: 131847656.0000 - val_mean_absolute_error: 6517.6055\n",
      "Epoch 5/100\n",
      "264/264 [==============================] - 4s 16ms/step - loss: 5663.9355 - mean_squared_error: 233284432.0000 - mean_absolute_error: 5663.9355 - val_loss: 7345.2134 - val_mean_squared_error: 130475376.0000 - val_mean_absolute_error: 7345.2134\n",
      "85/85 [==============================] - 1s 8ms/step - loss: 6338.0728 - mean_squared_error: 283206112.0000 - mean_absolute_error: 6338.0728\n",
      "10/10 [==============================] - 0s 11ms/step - loss: 6067.1592 - mean_squared_error: 109583416.0000 - mean_absolute_error: 6067.1592\n",
      "_______________________________________STORE_11______________________________________\n",
      "Epoch 1/100\n",
      "WARNING:tensorflow:Model was constructed with shape (None, None, 103) for input KerasTensor(type_spec=TensorSpec(shape=(None, None, 103), dtype=tf.float32, name='dense_440_input'), name='dense_440_input', description=\"created by layer 'dense_440_input'\"), but it was called on an input with incompatible shape (None, 103).\n",
      "WARNING:tensorflow:Model was constructed with shape (None, None, 103) for input KerasTensor(type_spec=TensorSpec(shape=(None, None, 103), dtype=tf.float32, name='dense_440_input'), name='dense_440_input', description=\"created by layer 'dense_440_input'\"), but it was called on an input with incompatible shape (None, 103).\n"
     ]
    },
    {
     "name": "stderr",
     "output_type": "stream",
     "text": [
      "2022-12-17 13:35:59.140776: I tensorflow/core/grappler/optimizers/custom_graph_optimizer_registry.cc:114] Plugin optimizer for device_type GPU is enabled.\n"
     ]
    },
    {
     "name": "stdout",
     "output_type": "stream",
     "text": [
      "257/257 [==============================] - ETA: 0s - loss: 8504.6885 - mean_squared_error: 230387616.0000 - mean_absolute_error: 8504.6885WARNING:tensorflow:Model was constructed with shape (None, None, 103) for input KerasTensor(type_spec=TensorSpec(shape=(None, None, 103), dtype=tf.float32, name='dense_440_input'), name='dense_440_input', description=\"created by layer 'dense_440_input'\"), but it was called on an input with incompatible shape (None, 103).\n"
     ]
    },
    {
     "name": "stderr",
     "output_type": "stream",
     "text": [
      "2022-12-17 13:36:04.703975: I tensorflow/core/grappler/optimizers/custom_graph_optimizer_registry.cc:114] Plugin optimizer for device_type GPU is enabled.\n"
     ]
    },
    {
     "name": "stdout",
     "output_type": "stream",
     "text": [
      "257/257 [==============================] - 7s 21ms/step - loss: 8504.6885 - mean_squared_error: 230387616.0000 - mean_absolute_error: 8504.6885 - val_loss: 3536.6394 - val_mean_squared_error: 22506224.0000 - val_mean_absolute_error: 3536.6394\n",
      "Epoch 2/100\n",
      "257/257 [==============================] - 4s 16ms/step - loss: 4527.6313 - mean_squared_error: 77645552.0000 - mean_absolute_error: 4527.6313 - val_loss: 11337.6211 - val_mean_squared_error: 269357984.0000 - val_mean_absolute_error: 11337.6211\n",
      "Epoch 3/100\n",
      "257/257 [==============================] - 4s 16ms/step - loss: 4275.0732 - mean_squared_error: 77127632.0000 - mean_absolute_error: 4275.0732 - val_loss: 6217.7930 - val_mean_squared_error: 68763344.0000 - val_mean_absolute_error: 6217.7930\n",
      "Epoch 4/100\n",
      "257/257 [==============================] - 4s 16ms/step - loss: 3961.2576 - mean_squared_error: 70520568.0000 - mean_absolute_error: 3961.2576 - val_loss: 10248.8047 - val_mean_squared_error: 191054384.0000 - val_mean_absolute_error: 10248.8047\n",
      "Epoch 5/100\n",
      "257/257 [==============================] - 4s 16ms/step - loss: 3894.6489 - mean_squared_error: 69474648.0000 - mean_absolute_error: 3894.6489 - val_loss: 3694.7769 - val_mean_squared_error: 29274864.0000 - val_mean_absolute_error: 3694.7769\n",
      "82/82 [==============================] - 1s 11ms/step - loss: 4019.0188 - mean_squared_error: 66206068.0000 - mean_absolute_error: 4019.0188\n",
      "10/10 [==============================] - 0s 25ms/step - loss: 5636.0532 - mean_squared_error: 52353136.0000 - mean_absolute_error: 5636.0542\n",
      "_______________________________________STORE_12______________________________________\n",
      "Epoch 1/100\n",
      "WARNING:tensorflow:Model was constructed with shape (None, None, 103) for input KerasTensor(type_spec=TensorSpec(shape=(None, None, 103), dtype=tf.float32, name='dense_448_input'), name='dense_448_input', description=\"created by layer 'dense_448_input'\"), but it was called on an input with incompatible shape (None, 103).\n",
      "WARNING:tensorflow:Model was constructed with shape (None, None, 103) for input KerasTensor(type_spec=TensorSpec(shape=(None, None, 103), dtype=tf.float32, name='dense_448_input'), name='dense_448_input', description=\"created by layer 'dense_448_input'\"), but it was called on an input with incompatible shape (None, 103).\n"
     ]
    },
    {
     "name": "stderr",
     "output_type": "stream",
     "text": [
      "2022-12-17 13:36:23.825569: I tensorflow/core/grappler/optimizers/custom_graph_optimizer_registry.cc:114] Plugin optimizer for device_type GPU is enabled.\n"
     ]
    },
    {
     "name": "stdout",
     "output_type": "stream",
     "text": [
      "247/247 [==============================] - ETA: 0s - loss: 6728.6191 - mean_squared_error: 180642848.0000 - mean_absolute_error: 6728.6191WARNING:tensorflow:Model was constructed with shape (None, None, 103) for input KerasTensor(type_spec=TensorSpec(shape=(None, None, 103), dtype=tf.float32, name='dense_448_input'), name='dense_448_input', description=\"created by layer 'dense_448_input'\"), but it was called on an input with incompatible shape (None, 103).\n"
     ]
    },
    {
     "name": "stderr",
     "output_type": "stream",
     "text": [
      "2022-12-17 13:36:30.833073: I tensorflow/core/grappler/optimizers/custom_graph_optimizer_registry.cc:114] Plugin optimizer for device_type GPU is enabled.\n"
     ]
    },
    {
     "name": "stdout",
     "output_type": "stream",
     "text": [
      "247/247 [==============================] - 8s 21ms/step - loss: 6728.6191 - mean_squared_error: 180642848.0000 - mean_absolute_error: 6728.6191 - val_loss: 3484.3254 - val_mean_squared_error: 29460010.0000 - val_mean_absolute_error: 3484.3254\n",
      "Epoch 2/100\n",
      "247/247 [==============================] - 4s 17ms/step - loss: 3823.1272 - mean_squared_error: 85695376.0000 - mean_absolute_error: 3823.1272 - val_loss: 2251.2410 - val_mean_squared_error: 11351342.0000 - val_mean_absolute_error: 2251.2410\n",
      "Epoch 3/100\n",
      "247/247 [==============================] - 4s 16ms/step - loss: 3483.0554 - mean_squared_error: 77586464.0000 - mean_absolute_error: 3483.0554 - val_loss: 3284.0789 - val_mean_squared_error: 21255516.0000 - val_mean_absolute_error: 3284.0789\n",
      "Epoch 4/100\n",
      "247/247 [==============================] - 4s 17ms/step - loss: 3317.8494 - mean_squared_error: 73629968.0000 - mean_absolute_error: 3317.8494 - val_loss: 2245.1218 - val_mean_squared_error: 11629137.0000 - val_mean_absolute_error: 2245.1218\n",
      "Epoch 5/100\n",
      "247/247 [==============================] - 4s 17ms/step - loss: 3200.2180 - mean_squared_error: 74743768.0000 - mean_absolute_error: 3200.2180 - val_loss: 2295.0125 - val_mean_squared_error: 15394053.0000 - val_mean_absolute_error: 2295.0125\n",
      "Epoch 6/100\n",
      "247/247 [==============================] - 4s 17ms/step - loss: 3050.0557 - mean_squared_error: 74094472.0000 - mean_absolute_error: 3050.0557 - val_loss: 1844.9319 - val_mean_squared_error: 9304147.0000 - val_mean_absolute_error: 1844.9319\n",
      "Epoch 7/100\n",
      "247/247 [==============================] - 4s 16ms/step - loss: 2987.5654 - mean_squared_error: 70375080.0000 - mean_absolute_error: 2987.5654 - val_loss: 3136.2234 - val_mean_squared_error: 23384724.0000 - val_mean_absolute_error: 3136.2234\n",
      "Epoch 8/100\n",
      "247/247 [==============================] - 4s 16ms/step - loss: 2903.0955 - mean_squared_error: 70597208.0000 - mean_absolute_error: 2903.0955 - val_loss: 1746.0787 - val_mean_squared_error: 7724114.0000 - val_mean_absolute_error: 1746.0787\n",
      "Epoch 9/100\n",
      "247/247 [==============================] - 4s 17ms/step - loss: 2835.3850 - mean_squared_error: 69078096.0000 - mean_absolute_error: 2835.3850 - val_loss: 1631.5408 - val_mean_squared_error: 6355484.5000 - val_mean_absolute_error: 1631.5408\n",
      "Epoch 10/100\n",
      "247/247 [==============================] - 4s 16ms/step - loss: 2698.4778 - mean_squared_error: 66200688.0000 - mean_absolute_error: 2698.4778 - val_loss: 2443.5083 - val_mean_squared_error: 12368651.0000 - val_mean_absolute_error: 2443.5083\n",
      "Epoch 11/100\n",
      "247/247 [==============================] - 5s 18ms/step - loss: 2706.1895 - mean_squared_error: 67033212.0000 - mean_absolute_error: 2706.1895 - val_loss: 4739.6270 - val_mean_squared_error: 49161520.0000 - val_mean_absolute_error: 4739.6270\n",
      "Epoch 12/100\n",
      "247/247 [==============================] - 4s 17ms/step - loss: 2633.5466 - mean_squared_error: 66150044.0000 - mean_absolute_error: 2633.5466 - val_loss: 2634.7712 - val_mean_squared_error: 16748543.0000 - val_mean_absolute_error: 2634.7712\n",
      "Epoch 13/100\n",
      "247/247 [==============================] - 4s 17ms/step - loss: 2640.3447 - mean_squared_error: 65117980.0000 - mean_absolute_error: 2640.3447 - val_loss: 2179.3623 - val_mean_squared_error: 9570383.0000 - val_mean_absolute_error: 2179.3623\n",
      "80/80 [==============================] - 1s 11ms/step - loss: 2263.9619 - mean_squared_error: 61591436.0000 - mean_absolute_error: 2263.9619\n",
      "9/9 [==============================] - 0s 16ms/step - loss: 2374.5796 - mean_squared_error: 27156944.0000 - mean_absolute_error: 2374.5796\n",
      "_______________________________________STORE_13______________________________________\n",
      "Epoch 1/100\n",
      "WARNING:tensorflow:Model was constructed with shape (None, None, 103) for input KerasTensor(type_spec=TensorSpec(shape=(None, None, 103), dtype=tf.float32, name='dense_456_input'), name='dense_456_input', description=\"created by layer 'dense_456_input'\"), but it was called on an input with incompatible shape (None, 103).\n",
      "WARNING:tensorflow:Model was constructed with shape (None, None, 103) for input KerasTensor(type_spec=TensorSpec(shape=(None, None, 103), dtype=tf.float32, name='dense_456_input'), name='dense_456_input', description=\"created by layer 'dense_456_input'\"), but it was called on an input with incompatible shape (None, 103).\n"
     ]
    },
    {
     "name": "stderr",
     "output_type": "stream",
     "text": [
      "2022-12-17 13:37:22.604499: I tensorflow/core/grappler/optimizers/custom_graph_optimizer_registry.cc:114] Plugin optimizer for device_type GPU is enabled.\n"
     ]
    },
    {
     "name": "stdout",
     "output_type": "stream",
     "text": [
      "268/268 [==============================] - ETA: 0s - loss: 12944.6484 - mean_squared_error: 626009344.0000 - mean_absolute_error: 12944.6484WARNING:tensorflow:Model was constructed with shape (None, None, 103) for input KerasTensor(type_spec=TensorSpec(shape=(None, None, 103), dtype=tf.float32, name='dense_456_input'), name='dense_456_input', description=\"created by layer 'dense_456_input'\"), but it was called on an input with incompatible shape (None, 103).\n"
     ]
    },
    {
     "name": "stderr",
     "output_type": "stream",
     "text": [
      "2022-12-17 13:37:28.901353: I tensorflow/core/grappler/optimizers/custom_graph_optimizer_registry.cc:114] Plugin optimizer for device_type GPU is enabled.\n"
     ]
    },
    {
     "name": "stdout",
     "output_type": "stream",
     "text": [
      "268/268 [==============================] - 7s 22ms/step - loss: 12944.6484 - mean_squared_error: 626009344.0000 - mean_absolute_error: 12944.6484 - val_loss: 11016.3174 - val_mean_squared_error: 245366896.0000 - val_mean_absolute_error: 11016.3174\n",
      "Epoch 2/100\n",
      "268/268 [==============================] - 5s 18ms/step - loss: 6670.5933 - mean_squared_error: 186087504.0000 - mean_absolute_error: 6670.5933 - val_loss: 9642.0928 - val_mean_squared_error: 223969664.0000 - val_mean_absolute_error: 9642.0928\n",
      "Epoch 3/100\n",
      "268/268 [==============================] - 5s 17ms/step - loss: 6169.7183 - mean_squared_error: 169379696.0000 - mean_absolute_error: 6169.7183 - val_loss: 3860.8337 - val_mean_squared_error: 51677844.0000 - val_mean_absolute_error: 3860.8337\n",
      "Epoch 4/100\n",
      "268/268 [==============================] - 4s 17ms/step - loss: 5796.8164 - mean_squared_error: 161397888.0000 - mean_absolute_error: 5796.8164 - val_loss: 4079.2234 - val_mean_squared_error: 56593184.0000 - val_mean_absolute_error: 4079.2234\n",
      "Epoch 5/100\n",
      "268/268 [==============================] - 5s 17ms/step - loss: 5676.7896 - mean_squared_error: 157074192.0000 - mean_absolute_error: 5676.7896 - val_loss: 4909.1533 - val_mean_squared_error: 65927916.0000 - val_mean_absolute_error: 4909.1533\n",
      "Epoch 6/100\n",
      "268/268 [==============================] - 5s 17ms/step - loss: 5457.0400 - mean_squared_error: 151503312.0000 - mean_absolute_error: 5457.0400 - val_loss: 3626.6470 - val_mean_squared_error: 43492152.0000 - val_mean_absolute_error: 3626.6470\n",
      "Epoch 7/100\n",
      "268/268 [==============================] - 5s 17ms/step - loss: 5194.4102 - mean_squared_error: 143346736.0000 - mean_absolute_error: 5194.4102 - val_loss: 3960.2275 - val_mean_squared_error: 50386320.0000 - val_mean_absolute_error: 3960.2275\n",
      "Epoch 8/100\n",
      "268/268 [==============================] - 4s 16ms/step - loss: 5141.2358 - mean_squared_error: 142260464.0000 - mean_absolute_error: 5141.2358 - val_loss: 4758.3286 - val_mean_squared_error: 55024996.0000 - val_mean_absolute_error: 4758.3286\n",
      "Epoch 9/100\n",
      "268/268 [==============================] - 4s 16ms/step - loss: 4921.2832 - mean_squared_error: 138822672.0000 - mean_absolute_error: 4921.2832 - val_loss: 8320.8086 - val_mean_squared_error: 185154672.0000 - val_mean_absolute_error: 8320.8086\n",
      "Epoch 10/100\n",
      "268/268 [==============================] - 5s 17ms/step - loss: 4887.1089 - mean_squared_error: 133732144.0000 - mean_absolute_error: 4887.1089 - val_loss: 3610.8877 - val_mean_squared_error: 43309592.0000 - val_mean_absolute_error: 3610.8877\n",
      "86/86 [==============================] - 1s 9ms/step - loss: 4596.5859 - mean_squared_error: 122179296.0000 - mean_absolute_error: 4596.5859\n",
      "10/10 [==============================] - 0s 17ms/step - loss: 3631.1279 - mean_squared_error: 51345092.0000 - mean_absolute_error: 3631.1282\n",
      "_______________________________________STORE_14______________________________________\n",
      "Epoch 1/100\n",
      "WARNING:tensorflow:Model was constructed with shape (None, None, 103) for input KerasTensor(type_spec=TensorSpec(shape=(None, None, 103), dtype=tf.float32, name='dense_464_input'), name='dense_464_input', description=\"created by layer 'dense_464_input'\"), but it was called on an input with incompatible shape (None, 103).\n",
      "WARNING:tensorflow:Model was constructed with shape (None, None, 103) for input KerasTensor(type_spec=TensorSpec(shape=(None, None, 103), dtype=tf.float32, name='dense_464_input'), name='dense_464_input', description=\"created by layer 'dense_464_input'\"), but it was called on an input with incompatible shape (None, 103).\n"
     ]
    },
    {
     "name": "stderr",
     "output_type": "stream",
     "text": [
      "2022-12-17 13:38:13.665679: I tensorflow/core/grappler/optimizers/custom_graph_optimizer_registry.cc:114] Plugin optimizer for device_type GPU is enabled.\n"
     ]
    },
    {
     "name": "stdout",
     "output_type": "stream",
     "text": [
      "256/256 [==============================] - ETA: 0s - loss: 14714.3984 - mean_squared_error: 875283008.0000 - mean_absolute_error: 14714.3984WARNING:tensorflow:Model was constructed with shape (None, None, 103) for input KerasTensor(type_spec=TensorSpec(shape=(None, None, 103), dtype=tf.float32, name='dense_464_input'), name='dense_464_input', description=\"created by layer 'dense_464_input'\"), but it was called on an input with incompatible shape (None, 103).\n"
     ]
    },
    {
     "name": "stderr",
     "output_type": "stream",
     "text": [
      "2022-12-17 13:38:19.923169: I tensorflow/core/grappler/optimizers/custom_graph_optimizer_registry.cc:114] Plugin optimizer for device_type GPU is enabled.\n"
     ]
    },
    {
     "name": "stdout",
     "output_type": "stream",
     "text": [
      "256/256 [==============================] - 8s 21ms/step - loss: 14714.3984 - mean_squared_error: 875283008.0000 - mean_absolute_error: 14714.3984 - val_loss: 7525.2827 - val_mean_squared_error: 177199184.0000 - val_mean_absolute_error: 7525.2827\n",
      "Epoch 2/100\n",
      "256/256 [==============================] - 5s 18ms/step - loss: 7478.7627 - mean_squared_error: 246169520.0000 - mean_absolute_error: 7478.7627 - val_loss: 7361.9160 - val_mean_squared_error: 153561952.0000 - val_mean_absolute_error: 7361.9160\n",
      "Epoch 3/100\n",
      "256/256 [==============================] - 4s 17ms/step - loss: 6990.8198 - mean_squared_error: 226970032.0000 - mean_absolute_error: 6990.8198 - val_loss: 5852.6528 - val_mean_squared_error: 103035696.0000 - val_mean_absolute_error: 5852.6528\n",
      "Epoch 4/100\n",
      "256/256 [==============================] - 4s 17ms/step - loss: 6554.7354 - mean_squared_error: 218702784.0000 - mean_absolute_error: 6554.7354 - val_loss: 7638.0864 - val_mean_squared_error: 171195040.0000 - val_mean_absolute_error: 7638.0864\n",
      "Epoch 5/100\n",
      "256/256 [==============================] - 4s 17ms/step - loss: 6356.1421 - mean_squared_error: 216274224.0000 - mean_absolute_error: 6356.1421 - val_loss: 13749.4395 - val_mean_squared_error: 428537920.0000 - val_mean_absolute_error: 13749.4395\n",
      "Epoch 6/100\n",
      "256/256 [==============================] - 4s 17ms/step - loss: 6052.0298 - mean_squared_error: 206279552.0000 - mean_absolute_error: 6052.0298 - val_loss: 5178.9814 - val_mean_squared_error: 104308128.0000 - val_mean_absolute_error: 5178.9814\n",
      "Epoch 7/100\n",
      "256/256 [==============================] - 4s 17ms/step - loss: 5916.0601 - mean_squared_error: 200667904.0000 - mean_absolute_error: 5916.0601 - val_loss: 7986.9399 - val_mean_squared_error: 187284240.0000 - val_mean_absolute_error: 7986.9399\n",
      "Epoch 8/100\n",
      "256/256 [==============================] - 4s 18ms/step - loss: 5722.2910 - mean_squared_error: 194665776.0000 - mean_absolute_error: 5722.2910 - val_loss: 11003.0195 - val_mean_squared_error: 351982336.0000 - val_mean_absolute_error: 11003.0195\n",
      "Epoch 9/100\n",
      "256/256 [==============================] - 4s 17ms/step - loss: 5590.0698 - mean_squared_error: 185177632.0000 - mean_absolute_error: 5590.0698 - val_loss: 11845.9307 - val_mean_squared_error: 424196064.0000 - val_mean_absolute_error: 11845.9307\n",
      "Epoch 10/100\n",
      "256/256 [==============================] - 4s 17ms/step - loss: 5515.7773 - mean_squared_error: 184085424.0000 - mean_absolute_error: 5515.7773 - val_loss: 6555.6304 - val_mean_squared_error: 125270200.0000 - val_mean_absolute_error: 6555.6304\n",
      "82/82 [==============================] - 1s 8ms/step - loss: 4833.9058 - mean_squared_error: 162914144.0000 - mean_absolute_error: 4833.9058\n",
      "10/10 [==============================] - 0s 13ms/step - loss: 6087.2251 - mean_squared_error: 103714016.0000 - mean_absolute_error: 6087.2251\n",
      "_______________________________________STORE_15______________________________________\n",
      "Epoch 1/100\n",
      "WARNING:tensorflow:Model was constructed with shape (None, None, 103) for input KerasTensor(type_spec=TensorSpec(shape=(None, None, 103), dtype=tf.float32, name='dense_472_input'), name='dense_472_input', description=\"created by layer 'dense_472_input'\"), but it was called on an input with incompatible shape (None, 103).\n",
      "WARNING:tensorflow:Model was constructed with shape (None, None, 103) for input KerasTensor(type_spec=TensorSpec(shape=(None, None, 103), dtype=tf.float32, name='dense_472_input'), name='dense_472_input', description=\"created by layer 'dense_472_input'\"), but it was called on an input with incompatible shape (None, 103).\n"
     ]
    },
    {
     "name": "stderr",
     "output_type": "stream",
     "text": [
      "2022-12-17 13:39:01.534107: I tensorflow/core/grappler/optimizers/custom_graph_optimizer_registry.cc:114] Plugin optimizer for device_type GPU is enabled.\n"
     ]
    },
    {
     "name": "stdout",
     "output_type": "stream",
     "text": [
      "253/253 [==============================] - ETA: 0s - loss: 4468.9302 - mean_squared_error: 86391184.0000 - mean_absolute_error: 4468.9302WARNING:tensorflow:Model was constructed with shape (None, None, 103) for input KerasTensor(type_spec=TensorSpec(shape=(None, None, 103), dtype=tf.float32, name='dense_472_input'), name='dense_472_input', description=\"created by layer 'dense_472_input'\"), but it was called on an input with incompatible shape (None, 103).\n"
     ]
    },
    {
     "name": "stderr",
     "output_type": "stream",
     "text": [
      "2022-12-17 13:39:07.329963: I tensorflow/core/grappler/optimizers/custom_graph_optimizer_registry.cc:114] Plugin optimizer for device_type GPU is enabled.\n"
     ]
    },
    {
     "name": "stdout",
     "output_type": "stream",
     "text": [
      "253/253 [==============================] - 7s 21ms/step - loss: 4468.9302 - mean_squared_error: 86391184.0000 - mean_absolute_error: 4468.9302 - val_loss: 3435.9495 - val_mean_squared_error: 36890804.0000 - val_mean_absolute_error: 3435.9495\n",
      "Epoch 2/100\n",
      "253/253 [==============================] - 4s 17ms/step - loss: 2710.1011 - mean_squared_error: 47005372.0000 - mean_absolute_error: 2710.1011 - val_loss: 2693.4104 - val_mean_squared_error: 29189050.0000 - val_mean_absolute_error: 2693.4104\n",
      "Epoch 3/100\n",
      "253/253 [==============================] - 4s 17ms/step - loss: 2515.6028 - mean_squared_error: 44804432.0000 - mean_absolute_error: 2515.6028 - val_loss: 3228.3276 - val_mean_squared_error: 27311748.0000 - val_mean_absolute_error: 3228.3276\n",
      "Epoch 4/100\n",
      "253/253 [==============================] - 4s 17ms/step - loss: 2387.1843 - mean_squared_error: 44228244.0000 - mean_absolute_error: 2387.1843 - val_loss: 3504.2776 - val_mean_squared_error: 31910172.0000 - val_mean_absolute_error: 3504.2776\n",
      "Epoch 5/100\n",
      "253/253 [==============================] - 4s 16ms/step - loss: 2226.8630 - mean_squared_error: 39865444.0000 - mean_absolute_error: 2226.8630 - val_loss: 2890.8625 - val_mean_squared_error: 28902068.0000 - val_mean_absolute_error: 2890.8625\n",
      "Epoch 6/100\n",
      "253/253 [==============================] - 4s 17ms/step - loss: 2121.3184 - mean_squared_error: 38821200.0000 - mean_absolute_error: 2121.3184 - val_loss: 2457.9463 - val_mean_squared_error: 19816932.0000 - val_mean_absolute_error: 2457.9463\n",
      "Epoch 7/100\n",
      "253/253 [==============================] - 4s 17ms/step - loss: 2081.9067 - mean_squared_error: 39507968.0000 - mean_absolute_error: 2081.9067 - val_loss: 2060.9570 - val_mean_squared_error: 21674550.0000 - val_mean_absolute_error: 2060.9570\n",
      "Epoch 8/100\n",
      "253/253 [==============================] - 4s 16ms/step - loss: 2046.1595 - mean_squared_error: 37481512.0000 - mean_absolute_error: 2046.1595 - val_loss: 2537.3789 - val_mean_squared_error: 29049574.0000 - val_mean_absolute_error: 2537.3789\n",
      "Epoch 9/100\n",
      "253/253 [==============================] - 4s 16ms/step - loss: 1991.7743 - mean_squared_error: 36711432.0000 - mean_absolute_error: 1991.7743 - val_loss: 3686.9614 - val_mean_squared_error: 46422492.0000 - val_mean_absolute_error: 3686.9614\n",
      "Epoch 10/100\n",
      "253/253 [==============================] - 4s 16ms/step - loss: 1925.1027 - mean_squared_error: 35515276.0000 - mean_absolute_error: 1925.1027 - val_loss: 2289.2756 - val_mean_squared_error: 26111130.0000 - val_mean_absolute_error: 2289.2756\n",
      "Epoch 11/100\n",
      "253/253 [==============================] - 4s 16ms/step - loss: 1897.4999 - mean_squared_error: 33342936.0000 - mean_absolute_error: 1897.4999 - val_loss: 2842.3618 - val_mean_squared_error: 27935776.0000 - val_mean_absolute_error: 2842.3618\n",
      "81/81 [==============================] - 1s 9ms/step - loss: 2010.0601 - mean_squared_error: 37010040.0000 - mean_absolute_error: 2010.0603\n",
      "9/9 [==============================] - 0s 32ms/step - loss: 1385.9554 - mean_squared_error: 7437741.0000 - mean_absolute_error: 1385.9556\n",
      "_______________________________________STORE_16______________________________________\n",
      "Epoch 1/100\n",
      "WARNING:tensorflow:Model was constructed with shape (None, None, 103) for input KerasTensor(type_spec=TensorSpec(shape=(None, None, 103), dtype=tf.float32, name='dense_480_input'), name='dense_480_input', description=\"created by layer 'dense_480_input'\"), but it was called on an input with incompatible shape (None, 103).\n",
      "WARNING:tensorflow:Model was constructed with shape (None, None, 103) for input KerasTensor(type_spec=TensorSpec(shape=(None, None, 103), dtype=tf.float32, name='dense_480_input'), name='dense_480_input', description=\"created by layer 'dense_480_input'\"), but it was called on an input with incompatible shape (None, 103).\n"
     ]
    },
    {
     "name": "stderr",
     "output_type": "stream",
     "text": [
      "2022-12-17 13:39:51.706350: I tensorflow/core/grappler/optimizers/custom_graph_optimizer_registry.cc:114] Plugin optimizer for device_type GPU is enabled.\n"
     ]
    },
    {
     "name": "stdout",
     "output_type": "stream",
     "text": [
      "239/239 [==============================] - ETA: 0s - loss: 4065.5679 - mean_squared_error: 70656184.0000 - mean_absolute_error: 4065.5679WARNING:tensorflow:Model was constructed with shape (None, None, 103) for input KerasTensor(type_spec=TensorSpec(shape=(None, None, 103), dtype=tf.float32, name='dense_480_input'), name='dense_480_input', description=\"created by layer 'dense_480_input'\"), but it was called on an input with incompatible shape (None, 103).\n"
     ]
    },
    {
     "name": "stderr",
     "output_type": "stream",
     "text": [
      "2022-12-17 13:39:57.799916: I tensorflow/core/grappler/optimizers/custom_graph_optimizer_registry.cc:114] Plugin optimizer for device_type GPU is enabled.\n"
     ]
    },
    {
     "name": "stdout",
     "output_type": "stream",
     "text": [
      "239/239 [==============================] - 7s 23ms/step - loss: 4065.5679 - mean_squared_error: 70656184.0000 - mean_absolute_error: 4065.5679 - val_loss: 3101.9966 - val_mean_squared_error: 36148440.0000 - val_mean_absolute_error: 3101.9966\n",
      "Epoch 2/100\n",
      "239/239 [==============================] - 4s 17ms/step - loss: 2335.5974 - mean_squared_error: 28135324.0000 - mean_absolute_error: 2335.5974 - val_loss: 2669.6211 - val_mean_squared_error: 27431118.0000 - val_mean_absolute_error: 2669.6211\n",
      "Epoch 3/100\n",
      "239/239 [==============================] - 4s 17ms/step - loss: 2130.0415 - mean_squared_error: 24087382.0000 - mean_absolute_error: 2130.0415 - val_loss: 2251.9758 - val_mean_squared_error: 26340334.0000 - val_mean_absolute_error: 2251.9758\n",
      "Epoch 4/100\n",
      "239/239 [==============================] - 4s 17ms/step - loss: 2009.6211 - mean_squared_error: 21612686.0000 - mean_absolute_error: 2009.6211 - val_loss: 1866.9858 - val_mean_squared_error: 18677790.0000 - val_mean_absolute_error: 1866.9858\n",
      "Epoch 5/100\n",
      "239/239 [==============================] - 4s 17ms/step - loss: 1897.8481 - mean_squared_error: 20233890.0000 - mean_absolute_error: 1897.8481 - val_loss: 2139.1331 - val_mean_squared_error: 23313496.0000 - val_mean_absolute_error: 2139.1331\n",
      "Epoch 6/100\n",
      "239/239 [==============================] - 4s 17ms/step - loss: 1805.3014 - mean_squared_error: 19421864.0000 - mean_absolute_error: 1805.3014 - val_loss: 1970.3995 - val_mean_squared_error: 22030664.0000 - val_mean_absolute_error: 1970.3995\n",
      "Epoch 7/100\n",
      "239/239 [==============================] - 4s 17ms/step - loss: 1723.4341 - mean_squared_error: 18159614.0000 - mean_absolute_error: 1723.4341 - val_loss: 1985.2289 - val_mean_squared_error: 20137614.0000 - val_mean_absolute_error: 1985.2289\n",
      "Epoch 8/100\n",
      "239/239 [==============================] - 4s 16ms/step - loss: 1688.4806 - mean_squared_error: 17655932.0000 - mean_absolute_error: 1688.4806 - val_loss: 1649.7958 - val_mean_squared_error: 17273868.0000 - val_mean_absolute_error: 1649.7958\n",
      "Epoch 9/100\n",
      "239/239 [==============================] - 4s 16ms/step - loss: 1654.6849 - mean_squared_error: 17294196.0000 - mean_absolute_error: 1654.6849 - val_loss: 1732.6899 - val_mean_squared_error: 17941454.0000 - val_mean_absolute_error: 1732.6899\n",
      "Epoch 10/100\n",
      "239/239 [==============================] - 4s 16ms/step - loss: 1588.7540 - mean_squared_error: 16475343.0000 - mean_absolute_error: 1588.7540 - val_loss: 1795.5759 - val_mean_squared_error: 19761328.0000 - val_mean_absolute_error: 1795.5759\n",
      "Epoch 11/100\n",
      "239/239 [==============================] - 4s 17ms/step - loss: 1567.3361 - mean_squared_error: 15281220.0000 - mean_absolute_error: 1567.3361 - val_loss: 1942.6063 - val_mean_squared_error: 21672536.0000 - val_mean_absolute_error: 1942.6062\n",
      "Epoch 12/100\n",
      "239/239 [==============================] - 4s 16ms/step - loss: 1549.3505 - mean_squared_error: 16309525.0000 - mean_absolute_error: 1549.3505 - val_loss: 1986.3981 - val_mean_squared_error: 20645108.0000 - val_mean_absolute_error: 1986.3981\n",
      "77/77 [==============================] - 1s 11ms/step - loss: 1509.3217 - mean_squared_error: 14541550.0000 - mean_absolute_error: 1509.3217\n",
      "9/9 [==============================] - 0s 20ms/step - loss: 1714.3275 - mean_squared_error: 23452272.0000 - mean_absolute_error: 1714.3275\n",
      "_______________________________________STORE_17______________________________________\n",
      "Epoch 1/100\n",
      "WARNING:tensorflow:Model was constructed with shape (None, None, 103) for input KerasTensor(type_spec=TensorSpec(shape=(None, None, 103), dtype=tf.float32, name='dense_488_input'), name='dense_488_input', description=\"created by layer 'dense_488_input'\"), but it was called on an input with incompatible shape (None, 103).\n",
      "WARNING:tensorflow:Model was constructed with shape (None, None, 103) for input KerasTensor(type_spec=TensorSpec(shape=(None, None, 103), dtype=tf.float32, name='dense_488_input'), name='dense_488_input', description=\"created by layer 'dense_488_input'\"), but it was called on an input with incompatible shape (None, 103).\n"
     ]
    },
    {
     "name": "stderr",
     "output_type": "stream",
     "text": [
      "2022-12-17 13:40:44.274158: I tensorflow/core/grappler/optimizers/custom_graph_optimizer_registry.cc:114] Plugin optimizer for device_type GPU is enabled.\n"
     ]
    },
    {
     "name": "stdout",
     "output_type": "stream",
     "text": [
      "251/251 [==============================] - ETA: 0s - loss: 5936.5293 - mean_squared_error: 137154752.0000 - mean_absolute_error: 5936.5293WARNING:tensorflow:Model was constructed with shape (None, None, 103) for input KerasTensor(type_spec=TensorSpec(shape=(None, None, 103), dtype=tf.float32, name='dense_488_input'), name='dense_488_input', description=\"created by layer 'dense_488_input'\"), but it was called on an input with incompatible shape (None, 103).\n"
     ]
    },
    {
     "name": "stderr",
     "output_type": "stream",
     "text": [
      "2022-12-17 13:40:50.960409: I tensorflow/core/grappler/optimizers/custom_graph_optimizer_registry.cc:114] Plugin optimizer for device_type GPU is enabled.\n"
     ]
    },
    {
     "name": "stdout",
     "output_type": "stream",
     "text": [
      "251/251 [==============================] - 8s 26ms/step - loss: 5936.5293 - mean_squared_error: 137154752.0000 - mean_absolute_error: 5936.5293 - val_loss: 2646.2461 - val_mean_squared_error: 26686602.0000 - val_mean_absolute_error: 2646.2461\n",
      "Epoch 2/100\n",
      "251/251 [==============================] - 4s 18ms/step - loss: 3350.5928 - mean_squared_error: 45969644.0000 - mean_absolute_error: 3350.5928 - val_loss: 3469.1562 - val_mean_squared_error: 36931888.0000 - val_mean_absolute_error: 3469.1562\n",
      "Epoch 3/100\n",
      "251/251 [==============================] - 4s 17ms/step - loss: 3177.1633 - mean_squared_error: 43324384.0000 - mean_absolute_error: 3177.1633 - val_loss: 3087.1650 - val_mean_squared_error: 28843386.0000 - val_mean_absolute_error: 3087.1650\n",
      "Epoch 4/100\n",
      "251/251 [==============================] - 4s 17ms/step - loss: 3045.8140 - mean_squared_error: 41851548.0000 - mean_absolute_error: 3045.8140 - val_loss: 3752.2017 - val_mean_squared_error: 47567364.0000 - val_mean_absolute_error: 3752.2017\n",
      "Epoch 5/100\n",
      "251/251 [==============================] - 4s 18ms/step - loss: 2916.3440 - mean_squared_error: 39562644.0000 - mean_absolute_error: 2916.3440 - val_loss: 2913.7942 - val_mean_squared_error: 31041474.0000 - val_mean_absolute_error: 2913.7942\n",
      "81/81 [==============================] - 1s 11ms/step - loss: 2886.8735 - mean_squared_error: 40965736.0000 - mean_absolute_error: 2886.8735\n",
      "10/10 [==============================] - 0s 35ms/step - loss: 2950.1685 - mean_squared_error: 29551080.0000 - mean_absolute_error: 2950.1685\n",
      "_______________________________________STORE_18______________________________________\n",
      "Epoch 1/100\n",
      "WARNING:tensorflow:Model was constructed with shape (None, None, 103) for input KerasTensor(type_spec=TensorSpec(shape=(None, None, 103), dtype=tf.float32, name='dense_496_input'), name='dense_496_input', description=\"created by layer 'dense_496_input'\"), but it was called on an input with incompatible shape (None, 103).\n",
      "WARNING:tensorflow:Model was constructed with shape (None, None, 103) for input KerasTensor(type_spec=TensorSpec(shape=(None, None, 103), dtype=tf.float32, name='dense_496_input'), name='dense_496_input', description=\"created by layer 'dense_496_input'\"), but it was called on an input with incompatible shape (None, 103).\n"
     ]
    },
    {
     "name": "stderr",
     "output_type": "stream",
     "text": [
      "2022-12-17 13:41:11.294488: I tensorflow/core/grappler/optimizers/custom_graph_optimizer_registry.cc:114] Plugin optimizer for device_type GPU is enabled.\n"
     ]
    },
    {
     "name": "stdout",
     "output_type": "stream",
     "text": [
      "251/251 [==============================] - ETA: 0s - loss: 7535.8486 - mean_squared_error: 209959200.0000 - mean_absolute_error: 7535.8486WARNING:tensorflow:Model was constructed with shape (None, None, 103) for input KerasTensor(type_spec=TensorSpec(shape=(None, None, 103), dtype=tf.float32, name='dense_496_input'), name='dense_496_input', description=\"created by layer 'dense_496_input'\"), but it was called on an input with incompatible shape (None, 103).\n"
     ]
    },
    {
     "name": "stderr",
     "output_type": "stream",
     "text": [
      "2022-12-17 13:41:19.337028: I tensorflow/core/grappler/optimizers/custom_graph_optimizer_registry.cc:114] Plugin optimizer for device_type GPU is enabled.\n"
     ]
    },
    {
     "name": "stdout",
     "output_type": "stream",
     "text": [
      "251/251 [==============================] - 9s 24ms/step - loss: 7535.8486 - mean_squared_error: 209959200.0000 - mean_absolute_error: 7535.8486 - val_loss: 4837.3633 - val_mean_squared_error: 66313296.0000 - val_mean_absolute_error: 4837.3633\n",
      "Epoch 2/100\n",
      "251/251 [==============================] - 4s 18ms/step - loss: 4536.0845 - mean_squared_error: 97303752.0000 - mean_absolute_error: 4536.0845 - val_loss: 4951.6216 - val_mean_squared_error: 66438304.0000 - val_mean_absolute_error: 4951.6216\n",
      "Epoch 3/100\n",
      "251/251 [==============================] - 4s 17ms/step - loss: 4192.0830 - mean_squared_error: 92052960.0000 - mean_absolute_error: 4192.0830 - val_loss: 5846.3623 - val_mean_squared_error: 72951904.0000 - val_mean_absolute_error: 5846.3623\n",
      "Epoch 4/100\n",
      "251/251 [==============================] - 4s 17ms/step - loss: 4050.2295 - mean_squared_error: 90272616.0000 - mean_absolute_error: 4050.2295 - val_loss: 6856.1279 - val_mean_squared_error: 107204304.0000 - val_mean_absolute_error: 6856.1279\n",
      "Epoch 5/100\n",
      "251/251 [==============================] - 4s 16ms/step - loss: 3892.9910 - mean_squared_error: 86366344.0000 - mean_absolute_error: 3892.9910 - val_loss: 4356.2036 - val_mean_squared_error: 53554136.0000 - val_mean_absolute_error: 4356.2036\n",
      "Epoch 6/100\n",
      "251/251 [==============================] - 4s 16ms/step - loss: 3726.2908 - mean_squared_error: 84148104.0000 - mean_absolute_error: 3726.2908 - val_loss: 3482.3970 - val_mean_squared_error: 37837780.0000 - val_mean_absolute_error: 3482.3970\n",
      "Epoch 7/100\n",
      "251/251 [==============================] - 4s 17ms/step - loss: 3614.0205 - mean_squared_error: 80451656.0000 - mean_absolute_error: 3614.0205 - val_loss: 4431.3770 - val_mean_squared_error: 43780164.0000 - val_mean_absolute_error: 4431.3770\n",
      "Epoch 8/100\n",
      "251/251 [==============================] - 4s 16ms/step - loss: 3448.4497 - mean_squared_error: 76699864.0000 - mean_absolute_error: 3448.4497 - val_loss: 3845.8188 - val_mean_squared_error: 34423572.0000 - val_mean_absolute_error: 3845.8188\n",
      "Epoch 9/100\n",
      "251/251 [==============================] - 4s 16ms/step - loss: 3323.2148 - mean_squared_error: 74271480.0000 - mean_absolute_error: 3323.2148 - val_loss: 5884.8198 - val_mean_squared_error: 83913192.0000 - val_mean_absolute_error: 5884.8198\n",
      "Epoch 10/100\n",
      "251/251 [==============================] - 4s 17ms/step - loss: 3271.4724 - mean_squared_error: 73546248.0000 - mean_absolute_error: 3271.4724 - val_loss: 3304.1943 - val_mean_squared_error: 33871612.0000 - val_mean_absolute_error: 3304.1943\n",
      "Epoch 11/100\n",
      "251/251 [==============================] - 4s 16ms/step - loss: 3266.3799 - mean_squared_error: 74594024.0000 - mean_absolute_error: 3266.3799 - val_loss: 3646.4692 - val_mean_squared_error: 39414656.0000 - val_mean_absolute_error: 3646.4692\n",
      "Epoch 12/100\n",
      "251/251 [==============================] - 4s 16ms/step - loss: 3115.6638 - mean_squared_error: 69492704.0000 - mean_absolute_error: 3115.6638 - val_loss: 3348.9868 - val_mean_squared_error: 33436152.0000 - val_mean_absolute_error: 3348.9868\n",
      "Epoch 13/100\n",
      "251/251 [==============================] - 4s 17ms/step - loss: 3139.7708 - mean_squared_error: 69633800.0000 - mean_absolute_error: 3139.7708 - val_loss: 5276.7412 - val_mean_squared_error: 70477888.0000 - val_mean_absolute_error: 5276.7412\n",
      "Epoch 14/100\n",
      "251/251 [==============================] - 4s 16ms/step - loss: 3024.1919 - mean_squared_error: 69442136.0000 - mean_absolute_error: 3024.1919 - val_loss: 3133.2603 - val_mean_squared_error: 30409106.0000 - val_mean_absolute_error: 3133.2603\n",
      "Epoch 15/100\n",
      "251/251 [==============================] - 4s 17ms/step - loss: 2986.8411 - mean_squared_error: 66019692.0000 - mean_absolute_error: 2986.8411 - val_loss: 4104.4214 - val_mean_squared_error: 48680068.0000 - val_mean_absolute_error: 4104.4214\n",
      "Epoch 16/100\n",
      "251/251 [==============================] - 4s 17ms/step - loss: 2973.3376 - mean_squared_error: 66388104.0000 - mean_absolute_error: 2973.3376 - val_loss: 3883.8286 - val_mean_squared_error: 42468896.0000 - val_mean_absolute_error: 3883.8286\n",
      "Epoch 17/100\n",
      "251/251 [==============================] - 4s 17ms/step - loss: 2877.0176 - mean_squared_error: 64518180.0000 - mean_absolute_error: 2877.0176 - val_loss: 3292.9180 - val_mean_squared_error: 35287576.0000 - val_mean_absolute_error: 3292.9180\n",
      "Epoch 18/100\n",
      "251/251 [==============================] - 4s 16ms/step - loss: 2895.0376 - mean_squared_error: 62497644.0000 - mean_absolute_error: 2895.0376 - val_loss: 3497.4167 - val_mean_squared_error: 38308200.0000 - val_mean_absolute_error: 3497.4167\n",
      "81/81 [==============================] - 1s 10ms/step - loss: 3740.4731 - mean_squared_error: 73177000.0000 - mean_absolute_error: 3740.4734\n",
      "9/9 [==============================] - 0s 35ms/step - loss: 2610.4329 - mean_squared_error: 24242234.0000 - mean_absolute_error: 2610.4329\n",
      "_______________________________________STORE_19______________________________________\n",
      "Epoch 1/100\n",
      "WARNING:tensorflow:Model was constructed with shape (None, None, 103) for input KerasTensor(type_spec=TensorSpec(shape=(None, None, 103), dtype=tf.float32, name='dense_504_input'), name='dense_504_input', description=\"created by layer 'dense_504_input'\"), but it was called on an input with incompatible shape (None, 103).\n",
      "WARNING:tensorflow:Model was constructed with shape (None, None, 103) for input KerasTensor(type_spec=TensorSpec(shape=(None, None, 103), dtype=tf.float32, name='dense_504_input'), name='dense_504_input', description=\"created by layer 'dense_504_input'\"), but it was called on an input with incompatible shape (None, 103).\n"
     ]
    },
    {
     "name": "stderr",
     "output_type": "stream",
     "text": [
      "2022-12-17 13:42:33.234636: I tensorflow/core/grappler/optimizers/custom_graph_optimizer_registry.cc:114] Plugin optimizer for device_type GPU is enabled.\n"
     ]
    },
    {
     "name": "stdout",
     "output_type": "stream",
     "text": [
      "259/259 [==============================] - ETA: 0s - loss: 9498.5928 - mean_squared_error: 342236064.0000 - mean_absolute_error: 9498.5928WARNING:tensorflow:Model was constructed with shape (None, None, 103) for input KerasTensor(type_spec=TensorSpec(shape=(None, None, 103), dtype=tf.float32, name='dense_504_input'), name='dense_504_input', description=\"created by layer 'dense_504_input'\"), but it was called on an input with incompatible shape (None, 103).\n"
     ]
    },
    {
     "name": "stderr",
     "output_type": "stream",
     "text": [
      "2022-12-17 13:42:39.991271: I tensorflow/core/grappler/optimizers/custom_graph_optimizer_registry.cc:114] Plugin optimizer for device_type GPU is enabled.\n"
     ]
    },
    {
     "name": "stdout",
     "output_type": "stream",
     "text": [
      "259/259 [==============================] - 8s 25ms/step - loss: 9498.5928 - mean_squared_error: 342236064.0000 - mean_absolute_error: 9498.5928 - val_loss: 5136.9185 - val_mean_squared_error: 93761000.0000 - val_mean_absolute_error: 5136.9185\n",
      "Epoch 2/100\n",
      "259/259 [==============================] - 4s 17ms/step - loss: 5149.9341 - mean_squared_error: 112545672.0000 - mean_absolute_error: 5149.9341 - val_loss: 5034.9443 - val_mean_squared_error: 79945560.0000 - val_mean_absolute_error: 5034.9443\n",
      "Epoch 3/100\n",
      "259/259 [==============================] - 4s 17ms/step - loss: 4755.3643 - mean_squared_error: 105000752.0000 - mean_absolute_error: 4755.3643 - val_loss: 3680.8042 - val_mean_squared_error: 65495984.0000 - val_mean_absolute_error: 3680.8042\n",
      "Epoch 4/100\n",
      "259/259 [==============================] - 4s 16ms/step - loss: 4530.3848 - mean_squared_error: 99961568.0000 - mean_absolute_error: 4530.3848 - val_loss: 3916.1248 - val_mean_squared_error: 63188296.0000 - val_mean_absolute_error: 3916.1248\n",
      "Epoch 5/100\n",
      "259/259 [==============================] - 4s 16ms/step - loss: 4362.8281 - mean_squared_error: 98351576.0000 - mean_absolute_error: 4362.8281 - val_loss: 3953.4443 - val_mean_squared_error: 68536248.0000 - val_mean_absolute_error: 3953.4443\n",
      "Epoch 6/100\n",
      "259/259 [==============================] - 4s 16ms/step - loss: 4171.3647 - mean_squared_error: 92823032.0000 - mean_absolute_error: 4171.3647 - val_loss: 3802.1050 - val_mean_squared_error: 69015912.0000 - val_mean_absolute_error: 3802.1050\n",
      "Epoch 7/100\n",
      "259/259 [==============================] - 4s 16ms/step - loss: 4083.2061 - mean_squared_error: 92207736.0000 - mean_absolute_error: 4083.2061 - val_loss: 4928.6206 - val_mean_squared_error: 83176312.0000 - val_mean_absolute_error: 4928.6206\n",
      "83/83 [==============================] - 1s 9ms/step - loss: 4566.0527 - mean_squared_error: 112579064.0000 - mean_absolute_error: 4566.0527\n",
      "10/10 [==============================] - 0s 28ms/step - loss: 3255.0654 - mean_squared_error: 39997932.0000 - mean_absolute_error: 3255.0654\n",
      "_______________________________________STORE_20______________________________________\n",
      "Epoch 1/100\n",
      "WARNING:tensorflow:Model was constructed with shape (None, None, 103) for input KerasTensor(type_spec=TensorSpec(shape=(None, None, 103), dtype=tf.float32, name='dense_512_input'), name='dense_512_input', description=\"created by layer 'dense_512_input'\"), but it was called on an input with incompatible shape (None, 103).\n",
      "WARNING:tensorflow:Model was constructed with shape (None, None, 103) for input KerasTensor(type_spec=TensorSpec(shape=(None, None, 103), dtype=tf.float32, name='dense_512_input'), name='dense_512_input', description=\"created by layer 'dense_512_input'\"), but it was called on an input with incompatible shape (None, 103).\n"
     ]
    },
    {
     "name": "stderr",
     "output_type": "stream",
     "text": [
      "2022-12-17 13:43:08.615077: I tensorflow/core/grappler/optimizers/custom_graph_optimizer_registry.cc:114] Plugin optimizer for device_type GPU is enabled.\n"
     ]
    },
    {
     "name": "stdout",
     "output_type": "stream",
     "text": [
      "261/261 [==============================] - ETA: 0s - loss: 13573.6533 - mean_squared_error: 680804736.0000 - mean_absolute_error: 13573.6533WARNING:tensorflow:Model was constructed with shape (None, None, 103) for input KerasTensor(type_spec=TensorSpec(shape=(None, None, 103), dtype=tf.float32, name='dense_512_input'), name='dense_512_input', description=\"created by layer 'dense_512_input'\"), but it was called on an input with incompatible shape (None, 103).\n"
     ]
    },
    {
     "name": "stderr",
     "output_type": "stream",
     "text": [
      "2022-12-17 13:43:17.438603: I tensorflow/core/grappler/optimizers/custom_graph_optimizer_registry.cc:114] Plugin optimizer for device_type GPU is enabled.\n"
     ]
    },
    {
     "name": "stdout",
     "output_type": "stream",
     "text": [
      "261/261 [==============================] - 10s 25ms/step - loss: 13573.6533 - mean_squared_error: 680804736.0000 - mean_absolute_error: 13573.6533 - val_loss: 11772.0605 - val_mean_squared_error: 342983904.0000 - val_mean_absolute_error: 11772.0615\n",
      "Epoch 2/100\n",
      "261/261 [==============================] - 4s 17ms/step - loss: 7339.4673 - mean_squared_error: 215962064.0000 - mean_absolute_error: 7339.4673 - val_loss: 4736.1401 - val_mean_squared_error: 74566720.0000 - val_mean_absolute_error: 4736.1401\n",
      "Epoch 3/100\n",
      "261/261 [==============================] - 4s 17ms/step - loss: 6924.4507 - mean_squared_error: 201761408.0000 - mean_absolute_error: 6924.4507 - val_loss: 5927.5933 - val_mean_squared_error: 113531968.0000 - val_mean_absolute_error: 5927.5933\n",
      "Epoch 4/100\n",
      "261/261 [==============================] - 4s 17ms/step - loss: 6492.1426 - mean_squared_error: 186772400.0000 - mean_absolute_error: 6492.1426 - val_loss: 17664.8848 - val_mean_squared_error: 605904128.0000 - val_mean_absolute_error: 17664.8848\n",
      "Epoch 5/100\n",
      "261/261 [==============================] - 4s 17ms/step - loss: 6350.5073 - mean_squared_error: 183494320.0000 - mean_absolute_error: 6350.5073 - val_loss: 8487.9365 - val_mean_squared_error: 146786128.0000 - val_mean_absolute_error: 8487.9365\n",
      "Epoch 6/100\n",
      "261/261 [==============================] - 4s 17ms/step - loss: 6031.2451 - mean_squared_error: 175092096.0000 - mean_absolute_error: 6031.2451 - val_loss: 6751.1587 - val_mean_squared_error: 99079632.0000 - val_mean_absolute_error: 6751.1587\n",
      "84/84 [==============================] - 1s 11ms/step - loss: 5649.9165 - mean_squared_error: 174487200.0000 - mean_absolute_error: 5649.9165\n",
      "10/10 [==============================] - 0s 34ms/step - loss: 4260.8335 - mean_squared_error: 44317392.0000 - mean_absolute_error: 4260.8335\n",
      "_______________________________________STORE_21______________________________________\n",
      "Epoch 1/100\n",
      "WARNING:tensorflow:Model was constructed with shape (None, None, 103) for input KerasTensor(type_spec=TensorSpec(shape=(None, None, 103), dtype=tf.float32, name='dense_520_input'), name='dense_520_input', description=\"created by layer 'dense_520_input'\"), but it was called on an input with incompatible shape (None, 103).\n",
      "WARNING:tensorflow:Model was constructed with shape (None, None, 103) for input KerasTensor(type_spec=TensorSpec(shape=(None, None, 103), dtype=tf.float32, name='dense_520_input'), name='dense_520_input', description=\"created by layer 'dense_520_input'\"), but it was called on an input with incompatible shape (None, 103).\n"
     ]
    },
    {
     "name": "stderr",
     "output_type": "stream",
     "text": [
      "2022-12-17 13:43:42.608108: I tensorflow/core/grappler/optimizers/custom_graph_optimizer_registry.cc:114] Plugin optimizer for device_type GPU is enabled.\n"
     ]
    },
    {
     "name": "stdout",
     "output_type": "stream",
     "text": [
      "244/244 [==============================] - ETA: 0s - loss: 5042.9922 - mean_squared_error: 99999112.0000 - mean_absolute_error: 5042.9922 WARNING:tensorflow:Model was constructed with shape (None, None, 103) for input KerasTensor(type_spec=TensorSpec(shape=(None, None, 103), dtype=tf.float32, name='dense_520_input'), name='dense_520_input', description=\"created by layer 'dense_520_input'\"), but it was called on an input with incompatible shape (None, 103).\n"
     ]
    },
    {
     "name": "stderr",
     "output_type": "stream",
     "text": [
      "2022-12-17 13:43:52.885130: I tensorflow/core/grappler/optimizers/custom_graph_optimizer_registry.cc:114] Plugin optimizer for device_type GPU is enabled.\n"
     ]
    },
    {
     "name": "stdout",
     "output_type": "stream",
     "text": [
      "244/244 [==============================] - 12s 28ms/step - loss: 5042.9922 - mean_squared_error: 99999112.0000 - mean_absolute_error: 5042.9922 - val_loss: 5976.1445 - val_mean_squared_error: 66515976.0000 - val_mean_absolute_error: 5976.1445\n",
      "Epoch 2/100\n",
      "244/244 [==============================] - 4s 17ms/step - loss: 2930.0933 - mean_squared_error: 48848360.0000 - mean_absolute_error: 2930.0933 - val_loss: 1833.6097 - val_mean_squared_error: 9084056.0000 - val_mean_absolute_error: 1833.6097\n",
      "Epoch 3/100\n",
      "244/244 [==============================] - 4s 17ms/step - loss: 2697.6333 - mean_squared_error: 46235328.0000 - mean_absolute_error: 2697.6333 - val_loss: 2744.4089 - val_mean_squared_error: 17818268.0000 - val_mean_absolute_error: 2744.4089\n",
      "Epoch 4/100\n",
      "244/244 [==============================] - 4s 18ms/step - loss: 2615.0959 - mean_squared_error: 46890604.0000 - mean_absolute_error: 2615.0959 - val_loss: 1511.0588 - val_mean_squared_error: 7034373.0000 - val_mean_absolute_error: 1511.0588\n",
      "Epoch 5/100\n",
      "244/244 [==============================] - 4s 17ms/step - loss: 2499.3640 - mean_squared_error: 45593348.0000 - mean_absolute_error: 2499.3640 - val_loss: 1755.7001 - val_mean_squared_error: 9211142.0000 - val_mean_absolute_error: 1755.7001\n",
      "Epoch 6/100\n",
      "244/244 [==============================] - 4s 17ms/step - loss: 2413.6882 - mean_squared_error: 44620120.0000 - mean_absolute_error: 2413.6882 - val_loss: 2076.7424 - val_mean_squared_error: 9970629.0000 - val_mean_absolute_error: 2076.7424\n",
      "Epoch 7/100\n",
      "244/244 [==============================] - 4s 17ms/step - loss: 2350.5955 - mean_squared_error: 42267844.0000 - mean_absolute_error: 2350.5955 - val_loss: 1622.4061 - val_mean_squared_error: 6620809.5000 - val_mean_absolute_error: 1622.4061\n",
      "Epoch 8/100\n",
      "244/244 [==============================] - 4s 16ms/step - loss: 2275.6987 - mean_squared_error: 42237324.0000 - mean_absolute_error: 2275.6987 - val_loss: 2081.4705 - val_mean_squared_error: 9645449.0000 - val_mean_absolute_error: 2081.4705\n",
      "79/79 [==============================] - 1s 11ms/step - loss: 2153.8845 - mean_squared_error: 40632120.0000 - mean_absolute_error: 2153.8845\n",
      "9/9 [==============================] - 0s 51ms/step - loss: 1894.9803 - mean_squared_error: 18241006.0000 - mean_absolute_error: 1894.9803\n",
      "_______________________________________STORE_22______________________________________\n",
      "Epoch 1/100\n",
      "WARNING:tensorflow:Model was constructed with shape (None, None, 103) for input KerasTensor(type_spec=TensorSpec(shape=(None, None, 103), dtype=tf.float32, name='dense_528_input'), name='dense_528_input', description=\"created by layer 'dense_528_input'\"), but it was called on an input with incompatible shape (None, 103).\n",
      "WARNING:tensorflow:Model was constructed with shape (None, None, 103) for input KerasTensor(type_spec=TensorSpec(shape=(None, None, 103), dtype=tf.float32, name='dense_528_input'), name='dense_528_input', description=\"created by layer 'dense_528_input'\"), but it was called on an input with incompatible shape (None, 103).\n"
     ]
    },
    {
     "name": "stderr",
     "output_type": "stream",
     "text": [
      "2022-12-17 13:44:25.272398: I tensorflow/core/grappler/optimizers/custom_graph_optimizer_registry.cc:114] Plugin optimizer for device_type GPU is enabled.\n"
     ]
    },
    {
     "name": "stdout",
     "output_type": "stream",
     "text": [
      "247/247 [==============================] - ETA: 0s - loss: 6965.3965 - mean_squared_error: 191244848.0000 - mean_absolute_error: 6965.3965WARNING:tensorflow:Model was constructed with shape (None, None, 103) for input KerasTensor(type_spec=TensorSpec(shape=(None, None, 103), dtype=tf.float32, name='dense_528_input'), name='dense_528_input', description=\"created by layer 'dense_528_input'\"), but it was called on an input with incompatible shape (None, 103).\n"
     ]
    },
    {
     "name": "stderr",
     "output_type": "stream",
     "text": [
      "2022-12-17 13:44:35.730915: I tensorflow/core/grappler/optimizers/custom_graph_optimizer_registry.cc:114] Plugin optimizer for device_type GPU is enabled.\n"
     ]
    },
    {
     "name": "stdout",
     "output_type": "stream",
     "text": [
      "247/247 [==============================] - 12s 26ms/step - loss: 6965.3965 - mean_squared_error: 191244848.0000 - mean_absolute_error: 6965.3965 - val_loss: 5524.1011 - val_mean_squared_error: 87916152.0000 - val_mean_absolute_error: 5524.1011\n",
      "Epoch 2/100\n",
      "247/247 [==============================] - 4s 18ms/step - loss: 4013.0461 - mean_squared_error: 91272648.0000 - mean_absolute_error: 4013.0461 - val_loss: 5696.4087 - val_mean_squared_error: 70491352.0000 - val_mean_absolute_error: 5696.4087\n",
      "Epoch 3/100\n",
      "247/247 [==============================] - 4s 17ms/step - loss: 3787.3003 - mean_squared_error: 87967256.0000 - mean_absolute_error: 3787.3003 - val_loss: 4972.9751 - val_mean_squared_error: 66516884.0000 - val_mean_absolute_error: 4972.9751\n",
      "Epoch 4/100\n",
      "247/247 [==============================] - 4s 18ms/step - loss: 3601.8044 - mean_squared_error: 86953960.0000 - mean_absolute_error: 3601.8044 - val_loss: 3815.4788 - val_mean_squared_error: 42152096.0000 - val_mean_absolute_error: 3815.4788\n",
      "Epoch 5/100\n",
      "247/247 [==============================] - 4s 17ms/step - loss: 3487.7532 - mean_squared_error: 86880032.0000 - mean_absolute_error: 3487.7532 - val_loss: 4342.2070 - val_mean_squared_error: 49548304.0000 - val_mean_absolute_error: 4342.2070\n",
      "Epoch 6/100\n",
      "247/247 [==============================] - 4s 17ms/step - loss: 3384.4114 - mean_squared_error: 82081032.0000 - mean_absolute_error: 3384.4114 - val_loss: 4160.7080 - val_mean_squared_error: 45358656.0000 - val_mean_absolute_error: 4160.7080\n",
      "Epoch 7/100\n",
      "247/247 [==============================] - 4s 17ms/step - loss: 3287.5942 - mean_squared_error: 79616464.0000 - mean_absolute_error: 3287.5942 - val_loss: 2695.2690 - val_mean_squared_error: 35434176.0000 - val_mean_absolute_error: 2695.2690\n",
      "Epoch 8/100\n",
      "247/247 [==============================] - 4s 16ms/step - loss: 3222.9973 - mean_squared_error: 77820400.0000 - mean_absolute_error: 3222.9973 - val_loss: 5307.8374 - val_mean_squared_error: 65791432.0000 - val_mean_absolute_error: 5307.8374\n",
      "Epoch 9/100\n",
      "247/247 [==============================] - 4s 16ms/step - loss: 3116.9126 - mean_squared_error: 77432176.0000 - mean_absolute_error: 3116.9126 - val_loss: 5760.1519 - val_mean_squared_error: 89247488.0000 - val_mean_absolute_error: 5760.1519\n",
      "Epoch 10/100\n",
      "247/247 [==============================] - 4s 17ms/step - loss: 3093.9927 - mean_squared_error: 77331856.0000 - mean_absolute_error: 3093.9927 - val_loss: 3030.8394 - val_mean_squared_error: 40273872.0000 - val_mean_absolute_error: 3030.8394\n",
      "Epoch 11/100\n",
      "247/247 [==============================] - 4s 18ms/step - loss: 2997.0144 - mean_squared_error: 72849376.0000 - mean_absolute_error: 2997.0144 - val_loss: 3618.5986 - val_mean_squared_error: 51702080.0000 - val_mean_absolute_error: 3618.5986\n",
      "79/79 [==============================] - 1s 12ms/step - loss: 2688.1475 - mean_squared_error: 69845408.0000 - mean_absolute_error: 2688.1475\n",
      "9/9 [==============================] - 0s 51ms/step - loss: 2069.6323 - mean_squared_error: 16842804.0000 - mean_absolute_error: 2069.6323\n",
      "_______________________________________STORE_23______________________________________\n",
      "Epoch 1/100\n",
      "WARNING:tensorflow:Model was constructed with shape (None, None, 103) for input KerasTensor(type_spec=TensorSpec(shape=(None, None, 103), dtype=tf.float32, name='dense_536_input'), name='dense_536_input', description=\"created by layer 'dense_536_input'\"), but it was called on an input with incompatible shape (None, 103).\n",
      "WARNING:tensorflow:Model was constructed with shape (None, None, 103) for input KerasTensor(type_spec=TensorSpec(shape=(None, None, 103), dtype=tf.float32, name='dense_536_input'), name='dense_536_input', description=\"created by layer 'dense_536_input'\"), but it was called on an input with incompatible shape (None, 103).\n"
     ]
    },
    {
     "name": "stderr",
     "output_type": "stream",
     "text": [
      "2022-12-17 13:45:20.845790: I tensorflow/core/grappler/optimizers/custom_graph_optimizer_registry.cc:114] Plugin optimizer for device_type GPU is enabled.\n"
     ]
    },
    {
     "name": "stdout",
     "output_type": "stream",
     "text": [
      "257/257 [==============================] - ETA: 0s - loss: 8824.5088 - mean_squared_error: 261266288.0000 - mean_absolute_error: 8824.5088WARNING:tensorflow:Model was constructed with shape (None, None, 103) for input KerasTensor(type_spec=TensorSpec(shape=(None, None, 103), dtype=tf.float32, name='dense_536_input'), name='dense_536_input', description=\"created by layer 'dense_536_input'\"), but it was called on an input with incompatible shape (None, 103).\n"
     ]
    },
    {
     "name": "stderr",
     "output_type": "stream",
     "text": [
      "2022-12-17 13:45:28.152961: I tensorflow/core/grappler/optimizers/custom_graph_optimizer_registry.cc:114] Plugin optimizer for device_type GPU is enabled.\n"
     ]
    },
    {
     "name": "stdout",
     "output_type": "stream",
     "text": [
      "257/257 [==============================] - 8s 26ms/step - loss: 8824.5088 - mean_squared_error: 261266288.0000 - mean_absolute_error: 8824.5088 - val_loss: 5103.7085 - val_mean_squared_error: 80665088.0000 - val_mean_absolute_error: 5103.7085\n",
      "Epoch 2/100\n",
      "257/257 [==============================] - 4s 17ms/step - loss: 5654.1748 - mean_squared_error: 147447840.0000 - mean_absolute_error: 5654.1748 - val_loss: 7787.7837 - val_mean_squared_error: 162424512.0000 - val_mean_absolute_error: 7787.7837\n",
      "Epoch 3/100\n",
      "257/257 [==============================] - 4s 17ms/step - loss: 5352.1748 - mean_squared_error: 139992464.0000 - mean_absolute_error: 5352.1748 - val_loss: 9967.0176 - val_mean_squared_error: 200810144.0000 - val_mean_absolute_error: 9967.0176\n",
      "Epoch 4/100\n",
      "257/257 [==============================] - 4s 16ms/step - loss: 5103.6641 - mean_squared_error: 134154480.0000 - mean_absolute_error: 5103.6641 - val_loss: 4282.5171 - val_mean_squared_error: 75236520.0000 - val_mean_absolute_error: 4282.5171\n",
      "Epoch 5/100\n",
      "257/257 [==============================] - 4s 16ms/step - loss: 4859.6118 - mean_squared_error: 124642704.0000 - mean_absolute_error: 4859.6118 - val_loss: 4900.4004 - val_mean_squared_error: 75861720.0000 - val_mean_absolute_error: 4900.4004\n",
      "Epoch 6/100\n",
      "257/257 [==============================] - 4s 17ms/step - loss: 4670.9717 - mean_squared_error: 122528216.0000 - mean_absolute_error: 4670.9717 - val_loss: 3719.7271 - val_mean_squared_error: 63299184.0000 - val_mean_absolute_error: 3719.7271\n",
      "Epoch 7/100\n",
      "257/257 [==============================] - 4s 17ms/step - loss: 4493.6294 - mean_squared_error: 117576712.0000 - mean_absolute_error: 4493.6294 - val_loss: 4151.7266 - val_mean_squared_error: 71646680.0000 - val_mean_absolute_error: 4151.7266\n",
      "Epoch 8/100\n",
      "257/257 [==============================] - 4s 17ms/step - loss: 4396.4146 - mean_squared_error: 111344456.0000 - mean_absolute_error: 4396.4146 - val_loss: 5499.2168 - val_mean_squared_error: 92942512.0000 - val_mean_absolute_error: 5499.2168\n",
      "Epoch 9/100\n",
      "257/257 [==============================] - 4s 16ms/step - loss: 4224.3286 - mean_squared_error: 107695992.0000 - mean_absolute_error: 4224.3286 - val_loss: 6702.9814 - val_mean_squared_error: 123120216.0000 - val_mean_absolute_error: 6702.9814\n",
      "Epoch 10/100\n",
      "257/257 [==============================] - 4s 17ms/step - loss: 4138.9780 - mean_squared_error: 106269208.0000 - mean_absolute_error: 4138.9780 - val_loss: 4666.7896 - val_mean_squared_error: 77152856.0000 - val_mean_absolute_error: 4666.7896\n",
      "83/83 [==============================] - 1s 15ms/step - loss: 3842.6125 - mean_squared_error: 102399384.0000 - mean_absolute_error: 3842.6125\n",
      "10/10 [==============================] - 1s 55ms/step - loss: 3041.6375 - mean_squared_error: 33466610.0000 - mean_absolute_error: 3041.6375\n",
      "_______________________________________STORE_24______________________________________\n",
      "Epoch 1/100\n",
      "WARNING:tensorflow:Model was constructed with shape (None, None, 103) for input KerasTensor(type_spec=TensorSpec(shape=(None, None, 103), dtype=tf.float32, name='dense_544_input'), name='dense_544_input', description=\"created by layer 'dense_544_input'\"), but it was called on an input with incompatible shape (None, 103).\n",
      "WARNING:tensorflow:Model was constructed with shape (None, None, 103) for input KerasTensor(type_spec=TensorSpec(shape=(None, None, 103), dtype=tf.float32, name='dense_544_input'), name='dense_544_input', description=\"created by layer 'dense_544_input'\"), but it was called on an input with incompatible shape (None, 103).\n"
     ]
    },
    {
     "name": "stderr",
     "output_type": "stream",
     "text": [
      "2022-12-17 13:46:10.057580: I tensorflow/core/grappler/optimizers/custom_graph_optimizer_registry.cc:114] Plugin optimizer for device_type GPU is enabled.\n"
     ]
    },
    {
     "name": "stdout",
     "output_type": "stream",
     "text": [
      "262/262 [==============================] - ETA: 0s - loss: 8734.7158 - mean_squared_error: 296651808.0000 - mean_absolute_error: 8734.7158WARNING:tensorflow:Model was constructed with shape (None, None, 103) for input KerasTensor(type_spec=TensorSpec(shape=(None, None, 103), dtype=tf.float32, name='dense_544_input'), name='dense_544_input', description=\"created by layer 'dense_544_input'\"), but it was called on an input with incompatible shape (None, 103).\n"
     ]
    },
    {
     "name": "stderr",
     "output_type": "stream",
     "text": [
      "2022-12-17 13:46:18.060438: I tensorflow/core/grappler/optimizers/custom_graph_optimizer_registry.cc:114] Plugin optimizer for device_type GPU is enabled.\n"
     ]
    },
    {
     "name": "stdout",
     "output_type": "stream",
     "text": [
      "262/262 [==============================] - 10s 27ms/step - loss: 8734.7158 - mean_squared_error: 296651808.0000 - mean_absolute_error: 8734.7158 - val_loss: 5646.6553 - val_mean_squared_error: 89137520.0000 - val_mean_absolute_error: 5646.6553\n",
      "Epoch 2/100\n",
      "262/262 [==============================] - 5s 17ms/step - loss: 4559.0107 - mean_squared_error: 76296808.0000 - mean_absolute_error: 4559.0107 - val_loss: 9350.6035 - val_mean_squared_error: 213351808.0000 - val_mean_absolute_error: 9350.6035\n",
      "Epoch 3/100\n",
      "262/262 [==============================] - 4s 16ms/step - loss: 4235.9492 - mean_squared_error: 70429824.0000 - mean_absolute_error: 4235.9492 - val_loss: 8427.2412 - val_mean_squared_error: 140550016.0000 - val_mean_absolute_error: 8427.2412\n",
      "Epoch 4/100\n",
      "262/262 [==============================] - 4s 16ms/step - loss: 3979.3770 - mean_squared_error: 64553252.0000 - mean_absolute_error: 3979.3770 - val_loss: 6828.5645 - val_mean_squared_error: 100542080.0000 - val_mean_absolute_error: 6828.5645\n",
      "Epoch 5/100\n",
      "262/262 [==============================] - 4s 17ms/step - loss: 3808.4133 - mean_squared_error: 61696480.0000 - mean_absolute_error: 3808.4133 - val_loss: 4285.3975 - val_mean_squared_error: 60226164.0000 - val_mean_absolute_error: 4285.3975\n",
      "Epoch 6/100\n",
      "262/262 [==============================] - 4s 16ms/step - loss: 3703.8413 - mean_squared_error: 59096412.0000 - mean_absolute_error: 3703.8413 - val_loss: 3639.9966 - val_mean_squared_error: 39298404.0000 - val_mean_absolute_error: 3639.9966\n",
      "Epoch 7/100\n",
      "262/262 [==============================] - 4s 16ms/step - loss: 3509.3049 - mean_squared_error: 54630336.0000 - mean_absolute_error: 3509.3049 - val_loss: 6136.3428 - val_mean_squared_error: 74417896.0000 - val_mean_absolute_error: 6136.3428\n",
      "Epoch 8/100\n",
      "262/262 [==============================] - 4s 16ms/step - loss: 3419.8396 - mean_squared_error: 54131748.0000 - mean_absolute_error: 3419.8396 - val_loss: 2937.7500 - val_mean_squared_error: 31051390.0000 - val_mean_absolute_error: 2937.7500\n",
      "Epoch 9/100\n",
      "262/262 [==============================] - 4s 16ms/step - loss: 3362.8616 - mean_squared_error: 52666244.0000 - mean_absolute_error: 3362.8616 - val_loss: 3225.6602 - val_mean_squared_error: 34366148.0000 - val_mean_absolute_error: 3225.6602\n",
      "Epoch 10/100\n",
      "262/262 [==============================] - 4s 17ms/step - loss: 3293.5686 - mean_squared_error: 49872696.0000 - mean_absolute_error: 3293.5686 - val_loss: 3839.9807 - val_mean_squared_error: 51786516.0000 - val_mean_absolute_error: 3839.9807\n",
      "Epoch 11/100\n",
      "262/262 [==============================] - 4s 16ms/step - loss: 3193.2085 - mean_squared_error: 50041304.0000 - mean_absolute_error: 3193.2085 - val_loss: 5974.9829 - val_mean_squared_error: 95414688.0000 - val_mean_absolute_error: 5974.9829\n",
      "Epoch 12/100\n",
      "262/262 [==============================] - 4s 17ms/step - loss: 3192.0190 - mean_squared_error: 49363412.0000 - mean_absolute_error: 3192.0190 - val_loss: 7051.5356 - val_mean_squared_error: 124046912.0000 - val_mean_absolute_error: 7051.5356\n",
      "84/84 [==============================] - 1s 10ms/step - loss: 3116.5415 - mean_squared_error: 49037084.0000 - mean_absolute_error: 3116.5415\n",
      "10/10 [==============================] - 0s 16ms/step - loss: 2552.7261 - mean_squared_error: 17630932.0000 - mean_absolute_error: 2552.7261\n",
      "_______________________________________STORE_25______________________________________\n",
      "Epoch 1/100\n",
      "WARNING:tensorflow:Model was constructed with shape (None, None, 103) for input KerasTensor(type_spec=TensorSpec(shape=(None, None, 103), dtype=tf.float32, name='dense_552_input'), name='dense_552_input', description=\"created by layer 'dense_552_input'\"), but it was called on an input with incompatible shape (None, 103).\n",
      "WARNING:tensorflow:Model was constructed with shape (None, None, 103) for input KerasTensor(type_spec=TensorSpec(shape=(None, None, 103), dtype=tf.float32, name='dense_552_input'), name='dense_552_input', description=\"created by layer 'dense_552_input'\"), but it was called on an input with incompatible shape (None, 103).\n"
     ]
    },
    {
     "name": "stderr",
     "output_type": "stream",
     "text": [
      "2022-12-17 13:47:08.937210: I tensorflow/core/grappler/optimizers/custom_graph_optimizer_registry.cc:114] Plugin optimizer for device_type GPU is enabled.\n"
     ]
    },
    {
     "name": "stdout",
     "output_type": "stream",
     "text": [
      "250/250 [==============================] - ETA: 0s - loss: 5221.1626 - mean_squared_error: 98150688.0000 - mean_absolute_error: 5221.1626WARNING:tensorflow:Model was constructed with shape (None, None, 103) for input KerasTensor(type_spec=TensorSpec(shape=(None, None, 103), dtype=tf.float32, name='dense_552_input'), name='dense_552_input', description=\"created by layer 'dense_552_input'\"), but it was called on an input with incompatible shape (None, 103).\n"
     ]
    },
    {
     "name": "stderr",
     "output_type": "stream",
     "text": [
      "2022-12-17 13:47:16.825938: I tensorflow/core/grappler/optimizers/custom_graph_optimizer_registry.cc:114] Plugin optimizer for device_type GPU is enabled.\n"
     ]
    },
    {
     "name": "stdout",
     "output_type": "stream",
     "text": [
      "250/250 [==============================] - 9s 29ms/step - loss: 5221.1626 - mean_squared_error: 98150688.0000 - mean_absolute_error: 5221.1626 - val_loss: 3706.2063 - val_mean_squared_error: 44396480.0000 - val_mean_absolute_error: 3706.2063\n",
      "Epoch 2/100\n",
      "250/250 [==============================] - 4s 18ms/step - loss: 2888.1277 - mean_squared_error: 37239216.0000 - mean_absolute_error: 2888.1277 - val_loss: 2328.5789 - val_mean_squared_error: 18216782.0000 - val_mean_absolute_error: 2328.5789\n",
      "Epoch 3/100\n",
      "250/250 [==============================] - 4s 17ms/step - loss: 2677.2346 - mean_squared_error: 34587328.0000 - mean_absolute_error: 2677.2346 - val_loss: 2172.9758 - val_mean_squared_error: 19115422.0000 - val_mean_absolute_error: 2172.9758\n",
      "Epoch 4/100\n",
      "250/250 [==============================] - 4s 16ms/step - loss: 2542.5715 - mean_squared_error: 34506380.0000 - mean_absolute_error: 2542.5715 - val_loss: 3164.3528 - val_mean_squared_error: 29610434.0000 - val_mean_absolute_error: 3164.3528\n",
      "Epoch 5/100\n",
      "250/250 [==============================] - 4s 16ms/step - loss: 2407.1396 - mean_squared_error: 31463296.0000 - mean_absolute_error: 2407.1396 - val_loss: 2123.7581 - val_mean_squared_error: 18774708.0000 - val_mean_absolute_error: 2123.7581\n",
      "Epoch 6/100\n",
      "250/250 [==============================] - 4s 16ms/step - loss: 2338.4136 - mean_squared_error: 31077908.0000 - mean_absolute_error: 2338.4136 - val_loss: 2091.8552 - val_mean_squared_error: 18361132.0000 - val_mean_absolute_error: 2091.8552\n",
      "Epoch 7/100\n",
      "250/250 [==============================] - 4s 17ms/step - loss: 2257.5508 - mean_squared_error: 28900858.0000 - mean_absolute_error: 2257.5508 - val_loss: 2132.5620 - val_mean_squared_error: 19794708.0000 - val_mean_absolute_error: 2132.5620\n",
      "80/80 [==============================] - 1s 15ms/step - loss: 2005.3854 - mean_squared_error: 28706584.0000 - mean_absolute_error: 2005.3854\n",
      "9/9 [==============================] - 0s 20ms/step - loss: 1774.5231 - mean_squared_error: 10931244.0000 - mean_absolute_error: 1774.5231\n",
      "_______________________________________STORE_26______________________________________\n",
      "Epoch 1/100\n",
      "WARNING:tensorflow:Model was constructed with shape (None, None, 103) for input KerasTensor(type_spec=TensorSpec(shape=(None, None, 103), dtype=tf.float32, name='dense_560_input'), name='dense_560_input', description=\"created by layer 'dense_560_input'\"), but it was called on an input with incompatible shape (None, 103).\n",
      "WARNING:tensorflow:Model was constructed with shape (None, None, 103) for input KerasTensor(type_spec=TensorSpec(shape=(None, None, 103), dtype=tf.float32, name='dense_560_input'), name='dense_560_input', description=\"created by layer 'dense_560_input'\"), but it was called on an input with incompatible shape (None, 103).\n"
     ]
    },
    {
     "name": "stderr",
     "output_type": "stream",
     "text": [
      "2022-12-17 13:47:45.032956: I tensorflow/core/grappler/optimizers/custom_graph_optimizer_registry.cc:114] Plugin optimizer for device_type GPU is enabled.\n"
     ]
    },
    {
     "name": "stdout",
     "output_type": "stream",
     "text": [
      "252/252 [==============================] - ETA: 0s - loss: 7224.7964 - mean_squared_error: 218614816.0000 - mean_absolute_error: 7224.7964WARNING:tensorflow:Model was constructed with shape (None, None, 103) for input KerasTensor(type_spec=TensorSpec(shape=(None, None, 103), dtype=tf.float32, name='dense_560_input'), name='dense_560_input', description=\"created by layer 'dense_560_input'\"), but it was called on an input with incompatible shape (None, 103).\n"
     ]
    },
    {
     "name": "stderr",
     "output_type": "stream",
     "text": [
      "2022-12-17 13:47:56.004278: I tensorflow/core/grappler/optimizers/custom_graph_optimizer_registry.cc:114] Plugin optimizer for device_type GPU is enabled.\n"
     ]
    },
    {
     "name": "stdout",
     "output_type": "stream",
     "text": [
      "252/252 [==============================] - 12s 27ms/step - loss: 7224.7964 - mean_squared_error: 218614816.0000 - mean_absolute_error: 7224.7964 - val_loss: 3270.5813 - val_mean_squared_error: 23548060.0000 - val_mean_absolute_error: 3270.5813\n",
      "Epoch 2/100\n",
      "252/252 [==============================] - 4s 17ms/step - loss: 3652.2239 - mean_squared_error: 50018216.0000 - mean_absolute_error: 3652.2239 - val_loss: 2923.3000 - val_mean_squared_error: 33061096.0000 - val_mean_absolute_error: 2923.3000\n",
      "Epoch 3/100\n",
      "252/252 [==============================] - 4s 17ms/step - loss: 3267.4065 - mean_squared_error: 41788320.0000 - mean_absolute_error: 3267.4065 - val_loss: 2807.9758 - val_mean_squared_error: 27559334.0000 - val_mean_absolute_error: 2807.9758\n",
      "Epoch 4/100\n",
      "252/252 [==============================] - 4s 17ms/step - loss: 3105.4690 - mean_squared_error: 41695760.0000 - mean_absolute_error: 3105.4690 - val_loss: 3319.7507 - val_mean_squared_error: 32716536.0000 - val_mean_absolute_error: 3319.7507\n",
      "Epoch 5/100\n",
      "252/252 [==============================] - 4s 17ms/step - loss: 2926.9580 - mean_squared_error: 36742600.0000 - mean_absolute_error: 2926.9580 - val_loss: 2679.2703 - val_mean_squared_error: 23168328.0000 - val_mean_absolute_error: 2679.2703\n",
      "Epoch 6/100\n",
      "252/252 [==============================] - 4s 16ms/step - loss: 2845.9846 - mean_squared_error: 37854200.0000 - mean_absolute_error: 2845.9846 - val_loss: 2702.8198 - val_mean_squared_error: 27865444.0000 - val_mean_absolute_error: 2702.8198\n",
      "Epoch 7/100\n",
      "252/252 [==============================] - 4s 17ms/step - loss: 2728.9438 - mean_squared_error: 34196492.0000 - mean_absolute_error: 2728.9438 - val_loss: 3388.7070 - val_mean_squared_error: 45024200.0000 - val_mean_absolute_error: 3388.7070\n",
      "Epoch 8/100\n",
      "252/252 [==============================] - 4s 17ms/step - loss: 2624.4277 - mean_squared_error: 31856974.0000 - mean_absolute_error: 2624.4277 - val_loss: 2523.3301 - val_mean_squared_error: 27088092.0000 - val_mean_absolute_error: 2523.3301\n",
      "Epoch 9/100\n",
      "252/252 [==============================] - 4s 17ms/step - loss: 2529.1365 - mean_squared_error: 30863126.0000 - mean_absolute_error: 2529.1365 - val_loss: 3713.7087 - val_mean_squared_error: 38580056.0000 - val_mean_absolute_error: 3713.7087\n",
      "Epoch 10/100\n",
      "252/252 [==============================] - 4s 17ms/step - loss: 2497.8779 - mean_squared_error: 30402518.0000 - mean_absolute_error: 2497.8779 - val_loss: 2446.5874 - val_mean_squared_error: 20596042.0000 - val_mean_absolute_error: 2446.5874\n",
      "Epoch 11/100\n",
      "252/252 [==============================] - 4s 17ms/step - loss: 2447.9656 - mean_squared_error: 30159940.0000 - mean_absolute_error: 2447.9656 - val_loss: 2282.8481 - val_mean_squared_error: 24572162.0000 - val_mean_absolute_error: 2282.8481\n",
      "Epoch 12/100\n",
      "252/252 [==============================] - 4s 17ms/step - loss: 2360.6465 - mean_squared_error: 28715324.0000 - mean_absolute_error: 2360.6465 - val_loss: 2829.6533 - val_mean_squared_error: 28149586.0000 - val_mean_absolute_error: 2829.6533\n",
      "Epoch 13/100\n",
      "252/252 [==============================] - 4s 17ms/step - loss: 2345.4773 - mean_squared_error: 27804828.0000 - mean_absolute_error: 2345.4773 - val_loss: 3063.8945 - val_mean_squared_error: 30911858.0000 - val_mean_absolute_error: 3063.8945\n",
      "Epoch 14/100\n",
      "252/252 [==============================] - 4s 16ms/step - loss: 2294.5137 - mean_squared_error: 26974792.0000 - mean_absolute_error: 2294.5137 - val_loss: 4050.1848 - val_mean_squared_error: 57558208.0000 - val_mean_absolute_error: 4050.1848\n",
      "Epoch 15/100\n",
      "252/252 [==============================] - 4s 17ms/step - loss: 2231.3767 - mean_squared_error: 26273222.0000 - mean_absolute_error: 2231.3767 - val_loss: 3487.4111 - val_mean_squared_error: 44077108.0000 - val_mean_absolute_error: 3487.4111\n",
      "81/81 [==============================] - 1s 16ms/step - loss: 1993.6996 - mean_squared_error: 21381526.0000 - mean_absolute_error: 1993.6996\n",
      "10/10 [==============================] - 0s 34ms/step - loss: 1935.8881 - mean_squared_error: 13073408.0000 - mean_absolute_error: 1935.8881\n",
      "_______________________________________STORE_27______________________________________\n",
      "Epoch 1/100\n",
      "WARNING:tensorflow:Model was constructed with shape (None, None, 103) for input KerasTensor(type_spec=TensorSpec(shape=(None, None, 103), dtype=tf.float32, name='dense_568_input'), name='dense_568_input', description=\"created by layer 'dense_568_input'\"), but it was called on an input with incompatible shape (None, 103).\n",
      "WARNING:tensorflow:Model was constructed with shape (None, None, 103) for input KerasTensor(type_spec=TensorSpec(shape=(None, None, 103), dtype=tf.float32, name='dense_568_input'), name='dense_568_input', description=\"created by layer 'dense_568_input'\"), but it was called on an input with incompatible shape (None, 103).\n"
     ]
    },
    {
     "name": "stderr",
     "output_type": "stream",
     "text": [
      "2022-12-17 13:48:58.540588: I tensorflow/core/grappler/optimizers/custom_graph_optimizer_registry.cc:114] Plugin optimizer for device_type GPU is enabled.\n"
     ]
    },
    {
     "name": "stdout",
     "output_type": "stream",
     "text": [
      "261/261 [==============================] - ETA: 0s - loss: 11512.2402 - mean_squared_error: 510428096.0000 - mean_absolute_error: 11512.2402WARNING:tensorflow:Model was constructed with shape (None, None, 103) for input KerasTensor(type_spec=TensorSpec(shape=(None, None, 103), dtype=tf.float32, name='dense_568_input'), name='dense_568_input', description=\"created by layer 'dense_568_input'\"), but it was called on an input with incompatible shape (None, 103).\n"
     ]
    },
    {
     "name": "stderr",
     "output_type": "stream",
     "text": [
      "2022-12-17 13:49:06.155149: I tensorflow/core/grappler/optimizers/custom_graph_optimizer_registry.cc:114] Plugin optimizer for device_type GPU is enabled.\n"
     ]
    },
    {
     "name": "stdout",
     "output_type": "stream",
     "text": [
      "261/261 [==============================] - 9s 28ms/step - loss: 11512.2402 - mean_squared_error: 510428096.0000 - mean_absolute_error: 11512.2402 - val_loss: 4422.7251 - val_mean_squared_error: 69407728.0000 - val_mean_absolute_error: 4422.7251\n",
      "Epoch 2/100\n",
      "261/261 [==============================] - 4s 17ms/step - loss: 6130.9458 - mean_squared_error: 152689392.0000 - mean_absolute_error: 6130.9458 - val_loss: 8153.7539 - val_mean_squared_error: 151898224.0000 - val_mean_absolute_error: 8153.7539\n",
      "Epoch 3/100\n",
      "261/261 [==============================] - 4s 17ms/step - loss: 5700.9033 - mean_squared_error: 143598928.0000 - mean_absolute_error: 5700.9033 - val_loss: 5463.5020 - val_mean_squared_error: 79335088.0000 - val_mean_absolute_error: 5463.5020\n",
      "Epoch 4/100\n",
      "261/261 [==============================] - 4s 17ms/step - loss: 5384.3994 - mean_squared_error: 135436608.0000 - mean_absolute_error: 5384.3994 - val_loss: 4320.9795 - val_mean_squared_error: 66416048.0000 - val_mean_absolute_error: 4320.9795\n",
      "Epoch 5/100\n",
      "261/261 [==============================] - 4s 17ms/step - loss: 5137.6958 - mean_squared_error: 130171960.0000 - mean_absolute_error: 5137.6958 - val_loss: 5416.8931 - val_mean_squared_error: 75284096.0000 - val_mean_absolute_error: 5416.8931\n",
      "Epoch 6/100\n",
      "261/261 [==============================] - 4s 17ms/step - loss: 4871.8735 - mean_squared_error: 124038376.0000 - mean_absolute_error: 4871.8735 - val_loss: 6006.5488 - val_mean_squared_error: 102518192.0000 - val_mean_absolute_error: 6006.5488\n",
      "Epoch 7/100\n",
      "261/261 [==============================] - 4s 17ms/step - loss: 4795.4976 - mean_squared_error: 119814888.0000 - mean_absolute_error: 4795.4976 - val_loss: 4229.8916 - val_mean_squared_error: 60155700.0000 - val_mean_absolute_error: 4229.8916\n",
      "Epoch 8/100\n",
      "261/261 [==============================] - 4s 17ms/step - loss: 4659.0742 - mean_squared_error: 117305752.0000 - mean_absolute_error: 4659.0742 - val_loss: 4737.2837 - val_mean_squared_error: 65588908.0000 - val_mean_absolute_error: 4737.2837\n",
      "84/84 [==============================] - 1s 10ms/step - loss: 3948.7537 - mean_squared_error: 99986592.0000 - mean_absolute_error: 3948.7537\n",
      "10/10 [==============================] - 0s 8ms/step - loss: 3728.2312 - mean_squared_error: 40614088.0000 - mean_absolute_error: 3728.2314\n",
      "_______________________________________STORE_28______________________________________\n",
      "Epoch 1/100\n",
      "WARNING:tensorflow:Model was constructed with shape (None, None, 103) for input KerasTensor(type_spec=TensorSpec(shape=(None, None, 103), dtype=tf.float32, name='dense_576_input'), name='dense_576_input', description=\"created by layer 'dense_576_input'\"), but it was called on an input with incompatible shape (None, 103).\n",
      "WARNING:tensorflow:Model was constructed with shape (None, None, 103) for input KerasTensor(type_spec=TensorSpec(shape=(None, None, 103), dtype=tf.float32, name='dense_576_input'), name='dense_576_input', description=\"created by layer 'dense_576_input'\"), but it was called on an input with incompatible shape (None, 103).\n"
     ]
    },
    {
     "name": "stderr",
     "output_type": "stream",
     "text": [
      "2022-12-17 13:49:40.147173: I tensorflow/core/grappler/optimizers/custom_graph_optimizer_registry.cc:114] Plugin optimizer for device_type GPU is enabled.\n"
     ]
    },
    {
     "name": "stdout",
     "output_type": "stream",
     "text": [
      "259/259 [==============================] - ETA: 0s - loss: 8489.9180 - mean_squared_error: 265176208.0000 - mean_absolute_error: 8489.9180WARNING:tensorflow:Model was constructed with shape (None, None, 103) for input KerasTensor(type_spec=TensorSpec(shape=(None, None, 103), dtype=tf.float32, name='dense_576_input'), name='dense_576_input', description=\"created by layer 'dense_576_input'\"), but it was called on an input with incompatible shape (None, 103).\n"
     ]
    },
    {
     "name": "stderr",
     "output_type": "stream",
     "text": [
      "2022-12-17 13:49:48.157752: I tensorflow/core/grappler/optimizers/custom_graph_optimizer_registry.cc:114] Plugin optimizer for device_type GPU is enabled.\n"
     ]
    },
    {
     "name": "stdout",
     "output_type": "stream",
     "text": [
      "259/259 [==============================] - 9s 29ms/step - loss: 8489.9180 - mean_squared_error: 265176208.0000 - mean_absolute_error: 8489.9180 - val_loss: 8737.5811 - val_mean_squared_error: 185109056.0000 - val_mean_absolute_error: 8737.5811\n",
      "Epoch 2/100\n",
      "259/259 [==============================] - 4s 17ms/step - loss: 4991.0605 - mean_squared_error: 110294160.0000 - mean_absolute_error: 4991.0605 - val_loss: 3631.6936 - val_mean_squared_error: 47731888.0000 - val_mean_absolute_error: 3631.6936\n",
      "Epoch 3/100\n",
      "259/259 [==============================] - 4s 17ms/step - loss: 4533.7202 - mean_squared_error: 99068344.0000 - mean_absolute_error: 4533.7202 - val_loss: 6034.3350 - val_mean_squared_error: 107349968.0000 - val_mean_absolute_error: 6034.3350\n",
      "Epoch 4/100\n",
      "259/259 [==============================] - 4s 17ms/step - loss: 4348.8569 - mean_squared_error: 95010032.0000 - mean_absolute_error: 4348.8569 - val_loss: 2833.5820 - val_mean_squared_error: 29697822.0000 - val_mean_absolute_error: 2833.5820\n",
      "Epoch 5/100\n",
      "259/259 [==============================] - 4s 17ms/step - loss: 4096.3037 - mean_squared_error: 89945200.0000 - mean_absolute_error: 4096.3037 - val_loss: 2529.8789 - val_mean_squared_error: 24884272.0000 - val_mean_absolute_error: 2529.8789\n",
      "Epoch 6/100\n",
      "259/259 [==============================] - 4s 17ms/step - loss: 3952.2671 - mean_squared_error: 87676976.0000 - mean_absolute_error: 3952.2671 - val_loss: 2614.3762 - val_mean_squared_error: 32769912.0000 - val_mean_absolute_error: 2614.3762\n",
      "Epoch 7/100\n",
      "259/259 [==============================] - 4s 17ms/step - loss: 3838.4629 - mean_squared_error: 81841096.0000 - mean_absolute_error: 3838.4629 - val_loss: 2439.2388 - val_mean_squared_error: 30399104.0000 - val_mean_absolute_error: 2439.2388\n",
      "Epoch 8/100\n",
      "259/259 [==============================] - 4s 16ms/step - loss: 3784.9646 - mean_squared_error: 83572736.0000 - mean_absolute_error: 3784.9646 - val_loss: 4462.7368 - val_mean_squared_error: 62380672.0000 - val_mean_absolute_error: 4462.7368\n",
      "Epoch 9/100\n",
      "259/259 [==============================] - 4s 17ms/step - loss: 3634.0005 - mean_squared_error: 76542648.0000 - mean_absolute_error: 3634.0005 - val_loss: 3207.1631 - val_mean_squared_error: 54406140.0000 - val_mean_absolute_error: 3207.1631\n",
      "83/83 [==============================] - 1s 9ms/step - loss: 4163.6396 - mean_squared_error: 78090280.0000 - mean_absolute_error: 4163.6396\n",
      "10/10 [==============================] - 0s 37ms/step - loss: 3405.2871 - mean_squared_error: 38039532.0000 - mean_absolute_error: 3405.2871\n",
      "_______________________________________STORE_29______________________________________\n",
      "Epoch 1/100\n",
      "WARNING:tensorflow:Model was constructed with shape (None, None, 103) for input KerasTensor(type_spec=TensorSpec(shape=(None, None, 103), dtype=tf.float32, name='dense_584_input'), name='dense_584_input', description=\"created by layer 'dense_584_input'\"), but it was called on an input with incompatible shape (None, 103).\n",
      "WARNING:tensorflow:Model was constructed with shape (None, None, 103) for input KerasTensor(type_spec=TensorSpec(shape=(None, None, 103), dtype=tf.float32, name='dense_584_input'), name='dense_584_input', description=\"created by layer 'dense_584_input'\"), but it was called on an input with incompatible shape (None, 103).\n"
     ]
    },
    {
     "name": "stderr",
     "output_type": "stream",
     "text": [
      "2022-12-17 13:50:26.561203: I tensorflow/core/grappler/optimizers/custom_graph_optimizer_registry.cc:114] Plugin optimizer for device_type GPU is enabled.\n"
     ]
    },
    {
     "name": "stdout",
     "output_type": "stream",
     "text": [
      "242/242 [==============================] - ETA: 0s - loss: 4025.3652 - mean_squared_error: 71083264.0000 - mean_absolute_error: 4025.3652WARNING:tensorflow:Model was constructed with shape (None, None, 103) for input KerasTensor(type_spec=TensorSpec(shape=(None, None, 103), dtype=tf.float32, name='dense_584_input'), name='dense_584_input', description=\"created by layer 'dense_584_input'\"), but it was called on an input with incompatible shape (None, 103).\n"
     ]
    },
    {
     "name": "stderr",
     "output_type": "stream",
     "text": [
      "2022-12-17 13:50:37.643810: I tensorflow/core/grappler/optimizers/custom_graph_optimizer_registry.cc:114] Plugin optimizer for device_type GPU is enabled.\n"
     ]
    },
    {
     "name": "stdout",
     "output_type": "stream",
     "text": [
      "242/242 [==============================] - 13s 30ms/step - loss: 4025.3652 - mean_squared_error: 71083264.0000 - mean_absolute_error: 4025.3652 - val_loss: 2151.6379 - val_mean_squared_error: 15237896.0000 - val_mean_absolute_error: 2151.6379\n",
      "Epoch 2/100\n",
      "242/242 [==============================] - 4s 17ms/step - loss: 2347.1841 - mean_squared_error: 34732984.0000 - mean_absolute_error: 2347.1841 - val_loss: 2434.0168 - val_mean_squared_error: 17652932.0000 - val_mean_absolute_error: 2434.0168\n",
      "Epoch 3/100\n",
      "242/242 [==============================] - 4s 17ms/step - loss: 2193.3882 - mean_squared_error: 34682872.0000 - mean_absolute_error: 2193.3882 - val_loss: 2522.7041 - val_mean_squared_error: 18878094.0000 - val_mean_absolute_error: 2522.7041\n",
      "Epoch 4/100\n",
      "242/242 [==============================] - 4s 16ms/step - loss: 2111.4580 - mean_squared_error: 33245068.0000 - mean_absolute_error: 2111.4580 - val_loss: 1697.6492 - val_mean_squared_error: 7887194.5000 - val_mean_absolute_error: 1697.6492\n",
      "Epoch 5/100\n",
      "242/242 [==============================] - 4s 17ms/step - loss: 2004.7365 - mean_squared_error: 33318696.0000 - mean_absolute_error: 2004.7365 - val_loss: 1776.7177 - val_mean_squared_error: 10438027.0000 - val_mean_absolute_error: 1776.7177\n",
      "Epoch 6/100\n",
      "242/242 [==============================] - 4s 17ms/step - loss: 1931.5156 - mean_squared_error: 31620676.0000 - mean_absolute_error: 1931.5156 - val_loss: 1520.3375 - val_mean_squared_error: 7928428.5000 - val_mean_absolute_error: 1520.3375\n",
      "Epoch 7/100\n",
      "242/242 [==============================] - 4s 16ms/step - loss: 1867.5808 - mean_squared_error: 30945472.0000 - mean_absolute_error: 1867.5808 - val_loss: 1470.0706 - val_mean_squared_error: 7887171.0000 - val_mean_absolute_error: 1470.0706\n",
      "Epoch 8/100\n",
      "242/242 [==============================] - 4s 17ms/step - loss: 1773.0181 - mean_squared_error: 30266416.0000 - mean_absolute_error: 1773.0181 - val_loss: 1504.2230 - val_mean_squared_error: 8189777.0000 - val_mean_absolute_error: 1504.2230\n",
      "Epoch 9/100\n",
      "242/242 [==============================] - 4s 16ms/step - loss: 1748.7103 - mean_squared_error: 29604884.0000 - mean_absolute_error: 1748.7103 - val_loss: 1490.3956 - val_mean_squared_error: 8525421.0000 - val_mean_absolute_error: 1490.3956\n",
      "Epoch 10/100\n",
      "242/242 [==============================] - 4s 17ms/step - loss: 1710.5614 - mean_squared_error: 28933306.0000 - mean_absolute_error: 1710.5614 - val_loss: 1976.4081 - val_mean_squared_error: 11940802.0000 - val_mean_absolute_error: 1976.4081\n",
      "78/78 [==============================] - 1s 11ms/step - loss: 1621.1084 - mean_squared_error: 30236784.0000 - mean_absolute_error: 1621.1084\n",
      "9/9 [==============================] - 0s 19ms/step - loss: 1875.2670 - mean_squared_error: 12863058.0000 - mean_absolute_error: 1875.2670\n",
      "_______________________________________STORE_30______________________________________\n",
      "Epoch 1/100\n",
      "WARNING:tensorflow:Model was constructed with shape (None, None, 103) for input KerasTensor(type_spec=TensorSpec(shape=(None, None, 103), dtype=tf.float32, name='dense_592_input'), name='dense_592_input', description=\"created by layer 'dense_592_input'\"), but it was called on an input with incompatible shape (None, 103).\n",
      "WARNING:tensorflow:Model was constructed with shape (None, None, 103) for input KerasTensor(type_spec=TensorSpec(shape=(None, None, 103), dtype=tf.float32, name='dense_592_input'), name='dense_592_input', description=\"created by layer 'dense_592_input'\"), but it was called on an input with incompatible shape (None, 103).\n"
     ]
    },
    {
     "name": "stderr",
     "output_type": "stream",
     "text": [
      "2022-12-17 13:51:17.474725: I tensorflow/core/grappler/optimizers/custom_graph_optimizer_registry.cc:114] Plugin optimizer for device_type GPU is enabled.\n"
     ]
    },
    {
     "name": "stdout",
     "output_type": "stream",
     "text": [
      "184/184 [==============================] - ETA: 0s - loss: 5068.5381 - mean_squared_error: 127105520.0000 - mean_absolute_error: 5068.5381WARNING:tensorflow:Model was constructed with shape (None, None, 103) for input KerasTensor(type_spec=TensorSpec(shape=(None, None, 103), dtype=tf.float32, name='dense_592_input'), name='dense_592_input', description=\"created by layer 'dense_592_input'\"), but it was called on an input with incompatible shape (None, 103).\n"
     ]
    },
    {
     "name": "stderr",
     "output_type": "stream",
     "text": [
      "2022-12-17 13:51:26.946208: I tensorflow/core/grappler/optimizers/custom_graph_optimizer_registry.cc:114] Plugin optimizer for device_type GPU is enabled.\n"
     ]
    },
    {
     "name": "stdout",
     "output_type": "stream",
     "text": [
      "184/184 [==============================] - 11s 31ms/step - loss: 5068.5381 - mean_squared_error: 127105520.0000 - mean_absolute_error: 5068.5381 - val_loss: 2822.0491 - val_mean_squared_error: 25043244.0000 - val_mean_absolute_error: 2822.0491\n",
      "Epoch 2/100\n",
      "184/184 [==============================] - 3s 17ms/step - loss: 1952.0807 - mean_squared_error: 15344249.0000 - mean_absolute_error: 1952.0807 - val_loss: 6235.9683 - val_mean_squared_error: 78947608.0000 - val_mean_absolute_error: 6235.9683\n",
      "Epoch 3/100\n",
      "184/184 [==============================] - 3s 17ms/step - loss: 1629.1685 - mean_squared_error: 11153205.0000 - mean_absolute_error: 1629.1685 - val_loss: 1922.8531 - val_mean_squared_error: 17426640.0000 - val_mean_absolute_error: 1922.8531\n",
      "Epoch 4/100\n",
      "184/184 [==============================] - 3s 17ms/step - loss: 1463.4624 - mean_squared_error: 9834631.0000 - mean_absolute_error: 1463.4624 - val_loss: 1905.9058 - val_mean_squared_error: 16114162.0000 - val_mean_absolute_error: 1905.9058\n",
      "Epoch 5/100\n",
      "184/184 [==============================] - 3s 18ms/step - loss: 1382.9308 - mean_squared_error: 8602994.0000 - mean_absolute_error: 1382.9308 - val_loss: 3338.9846 - val_mean_squared_error: 35338188.0000 - val_mean_absolute_error: 3338.9846\n",
      "Epoch 6/100\n",
      "184/184 [==============================] - 3s 17ms/step - loss: 1306.6199 - mean_squared_error: 8281640.0000 - mean_absolute_error: 1306.6199 - val_loss: 1424.2664 - val_mean_squared_error: 7473163.5000 - val_mean_absolute_error: 1424.2664\n",
      "Epoch 7/100\n",
      "184/184 [==============================] - 3s 17ms/step - loss: 1259.2214 - mean_squared_error: 7856634.5000 - mean_absolute_error: 1259.2214 - val_loss: 1668.5016 - val_mean_squared_error: 9591834.0000 - val_mean_absolute_error: 1668.5016\n",
      "Epoch 8/100\n",
      "184/184 [==============================] - 3s 16ms/step - loss: 1222.8751 - mean_squared_error: 7706993.5000 - mean_absolute_error: 1222.8751 - val_loss: 1381.9364 - val_mean_squared_error: 6008028.0000 - val_mean_absolute_error: 1381.9364\n",
      "Epoch 9/100\n",
      "184/184 [==============================] - 3s 16ms/step - loss: 1127.0454 - mean_squared_error: 6251774.0000 - mean_absolute_error: 1127.0454 - val_loss: 2270.0554 - val_mean_squared_error: 17141900.0000 - val_mean_absolute_error: 2270.0554\n",
      "Epoch 10/100\n",
      "184/184 [==============================] - 3s 17ms/step - loss: 1121.2614 - mean_squared_error: 6516928.5000 - mean_absolute_error: 1121.2614 - val_loss: 2375.4797 - val_mean_squared_error: 22266844.0000 - val_mean_absolute_error: 2375.4797\n",
      "59/59 [==============================] - 1s 19ms/step - loss: 1301.9930 - mean_squared_error: 8051219.5000 - mean_absolute_error: 1301.9933\n",
      "7/7 [==============================] - 0s 70ms/step - loss: 1377.4203 - mean_squared_error: 6645949.0000 - mean_absolute_error: 1377.4203\n",
      "_______________________________________STORE_31______________________________________\n",
      "Epoch 1/100\n",
      "WARNING:tensorflow:Model was constructed with shape (None, None, 103) for input KerasTensor(type_spec=TensorSpec(shape=(None, None, 103), dtype=tf.float32, name='dense_600_input'), name='dense_600_input', description=\"created by layer 'dense_600_input'\"), but it was called on an input with incompatible shape (None, 103).\n",
      "WARNING:tensorflow:Model was constructed with shape (None, None, 103) for input KerasTensor(type_spec=TensorSpec(shape=(None, None, 103), dtype=tf.float32, name='dense_600_input'), name='dense_600_input', description=\"created by layer 'dense_600_input'\"), but it was called on an input with incompatible shape (None, 103).\n"
     ]
    },
    {
     "name": "stderr",
     "output_type": "stream",
     "text": [
      "2022-12-17 13:51:58.574066: I tensorflow/core/grappler/optimizers/custom_graph_optimizer_registry.cc:114] Plugin optimizer for device_type GPU is enabled.\n"
     ]
    },
    {
     "name": "stdout",
     "output_type": "stream",
     "text": [
      "259/259 [==============================] - ETA: 0s - loss: 9427.0977 - mean_squared_error: 379262240.0000 - mean_absolute_error: 9427.0977WARNING:tensorflow:Model was constructed with shape (None, None, 103) for input KerasTensor(type_spec=TensorSpec(shape=(None, None, 103), dtype=tf.float32, name='dense_600_input'), name='dense_600_input', description=\"created by layer 'dense_600_input'\"), but it was called on an input with incompatible shape (None, 103).\n"
     ]
    },
    {
     "name": "stderr",
     "output_type": "stream",
     "text": [
      "2022-12-17 13:52:08.348825: I tensorflow/core/grappler/optimizers/custom_graph_optimizer_registry.cc:114] Plugin optimizer for device_type GPU is enabled.\n"
     ]
    },
    {
     "name": "stdout",
     "output_type": "stream",
     "text": [
      "259/259 [==============================] - 11s 32ms/step - loss: 9427.0977 - mean_squared_error: 379262240.0000 - mean_absolute_error: 9427.0977 - val_loss: 4845.4004 - val_mean_squared_error: 44906696.0000 - val_mean_absolute_error: 4845.4004\n",
      "Epoch 2/100\n",
      "259/259 [==============================] - 5s 18ms/step - loss: 4322.3149 - mean_squared_error: 75612584.0000 - mean_absolute_error: 4322.3149 - val_loss: 2479.7332 - val_mean_squared_error: 17935702.0000 - val_mean_absolute_error: 2479.7332\n",
      "Epoch 3/100\n",
      "259/259 [==============================] - 4s 17ms/step - loss: 3845.8252 - mean_squared_error: 67193992.0000 - mean_absolute_error: 3845.8252 - val_loss: 5558.4990 - val_mean_squared_error: 88630568.0000 - val_mean_absolute_error: 5558.4990\n",
      "Epoch 4/100\n",
      "259/259 [==============================] - 5s 18ms/step - loss: 3666.0283 - mean_squared_error: 60607788.0000 - mean_absolute_error: 3666.0283 - val_loss: 3838.0684 - val_mean_squared_error: 41354432.0000 - val_mean_absolute_error: 3838.0684\n",
      "Epoch 5/100\n",
      "259/259 [==============================] - 4s 17ms/step - loss: 3454.3357 - mean_squared_error: 56041960.0000 - mean_absolute_error: 3454.3357 - val_loss: 3909.8799 - val_mean_squared_error: 36882604.0000 - val_mean_absolute_error: 3909.8799\n",
      "Epoch 6/100\n",
      "259/259 [==============================] - 4s 17ms/step - loss: 3376.0432 - mean_squared_error: 55358676.0000 - mean_absolute_error: 3376.0432 - val_loss: 3426.6877 - val_mean_squared_error: 34147392.0000 - val_mean_absolute_error: 3426.6877\n",
      "83/83 [==============================] - 1s 12ms/step - loss: 2844.9473 - mean_squared_error: 44861976.0000 - mean_absolute_error: 2844.9473\n",
      "10/10 [==============================] - 0s 27ms/step - loss: 3048.9177 - mean_squared_error: 27540020.0000 - mean_absolute_error: 3048.9177\n",
      "_______________________________________STORE_32______________________________________\n",
      "Epoch 1/100\n",
      "WARNING:tensorflow:Model was constructed with shape (None, None, 103) for input KerasTensor(type_spec=TensorSpec(shape=(None, None, 103), dtype=tf.float32, name='dense_608_input'), name='dense_608_input', description=\"created by layer 'dense_608_input'\"), but it was called on an input with incompatible shape (None, 103).\n",
      "WARNING:tensorflow:Model was constructed with shape (None, None, 103) for input KerasTensor(type_spec=TensorSpec(shape=(None, None, 103), dtype=tf.float32, name='dense_608_input'), name='dense_608_input', description=\"created by layer 'dense_608_input'\"), but it was called on an input with incompatible shape (None, 103).\n"
     ]
    },
    {
     "name": "stderr",
     "output_type": "stream",
     "text": [
      "2022-12-17 13:52:34.378865: I tensorflow/core/grappler/optimizers/custom_graph_optimizer_registry.cc:114] Plugin optimizer for device_type GPU is enabled.\n"
     ]
    },
    {
     "name": "stdout",
     "output_type": "stream",
     "text": [
      "261/261 [==============================] - ETA: 0s - loss: 7778.3843 - mean_squared_error: 243754864.0000 - mean_absolute_error: 7778.3843WARNING:tensorflow:Model was constructed with shape (None, None, 103) for input KerasTensor(type_spec=TensorSpec(shape=(None, None, 103), dtype=tf.float32, name='dense_608_input'), name='dense_608_input', description=\"created by layer 'dense_608_input'\"), but it was called on an input with incompatible shape (None, 103).\n"
     ]
    },
    {
     "name": "stderr",
     "output_type": "stream",
     "text": [
      "2022-12-17 13:52:43.259989: I tensorflow/core/grappler/optimizers/custom_graph_optimizer_registry.cc:114] Plugin optimizer for device_type GPU is enabled.\n"
     ]
    },
    {
     "name": "stdout",
     "output_type": "stream",
     "text": [
      "261/261 [==============================] - 11s 33ms/step - loss: 7778.3843 - mean_squared_error: 243754864.0000 - mean_absolute_error: 7778.3843 - val_loss: 3225.3481 - val_mean_squared_error: 30226762.0000 - val_mean_absolute_error: 3225.3481\n",
      "Epoch 2/100\n",
      "261/261 [==============================] - 5s 18ms/step - loss: 3854.3423 - mean_squared_error: 61098016.0000 - mean_absolute_error: 3854.3423 - val_loss: 6246.8833 - val_mean_squared_error: 90088888.0000 - val_mean_absolute_error: 6246.8833\n",
      "Epoch 3/100\n",
      "261/261 [==============================] - 4s 17ms/step - loss: 3595.9629 - mean_squared_error: 57814764.0000 - mean_absolute_error: 3595.9629 - val_loss: 4093.1970 - val_mean_squared_error: 44929272.0000 - val_mean_absolute_error: 4093.1970\n",
      "Epoch 4/100\n",
      "261/261 [==============================] - 5s 18ms/step - loss: 3332.3005 - mean_squared_error: 53039396.0000 - mean_absolute_error: 3332.3005 - val_loss: 2818.4797 - val_mean_squared_error: 23315478.0000 - val_mean_absolute_error: 2818.4797\n",
      "Epoch 5/100\n",
      "261/261 [==============================] - 4s 17ms/step - loss: 3088.1558 - mean_squared_error: 48923212.0000 - mean_absolute_error: 3088.1558 - val_loss: 3196.4385 - val_mean_squared_error: 24359598.0000 - val_mean_absolute_error: 3196.4385\n",
      "Epoch 6/100\n",
      "261/261 [==============================] - 4s 17ms/step - loss: 3047.5479 - mean_squared_error: 48390792.0000 - mean_absolute_error: 3047.5479 - val_loss: 5083.5483 - val_mean_squared_error: 58236556.0000 - val_mean_absolute_error: 5083.5483\n",
      "Epoch 7/100\n",
      "261/261 [==============================] - 5s 17ms/step - loss: 2860.6638 - mean_squared_error: 44601720.0000 - mean_absolute_error: 2860.6638 - val_loss: 2249.5815 - val_mean_squared_error: 14690041.0000 - val_mean_absolute_error: 2249.5815\n",
      "Epoch 8/100\n",
      "261/261 [==============================] - 4s 17ms/step - loss: 2801.4629 - mean_squared_error: 43544136.0000 - mean_absolute_error: 2801.4629 - val_loss: 2818.0325 - val_mean_squared_error: 19240434.0000 - val_mean_absolute_error: 2818.0325\n",
      "Epoch 9/100\n",
      "261/261 [==============================] - 4s 17ms/step - loss: 2795.0801 - mean_squared_error: 44352804.0000 - mean_absolute_error: 2795.0801 - val_loss: 2340.6426 - val_mean_squared_error: 18122128.0000 - val_mean_absolute_error: 2340.6426\n",
      "Epoch 10/100\n",
      "261/261 [==============================] - 4s 16ms/step - loss: 2693.7070 - mean_squared_error: 42495832.0000 - mean_absolute_error: 2693.7070 - val_loss: 2259.4070 - val_mean_squared_error: 15878030.0000 - val_mean_absolute_error: 2259.4070\n",
      "Epoch 11/100\n",
      "261/261 [==============================] - 4s 16ms/step - loss: 2602.8022 - mean_squared_error: 39975984.0000 - mean_absolute_error: 2602.8022 - val_loss: 2263.6843 - val_mean_squared_error: 14010614.0000 - val_mean_absolute_error: 2263.6843\n",
      "84/84 [==============================] - 2s 16ms/step - loss: 2539.0652 - mean_squared_error: 36630856.0000 - mean_absolute_error: 2539.0652\n",
      "10/10 [==============================] - 0s 9ms/step - loss: 2407.9824 - mean_squared_error: 20560638.0000 - mean_absolute_error: 2407.9824\n",
      "_______________________________________STORE_33______________________________________\n",
      "Epoch 1/100\n",
      "WARNING:tensorflow:Model was constructed with shape (None, None, 103) for input KerasTensor(type_spec=TensorSpec(shape=(None, None, 103), dtype=tf.float32, name='dense_616_input'), name='dense_616_input', description=\"created by layer 'dense_616_input'\"), but it was called on an input with incompatible shape (None, 103).\n",
      "WARNING:tensorflow:Model was constructed with shape (None, None, 103) for input KerasTensor(type_spec=TensorSpec(shape=(None, None, 103), dtype=tf.float32, name='dense_616_input'), name='dense_616_input', description=\"created by layer 'dense_616_input'\"), but it was called on an input with incompatible shape (None, 103).\n"
     ]
    },
    {
     "name": "stderr",
     "output_type": "stream",
     "text": [
      "2022-12-17 13:53:31.510624: I tensorflow/core/grappler/optimizers/custom_graph_optimizer_registry.cc:114] Plugin optimizer for device_type GPU is enabled.\n"
     ]
    },
    {
     "name": "stdout",
     "output_type": "stream",
     "text": [
      "165/165 [==============================] - ETA: 0s - loss: 3448.8816 - mean_squared_error: 50992924.0000 - mean_absolute_error: 3448.8816WARNING:tensorflow:Model was constructed with shape (None, None, 103) for input KerasTensor(type_spec=TensorSpec(shape=(None, None, 103), dtype=tf.float32, name='dense_616_input'), name='dense_616_input', description=\"created by layer 'dense_616_input'\"), but it was called on an input with incompatible shape (None, 103).\n"
     ]
    },
    {
     "name": "stderr",
     "output_type": "stream",
     "text": [
      "2022-12-17 13:53:41.962282: I tensorflow/core/grappler/optimizers/custom_graph_optimizer_registry.cc:114] Plugin optimizer for device_type GPU is enabled.\n"
     ]
    },
    {
     "name": "stdout",
     "output_type": "stream",
     "text": [
      "165/165 [==============================] - 12s 36ms/step - loss: 3448.8816 - mean_squared_error: 50992924.0000 - mean_absolute_error: 3448.8816 - val_loss: 1398.8604 - val_mean_squared_error: 8624511.0000 - val_mean_absolute_error: 1398.8604\n",
      "Epoch 2/100\n",
      "165/165 [==============================] - 3s 18ms/step - loss: 1491.2310 - mean_squared_error: 9496272.0000 - mean_absolute_error: 1491.2310 - val_loss: 1046.1195 - val_mean_squared_error: 4003208.2500 - val_mean_absolute_error: 1046.1195\n",
      "Epoch 3/100\n",
      "165/165 [==============================] - 3s 17ms/step - loss: 1341.3861 - mean_squared_error: 8212597.0000 - mean_absolute_error: 1341.3861 - val_loss: 1072.8228 - val_mean_squared_error: 5096055.0000 - val_mean_absolute_error: 1072.8228\n",
      "Epoch 4/100\n",
      "165/165 [==============================] - 3s 16ms/step - loss: 1207.5902 - mean_squared_error: 6709079.0000 - mean_absolute_error: 1207.5902 - val_loss: 2222.1199 - val_mean_squared_error: 15286291.0000 - val_mean_absolute_error: 2222.1199\n",
      "Epoch 5/100\n",
      "165/165 [==============================] - 3s 17ms/step - loss: 1116.0710 - mean_squared_error: 6032886.0000 - mean_absolute_error: 1116.0710 - val_loss: 1819.8558 - val_mean_squared_error: 10827059.0000 - val_mean_absolute_error: 1819.8558\n",
      "Epoch 6/100\n",
      "165/165 [==============================] - 3s 18ms/step - loss: 1113.6246 - mean_squared_error: 6506695.5000 - mean_absolute_error: 1113.6246 - val_loss: 2616.0244 - val_mean_squared_error: 19836852.0000 - val_mean_absolute_error: 2616.0244\n",
      "53/53 [==============================] - 1s 15ms/step - loss: 865.0104 - mean_squared_error: 3885979.0000 - mean_absolute_error: 865.0104\n",
      "7/7 [==============================] - 1s 92ms/step - loss: 1179.8894 - mean_squared_error: 5324774.0000 - mean_absolute_error: 1179.8894\n",
      "_______________________________________STORE_34______________________________________\n",
      "Epoch 1/100\n",
      "WARNING:tensorflow:Model was constructed with shape (None, None, 103) for input KerasTensor(type_spec=TensorSpec(shape=(None, None, 103), dtype=tf.float32, name='dense_624_input'), name='dense_624_input', description=\"created by layer 'dense_624_input'\"), but it was called on an input with incompatible shape (None, 103).\n",
      "WARNING:tensorflow:Model was constructed with shape (None, None, 103) for input KerasTensor(type_spec=TensorSpec(shape=(None, None, 103), dtype=tf.float32, name='dense_624_input'), name='dense_624_input', description=\"created by layer 'dense_624_input'\"), but it was called on an input with incompatible shape (None, 103).\n"
     ]
    },
    {
     "name": "stderr",
     "output_type": "stream",
     "text": [
      "2022-12-17 13:53:59.119395: I tensorflow/core/grappler/optimizers/custom_graph_optimizer_registry.cc:114] Plugin optimizer for device_type GPU is enabled.\n"
     ]
    },
    {
     "name": "stdout",
     "output_type": "stream",
     "text": [
      "262/262 [==============================] - ETA: 0s - loss: 6459.5942 - mean_squared_error: 137712272.0000 - mean_absolute_error: 6459.5942WARNING:tensorflow:Model was constructed with shape (None, None, 103) for input KerasTensor(type_spec=TensorSpec(shape=(None, None, 103), dtype=tf.float32, name='dense_624_input'), name='dense_624_input', description=\"created by layer 'dense_624_input'\"), but it was called on an input with incompatible shape (None, 103).\n"
     ]
    },
    {
     "name": "stderr",
     "output_type": "stream",
     "text": [
      "2022-12-17 13:54:10.902435: I tensorflow/core/grappler/optimizers/custom_graph_optimizer_registry.cc:114] Plugin optimizer for device_type GPU is enabled.\n"
     ]
    },
    {
     "name": "stdout",
     "output_type": "stream",
     "text": [
      "262/262 [==============================] - 13s 30ms/step - loss: 6459.5942 - mean_squared_error: 137712272.0000 - mean_absolute_error: 6459.5942 - val_loss: 4622.3921 - val_mean_squared_error: 45611680.0000 - val_mean_absolute_error: 4622.3921\n",
      "Epoch 2/100\n",
      "262/262 [==============================] - 5s 17ms/step - loss: 3350.9912 - mean_squared_error: 41057800.0000 - mean_absolute_error: 3350.9912 - val_loss: 4614.7373 - val_mean_squared_error: 53126392.0000 - val_mean_absolute_error: 4614.7373\n",
      "Epoch 3/100\n",
      "262/262 [==============================] - 4s 17ms/step - loss: 3098.2336 - mean_squared_error: 36523960.0000 - mean_absolute_error: 3098.2336 - val_loss: 2220.5320 - val_mean_squared_error: 13271548.0000 - val_mean_absolute_error: 2220.5320\n",
      "Epoch 4/100\n",
      "262/262 [==============================] - 4s 16ms/step - loss: 2857.5195 - mean_squared_error: 32816244.0000 - mean_absolute_error: 2857.5195 - val_loss: 3161.1755 - val_mean_squared_error: 22860274.0000 - val_mean_absolute_error: 3161.1755\n",
      "Epoch 5/100\n",
      "262/262 [==============================] - 4s 17ms/step - loss: 2695.8940 - mean_squared_error: 30646666.0000 - mean_absolute_error: 2695.8940 - val_loss: 2193.9109 - val_mean_squared_error: 13744211.0000 - val_mean_absolute_error: 2193.9109\n",
      "Epoch 6/100\n",
      "262/262 [==============================] - 5s 18ms/step - loss: 2566.6409 - mean_squared_error: 28030628.0000 - mean_absolute_error: 2566.6409 - val_loss: 2000.9294 - val_mean_squared_error: 12681574.0000 - val_mean_absolute_error: 2000.9294\n",
      "Epoch 7/100\n",
      "262/262 [==============================] - 5s 18ms/step - loss: 2512.2583 - mean_squared_error: 28014742.0000 - mean_absolute_error: 2512.2583 - val_loss: 1801.1951 - val_mean_squared_error: 8689451.0000 - val_mean_absolute_error: 1801.1951\n",
      "Epoch 8/100\n",
      "262/262 [==============================] - 5s 17ms/step - loss: 2385.4792 - mean_squared_error: 26556650.0000 - mean_absolute_error: 2385.4792 - val_loss: 1722.9390 - val_mean_squared_error: 9326133.0000 - val_mean_absolute_error: 1722.9390\n",
      "Epoch 9/100\n",
      "262/262 [==============================] - 4s 17ms/step - loss: 2334.1755 - mean_squared_error: 25331424.0000 - mean_absolute_error: 2334.1755 - val_loss: 4749.1084 - val_mean_squared_error: 59900448.0000 - val_mean_absolute_error: 4749.1084\n",
      "Epoch 10/100\n",
      "262/262 [==============================] - 4s 16ms/step - loss: 2287.7922 - mean_squared_error: 24985308.0000 - mean_absolute_error: 2287.7922 - val_loss: 3067.0847 - val_mean_squared_error: 25927034.0000 - val_mean_absolute_error: 3067.0847\n",
      "Epoch 11/100\n",
      "262/262 [==============================] - 4s 17ms/step - loss: 2223.8665 - mean_squared_error: 23628076.0000 - mean_absolute_error: 2223.8665 - val_loss: 3638.8469 - val_mean_squared_error: 34188540.0000 - val_mean_absolute_error: 3638.8469\n",
      "84/84 [==============================] - 1s 11ms/step - loss: 2102.5278 - mean_squared_error: 23659104.0000 - mean_absolute_error: 2102.5278\n",
      "10/10 [==============================] - 1s 62ms/step - loss: 1682.3188 - mean_squared_error: 9102216.0000 - mean_absolute_error: 1682.3188\n",
      "_______________________________________STORE_35______________________________________\n",
      "Epoch 1/100\n",
      "WARNING:tensorflow:Model was constructed with shape (None, None, 103) for input KerasTensor(type_spec=TensorSpec(shape=(None, None, 103), dtype=tf.float32, name='dense_632_input'), name='dense_632_input', description=\"created by layer 'dense_632_input'\"), but it was called on an input with incompatible shape (None, 103).\n",
      "WARNING:tensorflow:Model was constructed with shape (None, None, 103) for input KerasTensor(type_spec=TensorSpec(shape=(None, None, 103), dtype=tf.float32, name='dense_632_input'), name='dense_632_input', description=\"created by layer 'dense_632_input'\"), but it was called on an input with incompatible shape (None, 103).\n"
     ]
    },
    {
     "name": "stderr",
     "output_type": "stream",
     "text": [
      "2022-12-17 13:54:59.735985: I tensorflow/core/grappler/optimizers/custom_graph_optimizer_registry.cc:114] Plugin optimizer for device_type GPU is enabled.\n"
     ]
    },
    {
     "name": "stdout",
     "output_type": "stream",
     "text": [
      "241/241 [==============================] - ETA: 0s - loss: 7060.0977 - mean_squared_error: 272354688.0000 - mean_absolute_error: 7060.0977WARNING:tensorflow:Model was constructed with shape (None, None, 103) for input KerasTensor(type_spec=TensorSpec(shape=(None, None, 103), dtype=tf.float32, name='dense_632_input'), name='dense_632_input', description=\"created by layer 'dense_632_input'\"), but it was called on an input with incompatible shape (None, 103).\n"
     ]
    },
    {
     "name": "stderr",
     "output_type": "stream",
     "text": [
      "2022-12-17 13:55:08.671288: I tensorflow/core/grappler/optimizers/custom_graph_optimizer_registry.cc:114] Plugin optimizer for device_type GPU is enabled.\n"
     ]
    },
    {
     "name": "stdout",
     "output_type": "stream",
     "text": [
      "241/241 [==============================] - 11s 34ms/step - loss: 7060.0977 - mean_squared_error: 272354688.0000 - mean_absolute_error: 7060.0977 - val_loss: 2963.3132 - val_mean_squared_error: 32714476.0000 - val_mean_absolute_error: 2963.3132\n",
      "Epoch 2/100\n",
      "241/241 [==============================] - 5s 19ms/step - loss: 3749.7078 - mean_squared_error: 145420320.0000 - mean_absolute_error: 3749.7078 - val_loss: 2531.1726 - val_mean_squared_error: 24534028.0000 - val_mean_absolute_error: 2531.1726\n",
      "Epoch 3/100\n",
      "241/241 [==============================] - 4s 17ms/step - loss: 3545.5044 - mean_squared_error: 143822944.0000 - mean_absolute_error: 3545.5044 - val_loss: 2847.2900 - val_mean_squared_error: 25983368.0000 - val_mean_absolute_error: 2847.2900\n",
      "Epoch 4/100\n",
      "241/241 [==============================] - 4s 18ms/step - loss: 3457.2219 - mean_squared_error: 142387568.0000 - mean_absolute_error: 3457.2219 - val_loss: 4113.4067 - val_mean_squared_error: 50177920.0000 - val_mean_absolute_error: 4113.4067\n",
      "Epoch 5/100\n",
      "241/241 [==============================] - 4s 17ms/step - loss: 3328.1289 - mean_squared_error: 137906416.0000 - mean_absolute_error: 3328.1289 - val_loss: 3696.8230 - val_mean_squared_error: 43498356.0000 - val_mean_absolute_error: 3696.8230\n",
      "Epoch 6/100\n",
      "241/241 [==============================] - 4s 17ms/step - loss: 3213.7190 - mean_squared_error: 138217200.0000 - mean_absolute_error: 3213.7190 - val_loss: 3290.7349 - val_mean_squared_error: 35455240.0000 - val_mean_absolute_error: 3290.7349\n",
      "78/78 [==============================] - 1s 11ms/step - loss: 3209.2817 - mean_squared_error: 134236400.0000 - mean_absolute_error: 3209.2817\n",
      "9/9 [==============================] - 1s 72ms/step - loss: 2925.4429 - mean_squared_error: 29350114.0000 - mean_absolute_error: 2925.4429\n",
      "_______________________________________STORE_36______________________________________\n",
      "Epoch 1/100\n",
      "WARNING:tensorflow:Model was constructed with shape (None, None, 103) for input KerasTensor(type_spec=TensorSpec(shape=(None, None, 103), dtype=tf.float32, name='dense_640_input'), name='dense_640_input', description=\"created by layer 'dense_640_input'\"), but it was called on an input with incompatible shape (None, 103).\n",
      "WARNING:tensorflow:Model was constructed with shape (None, None, 103) for input KerasTensor(type_spec=TensorSpec(shape=(None, None, 103), dtype=tf.float32, name='dense_640_input'), name='dense_640_input', description=\"created by layer 'dense_640_input'\"), but it was called on an input with incompatible shape (None, 103).\n"
     ]
    },
    {
     "name": "stderr",
     "output_type": "stream",
     "text": [
      "2022-12-17 13:55:33.518995: I tensorflow/core/grappler/optimizers/custom_graph_optimizer_registry.cc:114] Plugin optimizer for device_type GPU is enabled.\n"
     ]
    },
    {
     "name": "stdout",
     "output_type": "stream",
     "text": [
      "159/159 [==============================] - ETA: 0s - loss: 4955.6602 - mean_squared_error: 105669776.0000 - mean_absolute_error: 4955.6602WARNING:tensorflow:Model was constructed with shape (None, None, 103) for input KerasTensor(type_spec=TensorSpec(shape=(None, None, 103), dtype=tf.float32, name='dense_640_input'), name='dense_640_input', description=\"created by layer 'dense_640_input'\"), but it was called on an input with incompatible shape (None, 103).\n"
     ]
    },
    {
     "name": "stderr",
     "output_type": "stream",
     "text": [
      "2022-12-17 13:55:40.912623: I tensorflow/core/grappler/optimizers/custom_graph_optimizer_registry.cc:114] Plugin optimizer for device_type GPU is enabled.\n"
     ]
    },
    {
     "name": "stdout",
     "output_type": "stream",
     "text": [
      "159/159 [==============================] - 9s 41ms/step - loss: 4955.6602 - mean_squared_error: 105669776.0000 - mean_absolute_error: 4955.6602 - val_loss: 1497.4719 - val_mean_squared_error: 7505237.5000 - val_mean_absolute_error: 1497.4719\n",
      "Epoch 2/100\n",
      "159/159 [==============================] - 3s 18ms/step - loss: 2239.7437 - mean_squared_error: 17901098.0000 - mean_absolute_error: 2239.7437 - val_loss: 2192.6074 - val_mean_squared_error: 13521697.0000 - val_mean_absolute_error: 2192.6074\n",
      "Epoch 3/100\n",
      "159/159 [==============================] - 3s 18ms/step - loss: 1850.9021 - mean_squared_error: 13316205.0000 - mean_absolute_error: 1850.9021 - val_loss: 2222.2849 - val_mean_squared_error: 14673035.0000 - val_mean_absolute_error: 2222.2849\n",
      "Epoch 4/100\n",
      "159/159 [==============================] - 3s 18ms/step - loss: 1677.9984 - mean_squared_error: 11674235.0000 - mean_absolute_error: 1677.9984 - val_loss: 3903.1387 - val_mean_squared_error: 41018968.0000 - val_mean_absolute_error: 3903.1387\n",
      "Epoch 5/100\n",
      "159/159 [==============================] - 3s 17ms/step - loss: 1555.2762 - mean_squared_error: 10683274.0000 - mean_absolute_error: 1555.2762 - val_loss: 1106.9781 - val_mean_squared_error: 3619803.2500 - val_mean_absolute_error: 1106.9781\n",
      "Epoch 6/100\n",
      "159/159 [==============================] - 3s 17ms/step - loss: 1444.5479 - mean_squared_error: 9121845.0000 - mean_absolute_error: 1444.5479 - val_loss: 3101.2190 - val_mean_squared_error: 20554394.0000 - val_mean_absolute_error: 3101.2190\n",
      "Epoch 7/100\n",
      "159/159 [==============================] - 3s 18ms/step - loss: 1434.0033 - mean_squared_error: 8824417.0000 - mean_absolute_error: 1434.0033 - val_loss: 1925.6432 - val_mean_squared_error: 12985007.0000 - val_mean_absolute_error: 1925.6432\n",
      "Epoch 8/100\n",
      "159/159 [==============================] - 3s 18ms/step - loss: 1363.9534 - mean_squared_error: 8407498.0000 - mean_absolute_error: 1363.9534 - val_loss: 1012.3270 - val_mean_squared_error: 4089896.7500 - val_mean_absolute_error: 1012.3270\n",
      "Epoch 9/100\n",
      "159/159 [==============================] - 3s 18ms/step - loss: 1343.2511 - mean_squared_error: 8468571.0000 - mean_absolute_error: 1343.2511 - val_loss: 1004.8036 - val_mean_squared_error: 3737035.5000 - val_mean_absolute_error: 1004.8035\n",
      "Epoch 10/100\n",
      "159/159 [==============================] - 3s 18ms/step - loss: 1281.2998 - mean_squared_error: 7174408.5000 - mean_absolute_error: 1281.2998 - val_loss: 1762.9869 - val_mean_squared_error: 9440447.0000 - val_mean_absolute_error: 1762.9869\n",
      "Epoch 11/100\n",
      "159/159 [==============================] - 3s 17ms/step - loss: 1252.2734 - mean_squared_error: 7349888.5000 - mean_absolute_error: 1252.2734 - val_loss: 1097.9724 - val_mean_squared_error: 5361986.0000 - val_mean_absolute_error: 1097.9724\n",
      "Epoch 12/100\n",
      "159/159 [==============================] - 3s 17ms/step - loss: 1197.2784 - mean_squared_error: 6672950.5000 - mean_absolute_error: 1197.2784 - val_loss: 954.9963 - val_mean_squared_error: 4052012.0000 - val_mean_absolute_error: 954.9963\n",
      "Epoch 13/100\n",
      "159/159 [==============================] - 3s 17ms/step - loss: 1161.7983 - mean_squared_error: 6497444.5000 - mean_absolute_error: 1161.7983 - val_loss: 1363.5653 - val_mean_squared_error: 6942380.0000 - val_mean_absolute_error: 1363.5653\n",
      "51/51 [==============================] - 1s 18ms/step - loss: 2011.6510 - mean_squared_error: 15280673.0000 - mean_absolute_error: 2011.6510\n",
      "6/6 [==============================] - 0s 86ms/step - loss: 1455.3301 - mean_squared_error: 7507778.5000 - mean_absolute_error: 1455.3302\n",
      "_______________________________________STORE_37______________________________________\n",
      "Epoch 1/100\n",
      "WARNING:tensorflow:Model was constructed with shape (None, None, 103) for input KerasTensor(type_spec=TensorSpec(shape=(None, None, 103), dtype=tf.float32, name='dense_648_input'), name='dense_648_input', description=\"created by layer 'dense_648_input'\"), but it was called on an input with incompatible shape (None, 103).\n",
      "WARNING:tensorflow:Model was constructed with shape (None, None, 103) for input KerasTensor(type_spec=TensorSpec(shape=(None, None, 103), dtype=tf.float32, name='dense_648_input'), name='dense_648_input', description=\"created by layer 'dense_648_input'\"), but it was called on an input with incompatible shape (None, 103).\n"
     ]
    },
    {
     "name": "stderr",
     "output_type": "stream",
     "text": [
      "2022-12-17 13:56:17.802718: I tensorflow/core/grappler/optimizers/custom_graph_optimizer_registry.cc:114] Plugin optimizer for device_type GPU is enabled.\n"
     ]
    },
    {
     "name": "stdout",
     "output_type": "stream",
     "text": [
      "183/183 [==============================] - ETA: 0s - loss: 5967.4404 - mean_squared_error: 154666688.0000 - mean_absolute_error: 5967.4404WARNING:tensorflow:Model was constructed with shape (None, None, 103) for input KerasTensor(type_spec=TensorSpec(shape=(None, None, 103), dtype=tf.float32, name='dense_648_input'), name='dense_648_input', description=\"created by layer 'dense_648_input'\"), but it was called on an input with incompatible shape (None, 103).\n"
     ]
    },
    {
     "name": "stderr",
     "output_type": "stream",
     "text": [
      "2022-12-17 13:56:26.235523: I tensorflow/core/grappler/optimizers/custom_graph_optimizer_registry.cc:114] Plugin optimizer for device_type GPU is enabled.\n"
     ]
    },
    {
     "name": "stdout",
     "output_type": "stream",
     "text": [
      "183/183 [==============================] - 10s 40ms/step - loss: 5967.4404 - mean_squared_error: 154666688.0000 - mean_absolute_error: 5967.4404 - val_loss: 4536.7061 - val_mean_squared_error: 63269020.0000 - val_mean_absolute_error: 4536.7061\n",
      "Epoch 2/100\n",
      "183/183 [==============================] - 3s 18ms/step - loss: 2379.7410 - mean_squared_error: 22258908.0000 - mean_absolute_error: 2379.7410 - val_loss: 2192.8516 - val_mean_squared_error: 16243169.0000 - val_mean_absolute_error: 2192.8516\n",
      "Epoch 3/100\n",
      "183/183 [==============================] - 3s 18ms/step - loss: 1981.6334 - mean_squared_error: 17228342.0000 - mean_absolute_error: 1981.6334 - val_loss: 3471.4382 - val_mean_squared_error: 32035018.0000 - val_mean_absolute_error: 3471.4382\n",
      "Epoch 4/100\n",
      "183/183 [==============================] - 3s 17ms/step - loss: 1829.2920 - mean_squared_error: 15139066.0000 - mean_absolute_error: 1829.2920 - val_loss: 7609.1294 - val_mean_squared_error: 148160576.0000 - val_mean_absolute_error: 7609.1294\n",
      "Epoch 5/100\n",
      "183/183 [==============================] - 3s 18ms/step - loss: 1701.8982 - mean_squared_error: 13321658.0000 - mean_absolute_error: 1701.8982 - val_loss: 3291.1162 - val_mean_squared_error: 32712750.0000 - val_mean_absolute_error: 3291.1162\n",
      "Epoch 6/100\n",
      "183/183 [==============================] - 3s 18ms/step - loss: 1588.0710 - mean_squared_error: 12193518.0000 - mean_absolute_error: 1588.0710 - val_loss: 870.1969 - val_mean_squared_error: 3493240.2500 - val_mean_absolute_error: 870.1969\n",
      "Epoch 7/100\n",
      "183/183 [==============================] - 3s 17ms/step - loss: 1543.9307 - mean_squared_error: 11308532.0000 - mean_absolute_error: 1543.9307 - val_loss: 940.2219 - val_mean_squared_error: 5338647.5000 - val_mean_absolute_error: 940.2219\n",
      "Epoch 8/100\n",
      "183/183 [==============================] - 3s 17ms/step - loss: 1481.3077 - mean_squared_error: 10875184.0000 - mean_absolute_error: 1481.3077 - val_loss: 968.0025 - val_mean_squared_error: 3541220.2500 - val_mean_absolute_error: 968.0025\n",
      "Epoch 9/100\n",
      "183/183 [==============================] - 3s 17ms/step - loss: 1412.7704 - mean_squared_error: 10031942.0000 - mean_absolute_error: 1412.7704 - val_loss: 836.9214 - val_mean_squared_error: 3057334.7500 - val_mean_absolute_error: 836.9214\n",
      "Epoch 10/100\n",
      "183/183 [==============================] - 3s 17ms/step - loss: 1371.0116 - mean_squared_error: 9912966.0000 - mean_absolute_error: 1371.0116 - val_loss: 2369.7058 - val_mean_squared_error: 20047660.0000 - val_mean_absolute_error: 2369.7058\n",
      "59/59 [==============================] - 1s 17ms/step - loss: 1092.6014 - mean_squared_error: 6548608.0000 - mean_absolute_error: 1092.6014\n",
      "7/7 [==============================] - 1s 101ms/step - loss: 1605.8237 - mean_squared_error: 14681575.0000 - mean_absolute_error: 1605.8237\n",
      "_______________________________________STORE_38______________________________________\n",
      "Epoch 1/100\n",
      "WARNING:tensorflow:Model was constructed with shape (None, None, 103) for input KerasTensor(type_spec=TensorSpec(shape=(None, None, 103), dtype=tf.float32, name='dense_656_input'), name='dense_656_input', description=\"created by layer 'dense_656_input'\"), but it was called on an input with incompatible shape (None, 103).\n",
      "WARNING:tensorflow:Model was constructed with shape (None, None, 103) for input KerasTensor(type_spec=TensorSpec(shape=(None, None, 103), dtype=tf.float32, name='dense_656_input'), name='dense_656_input', description=\"created by layer 'dense_656_input'\"), but it was called on an input with incompatible shape (None, 103).\n"
     ]
    },
    {
     "name": "stderr",
     "output_type": "stream",
     "text": [
      "2022-12-17 13:56:59.009621: I tensorflow/core/grappler/optimizers/custom_graph_optimizer_registry.cc:114] Plugin optimizer for device_type GPU is enabled.\n"
     ]
    },
    {
     "name": "stdout",
     "output_type": "stream",
     "text": [
      "187/187 [==============================] - ETA: 0s - loss: 4042.8499 - mean_squared_error: 81399192.0000 - mean_absolute_error: 4042.8499WARNING:tensorflow:Model was constructed with shape (None, None, 103) for input KerasTensor(type_spec=TensorSpec(shape=(None, None, 103), dtype=tf.float32, name='dense_656_input'), name='dense_656_input', description=\"created by layer 'dense_656_input'\"), but it was called on an input with incompatible shape (None, 103).\n"
     ]
    },
    {
     "name": "stderr",
     "output_type": "stream",
     "text": [
      "2022-12-17 13:57:07.577789: I tensorflow/core/grappler/optimizers/custom_graph_optimizer_registry.cc:114] Plugin optimizer for device_type GPU is enabled.\n"
     ]
    },
    {
     "name": "stdout",
     "output_type": "stream",
     "text": [
      "187/187 [==============================] - 10s 39ms/step - loss: 4042.8499 - mean_squared_error: 81399192.0000 - mean_absolute_error: 4042.8499 - val_loss: 1601.3468 - val_mean_squared_error: 16355781.0000 - val_mean_absolute_error: 1601.3468\n",
      "Epoch 2/100\n",
      "187/187 [==============================] - 4s 19ms/step - loss: 1798.8234 - mean_squared_error: 15696951.0000 - mean_absolute_error: 1798.8234 - val_loss: 1656.4387 - val_mean_squared_error: 11278658.0000 - val_mean_absolute_error: 1656.4387\n",
      "Epoch 3/100\n",
      "187/187 [==============================] - 3s 17ms/step - loss: 1486.8894 - mean_squared_error: 11386948.0000 - mean_absolute_error: 1486.8894 - val_loss: 1076.9976 - val_mean_squared_error: 14503307.0000 - val_mean_absolute_error: 1076.9976\n",
      "Epoch 4/100\n",
      "187/187 [==============================] - 3s 17ms/step - loss: 1389.8593 - mean_squared_error: 10466201.0000 - mean_absolute_error: 1389.8593 - val_loss: 1556.9403 - val_mean_squared_error: 23944088.0000 - val_mean_absolute_error: 1556.9403\n",
      "Epoch 5/100\n",
      "187/187 [==============================] - 3s 18ms/step - loss: 1281.0361 - mean_squared_error: 10117322.0000 - mean_absolute_error: 1281.0361 - val_loss: 1089.5927 - val_mean_squared_error: 8599961.0000 - val_mean_absolute_error: 1089.5927\n",
      "Epoch 6/100\n",
      "187/187 [==============================] - 3s 17ms/step - loss: 1230.2266 - mean_squared_error: 8863343.0000 - mean_absolute_error: 1230.2266 - val_loss: 1102.9213 - val_mean_squared_error: 7077067.0000 - val_mean_absolute_error: 1102.9213\n",
      "Epoch 7/100\n",
      "187/187 [==============================] - 3s 17ms/step - loss: 1158.5859 - mean_squared_error: 7521494.5000 - mean_absolute_error: 1158.5859 - val_loss: 1859.1282 - val_mean_squared_error: 19682686.0000 - val_mean_absolute_error: 1859.1282\n",
      "60/60 [==============================] - 1s 14ms/step - loss: 957.4033 - mean_squared_error: 5887223.0000 - mean_absolute_error: 957.4033\n",
      "7/7 [==============================] - 0s 10ms/step - loss: 1980.7582 - mean_squared_error: 20256956.0000 - mean_absolute_error: 1980.7582\n",
      "_______________________________________STORE_39______________________________________\n",
      "Epoch 1/100\n",
      "WARNING:tensorflow:Model was constructed with shape (None, None, 103) for input KerasTensor(type_spec=TensorSpec(shape=(None, None, 103), dtype=tf.float32, name='dense_664_input'), name='dense_664_input', description=\"created by layer 'dense_664_input'\"), but it was called on an input with incompatible shape (None, 103).\n",
      "WARNING:tensorflow:Model was constructed with shape (None, None, 103) for input KerasTensor(type_spec=TensorSpec(shape=(None, None, 103), dtype=tf.float32, name='dense_664_input'), name='dense_664_input', description=\"created by layer 'dense_664_input'\"), but it was called on an input with incompatible shape (None, 103).\n"
     ]
    },
    {
     "name": "stderr",
     "output_type": "stream",
     "text": [
      "2022-12-17 13:57:30.701738: I tensorflow/core/grappler/optimizers/custom_graph_optimizer_registry.cc:114] Plugin optimizer for device_type GPU is enabled.\n"
     ]
    },
    {
     "name": "stdout",
     "output_type": "stream",
     "text": [
      "252/252 [==============================] - ETA: 0s - loss: 9697.1670 - mean_squared_error: 356983328.0000 - mean_absolute_error: 9697.1670WARNING:tensorflow:Model was constructed with shape (None, None, 103) for input KerasTensor(type_spec=TensorSpec(shape=(None, None, 103), dtype=tf.float32, name='dense_664_input'), name='dense_664_input', description=\"created by layer 'dense_664_input'\"), but it was called on an input with incompatible shape (None, 103).\n"
     ]
    },
    {
     "name": "stderr",
     "output_type": "stream",
     "text": [
      "2022-12-17 13:57:43.166279: I tensorflow/core/grappler/optimizers/custom_graph_optimizer_registry.cc:114] Plugin optimizer for device_type GPU is enabled.\n"
     ]
    },
    {
     "name": "stdout",
     "output_type": "stream",
     "text": [
      "252/252 [==============================] - 14s 32ms/step - loss: 9697.1670 - mean_squared_error: 356983328.0000 - mean_absolute_error: 9697.1670 - val_loss: 9105.1475 - val_mean_squared_error: 165740000.0000 - val_mean_absolute_error: 9105.1475\n",
      "Epoch 2/100\n",
      "252/252 [==============================] - 4s 17ms/step - loss: 4940.8091 - mean_squared_error: 114641192.0000 - mean_absolute_error: 4940.8091 - val_loss: 14533.7207 - val_mean_squared_error: 437963264.0000 - val_mean_absolute_error: 14533.7207\n",
      "Epoch 3/100\n",
      "252/252 [==============================] - 5s 18ms/step - loss: 4653.5479 - mean_squared_error: 109580784.0000 - mean_absolute_error: 4653.5479 - val_loss: 11393.9082 - val_mean_squared_error: 301905568.0000 - val_mean_absolute_error: 11393.9082\n",
      "Epoch 4/100\n",
      "252/252 [==============================] - 4s 17ms/step - loss: 4336.4668 - mean_squared_error: 104403928.0000 - mean_absolute_error: 4336.4668 - val_loss: 6219.9595 - val_mean_squared_error: 75892256.0000 - val_mean_absolute_error: 6219.9595\n",
      "Epoch 5/100\n",
      "252/252 [==============================] - 4s 17ms/step - loss: 4147.8008 - mean_squared_error: 99066680.0000 - mean_absolute_error: 4147.8008 - val_loss: 4853.2930 - val_mean_squared_error: 56220924.0000 - val_mean_absolute_error: 4853.2930\n",
      "Epoch 6/100\n",
      "252/252 [==============================] - 4s 17ms/step - loss: 4008.7742 - mean_squared_error: 94386440.0000 - mean_absolute_error: 4008.7742 - val_loss: 4212.3271 - val_mean_squared_error: 31157656.0000 - val_mean_absolute_error: 4212.3271\n",
      "Epoch 7/100\n",
      "252/252 [==============================] - 4s 17ms/step - loss: 3853.5398 - mean_squared_error: 95464096.0000 - mean_absolute_error: 3853.5398 - val_loss: 2956.7378 - val_mean_squared_error: 20971204.0000 - val_mean_absolute_error: 2956.7378\n",
      "Epoch 8/100\n",
      "252/252 [==============================] - 4s 17ms/step - loss: 3744.1633 - mean_squared_error: 90076600.0000 - mean_absolute_error: 3744.1633 - val_loss: 4961.0381 - val_mean_squared_error: 48117432.0000 - val_mean_absolute_error: 4961.0381\n",
      "Epoch 9/100\n",
      "252/252 [==============================] - 4s 18ms/step - loss: 3762.7156 - mean_squared_error: 93803680.0000 - mean_absolute_error: 3762.7156 - val_loss: 3209.1216 - val_mean_squared_error: 26886760.0000 - val_mean_absolute_error: 3209.1216\n",
      "Epoch 10/100\n",
      "252/252 [==============================] - 4s 18ms/step - loss: 3596.8435 - mean_squared_error: 87270784.0000 - mean_absolute_error: 3596.8435 - val_loss: 4281.6812 - val_mean_squared_error: 34253076.0000 - val_mean_absolute_error: 4281.6812\n",
      "Epoch 11/100\n",
      "252/252 [==============================] - 4s 17ms/step - loss: 3517.1890 - mean_squared_error: 84295928.0000 - mean_absolute_error: 3517.1890 - val_loss: 4851.9419 - val_mean_squared_error: 46607204.0000 - val_mean_absolute_error: 4851.9419\n",
      "81/81 [==============================] - 1s 11ms/step - loss: 3295.7327 - mean_squared_error: 79076624.0000 - mean_absolute_error: 3295.7329\n",
      "9/9 [==============================] - 0s 35ms/step - loss: 3733.6946 - mean_squared_error: 53244516.0000 - mean_absolute_error: 3733.6946\n",
      "_______________________________________STORE_40______________________________________\n",
      "Epoch 1/100\n",
      "WARNING:tensorflow:Model was constructed with shape (None, None, 103) for input KerasTensor(type_spec=TensorSpec(shape=(None, None, 103), dtype=tf.float32, name='dense_672_input'), name='dense_672_input', description=\"created by layer 'dense_672_input'\"), but it was called on an input with incompatible shape (None, 103).\n",
      "WARNING:tensorflow:Model was constructed with shape (None, None, 103) for input KerasTensor(type_spec=TensorSpec(shape=(None, None, 103), dtype=tf.float32, name='dense_672_input'), name='dense_672_input', description=\"created by layer 'dense_672_input'\"), but it was called on an input with incompatible shape (None, 103).\n"
     ]
    },
    {
     "name": "stderr",
     "output_type": "stream",
     "text": [
      "2022-12-17 13:58:30.248629: I tensorflow/core/grappler/optimizers/custom_graph_optimizer_registry.cc:114] Plugin optimizer for device_type GPU is enabled.\n"
     ]
    },
    {
     "name": "stdout",
     "output_type": "stream",
     "text": [
      "256/256 [==============================] - ETA: 0s - loss: 6500.9536 - mean_squared_error: 157910448.0000 - mean_absolute_error: 6500.9536WARNING:tensorflow:Model was constructed with shape (None, None, 103) for input KerasTensor(type_spec=TensorSpec(shape=(None, None, 103), dtype=tf.float32, name='dense_672_input'), name='dense_672_input', description=\"created by layer 'dense_672_input'\"), but it was called on an input with incompatible shape (None, 103).\n"
     ]
    },
    {
     "name": "stderr",
     "output_type": "stream",
     "text": [
      "2022-12-17 13:58:40.130269: I tensorflow/core/grappler/optimizers/custom_graph_optimizer_registry.cc:114] Plugin optimizer for device_type GPU is enabled.\n"
     ]
    },
    {
     "name": "stdout",
     "output_type": "stream",
     "text": [
      "256/256 [==============================] - 12s 33ms/step - loss: 6500.9536 - mean_squared_error: 157910448.0000 - mean_absolute_error: 6500.9536 - val_loss: 3019.7334 - val_mean_squared_error: 38921564.0000 - val_mean_absolute_error: 3019.7334\n",
      "Epoch 2/100\n",
      "256/256 [==============================] - 4s 18ms/step - loss: 3599.2812 - mean_squared_error: 46865064.0000 - mean_absolute_error: 3599.2812 - val_loss: 4212.9990 - val_mean_squared_error: 42956076.0000 - val_mean_absolute_error: 4212.9990\n",
      "Epoch 3/100\n",
      "256/256 [==============================] - 5s 18ms/step - loss: 3227.7493 - mean_squared_error: 40088324.0000 - mean_absolute_error: 3227.7493 - val_loss: 2537.6089 - val_mean_squared_error: 24356090.0000 - val_mean_absolute_error: 2537.6089\n",
      "Epoch 4/100\n",
      "256/256 [==============================] - 5s 18ms/step - loss: 3039.7061 - mean_squared_error: 36613568.0000 - mean_absolute_error: 3039.7061 - val_loss: 2997.2327 - val_mean_squared_error: 25393444.0000 - val_mean_absolute_error: 2997.2327\n",
      "Epoch 5/100\n",
      "256/256 [==============================] - 4s 17ms/step - loss: 2813.4375 - mean_squared_error: 32659758.0000 - mean_absolute_error: 2813.4375 - val_loss: 2697.6931 - val_mean_squared_error: 28946434.0000 - val_mean_absolute_error: 2697.6931\n",
      "Epoch 6/100\n",
      "256/256 [==============================] - 4s 17ms/step - loss: 2782.6035 - mean_squared_error: 33172156.0000 - mean_absolute_error: 2782.6035 - val_loss: 2377.1741 - val_mean_squared_error: 21188948.0000 - val_mean_absolute_error: 2377.1741\n",
      "Epoch 7/100\n",
      "256/256 [==============================] - 4s 17ms/step - loss: 2623.5862 - mean_squared_error: 29414574.0000 - mean_absolute_error: 2623.5862 - val_loss: 2544.6414 - val_mean_squared_error: 21284410.0000 - val_mean_absolute_error: 2544.6414\n",
      "Epoch 8/100\n",
      "256/256 [==============================] - 4s 17ms/step - loss: 2579.6201 - mean_squared_error: 28574778.0000 - mean_absolute_error: 2579.6201 - val_loss: 2779.4470 - val_mean_squared_error: 30616224.0000 - val_mean_absolute_error: 2779.4470\n",
      "Epoch 9/100\n",
      "256/256 [==============================] - 4s 16ms/step - loss: 2492.5374 - mean_squared_error: 27889884.0000 - mean_absolute_error: 2492.5374 - val_loss: 2661.4463 - val_mean_squared_error: 27170840.0000 - val_mean_absolute_error: 2661.4463\n",
      "Epoch 10/100\n",
      "256/256 [==============================] - 4s 16ms/step - loss: 2427.4087 - mean_squared_error: 26126894.0000 - mean_absolute_error: 2427.4087 - val_loss: 2362.8726 - val_mean_squared_error: 21652044.0000 - val_mean_absolute_error: 2362.8726\n",
      "82/82 [==============================] - 2s 14ms/step - loss: 2255.6838 - mean_squared_error: 23821014.0000 - mean_absolute_error: 2255.6838\n",
      "10/10 [==============================] - 1s 64ms/step - loss: 1840.6617 - mean_squared_error: 10895682.0000 - mean_absolute_error: 1840.6617\n",
      "_______________________________________STORE_41______________________________________\n",
      "Epoch 1/100\n",
      "WARNING:tensorflow:Model was constructed with shape (None, None, 103) for input KerasTensor(type_spec=TensorSpec(shape=(None, None, 103), dtype=tf.float32, name='dense_680_input'), name='dense_680_input', description=\"created by layer 'dense_680_input'\"), but it was called on an input with incompatible shape (None, 103).\n",
      "WARNING:tensorflow:Model was constructed with shape (None, None, 103) for input KerasTensor(type_spec=TensorSpec(shape=(None, None, 103), dtype=tf.float32, name='dense_680_input'), name='dense_680_input', description=\"created by layer 'dense_680_input'\"), but it was called on an input with incompatible shape (None, 103).\n"
     ]
    },
    {
     "name": "stderr",
     "output_type": "stream",
     "text": [
      "2022-12-17 13:59:23.672973: I tensorflow/core/grappler/optimizers/custom_graph_optimizer_registry.cc:114] Plugin optimizer for device_type GPU is enabled.\n"
     ]
    },
    {
     "name": "stdout",
     "output_type": "stream",
     "text": [
      "257/257 [==============================] - ETA: 0s - loss: 8636.3486 - mean_squared_error: 302459264.0000 - mean_absolute_error: 8636.3486WARNING:tensorflow:Model was constructed with shape (None, None, 103) for input KerasTensor(type_spec=TensorSpec(shape=(None, None, 103), dtype=tf.float32, name='dense_680_input'), name='dense_680_input', description=\"created by layer 'dense_680_input'\"), but it was called on an input with incompatible shape (None, 103).\n"
     ]
    },
    {
     "name": "stderr",
     "output_type": "stream",
     "text": [
      "2022-12-17 13:59:36.594980: I tensorflow/core/grappler/optimizers/custom_graph_optimizer_registry.cc:114] Plugin optimizer for device_type GPU is enabled.\n"
     ]
    },
    {
     "name": "stdout",
     "output_type": "stream",
     "text": [
      "257/257 [==============================] - 15s 32ms/step - loss: 8636.3486 - mean_squared_error: 302459264.0000 - mean_absolute_error: 8636.3486 - val_loss: 12274.2783 - val_mean_squared_error: 312362976.0000 - val_mean_absolute_error: 12274.2783\n",
      "Epoch 2/100\n",
      "257/257 [==============================] - 5s 18ms/step - loss: 4282.5244 - mean_squared_error: 86502920.0000 - mean_absolute_error: 4282.5244 - val_loss: 6930.9253 - val_mean_squared_error: 117880416.0000 - val_mean_absolute_error: 6930.9253\n",
      "Epoch 3/100\n",
      "257/257 [==============================] - 5s 18ms/step - loss: 4018.3425 - mean_squared_error: 80925928.0000 - mean_absolute_error: 4018.3425 - val_loss: 7949.6191 - val_mean_squared_error: 157153856.0000 - val_mean_absolute_error: 7949.6191\n",
      "Epoch 4/100\n",
      "257/257 [==============================] - 4s 17ms/step - loss: 3790.2671 - mean_squared_error: 76199632.0000 - mean_absolute_error: 3790.2671 - val_loss: 12961.7041 - val_mean_squared_error: 367648480.0000 - val_mean_absolute_error: 12961.7041\n",
      "Epoch 5/100\n",
      "257/257 [==============================] - 4s 17ms/step - loss: 3775.0037 - mean_squared_error: 76667856.0000 - mean_absolute_error: 3775.0037 - val_loss: 4129.7578 - val_mean_squared_error: 54635148.0000 - val_mean_absolute_error: 4129.7578\n",
      "Epoch 6/100\n",
      "257/257 [==============================] - 4s 17ms/step - loss: 3596.6042 - mean_squared_error: 70699600.0000 - mean_absolute_error: 3596.6042 - val_loss: 4142.3452 - val_mean_squared_error: 45782844.0000 - val_mean_absolute_error: 4142.3452\n",
      "Epoch 7/100\n",
      "257/257 [==============================] - 4s 17ms/step - loss: 3390.3142 - mean_squared_error: 69790064.0000 - mean_absolute_error: 3390.3142 - val_loss: 2382.5884 - val_mean_squared_error: 27772958.0000 - val_mean_absolute_error: 2382.5884\n",
      "Epoch 8/100\n",
      "257/257 [==============================] - 4s 16ms/step - loss: 3283.5278 - mean_squared_error: 66088280.0000 - mean_absolute_error: 3283.5278 - val_loss: 5061.0513 - val_mean_squared_error: 67090120.0000 - val_mean_absolute_error: 5061.0513\n",
      "Epoch 9/100\n",
      "257/257 [==============================] - 5s 18ms/step - loss: 3158.6809 - mean_squared_error: 64366868.0000 - mean_absolute_error: 3158.6809 - val_loss: 2401.9917 - val_mean_squared_error: 22754232.0000 - val_mean_absolute_error: 2401.9917\n",
      "Epoch 10/100\n",
      "257/257 [==============================] - 5s 18ms/step - loss: 3147.7517 - mean_squared_error: 62480528.0000 - mean_absolute_error: 3147.7517 - val_loss: 4980.2563 - val_mean_squared_error: 66153132.0000 - val_mean_absolute_error: 4980.2563\n",
      "Epoch 11/100\n",
      "257/257 [==============================] - 4s 17ms/step - loss: 3078.0996 - mean_squared_error: 59886000.0000 - mean_absolute_error: 3078.0996 - val_loss: 5659.8389 - val_mean_squared_error: 82262544.0000 - val_mean_absolute_error: 5659.8389\n",
      "82/82 [==============================] - 1s 12ms/step - loss: 2806.4890 - mean_squared_error: 62444732.0000 - mean_absolute_error: 2806.4890\n",
      "10/10 [==============================] - 0s 24ms/step - loss: 3183.6797 - mean_squared_error: 37036372.0000 - mean_absolute_error: 3183.6799\n",
      "_______________________________________STORE_42______________________________________\n",
      "Epoch 1/100\n",
      "WARNING:tensorflow:Model was constructed with shape (None, None, 103) for input KerasTensor(type_spec=TensorSpec(shape=(None, None, 103), dtype=tf.float32, name='dense_688_input'), name='dense_688_input', description=\"created by layer 'dense_688_input'\"), but it was called on an input with incompatible shape (None, 103).\n",
      "WARNING:tensorflow:Model was constructed with shape (None, None, 103) for input KerasTensor(type_spec=TensorSpec(shape=(None, None, 103), dtype=tf.float32, name='dense_688_input'), name='dense_688_input', description=\"created by layer 'dense_688_input'\"), but it was called on an input with incompatible shape (None, 103).\n"
     ]
    },
    {
     "name": "stderr",
     "output_type": "stream",
     "text": [
      "2022-12-17 14:00:23.963092: I tensorflow/core/grappler/optimizers/custom_graph_optimizer_registry.cc:114] Plugin optimizer for device_type GPU is enabled.\n"
     ]
    },
    {
     "name": "stdout",
     "output_type": "stream",
     "text": [
      "175/175 [==============================] - ETA: 0s - loss: 6836.9580 - mean_squared_error: 202028128.0000 - mean_absolute_error: 6836.9580WARNING:tensorflow:Model was constructed with shape (None, None, 103) for input KerasTensor(type_spec=TensorSpec(shape=(None, None, 103), dtype=tf.float32, name='dense_688_input'), name='dense_688_input', description=\"created by layer 'dense_688_input'\"), but it was called on an input with incompatible shape (None, 103).\n"
     ]
    },
    {
     "name": "stderr",
     "output_type": "stream",
     "text": [
      "2022-12-17 14:00:32.310614: I tensorflow/core/grappler/optimizers/custom_graph_optimizer_registry.cc:114] Plugin optimizer for device_type GPU is enabled.\n"
     ]
    },
    {
     "name": "stdout",
     "output_type": "stream",
     "text": [
      "175/175 [==============================] - 10s 37ms/step - loss: 6836.9580 - mean_squared_error: 202028128.0000 - mean_absolute_error: 6836.9580 - val_loss: 3144.3840 - val_mean_squared_error: 28261710.0000 - val_mean_absolute_error: 3144.3840\n",
      "Epoch 2/100\n",
      "175/175 [==============================] - 3s 18ms/step - loss: 2971.5071 - mean_squared_error: 35158116.0000 - mean_absolute_error: 2971.5071 - val_loss: 2870.6741 - val_mean_squared_error: 38817596.0000 - val_mean_absolute_error: 2870.6741\n",
      "Epoch 3/100\n",
      "175/175 [==============================] - 3s 18ms/step - loss: 2454.1650 - mean_squared_error: 24803752.0000 - mean_absolute_error: 2454.1650 - val_loss: 2997.9590 - val_mean_squared_error: 22012664.0000 - val_mean_absolute_error: 2997.9590\n",
      "Epoch 4/100\n",
      "175/175 [==============================] - 3s 17ms/step - loss: 2173.2307 - mean_squared_error: 21428890.0000 - mean_absolute_error: 2173.2307 - val_loss: 1764.7322 - val_mean_squared_error: 9474526.0000 - val_mean_absolute_error: 1764.7322\n",
      "Epoch 5/100\n",
      "175/175 [==============================] - 3s 17ms/step - loss: 2082.1252 - mean_squared_error: 20559840.0000 - mean_absolute_error: 2082.1252 - val_loss: 4046.1824 - val_mean_squared_error: 68549240.0000 - val_mean_absolute_error: 4046.1824\n",
      "Epoch 6/100\n",
      "175/175 [==============================] - 3s 18ms/step - loss: 1893.4438 - mean_squared_error: 17292986.0000 - mean_absolute_error: 1893.4438 - val_loss: 2738.0793 - val_mean_squared_error: 31405036.0000 - val_mean_absolute_error: 2738.0793\n",
      "Epoch 7/100\n",
      "175/175 [==============================] - 3s 17ms/step - loss: 1912.2710 - mean_squared_error: 18461640.0000 - mean_absolute_error: 1912.2710 - val_loss: 2000.6301 - val_mean_squared_error: 23673726.0000 - val_mean_absolute_error: 2000.6301\n",
      "Epoch 8/100\n",
      "175/175 [==============================] - 3s 17ms/step - loss: 1810.2007 - mean_squared_error: 16994744.0000 - mean_absolute_error: 1810.2007 - val_loss: 1149.1471 - val_mean_squared_error: 6792836.5000 - val_mean_absolute_error: 1149.1471\n",
      "Epoch 9/100\n",
      "175/175 [==============================] - 3s 17ms/step - loss: 1786.3046 - mean_squared_error: 16855692.0000 - mean_absolute_error: 1786.3046 - val_loss: 1586.8534 - val_mean_squared_error: 12681734.0000 - val_mean_absolute_error: 1586.8534\n",
      "Epoch 10/100\n",
      "175/175 [==============================] - 3s 17ms/step - loss: 1708.2284 - mean_squared_error: 14978649.0000 - mean_absolute_error: 1708.2284 - val_loss: 2708.0945 - val_mean_squared_error: 33965124.0000 - val_mean_absolute_error: 2708.0945\n",
      "Epoch 11/100\n",
      "175/175 [==============================] - 3s 17ms/step - loss: 1707.1798 - mean_squared_error: 14786896.0000 - mean_absolute_error: 1707.1798 - val_loss: 1406.0763 - val_mean_squared_error: 8897381.0000 - val_mean_absolute_error: 1406.0763\n",
      "Epoch 12/100\n",
      "175/175 [==============================] - 3s 17ms/step - loss: 1609.6571 - mean_squared_error: 13782702.0000 - mean_absolute_error: 1609.6571 - val_loss: 3456.6816 - val_mean_squared_error: 54995768.0000 - val_mean_absolute_error: 3456.6816\n",
      "56/56 [==============================] - 1s 19ms/step - loss: 1396.5607 - mean_squared_error: 8512033.0000 - mean_absolute_error: 1396.5608\n",
      "7/7 [==============================] - 0s 63ms/step - loss: 3262.2849 - mean_squared_error: 50425560.0000 - mean_absolute_error: 3262.2854\n",
      "_______________________________________STORE_43______________________________________\n",
      "Epoch 1/100\n",
      "WARNING:tensorflow:Model was constructed with shape (None, None, 103) for input KerasTensor(type_spec=TensorSpec(shape=(None, None, 103), dtype=tf.float32, name='dense_696_input'), name='dense_696_input', description=\"created by layer 'dense_696_input'\"), but it was called on an input with incompatible shape (32, 103).\n",
      "WARNING:tensorflow:Model was constructed with shape (None, None, 103) for input KerasTensor(type_spec=TensorSpec(shape=(None, None, 103), dtype=tf.float32, name='dense_696_input'), name='dense_696_input', description=\"created by layer 'dense_696_input'\"), but it was called on an input with incompatible shape (32, 103).\n"
     ]
    },
    {
     "name": "stderr",
     "output_type": "stream",
     "text": [
      "2022-12-17 14:01:09.249180: I tensorflow/core/grappler/optimizers/custom_graph_optimizer_registry.cc:114] Plugin optimizer for device_type GPU is enabled.\n"
     ]
    },
    {
     "name": "stdout",
     "output_type": "stream",
     "text": [
      "171/172 [============================>.] - ETA: 0s - loss: 7652.4497 - mean_squared_error: 252064224.0000 - mean_absolute_error: 7652.4497WARNING:tensorflow:Model was constructed with shape (None, None, 103) for input KerasTensor(type_spec=TensorSpec(shape=(None, None, 103), dtype=tf.float32, name='dense_696_input'), name='dense_696_input', description=\"created by layer 'dense_696_input'\"), but it was called on an input with incompatible shape (None, 103).\n"
     ]
    },
    {
     "name": "stderr",
     "output_type": "stream",
     "text": [
      "2022-12-17 14:01:19.313939: I tensorflow/core/grappler/optimizers/custom_graph_optimizer_registry.cc:114] Plugin optimizer for device_type GPU is enabled.\n"
     ]
    },
    {
     "name": "stdout",
     "output_type": "stream",
     "text": [
      "172/172 [==============================] - 12s 36ms/step - loss: 7640.1382 - mean_squared_error: 251218176.0000 - mean_absolute_error: 7640.1382 - val_loss: 9585.9453 - val_mean_squared_error: 163723856.0000 - val_mean_absolute_error: 9585.9453\n",
      "Epoch 2/100\n",
      "172/172 [==============================] - 3s 16ms/step - loss: 3129.5359 - mean_squared_error: 37556852.0000 - mean_absolute_error: 3129.5359 - val_loss: 3816.7380 - val_mean_squared_error: 41867208.0000 - val_mean_absolute_error: 3816.7380\n",
      "Epoch 3/100\n",
      "172/172 [==============================] - 3s 16ms/step - loss: 2667.8088 - mean_squared_error: 31456848.0000 - mean_absolute_error: 2667.8088 - val_loss: 1609.2806 - val_mean_squared_error: 8811974.0000 - val_mean_absolute_error: 1609.2806\n",
      "Epoch 4/100\n",
      "172/172 [==============================] - 3s 16ms/step - loss: 2465.8931 - mean_squared_error: 26712162.0000 - mean_absolute_error: 2465.8931 - val_loss: 3032.3547 - val_mean_squared_error: 28177276.0000 - val_mean_absolute_error: 3032.3547\n",
      "Epoch 5/100\n",
      "172/172 [==============================] - 3s 15ms/step - loss: 2280.6587 - mean_squared_error: 23498088.0000 - mean_absolute_error: 2280.6587 - val_loss: 6560.5674 - val_mean_squared_error: 120644424.0000 - val_mean_absolute_error: 6560.5674\n",
      "Epoch 6/100\n",
      "172/172 [==============================] - 3s 16ms/step - loss: 2192.1841 - mean_squared_error: 22995948.0000 - mean_absolute_error: 2192.1841 - val_loss: 1379.1075 - val_mean_squared_error: 10529565.0000 - val_mean_absolute_error: 1379.1075\n",
      "Epoch 7/100\n",
      "172/172 [==============================] - 3s 16ms/step - loss: 2065.5061 - mean_squared_error: 20416072.0000 - mean_absolute_error: 2065.5061 - val_loss: 1600.1426 - val_mean_squared_error: 10058455.0000 - val_mean_absolute_error: 1600.1426\n",
      "Epoch 8/100\n",
      "172/172 [==============================] - 3s 15ms/step - loss: 2050.8635 - mean_squared_error: 19722970.0000 - mean_absolute_error: 2050.8635 - val_loss: 1401.4802 - val_mean_squared_error: 8320006.0000 - val_mean_absolute_error: 1401.4802\n",
      "Epoch 9/100\n",
      "172/172 [==============================] - 3s 16ms/step - loss: 1964.1099 - mean_squared_error: 18403604.0000 - mean_absolute_error: 1964.1099 - val_loss: 1525.0604 - val_mean_squared_error: 6957972.0000 - val_mean_absolute_error: 1525.0604\n",
      "Epoch 10/100\n",
      "172/172 [==============================] - 3s 17ms/step - loss: 1939.8252 - mean_squared_error: 18900932.0000 - mean_absolute_error: 1939.8252 - val_loss: 3705.5906 - val_mean_squared_error: 54079036.0000 - val_mean_absolute_error: 3705.5906\n",
      "56/56 [==============================] - 1s 16ms/step - loss: 3026.4014 - mean_squared_error: 35091780.0000 - mean_absolute_error: 3026.4014\n",
      "7/7 [==============================] - 1s 95ms/step - loss: 1810.4205 - mean_squared_error: 13907662.0000 - mean_absolute_error: 1810.4205\n",
      "_______________________________________STORE_44______________________________________\n",
      "Epoch 1/100\n",
      "WARNING:tensorflow:Model was constructed with shape (None, None, 103) for input KerasTensor(type_spec=TensorSpec(shape=(None, None, 103), dtype=tf.float32, name='dense_704_input'), name='dense_704_input', description=\"created by layer 'dense_704_input'\"), but it was called on an input with incompatible shape (None, 103).\n",
      "WARNING:tensorflow:Model was constructed with shape (None, None, 103) for input KerasTensor(type_spec=TensorSpec(shape=(None, None, 103), dtype=tf.float32, name='dense_704_input'), name='dense_704_input', description=\"created by layer 'dense_704_input'\"), but it was called on an input with incompatible shape (None, 103).\n"
     ]
    },
    {
     "name": "stderr",
     "output_type": "stream",
     "text": [
      "2022-12-17 14:01:47.918455: I tensorflow/core/grappler/optimizers/custom_graph_optimizer_registry.cc:114] Plugin optimizer for device_type GPU is enabled.\n"
     ]
    },
    {
     "name": "stdout",
     "output_type": "stream",
     "text": [
      "181/181 [==============================] - ETA: 0s - loss: 3255.3730 - mean_squared_error: 55346460.0000 - mean_absolute_error: 3255.3730WARNING:tensorflow:Model was constructed with shape (None, None, 103) for input KerasTensor(type_spec=TensorSpec(shape=(None, None, 103), dtype=tf.float32, name='dense_704_input'), name='dense_704_input', description=\"created by layer 'dense_704_input'\"), but it was called on an input with incompatible shape (None, 103).\n"
     ]
    },
    {
     "name": "stderr",
     "output_type": "stream",
     "text": [
      "2022-12-17 14:01:56.566903: I tensorflow/core/grappler/optimizers/custom_graph_optimizer_registry.cc:114] Plugin optimizer for device_type GPU is enabled.\n"
     ]
    },
    {
     "name": "stdout",
     "output_type": "stream",
     "text": [
      "181/181 [==============================] - 10s 37ms/step - loss: 3255.3730 - mean_squared_error: 55346460.0000 - mean_absolute_error: 3255.3730 - val_loss: 1335.5590 - val_mean_squared_error: 5407293.5000 - val_mean_absolute_error: 1335.5590\n",
      "Epoch 2/100\n",
      "181/181 [==============================] - 3s 18ms/step - loss: 1385.6896 - mean_squared_error: 8824429.0000 - mean_absolute_error: 1385.6896 - val_loss: 3412.0459 - val_mean_squared_error: 43253472.0000 - val_mean_absolute_error: 3412.0459\n",
      "Epoch 3/100\n",
      "181/181 [==============================] - 3s 17ms/step - loss: 1195.3357 - mean_squared_error: 7085409.0000 - mean_absolute_error: 1195.3357 - val_loss: 1051.6534 - val_mean_squared_error: 3261163.7500 - val_mean_absolute_error: 1051.6534\n",
      "Epoch 4/100\n",
      "181/181 [==============================] - 3s 17ms/step - loss: 1046.8492 - mean_squared_error: 5791486.0000 - mean_absolute_error: 1046.8492 - val_loss: 1174.5757 - val_mean_squared_error: 4971164.0000 - val_mean_absolute_error: 1174.5757\n",
      "Epoch 5/100\n",
      "181/181 [==============================] - 3s 17ms/step - loss: 981.9047 - mean_squared_error: 5146995.5000 - mean_absolute_error: 981.9047 - val_loss: 815.5800 - val_mean_squared_error: 2778551.5000 - val_mean_absolute_error: 815.5800\n",
      "Epoch 6/100\n",
      "181/181 [==============================] - 3s 17ms/step - loss: 944.3248 - mean_squared_error: 4891097.5000 - mean_absolute_error: 944.3248 - val_loss: 788.0358 - val_mean_squared_error: 2950589.5000 - val_mean_absolute_error: 788.0358\n",
      "Epoch 7/100\n",
      "181/181 [==============================] - 3s 17ms/step - loss: 914.9019 - mean_squared_error: 4671821.0000 - mean_absolute_error: 914.9019 - val_loss: 906.4478 - val_mean_squared_error: 3119746.7500 - val_mean_absolute_error: 906.4478\n",
      "Epoch 8/100\n",
      "181/181 [==============================] - 3s 17ms/step - loss: 861.4682 - mean_squared_error: 4448971.5000 - mean_absolute_error: 861.4682 - val_loss: 880.3094 - val_mean_squared_error: 3534134.7500 - val_mean_absolute_error: 880.3094\n",
      "Epoch 9/100\n",
      "181/181 [==============================] - 3s 17ms/step - loss: 859.1903 - mean_squared_error: 4339136.5000 - mean_absolute_error: 859.1903 - val_loss: 1012.6254 - val_mean_squared_error: 4773919.0000 - val_mean_absolute_error: 1012.6254\n",
      "58/58 [==============================] - 2s 18ms/step - loss: 1082.9637 - mean_squared_error: 4624206.0000 - mean_absolute_error: 1082.9637\n",
      "7/7 [==============================] - 0s 65ms/step - loss: 1076.9026 - mean_squared_error: 5723169.5000 - mean_absolute_error: 1076.9026\n",
      "_______________________________________STORE_45______________________________________\n",
      "Epoch 1/100\n",
      "WARNING:tensorflow:Model was constructed with shape (None, None, 103) for input KerasTensor(type_spec=TensorSpec(shape=(None, None, 103), dtype=tf.float32, name='dense_712_input'), name='dense_712_input', description=\"created by layer 'dense_712_input'\"), but it was called on an input with incompatible shape (None, 103).\n",
      "WARNING:tensorflow:Model was constructed with shape (None, None, 103) for input KerasTensor(type_spec=TensorSpec(shape=(None, None, 103), dtype=tf.float32, name='dense_712_input'), name='dense_712_input', description=\"created by layer 'dense_712_input'\"), but it was called on an input with incompatible shape (None, 103).\n"
     ]
    },
    {
     "name": "stderr",
     "output_type": "stream",
     "text": [
      "2022-12-17 14:02:24.916359: I tensorflow/core/grappler/optimizers/custom_graph_optimizer_registry.cc:114] Plugin optimizer for device_type GPU is enabled.\n"
     ]
    },
    {
     "name": "stdout",
     "output_type": "stream",
     "text": [
      "246/246 [==============================] - ETA: 0s - loss: 5779.6245 - mean_squared_error: 125914416.0000 - mean_absolute_error: 5779.6245WARNING:tensorflow:Model was constructed with shape (None, None, 103) for input KerasTensor(type_spec=TensorSpec(shape=(None, None, 103), dtype=tf.float32, name='dense_712_input'), name='dense_712_input', description=\"created by layer 'dense_712_input'\"), but it was called on an input with incompatible shape (None, 103).\n"
     ]
    },
    {
     "name": "stderr",
     "output_type": "stream",
     "text": [
      "2022-12-17 14:02:34.576909: I tensorflow/core/grappler/optimizers/custom_graph_optimizer_registry.cc:114] Plugin optimizer for device_type GPU is enabled.\n"
     ]
    },
    {
     "name": "stdout",
     "output_type": "stream",
     "text": [
      "246/246 [==============================] - 11s 33ms/step - loss: 5779.6245 - mean_squared_error: 125914416.0000 - mean_absolute_error: 5779.6245 - val_loss: 3506.2839 - val_mean_squared_error: 33049390.0000 - val_mean_absolute_error: 3506.2839\n",
      "Epoch 2/100\n",
      "246/246 [==============================] - 5s 19ms/step - loss: 2970.5347 - mean_squared_error: 46046704.0000 - mean_absolute_error: 2970.5347 - val_loss: 4800.8647 - val_mean_squared_error: 47317632.0000 - val_mean_absolute_error: 4800.8647\n",
      "Epoch 3/100\n",
      "246/246 [==============================] - 4s 17ms/step - loss: 2839.2964 - mean_squared_error: 47030344.0000 - mean_absolute_error: 2839.2964 - val_loss: 2038.1201 - val_mean_squared_error: 18017016.0000 - val_mean_absolute_error: 2038.1201\n",
      "Epoch 4/100\n",
      "246/246 [==============================] - 4s 17ms/step - loss: 2766.3982 - mean_squared_error: 45947772.0000 - mean_absolute_error: 2766.3982 - val_loss: 2083.8621 - val_mean_squared_error: 18009842.0000 - val_mean_absolute_error: 2083.8621\n",
      "Epoch 5/100\n",
      "246/246 [==============================] - 4s 17ms/step - loss: 2673.0627 - mean_squared_error: 46191260.0000 - mean_absolute_error: 2673.0627 - val_loss: 2119.2842 - val_mean_squared_error: 18976668.0000 - val_mean_absolute_error: 2119.2842\n",
      "Epoch 6/100\n",
      "246/246 [==============================] - 4s 17ms/step - loss: 2617.5454 - mean_squared_error: 44949704.0000 - mean_absolute_error: 2617.5454 - val_loss: 2292.7715 - val_mean_squared_error: 18819980.0000 - val_mean_absolute_error: 2292.7715\n",
      "Epoch 7/100\n",
      "246/246 [==============================] - 4s 18ms/step - loss: 2528.6475 - mean_squared_error: 42493124.0000 - mean_absolute_error: 2528.6475 - val_loss: 2490.6506 - val_mean_squared_error: 22794730.0000 - val_mean_absolute_error: 2490.6506\n",
      "79/79 [==============================] - 1s 12ms/step - loss: 2838.8501 - mean_squared_error: 42474276.0000 - mean_absolute_error: 2838.8501\n",
      "9/9 [==============================] - 0s 30ms/step - loss: 1767.7911 - mean_squared_error: 8226523.5000 - mean_absolute_error: 1767.7911\n"
     ]
    }
   ],
   "source": [
    "for i in range(0, 45):\n",
    "    print(\"_______________________________________STORE_\"+str(i+1)+\"______________________________________\")\n",
    "    # path = os.path.join(\"./data/store_level_data/\", \"store_\" + str(i))\n",
    "    X_train, y_train, x_valid, y_valid, x_test, y_test = load_data(str(i+1), data_dir=\"./data/store_level_data/\")\n",
    "    model = Model().model\n",
    "    early_stopping = tf.keras.callbacks.EarlyStopping(\n",
    "                    monitor='val_loss',\n",
    "                    patience=4,\n",
    "                    min_delta= 100,\n",
    "                    restore_best_weights=True,\n",
    "                )\n",
    "    try:\n",
    "        history = model.fit(\n",
    "                            X_train,\n",
    "                            y_train,\n",
    "                            epochs=100,\n",
    "                            callbacks=[early_stopping],\n",
    "                            validation_data=(x_valid, y_valid)\n",
    "                        )\n",
    "        loss, train_mean_squared_error, train_mean_absolute_error = model.evaluate(\n",
    "                X_train, y_train, batch_size =100\n",
    "            )\n",
    "        loss, test_mean_squared_error, test_mean_absolute_error = model.evaluate(\n",
    "                x_test, y_test, batch_size =100\n",
    "            )\n",
    "\n",
    "        df_sub = pd.DataFrame({\"Store\":[str(i+1)],\n",
    "                            \"train_mse\": [train_mean_squared_error],\n",
    "                            \"train_mae\":[train_mean_absolute_error],\n",
    "                            \"test_mse\": [test_mean_squared_error],\n",
    "                            \"test_mae\":[test_mean_absolute_error],\n",
    "                            \"training_history\": history }\n",
    "                            )\n",
    "        df = pd.concat([df, df_sub])\n",
    "    except:\n",
    "        failed.append(str(i+1))"
   ]
  },
  {
   "cell_type": "code",
   "execution_count": 14,
   "metadata": {},
   "outputs": [
    {
     "data": {
      "text/html": [
       "<div>\n",
       "<style scoped>\n",
       "    .dataframe tbody tr th:only-of-type {\n",
       "        vertical-align: middle;\n",
       "    }\n",
       "\n",
       "    .dataframe tbody tr th {\n",
       "        vertical-align: top;\n",
       "    }\n",
       "\n",
       "    .dataframe thead th {\n",
       "        text-align: right;\n",
       "    }\n",
       "</style>\n",
       "<table border=\"1\" class=\"dataframe\">\n",
       "  <thead>\n",
       "    <tr style=\"text-align: right;\">\n",
       "      <th></th>\n",
       "      <th>Store</th>\n",
       "      <th>train_mse</th>\n",
       "      <th>train_mae</th>\n",
       "      <th>test_mse</th>\n",
       "      <th>test_mae</th>\n",
       "      <th>training_history</th>\n",
       "    </tr>\n",
       "  </thead>\n",
       "  <tbody>\n",
       "    <tr>\n",
       "      <th>0</th>\n",
       "      <td>1</td>\n",
       "      <td>54257960.0</td>\n",
       "      <td>3384.541992</td>\n",
       "      <td>2.439138e+07</td>\n",
       "      <td>3014.671631</td>\n",
       "      <td>&lt;keras.callbacks.History object at 0x55d74bdf0&gt;</td>\n",
       "    </tr>\n",
       "    <tr>\n",
       "      <th>0</th>\n",
       "      <td>2</td>\n",
       "      <td>84635832.0</td>\n",
       "      <td>3868.503418</td>\n",
       "      <td>3.339318e+07</td>\n",
       "      <td>3288.656250</td>\n",
       "      <td>&lt;keras.callbacks.History object at 0x28c4bf8b0&gt;</td>\n",
       "    </tr>\n",
       "    <tr>\n",
       "      <th>0</th>\n",
       "      <td>3</td>\n",
       "      <td>8630816.0</td>\n",
       "      <td>1100.763184</td>\n",
       "      <td>4.478777e+06</td>\n",
       "      <td>1148.244263</td>\n",
       "      <td>&lt;keras.callbacks.History object at 0x2be0836d0&gt;</td>\n",
       "    </tr>\n",
       "    <tr>\n",
       "      <th>0</th>\n",
       "      <td>4</td>\n",
       "      <td>106001096.0</td>\n",
       "      <td>3820.521484</td>\n",
       "      <td>4.502384e+07</td>\n",
       "      <td>4020.994385</td>\n",
       "      <td>&lt;keras.callbacks.History object at 0x5c59b3af0&gt;</td>\n",
       "    </tr>\n",
       "    <tr>\n",
       "      <th>0</th>\n",
       "      <td>5</td>\n",
       "      <td>7252623.5</td>\n",
       "      <td>1184.581421</td>\n",
       "      <td>2.459126e+06</td>\n",
       "      <td>854.656372</td>\n",
       "      <td>&lt;keras.callbacks.History object at 0x2be109cd0&gt;</td>\n",
       "    </tr>\n",
       "    <tr>\n",
       "      <th>0</th>\n",
       "      <td>6</td>\n",
       "      <td>98282712.0</td>\n",
       "      <td>5484.586914</td>\n",
       "      <td>3.458716e+07</td>\n",
       "      <td>3464.077637</td>\n",
       "      <td>&lt;keras.callbacks.History object at 0x2c0a3e700&gt;</td>\n",
       "    </tr>\n",
       "    <tr>\n",
       "      <th>0</th>\n",
       "      <td>7</td>\n",
       "      <td>19840048.0</td>\n",
       "      <td>1712.385498</td>\n",
       "      <td>5.906901e+06</td>\n",
       "      <td>1303.067749</td>\n",
       "      <td>&lt;keras.callbacks.History object at 0x2e6322c70&gt;</td>\n",
       "    </tr>\n",
       "    <tr>\n",
       "      <th>0</th>\n",
       "      <td>8</td>\n",
       "      <td>25430058.0</td>\n",
       "      <td>2161.378174</td>\n",
       "      <td>1.063717e+07</td>\n",
       "      <td>1859.823486</td>\n",
       "      <td>&lt;keras.callbacks.History object at 0x56f727160&gt;</td>\n",
       "    </tr>\n",
       "    <tr>\n",
       "      <th>0</th>\n",
       "      <td>9</td>\n",
       "      <td>18347602.0</td>\n",
       "      <td>1779.895630</td>\n",
       "      <td>7.601814e+06</td>\n",
       "      <td>1497.979736</td>\n",
       "      <td>&lt;keras.callbacks.History object at 0x56f8ba700&gt;</td>\n",
       "    </tr>\n",
       "    <tr>\n",
       "      <th>0</th>\n",
       "      <td>10</td>\n",
       "      <td>283206112.0</td>\n",
       "      <td>6338.072754</td>\n",
       "      <td>1.095834e+08</td>\n",
       "      <td>6067.159180</td>\n",
       "      <td>&lt;keras.callbacks.History object at 0x61c6cba90&gt;</td>\n",
       "    </tr>\n",
       "    <tr>\n",
       "      <th>0</th>\n",
       "      <td>11</td>\n",
       "      <td>66206068.0</td>\n",
       "      <td>4019.018799</td>\n",
       "      <td>5.235314e+07</td>\n",
       "      <td>5636.054199</td>\n",
       "      <td>&lt;keras.callbacks.History object at 0x5c9c45520&gt;</td>\n",
       "    </tr>\n",
       "    <tr>\n",
       "      <th>0</th>\n",
       "      <td>12</td>\n",
       "      <td>61591436.0</td>\n",
       "      <td>2263.961914</td>\n",
       "      <td>2.715694e+07</td>\n",
       "      <td>2374.579590</td>\n",
       "      <td>&lt;keras.callbacks.History object at 0x5dec02880&gt;</td>\n",
       "    </tr>\n",
       "    <tr>\n",
       "      <th>0</th>\n",
       "      <td>13</td>\n",
       "      <td>122179296.0</td>\n",
       "      <td>4596.585938</td>\n",
       "      <td>5.134509e+07</td>\n",
       "      <td>3631.128174</td>\n",
       "      <td>&lt;keras.callbacks.History object at 0x5dec68a60&gt;</td>\n",
       "    </tr>\n",
       "    <tr>\n",
       "      <th>0</th>\n",
       "      <td>14</td>\n",
       "      <td>162914144.0</td>\n",
       "      <td>4833.905762</td>\n",
       "      <td>1.037140e+08</td>\n",
       "      <td>6087.225098</td>\n",
       "      <td>&lt;keras.callbacks.History object at 0x604fa05b0&gt;</td>\n",
       "    </tr>\n",
       "    <tr>\n",
       "      <th>0</th>\n",
       "      <td>15</td>\n",
       "      <td>37010040.0</td>\n",
       "      <td>2010.060303</td>\n",
       "      <td>7.437741e+06</td>\n",
       "      <td>1385.955566</td>\n",
       "      <td>&lt;keras.callbacks.History object at 0x55d7d27f0&gt;</td>\n",
       "    </tr>\n",
       "    <tr>\n",
       "      <th>0</th>\n",
       "      <td>16</td>\n",
       "      <td>14541550.0</td>\n",
       "      <td>1509.321655</td>\n",
       "      <td>2.345227e+07</td>\n",
       "      <td>1714.327515</td>\n",
       "      <td>&lt;keras.callbacks.History object at 0x50c437280&gt;</td>\n",
       "    </tr>\n",
       "    <tr>\n",
       "      <th>0</th>\n",
       "      <td>17</td>\n",
       "      <td>40965736.0</td>\n",
       "      <td>2886.873535</td>\n",
       "      <td>2.955108e+07</td>\n",
       "      <td>2950.168457</td>\n",
       "      <td>&lt;keras.callbacks.History object at 0x5c9822310&gt;</td>\n",
       "    </tr>\n",
       "    <tr>\n",
       "      <th>0</th>\n",
       "      <td>18</td>\n",
       "      <td>73177000.0</td>\n",
       "      <td>3740.473389</td>\n",
       "      <td>2.424223e+07</td>\n",
       "      <td>2610.432861</td>\n",
       "      <td>&lt;keras.callbacks.History object at 0x61b55ce20&gt;</td>\n",
       "    </tr>\n",
       "    <tr>\n",
       "      <th>0</th>\n",
       "      <td>19</td>\n",
       "      <td>112579064.0</td>\n",
       "      <td>4566.052734</td>\n",
       "      <td>3.999793e+07</td>\n",
       "      <td>3255.065430</td>\n",
       "      <td>&lt;keras.callbacks.History object at 0x296fe0dc0&gt;</td>\n",
       "    </tr>\n",
       "    <tr>\n",
       "      <th>0</th>\n",
       "      <td>20</td>\n",
       "      <td>174487200.0</td>\n",
       "      <td>5649.916504</td>\n",
       "      <td>4.431739e+07</td>\n",
       "      <td>4260.833496</td>\n",
       "      <td>&lt;keras.callbacks.History object at 0x61c14b280&gt;</td>\n",
       "    </tr>\n",
       "    <tr>\n",
       "      <th>0</th>\n",
       "      <td>21</td>\n",
       "      <td>40632120.0</td>\n",
       "      <td>2153.884521</td>\n",
       "      <td>1.824101e+07</td>\n",
       "      <td>1894.980347</td>\n",
       "      <td>&lt;keras.callbacks.History object at 0x64267cd90&gt;</td>\n",
       "    </tr>\n",
       "    <tr>\n",
       "      <th>0</th>\n",
       "      <td>22</td>\n",
       "      <td>69845408.0</td>\n",
       "      <td>2688.147461</td>\n",
       "      <td>1.684280e+07</td>\n",
       "      <td>2069.632324</td>\n",
       "      <td>&lt;keras.callbacks.History object at 0x6e7fafcd0&gt;</td>\n",
       "    </tr>\n",
       "    <tr>\n",
       "      <th>0</th>\n",
       "      <td>23</td>\n",
       "      <td>102399384.0</td>\n",
       "      <td>3842.612549</td>\n",
       "      <td>3.346661e+07</td>\n",
       "      <td>3041.637451</td>\n",
       "      <td>&lt;keras.callbacks.History object at 0x64a846100&gt;</td>\n",
       "    </tr>\n",
       "    <tr>\n",
       "      <th>0</th>\n",
       "      <td>24</td>\n",
       "      <td>49037084.0</td>\n",
       "      <td>3116.541504</td>\n",
       "      <td>1.763093e+07</td>\n",
       "      <td>2552.726074</td>\n",
       "      <td>&lt;keras.callbacks.History object at 0x64a97ae80&gt;</td>\n",
       "    </tr>\n",
       "    <tr>\n",
       "      <th>0</th>\n",
       "      <td>25</td>\n",
       "      <td>28706584.0</td>\n",
       "      <td>2005.385376</td>\n",
       "      <td>1.093124e+07</td>\n",
       "      <td>1774.523071</td>\n",
       "      <td>&lt;keras.callbacks.History object at 0x7288e8c10&gt;</td>\n",
       "    </tr>\n",
       "    <tr>\n",
       "      <th>0</th>\n",
       "      <td>26</td>\n",
       "      <td>21381526.0</td>\n",
       "      <td>1993.699585</td>\n",
       "      <td>1.307341e+07</td>\n",
       "      <td>1935.888062</td>\n",
       "      <td>&lt;keras.callbacks.History object at 0x6582e65b0&gt;</td>\n",
       "    </tr>\n",
       "    <tr>\n",
       "      <th>0</th>\n",
       "      <td>27</td>\n",
       "      <td>99986592.0</td>\n",
       "      <td>3948.753662</td>\n",
       "      <td>4.061409e+07</td>\n",
       "      <td>3728.231445</td>\n",
       "      <td>&lt;keras.callbacks.History object at 0x65b141e80&gt;</td>\n",
       "    </tr>\n",
       "    <tr>\n",
       "      <th>0</th>\n",
       "      <td>28</td>\n",
       "      <td>78090280.0</td>\n",
       "      <td>4163.639648</td>\n",
       "      <td>3.803953e+07</td>\n",
       "      <td>3405.287109</td>\n",
       "      <td>&lt;keras.callbacks.History object at 0x671f52af0&gt;</td>\n",
       "    </tr>\n",
       "    <tr>\n",
       "      <th>0</th>\n",
       "      <td>29</td>\n",
       "      <td>30236784.0</td>\n",
       "      <td>1621.108398</td>\n",
       "      <td>1.286306e+07</td>\n",
       "      <td>1875.266968</td>\n",
       "      <td>&lt;keras.callbacks.History object at 0x75b5e50a0&gt;</td>\n",
       "    </tr>\n",
       "    <tr>\n",
       "      <th>0</th>\n",
       "      <td>30</td>\n",
       "      <td>8051219.5</td>\n",
       "      <td>1301.993286</td>\n",
       "      <td>6.645949e+06</td>\n",
       "      <td>1377.420288</td>\n",
       "      <td>&lt;keras.callbacks.History object at 0x76fcd32e0&gt;</td>\n",
       "    </tr>\n",
       "    <tr>\n",
       "      <th>0</th>\n",
       "      <td>31</td>\n",
       "      <td>44861976.0</td>\n",
       "      <td>2844.947266</td>\n",
       "      <td>2.754002e+07</td>\n",
       "      <td>3048.917725</td>\n",
       "      <td>&lt;keras.callbacks.History object at 0x6d95e45e0&gt;</td>\n",
       "    </tr>\n",
       "    <tr>\n",
       "      <th>0</th>\n",
       "      <td>32</td>\n",
       "      <td>36630856.0</td>\n",
       "      <td>2539.065186</td>\n",
       "      <td>2.056064e+07</td>\n",
       "      <td>2407.982422</td>\n",
       "      <td>&lt;keras.callbacks.History object at 0x6d95d9280&gt;</td>\n",
       "    </tr>\n",
       "    <tr>\n",
       "      <th>0</th>\n",
       "      <td>33</td>\n",
       "      <td>3885979.0</td>\n",
       "      <td>865.010376</td>\n",
       "      <td>5.324774e+06</td>\n",
       "      <td>1179.889404</td>\n",
       "      <td>&lt;keras.callbacks.History object at 0x7a44dc910&gt;</td>\n",
       "    </tr>\n",
       "    <tr>\n",
       "      <th>0</th>\n",
       "      <td>34</td>\n",
       "      <td>23659104.0</td>\n",
       "      <td>2102.527832</td>\n",
       "      <td>9.102216e+06</td>\n",
       "      <td>1682.318848</td>\n",
       "      <td>&lt;keras.callbacks.History object at 0x71155d1c0&gt;</td>\n",
       "    </tr>\n",
       "    <tr>\n",
       "      <th>0</th>\n",
       "      <td>35</td>\n",
       "      <td>134236400.0</td>\n",
       "      <td>3209.281738</td>\n",
       "      <td>2.935011e+07</td>\n",
       "      <td>2925.442871</td>\n",
       "      <td>&lt;keras.callbacks.History object at 0x5d60b0c10&gt;</td>\n",
       "    </tr>\n",
       "    <tr>\n",
       "      <th>0</th>\n",
       "      <td>36</td>\n",
       "      <td>15280673.0</td>\n",
       "      <td>2011.651001</td>\n",
       "      <td>7.507778e+06</td>\n",
       "      <td>1455.330200</td>\n",
       "      <td>&lt;keras.callbacks.History object at 0x65b13bc40&gt;</td>\n",
       "    </tr>\n",
       "    <tr>\n",
       "      <th>0</th>\n",
       "      <td>37</td>\n",
       "      <td>6548608.0</td>\n",
       "      <td>1092.601440</td>\n",
       "      <td>1.468158e+07</td>\n",
       "      <td>1605.823730</td>\n",
       "      <td>&lt;keras.callbacks.History object at 0x736006790&gt;</td>\n",
       "    </tr>\n",
       "    <tr>\n",
       "      <th>0</th>\n",
       "      <td>38</td>\n",
       "      <td>5887223.0</td>\n",
       "      <td>957.403320</td>\n",
       "      <td>2.025696e+07</td>\n",
       "      <td>1980.758179</td>\n",
       "      <td>&lt;keras.callbacks.History object at 0x738425a60&gt;</td>\n",
       "    </tr>\n",
       "    <tr>\n",
       "      <th>0</th>\n",
       "      <td>39</td>\n",
       "      <td>79076624.0</td>\n",
       "      <td>3295.732910</td>\n",
       "      <td>5.324452e+07</td>\n",
       "      <td>3733.694580</td>\n",
       "      <td>&lt;keras.callbacks.History object at 0x73e9b0e50&gt;</td>\n",
       "    </tr>\n",
       "    <tr>\n",
       "      <th>0</th>\n",
       "      <td>40</td>\n",
       "      <td>23821014.0</td>\n",
       "      <td>2255.683838</td>\n",
       "      <td>1.089568e+07</td>\n",
       "      <td>1840.661743</td>\n",
       "      <td>&lt;keras.callbacks.History object at 0x80b9c2a00&gt;</td>\n",
       "    </tr>\n",
       "    <tr>\n",
       "      <th>0</th>\n",
       "      <td>41</td>\n",
       "      <td>62444732.0</td>\n",
       "      <td>2806.489014</td>\n",
       "      <td>3.703637e+07</td>\n",
       "      <td>3183.679932</td>\n",
       "      <td>&lt;keras.callbacks.History object at 0x78e86de20&gt;</td>\n",
       "    </tr>\n",
       "    <tr>\n",
       "      <th>0</th>\n",
       "      <td>42</td>\n",
       "      <td>8512033.0</td>\n",
       "      <td>1396.560791</td>\n",
       "      <td>5.042556e+07</td>\n",
       "      <td>3262.285400</td>\n",
       "      <td>&lt;keras.callbacks.History object at 0x792410dc0&gt;</td>\n",
       "    </tr>\n",
       "    <tr>\n",
       "      <th>0</th>\n",
       "      <td>43</td>\n",
       "      <td>35091780.0</td>\n",
       "      <td>3026.401367</td>\n",
       "      <td>1.390766e+07</td>\n",
       "      <td>1810.420532</td>\n",
       "      <td>&lt;keras.callbacks.History object at 0x7d77578b0&gt;</td>\n",
       "    </tr>\n",
       "    <tr>\n",
       "      <th>0</th>\n",
       "      <td>44</td>\n",
       "      <td>4624206.0</td>\n",
       "      <td>1082.963745</td>\n",
       "      <td>5.723170e+06</td>\n",
       "      <td>1076.902588</td>\n",
       "      <td>&lt;keras.callbacks.History object at 0x8449c1eb0&gt;</td>\n",
       "    </tr>\n",
       "    <tr>\n",
       "      <th>0</th>\n",
       "      <td>45</td>\n",
       "      <td>42474276.0</td>\n",
       "      <td>2838.850098</td>\n",
       "      <td>8.226524e+06</td>\n",
       "      <td>1767.791138</td>\n",
       "      <td>&lt;keras.callbacks.History object at 0x85beea280&gt;</td>\n",
       "    </tr>\n",
       "  </tbody>\n",
       "</table>\n",
       "</div>"
      ],
      "text/plain": [
       "  Store    train_mse    train_mae      test_mse     test_mae  \\\n",
       "0     1   54257960.0  3384.541992  2.439138e+07  3014.671631   \n",
       "0     2   84635832.0  3868.503418  3.339318e+07  3288.656250   \n",
       "0     3    8630816.0  1100.763184  4.478777e+06  1148.244263   \n",
       "0     4  106001096.0  3820.521484  4.502384e+07  4020.994385   \n",
       "0     5    7252623.5  1184.581421  2.459126e+06   854.656372   \n",
       "0     6   98282712.0  5484.586914  3.458716e+07  3464.077637   \n",
       "0     7   19840048.0  1712.385498  5.906901e+06  1303.067749   \n",
       "0     8   25430058.0  2161.378174  1.063717e+07  1859.823486   \n",
       "0     9   18347602.0  1779.895630  7.601814e+06  1497.979736   \n",
       "0    10  283206112.0  6338.072754  1.095834e+08  6067.159180   \n",
       "0    11   66206068.0  4019.018799  5.235314e+07  5636.054199   \n",
       "0    12   61591436.0  2263.961914  2.715694e+07  2374.579590   \n",
       "0    13  122179296.0  4596.585938  5.134509e+07  3631.128174   \n",
       "0    14  162914144.0  4833.905762  1.037140e+08  6087.225098   \n",
       "0    15   37010040.0  2010.060303  7.437741e+06  1385.955566   \n",
       "0    16   14541550.0  1509.321655  2.345227e+07  1714.327515   \n",
       "0    17   40965736.0  2886.873535  2.955108e+07  2950.168457   \n",
       "0    18   73177000.0  3740.473389  2.424223e+07  2610.432861   \n",
       "0    19  112579064.0  4566.052734  3.999793e+07  3255.065430   \n",
       "0    20  174487200.0  5649.916504  4.431739e+07  4260.833496   \n",
       "0    21   40632120.0  2153.884521  1.824101e+07  1894.980347   \n",
       "0    22   69845408.0  2688.147461  1.684280e+07  2069.632324   \n",
       "0    23  102399384.0  3842.612549  3.346661e+07  3041.637451   \n",
       "0    24   49037084.0  3116.541504  1.763093e+07  2552.726074   \n",
       "0    25   28706584.0  2005.385376  1.093124e+07  1774.523071   \n",
       "0    26   21381526.0  1993.699585  1.307341e+07  1935.888062   \n",
       "0    27   99986592.0  3948.753662  4.061409e+07  3728.231445   \n",
       "0    28   78090280.0  4163.639648  3.803953e+07  3405.287109   \n",
       "0    29   30236784.0  1621.108398  1.286306e+07  1875.266968   \n",
       "0    30    8051219.5  1301.993286  6.645949e+06  1377.420288   \n",
       "0    31   44861976.0  2844.947266  2.754002e+07  3048.917725   \n",
       "0    32   36630856.0  2539.065186  2.056064e+07  2407.982422   \n",
       "0    33    3885979.0   865.010376  5.324774e+06  1179.889404   \n",
       "0    34   23659104.0  2102.527832  9.102216e+06  1682.318848   \n",
       "0    35  134236400.0  3209.281738  2.935011e+07  2925.442871   \n",
       "0    36   15280673.0  2011.651001  7.507778e+06  1455.330200   \n",
       "0    37    6548608.0  1092.601440  1.468158e+07  1605.823730   \n",
       "0    38    5887223.0   957.403320  2.025696e+07  1980.758179   \n",
       "0    39   79076624.0  3295.732910  5.324452e+07  3733.694580   \n",
       "0    40   23821014.0  2255.683838  1.089568e+07  1840.661743   \n",
       "0    41   62444732.0  2806.489014  3.703637e+07  3183.679932   \n",
       "0    42    8512033.0  1396.560791  5.042556e+07  3262.285400   \n",
       "0    43   35091780.0  3026.401367  1.390766e+07  1810.420532   \n",
       "0    44    4624206.0  1082.963745  5.723170e+06  1076.902588   \n",
       "0    45   42474276.0  2838.850098  8.226524e+06  1767.791138   \n",
       "\n",
       "                                  training_history  \n",
       "0  <keras.callbacks.History object at 0x55d74bdf0>  \n",
       "0  <keras.callbacks.History object at 0x28c4bf8b0>  \n",
       "0  <keras.callbacks.History object at 0x2be0836d0>  \n",
       "0  <keras.callbacks.History object at 0x5c59b3af0>  \n",
       "0  <keras.callbacks.History object at 0x2be109cd0>  \n",
       "0  <keras.callbacks.History object at 0x2c0a3e700>  \n",
       "0  <keras.callbacks.History object at 0x2e6322c70>  \n",
       "0  <keras.callbacks.History object at 0x56f727160>  \n",
       "0  <keras.callbacks.History object at 0x56f8ba700>  \n",
       "0  <keras.callbacks.History object at 0x61c6cba90>  \n",
       "0  <keras.callbacks.History object at 0x5c9c45520>  \n",
       "0  <keras.callbacks.History object at 0x5dec02880>  \n",
       "0  <keras.callbacks.History object at 0x5dec68a60>  \n",
       "0  <keras.callbacks.History object at 0x604fa05b0>  \n",
       "0  <keras.callbacks.History object at 0x55d7d27f0>  \n",
       "0  <keras.callbacks.History object at 0x50c437280>  \n",
       "0  <keras.callbacks.History object at 0x5c9822310>  \n",
       "0  <keras.callbacks.History object at 0x61b55ce20>  \n",
       "0  <keras.callbacks.History object at 0x296fe0dc0>  \n",
       "0  <keras.callbacks.History object at 0x61c14b280>  \n",
       "0  <keras.callbacks.History object at 0x64267cd90>  \n",
       "0  <keras.callbacks.History object at 0x6e7fafcd0>  \n",
       "0  <keras.callbacks.History object at 0x64a846100>  \n",
       "0  <keras.callbacks.History object at 0x64a97ae80>  \n",
       "0  <keras.callbacks.History object at 0x7288e8c10>  \n",
       "0  <keras.callbacks.History object at 0x6582e65b0>  \n",
       "0  <keras.callbacks.History object at 0x65b141e80>  \n",
       "0  <keras.callbacks.History object at 0x671f52af0>  \n",
       "0  <keras.callbacks.History object at 0x75b5e50a0>  \n",
       "0  <keras.callbacks.History object at 0x76fcd32e0>  \n",
       "0  <keras.callbacks.History object at 0x6d95e45e0>  \n",
       "0  <keras.callbacks.History object at 0x6d95d9280>  \n",
       "0  <keras.callbacks.History object at 0x7a44dc910>  \n",
       "0  <keras.callbacks.History object at 0x71155d1c0>  \n",
       "0  <keras.callbacks.History object at 0x5d60b0c10>  \n",
       "0  <keras.callbacks.History object at 0x65b13bc40>  \n",
       "0  <keras.callbacks.History object at 0x736006790>  \n",
       "0  <keras.callbacks.History object at 0x738425a60>  \n",
       "0  <keras.callbacks.History object at 0x73e9b0e50>  \n",
       "0  <keras.callbacks.History object at 0x80b9c2a00>  \n",
       "0  <keras.callbacks.History object at 0x78e86de20>  \n",
       "0  <keras.callbacks.History object at 0x792410dc0>  \n",
       "0  <keras.callbacks.History object at 0x7d77578b0>  \n",
       "0  <keras.callbacks.History object at 0x8449c1eb0>  \n",
       "0  <keras.callbacks.History object at 0x85beea280>  "
      ]
     },
     "execution_count": 14,
     "metadata": {},
     "output_type": "execute_result"
    }
   ],
   "source": [
    "df"
   ]
  },
  {
   "cell_type": "code",
   "execution_count": 15,
   "metadata": {},
   "outputs": [],
   "source": [
    "df.to_csv(\"./data/performance/individual_result_2.csv\", index=False)"
   ]
  },
  {
   "cell_type": "code",
   "execution_count": 7,
   "metadata": {},
   "outputs": [
    {
     "data": {
      "text/html": [
       "<div>\n",
       "<style scoped>\n",
       "    .dataframe tbody tr th:only-of-type {\n",
       "        vertical-align: middle;\n",
       "    }\n",
       "\n",
       "    .dataframe tbody tr th {\n",
       "        vertical-align: top;\n",
       "    }\n",
       "\n",
       "    .dataframe thead th {\n",
       "        text-align: right;\n",
       "    }\n",
       "</style>\n",
       "<table border=\"1\" class=\"dataframe\">\n",
       "  <thead>\n",
       "    <tr style=\"text-align: right;\">\n",
       "      <th></th>\n",
       "      <th>Store</th>\n",
       "      <th>train_mse</th>\n",
       "      <th>train_mae</th>\n",
       "      <th>test_mse</th>\n",
       "      <th>test_mae</th>\n",
       "      <th>training_history</th>\n",
       "    </tr>\n",
       "  </thead>\n",
       "  <tbody>\n",
       "    <tr>\n",
       "      <th>0</th>\n",
       "      <td>1</td>\n",
       "      <td>6.213116e+07</td>\n",
       "      <td>3723.189453</td>\n",
       "      <td>2.528425e+07</td>\n",
       "      <td>2919.528076</td>\n",
       "      <td>&lt;keras.callbacks.History object at 0x2914c2a90&gt;</td>\n",
       "    </tr>\n",
       "    <tr>\n",
       "      <th>0</th>\n",
       "      <td>2</td>\n",
       "      <td>1.042079e+08</td>\n",
       "      <td>5633.664062</td>\n",
       "      <td>3.246512e+07</td>\n",
       "      <td>3292.903809</td>\n",
       "      <td>&lt;keras.callbacks.History object at 0x294cb8220&gt;</td>\n",
       "    </tr>\n",
       "    <tr>\n",
       "      <th>0</th>\n",
       "      <td>3</td>\n",
       "      <td>1.103955e+07</td>\n",
       "      <td>1383.952515</td>\n",
       "      <td>4.913808e+06</td>\n",
       "      <td>1179.463013</td>\n",
       "      <td>&lt;keras.callbacks.History object at 0x294ebd340&gt;</td>\n",
       "    </tr>\n",
       "    <tr>\n",
       "      <th>0</th>\n",
       "      <td>4</td>\n",
       "      <td>1.335178e+08</td>\n",
       "      <td>5464.438965</td>\n",
       "      <td>4.203456e+07</td>\n",
       "      <td>3563.828125</td>\n",
       "      <td>&lt;keras.callbacks.History object at 0x2a4129f10&gt;</td>\n",
       "    </tr>\n",
       "    <tr>\n",
       "      <th>0</th>\n",
       "      <td>5</td>\n",
       "      <td>7.635021e+06</td>\n",
       "      <td>1206.583130</td>\n",
       "      <td>2.385912e+06</td>\n",
       "      <td>829.048279</td>\n",
       "      <td>&lt;keras.callbacks.History object at 0x2f65c5880&gt;</td>\n",
       "    </tr>\n",
       "    <tr>\n",
       "      <th>0</th>\n",
       "      <td>6</td>\n",
       "      <td>9.036566e+07</td>\n",
       "      <td>5042.673828</td>\n",
       "      <td>4.160238e+07</td>\n",
       "      <td>4517.124023</td>\n",
       "      <td>&lt;keras.callbacks.History object at 0x2e7222d00&gt;</td>\n",
       "    </tr>\n",
       "    <tr>\n",
       "      <th>0</th>\n",
       "      <td>7</td>\n",
       "      <td>4.147518e+07</td>\n",
       "      <td>3372.324219</td>\n",
       "      <td>1.219605e+07</td>\n",
       "      <td>1758.145142</td>\n",
       "      <td>&lt;keras.callbacks.History object at 0x309b13be0&gt;</td>\n",
       "    </tr>\n",
       "    <tr>\n",
       "      <th>0</th>\n",
       "      <td>8</td>\n",
       "      <td>2.449508e+07</td>\n",
       "      <td>2263.297119</td>\n",
       "      <td>1.214830e+07</td>\n",
       "      <td>1974.145874</td>\n",
       "      <td>&lt;keras.callbacks.History object at 0x2e414ffd0&gt;</td>\n",
       "    </tr>\n",
       "    <tr>\n",
       "      <th>0</th>\n",
       "      <td>9</td>\n",
       "      <td>1.357893e+07</td>\n",
       "      <td>1457.156250</td>\n",
       "      <td>8.013336e+06</td>\n",
       "      <td>1355.424927</td>\n",
       "      <td>&lt;keras.callbacks.History object at 0x292c50f40&gt;</td>\n",
       "    </tr>\n",
       "    <tr>\n",
       "      <th>0</th>\n",
       "      <td>10</td>\n",
       "      <td>2.109596e+08</td>\n",
       "      <td>4553.170410</td>\n",
       "      <td>4.471162e+07</td>\n",
       "      <td>3280.273438</td>\n",
       "      <td>&lt;keras.callbacks.History object at 0x2c56238e0&gt;</td>\n",
       "    </tr>\n",
       "    <tr>\n",
       "      <th>0</th>\n",
       "      <td>11</td>\n",
       "      <td>7.351130e+07</td>\n",
       "      <td>4218.529785</td>\n",
       "      <td>3.892710e+07</td>\n",
       "      <td>4125.620605</td>\n",
       "      <td>&lt;keras.callbacks.History object at 0x361fe1eb0&gt;</td>\n",
       "    </tr>\n",
       "    <tr>\n",
       "      <th>0</th>\n",
       "      <td>12</td>\n",
       "      <td>6.907403e+07</td>\n",
       "      <td>2796.290771</td>\n",
       "      <td>2.911429e+07</td>\n",
       "      <td>2710.410645</td>\n",
       "      <td>&lt;keras.callbacks.History object at 0x28f5393a0&gt;</td>\n",
       "    </tr>\n",
       "    <tr>\n",
       "      <th>0</th>\n",
       "      <td>13</td>\n",
       "      <td>1.611890e+08</td>\n",
       "      <td>6470.209473</td>\n",
       "      <td>8.608944e+07</td>\n",
       "      <td>5703.336914</td>\n",
       "      <td>&lt;keras.callbacks.History object at 0x2a5c045b0&gt;</td>\n",
       "    </tr>\n",
       "    <tr>\n",
       "      <th>0</th>\n",
       "      <td>14</td>\n",
       "      <td>1.711143e+08</td>\n",
       "      <td>5129.145020</td>\n",
       "      <td>4.918631e+07</td>\n",
       "      <td>4235.584473</td>\n",
       "      <td>&lt;keras.callbacks.History object at 0x398ec5280&gt;</td>\n",
       "    </tr>\n",
       "    <tr>\n",
       "      <th>0</th>\n",
       "      <td>15</td>\n",
       "      <td>4.391541e+07</td>\n",
       "      <td>2956.634277</td>\n",
       "      <td>8.135982e+06</td>\n",
       "      <td>1641.305908</td>\n",
       "      <td>&lt;keras.callbacks.History object at 0x336c02e20&gt;</td>\n",
       "    </tr>\n",
       "    <tr>\n",
       "      <th>0</th>\n",
       "      <td>16</td>\n",
       "      <td>1.454290e+07</td>\n",
       "      <td>1649.145874</td>\n",
       "      <td>2.365395e+07</td>\n",
       "      <td>1609.404663</td>\n",
       "      <td>&lt;keras.callbacks.History object at 0x344828ee0&gt;</td>\n",
       "    </tr>\n",
       "    <tr>\n",
       "      <th>0</th>\n",
       "      <td>17</td>\n",
       "      <td>3.857686e+07</td>\n",
       "      <td>2893.557373</td>\n",
       "      <td>2.534612e+07</td>\n",
       "      <td>2682.913330</td>\n",
       "      <td>&lt;keras.callbacks.History object at 0x344a03460&gt;</td>\n",
       "    </tr>\n",
       "    <tr>\n",
       "      <th>0</th>\n",
       "      <td>18</td>\n",
       "      <td>7.914787e+07</td>\n",
       "      <td>3809.380371</td>\n",
       "      <td>3.756699e+07</td>\n",
       "      <td>3341.618652</td>\n",
       "      <td>&lt;keras.callbacks.History object at 0x377f52e50&gt;</td>\n",
       "    </tr>\n",
       "    <tr>\n",
       "      <th>0</th>\n",
       "      <td>19</td>\n",
       "      <td>7.345272e+07</td>\n",
       "      <td>3269.713379</td>\n",
       "      <td>3.164302e+07</td>\n",
       "      <td>2993.313232</td>\n",
       "      <td>&lt;keras.callbacks.History object at 0x336cbfca0&gt;</td>\n",
       "    </tr>\n",
       "    <tr>\n",
       "      <th>0</th>\n",
       "      <td>20</td>\n",
       "      <td>1.456433e+08</td>\n",
       "      <td>4880.958984</td>\n",
       "      <td>4.111174e+07</td>\n",
       "      <td>4106.887695</td>\n",
       "      <td>&lt;keras.callbacks.History object at 0x2c5aadf40&gt;</td>\n",
       "    </tr>\n",
       "    <tr>\n",
       "      <th>0</th>\n",
       "      <td>21</td>\n",
       "      <td>4.013406e+07</td>\n",
       "      <td>1942.827759</td>\n",
       "      <td>1.718340e+07</td>\n",
       "      <td>1795.414429</td>\n",
       "      <td>&lt;keras.callbacks.History object at 0x41120cf70&gt;</td>\n",
       "    </tr>\n",
       "    <tr>\n",
       "      <th>0</th>\n",
       "      <td>22</td>\n",
       "      <td>7.930464e+07</td>\n",
       "      <td>3327.924072</td>\n",
       "      <td>1.856846e+07</td>\n",
       "      <td>2581.953125</td>\n",
       "      <td>&lt;keras.callbacks.History object at 0x3bfe84fa0&gt;</td>\n",
       "    </tr>\n",
       "    <tr>\n",
       "      <th>0</th>\n",
       "      <td>23</td>\n",
       "      <td>1.024521e+08</td>\n",
       "      <td>3834.660889</td>\n",
       "      <td>3.458298e+07</td>\n",
       "      <td>3359.866943</td>\n",
       "      <td>&lt;keras.callbacks.History object at 0x3d160ef70&gt;</td>\n",
       "    </tr>\n",
       "    <tr>\n",
       "      <th>0</th>\n",
       "      <td>24</td>\n",
       "      <td>4.838597e+07</td>\n",
       "      <td>3180.431641</td>\n",
       "      <td>1.962662e+07</td>\n",
       "      <td>2576.738770</td>\n",
       "      <td>&lt;keras.callbacks.History object at 0x3a88770d0&gt;</td>\n",
       "    </tr>\n",
       "    <tr>\n",
       "      <th>0</th>\n",
       "      <td>25</td>\n",
       "      <td>3.016314e+07</td>\n",
       "      <td>2158.608887</td>\n",
       "      <td>9.246550e+06</td>\n",
       "      <td>1799.949585</td>\n",
       "      <td>&lt;keras.callbacks.History object at 0x3d2964f70&gt;</td>\n",
       "    </tr>\n",
       "    <tr>\n",
       "      <th>0</th>\n",
       "      <td>26</td>\n",
       "      <td>3.072803e+07</td>\n",
       "      <td>2766.282471</td>\n",
       "      <td>1.523618e+07</td>\n",
       "      <td>2128.345703</td>\n",
       "      <td>&lt;keras.callbacks.History object at 0x4626e2af0&gt;</td>\n",
       "    </tr>\n",
       "    <tr>\n",
       "      <th>0</th>\n",
       "      <td>27</td>\n",
       "      <td>1.076646e+08</td>\n",
       "      <td>4114.882812</td>\n",
       "      <td>4.312006e+07</td>\n",
       "      <td>3935.961914</td>\n",
       "      <td>&lt;keras.callbacks.History object at 0x3ccf11220&gt;</td>\n",
       "    </tr>\n",
       "    <tr>\n",
       "      <th>0</th>\n",
       "      <td>28</td>\n",
       "      <td>8.420837e+07</td>\n",
       "      <td>3534.809326</td>\n",
       "      <td>3.923486e+07</td>\n",
       "      <td>3311.569580</td>\n",
       "      <td>&lt;keras.callbacks.History object at 0x470fe1c70&gt;</td>\n",
       "    </tr>\n",
       "    <tr>\n",
       "      <th>0</th>\n",
       "      <td>29</td>\n",
       "      <td>3.047825e+07</td>\n",
       "      <td>1909.172974</td>\n",
       "      <td>6.988692e+06</td>\n",
       "      <td>1559.486450</td>\n",
       "      <td>&lt;keras.callbacks.History object at 0x3583161f0&gt;</td>\n",
       "    </tr>\n",
       "    <tr>\n",
       "      <th>0</th>\n",
       "      <td>30</td>\n",
       "      <td>6.844239e+06</td>\n",
       "      <td>1387.947144</td>\n",
       "      <td>3.511178e+06</td>\n",
       "      <td>980.744019</td>\n",
       "      <td>&lt;keras.callbacks.History object at 0x395c71490&gt;</td>\n",
       "    </tr>\n",
       "    <tr>\n",
       "      <th>0</th>\n",
       "      <td>31</td>\n",
       "      <td>4.876919e+07</td>\n",
       "      <td>2872.896973</td>\n",
       "      <td>2.793554e+07</td>\n",
       "      <td>3515.939941</td>\n",
       "      <td>&lt;keras.callbacks.History object at 0x396242880&gt;</td>\n",
       "    </tr>\n",
       "    <tr>\n",
       "      <th>0</th>\n",
       "      <td>32</td>\n",
       "      <td>4.536786e+07</td>\n",
       "      <td>2936.974365</td>\n",
       "      <td>1.928914e+07</td>\n",
       "      <td>2275.745117</td>\n",
       "      <td>&lt;keras.callbacks.History object at 0x396289e80&gt;</td>\n",
       "    </tr>\n",
       "    <tr>\n",
       "      <th>0</th>\n",
       "      <td>33</td>\n",
       "      <td>3.756671e+06</td>\n",
       "      <td>847.136353</td>\n",
       "      <td>4.748950e+06</td>\n",
       "      <td>1026.156250</td>\n",
       "      <td>&lt;keras.callbacks.History object at 0x4d4dcc220&gt;</td>\n",
       "    </tr>\n",
       "    <tr>\n",
       "      <th>0</th>\n",
       "      <td>34</td>\n",
       "      <td>3.215606e+07</td>\n",
       "      <td>2782.444580</td>\n",
       "      <td>1.008325e+07</td>\n",
       "      <td>1730.944336</td>\n",
       "      <td>&lt;keras.callbacks.History object at 0x4487e4d30&gt;</td>\n",
       "    </tr>\n",
       "    <tr>\n",
       "      <th>0</th>\n",
       "      <td>35</td>\n",
       "      <td>1.357665e+08</td>\n",
       "      <td>2934.821777</td>\n",
       "      <td>2.710994e+07</td>\n",
       "      <td>2694.320557</td>\n",
       "      <td>&lt;keras.callbacks.History object at 0x4f5fa4e20&gt;</td>\n",
       "    </tr>\n",
       "    <tr>\n",
       "      <th>0</th>\n",
       "      <td>36</td>\n",
       "      <td>6.072730e+06</td>\n",
       "      <td>1215.071167</td>\n",
       "      <td>2.533730e+06</td>\n",
       "      <td>831.042053</td>\n",
       "      <td>&lt;keras.callbacks.History object at 0x466788760&gt;</td>\n",
       "    </tr>\n",
       "    <tr>\n",
       "      <th>0</th>\n",
       "      <td>37</td>\n",
       "      <td>1.005131e+07</td>\n",
       "      <td>1579.106445</td>\n",
       "      <td>4.065137e+07</td>\n",
       "      <td>2095.471436</td>\n",
       "      <td>&lt;keras.callbacks.History object at 0x4ce18b7f0&gt;</td>\n",
       "    </tr>\n",
       "    <tr>\n",
       "      <th>0</th>\n",
       "      <td>38</td>\n",
       "      <td>4.038001e+07</td>\n",
       "      <td>3256.949463</td>\n",
       "      <td>4.646136e+07</td>\n",
       "      <td>2450.690674</td>\n",
       "      <td>&lt;keras.callbacks.History object at 0x4b77c5370&gt;</td>\n",
       "    </tr>\n",
       "    <tr>\n",
       "      <th>0</th>\n",
       "      <td>39</td>\n",
       "      <td>1.442888e+08</td>\n",
       "      <td>6056.358398</td>\n",
       "      <td>1.005197e+08</td>\n",
       "      <td>5233.783203</td>\n",
       "      <td>&lt;keras.callbacks.History object at 0x50e27a310&gt;</td>\n",
       "    </tr>\n",
       "    <tr>\n",
       "      <th>0</th>\n",
       "      <td>40</td>\n",
       "      <td>2.708774e+07</td>\n",
       "      <td>2430.696533</td>\n",
       "      <td>1.377700e+07</td>\n",
       "      <td>2062.264893</td>\n",
       "      <td>&lt;keras.callbacks.History object at 0x5575b4880&gt;</td>\n",
       "    </tr>\n",
       "    <tr>\n",
       "      <th>0</th>\n",
       "      <td>41</td>\n",
       "      <td>6.108200e+07</td>\n",
       "      <td>2914.210205</td>\n",
       "      <td>2.974318e+07</td>\n",
       "      <td>2851.566895</td>\n",
       "      <td>&lt;keras.callbacks.History object at 0x5628c9430&gt;</td>\n",
       "    </tr>\n",
       "    <tr>\n",
       "      <th>0</th>\n",
       "      <td>42</td>\n",
       "      <td>9.569276e+06</td>\n",
       "      <td>1418.246094</td>\n",
       "      <td>2.655884e+08</td>\n",
       "      <td>6351.849121</td>\n",
       "      <td>&lt;keras.callbacks.History object at 0x4e8164400&gt;</td>\n",
       "    </tr>\n",
       "    <tr>\n",
       "      <th>0</th>\n",
       "      <td>43</td>\n",
       "      <td>4.129520e+07</td>\n",
       "      <td>3475.422607</td>\n",
       "      <td>4.693171e+08</td>\n",
       "      <td>8203.541992</td>\n",
       "      <td>&lt;keras.callbacks.History object at 0x54060b430&gt;</td>\n",
       "    </tr>\n",
       "    <tr>\n",
       "      <th>0</th>\n",
       "      <td>44</td>\n",
       "      <td>1.895990e+06</td>\n",
       "      <td>556.272522</td>\n",
       "      <td>9.986900e+06</td>\n",
       "      <td>1226.999512</td>\n",
       "      <td>&lt;keras.callbacks.History object at 0x53bfa2f10&gt;</td>\n",
       "    </tr>\n",
       "    <tr>\n",
       "      <th>0</th>\n",
       "      <td>45</td>\n",
       "      <td>3.682523e+07</td>\n",
       "      <td>2264.950928</td>\n",
       "      <td>6.948662e+06</td>\n",
       "      <td>1433.207642</td>\n",
       "      <td>&lt;keras.callbacks.History object at 0x550e6c160&gt;</td>\n",
       "    </tr>\n",
       "  </tbody>\n",
       "</table>\n",
       "</div>"
      ],
      "text/plain": [
       "  Store     train_mse    train_mae      test_mse     test_mae  \\\n",
       "0     1  6.213116e+07  3723.189453  2.528425e+07  2919.528076   \n",
       "0     2  1.042079e+08  5633.664062  3.246512e+07  3292.903809   \n",
       "0     3  1.103955e+07  1383.952515  4.913808e+06  1179.463013   \n",
       "0     4  1.335178e+08  5464.438965  4.203456e+07  3563.828125   \n",
       "0     5  7.635021e+06  1206.583130  2.385912e+06   829.048279   \n",
       "0     6  9.036566e+07  5042.673828  4.160238e+07  4517.124023   \n",
       "0     7  4.147518e+07  3372.324219  1.219605e+07  1758.145142   \n",
       "0     8  2.449508e+07  2263.297119  1.214830e+07  1974.145874   \n",
       "0     9  1.357893e+07  1457.156250  8.013336e+06  1355.424927   \n",
       "0    10  2.109596e+08  4553.170410  4.471162e+07  3280.273438   \n",
       "0    11  7.351130e+07  4218.529785  3.892710e+07  4125.620605   \n",
       "0    12  6.907403e+07  2796.290771  2.911429e+07  2710.410645   \n",
       "0    13  1.611890e+08  6470.209473  8.608944e+07  5703.336914   \n",
       "0    14  1.711143e+08  5129.145020  4.918631e+07  4235.584473   \n",
       "0    15  4.391541e+07  2956.634277  8.135982e+06  1641.305908   \n",
       "0    16  1.454290e+07  1649.145874  2.365395e+07  1609.404663   \n",
       "0    17  3.857686e+07  2893.557373  2.534612e+07  2682.913330   \n",
       "0    18  7.914787e+07  3809.380371  3.756699e+07  3341.618652   \n",
       "0    19  7.345272e+07  3269.713379  3.164302e+07  2993.313232   \n",
       "0    20  1.456433e+08  4880.958984  4.111174e+07  4106.887695   \n",
       "0    21  4.013406e+07  1942.827759  1.718340e+07  1795.414429   \n",
       "0    22  7.930464e+07  3327.924072  1.856846e+07  2581.953125   \n",
       "0    23  1.024521e+08  3834.660889  3.458298e+07  3359.866943   \n",
       "0    24  4.838597e+07  3180.431641  1.962662e+07  2576.738770   \n",
       "0    25  3.016314e+07  2158.608887  9.246550e+06  1799.949585   \n",
       "0    26  3.072803e+07  2766.282471  1.523618e+07  2128.345703   \n",
       "0    27  1.076646e+08  4114.882812  4.312006e+07  3935.961914   \n",
       "0    28  8.420837e+07  3534.809326  3.923486e+07  3311.569580   \n",
       "0    29  3.047825e+07  1909.172974  6.988692e+06  1559.486450   \n",
       "0    30  6.844239e+06  1387.947144  3.511178e+06   980.744019   \n",
       "0    31  4.876919e+07  2872.896973  2.793554e+07  3515.939941   \n",
       "0    32  4.536786e+07  2936.974365  1.928914e+07  2275.745117   \n",
       "0    33  3.756671e+06   847.136353  4.748950e+06  1026.156250   \n",
       "0    34  3.215606e+07  2782.444580  1.008325e+07  1730.944336   \n",
       "0    35  1.357665e+08  2934.821777  2.710994e+07  2694.320557   \n",
       "0    36  6.072730e+06  1215.071167  2.533730e+06   831.042053   \n",
       "0    37  1.005131e+07  1579.106445  4.065137e+07  2095.471436   \n",
       "0    38  4.038001e+07  3256.949463  4.646136e+07  2450.690674   \n",
       "0    39  1.442888e+08  6056.358398  1.005197e+08  5233.783203   \n",
       "0    40  2.708774e+07  2430.696533  1.377700e+07  2062.264893   \n",
       "0    41  6.108200e+07  2914.210205  2.974318e+07  2851.566895   \n",
       "0    42  9.569276e+06  1418.246094  2.655884e+08  6351.849121   \n",
       "0    43  4.129520e+07  3475.422607  4.693171e+08  8203.541992   \n",
       "0    44  1.895990e+06   556.272522  9.986900e+06  1226.999512   \n",
       "0    45  3.682523e+07  2264.950928  6.948662e+06  1433.207642   \n",
       "\n",
       "                                  training_history  \n",
       "0  <keras.callbacks.History object at 0x2914c2a90>  \n",
       "0  <keras.callbacks.History object at 0x294cb8220>  \n",
       "0  <keras.callbacks.History object at 0x294ebd340>  \n",
       "0  <keras.callbacks.History object at 0x2a4129f10>  \n",
       "0  <keras.callbacks.History object at 0x2f65c5880>  \n",
       "0  <keras.callbacks.History object at 0x2e7222d00>  \n",
       "0  <keras.callbacks.History object at 0x309b13be0>  \n",
       "0  <keras.callbacks.History object at 0x2e414ffd0>  \n",
       "0  <keras.callbacks.History object at 0x292c50f40>  \n",
       "0  <keras.callbacks.History object at 0x2c56238e0>  \n",
       "0  <keras.callbacks.History object at 0x361fe1eb0>  \n",
       "0  <keras.callbacks.History object at 0x28f5393a0>  \n",
       "0  <keras.callbacks.History object at 0x2a5c045b0>  \n",
       "0  <keras.callbacks.History object at 0x398ec5280>  \n",
       "0  <keras.callbacks.History object at 0x336c02e20>  \n",
       "0  <keras.callbacks.History object at 0x344828ee0>  \n",
       "0  <keras.callbacks.History object at 0x344a03460>  \n",
       "0  <keras.callbacks.History object at 0x377f52e50>  \n",
       "0  <keras.callbacks.History object at 0x336cbfca0>  \n",
       "0  <keras.callbacks.History object at 0x2c5aadf40>  \n",
       "0  <keras.callbacks.History object at 0x41120cf70>  \n",
       "0  <keras.callbacks.History object at 0x3bfe84fa0>  \n",
       "0  <keras.callbacks.History object at 0x3d160ef70>  \n",
       "0  <keras.callbacks.History object at 0x3a88770d0>  \n",
       "0  <keras.callbacks.History object at 0x3d2964f70>  \n",
       "0  <keras.callbacks.History object at 0x4626e2af0>  \n",
       "0  <keras.callbacks.History object at 0x3ccf11220>  \n",
       "0  <keras.callbacks.History object at 0x470fe1c70>  \n",
       "0  <keras.callbacks.History object at 0x3583161f0>  \n",
       "0  <keras.callbacks.History object at 0x395c71490>  \n",
       "0  <keras.callbacks.History object at 0x396242880>  \n",
       "0  <keras.callbacks.History object at 0x396289e80>  \n",
       "0  <keras.callbacks.History object at 0x4d4dcc220>  \n",
       "0  <keras.callbacks.History object at 0x4487e4d30>  \n",
       "0  <keras.callbacks.History object at 0x4f5fa4e20>  \n",
       "0  <keras.callbacks.History object at 0x466788760>  \n",
       "0  <keras.callbacks.History object at 0x4ce18b7f0>  \n",
       "0  <keras.callbacks.History object at 0x4b77c5370>  \n",
       "0  <keras.callbacks.History object at 0x50e27a310>  \n",
       "0  <keras.callbacks.History object at 0x5575b4880>  \n",
       "0  <keras.callbacks.History object at 0x5628c9430>  \n",
       "0  <keras.callbacks.History object at 0x4e8164400>  \n",
       "0  <keras.callbacks.History object at 0x54060b430>  \n",
       "0  <keras.callbacks.History object at 0x53bfa2f10>  \n",
       "0  <keras.callbacks.History object at 0x550e6c160>  "
      ]
     },
     "execution_count": 7,
     "metadata": {},
     "output_type": "execute_result"
    }
   ],
   "source": [
    "df"
   ]
  },
  {
   "cell_type": "code",
   "execution_count": 56,
   "metadata": {},
   "outputs": [
    {
     "data": {
      "text/plain": [
       "<AxesSubplot: >"
      ]
     },
     "execution_count": 56,
     "metadata": {},
     "output_type": "execute_result"
    },
    {
     "data": {
      "image/png": "[encoded data removed]",
      "text/plain": [
       "<Figure size 640x480 with 1 Axes>"
      ]
     },
     "metadata": {},
     "output_type": "display_data"
    }
   ],
   "source": [
    "sns.lineplot(df[df['Store'] == \"15\"]['training_history'].iloc[0].history['loss'])\n",
    "sns.lineplot(df[df['Store'] == \"15\"]['training_history'].iloc[0].history['val_loss'])"
   ]
  },
  {
   "cell_type": "code",
   "execution_count": 12,
   "metadata": {},
   "outputs": [
    {
     "data": {
      "text/plain": [
       "<AxesSubplot: >"
      ]
     },
     "execution_count": 12,
     "metadata": {},
     "output_type": "execute_result"
    },
    {
     "data": {
      "image/png": "[encoded data removed]",
      "text/plain": [
       "<Figure size 640x480 with 1 Axes>"
      ]
     },
     "metadata": {},
     "output_type": "display_data"
    }
   ],
   "source": [
    "sns.lineplot(df[df['Store'] == \"10\"]['training_history'].iloc[0].history['loss'])"
   ]
  },
  {
   "cell_type": "code",
   "execution_count": 13,
   "metadata": {},
   "outputs": [
    {
     "data": {
      "text/plain": [
       "{'loss': [12383.5263671875,\n",
       "  6192.76513671875,\n",
       "  5849.80810546875,\n",
       "  5483.17041015625,\n",
       "  5377.62060546875,\n",
       "  5105.0185546875,\n",
       "  4978.92431640625,\n",
       "  4893.5673828125,\n",
       "  4691.36328125,\n",
       "  4636.2900390625,\n",
       "  4481.99267578125],\n",
       " 'mean_squared_error': [579151616.0,\n",
       "  144740000.0,\n",
       "  139120288.0,\n",
       "  129001408.0,\n",
       "  128936928.0,\n",
       "  115760776.0,\n",
       "  115422336.0,\n",
       "  112788416.0,\n",
       "  104265848.0,\n",
       "  107513976.0,\n",
       "  100543680.0],\n",
       " 'mean_absolute_error': [12383.5263671875,\n",
       "  6192.76513671875,\n",
       "  5849.80810546875,\n",
       "  5483.17041015625,\n",
       "  5377.62060546875,\n",
       "  5105.0185546875,\n",
       "  4978.92431640625,\n",
       "  4893.5673828125,\n",
       "  4691.36328125,\n",
       "  4636.2900390625,\n",
       "  4481.99267578125],\n",
       " 'val_loss': [4256.9609375,\n",
       "  5480.71826171875,\n",
       "  4802.7412109375,\n",
       "  5423.373046875,\n",
       "  3910.585205078125,\n",
       "  7344.2919921875,\n",
       "  3342.66552734375,\n",
       "  3875.173828125,\n",
       "  7275.34130859375,\n",
       "  4086.5986328125,\n",
       "  8644.384765625],\n",
       " 'val_mean_squared_error': [52571944.0,\n",
       "  75528240.0,\n",
       "  64995456.0,\n",
       "  85376488.0,\n",
       "  43055040.0,\n",
       "  138645088.0,\n",
       "  30450428.0,\n",
       "  41654472.0,\n",
       "  153904560.0,\n",
       "  41650076.0,\n",
       "  156850032.0],\n",
       " 'val_mean_absolute_error': [4256.9609375,\n",
       "  5480.71826171875,\n",
       "  4802.7412109375,\n",
       "  5423.373046875,\n",
       "  3910.585205078125,\n",
       "  7344.2919921875,\n",
       "  3342.66552734375,\n",
       "  3875.173828125,\n",
       "  7275.34130859375,\n",
       "  4086.5986328125,\n",
       "  8644.384765625]}"
      ]
     },
     "execution_count": 13,
     "metadata": {},
     "output_type": "execute_result"
    }
   ],
   "source": [
    "df[df['Store'] == \"2\"]['training_history'].iloc[0].history"
   ]
  },
  {
   "cell_type": "code",
   "execution_count": 14,
   "metadata": {},
   "outputs": [],
   "source": [
    "df.to_csv(\"./data/performance/individual_result.csv\", index=False)"
   ]
  },
  {
   "cell_type": "markdown",
   "metadata": {},
   "source": [
    "Low data"
   ]
  },
  {
   "cell_type": "code",
   "execution_count": 32,
   "metadata": {},
   "outputs": [],
   "source": [
    "df_low = pd.DataFrame()"
   ]
  },
  {
   "cell_type": "code",
   "execution_count": 33,
   "metadata": {},
   "outputs": [
    {
     "name": "stdout",
     "output_type": "stream",
     "text": [
      "_______________________________________STORE_1______________________________________\n",
      "Epoch 1/100\n",
      "WARNING:tensorflow:Model was constructed with shape (None, None, 103) for input KerasTensor(type_spec=TensorSpec(shape=(None, None, 103), dtype=tf.float32, name='dense_1080_input'), name='dense_1080_input', description=\"created by layer 'dense_1080_input'\"), but it was called on an input with incompatible shape (None, 103).\n",
      "WARNING:tensorflow:Model was constructed with shape (None, None, 103) for input KerasTensor(type_spec=TensorSpec(shape=(None, None, 103), dtype=tf.float32, name='dense_1080_input'), name='dense_1080_input', description=\"created by layer 'dense_1080_input'\"), but it was called on an input with incompatible shape (None, 103).\n"
     ]
    },
    {
     "name": "stderr",
     "output_type": "stream",
     "text": [
      "2022-12-17 15:14:06.942596: I tensorflow/core/grappler/optimizers/custom_graph_optimizer_registry.cc:114] Plugin optimizer for device_type GPU is enabled.\n"
     ]
    },
    {
     "name": "stdout",
     "output_type": "stream",
     "text": [
      "33/33 [==============================] - ETA: 0s - loss: 13491.1904 - mean_squared_error: 323792736.0000 - mean_absolute_error: 13491.1904WARNING:tensorflow:Model was constructed with shape (None, None, 103) for input KerasTensor(type_spec=TensorSpec(shape=(None, None, 103), dtype=tf.float32, name='dense_1080_input'), name='dense_1080_input', description=\"created by layer 'dense_1080_input'\"), but it was called on an input with incompatible shape (None, 103).\n"
     ]
    },
    {
     "name": "stderr",
     "output_type": "stream",
     "text": [
      "2022-12-17 15:14:15.046419: I tensorflow/core/grappler/optimizers/custom_graph_optimizer_registry.cc:114] Plugin optimizer for device_type GPU is enabled.\n"
     ]
    },
    {
     "name": "stdout",
     "output_type": "stream",
     "text": [
      "33/33 [==============================] - 9s 104ms/step - loss: 13491.1904 - mean_squared_error: 323792736.0000 - mean_absolute_error: 13491.1904 - val_loss: 9660.6396 - val_mean_squared_error: 128449520.0000 - val_mean_absolute_error: 9660.6396\n",
      "Epoch 2/100\n",
      "33/33 [==============================] - 1s 23ms/step - loss: 9073.4473 - mean_squared_error: 161036816.0000 - mean_absolute_error: 9073.4473 - val_loss: 5098.6396 - val_mean_squared_error: 33025270.0000 - val_mean_absolute_error: 5098.6396\n",
      "Epoch 3/100\n",
      "33/33 [==============================] - 1s 18ms/step - loss: 6971.6104 - mean_squared_error: 128856496.0000 - mean_absolute_error: 6971.6104 - val_loss: 5638.9419 - val_mean_squared_error: 39889588.0000 - val_mean_absolute_error: 5638.9419\n",
      "Epoch 4/100\n",
      "33/33 [==============================] - 1s 19ms/step - loss: 6483.7397 - mean_squared_error: 117125464.0000 - mean_absolute_error: 6483.7397 - val_loss: 7699.7891 - val_mean_squared_error: 89284160.0000 - val_mean_absolute_error: 7699.7891\n",
      "Epoch 5/100\n",
      "33/33 [==============================] - 1s 19ms/step - loss: 6490.5747 - mean_squared_error: 125938824.0000 - mean_absolute_error: 6490.5747 - val_loss: 3601.4539 - val_mean_squared_error: 18787418.0000 - val_mean_absolute_error: 3601.4539\n",
      "Epoch 6/100\n",
      "33/33 [==============================] - 1s 17ms/step - loss: 6231.9448 - mean_squared_error: 114811088.0000 - mean_absolute_error: 6231.9448 - val_loss: 4742.7607 - val_mean_squared_error: 32295622.0000 - val_mean_absolute_error: 4742.7607\n",
      "Epoch 7/100\n",
      "33/33 [==============================] - 1s 18ms/step - loss: 6404.8159 - mean_squared_error: 114881928.0000 - mean_absolute_error: 6404.8159 - val_loss: 5004.0273 - val_mean_squared_error: 42099312.0000 - val_mean_absolute_error: 5004.0273\n",
      "Epoch 8/100\n",
      "33/33 [==============================] - 1s 16ms/step - loss: 6369.7637 - mean_squared_error: 118727032.0000 - mean_absolute_error: 6369.7637 - val_loss: 3960.7048 - val_mean_squared_error: 24087842.0000 - val_mean_absolute_error: 3960.7048\n",
      "Epoch 9/100\n",
      "33/33 [==============================] - 1s 17ms/step - loss: 6372.4092 - mean_squared_error: 119927376.0000 - mean_absolute_error: 6372.4092 - val_loss: 4170.5713 - val_mean_squared_error: 27206884.0000 - val_mean_absolute_error: 4170.5713\n",
      "11/11 [==============================] - 1s 72ms/step - loss: 4902.3560 - mean_squared_error: 102589760.0000 - mean_absolute_error: 4902.3569\n",
      "2/2 [==============================] - 0s 387ms/step - loss: 4675.6914 - mean_squared_error: 54702472.0000 - mean_absolute_error: 4675.6914\n",
      "_______________________________________STORE_2______________________________________\n",
      "Epoch 1/100\n",
      "WARNING:tensorflow:Model was constructed with shape (None, None, 103) for input KerasTensor(type_spec=TensorSpec(shape=(None, None, 103), dtype=tf.float32, name='dense_1088_input'), name='dense_1088_input', description=\"created by layer 'dense_1088_input'\"), but it was called on an input with incompatible shape (None, 103).\n",
      "WARNING:tensorflow:Model was constructed with shape (None, None, 103) for input KerasTensor(type_spec=TensorSpec(shape=(None, None, 103), dtype=tf.float32, name='dense_1088_input'), name='dense_1088_input', description=\"created by layer 'dense_1088_input'\"), but it was called on an input with incompatible shape (None, 103).\n"
     ]
    },
    {
     "name": "stderr",
     "output_type": "stream",
     "text": [
      "2022-12-17 15:14:23.066546: I tensorflow/core/grappler/optimizers/custom_graph_optimizer_registry.cc:114] Plugin optimizer for device_type GPU is enabled.\n"
     ]
    },
    {
     "name": "stdout",
     "output_type": "stream",
     "text": [
      "33/33 [==============================] - ETA: 0s - loss: 21746.9082 - mean_squared_error: 845202816.0000 - mean_absolute_error: 21746.9082WARNING:tensorflow:Model was constructed with shape (None, None, 103) for input KerasTensor(type_spec=TensorSpec(shape=(None, None, 103), dtype=tf.float32, name='dense_1088_input'), name='dense_1088_input', description=\"created by layer 'dense_1088_input'\"), but it was called on an input with incompatible shape (None, 103).\n"
     ]
    },
    {
     "name": "stderr",
     "output_type": "stream",
     "text": [
      "2022-12-17 15:14:28.208009: I tensorflow/core/grappler/optimizers/custom_graph_optimizer_registry.cc:114] Plugin optimizer for device_type GPU is enabled.\n"
     ]
    },
    {
     "name": "stdout",
     "output_type": "stream",
     "text": [
      "33/33 [==============================] - 7s 137ms/step - loss: 21746.9082 - mean_squared_error: 845202816.0000 - mean_absolute_error: 21746.9082 - val_loss: 15008.8594 - val_mean_squared_error: 347408928.0000 - val_mean_absolute_error: 15008.8594\n",
      "Epoch 2/100\n",
      "33/33 [==============================] - 1s 22ms/step - loss: 13551.4932 - mean_squared_error: 409453184.0000 - mean_absolute_error: 13551.4932 - val_loss: 11354.5654 - val_mean_squared_error: 209442768.0000 - val_mean_absolute_error: 11354.5645\n",
      "Epoch 3/100\n",
      "33/33 [==============================] - 1s 22ms/step - loss: 9905.5469 - mean_squared_error: 312722080.0000 - mean_absolute_error: 9905.5469 - val_loss: 8171.3140 - val_mean_squared_error: 111042520.0000 - val_mean_absolute_error: 8171.3140\n",
      "Epoch 4/100\n",
      "33/33 [==============================] - 1s 22ms/step - loss: 9057.5068 - mean_squared_error: 302257696.0000 - mean_absolute_error: 9057.5068 - val_loss: 11967.6270 - val_mean_squared_error: 210183040.0000 - val_mean_absolute_error: 11967.6270\n",
      "Epoch 5/100\n",
      "33/33 [==============================] - 1s 20ms/step - loss: 8677.3447 - mean_squared_error: 298551872.0000 - mean_absolute_error: 8677.3447 - val_loss: 4833.5073 - val_mean_squared_error: 38116296.0000 - val_mean_absolute_error: 4833.5073\n",
      "Epoch 6/100\n",
      "33/33 [==============================] - 1s 18ms/step - loss: 8755.9941 - mean_squared_error: 302162816.0000 - mean_absolute_error: 8755.9941 - val_loss: 9798.6562 - val_mean_squared_error: 149395872.0000 - val_mean_absolute_error: 9798.6562\n",
      "Epoch 7/100\n",
      "33/33 [==============================] - 1s 16ms/step - loss: 8531.1816 - mean_squared_error: 292058784.0000 - mean_absolute_error: 8531.1816 - val_loss: 6419.6924 - val_mean_squared_error: 56106296.0000 - val_mean_absolute_error: 6419.6924\n",
      "Epoch 8/100\n",
      "33/33 [==============================] - 1s 16ms/step - loss: 8717.2256 - mean_squared_error: 292819200.0000 - mean_absolute_error: 8717.2256 - val_loss: 5673.3188 - val_mean_squared_error: 47136448.0000 - val_mean_absolute_error: 5673.3188\n",
      "Epoch 9/100\n",
      "33/33 [==============================] - 1s 16ms/step - loss: 8649.2617 - mean_squared_error: 297607520.0000 - mean_absolute_error: 8649.2617 - val_loss: 8231.4561 - val_mean_squared_error: 109494712.0000 - val_mean_absolute_error: 8231.4561\n",
      "11/11 [==============================] - 1s 62ms/step - loss: 7078.9971 - mean_squared_error: 258448080.0000 - mean_absolute_error: 7078.9971\n",
      "2/2 [==============================] - 0s 352ms/step - loss: 5493.0386 - mean_squared_error: 89788248.0000 - mean_absolute_error: 5493.0386\n",
      "_______________________________________STORE_3______________________________________\n",
      "Epoch 1/100\n",
      "WARNING:tensorflow:Model was constructed with shape (None, None, 103) for input KerasTensor(type_spec=TensorSpec(shape=(None, None, 103), dtype=tf.float32, name='dense_1096_input'), name='dense_1096_input', description=\"created by layer 'dense_1096_input'\"), but it was called on an input with incompatible shape (None, 103).\n",
      "WARNING:tensorflow:Model was constructed with shape (None, None, 103) for input KerasTensor(type_spec=TensorSpec(shape=(None, None, 103), dtype=tf.float32, name='dense_1096_input'), name='dense_1096_input', description=\"created by layer 'dense_1096_input'\"), but it was called on an input with incompatible shape (None, 103).\n"
     ]
    },
    {
     "name": "stderr",
     "output_type": "stream",
     "text": [
      "2022-12-17 15:14:36.742215: I tensorflow/core/grappler/optimizers/custom_graph_optimizer_registry.cc:114] Plugin optimizer for device_type GPU is enabled.\n"
     ]
    },
    {
     "name": "stdout",
     "output_type": "stream",
     "text": [
      "33/33 [==============================] - ETA: 0s - loss: 4433.7720 - mean_squared_error: 38571184.0000 - mean_absolute_error: 4433.7720WARNING:tensorflow:Model was constructed with shape (None, None, 103) for input KerasTensor(type_spec=TensorSpec(shape=(None, None, 103), dtype=tf.float32, name='dense_1096_input'), name='dense_1096_input', description=\"created by layer 'dense_1096_input'\"), but it was called on an input with incompatible shape (None, 103).\n"
     ]
    },
    {
     "name": "stderr",
     "output_type": "stream",
     "text": [
      "2022-12-17 15:14:42.292350: I tensorflow/core/grappler/optimizers/custom_graph_optimizer_registry.cc:114] Plugin optimizer for device_type GPU is enabled.\n"
     ]
    },
    {
     "name": "stdout",
     "output_type": "stream",
     "text": [
      "33/33 [==============================] - 7s 142ms/step - loss: 4433.7720 - mean_squared_error: 38571184.0000 - mean_absolute_error: 4433.7720 - val_loss: 4695.7017 - val_mean_squared_error: 34595380.0000 - val_mean_absolute_error: 4695.7017\n",
      "Epoch 2/100\n",
      "33/33 [==============================] - 1s 22ms/step - loss: 3020.8052 - mean_squared_error: 21924152.0000 - mean_absolute_error: 3020.8052 - val_loss: 3749.2859 - val_mean_squared_error: 22299248.0000 - val_mean_absolute_error: 3749.2859\n",
      "Epoch 3/100\n",
      "33/33 [==============================] - 2s 36ms/step - loss: 2550.5237 - mean_squared_error: 18104314.0000 - mean_absolute_error: 2550.5237 - val_loss: 1599.6558 - val_mean_squared_error: 4469742.0000 - val_mean_absolute_error: 1599.6558\n",
      "Epoch 4/100\n",
      "33/33 [==============================] - 1s 18ms/step - loss: 2295.7854 - mean_squared_error: 17098316.0000 - mean_absolute_error: 2295.7854 - val_loss: 1233.3145 - val_mean_squared_error: 2878573.0000 - val_mean_absolute_error: 1233.3145\n",
      "Epoch 5/100\n",
      "33/33 [==============================] - 1s 18ms/step - loss: 2371.1377 - mean_squared_error: 17521088.0000 - mean_absolute_error: 2371.1377 - val_loss: 1695.3392 - val_mean_squared_error: 3901901.0000 - val_mean_absolute_error: 1695.3392\n",
      "Epoch 6/100\n",
      "33/33 [==============================] - 1s 21ms/step - loss: 2321.9360 - mean_squared_error: 16630214.0000 - mean_absolute_error: 2321.9360 - val_loss: 1902.3096 - val_mean_squared_error: 6127806.5000 - val_mean_absolute_error: 1902.3096\n",
      "Epoch 7/100\n",
      "33/33 [==============================] - 1s 25ms/step - loss: 2281.6409 - mean_squared_error: 15753645.0000 - mean_absolute_error: 2281.6409 - val_loss: 1958.1538 - val_mean_squared_error: 7112180.0000 - val_mean_absolute_error: 1958.1538\n",
      "Epoch 8/100\n",
      "33/33 [==============================] - 1s 19ms/step - loss: 2220.7410 - mean_squared_error: 16041373.0000 - mean_absolute_error: 2220.7410 - val_loss: 3531.9810 - val_mean_squared_error: 18075526.0000 - val_mean_absolute_error: 3531.9807\n",
      "11/11 [==============================] - 1s 69ms/step - loss: 1656.6676 - mean_squared_error: 13198999.0000 - mean_absolute_error: 1656.6676\n",
      "2/2 [==============================] - 0s 156ms/step - loss: 1905.4886 - mean_squared_error: 8688863.0000 - mean_absolute_error: 1905.4888\n",
      "_______________________________________STORE_4______________________________________\n",
      "Epoch 1/100\n",
      "WARNING:tensorflow:Model was constructed with shape (None, None, 103) for input KerasTensor(type_spec=TensorSpec(shape=(None, None, 103), dtype=tf.float32, name='dense_1104_input'), name='dense_1104_input', description=\"created by layer 'dense_1104_input'\"), but it was called on an input with incompatible shape (None, 103).\n",
      "WARNING:tensorflow:Model was constructed with shape (None, None, 103) for input KerasTensor(type_spec=TensorSpec(shape=(None, None, 103), dtype=tf.float32, name='dense_1104_input'), name='dense_1104_input', description=\"created by layer 'dense_1104_input'\"), but it was called on an input with incompatible shape (None, 103).\n"
     ]
    },
    {
     "name": "stderr",
     "output_type": "stream",
     "text": [
      "2022-12-17 15:14:51.282018: I tensorflow/core/grappler/optimizers/custom_graph_optimizer_registry.cc:114] Plugin optimizer for device_type GPU is enabled.\n"
     ]
    },
    {
     "name": "stdout",
     "output_type": "stream",
     "text": [
      "33/33 [==============================] - ETA: 0s - loss: 26418.8887 - mean_squared_error: 1301813120.0000 - mean_absolute_error: 26418.8887WARNING:tensorflow:Model was constructed with shape (None, None, 103) for input KerasTensor(type_spec=TensorSpec(shape=(None, None, 103), dtype=tf.float32, name='dense_1104_input'), name='dense_1104_input', description=\"created by layer 'dense_1104_input'\"), but it was called on an input with incompatible shape (None, 103).\n"
     ]
    },
    {
     "name": "stderr",
     "output_type": "stream",
     "text": [
      "2022-12-17 15:15:00.599450: I tensorflow/core/grappler/optimizers/custom_graph_optimizer_registry.cc:114] Plugin optimizer for device_type GPU is enabled.\n"
     ]
    },
    {
     "name": "stdout",
     "output_type": "stream",
     "text": [
      "33/33 [==============================] - 11s 149ms/step - loss: 26418.8887 - mean_squared_error: 1301813120.0000 - mean_absolute_error: 26418.8887 - val_loss: 18117.0527 - val_mean_squared_error: 557937152.0000 - val_mean_absolute_error: 18117.0527\n",
      "Epoch 2/100\n",
      "33/33 [==============================] - 1s 21ms/step - loss: 18111.7695 - mean_squared_error: 695106496.0000 - mean_absolute_error: 18111.7695 - val_loss: 13973.6504 - val_mean_squared_error: 337321664.0000 - val_mean_absolute_error: 13973.6504\n",
      "Epoch 3/100\n",
      "33/33 [==============================] - 1s 16ms/step - loss: 13342.7842 - mean_squared_error: 500574272.0000 - mean_absolute_error: 13342.7842 - val_loss: 11173.2812 - val_mean_squared_error: 233080288.0000 - val_mean_absolute_error: 11173.2812\n",
      "Epoch 4/100\n",
      "33/33 [==============================] - 1s 19ms/step - loss: 10465.5664 - mean_squared_error: 409241472.0000 - mean_absolute_error: 10465.5664 - val_loss: 7690.6177 - val_mean_squared_error: 101637968.0000 - val_mean_absolute_error: 7690.6177\n",
      "Epoch 5/100\n",
      "33/33 [==============================] - 1s 16ms/step - loss: 10024.7070 - mean_squared_error: 386553824.0000 - mean_absolute_error: 10024.7070 - val_loss: 7205.4844 - val_mean_squared_error: 90951336.0000 - val_mean_absolute_error: 7205.4844\n",
      "Epoch 6/100\n",
      "33/33 [==============================] - 1s 15ms/step - loss: 10294.6934 - mean_squared_error: 395469504.0000 - mean_absolute_error: 10294.6934 - val_loss: 8590.3604 - val_mean_squared_error: 123525912.0000 - val_mean_absolute_error: 8590.3604\n",
      "Epoch 7/100\n",
      "33/33 [==============================] - 1s 17ms/step - loss: 9726.6523 - mean_squared_error: 388241696.0000 - mean_absolute_error: 9726.6523 - val_loss: 8145.5239 - val_mean_squared_error: 119131832.0000 - val_mean_absolute_error: 8145.5239\n",
      "Epoch 8/100\n",
      "33/33 [==============================] - 1s 17ms/step - loss: 9597.1934 - mean_squared_error: 382537312.0000 - mean_absolute_error: 9597.1934 - val_loss: 10167.6758 - val_mean_squared_error: 180259776.0000 - val_mean_absolute_error: 10167.6758\n",
      "Epoch 9/100\n",
      "33/33 [==============================] - 1s 16ms/step - loss: 9861.9385 - mean_squared_error: 395009280.0000 - mean_absolute_error: 9861.9385 - val_loss: 9511.1211 - val_mean_squared_error: 156516048.0000 - val_mean_absolute_error: 9511.1211\n",
      "11/11 [==============================] - 1s 70ms/step - loss: 8708.6270 - mean_squared_error: 334499008.0000 - mean_absolute_error: 8708.6270\n",
      "2/2 [==============================] - 0s 443ms/step - loss: 7303.3896 - mean_squared_error: 177292112.0000 - mean_absolute_error: 7303.3896\n",
      "_______________________________________STORE_5______________________________________\n",
      "Epoch 1/100\n",
      "WARNING:tensorflow:Model was constructed with shape (None, None, 103) for input KerasTensor(type_spec=TensorSpec(shape=(None, None, 103), dtype=tf.float32, name='dense_1112_input'), name='dense_1112_input', description=\"created by layer 'dense_1112_input'\"), but it was called on an input with incompatible shape (None, 103).\n",
      "WARNING:tensorflow:Model was constructed with shape (None, None, 103) for input KerasTensor(type_spec=TensorSpec(shape=(None, None, 103), dtype=tf.float32, name='dense_1112_input'), name='dense_1112_input', description=\"created by layer 'dense_1112_input'\"), but it was called on an input with incompatible shape (None, 103).\n"
     ]
    },
    {
     "name": "stderr",
     "output_type": "stream",
     "text": [
      "2022-12-17 15:15:08.823045: I tensorflow/core/grappler/optimizers/custom_graph_optimizer_registry.cc:114] Plugin optimizer for device_type GPU is enabled.\n"
     ]
    },
    {
     "name": "stdout",
     "output_type": "stream",
     "text": [
      "33/33 [==============================] - ETA: 0s - loss: 4181.9941 - mean_squared_error: 28945568.0000 - mean_absolute_error: 4181.9941WARNING:tensorflow:Model was constructed with shape (None, None, 103) for input KerasTensor(type_spec=TensorSpec(shape=(None, None, 103), dtype=tf.float32, name='dense_1112_input'), name='dense_1112_input', description=\"created by layer 'dense_1112_input'\"), but it was called on an input with incompatible shape (None, 103).\n"
     ]
    },
    {
     "name": "stderr",
     "output_type": "stream",
     "text": [
      "2022-12-17 15:15:14.672407: I tensorflow/core/grappler/optimizers/custom_graph_optimizer_registry.cc:114] Plugin optimizer for device_type GPU is enabled.\n"
     ]
    },
    {
     "name": "stdout",
     "output_type": "stream",
     "text": [
      "33/33 [==============================] - 8s 147ms/step - loss: 4181.9941 - mean_squared_error: 28945568.0000 - mean_absolute_error: 4181.9941 - val_loss: 2643.8066 - val_mean_squared_error: 9971843.0000 - val_mean_absolute_error: 2643.8066\n",
      "Epoch 2/100\n",
      "33/33 [==============================] - 1s 22ms/step - loss: 2555.8398 - mean_squared_error: 12331728.0000 - mean_absolute_error: 2555.8398 - val_loss: 2538.9634 - val_mean_squared_error: 8746129.0000 - val_mean_absolute_error: 2538.9634\n",
      "Epoch 3/100\n",
      "33/33 [==============================] - 1s 20ms/step - loss: 2077.1384 - mean_squared_error: 9881407.0000 - mean_absolute_error: 2077.1384 - val_loss: 3324.8430 - val_mean_squared_error: 15035049.0000 - val_mean_absolute_error: 3324.8430\n",
      "Epoch 4/100\n",
      "33/33 [==============================] - 1s 19ms/step - loss: 2022.5520 - mean_squared_error: 9657811.0000 - mean_absolute_error: 2022.5520 - val_loss: 1638.2050 - val_mean_squared_error: 4192316.0000 - val_mean_absolute_error: 1638.2050\n",
      "Epoch 5/100\n",
      "33/33 [==============================] - 1s 17ms/step - loss: 1960.4890 - mean_squared_error: 9260313.0000 - mean_absolute_error: 1960.4890 - val_loss: 1916.4781 - val_mean_squared_error: 4634263.0000 - val_mean_absolute_error: 1916.4781\n",
      "Epoch 6/100\n",
      "33/33 [==============================] - 1s 17ms/step - loss: 1947.2334 - mean_squared_error: 9357362.0000 - mean_absolute_error: 1947.2334 - val_loss: 1786.5618 - val_mean_squared_error: 4722796.0000 - val_mean_absolute_error: 1786.5618\n",
      "Epoch 7/100\n",
      "33/33 [==============================] - 1s 20ms/step - loss: 1720.8203 - mean_squared_error: 8132588.5000 - mean_absolute_error: 1720.8203 - val_loss: 2824.6921 - val_mean_squared_error: 9922736.0000 - val_mean_absolute_error: 2824.6921\n",
      "Epoch 8/100\n",
      "33/33 [==============================] - 1s 17ms/step - loss: 1959.5983 - mean_squared_error: 9202939.0000 - mean_absolute_error: 1959.5983 - val_loss: 1272.6450 - val_mean_squared_error: 2719472.5000 - val_mean_absolute_error: 1272.6450\n",
      "Epoch 9/100\n",
      "33/33 [==============================] - 1s 15ms/step - loss: 1871.9209 - mean_squared_error: 9021788.0000 - mean_absolute_error: 1871.9209 - val_loss: 1172.9957 - val_mean_squared_error: 2057005.7500 - val_mean_absolute_error: 1172.9957\n",
      "Epoch 10/100\n",
      "33/33 [==============================] - 1s 19ms/step - loss: 1792.7745 - mean_squared_error: 8125249.5000 - mean_absolute_error: 1792.7745 - val_loss: 897.7609 - val_mean_squared_error: 1340889.0000 - val_mean_absolute_error: 897.7609\n",
      "Epoch 11/100\n",
      "33/33 [==============================] - 1s 17ms/step - loss: 1819.2716 - mean_squared_error: 8352015.5000 - mean_absolute_error: 1819.2716 - val_loss: 797.6119 - val_mean_squared_error: 1155823.5000 - val_mean_absolute_error: 797.6119\n",
      "Epoch 12/100\n",
      "33/33 [==============================] - 0s 14ms/step - loss: 1776.6570 - mean_squared_error: 8155720.0000 - mean_absolute_error: 1776.6570 - val_loss: 1024.2745 - val_mean_squared_error: 1603971.0000 - val_mean_absolute_error: 1024.2745\n",
      "Epoch 13/100\n",
      "33/33 [==============================] - 1s 16ms/step - loss: 1742.5624 - mean_squared_error: 8008958.0000 - mean_absolute_error: 1742.5624 - val_loss: 980.7945 - val_mean_squared_error: 1560016.7500 - val_mean_absolute_error: 980.7945\n",
      "Epoch 14/100\n",
      "33/33 [==============================] - 1s 16ms/step - loss: 1753.8008 - mean_squared_error: 8171703.0000 - mean_absolute_error: 1753.8008 - val_loss: 1633.8246 - val_mean_squared_error: 3977705.7500 - val_mean_absolute_error: 1633.8246\n",
      "Epoch 15/100\n",
      "33/33 [==============================] - 1s 16ms/step - loss: 1792.3962 - mean_squared_error: 8289523.5000 - mean_absolute_error: 1792.3962 - val_loss: 1148.8768 - val_mean_squared_error: 2166041.0000 - val_mean_absolute_error: 1148.8768\n",
      "11/11 [==============================] - 1s 76ms/step - loss: 1346.5159 - mean_squared_error: 6109363.5000 - mean_absolute_error: 1346.5159\n",
      "2/2 [==============================] - 0s 117ms/step - loss: 1279.8914 - mean_squared_error: 6237997.5000 - mean_absolute_error: 1279.8914\n",
      "_______________________________________STORE_6______________________________________\n",
      "Epoch 1/100\n",
      "WARNING:tensorflow:Model was constructed with shape (None, None, 103) for input KerasTensor(type_spec=TensorSpec(shape=(None, None, 103), dtype=tf.float32, name='dense_1120_input'), name='dense_1120_input', description=\"created by layer 'dense_1120_input'\"), but it was called on an input with incompatible shape (None, 103).\n",
      "WARNING:tensorflow:Model was constructed with shape (None, None, 103) for input KerasTensor(type_spec=TensorSpec(shape=(None, None, 103), dtype=tf.float32, name='dense_1120_input'), name='dense_1120_input', description=\"created by layer 'dense_1120_input'\"), but it was called on an input with incompatible shape (None, 103).\n"
     ]
    },
    {
     "name": "stderr",
     "output_type": "stream",
     "text": [
      "2022-12-17 15:15:25.792614: I tensorflow/core/grappler/optimizers/custom_graph_optimizer_registry.cc:114] Plugin optimizer for device_type GPU is enabled.\n"
     ]
    },
    {
     "name": "stdout",
     "output_type": "stream",
     "text": [
      "33/33 [==============================] - ETA: 0s - loss: 18019.3145 - mean_squared_error: 598416704.0000 - mean_absolute_error: 18019.3145WARNING:tensorflow:Model was constructed with shape (None, None, 103) for input KerasTensor(type_spec=TensorSpec(shape=(None, None, 103), dtype=tf.float32, name='dense_1120_input'), name='dense_1120_input', description=\"created by layer 'dense_1120_input'\"), but it was called on an input with incompatible shape (None, 103).\n"
     ]
    },
    {
     "name": "stderr",
     "output_type": "stream",
     "text": [
      "2022-12-17 15:15:32.083737: I tensorflow/core/grappler/optimizers/custom_graph_optimizer_registry.cc:114] Plugin optimizer for device_type GPU is enabled.\n"
     ]
    },
    {
     "name": "stdout",
     "output_type": "stream",
     "text": [
      "33/33 [==============================] - 7s 114ms/step - loss: 18019.3145 - mean_squared_error: 598416704.0000 - mean_absolute_error: 18019.3145 - val_loss: 12163.9805 - val_mean_squared_error: 217522240.0000 - val_mean_absolute_error: 12163.9805\n",
      "Epoch 2/100\n",
      "33/33 [==============================] - 1s 23ms/step - loss: 11346.8320 - mean_squared_error: 274831808.0000 - mean_absolute_error: 11346.8320 - val_loss: 12263.9902 - val_mean_squared_error: 223397728.0000 - val_mean_absolute_error: 12263.9902\n",
      "Epoch 3/100\n",
      "33/33 [==============================] - 1s 23ms/step - loss: 9089.8896 - mean_squared_error: 230702384.0000 - mean_absolute_error: 9089.8896 - val_loss: 5923.5635 - val_mean_squared_error: 53649372.0000 - val_mean_absolute_error: 5923.5635\n",
      "Epoch 4/100\n",
      "33/33 [==============================] - 1s 22ms/step - loss: 8113.0210 - mean_squared_error: 218922928.0000 - mean_absolute_error: 8113.0210 - val_loss: 4757.4004 - val_mean_squared_error: 39024308.0000 - val_mean_absolute_error: 4757.4004\n",
      "Epoch 5/100\n",
      "33/33 [==============================] - 1s 19ms/step - loss: 7733.3979 - mean_squared_error: 206560512.0000 - mean_absolute_error: 7733.3979 - val_loss: 5033.3311 - val_mean_squared_error: 41088612.0000 - val_mean_absolute_error: 5033.3311\n",
      "Epoch 6/100\n",
      "33/33 [==============================] - 1s 16ms/step - loss: 7743.1543 - mean_squared_error: 210397184.0000 - mean_absolute_error: 7743.1543 - val_loss: 8209.4199 - val_mean_squared_error: 87529968.0000 - val_mean_absolute_error: 8209.4199\n",
      "Epoch 7/100\n",
      "33/33 [==============================] - 1s 17ms/step - loss: 7674.1729 - mean_squared_error: 207296048.0000 - mean_absolute_error: 7674.1729 - val_loss: 7602.3564 - val_mean_squared_error: 101018824.0000 - val_mean_absolute_error: 7602.3560\n",
      "Epoch 8/100\n",
      "33/33 [==============================] - 1s 17ms/step - loss: 7555.8145 - mean_squared_error: 201912832.0000 - mean_absolute_error: 7555.8145 - val_loss: 4256.6460 - val_mean_squared_error: 33524816.0000 - val_mean_absolute_error: 4256.6460\n",
      "Epoch 9/100\n",
      "33/33 [==============================] - 1s 17ms/step - loss: 7633.6660 - mean_squared_error: 198115712.0000 - mean_absolute_error: 7633.6660 - val_loss: 4399.2441 - val_mean_squared_error: 36304928.0000 - val_mean_absolute_error: 4399.2437\n",
      "Epoch 10/100\n",
      "33/33 [==============================] - 1s 16ms/step - loss: 7782.8687 - mean_squared_error: 209456944.0000 - mean_absolute_error: 7782.8687 - val_loss: 6572.9189 - val_mean_squared_error: 79476024.0000 - val_mean_absolute_error: 6572.9189\n",
      "Epoch 11/100\n",
      "33/33 [==============================] - 0s 15ms/step - loss: 7820.9126 - mean_squared_error: 212351168.0000 - mean_absolute_error: 7820.9126 - val_loss: 9103.8818 - val_mean_squared_error: 126910528.0000 - val_mean_absolute_error: 9103.8818\n",
      "Epoch 12/100\n",
      "33/33 [==============================] - 0s 15ms/step - loss: 7594.8975 - mean_squared_error: 211950176.0000 - mean_absolute_error: 7594.8975 - val_loss: 4808.0259 - val_mean_squared_error: 46971748.0000 - val_mean_absolute_error: 4808.0259\n",
      "11/11 [==============================] - 1s 65ms/step - loss: 8189.2954 - mean_squared_error: 189729872.0000 - mean_absolute_error: 8189.2954\n",
      "2/2 [==============================] - 0s 102ms/step - loss: 6379.6421 - mean_squared_error: 107977176.0000 - mean_absolute_error: 6379.6421\n",
      "_______________________________________STORE_7______________________________________\n",
      "Epoch 1/100\n",
      "WARNING:tensorflow:Model was constructed with shape (None, None, 103) for input KerasTensor(type_spec=TensorSpec(shape=(None, None, 103), dtype=tf.float32, name='dense_1128_input'), name='dense_1128_input', description=\"created by layer 'dense_1128_input'\"), but it was called on an input with incompatible shape (None, 103).\n",
      "WARNING:tensorflow:Model was constructed with shape (None, None, 103) for input KerasTensor(type_spec=TensorSpec(shape=(None, None, 103), dtype=tf.float32, name='dense_1128_input'), name='dense_1128_input', description=\"created by layer 'dense_1128_input'\"), but it was called on an input with incompatible shape (None, 103).\n"
     ]
    },
    {
     "name": "stderr",
     "output_type": "stream",
     "text": [
      "2022-12-17 15:15:40.976436: I tensorflow/core/grappler/optimizers/custom_graph_optimizer_registry.cc:114] Plugin optimizer for device_type GPU is enabled.\n"
     ]
    },
    {
     "name": "stdout",
     "output_type": "stream",
     "text": [
      "33/33 [==============================] - ETA: 0s - loss: 7232.0469 - mean_squared_error: 112652856.0000 - mean_absolute_error: 7232.0469WARNING:tensorflow:Model was constructed with shape (None, None, 103) for input KerasTensor(type_spec=TensorSpec(shape=(None, None, 103), dtype=tf.float32, name='dense_1128_input'), name='dense_1128_input', description=\"created by layer 'dense_1128_input'\"), but it was called on an input with incompatible shape (None, 103).\n"
     ]
    },
    {
     "name": "stderr",
     "output_type": "stream",
     "text": [
      "2022-12-17 15:15:48.644319: I tensorflow/core/grappler/optimizers/custom_graph_optimizer_registry.cc:114] Plugin optimizer for device_type GPU is enabled.\n"
     ]
    },
    {
     "name": "stdout",
     "output_type": "stream",
     "text": [
      "33/33 [==============================] - 9s 128ms/step - loss: 7232.0469 - mean_squared_error: 112652856.0000 - mean_absolute_error: 7232.0469 - val_loss: 7671.5400 - val_mean_squared_error: 159269504.0000 - val_mean_absolute_error: 7671.5400\n",
      "Epoch 2/100\n",
      "33/33 [==============================] - 1s 21ms/step - loss: 4928.5874 - mean_squared_error: 70050752.0000 - mean_absolute_error: 4928.5874 - val_loss: 8210.2422 - val_mean_squared_error: 128094192.0000 - val_mean_absolute_error: 8210.2422\n",
      "Epoch 3/100\n",
      "33/33 [==============================] - 1s 18ms/step - loss: 4337.7393 - mean_squared_error: 56852464.0000 - mean_absolute_error: 4337.7393 - val_loss: 6042.9302 - val_mean_squared_error: 105271736.0000 - val_mean_absolute_error: 6042.9302\n",
      "Epoch 4/100\n",
      "33/33 [==============================] - 1s 21ms/step - loss: 4000.5947 - mean_squared_error: 51181080.0000 - mean_absolute_error: 4000.5947 - val_loss: 5910.1748 - val_mean_squared_error: 97953584.0000 - val_mean_absolute_error: 5910.1748\n",
      "Epoch 5/100\n",
      "33/33 [==============================] - 1s 25ms/step - loss: 4074.1130 - mean_squared_error: 51795872.0000 - mean_absolute_error: 4074.1130 - val_loss: 5903.4580 - val_mean_squared_error: 111748264.0000 - val_mean_absolute_error: 5903.4580\n",
      "Epoch 6/100\n",
      "33/33 [==============================] - 1s 16ms/step - loss: 3993.2219 - mean_squared_error: 51099244.0000 - mean_absolute_error: 3993.2219 - val_loss: 6129.2607 - val_mean_squared_error: 85346008.0000 - val_mean_absolute_error: 6129.2607\n",
      "Epoch 7/100\n",
      "33/33 [==============================] - 0s 15ms/step - loss: 4033.2095 - mean_squared_error: 51801032.0000 - mean_absolute_error: 4033.2095 - val_loss: 5995.0322 - val_mean_squared_error: 110450728.0000 - val_mean_absolute_error: 5995.0322\n",
      "Epoch 8/100\n",
      "33/33 [==============================] - 0s 15ms/step - loss: 3902.8123 - mean_squared_error: 50181876.0000 - mean_absolute_error: 3902.8123 - val_loss: 6308.5820 - val_mean_squared_error: 83626472.0000 - val_mean_absolute_error: 6308.5820\n",
      "11/11 [==============================] - 0s 25ms/step - loss: 3441.0935 - mean_squared_error: 44938020.0000 - mean_absolute_error: 3441.0938\n",
      "2/2 [==============================] - 0s 177ms/step - loss: 5172.1567 - mean_squared_error: 76003544.0000 - mean_absolute_error: 5172.1572\n",
      "_______________________________________STORE_8______________________________________\n",
      "Epoch 1/100\n",
      "WARNING:tensorflow:Model was constructed with shape (None, None, 103) for input KerasTensor(type_spec=TensorSpec(shape=(None, None, 103), dtype=tf.float32, name='dense_1136_input'), name='dense_1136_input', description=\"created by layer 'dense_1136_input'\"), but it was called on an input with incompatible shape (None, 103).\n",
      "WARNING:tensorflow:Model was constructed with shape (None, None, 103) for input KerasTensor(type_spec=TensorSpec(shape=(None, None, 103), dtype=tf.float32, name='dense_1136_input'), name='dense_1136_input', description=\"created by layer 'dense_1136_input'\"), but it was called on an input with incompatible shape (None, 103).\n"
     ]
    },
    {
     "name": "stderr",
     "output_type": "stream",
     "text": [
      "2022-12-17 15:15:55.565865: I tensorflow/core/grappler/optimizers/custom_graph_optimizer_registry.cc:114] Plugin optimizer for device_type GPU is enabled.\n"
     ]
    },
    {
     "name": "stdout",
     "output_type": "stream",
     "text": [
      "33/33 [==============================] - ETA: 0s - loss: 9964.0654 - mean_squared_error: 186595872.0000 - mean_absolute_error: 9964.0654  WARNING:tensorflow:Model was constructed with shape (None, None, 103) for input KerasTensor(type_spec=TensorSpec(shape=(None, None, 103), dtype=tf.float32, name='dense_1136_input'), name='dense_1136_input', description=\"created by layer 'dense_1136_input'\"), but it was called on an input with incompatible shape (None, 103).\n"
     ]
    },
    {
     "name": "stderr",
     "output_type": "stream",
     "text": [
      "2022-12-17 15:16:04.205900: I tensorflow/core/grappler/optimizers/custom_graph_optimizer_registry.cc:114] Plugin optimizer for device_type GPU is enabled.\n"
     ]
    },
    {
     "name": "stdout",
     "output_type": "stream",
     "text": [
      "33/33 [==============================] - 10s 130ms/step - loss: 9964.0654 - mean_squared_error: 186595872.0000 - mean_absolute_error: 9964.0654 - val_loss: 6442.9570 - val_mean_squared_error: 58485136.0000 - val_mean_absolute_error: 6442.9570\n",
      "Epoch 2/100\n",
      "33/33 [==============================] - 1s 22ms/step - loss: 6764.2310 - mean_squared_error: 103867008.0000 - mean_absolute_error: 6764.2310 - val_loss: 5291.5601 - val_mean_squared_error: 36337136.0000 - val_mean_absolute_error: 5291.5601\n",
      "Epoch 3/100\n",
      "33/33 [==============================] - 1s 16ms/step - loss: 5582.0239 - mean_squared_error: 83947008.0000 - mean_absolute_error: 5582.0239 - val_loss: 4440.1636 - val_mean_squared_error: 34631120.0000 - val_mean_absolute_error: 4440.1636\n",
      "Epoch 4/100\n",
      "33/33 [==============================] - 1s 18ms/step - loss: 4992.0923 - mean_squared_error: 76021320.0000 - mean_absolute_error: 4992.0923 - val_loss: 4196.1470 - val_mean_squared_error: 39382844.0000 - val_mean_absolute_error: 4196.1470\n",
      "Epoch 5/100\n",
      "33/33 [==============================] - 1s 19ms/step - loss: 4932.1182 - mean_squared_error: 78165208.0000 - mean_absolute_error: 4932.1182 - val_loss: 3057.7512 - val_mean_squared_error: 18890872.0000 - val_mean_absolute_error: 3057.7512\n",
      "Epoch 6/100\n",
      "33/33 [==============================] - 1s 20ms/step - loss: 4892.4048 - mean_squared_error: 74031672.0000 - mean_absolute_error: 4892.4048 - val_loss: 3261.5300 - val_mean_squared_error: 18618058.0000 - val_mean_absolute_error: 3261.5300\n",
      "Epoch 7/100\n",
      "33/33 [==============================] - 1s 19ms/step - loss: 4791.5996 - mean_squared_error: 71661152.0000 - mean_absolute_error: 4791.5996 - val_loss: 4147.3574 - val_mean_squared_error: 28781036.0000 - val_mean_absolute_error: 4147.3574\n",
      "Epoch 8/100\n",
      "33/33 [==============================] - 1s 16ms/step - loss: 4537.8003 - mean_squared_error: 66009676.0000 - mean_absolute_error: 4537.8003 - val_loss: 7490.1973 - val_mean_squared_error: 72680528.0000 - val_mean_absolute_error: 7490.1973\n",
      "Epoch 9/100\n",
      "33/33 [==============================] - 1s 16ms/step - loss: 4643.5439 - mean_squared_error: 71226296.0000 - mean_absolute_error: 4643.5439 - val_loss: 3262.8286 - val_mean_squared_error: 17298962.0000 - val_mean_absolute_error: 3262.8286\n",
      "11/11 [==============================] - 1s 30ms/step - loss: 3651.8035 - mean_squared_error: 63888644.0000 - mean_absolute_error: 3651.8037\n",
      "2/2 [==============================] - 1s 437ms/step - loss: 3348.7937 - mean_squared_error: 38773860.0000 - mean_absolute_error: 3348.7937\n",
      "_______________________________________STORE_9______________________________________\n",
      "Epoch 1/100\n",
      "WARNING:tensorflow:Model was constructed with shape (None, None, 103) for input KerasTensor(type_spec=TensorSpec(shape=(None, None, 103), dtype=tf.float32, name='dense_1144_input'), name='dense_1144_input', description=\"created by layer 'dense_1144_input'\"), but it was called on an input with incompatible shape (None, 103).\n",
      "WARNING:tensorflow:Model was constructed with shape (None, None, 103) for input KerasTensor(type_spec=TensorSpec(shape=(None, None, 103), dtype=tf.float32, name='dense_1144_input'), name='dense_1144_input', description=\"created by layer 'dense_1144_input'\"), but it was called on an input with incompatible shape (None, 103).\n"
     ]
    },
    {
     "name": "stderr",
     "output_type": "stream",
     "text": [
      "2022-12-17 15:16:12.160144: I tensorflow/core/grappler/optimizers/custom_graph_optimizer_registry.cc:114] Plugin optimizer for device_type GPU is enabled.\n"
     ]
    },
    {
     "name": "stdout",
     "output_type": "stream",
     "text": [
      "33/33 [==============================] - ETA: 0s - loss: 7666.7881 - mean_squared_error: 103548616.0000 - mean_absolute_error: 7666.7881WARNING:tensorflow:Model was constructed with shape (None, None, 103) for input KerasTensor(type_spec=TensorSpec(shape=(None, None, 103), dtype=tf.float32, name='dense_1144_input'), name='dense_1144_input', description=\"created by layer 'dense_1144_input'\"), but it was called on an input with incompatible shape (None, 103).\n"
     ]
    },
    {
     "name": "stderr",
     "output_type": "stream",
     "text": [
      "2022-12-17 15:16:20.595266: I tensorflow/core/grappler/optimizers/custom_graph_optimizer_registry.cc:114] Plugin optimizer for device_type GPU is enabled.\n"
     ]
    },
    {
     "name": "stdout",
     "output_type": "stream",
     "text": [
      "33/33 [==============================] - 10s 119ms/step - loss: 7666.7881 - mean_squared_error: 103548616.0000 - mean_absolute_error: 7666.7881 - val_loss: 4797.0728 - val_mean_squared_error: 33782804.0000 - val_mean_absolute_error: 4797.0728\n",
      "Epoch 2/100\n",
      "33/33 [==============================] - 1s 23ms/step - loss: 5034.5767 - mean_squared_error: 50568456.0000 - mean_absolute_error: 5034.5767 - val_loss: 2953.6514 - val_mean_squared_error: 12339165.0000 - val_mean_absolute_error: 2953.6514\n",
      "Epoch 3/100\n",
      "33/33 [==============================] - 1s 20ms/step - loss: 4147.9902 - mean_squared_error: 42778852.0000 - mean_absolute_error: 4147.9902 - val_loss: 2939.0872 - val_mean_squared_error: 14175419.0000 - val_mean_absolute_error: 2939.0872\n",
      "Epoch 4/100\n",
      "33/33 [==============================] - 1s 19ms/step - loss: 3956.9541 - mean_squared_error: 40976460.0000 - mean_absolute_error: 3956.9541 - val_loss: 1893.4921 - val_mean_squared_error: 5391740.5000 - val_mean_absolute_error: 1893.4921\n",
      "Epoch 5/100\n",
      "33/33 [==============================] - 1s 18ms/step - loss: 3740.0964 - mean_squared_error: 36884528.0000 - mean_absolute_error: 3740.0964 - val_loss: 2911.5461 - val_mean_squared_error: 11882147.0000 - val_mean_absolute_error: 2911.5461\n",
      "Epoch 6/100\n",
      "33/33 [==============================] - 1s 22ms/step - loss: 3697.5869 - mean_squared_error: 36853632.0000 - mean_absolute_error: 3697.5869 - val_loss: 2265.6357 - val_mean_squared_error: 7790711.5000 - val_mean_absolute_error: 2265.6357\n",
      "Epoch 7/100\n",
      "33/33 [==============================] - 1s 20ms/step - loss: 3718.3831 - mean_squared_error: 37749188.0000 - mean_absolute_error: 3718.3831 - val_loss: 2260.2056 - val_mean_squared_error: 7303360.5000 - val_mean_absolute_error: 2260.2056\n",
      "Epoch 8/100\n",
      "33/33 [==============================] - 1s 18ms/step - loss: 3507.4409 - mean_squared_error: 34753524.0000 - mean_absolute_error: 3507.4409 - val_loss: 4751.6973 - val_mean_squared_error: 32815322.0000 - val_mean_absolute_error: 4751.6973\n",
      "11/11 [==============================] - 1s 40ms/step - loss: 2608.6880 - mean_squared_error: 28555824.0000 - mean_absolute_error: 2608.6880\n",
      "2/2 [==============================] - 0s 106ms/step - loss: 2710.4519 - mean_squared_error: 22734508.0000 - mean_absolute_error: 2710.4519\n",
      "_______________________________________STORE_10______________________________________\n",
      "Epoch 1/100\n",
      "WARNING:tensorflow:Model was constructed with shape (None, None, 103) for input KerasTensor(type_spec=TensorSpec(shape=(None, None, 103), dtype=tf.float32, name='dense_1152_input'), name='dense_1152_input', description=\"created by layer 'dense_1152_input'\"), but it was called on an input with incompatible shape (None, 103).\n",
      "WARNING:tensorflow:Model was constructed with shape (None, None, 103) for input KerasTensor(type_spec=TensorSpec(shape=(None, None, 103), dtype=tf.float32, name='dense_1152_input'), name='dense_1152_input', description=\"created by layer 'dense_1152_input'\"), but it was called on an input with incompatible shape (None, 103).\n"
     ]
    },
    {
     "name": "stderr",
     "output_type": "stream",
     "text": [
      "2022-12-17 15:16:27.659456: I tensorflow/core/grappler/optimizers/custom_graph_optimizer_registry.cc:114] Plugin optimizer for device_type GPU is enabled.\n"
     ]
    },
    {
     "name": "stdout",
     "output_type": "stream",
     "text": [
      "33/33 [==============================] - ETA: 0s - loss: 30058.0547 - mean_squared_error: 1768933248.0000 - mean_absolute_error: 30058.0547WARNING:tensorflow:Model was constructed with shape (None, None, 103) for input KerasTensor(type_spec=TensorSpec(shape=(None, None, 103), dtype=tf.float32, name='dense_1152_input'), name='dense_1152_input', description=\"created by layer 'dense_1152_input'\"), but it was called on an input with incompatible shape (None, 103).\n"
     ]
    },
    {
     "name": "stderr",
     "output_type": "stream",
     "text": [
      "2022-12-17 15:16:33.501720: I tensorflow/core/grappler/optimizers/custom_graph_optimizer_registry.cc:114] Plugin optimizer for device_type GPU is enabled.\n"
     ]
    },
    {
     "name": "stdout",
     "output_type": "stream",
     "text": [
      "33/33 [==============================] - 8s 168ms/step - loss: 30058.0547 - mean_squared_error: 1768933248.0000 - mean_absolute_error: 30058.0547 - val_loss: 19738.9883 - val_mean_squared_error: 591443392.0000 - val_mean_absolute_error: 19738.9883\n",
      "Epoch 2/100\n",
      "33/33 [==============================] - 1s 25ms/step - loss: 20000.5840 - mean_squared_error: 973278144.0000 - mean_absolute_error: 20000.5840 - val_loss: 13769.7158 - val_mean_squared_error: 283126144.0000 - val_mean_absolute_error: 13769.7158\n",
      "Epoch 3/100\n",
      "33/33 [==============================] - 1s 18ms/step - loss: 14792.9404 - mean_squared_error: 766860416.0000 - mean_absolute_error: 14792.9404 - val_loss: 11239.5576 - val_mean_squared_error: 271601024.0000 - val_mean_absolute_error: 11239.5576\n",
      "Epoch 4/100\n",
      "33/33 [==============================] - 1s 17ms/step - loss: 14028.6055 - mean_squared_error: 743529152.0000 - mean_absolute_error: 14028.6055 - val_loss: 6709.2886 - val_mean_squared_error: 151995456.0000 - val_mean_absolute_error: 6709.2886\n",
      "Epoch 5/100\n",
      "33/33 [==============================] - 1s 18ms/step - loss: 14132.8955 - mean_squared_error: 721315200.0000 - mean_absolute_error: 14132.8955 - val_loss: 10381.9863 - val_mean_squared_error: 251112256.0000 - val_mean_absolute_error: 10381.9863\n",
      "Epoch 6/100\n",
      "33/33 [==============================] - 1s 15ms/step - loss: 13302.1318 - mean_squared_error: 706807232.0000 - mean_absolute_error: 13302.1318 - val_loss: 13944.8857 - val_mean_squared_error: 370299296.0000 - val_mean_absolute_error: 13944.8857\n",
      "Epoch 7/100\n",
      "33/33 [==============================] - 1s 17ms/step - loss: 13938.9824 - mean_squared_error: 738908480.0000 - mean_absolute_error: 13938.9824 - val_loss: 12927.8379 - val_mean_squared_error: 345489632.0000 - val_mean_absolute_error: 12927.8379\n",
      "Epoch 8/100\n",
      "33/33 [==============================] - 0s 15ms/step - loss: 13474.6816 - mean_squared_error: 720374656.0000 - mean_absolute_error: 13474.6816 - val_loss: 13112.8408 - val_mean_squared_error: 339864512.0000 - val_mean_absolute_error: 13112.8408\n",
      "11/11 [==============================] - 1s 38ms/step - loss: 10180.0283 - mean_squared_error: 623446656.0000 - mean_absolute_error: 10180.0283\n",
      "2/2 [==============================] - 0s 160ms/step - loss: 7068.2593 - mean_squared_error: 181550704.0000 - mean_absolute_error: 7068.2593\n",
      "_______________________________________STORE_11______________________________________\n",
      "Epoch 1/100\n",
      "WARNING:tensorflow:Model was constructed with shape (None, None, 103) for input KerasTensor(type_spec=TensorSpec(shape=(None, None, 103), dtype=tf.float32, name='dense_1160_input'), name='dense_1160_input', description=\"created by layer 'dense_1160_input'\"), but it was called on an input with incompatible shape (None, 103).\n",
      "WARNING:tensorflow:Model was constructed with shape (None, None, 103) for input KerasTensor(type_spec=TensorSpec(shape=(None, None, 103), dtype=tf.float32, name='dense_1160_input'), name='dense_1160_input', description=\"created by layer 'dense_1160_input'\"), but it was called on an input with incompatible shape (None, 103).\n"
     ]
    },
    {
     "name": "stderr",
     "output_type": "stream",
     "text": [
      "2022-12-17 15:16:41.075417: I tensorflow/core/grappler/optimizers/custom_graph_optimizer_registry.cc:114] Plugin optimizer for device_type GPU is enabled.\n"
     ]
    },
    {
     "name": "stdout",
     "output_type": "stream",
     "text": [
      "33/33 [==============================] - ETA: 0s - loss: 15414.3008 - mean_squared_error: 481853984.0000 - mean_absolute_error: 15414.3008WARNING:tensorflow:Model was constructed with shape (None, None, 103) for input KerasTensor(type_spec=TensorSpec(shape=(None, None, 103), dtype=tf.float32, name='dense_1160_input'), name='dense_1160_input', description=\"created by layer 'dense_1160_input'\"), but it was called on an input with incompatible shape (None, 103).\n"
     ]
    },
    {
     "name": "stderr",
     "output_type": "stream",
     "text": [
      "2022-12-17 15:16:49.495281: I tensorflow/core/grappler/optimizers/custom_graph_optimizer_registry.cc:114] Plugin optimizer for device_type GPU is enabled.\n"
     ]
    },
    {
     "name": "stdout",
     "output_type": "stream",
     "text": [
      "33/33 [==============================] - 10s 120ms/step - loss: 15414.3008 - mean_squared_error: 481853984.0000 - mean_absolute_error: 15414.3008 - val_loss: 8726.0938 - val_mean_squared_error: 123948528.0000 - val_mean_absolute_error: 8726.0938\n",
      "Epoch 2/100\n",
      "33/33 [==============================] - 1s 28ms/step - loss: 10311.0996 - mean_squared_error: 273524736.0000 - mean_absolute_error: 10311.0996 - val_loss: 5302.3838 - val_mean_squared_error: 41276664.0000 - val_mean_absolute_error: 5302.3838\n",
      "Epoch 3/100\n",
      "33/33 [==============================] - 1s 19ms/step - loss: 7887.7354 - mean_squared_error: 208129680.0000 - mean_absolute_error: 7887.7354 - val_loss: 3505.3455 - val_mean_squared_error: 23060694.0000 - val_mean_absolute_error: 3505.3455\n",
      "Epoch 4/100\n",
      "33/33 [==============================] - 1s 20ms/step - loss: 7395.0327 - mean_squared_error: 203614528.0000 - mean_absolute_error: 7395.0327 - val_loss: 3834.7273 - val_mean_squared_error: 24026976.0000 - val_mean_absolute_error: 3834.7273\n",
      "Epoch 5/100\n",
      "33/33 [==============================] - 1s 17ms/step - loss: 7421.3081 - mean_squared_error: 214691632.0000 - mean_absolute_error: 7421.3081 - val_loss: 5686.2095 - val_mean_squared_error: 52708780.0000 - val_mean_absolute_error: 5686.2095\n",
      "Epoch 6/100\n",
      "33/33 [==============================] - 1s 16ms/step - loss: 6887.7300 - mean_squared_error: 200605088.0000 - mean_absolute_error: 6887.7300 - val_loss: 9252.3320 - val_mean_squared_error: 121529000.0000 - val_mean_absolute_error: 9252.3320\n",
      "Epoch 7/100\n",
      "33/33 [==============================] - 1s 21ms/step - loss: 6930.5171 - mean_squared_error: 199454272.0000 - mean_absolute_error: 6930.5171 - val_loss: 6249.4297 - val_mean_squared_error: 58048964.0000 - val_mean_absolute_error: 6249.4297\n",
      "11/11 [==============================] - 1s 30ms/step - loss: 6294.6445 - mean_squared_error: 170666880.0000 - mean_absolute_error: 6294.6455\n",
      "2/2 [==============================] - 0s 412ms/step - loss: 5457.4482 - mean_squared_error: 95831288.0000 - mean_absolute_error: 5457.4482\n",
      "_______________________________________STORE_12______________________________________\n",
      "Epoch 1/100\n",
      "WARNING:tensorflow:Model was constructed with shape (None, None, 103) for input KerasTensor(type_spec=TensorSpec(shape=(None, None, 103), dtype=tf.float32, name='dense_1168_input'), name='dense_1168_input', description=\"created by layer 'dense_1168_input'\"), but it was called on an input with incompatible shape (None, 103).\n",
      "WARNING:tensorflow:Model was constructed with shape (None, None, 103) for input KerasTensor(type_spec=TensorSpec(shape=(None, None, 103), dtype=tf.float32, name='dense_1168_input'), name='dense_1168_input', description=\"created by layer 'dense_1168_input'\"), but it was called on an input with incompatible shape (None, 103).\n"
     ]
    },
    {
     "name": "stderr",
     "output_type": "stream",
     "text": [
      "2022-12-17 15:16:56.501907: I tensorflow/core/grappler/optimizers/custom_graph_optimizer_registry.cc:114] Plugin optimizer for device_type GPU is enabled.\n"
     ]
    },
    {
     "name": "stdout",
     "output_type": "stream",
     "text": [
      "33/33 [==============================] - ETA: 0s - loss: 17448.7422 - mean_squared_error: 690115008.0000 - mean_absolute_error: 17448.7422WARNING:tensorflow:Model was constructed with shape (None, None, 103) for input KerasTensor(type_spec=TensorSpec(shape=(None, None, 103), dtype=tf.float32, name='dense_1168_input'), name='dense_1168_input', description=\"created by layer 'dense_1168_input'\"), but it was called on an input with incompatible shape (None, 103).\n"
     ]
    },
    {
     "name": "stderr",
     "output_type": "stream",
     "text": [
      "2022-12-17 15:17:02.602129: I tensorflow/core/grappler/optimizers/custom_graph_optimizer_registry.cc:114] Plugin optimizer for device_type GPU is enabled.\n"
     ]
    },
    {
     "name": "stdout",
     "output_type": "stream",
     "text": [
      "33/33 [==============================] - 8s 160ms/step - loss: 17448.7422 - mean_squared_error: 690115008.0000 - mean_absolute_error: 17448.7422 - val_loss: 13125.1016 - val_mean_squared_error: 398284256.0000 - val_mean_absolute_error: 13125.1016\n",
      "Epoch 2/100\n",
      "33/33 [==============================] - 1s 20ms/step - loss: 12646.9180 - mean_squared_error: 432780672.0000 - mean_absolute_error: 12646.9180 - val_loss: 12083.5244 - val_mean_squared_error: 366359520.0000 - val_mean_absolute_error: 12083.5244\n",
      "Epoch 3/100\n",
      "33/33 [==============================] - 1s 17ms/step - loss: 9250.2471 - mean_squared_error: 288646432.0000 - mean_absolute_error: 9250.2471 - val_loss: 5890.4053 - val_mean_squared_error: 66758184.0000 - val_mean_absolute_error: 5890.4053\n",
      "Epoch 4/100\n",
      "33/33 [==============================] - 1s 19ms/step - loss: 7263.7358 - mean_squared_error: 224947280.0000 - mean_absolute_error: 7263.7358 - val_loss: 6167.3101 - val_mean_squared_error: 54706352.0000 - val_mean_absolute_error: 6167.3101\n",
      "Epoch 5/100\n",
      "33/33 [==============================] - 1s 16ms/step - loss: 6663.5078 - mean_squared_error: 205054016.0000 - mean_absolute_error: 6663.5078 - val_loss: 5798.8101 - val_mean_squared_error: 59417400.0000 - val_mean_absolute_error: 5798.8101\n",
      "Epoch 6/100\n",
      "33/33 [==============================] - 1s 19ms/step - loss: 6471.5894 - mean_squared_error: 201124080.0000 - mean_absolute_error: 6471.5894 - val_loss: 6806.2046 - val_mean_squared_error: 81145072.0000 - val_mean_absolute_error: 6806.2046\n",
      "Epoch 7/100\n",
      "33/33 [==============================] - 1s 16ms/step - loss: 6720.8267 - mean_squared_error: 210069040.0000 - mean_absolute_error: 6720.8267 - val_loss: 5829.6753 - val_mean_squared_error: 63142748.0000 - val_mean_absolute_error: 5829.6753\n",
      "11/11 [==============================] - 1s 39ms/step - loss: 7006.5615 - mean_squared_error: 206315536.0000 - mean_absolute_error: 7006.5620\n",
      "2/2 [==============================] - 0s 128ms/step - loss: 8462.6738 - mean_squared_error: 172379904.0000 - mean_absolute_error: 8462.6748\n",
      "_______________________________________STORE_13______________________________________\n",
      "Epoch 1/100\n",
      "WARNING:tensorflow:Model was constructed with shape (None, None, 103) for input KerasTensor(type_spec=TensorSpec(shape=(None, None, 103), dtype=tf.float32, name='dense_1176_input'), name='dense_1176_input', description=\"created by layer 'dense_1176_input'\"), but it was called on an input with incompatible shape (None, 103).\n",
      "WARNING:tensorflow:Model was constructed with shape (None, None, 103) for input KerasTensor(type_spec=TensorSpec(shape=(None, None, 103), dtype=tf.float32, name='dense_1176_input'), name='dense_1176_input', description=\"created by layer 'dense_1176_input'\"), but it was called on an input with incompatible shape (None, 103).\n"
     ]
    },
    {
     "name": "stderr",
     "output_type": "stream",
     "text": [
      "2022-12-17 15:17:09.271171: I tensorflow/core/grappler/optimizers/custom_graph_optimizer_registry.cc:114] Plugin optimizer for device_type GPU is enabled.\n"
     ]
    },
    {
     "name": "stdout",
     "output_type": "stream",
     "text": [
      "33/33 [==============================] - ETA: 0s - loss: 23523.1035 - mean_squared_error: 1209745664.0000 - mean_absolute_error: 23523.1035WARNING:tensorflow:Model was constructed with shape (None, None, 103) for input KerasTensor(type_spec=TensorSpec(shape=(None, None, 103), dtype=tf.float32, name='dense_1176_input'), name='dense_1176_input', description=\"created by layer 'dense_1176_input'\"), but it was called on an input with incompatible shape (None, 103).\n"
     ]
    },
    {
     "name": "stderr",
     "output_type": "stream",
     "text": [
      "2022-12-17 15:17:15.646676: I tensorflow/core/grappler/optimizers/custom_graph_optimizer_registry.cc:114] Plugin optimizer for device_type GPU is enabled.\n"
     ]
    },
    {
     "name": "stdout",
     "output_type": "stream",
     "text": [
      "33/33 [==============================] - 8s 157ms/step - loss: 23523.1035 - mean_squared_error: 1209745664.0000 - mean_absolute_error: 23523.1035 - val_loss: 16363.6836 - val_mean_squared_error: 364390400.0000 - val_mean_absolute_error: 16363.6836\n",
      "Epoch 2/100\n",
      "33/33 [==============================] - 1s 20ms/step - loss: 16753.8633 - mean_squared_error: 752281984.0000 - mean_absolute_error: 16753.8633 - val_loss: 11153.7168 - val_mean_squared_error: 181668816.0000 - val_mean_absolute_error: 11153.7168\n",
      "Epoch 3/100\n",
      "33/33 [==============================] - 1s 17ms/step - loss: 14214.6709 - mean_squared_error: 632055936.0000 - mean_absolute_error: 14214.6709 - val_loss: 15697.8555 - val_mean_squared_error: 395186272.0000 - val_mean_absolute_error: 15697.8555\n",
      "Epoch 4/100\n",
      "33/33 [==============================] - 0s 15ms/step - loss: 13021.4199 - mean_squared_error: 617922816.0000 - mean_absolute_error: 13021.4199 - val_loss: 7958.9453 - val_mean_squared_error: 139626672.0000 - val_mean_absolute_error: 7958.9453\n",
      "Epoch 5/100\n",
      "33/33 [==============================] - 1s 17ms/step - loss: 12921.7617 - mean_squared_error: 625505600.0000 - mean_absolute_error: 12921.7617 - val_loss: 7997.3408 - val_mean_squared_error: 124023248.0000 - val_mean_absolute_error: 7997.3408\n",
      "Epoch 6/100\n",
      "33/33 [==============================] - 1s 17ms/step - loss: 12659.5576 - mean_squared_error: 621328768.0000 - mean_absolute_error: 12659.5576 - val_loss: 13135.0430 - val_mean_squared_error: 235648768.0000 - val_mean_absolute_error: 13135.0430\n",
      "Epoch 7/100\n",
      "33/33 [==============================] - 0s 15ms/step - loss: 13175.8291 - mean_squared_error: 610634816.0000 - mean_absolute_error: 13175.8291 - val_loss: 15487.4385 - val_mean_squared_error: 384948896.0000 - val_mean_absolute_error: 15487.4385\n",
      "Epoch 8/100\n",
      "33/33 [==============================] - 1s 15ms/step - loss: 12233.2432 - mean_squared_error: 605377344.0000 - mean_absolute_error: 12233.2432 - val_loss: 7158.6616 - val_mean_squared_error: 108743432.0000 - val_mean_absolute_error: 7158.6616\n",
      "Epoch 9/100\n",
      "33/33 [==============================] - 1s 17ms/step - loss: 12411.5293 - mean_squared_error: 587693184.0000 - mean_absolute_error: 12411.5293 - val_loss: 11063.1924 - val_mean_squared_error: 208743200.0000 - val_mean_absolute_error: 11063.1924\n",
      "Epoch 10/100\n",
      "33/33 [==============================] - 1s 15ms/step - loss: 12291.9678 - mean_squared_error: 588539712.0000 - mean_absolute_error: 12291.9678 - val_loss: 7450.5747 - val_mean_squared_error: 114039008.0000 - val_mean_absolute_error: 7450.5747\n",
      "Epoch 11/100\n",
      "33/33 [==============================] - 0s 15ms/step - loss: 12166.5391 - mean_squared_error: 574274432.0000 - mean_absolute_error: 12166.5391 - val_loss: 6097.3203 - val_mean_squared_error: 82168144.0000 - val_mean_absolute_error: 6097.3203\n",
      "Epoch 12/100\n",
      "33/33 [==============================] - 1s 15ms/step - loss: 11857.4346 - mean_squared_error: 575759872.0000 - mean_absolute_error: 11857.4346 - val_loss: 9532.6201 - val_mean_squared_error: 148720480.0000 - val_mean_absolute_error: 9532.6201\n",
      "Epoch 13/100\n",
      "33/33 [==============================] - 0s 15ms/step - loss: 11663.1650 - mean_squared_error: 575280192.0000 - mean_absolute_error: 11663.1650 - val_loss: 11463.7744 - val_mean_squared_error: 211483408.0000 - val_mean_absolute_error: 11463.7744\n",
      "Epoch 14/100\n",
      "33/33 [==============================] - 0s 14ms/step - loss: 11856.4893 - mean_squared_error: 581536320.0000 - mean_absolute_error: 11856.4893 - val_loss: 6166.8530 - val_mean_squared_error: 79339160.0000 - val_mean_absolute_error: 6166.8530\n",
      "Epoch 15/100\n",
      "33/33 [==============================] - 0s 14ms/step - loss: 11251.7295 - mean_squared_error: 538454912.0000 - mean_absolute_error: 11251.7295 - val_loss: 8673.0469 - val_mean_squared_error: 126060864.0000 - val_mean_absolute_error: 8673.0459\n",
      "11/11 [==============================] - 1s 52ms/step - loss: 9611.5762 - mean_squared_error: 517781792.0000 - mean_absolute_error: 9611.5762\n",
      "2/2 [==============================] - 0s 305ms/step - loss: 6917.4072 - mean_squared_error: 185768000.0000 - mean_absolute_error: 6917.4072\n",
      "_______________________________________STORE_14______________________________________\n",
      "Epoch 1/100\n",
      "WARNING:tensorflow:Model was constructed with shape (None, None, 103) for input KerasTensor(type_spec=TensorSpec(shape=(None, None, 103), dtype=tf.float32, name='dense_1184_input'), name='dense_1184_input', description=\"created by layer 'dense_1184_input'\"), but it was called on an input with incompatible shape (None, 103).\n",
      "WARNING:tensorflow:Model was constructed with shape (None, None, 103) for input KerasTensor(type_spec=TensorSpec(shape=(None, None, 103), dtype=tf.float32, name='dense_1184_input'), name='dense_1184_input', description=\"created by layer 'dense_1184_input'\"), but it was called on an input with incompatible shape (None, 103).\n"
     ]
    },
    {
     "name": "stderr",
     "output_type": "stream",
     "text": [
      "2022-12-17 15:17:26.229709: I tensorflow/core/grappler/optimizers/custom_graph_optimizer_registry.cc:114] Plugin optimizer for device_type GPU is enabled.\n"
     ]
    },
    {
     "name": "stdout",
     "output_type": "stream",
     "text": [
      "33/33 [==============================] - ETA: 0s - loss: 25007.1016 - mean_squared_error: 1199985280.0000 - mean_absolute_error: 25007.1016WARNING:tensorflow:Model was constructed with shape (None, None, 103) for input KerasTensor(type_spec=TensorSpec(shape=(None, None, 103), dtype=tf.float32, name='dense_1184_input'), name='dense_1184_input', description=\"created by layer 'dense_1184_input'\"), but it was called on an input with incompatible shape (None, 103).\n"
     ]
    },
    {
     "name": "stderr",
     "output_type": "stream",
     "text": [
      "2022-12-17 15:17:35.108209: I tensorflow/core/grappler/optimizers/custom_graph_optimizer_registry.cc:114] Plugin optimizer for device_type GPU is enabled.\n"
     ]
    },
    {
     "name": "stdout",
     "output_type": "stream",
     "text": [
      "33/33 [==============================] - 11s 145ms/step - loss: 25007.1016 - mean_squared_error: 1199985280.0000 - mean_absolute_error: 25007.1016 - val_loss: 24774.4883 - val_mean_squared_error: 767321024.0000 - val_mean_absolute_error: 24774.4883\n",
      "Epoch 2/100\n",
      "33/33 [==============================] - 1s 24ms/step - loss: 17676.4902 - mean_squared_error: 726637120.0000 - mean_absolute_error: 17676.4902 - val_loss: 10535.0391 - val_mean_squared_error: 150115776.0000 - val_mean_absolute_error: 10535.0391\n",
      "Epoch 3/100\n",
      "33/33 [==============================] - 1s 19ms/step - loss: 12792.6338 - mean_squared_error: 574259776.0000 - mean_absolute_error: 12792.6338 - val_loss: 7463.0942 - val_mean_squared_error: 84830192.0000 - val_mean_absolute_error: 7463.0942\n",
      "Epoch 4/100\n",
      "33/33 [==============================] - 1s 19ms/step - loss: 11562.0977 - mean_squared_error: 554073088.0000 - mean_absolute_error: 11562.0977 - val_loss: 7486.4619 - val_mean_squared_error: 83629104.0000 - val_mean_absolute_error: 7486.4619\n",
      "Epoch 5/100\n",
      "33/33 [==============================] - 1s 15ms/step - loss: 10751.2754 - mean_squared_error: 535413280.0000 - mean_absolute_error: 10751.2754 - val_loss: 12303.8896 - val_mean_squared_error: 222660608.0000 - val_mean_absolute_error: 12303.8896\n",
      "Epoch 6/100\n",
      "33/33 [==============================] - 0s 14ms/step - loss: 11573.0752 - mean_squared_error: 567529984.0000 - mean_absolute_error: 11573.0752 - val_loss: 13489.2520 - val_mean_squared_error: 250514768.0000 - val_mean_absolute_error: 13489.2520\n",
      "Epoch 7/100\n",
      "33/33 [==============================] - 0s 15ms/step - loss: 10994.3184 - mean_squared_error: 526343840.0000 - mean_absolute_error: 10994.3184 - val_loss: 9464.8115 - val_mean_squared_error: 133940992.0000 - val_mean_absolute_error: 9464.8115\n",
      "11/11 [==============================] - 1s 71ms/step - loss: 9873.8682 - mean_squared_error: 491317856.0000 - mean_absolute_error: 9873.8682\n",
      "2/2 [==============================] - 0s 320ms/step - loss: 7998.2075 - mean_squared_error: 133458320.0000 - mean_absolute_error: 7998.2080\n",
      "_______________________________________STORE_15______________________________________\n",
      "Epoch 1/100\n",
      "WARNING:tensorflow:Model was constructed with shape (None, None, 103) for input KerasTensor(type_spec=TensorSpec(shape=(None, None, 103), dtype=tf.float32, name='dense_1192_input'), name='dense_1192_input', description=\"created by layer 'dense_1192_input'\"), but it was called on an input with incompatible shape (None, 103).\n",
      "WARNING:tensorflow:Model was constructed with shape (None, None, 103) for input KerasTensor(type_spec=TensorSpec(shape=(None, None, 103), dtype=tf.float32, name='dense_1192_input'), name='dense_1192_input', description=\"created by layer 'dense_1192_input'\"), but it was called on an input with incompatible shape (None, 103).\n"
     ]
    },
    {
     "name": "stderr",
     "output_type": "stream",
     "text": [
      "2022-12-17 15:17:42.172915: I tensorflow/core/grappler/optimizers/custom_graph_optimizer_registry.cc:114] Plugin optimizer for device_type GPU is enabled.\n"
     ]
    },
    {
     "name": "stdout",
     "output_type": "stream",
     "text": [
      "33/33 [==============================] - ETA: 0s - loss: 8562.0625 - mean_squared_error: 157080112.0000 - mean_absolute_error: 8562.0625WARNING:tensorflow:Model was constructed with shape (None, None, 103) for input KerasTensor(type_spec=TensorSpec(shape=(None, None, 103), dtype=tf.float32, name='dense_1192_input'), name='dense_1192_input', description=\"created by layer 'dense_1192_input'\"), but it was called on an input with incompatible shape (None, 103).\n"
     ]
    },
    {
     "name": "stderr",
     "output_type": "stream",
     "text": [
      "2022-12-17 15:17:50.114158: I tensorflow/core/grappler/optimizers/custom_graph_optimizer_registry.cc:114] Plugin optimizer for device_type GPU is enabled.\n"
     ]
    },
    {
     "name": "stdout",
     "output_type": "stream",
     "text": [
      "33/33 [==============================] - 9s 123ms/step - loss: 8562.0625 - mean_squared_error: 157080112.0000 - mean_absolute_error: 8562.0625 - val_loss: 5364.1299 - val_mean_squared_error: 40117452.0000 - val_mean_absolute_error: 5364.1299\n",
      "Epoch 2/100\n",
      "33/33 [==============================] - 1s 21ms/step - loss: 5891.2725 - mean_squared_error: 97862816.0000 - mean_absolute_error: 5891.2725 - val_loss: 3513.6555 - val_mean_squared_error: 17843116.0000 - val_mean_absolute_error: 3513.6555\n",
      "Epoch 3/100\n",
      "33/33 [==============================] - 1s 17ms/step - loss: 4974.4082 - mean_squared_error: 86977320.0000 - mean_absolute_error: 4974.4082 - val_loss: 3080.9863 - val_mean_squared_error: 14729348.0000 - val_mean_absolute_error: 3080.9863\n",
      "Epoch 4/100\n",
      "33/33 [==============================] - 1s 20ms/step - loss: 4866.2979 - mean_squared_error: 86999336.0000 - mean_absolute_error: 4866.2979 - val_loss: 4300.8579 - val_mean_squared_error: 24275114.0000 - val_mean_absolute_error: 4300.8579\n",
      "Epoch 5/100\n",
      "33/33 [==============================] - 1s 16ms/step - loss: 4639.8062 - mean_squared_error: 85165408.0000 - mean_absolute_error: 4639.8062 - val_loss: 4167.6108 - val_mean_squared_error: 31008570.0000 - val_mean_absolute_error: 4167.6108\n",
      "Epoch 6/100\n",
      "33/33 [==============================] - 1s 18ms/step - loss: 4625.9438 - mean_squared_error: 84824512.0000 - mean_absolute_error: 4625.9438 - val_loss: 3927.8442 - val_mean_squared_error: 20508630.0000 - val_mean_absolute_error: 3927.8442\n",
      "Epoch 7/100\n",
      "33/33 [==============================] - 1s 16ms/step - loss: 4799.0825 - mean_squared_error: 88386656.0000 - mean_absolute_error: 4799.0825 - val_loss: 3238.0220 - val_mean_squared_error: 15668447.0000 - val_mean_absolute_error: 3238.0220\n",
      "11/11 [==============================] - 1s 45ms/step - loss: 4026.7129 - mean_squared_error: 76827296.0000 - mean_absolute_error: 4026.7129\n",
      "2/2 [==============================] - 0s 128ms/step - loss: 3705.1809 - mean_squared_error: 29581842.0000 - mean_absolute_error: 3705.1809\n",
      "_______________________________________STORE_16______________________________________\n",
      "Epoch 1/100\n",
      "WARNING:tensorflow:Model was constructed with shape (None, None, 103) for input KerasTensor(type_spec=TensorSpec(shape=(None, None, 103), dtype=tf.float32, name='dense_1200_input'), name='dense_1200_input', description=\"created by layer 'dense_1200_input'\"), but it was called on an input with incompatible shape (None, 103).\n",
      "WARNING:tensorflow:Model was constructed with shape (None, None, 103) for input KerasTensor(type_spec=TensorSpec(shape=(None, None, 103), dtype=tf.float32, name='dense_1200_input'), name='dense_1200_input', description=\"created by layer 'dense_1200_input'\"), but it was called on an input with incompatible shape (None, 103).\n"
     ]
    },
    {
     "name": "stderr",
     "output_type": "stream",
     "text": [
      "2022-12-17 15:17:56.220936: I tensorflow/core/grappler/optimizers/custom_graph_optimizer_registry.cc:114] Plugin optimizer for device_type GPU is enabled.\n"
     ]
    },
    {
     "name": "stdout",
     "output_type": "stream",
     "text": [
      "33/33 [==============================] - ETA: 0s - loss: 7472.4600 - mean_squared_error: 135570080.0000 - mean_absolute_error: 7472.4600WARNING:tensorflow:Model was constructed with shape (None, None, 103) for input KerasTensor(type_spec=TensorSpec(shape=(None, None, 103), dtype=tf.float32, name='dense_1200_input'), name='dense_1200_input', description=\"created by layer 'dense_1200_input'\"), but it was called on an input with incompatible shape (None, 103).\n"
     ]
    },
    {
     "name": "stderr",
     "output_type": "stream",
     "text": [
      "2022-12-17 15:18:01.620163: I tensorflow/core/grappler/optimizers/custom_graph_optimizer_registry.cc:114] Plugin optimizer for device_type GPU is enabled.\n"
     ]
    },
    {
     "name": "stdout",
     "output_type": "stream",
     "text": [
      "33/33 [==============================] - 7s 133ms/step - loss: 7472.4600 - mean_squared_error: 135570080.0000 - mean_absolute_error: 7472.4600 - val_loss: 5955.1289 - val_mean_squared_error: 90184072.0000 - val_mean_absolute_error: 5955.1289\n",
      "Epoch 2/100\n",
      "33/33 [==============================] - 1s 18ms/step - loss: 5256.2500 - mean_squared_error: 94396424.0000 - mean_absolute_error: 5256.2500 - val_loss: 5876.2793 - val_mean_squared_error: 47978512.0000 - val_mean_absolute_error: 5876.2793\n",
      "Epoch 3/100\n",
      "33/33 [==============================] - 1s 20ms/step - loss: 4667.7612 - mean_squared_error: 82500920.0000 - mean_absolute_error: 4667.7612 - val_loss: 4238.7559 - val_mean_squared_error: 58224992.0000 - val_mean_absolute_error: 4238.7554\n",
      "Epoch 4/100\n",
      "33/33 [==============================] - 0s 14ms/step - loss: 4526.1021 - mean_squared_error: 79341480.0000 - mean_absolute_error: 4526.1021 - val_loss: 5486.4897 - val_mean_squared_error: 41605552.0000 - val_mean_absolute_error: 5486.4897\n",
      "Epoch 5/100\n",
      "33/33 [==============================] - 0s 15ms/step - loss: 4406.6157 - mean_squared_error: 80318176.0000 - mean_absolute_error: 4406.6157 - val_loss: 3725.5537 - val_mean_squared_error: 31794792.0000 - val_mean_absolute_error: 3725.5537\n",
      "Epoch 6/100\n",
      "33/33 [==============================] - 1s 16ms/step - loss: 4436.3730 - mean_squared_error: 80729056.0000 - mean_absolute_error: 4436.3730 - val_loss: 3961.8103 - val_mean_squared_error: 31343942.0000 - val_mean_absolute_error: 3961.8103\n",
      "Epoch 7/100\n",
      "33/33 [==============================] - 1s 17ms/step - loss: 4169.4517 - mean_squared_error: 74154024.0000 - mean_absolute_error: 4169.4517 - val_loss: 5328.4927 - val_mean_squared_error: 37271328.0000 - val_mean_absolute_error: 5328.4927\n",
      "Epoch 8/100\n",
      "33/33 [==============================] - 1s 15ms/step - loss: 4041.5100 - mean_squared_error: 69892152.0000 - mean_absolute_error: 4041.5100 - val_loss: 2991.0405 - val_mean_squared_error: 24425240.0000 - val_mean_absolute_error: 2991.0405\n",
      "Epoch 9/100\n",
      "33/33 [==============================] - 0s 14ms/step - loss: 4056.7793 - mean_squared_error: 66640096.0000 - mean_absolute_error: 4056.7793 - val_loss: 3091.6562 - val_mean_squared_error: 29945696.0000 - val_mean_absolute_error: 3091.6562\n",
      "Epoch 10/100\n",
      "33/33 [==============================] - 1s 15ms/step - loss: 3981.1379 - mean_squared_error: 63933316.0000 - mean_absolute_error: 3981.1379 - val_loss: 2552.4612 - val_mean_squared_error: 16355740.0000 - val_mean_absolute_error: 2552.4612\n",
      "Epoch 11/100\n",
      "33/33 [==============================] - 1s 15ms/step - loss: 3747.3999 - mean_squared_error: 58236928.0000 - mean_absolute_error: 3747.3999 - val_loss: 3019.1843 - val_mean_squared_error: 15489012.0000 - val_mean_absolute_error: 3019.1843\n",
      "Epoch 12/100\n",
      "33/33 [==============================] - 0s 14ms/step - loss: 3671.4426 - mean_squared_error: 53669072.0000 - mean_absolute_error: 3671.4426 - val_loss: 2600.1257 - val_mean_squared_error: 15201754.0000 - val_mean_absolute_error: 2600.1257\n",
      "Epoch 13/100\n",
      "33/33 [==============================] - 0s 14ms/step - loss: 3586.3572 - mean_squared_error: 50397664.0000 - mean_absolute_error: 3586.3572 - val_loss: 4778.6631 - val_mean_squared_error: 34901652.0000 - val_mean_absolute_error: 4778.6631\n",
      "Epoch 14/100\n",
      "33/33 [==============================] - 0s 15ms/step - loss: 3555.9336 - mean_squared_error: 47382392.0000 - mean_absolute_error: 3555.9336 - val_loss: 3983.5137 - val_mean_squared_error: 34860468.0000 - val_mean_absolute_error: 3983.5137\n",
      "11/11 [==============================] - 1s 66ms/step - loss: 3438.3311 - mean_squared_error: 50462432.0000 - mean_absolute_error: 3438.3318\n",
      "2/2 [==============================] - 0s 351ms/step - loss: 4392.3218 - mean_squared_error: 163481712.0000 - mean_absolute_error: 4392.3218\n",
      "_______________________________________STORE_17______________________________________\n",
      "Epoch 1/100\n",
      "WARNING:tensorflow:Model was constructed with shape (None, None, 103) for input KerasTensor(type_spec=TensorSpec(shape=(None, None, 103), dtype=tf.float32, name='dense_1208_input'), name='dense_1208_input', description=\"created by layer 'dense_1208_input'\"), but it was called on an input with incompatible shape (None, 103).\n",
      "WARNING:tensorflow:Model was constructed with shape (None, None, 103) for input KerasTensor(type_spec=TensorSpec(shape=(None, None, 103), dtype=tf.float32, name='dense_1208_input'), name='dense_1208_input', description=\"created by layer 'dense_1208_input'\"), but it was called on an input with incompatible shape (None, 103).\n"
     ]
    },
    {
     "name": "stderr",
     "output_type": "stream",
     "text": [
      "2022-12-17 15:18:11.258320: I tensorflow/core/grappler/optimizers/custom_graph_optimizer_registry.cc:114] Plugin optimizer for device_type GPU is enabled.\n"
     ]
    },
    {
     "name": "stdout",
     "output_type": "stream",
     "text": [
      "33/33 [==============================] - ETA: 0s - loss: 11896.4238 - mean_squared_error: 273536160.0000 - mean_absolute_error: 11896.4238WARNING:tensorflow:Model was constructed with shape (None, None, 103) for input KerasTensor(type_spec=TensorSpec(shape=(None, None, 103), dtype=tf.float32, name='dense_1208_input'), name='dense_1208_input', description=\"created by layer 'dense_1208_input'\"), but it was called on an input with incompatible shape (None, 103).\n"
     ]
    },
    {
     "name": "stderr",
     "output_type": "stream",
     "text": [
      "2022-12-17 15:18:19.450302: I tensorflow/core/grappler/optimizers/custom_graph_optimizer_registry.cc:114] Plugin optimizer for device_type GPU is enabled.\n"
     ]
    },
    {
     "name": "stdout",
     "output_type": "stream",
     "text": [
      "33/33 [==============================] - 10s 125ms/step - loss: 11896.4238 - mean_squared_error: 273536160.0000 - mean_absolute_error: 11896.4238 - val_loss: 8207.8096 - val_mean_squared_error: 118254720.0000 - val_mean_absolute_error: 8207.8096\n",
      "Epoch 2/100\n",
      "33/33 [==============================] - 1s 20ms/step - loss: 8663.9980 - mean_squared_error: 158004912.0000 - mean_absolute_error: 8663.9980 - val_loss: 8642.7734 - val_mean_squared_error: 137947696.0000 - val_mean_absolute_error: 8642.7734\n",
      "Epoch 3/100\n",
      "33/33 [==============================] - 1s 18ms/step - loss: 7325.5527 - mean_squared_error: 124433744.0000 - mean_absolute_error: 7325.5527 - val_loss: 8872.9131 - val_mean_squared_error: 140884464.0000 - val_mean_absolute_error: 8872.9131\n",
      "Epoch 4/100\n",
      "33/33 [==============================] - 1s 15ms/step - loss: 6449.7437 - mean_squared_error: 108430440.0000 - mean_absolute_error: 6449.7437 - val_loss: 5308.7832 - val_mean_squared_error: 54551528.0000 - val_mean_absolute_error: 5308.7832\n",
      "Epoch 5/100\n",
      "33/33 [==============================] - 1s 18ms/step - loss: 5996.9370 - mean_squared_error: 105646928.0000 - mean_absolute_error: 5996.9370 - val_loss: 4912.3008 - val_mean_squared_error: 59671704.0000 - val_mean_absolute_error: 4912.3008\n",
      "Epoch 6/100\n",
      "33/33 [==============================] - 1s 16ms/step - loss: 5890.2676 - mean_squared_error: 101803416.0000 - mean_absolute_error: 5890.2676 - val_loss: 5646.5181 - val_mean_squared_error: 55069928.0000 - val_mean_absolute_error: 5646.5181\n",
      "Epoch 7/100\n",
      "33/33 [==============================] - 0s 14ms/step - loss: 6175.8232 - mean_squared_error: 105983024.0000 - mean_absolute_error: 6175.8232 - val_loss: 4467.1177 - val_mean_squared_error: 48272224.0000 - val_mean_absolute_error: 4467.1177\n",
      "Epoch 8/100\n",
      "33/33 [==============================] - 0s 15ms/step - loss: 5953.2734 - mean_squared_error: 102845288.0000 - mean_absolute_error: 5953.2734 - val_loss: 6044.7075 - val_mean_squared_error: 60441280.0000 - val_mean_absolute_error: 6044.7075\n",
      "Epoch 9/100\n",
      "33/33 [==============================] - 0s 15ms/step - loss: 5893.5703 - mean_squared_error: 100240200.0000 - mean_absolute_error: 5893.5703 - val_loss: 4955.7627 - val_mean_squared_error: 51009564.0000 - val_mean_absolute_error: 4955.7627\n",
      "Epoch 10/100\n",
      "33/33 [==============================] - 0s 14ms/step - loss: 6020.2461 - mean_squared_error: 104671792.0000 - mean_absolute_error: 6020.2461 - val_loss: 4688.1577 - val_mean_squared_error: 48682232.0000 - val_mean_absolute_error: 4688.1577\n",
      "Epoch 11/100\n",
      "33/33 [==============================] - 0s 14ms/step - loss: 5935.9277 - mean_squared_error: 100865544.0000 - mean_absolute_error: 5935.9277 - val_loss: 4482.3828 - val_mean_squared_error: 50454792.0000 - val_mean_absolute_error: 4482.3828\n",
      "11/11 [==============================] - 1s 48ms/step - loss: 5419.5317 - mean_squared_error: 86668296.0000 - mean_absolute_error: 5419.5317\n",
      "2/2 [==============================] - 0s 389ms/step - loss: 5576.5815 - mean_squared_error: 75039776.0000 - mean_absolute_error: 5576.5815\n",
      "_______________________________________STORE_18______________________________________\n",
      "Epoch 1/100\n",
      "WARNING:tensorflow:Model was constructed with shape (None, None, 103) for input KerasTensor(type_spec=TensorSpec(shape=(None, None, 103), dtype=tf.float32, name='dense_1216_input'), name='dense_1216_input', description=\"created by layer 'dense_1216_input'\"), but it was called on an input with incompatible shape (None, 103).\n",
      "WARNING:tensorflow:Model was constructed with shape (None, None, 103) for input KerasTensor(type_spec=TensorSpec(shape=(None, None, 103), dtype=tf.float32, name='dense_1216_input'), name='dense_1216_input', description=\"created by layer 'dense_1216_input'\"), but it was called on an input with incompatible shape (None, 103).\n"
     ]
    },
    {
     "name": "stderr",
     "output_type": "stream",
     "text": [
      "2022-12-17 15:18:27.685681: I tensorflow/core/grappler/optimizers/custom_graph_optimizer_registry.cc:114] Plugin optimizer for device_type GPU is enabled.\n"
     ]
    },
    {
     "name": "stdout",
     "output_type": "stream",
     "text": [
      "33/33 [==============================] - ETA: 0s - loss: 16169.0527 - mean_squared_error: 570508864.0000 - mean_absolute_error: 16169.0527WARNING:tensorflow:Model was constructed with shape (None, None, 103) for input KerasTensor(type_spec=TensorSpec(shape=(None, None, 103), dtype=tf.float32, name='dense_1216_input'), name='dense_1216_input', description=\"created by layer 'dense_1216_input'\"), but it was called on an input with incompatible shape (None, 103).\n"
     ]
    },
    {
     "name": "stderr",
     "output_type": "stream",
     "text": [
      "2022-12-17 15:18:32.921997: I tensorflow/core/grappler/optimizers/custom_graph_optimizer_registry.cc:114] Plugin optimizer for device_type GPU is enabled.\n"
     ]
    },
    {
     "name": "stdout",
     "output_type": "stream",
     "text": [
      "33/33 [==============================] - 7s 118ms/step - loss: 16169.0527 - mean_squared_error: 570508864.0000 - mean_absolute_error: 16169.0527 - val_loss: 10026.0381 - val_mean_squared_error: 201778480.0000 - val_mean_absolute_error: 10026.0381\n",
      "Epoch 2/100\n",
      "33/33 [==============================] - 1s 20ms/step - loss: 11969.9736 - mean_squared_error: 370115072.0000 - mean_absolute_error: 11969.9736 - val_loss: 7396.3828 - val_mean_squared_error: 119667656.0000 - val_mean_absolute_error: 7396.3828\n",
      "Epoch 3/100\n",
      "33/33 [==============================] - 1s 18ms/step - loss: 9650.3535 - mean_squared_error: 278194176.0000 - mean_absolute_error: 9650.3535 - val_loss: 4823.4058 - val_mean_squared_error: 32673580.0000 - val_mean_absolute_error: 4823.4058\n",
      "Epoch 4/100\n",
      "33/33 [==============================] - 0s 15ms/step - loss: 8458.8125 - mean_squared_error: 248181984.0000 - mean_absolute_error: 8458.8125 - val_loss: 3825.6604 - val_mean_squared_error: 21671998.0000 - val_mean_absolute_error: 3825.6604\n",
      "Epoch 5/100\n",
      "33/33 [==============================] - 0s 14ms/step - loss: 7938.9731 - mean_squared_error: 238264720.0000 - mean_absolute_error: 7938.9731 - val_loss: 4938.9585 - val_mean_squared_error: 45073348.0000 - val_mean_absolute_error: 4938.9585\n",
      "Epoch 6/100\n",
      "33/33 [==============================] - 1s 16ms/step - loss: 7895.4932 - mean_squared_error: 236278960.0000 - mean_absolute_error: 7895.4932 - val_loss: 5783.7788 - val_mean_squared_error: 46020336.0000 - val_mean_absolute_error: 5783.7788\n",
      "Epoch 7/100\n",
      "33/33 [==============================] - 1s 18ms/step - loss: 7747.9482 - mean_squared_error: 231730000.0000 - mean_absolute_error: 7747.9482 - val_loss: 6774.3359 - val_mean_squared_error: 81855184.0000 - val_mean_absolute_error: 6774.3359\n",
      "Epoch 8/100\n",
      "33/33 [==============================] - 1s 16ms/step - loss: 7809.7114 - mean_squared_error: 230219744.0000 - mean_absolute_error: 7809.7114 - val_loss: 5499.2563 - val_mean_squared_error: 40746388.0000 - val_mean_absolute_error: 5499.2563\n",
      "11/11 [==============================] - 0s 33ms/step - loss: 6281.8594 - mean_squared_error: 203144464.0000 - mean_absolute_error: 6281.8594\n",
      "2/2 [==============================] - 0s 348ms/step - loss: 4702.1050 - mean_squared_error: 93752960.0000 - mean_absolute_error: 4702.1050\n",
      "_______________________________________STORE_19______________________________________\n",
      "Epoch 1/100\n",
      "WARNING:tensorflow:Model was constructed with shape (None, None, 103) for input KerasTensor(type_spec=TensorSpec(shape=(None, None, 103), dtype=tf.float32, name='dense_1224_input'), name='dense_1224_input', description=\"created by layer 'dense_1224_input'\"), but it was called on an input with incompatible shape (None, 103).\n",
      "WARNING:tensorflow:Model was constructed with shape (None, None, 103) for input KerasTensor(type_spec=TensorSpec(shape=(None, None, 103), dtype=tf.float32, name='dense_1224_input'), name='dense_1224_input', description=\"created by layer 'dense_1224_input'\"), but it was called on an input with incompatible shape (None, 103).\n"
     ]
    },
    {
     "name": "stderr",
     "output_type": "stream",
     "text": [
      "2022-12-17 15:18:39.306969: I tensorflow/core/grappler/optimizers/custom_graph_optimizer_registry.cc:114] Plugin optimizer for device_type GPU is enabled.\n"
     ]
    },
    {
     "name": "stdout",
     "output_type": "stream",
     "text": [
      "33/33 [==============================] - ETA: 0s - loss: 17118.8047 - mean_squared_error: 530246624.0000 - mean_absolute_error: 17118.8047WARNING:tensorflow:Model was constructed with shape (None, None, 103) for input KerasTensor(type_spec=TensorSpec(shape=(None, None, 103), dtype=tf.float32, name='dense_1224_input'), name='dense_1224_input', description=\"created by layer 'dense_1224_input'\"), but it was called on an input with incompatible shape (None, 103).\n"
     ]
    },
    {
     "name": "stderr",
     "output_type": "stream",
     "text": [
      "2022-12-17 15:18:44.561657: I tensorflow/core/grappler/optimizers/custom_graph_optimizer_registry.cc:114] Plugin optimizer for device_type GPU is enabled.\n"
     ]
    },
    {
     "name": "stdout",
     "output_type": "stream",
     "text": [
      "33/33 [==============================] - 7s 114ms/step - loss: 17118.8047 - mean_squared_error: 530246624.0000 - mean_absolute_error: 17118.8047 - val_loss: 11880.4160 - val_mean_squared_error: 178293792.0000 - val_mean_absolute_error: 11880.4160\n",
      "Epoch 2/100\n",
      "33/33 [==============================] - 1s 21ms/step - loss: 11779.8564 - mean_squared_error: 277949536.0000 - mean_absolute_error: 11779.8564 - val_loss: 13319.1055 - val_mean_squared_error: 240769152.0000 - val_mean_absolute_error: 13319.1055\n",
      "Epoch 3/100\n",
      "33/33 [==============================] - 1s 18ms/step - loss: 9433.6758 - mean_squared_error: 220532592.0000 - mean_absolute_error: 9433.6758 - val_loss: 5246.4570 - val_mean_squared_error: 45736096.0000 - val_mean_absolute_error: 5246.4570\n",
      "Epoch 4/100\n",
      "33/33 [==============================] - 1s 18ms/step - loss: 7676.4399 - mean_squared_error: 198308288.0000 - mean_absolute_error: 7676.4399 - val_loss: 4617.5820 - val_mean_squared_error: 35209828.0000 - val_mean_absolute_error: 4617.5820\n",
      "Epoch 5/100\n",
      "33/33 [==============================] - 0s 15ms/step - loss: 7883.9287 - mean_squared_error: 204005600.0000 - mean_absolute_error: 7883.9287 - val_loss: 5539.4570 - val_mean_squared_error: 49108128.0000 - val_mean_absolute_error: 5539.4570\n",
      "Epoch 6/100\n",
      "33/33 [==============================] - 1s 16ms/step - loss: 7357.8584 - mean_squared_error: 195219728.0000 - mean_absolute_error: 7357.8584 - val_loss: 7511.4204 - val_mean_squared_error: 72131536.0000 - val_mean_absolute_error: 7511.4204\n",
      "Epoch 7/100\n",
      "33/33 [==============================] - 0s 15ms/step - loss: 7562.5825 - mean_squared_error: 197593952.0000 - mean_absolute_error: 7562.5825 - val_loss: 4042.5898 - val_mean_squared_error: 34118572.0000 - val_mean_absolute_error: 4042.5898\n",
      "Epoch 8/100\n",
      "33/33 [==============================] - 0s 14ms/step - loss: 7539.0342 - mean_squared_error: 196835568.0000 - mean_absolute_error: 7539.0342 - val_loss: 4462.7949 - val_mean_squared_error: 43993488.0000 - val_mean_absolute_error: 4462.7949\n",
      "Epoch 9/100\n",
      "33/33 [==============================] - 1s 15ms/step - loss: 7416.4072 - mean_squared_error: 195136768.0000 - mean_absolute_error: 7416.4072 - val_loss: 8753.9502 - val_mean_squared_error: 97053256.0000 - val_mean_absolute_error: 8753.9502\n",
      "Epoch 10/100\n",
      "33/33 [==============================] - 1s 16ms/step - loss: 7594.1963 - mean_squared_error: 198599232.0000 - mean_absolute_error: 7594.1963 - val_loss: 4877.4346 - val_mean_squared_error: 38753496.0000 - val_mean_absolute_error: 4877.4346\n",
      "Epoch 11/100\n",
      "33/33 [==============================] - 0s 14ms/step - loss: 7227.0972 - mean_squared_error: 193736976.0000 - mean_absolute_error: 7227.0972 - val_loss: 9736.8623 - val_mean_squared_error: 116555448.0000 - val_mean_absolute_error: 9736.8623\n",
      "11/11 [==============================] - 1s 46ms/step - loss: 7277.8657 - mean_squared_error: 179318032.0000 - mean_absolute_error: 7277.8657\n",
      "2/2 [==============================] - 0s 477ms/step - loss: 5874.1260 - mean_squared_error: 143516320.0000 - mean_absolute_error: 5874.1265\n",
      "_______________________________________STORE_20______________________________________\n",
      "Epoch 1/100\n",
      "WARNING:tensorflow:Model was constructed with shape (None, None, 103) for input KerasTensor(type_spec=TensorSpec(shape=(None, None, 103), dtype=tf.float32, name='dense_1232_input'), name='dense_1232_input', description=\"created by layer 'dense_1232_input'\"), but it was called on an input with incompatible shape (None, 103).\n",
      "WARNING:tensorflow:Model was constructed with shape (None, None, 103) for input KerasTensor(type_spec=TensorSpec(shape=(None, None, 103), dtype=tf.float32, name='dense_1232_input'), name='dense_1232_input', description=\"created by layer 'dense_1232_input'\"), but it was called on an input with incompatible shape (None, 103).\n"
     ]
    },
    {
     "name": "stderr",
     "output_type": "stream",
     "text": [
      "2022-12-17 15:18:52.580308: I tensorflow/core/grappler/optimizers/custom_graph_optimizer_registry.cc:114] Plugin optimizer for device_type GPU is enabled.\n"
     ]
    },
    {
     "name": "stdout",
     "output_type": "stream",
     "text": [
      "33/33 [==============================] - ETA: 0s - loss: 25689.0371 - mean_squared_error: 1204774016.0000 - mean_absolute_error: 25689.0371WARNING:tensorflow:Model was constructed with shape (None, None, 103) for input KerasTensor(type_spec=TensorSpec(shape=(None, None, 103), dtype=tf.float32, name='dense_1232_input'), name='dense_1232_input', description=\"created by layer 'dense_1232_input'\"), but it was called on an input with incompatible shape (None, 103).\n"
     ]
    },
    {
     "name": "stderr",
     "output_type": "stream",
     "text": [
      "2022-12-17 15:19:00.000506: I tensorflow/core/grappler/optimizers/custom_graph_optimizer_registry.cc:114] Plugin optimizer for device_type GPU is enabled.\n"
     ]
    },
    {
     "name": "stdout",
     "output_type": "stream",
     "text": [
      "33/33 [==============================] - 9s 105ms/step - loss: 25689.0371 - mean_squared_error: 1204774016.0000 - mean_absolute_error: 25689.0371 - val_loss: 18446.1270 - val_mean_squared_error: 438225952.0000 - val_mean_absolute_error: 18446.1270\n",
      "Epoch 2/100\n",
      "33/33 [==============================] - 1s 21ms/step - loss: 17678.6055 - mean_squared_error: 616052352.0000 - mean_absolute_error: 17678.6055 - val_loss: 12088.6875 - val_mean_squared_error: 180161600.0000 - val_mean_absolute_error: 12088.6875\n",
      "Epoch 3/100\n",
      "33/33 [==============================] - 1s 20ms/step - loss: 13224.0801 - mean_squared_error: 465651648.0000 - mean_absolute_error: 13224.0801 - val_loss: 9636.9277 - val_mean_squared_error: 121502136.0000 - val_mean_absolute_error: 9636.9277\n",
      "Epoch 4/100\n",
      "33/33 [==============================] - 0s 15ms/step - loss: 11256.2949 - mean_squared_error: 418836352.0000 - mean_absolute_error: 11256.2949 - val_loss: 6773.3091 - val_mean_squared_error: 74469352.0000 - val_mean_absolute_error: 6773.3091\n",
      "Epoch 5/100\n",
      "33/33 [==============================] - 1s 16ms/step - loss: 10830.6758 - mean_squared_error: 421528672.0000 - mean_absolute_error: 10830.6758 - val_loss: 6278.3228 - val_mean_squared_error: 71195896.0000 - val_mean_absolute_error: 6278.3228\n",
      "Epoch 6/100\n",
      "33/33 [==============================] - 0s 14ms/step - loss: 11266.1816 - mean_squared_error: 435226784.0000 - mean_absolute_error: 11266.1816 - val_loss: 8259.8252 - val_mean_squared_error: 101087712.0000 - val_mean_absolute_error: 8259.8252\n",
      "Epoch 7/100\n",
      "33/33 [==============================] - 0s 14ms/step - loss: 11709.4707 - mean_squared_error: 440561152.0000 - mean_absolute_error: 11709.4707 - val_loss: 6178.2026 - val_mean_squared_error: 66797168.0000 - val_mean_absolute_error: 6178.2026\n",
      "Epoch 8/100\n",
      "33/33 [==============================] - 1s 15ms/step - loss: 10763.2744 - mean_squared_error: 402708704.0000 - mean_absolute_error: 10763.2744 - val_loss: 9609.4053 - val_mean_squared_error: 127659408.0000 - val_mean_absolute_error: 9609.4053\n",
      "Epoch 9/100\n",
      "33/33 [==============================] - 1s 16ms/step - loss: 10985.7314 - mean_squared_error: 425285600.0000 - mean_absolute_error: 10985.7314 - val_loss: 11270.4102 - val_mean_squared_error: 212427008.0000 - val_mean_absolute_error: 11270.4102\n",
      "Epoch 10/100\n",
      "33/33 [==============================] - 1s 16ms/step - loss: 10660.2822 - mean_squared_error: 405326144.0000 - mean_absolute_error: 10660.2822 - val_loss: 6838.9639 - val_mean_squared_error: 79260776.0000 - val_mean_absolute_error: 6838.9639\n",
      "Epoch 11/100\n",
      "33/33 [==============================] - 0s 14ms/step - loss: 10534.3564 - mean_squared_error: 402362176.0000 - mean_absolute_error: 10534.3564 - val_loss: 8547.8125 - val_mean_squared_error: 103162984.0000 - val_mean_absolute_error: 8547.8125\n",
      "11/11 [==============================] - 1s 62ms/step - loss: 9219.4434 - mean_squared_error: 349879968.0000 - mean_absolute_error: 9219.4434\n",
      "2/2 [==============================] - 0s 141ms/step - loss: 6288.0630 - mean_squared_error: 75859528.0000 - mean_absolute_error: 6288.0630\n",
      "_______________________________________STORE_21______________________________________\n",
      "Epoch 1/100\n",
      "WARNING:tensorflow:Model was constructed with shape (None, None, 103) for input KerasTensor(type_spec=TensorSpec(shape=(None, None, 103), dtype=tf.float32, name='dense_1240_input'), name='dense_1240_input', description=\"created by layer 'dense_1240_input'\"), but it was called on an input with incompatible shape (None, 103).\n",
      "WARNING:tensorflow:Model was constructed with shape (None, None, 103) for input KerasTensor(type_spec=TensorSpec(shape=(None, None, 103), dtype=tf.float32, name='dense_1240_input'), name='dense_1240_input', description=\"created by layer 'dense_1240_input'\"), but it was called on an input with incompatible shape (None, 103).\n"
     ]
    },
    {
     "name": "stderr",
     "output_type": "stream",
     "text": [
      "2022-12-17 15:19:07.577442: I tensorflow/core/grappler/optimizers/custom_graph_optimizer_registry.cc:114] Plugin optimizer for device_type GPU is enabled.\n"
     ]
    },
    {
     "name": "stdout",
     "output_type": "stream",
     "text": [
      "33/33 [==============================] - ETA: 0s - loss: 10996.7812 - mean_squared_error: 320979008.0000 - mean_absolute_error: 10996.7812WARNING:tensorflow:Model was constructed with shape (None, None, 103) for input KerasTensor(type_spec=TensorSpec(shape=(None, None, 103), dtype=tf.float32, name='dense_1240_input'), name='dense_1240_input', description=\"created by layer 'dense_1240_input'\"), but it was called on an input with incompatible shape (None, 103).\n"
     ]
    },
    {
     "name": "stderr",
     "output_type": "stream",
     "text": [
      "2022-12-17 15:19:13.726753: I tensorflow/core/grappler/optimizers/custom_graph_optimizer_registry.cc:114] Plugin optimizer for device_type GPU is enabled.\n"
     ]
    },
    {
     "name": "stdout",
     "output_type": "stream",
     "text": [
      "33/33 [==============================] - 8s 142ms/step - loss: 10996.7812 - mean_squared_error: 320979008.0000 - mean_absolute_error: 10996.7812 - val_loss: 8111.3179 - val_mean_squared_error: 158432048.0000 - val_mean_absolute_error: 8111.3179\n",
      "Epoch 2/100\n",
      "33/33 [==============================] - 1s 20ms/step - loss: 8130.2358 - mean_squared_error: 230301232.0000 - mean_absolute_error: 8130.2358 - val_loss: 6955.2510 - val_mean_squared_error: 62872280.0000 - val_mean_absolute_error: 6955.2510\n",
      "Epoch 3/100\n",
      "33/33 [==============================] - 1s 20ms/step - loss: 6330.6387 - mean_squared_error: 164468096.0000 - mean_absolute_error: 6330.6387 - val_loss: 4033.3262 - val_mean_squared_error: 19633118.0000 - val_mean_absolute_error: 4033.3262\n",
      "Epoch 4/100\n",
      "33/33 [==============================] - 1s 16ms/step - loss: 5472.9341 - mean_squared_error: 150780832.0000 - mean_absolute_error: 5472.9341 - val_loss: 3508.5417 - val_mean_squared_error: 25386282.0000 - val_mean_absolute_error: 3508.5417\n",
      "Epoch 5/100\n",
      "33/33 [==============================] - 1s 17ms/step - loss: 5293.4819 - mean_squared_error: 151239184.0000 - mean_absolute_error: 5293.4819 - val_loss: 2371.8208 - val_mean_squared_error: 9131109.0000 - val_mean_absolute_error: 2371.8208\n",
      "Epoch 6/100\n",
      "33/33 [==============================] - 0s 15ms/step - loss: 5125.6743 - mean_squared_error: 148901168.0000 - mean_absolute_error: 5125.6743 - val_loss: 3029.4045 - val_mean_squared_error: 12629912.0000 - val_mean_absolute_error: 3029.4045\n",
      "Epoch 7/100\n",
      "33/33 [==============================] - 1s 15ms/step - loss: 5100.3452 - mean_squared_error: 143207936.0000 - mean_absolute_error: 5100.3452 - val_loss: 4106.8521 - val_mean_squared_error: 31974248.0000 - val_mean_absolute_error: 4106.8521\n",
      "Epoch 8/100\n",
      "33/33 [==============================] - 1s 15ms/step - loss: 5025.0640 - mean_squared_error: 145254400.0000 - mean_absolute_error: 5025.0640 - val_loss: 5655.0444 - val_mean_squared_error: 46635340.0000 - val_mean_absolute_error: 5655.0444\n",
      "Epoch 9/100\n",
      "33/33 [==============================] - 0s 14ms/step - loss: 4872.2378 - mean_squared_error: 145989968.0000 - mean_absolute_error: 4872.2378 - val_loss: 3287.7134 - val_mean_squared_error: 21108696.0000 - val_mean_absolute_error: 3287.7134\n",
      "11/11 [==============================] - 0s 28ms/step - loss: 3928.3088 - mean_squared_error: 136238256.0000 - mean_absolute_error: 3928.3088\n",
      "2/2 [==============================] - 0s 127ms/step - loss: 4333.5767 - mean_squared_error: 81365584.0000 - mean_absolute_error: 4333.5767\n",
      "_______________________________________STORE_22______________________________________\n",
      "Epoch 1/100\n",
      "WARNING:tensorflow:Model was constructed with shape (None, None, 103) for input KerasTensor(type_spec=TensorSpec(shape=(None, None, 103), dtype=tf.float32, name='dense_1248_input'), name='dense_1248_input', description=\"created by layer 'dense_1248_input'\"), but it was called on an input with incompatible shape (None, 103).\n",
      "WARNING:tensorflow:Model was constructed with shape (None, None, 103) for input KerasTensor(type_spec=TensorSpec(shape=(None, None, 103), dtype=tf.float32, name='dense_1248_input'), name='dense_1248_input', description=\"created by layer 'dense_1248_input'\"), but it was called on an input with incompatible shape (None, 103).\n"
     ]
    },
    {
     "name": "stderr",
     "output_type": "stream",
     "text": [
      "2022-12-17 15:19:22.103755: I tensorflow/core/grappler/optimizers/custom_graph_optimizer_registry.cc:114] Plugin optimizer for device_type GPU is enabled.\n"
     ]
    },
    {
     "name": "stdout",
     "output_type": "stream",
     "text": [
      "33/33 [==============================] - ETA: 0s - loss: 15042.1738 - mean_squared_error: 428352736.0000 - mean_absolute_error: 15042.1738WARNING:tensorflow:Model was constructed with shape (None, None, 103) for input KerasTensor(type_spec=TensorSpec(shape=(None, None, 103), dtype=tf.float32, name='dense_1248_input'), name='dense_1248_input', description=\"created by layer 'dense_1248_input'\"), but it was called on an input with incompatible shape (None, 103).\n"
     ]
    },
    {
     "name": "stderr",
     "output_type": "stream",
     "text": [
      "2022-12-17 15:19:29.001237: I tensorflow/core/grappler/optimizers/custom_graph_optimizer_registry.cc:114] Plugin optimizer for device_type GPU is enabled.\n"
     ]
    },
    {
     "name": "stdout",
     "output_type": "stream",
     "text": [
      "33/33 [==============================] - 8s 134ms/step - loss: 15042.1738 - mean_squared_error: 428352736.0000 - mean_absolute_error: 15042.1738 - val_loss: 10207.7705 - val_mean_squared_error: 156096976.0000 - val_mean_absolute_error: 10207.7705\n",
      "Epoch 2/100\n",
      "33/33 [==============================] - 1s 20ms/step - loss: 10248.3750 - mean_squared_error: 231741520.0000 - mean_absolute_error: 10248.3750 - val_loss: 6049.6621 - val_mean_squared_error: 49375364.0000 - val_mean_absolute_error: 6049.6621\n",
      "Epoch 3/100\n",
      "33/33 [==============================] - 1s 17ms/step - loss: 7866.6738 - mean_squared_error: 189990144.0000 - mean_absolute_error: 7866.6738 - val_loss: 4235.6343 - val_mean_squared_error: 31445880.0000 - val_mean_absolute_error: 4235.6343\n",
      "Epoch 4/100\n",
      "33/33 [==============================] - 1s 20ms/step - loss: 7489.0493 - mean_squared_error: 175979024.0000 - mean_absolute_error: 7489.0493 - val_loss: 6531.7915 - val_mean_squared_error: 74826256.0000 - val_mean_absolute_error: 6531.7915\n",
      "Epoch 5/100\n",
      "33/33 [==============================] - 0s 14ms/step - loss: 7389.0708 - mean_squared_error: 174795040.0000 - mean_absolute_error: 7389.0708 - val_loss: 4726.8193 - val_mean_squared_error: 34568936.0000 - val_mean_absolute_error: 4726.8193\n",
      "Epoch 6/100\n",
      "33/33 [==============================] - 0s 14ms/step - loss: 7347.2173 - mean_squared_error: 177066880.0000 - mean_absolute_error: 7347.2173 - val_loss: 5331.7007 - val_mean_squared_error: 46792620.0000 - val_mean_absolute_error: 5331.7007\n",
      "Epoch 7/100\n",
      "33/33 [==============================] - 1s 16ms/step - loss: 7085.2612 - mean_squared_error: 174411312.0000 - mean_absolute_error: 7085.2612 - val_loss: 4468.0352 - val_mean_squared_error: 30740836.0000 - val_mean_absolute_error: 4468.0352\n",
      "11/11 [==============================] - 1s 50ms/step - loss: 5746.1680 - mean_squared_error: 150557232.0000 - mean_absolute_error: 5746.1680\n",
      "2/2 [==============================] - 0s 299ms/step - loss: 4875.3359 - mean_squared_error: 75578944.0000 - mean_absolute_error: 4875.3364\n",
      "_______________________________________STORE_23______________________________________\n",
      "Epoch 1/100\n",
      "WARNING:tensorflow:Model was constructed with shape (None, None, 103) for input KerasTensor(type_spec=TensorSpec(shape=(None, None, 103), dtype=tf.float32, name='dense_1256_input'), name='dense_1256_input', description=\"created by layer 'dense_1256_input'\"), but it was called on an input with incompatible shape (None, 103).\n",
      "WARNING:tensorflow:Model was constructed with shape (None, None, 103) for input KerasTensor(type_spec=TensorSpec(shape=(None, None, 103), dtype=tf.float32, name='dense_1256_input'), name='dense_1256_input', description=\"created by layer 'dense_1256_input'\"), but it was called on an input with incompatible shape (None, 103).\n"
     ]
    },
    {
     "name": "stderr",
     "output_type": "stream",
     "text": [
      "2022-12-17 15:19:35.451331: I tensorflow/core/grappler/optimizers/custom_graph_optimizer_registry.cc:114] Plugin optimizer for device_type GPU is enabled.\n"
     ]
    },
    {
     "name": "stdout",
     "output_type": "stream",
     "text": [
      "33/33 [==============================] - ETA: 0s - loss: 20578.7617 - mean_squared_error: 855845952.0000 - mean_absolute_error: 20578.7617WARNING:tensorflow:Model was constructed with shape (None, None, 103) for input KerasTensor(type_spec=TensorSpec(shape=(None, None, 103), dtype=tf.float32, name='dense_1256_input'), name='dense_1256_input', description=\"created by layer 'dense_1256_input'\"), but it was called on an input with incompatible shape (None, 103).\n"
     ]
    },
    {
     "name": "stderr",
     "output_type": "stream",
     "text": [
      "2022-12-17 15:19:43.192952: I tensorflow/core/grappler/optimizers/custom_graph_optimizer_registry.cc:114] Plugin optimizer for device_type GPU is enabled.\n"
     ]
    },
    {
     "name": "stdout",
     "output_type": "stream",
     "text": [
      "33/33 [==============================] - 9s 112ms/step - loss: 20578.7617 - mean_squared_error: 855845952.0000 - mean_absolute_error: 20578.7617 - val_loss: 14997.1035 - val_mean_squared_error: 407439776.0000 - val_mean_absolute_error: 14997.1035\n",
      "Epoch 2/100\n",
      "33/33 [==============================] - 1s 17ms/step - loss: 14585.5908 - mean_squared_error: 487208032.0000 - mean_absolute_error: 14585.5908 - val_loss: 12695.1182 - val_mean_squared_error: 316890528.0000 - val_mean_absolute_error: 12695.1182\n",
      "Epoch 3/100\n",
      "33/33 [==============================] - 1s 18ms/step - loss: 11420.9619 - mean_squared_error: 388204736.0000 - mean_absolute_error: 11420.9619 - val_loss: 8550.0586 - val_mean_squared_error: 118680256.0000 - val_mean_absolute_error: 8550.0586\n",
      "Epoch 4/100\n",
      "33/33 [==============================] - 1s 17ms/step - loss: 10305.6729 - mean_squared_error: 360069920.0000 - mean_absolute_error: 10305.6729 - val_loss: 7404.1401 - val_mean_squared_error: 122355560.0000 - val_mean_absolute_error: 7404.1401\n",
      "Epoch 5/100\n",
      "33/33 [==============================] - 0s 14ms/step - loss: 10556.3125 - mean_squared_error: 365683200.0000 - mean_absolute_error: 10556.3125 - val_loss: 9991.8975 - val_mean_squared_error: 232899824.0000 - val_mean_absolute_error: 9991.8975\n",
      "Epoch 6/100\n",
      "33/33 [==============================] - 1s 16ms/step - loss: 10273.3789 - mean_squared_error: 360370944.0000 - mean_absolute_error: 10273.3789 - val_loss: 8647.8037 - val_mean_squared_error: 126690112.0000 - val_mean_absolute_error: 8647.8037\n",
      "Epoch 7/100\n",
      "33/33 [==============================] - 1s 17ms/step - loss: 10083.0889 - mean_squared_error: 358678560.0000 - mean_absolute_error: 10083.0889 - val_loss: 11530.2773 - val_mean_squared_error: 172188672.0000 - val_mean_absolute_error: 11530.2773\n",
      "Epoch 8/100\n",
      "33/33 [==============================] - 0s 15ms/step - loss: 10101.9395 - mean_squared_error: 357033664.0000 - mean_absolute_error: 10101.9395 - val_loss: 7654.9053 - val_mean_squared_error: 149010368.0000 - val_mean_absolute_error: 7654.9053\n",
      "11/11 [==============================] - 1s 44ms/step - loss: 8837.1748 - mean_squared_error: 330508416.0000 - mean_absolute_error: 8837.1748\n",
      "2/2 [==============================] - 0s 334ms/step - loss: 7586.1689 - mean_squared_error: 148711216.0000 - mean_absolute_error: 7586.1689\n",
      "_______________________________________STORE_24______________________________________\n",
      "Epoch 1/100\n",
      "WARNING:tensorflow:Model was constructed with shape (None, None, 103) for input KerasTensor(type_spec=TensorSpec(shape=(None, None, 103), dtype=tf.float32, name='dense_1264_input'), name='dense_1264_input', description=\"created by layer 'dense_1264_input'\"), but it was called on an input with incompatible shape (None, 103).\n",
      "WARNING:tensorflow:Model was constructed with shape (None, None, 103) for input KerasTensor(type_spec=TensorSpec(shape=(None, None, 103), dtype=tf.float32, name='dense_1264_input'), name='dense_1264_input', description=\"created by layer 'dense_1264_input'\"), but it was called on an input with incompatible shape (None, 103).\n"
     ]
    },
    {
     "name": "stderr",
     "output_type": "stream",
     "text": [
      "2022-12-17 15:19:49.866771: I tensorflow/core/grappler/optimizers/custom_graph_optimizer_registry.cc:114] Plugin optimizer for device_type GPU is enabled.\n"
     ]
    },
    {
     "name": "stdout",
     "output_type": "stream",
     "text": [
      "33/33 [==============================] - ETA: 0s - loss: 18125.2754 - mean_squared_error: 541491392.0000 - mean_absolute_error: 18125.2754WARNING:tensorflow:Model was constructed with shape (None, None, 103) for input KerasTensor(type_spec=TensorSpec(shape=(None, None, 103), dtype=tf.float32, name='dense_1264_input'), name='dense_1264_input', description=\"created by layer 'dense_1264_input'\"), but it was called on an input with incompatible shape (None, 103).\n"
     ]
    },
    {
     "name": "stderr",
     "output_type": "stream",
     "text": [
      "2022-12-17 15:19:57.580190: I tensorflow/core/grappler/optimizers/custom_graph_optimizer_registry.cc:114] Plugin optimizer for device_type GPU is enabled.\n"
     ]
    },
    {
     "name": "stdout",
     "output_type": "stream",
     "text": [
      "33/33 [==============================] - 9s 118ms/step - loss: 18125.2754 - mean_squared_error: 541491392.0000 - mean_absolute_error: 18125.2754 - val_loss: 11555.4219 - val_mean_squared_error: 189797504.0000 - val_mean_absolute_error: 11555.4219\n",
      "Epoch 2/100\n",
      "33/33 [==============================] - 1s 25ms/step - loss: 11012.4111 - mean_squared_error: 220589968.0000 - mean_absolute_error: 11012.4111 - val_loss: 9522.6162 - val_mean_squared_error: 134926144.0000 - val_mean_absolute_error: 9522.6162\n",
      "Epoch 3/100\n",
      "33/33 [==============================] - 1s 18ms/step - loss: 8234.5166 - mean_squared_error: 158298880.0000 - mean_absolute_error: 8234.5166 - val_loss: 7550.1768 - val_mean_squared_error: 74476944.0000 - val_mean_absolute_error: 7550.1768\n",
      "Epoch 4/100\n",
      "33/33 [==============================] - 0s 15ms/step - loss: 6244.9229 - mean_squared_error: 121659544.0000 - mean_absolute_error: 6244.9229 - val_loss: 4155.7061 - val_mean_squared_error: 32761280.0000 - val_mean_absolute_error: 4155.7061\n",
      "Epoch 5/100\n",
      "33/33 [==============================] - 1s 17ms/step - loss: 6090.5283 - mean_squared_error: 123426136.0000 - mean_absolute_error: 6090.5283 - val_loss: 4798.5000 - val_mean_squared_error: 40704440.0000 - val_mean_absolute_error: 4798.5000\n",
      "Epoch 6/100\n",
      "33/33 [==============================] - 1s 16ms/step - loss: 6083.4590 - mean_squared_error: 117564784.0000 - mean_absolute_error: 6083.4590 - val_loss: 6043.0518 - val_mean_squared_error: 51128324.0000 - val_mean_absolute_error: 6043.0518\n",
      "Epoch 7/100\n",
      "33/33 [==============================] - 0s 15ms/step - loss: 5907.3789 - mean_squared_error: 118703280.0000 - mean_absolute_error: 5907.3789 - val_loss: 4689.0635 - val_mean_squared_error: 36150136.0000 - val_mean_absolute_error: 4689.0635\n",
      "Epoch 8/100\n",
      "33/33 [==============================] - 1s 16ms/step - loss: 5831.3486 - mean_squared_error: 121679312.0000 - mean_absolute_error: 5831.3486 - val_loss: 5111.4697 - val_mean_squared_error: 40106652.0000 - val_mean_absolute_error: 5111.4697\n",
      "11/11 [==============================] - 1s 50ms/step - loss: 5252.7354 - mean_squared_error: 107369896.0000 - mean_absolute_error: 5252.7354\n",
      "2/2 [==============================] - 0s 350ms/step - loss: 4417.5112 - mean_squared_error: 39843632.0000 - mean_absolute_error: 4417.5117\n",
      "_______________________________________STORE_25______________________________________\n",
      "Epoch 1/100\n",
      "WARNING:tensorflow:Model was constructed with shape (None, None, 103) for input KerasTensor(type_spec=TensorSpec(shape=(None, None, 103), dtype=tf.float32, name='dense_1272_input'), name='dense_1272_input', description=\"created by layer 'dense_1272_input'\"), but it was called on an input with incompatible shape (None, 103).\n",
      "WARNING:tensorflow:Model was constructed with shape (None, None, 103) for input KerasTensor(type_spec=TensorSpec(shape=(None, None, 103), dtype=tf.float32, name='dense_1272_input'), name='dense_1272_input', description=\"created by layer 'dense_1272_input'\"), but it was called on an input with incompatible shape (None, 103).\n"
     ]
    },
    {
     "name": "stderr",
     "output_type": "stream",
     "text": [
      "2022-12-17 15:20:04.627265: I tensorflow/core/grappler/optimizers/custom_graph_optimizer_registry.cc:114] Plugin optimizer for device_type GPU is enabled.\n"
     ]
    },
    {
     "name": "stdout",
     "output_type": "stream",
     "text": [
      "33/33 [==============================] - ETA: 0s - loss: 10386.4336 - mean_squared_error: 193040112.0000 - mean_absolute_error: 10386.4336WARNING:tensorflow:Model was constructed with shape (None, None, 103) for input KerasTensor(type_spec=TensorSpec(shape=(None, None, 103), dtype=tf.float32, name='dense_1272_input'), name='dense_1272_input', description=\"created by layer 'dense_1272_input'\"), but it was called on an input with incompatible shape (None, 103).\n"
     ]
    },
    {
     "name": "stderr",
     "output_type": "stream",
     "text": [
      "2022-12-17 15:20:12.752367: I tensorflow/core/grappler/optimizers/custom_graph_optimizer_registry.cc:114] Plugin optimizer for device_type GPU is enabled.\n"
     ]
    },
    {
     "name": "stdout",
     "output_type": "stream",
     "text": [
      "33/33 [==============================] - 10s 114ms/step - loss: 10386.4336 - mean_squared_error: 193040112.0000 - mean_absolute_error: 10386.4336 - val_loss: 6981.4829 - val_mean_squared_error: 67996176.0000 - val_mean_absolute_error: 6981.4829\n",
      "Epoch 2/100\n",
      "33/33 [==============================] - 1s 20ms/step - loss: 6729.4546 - mean_squared_error: 99788472.0000 - mean_absolute_error: 6729.4546 - val_loss: 6569.1401 - val_mean_squared_error: 71986056.0000 - val_mean_absolute_error: 6569.1401\n",
      "Epoch 3/100\n",
      "33/33 [==============================] - 1s 22ms/step - loss: 5538.2246 - mean_squared_error: 79068448.0000 - mean_absolute_error: 5538.2246 - val_loss: 4036.3208 - val_mean_squared_error: 24011954.0000 - val_mean_absolute_error: 4036.3208\n",
      "Epoch 4/100\n",
      "33/33 [==============================] - 1s 17ms/step - loss: 5256.5518 - mean_squared_error: 78706856.0000 - mean_absolute_error: 5256.5518 - val_loss: 6725.8511 - val_mean_squared_error: 73894840.0000 - val_mean_absolute_error: 6725.8511\n",
      "Epoch 5/100\n",
      "33/33 [==============================] - 1s 16ms/step - loss: 5340.6680 - mean_squared_error: 80189768.0000 - mean_absolute_error: 5340.6680 - val_loss: 3198.5676 - val_mean_squared_error: 16121711.0000 - val_mean_absolute_error: 3198.5676\n",
      "Epoch 6/100\n",
      "33/33 [==============================] - 0s 15ms/step - loss: 5332.5908 - mean_squared_error: 76025672.0000 - mean_absolute_error: 5332.5908 - val_loss: 3049.4138 - val_mean_squared_error: 14905066.0000 - val_mean_absolute_error: 3049.4138\n",
      "Epoch 7/100\n",
      "33/33 [==============================] - 1s 16ms/step - loss: 4925.3350 - mean_squared_error: 72674408.0000 - mean_absolute_error: 4925.3350 - val_loss: 3305.2432 - val_mean_squared_error: 16971354.0000 - val_mean_absolute_error: 3305.2429\n",
      "Epoch 8/100\n",
      "33/33 [==============================] - 1s 15ms/step - loss: 5040.4673 - mean_squared_error: 75551736.0000 - mean_absolute_error: 5040.4673 - val_loss: 4666.5825 - val_mean_squared_error: 37016272.0000 - val_mean_absolute_error: 4666.5825\n",
      "Epoch 9/100\n",
      "33/33 [==============================] - 1s 17ms/step - loss: 5182.3071 - mean_squared_error: 77404536.0000 - mean_absolute_error: 5182.3071 - val_loss: 4610.0337 - val_mean_squared_error: 35939572.0000 - val_mean_absolute_error: 4610.0337\n",
      "Epoch 10/100\n",
      "33/33 [==============================] - 0s 14ms/step - loss: 4954.2847 - mean_squared_error: 74683656.0000 - mean_absolute_error: 4954.2847 - val_loss: 2842.1951 - val_mean_squared_error: 12911741.0000 - val_mean_absolute_error: 2842.1951\n",
      "Epoch 11/100\n",
      "33/33 [==============================] - 0s 14ms/step - loss: 4865.8633 - mean_squared_error: 70365488.0000 - mean_absolute_error: 4865.8633 - val_loss: 3069.3811 - val_mean_squared_error: 14917519.0000 - val_mean_absolute_error: 3069.3811\n",
      "Epoch 12/100\n",
      "33/33 [==============================] - 0s 15ms/step - loss: 4737.8779 - mean_squared_error: 70079352.0000 - mean_absolute_error: 4737.8779 - val_loss: 3476.9709 - val_mean_squared_error: 19496134.0000 - val_mean_absolute_error: 3476.9709\n",
      "Epoch 13/100\n",
      "33/33 [==============================] - 0s 14ms/step - loss: 4869.8916 - mean_squared_error: 68156392.0000 - mean_absolute_error: 4869.8916 - val_loss: 4652.4731 - val_mean_squared_error: 34058024.0000 - val_mean_absolute_error: 4652.4731\n",
      "Epoch 14/100\n",
      "33/33 [==============================] - 0s 14ms/step - loss: 4711.8306 - mean_squared_error: 69522432.0000 - mean_absolute_error: 4711.8306 - val_loss: 4408.0996 - val_mean_squared_error: 31841622.0000 - val_mean_absolute_error: 4408.0996\n",
      "11/11 [==============================] - 1s 65ms/step - loss: 3681.9141 - mean_squared_error: 61289308.0000 - mean_absolute_error: 3681.9141\n",
      "2/2 [==============================] - 0s 349ms/step - loss: 3430.1489 - mean_squared_error: 35960120.0000 - mean_absolute_error: 3430.1489\n",
      "_______________________________________STORE_26______________________________________\n",
      "Epoch 1/100\n",
      "WARNING:tensorflow:Model was constructed with shape (None, None, 103) for input KerasTensor(type_spec=TensorSpec(shape=(None, None, 103), dtype=tf.float32, name='dense_1280_input'), name='dense_1280_input', description=\"created by layer 'dense_1280_input'\"), but it was called on an input with incompatible shape (None, 103).\n",
      "WARNING:tensorflow:Model was constructed with shape (None, None, 103) for input KerasTensor(type_spec=TensorSpec(shape=(None, None, 103), dtype=tf.float32, name='dense_1280_input'), name='dense_1280_input', description=\"created by layer 'dense_1280_input'\"), but it was called on an input with incompatible shape (None, 103).\n"
     ]
    },
    {
     "name": "stderr",
     "output_type": "stream",
     "text": [
      "2022-12-17 15:20:22.485742: I tensorflow/core/grappler/optimizers/custom_graph_optimizer_registry.cc:114] Plugin optimizer for device_type GPU is enabled.\n"
     ]
    },
    {
     "name": "stdout",
     "output_type": "stream",
     "text": [
      "33/33 [==============================] - ETA: 0s - loss: 9378.5566 - mean_squared_error: 151916128.0000 - mean_absolute_error: 9378.5566WARNING:tensorflow:Model was constructed with shape (None, None, 103) for input KerasTensor(type_spec=TensorSpec(shape=(None, None, 103), dtype=tf.float32, name='dense_1280_input'), name='dense_1280_input', description=\"created by layer 'dense_1280_input'\"), but it was called on an input with incompatible shape (None, 103).\n"
     ]
    },
    {
     "name": "stderr",
     "output_type": "stream",
     "text": [
      "2022-12-17 15:20:30.692294: I tensorflow/core/grappler/optimizers/custom_graph_optimizer_registry.cc:114] Plugin optimizer for device_type GPU is enabled.\n"
     ]
    },
    {
     "name": "stdout",
     "output_type": "stream",
     "text": [
      "33/33 [==============================] - 10s 136ms/step - loss: 9378.5566 - mean_squared_error: 151916128.0000 - mean_absolute_error: 9378.5566 - val_loss: 7397.8872 - val_mean_squared_error: 80764704.0000 - val_mean_absolute_error: 7397.8872\n",
      "Epoch 2/100\n",
      "33/33 [==============================] - 1s 21ms/step - loss: 5903.2964 - mean_squared_error: 71382816.0000 - mean_absolute_error: 5903.2964 - val_loss: 3440.7649 - val_mean_squared_error: 20003088.0000 - val_mean_absolute_error: 3440.7649\n",
      "Epoch 3/100\n",
      "33/33 [==============================] - 1s 17ms/step - loss: 4858.7109 - mean_squared_error: 57451912.0000 - mean_absolute_error: 4858.7109 - val_loss: 4373.9136 - val_mean_squared_error: 35893024.0000 - val_mean_absolute_error: 4373.9136\n",
      "Epoch 4/100\n",
      "33/33 [==============================] - 1s 18ms/step - loss: 4729.7280 - mean_squared_error: 56492868.0000 - mean_absolute_error: 4729.7280 - val_loss: 3009.1294 - val_mean_squared_error: 19613654.0000 - val_mean_absolute_error: 3009.1294\n",
      "Epoch 5/100\n",
      "33/33 [==============================] - 1s 16ms/step - loss: 4496.0825 - mean_squared_error: 55546724.0000 - mean_absolute_error: 4496.0825 - val_loss: 3359.6311 - val_mean_squared_error: 19304204.0000 - val_mean_absolute_error: 3359.6311\n",
      "Epoch 6/100\n",
      "33/33 [==============================] - 0s 15ms/step - loss: 4612.2866 - mean_squared_error: 55561960.0000 - mean_absolute_error: 4612.2866 - val_loss: 4097.8438 - val_mean_squared_error: 31460908.0000 - val_mean_absolute_error: 4097.8438\n",
      "Epoch 7/100\n",
      "33/33 [==============================] - 0s 14ms/step - loss: 4547.4175 - mean_squared_error: 56652844.0000 - mean_absolute_error: 4547.4175 - val_loss: 3451.3713 - val_mean_squared_error: 21069216.0000 - val_mean_absolute_error: 3451.3713\n",
      "Epoch 8/100\n",
      "33/33 [==============================] - 1s 15ms/step - loss: 4381.2783 - mean_squared_error: 51479240.0000 - mean_absolute_error: 4381.2783 - val_loss: 3464.1301 - val_mean_squared_error: 22312470.0000 - val_mean_absolute_error: 3464.1301\n",
      "11/11 [==============================] - 1s 40ms/step - loss: 3506.4128 - mean_squared_error: 44741396.0000 - mean_absolute_error: 3506.4128\n",
      "2/2 [==============================] - 0s 349ms/step - loss: 3144.8257 - mean_squared_error: 17935930.0000 - mean_absolute_error: 3144.8257\n",
      "_______________________________________STORE_27______________________________________\n",
      "Epoch 1/100\n",
      "WARNING:tensorflow:Model was constructed with shape (None, None, 103) for input KerasTensor(type_spec=TensorSpec(shape=(None, None, 103), dtype=tf.float32, name='dense_1288_input'), name='dense_1288_input', description=\"created by layer 'dense_1288_input'\"), but it was called on an input with incompatible shape (None, 103).\n",
      "WARNING:tensorflow:Model was constructed with shape (None, None, 103) for input KerasTensor(type_spec=TensorSpec(shape=(None, None, 103), dtype=tf.float32, name='dense_1288_input'), name='dense_1288_input', description=\"created by layer 'dense_1288_input'\"), but it was called on an input with incompatible shape (None, 103).\n"
     ]
    },
    {
     "name": "stderr",
     "output_type": "stream",
     "text": [
      "2022-12-17 15:20:37.667805: I tensorflow/core/grappler/optimizers/custom_graph_optimizer_registry.cc:114] Plugin optimizer for device_type GPU is enabled.\n"
     ]
    },
    {
     "name": "stdout",
     "output_type": "stream",
     "text": [
      "33/33 [==============================] - ETA: 0s - loss: 20379.1133 - mean_squared_error: 805875904.0000 - mean_absolute_error: 20379.1133WARNING:tensorflow:Model was constructed with shape (None, None, 103) for input KerasTensor(type_spec=TensorSpec(shape=(None, None, 103), dtype=tf.float32, name='dense_1288_input'), name='dense_1288_input', description=\"created by layer 'dense_1288_input'\"), but it was called on an input with incompatible shape (None, 103).\n"
     ]
    },
    {
     "name": "stderr",
     "output_type": "stream",
     "text": [
      "2022-12-17 15:20:45.668587: I tensorflow/core/grappler/optimizers/custom_graph_optimizer_registry.cc:114] Plugin optimizer for device_type GPU is enabled.\n"
     ]
    },
    {
     "name": "stdout",
     "output_type": "stream",
     "text": [
      "33/33 [==============================] - 9s 120ms/step - loss: 20379.1133 - mean_squared_error: 805875904.0000 - mean_absolute_error: 20379.1133 - val_loss: 14718.3203 - val_mean_squared_error: 346631904.0000 - val_mean_absolute_error: 14718.3203\n",
      "Epoch 2/100\n",
      "33/33 [==============================] - 1s 21ms/step - loss: 14451.3408 - mean_squared_error: 452544832.0000 - mean_absolute_error: 14451.3408 - val_loss: 11830.2979 - val_mean_squared_error: 177500400.0000 - val_mean_absolute_error: 11830.2979\n",
      "Epoch 3/100\n",
      "33/33 [==============================] - 1s 21ms/step - loss: 11104.4336 - mean_squared_error: 331232032.0000 - mean_absolute_error: 11104.4336 - val_loss: 7420.4507 - val_mean_squared_error: 115595856.0000 - val_mean_absolute_error: 7420.4507\n",
      "Epoch 4/100\n",
      "33/33 [==============================] - 1s 22ms/step - loss: 9718.2822 - mean_squared_error: 301217760.0000 - mean_absolute_error: 9718.2822 - val_loss: 8859.0693 - val_mean_squared_error: 97568560.0000 - val_mean_absolute_error: 8859.0693\n",
      "Epoch 5/100\n",
      "33/33 [==============================] - 1s 17ms/step - loss: 9538.8643 - mean_squared_error: 289146496.0000 - mean_absolute_error: 9538.8643 - val_loss: 10601.4199 - val_mean_squared_error: 195815680.0000 - val_mean_absolute_error: 10601.4199\n",
      "Epoch 6/100\n",
      "33/33 [==============================] - 0s 15ms/step - loss: 9381.1494 - mean_squared_error: 294844960.0000 - mean_absolute_error: 9381.1494 - val_loss: 7947.9570 - val_mean_squared_error: 130688496.0000 - val_mean_absolute_error: 7947.9570\n",
      "Epoch 7/100\n",
      "33/33 [==============================] - 1s 17ms/step - loss: 9115.8252 - mean_squared_error: 290241792.0000 - mean_absolute_error: 9115.8252 - val_loss: 9457.0371 - val_mean_squared_error: 165420944.0000 - val_mean_absolute_error: 9457.0371\n",
      "11/11 [==============================] - 1s 62ms/step - loss: 8719.0537 - mean_squared_error: 290834656.0000 - mean_absolute_error: 8719.0547\n",
      "2/2 [==============================] - 0s 375ms/step - loss: 8338.0000 - mean_squared_error: 203345424.0000 - mean_absolute_error: 8338.0000\n",
      "_______________________________________STORE_28______________________________________\n",
      "Epoch 1/100\n",
      "WARNING:tensorflow:Model was constructed with shape (None, None, 103) for input KerasTensor(type_spec=TensorSpec(shape=(None, None, 103), dtype=tf.float32, name='dense_1296_input'), name='dense_1296_input', description=\"created by layer 'dense_1296_input'\"), but it was called on an input with incompatible shape (None, 103).\n",
      "WARNING:tensorflow:Model was constructed with shape (None, None, 103) for input KerasTensor(type_spec=TensorSpec(shape=(None, None, 103), dtype=tf.float32, name='dense_1296_input'), name='dense_1296_input', description=\"created by layer 'dense_1296_input'\"), but it was called on an input with incompatible shape (None, 103).\n"
     ]
    },
    {
     "name": "stderr",
     "output_type": "stream",
     "text": [
      "2022-12-17 15:20:52.489873: I tensorflow/core/grappler/optimizers/custom_graph_optimizer_registry.cc:114] Plugin optimizer for device_type GPU is enabled.\n"
     ]
    },
    {
     "name": "stdout",
     "output_type": "stream",
     "text": [
      "33/33 [==============================] - ETA: 0s - loss: 14828.1572 - mean_squared_error: 462945056.0000 - mean_absolute_error: 14828.1572WARNING:tensorflow:Model was constructed with shape (None, None, 103) for input KerasTensor(type_spec=TensorSpec(shape=(None, None, 103), dtype=tf.float32, name='dense_1296_input'), name='dense_1296_input', description=\"created by layer 'dense_1296_input'\"), but it was called on an input with incompatible shape (None, 103).\n"
     ]
    },
    {
     "name": "stderr",
     "output_type": "stream",
     "text": [
      "2022-12-17 15:20:58.566178: I tensorflow/core/grappler/optimizers/custom_graph_optimizer_registry.cc:114] Plugin optimizer for device_type GPU is enabled.\n"
     ]
    },
    {
     "name": "stdout",
     "output_type": "stream",
     "text": [
      "33/33 [==============================] - 8s 151ms/step - loss: 14828.1572 - mean_squared_error: 462945056.0000 - mean_absolute_error: 14828.1572 - val_loss: 8832.4014 - val_mean_squared_error: 154241792.0000 - val_mean_absolute_error: 8832.4014\n",
      "Epoch 2/100\n",
      "33/33 [==============================] - 1s 23ms/step - loss: 10452.9209 - mean_squared_error: 265527120.0000 - mean_absolute_error: 10452.9209 - val_loss: 7826.5801 - val_mean_squared_error: 134422592.0000 - val_mean_absolute_error: 7826.5801\n",
      "Epoch 3/100\n",
      "33/33 [==============================] - 1s 17ms/step - loss: 8342.1631 - mean_squared_error: 201878640.0000 - mean_absolute_error: 8342.1631 - val_loss: 4781.1714 - val_mean_squared_error: 32391440.0000 - val_mean_absolute_error: 4781.1714\n",
      "Epoch 4/100\n",
      "33/33 [==============================] - 1s 17ms/step - loss: 6343.2061 - mean_squared_error: 153328480.0000 - mean_absolute_error: 6343.2061 - val_loss: 5987.6772 - val_mean_squared_error: 57395232.0000 - val_mean_absolute_error: 5987.6772\n",
      "Epoch 5/100\n",
      "33/33 [==============================] - 1s 19ms/step - loss: 6135.0654 - mean_squared_error: 155072864.0000 - mean_absolute_error: 6135.0654 - val_loss: 2985.1926 - val_mean_squared_error: 14259039.0000 - val_mean_absolute_error: 2985.1926\n",
      "Epoch 6/100\n",
      "33/33 [==============================] - 0s 14ms/step - loss: 5703.1538 - mean_squared_error: 142657744.0000 - mean_absolute_error: 5703.1538 - val_loss: 6595.4844 - val_mean_squared_error: 60496600.0000 - val_mean_absolute_error: 6595.4844\n",
      "Epoch 7/100\n",
      "33/33 [==============================] - 0s 14ms/step - loss: 5986.5879 - mean_squared_error: 151352560.0000 - mean_absolute_error: 5986.5879 - val_loss: 4004.6333 - val_mean_squared_error: 25492538.0000 - val_mean_absolute_error: 4004.6333\n",
      "Epoch 8/100\n",
      "33/33 [==============================] - 0s 14ms/step - loss: 5818.0479 - mean_squared_error: 150147536.0000 - mean_absolute_error: 5818.0479 - val_loss: 2830.1753 - val_mean_squared_error: 14346961.0000 - val_mean_absolute_error: 2830.1753\n",
      "Epoch 9/100\n",
      "33/33 [==============================] - 1s 16ms/step - loss: 5668.8418 - mean_squared_error: 142317728.0000 - mean_absolute_error: 5668.8418 - val_loss: 3656.5085 - val_mean_squared_error: 20246884.0000 - val_mean_absolute_error: 3656.5085\n",
      "Epoch 10/100\n",
      "33/33 [==============================] - 0s 14ms/step - loss: 5689.2065 - mean_squared_error: 143472352.0000 - mean_absolute_error: 5689.2065 - val_loss: 2889.8296 - val_mean_squared_error: 14402697.0000 - val_mean_absolute_error: 2889.8296\n",
      "Epoch 11/100\n",
      "33/33 [==============================] - 0s 15ms/step - loss: 5774.6182 - mean_squared_error: 143442256.0000 - mean_absolute_error: 5774.6182 - val_loss: 6399.4863 - val_mean_squared_error: 56535176.0000 - val_mean_absolute_error: 6399.4863\n",
      "Epoch 12/100\n",
      "33/33 [==============================] - 0s 14ms/step - loss: 5757.8813 - mean_squared_error: 142216608.0000 - mean_absolute_error: 5757.8813 - val_loss: 5551.7344 - val_mean_squared_error: 47443916.0000 - val_mean_absolute_error: 5551.7344\n",
      "11/11 [==============================] - 1s 66ms/step - loss: 5411.6792 - mean_squared_error: 136107680.0000 - mean_absolute_error: 5411.6792\n",
      "2/2 [==============================] - 1s 499ms/step - loss: 4152.8525 - mean_squared_error: 52282404.0000 - mean_absolute_error: 4152.8525\n",
      "_______________________________________STORE_29______________________________________\n",
      "Epoch 1/100\n",
      "WARNING:tensorflow:Model was constructed with shape (None, None, 103) for input KerasTensor(type_spec=TensorSpec(shape=(None, None, 103), dtype=tf.float32, name='dense_1304_input'), name='dense_1304_input', description=\"created by layer 'dense_1304_input'\"), but it was called on an input with incompatible shape (None, 103).\n",
      "WARNING:tensorflow:Model was constructed with shape (None, None, 103) for input KerasTensor(type_spec=TensorSpec(shape=(None, None, 103), dtype=tf.float32, name='dense_1304_input'), name='dense_1304_input', description=\"created by layer 'dense_1304_input'\"), but it was called on an input with incompatible shape (None, 103).\n"
     ]
    },
    {
     "name": "stderr",
     "output_type": "stream",
     "text": [
      "2022-12-17 15:21:07.808438: I tensorflow/core/grappler/optimizers/custom_graph_optimizer_registry.cc:114] Plugin optimizer for device_type GPU is enabled.\n"
     ]
    },
    {
     "name": "stdout",
     "output_type": "stream",
     "text": [
      "33/33 [==============================] - ETA: 0s - loss: 7523.6216 - mean_squared_error: 114468744.0000 - mean_absolute_error: 7523.6216WARNING:tensorflow:Model was constructed with shape (None, None, 103) for input KerasTensor(type_spec=TensorSpec(shape=(None, None, 103), dtype=tf.float32, name='dense_1304_input'), name='dense_1304_input', description=\"created by layer 'dense_1304_input'\"), but it was called on an input with incompatible shape (None, 103).\n"
     ]
    },
    {
     "name": "stderr",
     "output_type": "stream",
     "text": [
      "2022-12-17 15:21:16.598400: I tensorflow/core/grappler/optimizers/custom_graph_optimizer_registry.cc:114] Plugin optimizer for device_type GPU is enabled.\n"
     ]
    },
    {
     "name": "stdout",
     "output_type": "stream",
     "text": [
      "33/33 [==============================] - 10s 136ms/step - loss: 7523.6216 - mean_squared_error: 114468744.0000 - mean_absolute_error: 7523.6216 - val_loss: 6229.0845 - val_mean_squared_error: 54875388.0000 - val_mean_absolute_error: 6229.0845\n",
      "Epoch 2/100\n",
      "33/33 [==============================] - 1s 19ms/step - loss: 5397.4478 - mean_squared_error: 74330480.0000 - mean_absolute_error: 5397.4478 - val_loss: 4994.8237 - val_mean_squared_error: 39770560.0000 - val_mean_absolute_error: 4994.8237\n",
      "Epoch 3/100\n",
      "33/33 [==============================] - 1s 19ms/step - loss: 4567.7588 - mean_squared_error: 63825036.0000 - mean_absolute_error: 4567.7588 - val_loss: 2804.0251 - val_mean_squared_error: 13010824.0000 - val_mean_absolute_error: 2804.0251\n",
      "Epoch 4/100\n",
      "33/33 [==============================] - 0s 14ms/step - loss: 4104.6616 - mean_squared_error: 57922120.0000 - mean_absolute_error: 4104.6616 - val_loss: 4484.8882 - val_mean_squared_error: 32745460.0000 - val_mean_absolute_error: 4484.8882\n",
      "Epoch 5/100\n",
      "33/33 [==============================] - 1s 19ms/step - loss: 4273.7495 - mean_squared_error: 60214920.0000 - mean_absolute_error: 4273.7495 - val_loss: 3534.4563 - val_mean_squared_error: 21858428.0000 - val_mean_absolute_error: 3534.4563\n",
      "Epoch 6/100\n",
      "33/33 [==============================] - 1s 16ms/step - loss: 4216.1777 - mean_squared_error: 59209100.0000 - mean_absolute_error: 4216.1777 - val_loss: 3292.7720 - val_mean_squared_error: 16118774.0000 - val_mean_absolute_error: 3292.7720\n",
      "Epoch 7/100\n",
      "33/33 [==============================] - 1s 15ms/step - loss: 4164.0132 - mean_squared_error: 58085592.0000 - mean_absolute_error: 4164.0132 - val_loss: 2797.4104 - val_mean_squared_error: 13293681.0000 - val_mean_absolute_error: 2797.4104\n",
      "11/11 [==============================] - 1s 48ms/step - loss: 3284.9316 - mean_squared_error: 51447192.0000 - mean_absolute_error: 3284.9316\n",
      "2/2 [==============================] - 0s 168ms/step - loss: 3046.2979 - mean_squared_error: 20234284.0000 - mean_absolute_error: 3046.2983\n",
      "_______________________________________STORE_30______________________________________\n",
      "Epoch 1/100\n",
      "WARNING:tensorflow:Model was constructed with shape (None, None, 103) for input KerasTensor(type_spec=TensorSpec(shape=(None, None, 103), dtype=tf.float32, name='dense_1312_input'), name='dense_1312_input', description=\"created by layer 'dense_1312_input'\"), but it was called on an input with incompatible shape (None, 103).\n",
      "WARNING:tensorflow:Model was constructed with shape (None, None, 103) for input KerasTensor(type_spec=TensorSpec(shape=(None, None, 103), dtype=tf.float32, name='dense_1312_input'), name='dense_1312_input', description=\"created by layer 'dense_1312_input'\"), but it was called on an input with incompatible shape (None, 103).\n"
     ]
    },
    {
     "name": "stderr",
     "output_type": "stream",
     "text": [
      "2022-12-17 15:21:23.035667: I tensorflow/core/grappler/optimizers/custom_graph_optimizer_registry.cc:114] Plugin optimizer for device_type GPU is enabled.\n"
     ]
    },
    {
     "name": "stdout",
     "output_type": "stream",
     "text": [
      "33/33 [==============================] - ETA: 0s - loss: 4593.6553 - mean_squared_error: 41382692.0000 - mean_absolute_error: 4593.6553WARNING:tensorflow:Model was constructed with shape (None, None, 103) for input KerasTensor(type_spec=TensorSpec(shape=(None, None, 103), dtype=tf.float32, name='dense_1312_input'), name='dense_1312_input', description=\"created by layer 'dense_1312_input'\"), but it was called on an input with incompatible shape (None, 103).\n"
     ]
    },
    {
     "name": "stderr",
     "output_type": "stream",
     "text": [
      "2022-12-17 15:21:30.262005: I tensorflow/core/grappler/optimizers/custom_graph_optimizer_registry.cc:114] Plugin optimizer for device_type GPU is enabled.\n"
     ]
    },
    {
     "name": "stdout",
     "output_type": "stream",
     "text": [
      "33/33 [==============================] - 9s 154ms/step - loss: 4593.6553 - mean_squared_error: 41382692.0000 - mean_absolute_error: 4593.6553 - val_loss: 6713.0464 - val_mean_squared_error: 64363088.0000 - val_mean_absolute_error: 6713.0464\n",
      "Epoch 2/100\n",
      "33/33 [==============================] - 1s 24ms/step - loss: 1606.9368 - mean_squared_error: 6407502.5000 - mean_absolute_error: 1606.9368 - val_loss: 1478.5607 - val_mean_squared_error: 4632139.0000 - val_mean_absolute_error: 1478.5607\n",
      "Epoch 3/100\n",
      "33/33 [==============================] - 1s 18ms/step - loss: 1386.9749 - mean_squared_error: 5549090.0000 - mean_absolute_error: 1386.9749 - val_loss: 1745.2394 - val_mean_squared_error: 7540673.0000 - val_mean_absolute_error: 1745.2394\n",
      "Epoch 4/100\n",
      "33/33 [==============================] - 1s 16ms/step - loss: 1225.1537 - mean_squared_error: 4616888.5000 - mean_absolute_error: 1225.1537 - val_loss: 1210.6178 - val_mean_squared_error: 2829900.7500 - val_mean_absolute_error: 1210.6178\n",
      "Epoch 5/100\n",
      "33/33 [==============================] - 1s 16ms/step - loss: 1234.5610 - mean_squared_error: 4460314.0000 - mean_absolute_error: 1234.5610 - val_loss: 397.0440 - val_mean_squared_error: 512261.5938 - val_mean_absolute_error: 397.0440\n",
      "Epoch 6/100\n",
      "33/33 [==============================] - 0s 14ms/step - loss: 1143.2533 - mean_squared_error: 3927409.7500 - mean_absolute_error: 1143.2533 - val_loss: 1396.0786 - val_mean_squared_error: 3814651.0000 - val_mean_absolute_error: 1396.0786\n",
      "Epoch 7/100\n",
      "33/33 [==============================] - 1s 17ms/step - loss: 1161.4479 - mean_squared_error: 3912249.0000 - mean_absolute_error: 1161.4479 - val_loss: 597.9757 - val_mean_squared_error: 860696.9375 - val_mean_absolute_error: 597.9757\n",
      "Epoch 8/100\n",
      "33/33 [==============================] - 0s 15ms/step - loss: 1042.1696 - mean_squared_error: 3551570.2500 - mean_absolute_error: 1042.1696 - val_loss: 532.9865 - val_mean_squared_error: 676971.8750 - val_mean_absolute_error: 532.9865\n",
      "Epoch 9/100\n",
      "33/33 [==============================] - 0s 14ms/step - loss: 1032.4291 - mean_squared_error: 3238973.7500 - mean_absolute_error: 1032.4291 - val_loss: 1454.8018 - val_mean_squared_error: 4783969.0000 - val_mean_absolute_error: 1454.8018\n",
      "11/11 [==============================] - 1s 34ms/step - loss: 571.4854 - mean_squared_error: 1358437.5000 - mean_absolute_error: 571.4854\n",
      "2/2 [==============================] - 0s 130ms/step - loss: 854.8871 - mean_squared_error: 2162567.2500 - mean_absolute_error: 854.8871\n",
      "_______________________________________STORE_31______________________________________\n",
      "Epoch 1/100\n",
      "WARNING:tensorflow:Model was constructed with shape (None, None, 103) for input KerasTensor(type_spec=TensorSpec(shape=(None, None, 103), dtype=tf.float32, name='dense_1320_input'), name='dense_1320_input', description=\"created by layer 'dense_1320_input'\"), but it was called on an input with incompatible shape (None, 103).\n",
      "WARNING:tensorflow:Model was constructed with shape (None, None, 103) for input KerasTensor(type_spec=TensorSpec(shape=(None, None, 103), dtype=tf.float32, name='dense_1320_input'), name='dense_1320_input', description=\"created by layer 'dense_1320_input'\"), but it was called on an input with incompatible shape (None, 103).\n"
     ]
    },
    {
     "name": "stderr",
     "output_type": "stream",
     "text": [
      "2022-12-17 15:21:37.514292: I tensorflow/core/grappler/optimizers/custom_graph_optimizer_registry.cc:114] Plugin optimizer for device_type GPU is enabled.\n"
     ]
    },
    {
     "name": "stdout",
     "output_type": "stream",
     "text": [
      "33/33 [==============================] - ETA: 0s - loss: 13589.2393 - mean_squared_error: 387699616.0000 - mean_absolute_error: 13589.2393WARNING:tensorflow:Model was constructed with shape (None, None, 103) for input KerasTensor(type_spec=TensorSpec(shape=(None, None, 103), dtype=tf.float32, name='dense_1320_input'), name='dense_1320_input', description=\"created by layer 'dense_1320_input'\"), but it was called on an input with incompatible shape (None, 103).\n"
     ]
    },
    {
     "name": "stderr",
     "output_type": "stream",
     "text": [
      "2022-12-17 15:21:45.608855: I tensorflow/core/grappler/optimizers/custom_graph_optimizer_registry.cc:114] Plugin optimizer for device_type GPU is enabled.\n"
     ]
    },
    {
     "name": "stdout",
     "output_type": "stream",
     "text": [
      "33/33 [==============================] - 10s 142ms/step - loss: 13589.2393 - mean_squared_error: 387699616.0000 - mean_absolute_error: 13589.2393 - val_loss: 10554.5742 - val_mean_squared_error: 192343296.0000 - val_mean_absolute_error: 10554.5732\n",
      "Epoch 2/100\n",
      "33/33 [==============================] - 1s 20ms/step - loss: 9374.7607 - mean_squared_error: 214774064.0000 - mean_absolute_error: 9374.7607 - val_loss: 5190.0186 - val_mean_squared_error: 66942352.0000 - val_mean_absolute_error: 5190.0186\n",
      "Epoch 3/100\n",
      "33/33 [==============================] - 1s 18ms/step - loss: 6204.3813 - mean_squared_error: 116966184.0000 - mean_absolute_error: 6204.3813 - val_loss: 3278.0669 - val_mean_squared_error: 20829508.0000 - val_mean_absolute_error: 3278.0669\n",
      "Epoch 4/100\n",
      "33/33 [==============================] - 1s 19ms/step - loss: 5376.6177 - mean_squared_error: 103610080.0000 - mean_absolute_error: 5376.6177 - val_loss: 2977.9807 - val_mean_squared_error: 14934384.0000 - val_mean_absolute_error: 2977.9807\n",
      "Epoch 5/100\n",
      "33/33 [==============================] - 1s 17ms/step - loss: 5176.9990 - mean_squared_error: 99745128.0000 - mean_absolute_error: 5176.9990 - val_loss: 2917.6472 - val_mean_squared_error: 14646243.0000 - val_mean_absolute_error: 2917.6472\n",
      "Epoch 6/100\n",
      "33/33 [==============================] - 0s 15ms/step - loss: 5068.6035 - mean_squared_error: 97767560.0000 - mean_absolute_error: 5068.6035 - val_loss: 4540.7305 - val_mean_squared_error: 34314400.0000 - val_mean_absolute_error: 4540.7305\n",
      "Epoch 7/100\n",
      "33/33 [==============================] - 0s 14ms/step - loss: 5041.8579 - mean_squared_error: 98990240.0000 - mean_absolute_error: 5041.8579 - val_loss: 2766.7195 - val_mean_squared_error: 12571514.0000 - val_mean_absolute_error: 2766.7195\n",
      "Epoch 8/100\n",
      "33/33 [==============================] - 0s 15ms/step - loss: 5094.2612 - mean_squared_error: 100331256.0000 - mean_absolute_error: 5094.2612 - val_loss: 3849.2742 - val_mean_squared_error: 23010200.0000 - val_mean_absolute_error: 3849.2742\n",
      "Epoch 9/100\n",
      "33/33 [==============================] - 0s 14ms/step - loss: 4792.8940 - mean_squared_error: 90622064.0000 - mean_absolute_error: 4792.8940 - val_loss: 6558.8643 - val_mean_squared_error: 64587748.0000 - val_mean_absolute_error: 6558.8643\n",
      "Epoch 10/100\n",
      "33/33 [==============================] - 1s 15ms/step - loss: 5057.4644 - mean_squared_error: 100603256.0000 - mean_absolute_error: 5057.4644 - val_loss: 5833.2183 - val_mean_squared_error: 52560532.0000 - val_mean_absolute_error: 5833.2183\n",
      "Epoch 11/100\n",
      "33/33 [==============================] - 0s 14ms/step - loss: 4675.1353 - mean_squared_error: 90397584.0000 - mean_absolute_error: 4675.1353 - val_loss: 6098.1538 - val_mean_squared_error: 55543452.0000 - val_mean_absolute_error: 6098.1538\n",
      "11/11 [==============================] - 1s 56ms/step - loss: 4732.8994 - mean_squared_error: 82748312.0000 - mean_absolute_error: 4732.8994\n",
      "2/2 [==============================] - 0s 301ms/step - loss: 4198.8643 - mean_squared_error: 46052888.0000 - mean_absolute_error: 4198.8643\n",
      "_______________________________________STORE_32______________________________________\n",
      "Epoch 1/100\n",
      "WARNING:tensorflow:Model was constructed with shape (None, None, 103) for input KerasTensor(type_spec=TensorSpec(shape=(None, None, 103), dtype=tf.float32, name='dense_1328_input'), name='dense_1328_input', description=\"created by layer 'dense_1328_input'\"), but it was called on an input with incompatible shape (None, 103).\n",
      "WARNING:tensorflow:Model was constructed with shape (None, None, 103) for input KerasTensor(type_spec=TensorSpec(shape=(None, None, 103), dtype=tf.float32, name='dense_1328_input'), name='dense_1328_input', description=\"created by layer 'dense_1328_input'\"), but it was called on an input with incompatible shape (None, 103).\n"
     ]
    },
    {
     "name": "stderr",
     "output_type": "stream",
     "text": [
      "2022-12-17 15:21:54.167404: I tensorflow/core/grappler/optimizers/custom_graph_optimizer_registry.cc:114] Plugin optimizer for device_type GPU is enabled.\n"
     ]
    },
    {
     "name": "stdout",
     "output_type": "stream",
     "text": [
      "33/33 [==============================] - ETA: 0s - loss: 13101.6777 - mean_squared_error: 349746048.0000 - mean_absolute_error: 13101.6777WARNING:tensorflow:Model was constructed with shape (None, None, 103) for input KerasTensor(type_spec=TensorSpec(shape=(None, None, 103), dtype=tf.float32, name='dense_1328_input'), name='dense_1328_input', description=\"created by layer 'dense_1328_input'\"), but it was called on an input with incompatible shape (None, 103).\n"
     ]
    },
    {
     "name": "stderr",
     "output_type": "stream",
     "text": [
      "2022-12-17 15:22:02.476952: I tensorflow/core/grappler/optimizers/custom_graph_optimizer_registry.cc:114] Plugin optimizer for device_type GPU is enabled.\n"
     ]
    },
    {
     "name": "stdout",
     "output_type": "stream",
     "text": [
      "33/33 [==============================] - 10s 147ms/step - loss: 13101.6777 - mean_squared_error: 349746048.0000 - mean_absolute_error: 13101.6777 - val_loss: 11423.7705 - val_mean_squared_error: 182455744.0000 - val_mean_absolute_error: 11423.7705\n",
      "Epoch 2/100\n",
      "33/33 [==============================] - 1s 21ms/step - loss: 9711.0205 - mean_squared_error: 217909344.0000 - mean_absolute_error: 9711.0205 - val_loss: 7761.9741 - val_mean_squared_error: 119718752.0000 - val_mean_absolute_error: 7761.9741\n",
      "Epoch 3/100\n",
      "33/33 [==============================] - 1s 18ms/step - loss: 8203.1582 - mean_squared_error: 177729696.0000 - mean_absolute_error: 8203.1582 - val_loss: 6945.0239 - val_mean_squared_error: 65260744.0000 - val_mean_absolute_error: 6945.0239\n",
      "Epoch 4/100\n",
      "33/33 [==============================] - 1s 17ms/step - loss: 6608.1196 - mean_squared_error: 138286464.0000 - mean_absolute_error: 6608.1196 - val_loss: 4765.5337 - val_mean_squared_error: 40325556.0000 - val_mean_absolute_error: 4765.5337\n",
      "Epoch 5/100\n",
      "33/33 [==============================] - 1s 18ms/step - loss: 5797.9829 - mean_squared_error: 128608408.0000 - mean_absolute_error: 5797.9829 - val_loss: 4063.5596 - val_mean_squared_error: 47443928.0000 - val_mean_absolute_error: 4063.5596\n",
      "Epoch 6/100\n",
      "33/33 [==============================] - 1s 18ms/step - loss: 5967.7388 - mean_squared_error: 134651296.0000 - mean_absolute_error: 5967.7388 - val_loss: 6343.5654 - val_mean_squared_error: 50707388.0000 - val_mean_absolute_error: 6343.5654\n",
      "Epoch 7/100\n",
      "33/33 [==============================] - 0s 14ms/step - loss: 5561.1362 - mean_squared_error: 129756648.0000 - mean_absolute_error: 5561.1362 - val_loss: 5429.4697 - val_mean_squared_error: 44005104.0000 - val_mean_absolute_error: 5429.4697\n",
      "Epoch 8/100\n",
      "33/33 [==============================] - 1s 15ms/step - loss: 5538.8560 - mean_squared_error: 126216264.0000 - mean_absolute_error: 5538.8560 - val_loss: 4706.2148 - val_mean_squared_error: 40239972.0000 - val_mean_absolute_error: 4706.2148\n",
      "Epoch 9/100\n",
      "33/33 [==============================] - 0s 14ms/step - loss: 5489.5952 - mean_squared_error: 128179440.0000 - mean_absolute_error: 5489.5952 - val_loss: 5326.8052 - val_mean_squared_error: 42080516.0000 - val_mean_absolute_error: 5326.8052\n",
      "11/11 [==============================] - 1s 60ms/step - loss: 4689.2075 - mean_squared_error: 121244144.0000 - mean_absolute_error: 4689.2075\n",
      "2/2 [==============================] - 0s 384ms/step - loss: 4948.9629 - mean_squared_error: 90156480.0000 - mean_absolute_error: 4948.9634\n",
      "_______________________________________STORE_33______________________________________\n",
      "Epoch 1/100\n",
      "WARNING:tensorflow:Model was constructed with shape (None, None, 103) for input KerasTensor(type_spec=TensorSpec(shape=(None, None, 103), dtype=tf.float32, name='dense_1336_input'), name='dense_1336_input', description=\"created by layer 'dense_1336_input'\"), but it was called on an input with incompatible shape (None, 103).\n",
      "WARNING:tensorflow:Model was constructed with shape (None, None, 103) for input KerasTensor(type_spec=TensorSpec(shape=(None, None, 103), dtype=tf.float32, name='dense_1336_input'), name='dense_1336_input', description=\"created by layer 'dense_1336_input'\"), but it was called on an input with incompatible shape (None, 103).\n"
     ]
    },
    {
     "name": "stderr",
     "output_type": "stream",
     "text": [
      "2022-12-17 15:22:10.352610: I tensorflow/core/grappler/optimizers/custom_graph_optimizer_registry.cc:114] Plugin optimizer for device_type GPU is enabled.\n"
     ]
    },
    {
     "name": "stdout",
     "output_type": "stream",
     "text": [
      "30/30 [==============================] - ETA: 0s - loss: 2130.9844 - mean_squared_error: 8210030.0000 - mean_absolute_error: 2130.9844WARNING:tensorflow:Model was constructed with shape (None, None, 103) for input KerasTensor(type_spec=TensorSpec(shape=(None, None, 103), dtype=tf.float32, name='dense_1336_input'), name='dense_1336_input', description=\"created by layer 'dense_1336_input'\"), but it was called on an input with incompatible shape (None, 103).\n"
     ]
    },
    {
     "name": "stderr",
     "output_type": "stream",
     "text": [
      "2022-12-17 15:22:20.275788: I tensorflow/core/grappler/optimizers/custom_graph_optimizer_registry.cc:114] Plugin optimizer for device_type GPU is enabled.\n"
     ]
    },
    {
     "name": "stdout",
     "output_type": "stream",
     "text": [
      "30/30 [==============================] - 12s 172ms/step - loss: 2130.9844 - mean_squared_error: 8210030.0000 - mean_absolute_error: 2130.9844 - val_loss: 5879.9858 - val_mean_squared_error: 38745376.0000 - val_mean_absolute_error: 5879.9858\n",
      "Epoch 2/100\n",
      "30/30 [==============================] - 1s 21ms/step - loss: 967.9250 - mean_squared_error: 2614697.5000 - mean_absolute_error: 967.9250 - val_loss: 1706.3156 - val_mean_squared_error: 4520382.5000 - val_mean_absolute_error: 1706.3156\n",
      "Epoch 3/100\n",
      "30/30 [==============================] - 1s 20ms/step - loss: 695.4518 - mean_squared_error: 1258207.7500 - mean_absolute_error: 695.4518 - val_loss: 565.4294 - val_mean_squared_error: 603276.3125 - val_mean_absolute_error: 565.4294\n",
      "Epoch 4/100\n",
      "30/30 [==============================] - 1s 22ms/step - loss: 609.7654 - mean_squared_error: 985107.5000 - mean_absolute_error: 609.7654 - val_loss: 340.5382 - val_mean_squared_error: 243556.1562 - val_mean_absolute_error: 340.5382\n",
      "Epoch 5/100\n",
      "30/30 [==============================] - 1s 19ms/step - loss: 604.6112 - mean_squared_error: 1022686.0000 - mean_absolute_error: 604.6112 - val_loss: 359.2027 - val_mean_squared_error: 271153.0625 - val_mean_absolute_error: 359.2027\n",
      "Epoch 6/100\n",
      "30/30 [==============================] - 0s 14ms/step - loss: 529.7729 - mean_squared_error: 754864.0000 - mean_absolute_error: 529.7729 - val_loss: 801.7280 - val_mean_squared_error: 1130267.0000 - val_mean_absolute_error: 801.7280\n",
      "Epoch 7/100\n",
      "30/30 [==============================] - 1s 19ms/step - loss: 529.6503 - mean_squared_error: 807278.8125 - mean_absolute_error: 529.6503 - val_loss: 836.8918 - val_mean_squared_error: 1370164.0000 - val_mean_absolute_error: 836.8918\n",
      "Epoch 8/100\n",
      "30/30 [==============================] - 0s 15ms/step - loss: 547.7307 - mean_squared_error: 864621.2500 - mean_absolute_error: 547.7307 - val_loss: 449.4475 - val_mean_squared_error: 413566.5625 - val_mean_absolute_error: 449.4475\n",
      "10/10 [==============================] - 1s 19ms/step - loss: 823.4989 - mean_squared_error: 1404680.3750 - mean_absolute_error: 823.4989\n",
      "2/2 [==============================] - 0s 307ms/step - loss: 357.4687 - mean_squared_error: 311852.3438 - mean_absolute_error: 357.4687\n",
      "_______________________________________STORE_34______________________________________\n",
      "Epoch 1/100\n",
      "WARNING:tensorflow:Model was constructed with shape (None, None, 103) for input KerasTensor(type_spec=TensorSpec(shape=(None, None, 103), dtype=tf.float32, name='dense_1344_input'), name='dense_1344_input', description=\"created by layer 'dense_1344_input'\"), but it was called on an input with incompatible shape (None, 103).\n",
      "WARNING:tensorflow:Model was constructed with shape (None, None, 103) for input KerasTensor(type_spec=TensorSpec(shape=(None, None, 103), dtype=tf.float32, name='dense_1344_input'), name='dense_1344_input', description=\"created by layer 'dense_1344_input'\"), but it was called on an input with incompatible shape (None, 103).\n"
     ]
    },
    {
     "name": "stderr",
     "output_type": "stream",
     "text": [
      "2022-12-17 15:22:27.664595: I tensorflow/core/grappler/optimizers/custom_graph_optimizer_registry.cc:114] Plugin optimizer for device_type GPU is enabled.\n"
     ]
    },
    {
     "name": "stdout",
     "output_type": "stream",
     "text": [
      "33/33 [==============================] - ETA: 0s - loss: 10052.0107 - mean_squared_error: 181892752.0000 - mean_absolute_error: 10052.0107WARNING:tensorflow:Model was constructed with shape (None, None, 103) for input KerasTensor(type_spec=TensorSpec(shape=(None, None, 103), dtype=tf.float32, name='dense_1344_input'), name='dense_1344_input', description=\"created by layer 'dense_1344_input'\"), but it was called on an input with incompatible shape (None, 103).\n"
     ]
    },
    {
     "name": "stderr",
     "output_type": "stream",
     "text": [
      "2022-12-17 15:22:36.226773: I tensorflow/core/grappler/optimizers/custom_graph_optimizer_registry.cc:114] Plugin optimizer for device_type GPU is enabled.\n"
     ]
    },
    {
     "name": "stdout",
     "output_type": "stream",
     "text": [
      "33/33 [==============================] - 11s 163ms/step - loss: 10052.0107 - mean_squared_error: 181892752.0000 - mean_absolute_error: 10052.0107 - val_loss: 7083.9790 - val_mean_squared_error: 78058208.0000 - val_mean_absolute_error: 7083.9790\n",
      "Epoch 2/100\n",
      "33/33 [==============================] - 1s 20ms/step - loss: 6674.3232 - mean_squared_error: 93988464.0000 - mean_absolute_error: 6674.3232 - val_loss: 4946.7256 - val_mean_squared_error: 37245748.0000 - val_mean_absolute_error: 4946.7256\n",
      "Epoch 3/100\n",
      "33/33 [==============================] - 1s 19ms/step - loss: 5080.6816 - mean_squared_error: 72673984.0000 - mean_absolute_error: 5080.6816 - val_loss: 5882.5352 - val_mean_squared_error: 43116728.0000 - val_mean_absolute_error: 5882.5352\n",
      "Epoch 4/100\n",
      "33/33 [==============================] - 1s 17ms/step - loss: 4884.7744 - mean_squared_error: 71047944.0000 - mean_absolute_error: 4884.7744 - val_loss: 4539.3940 - val_mean_squared_error: 28330790.0000 - val_mean_absolute_error: 4539.3940\n",
      "Epoch 5/100\n",
      "33/33 [==============================] - 0s 14ms/step - loss: 4758.8794 - mean_squared_error: 67388832.0000 - mean_absolute_error: 4758.8794 - val_loss: 4847.4502 - val_mean_squared_error: 37129204.0000 - val_mean_absolute_error: 4847.4502\n",
      "Epoch 6/100\n",
      "33/33 [==============================] - 1s 16ms/step - loss: 4672.6045 - mean_squared_error: 70766968.0000 - mean_absolute_error: 4672.6045 - val_loss: 5077.0459 - val_mean_squared_error: 32790680.0000 - val_mean_absolute_error: 5077.0449\n",
      "Epoch 7/100\n",
      "33/33 [==============================] - 1s 17ms/step - loss: 4800.5127 - mean_squared_error: 70201672.0000 - mean_absolute_error: 4800.5127 - val_loss: 5111.9028 - val_mean_squared_error: 34526656.0000 - val_mean_absolute_error: 5111.9028\n",
      "Epoch 8/100\n",
      "33/33 [==============================] - 0s 14ms/step - loss: 4558.4136 - mean_squared_error: 63139160.0000 - mean_absolute_error: 4558.4136 - val_loss: 4744.7148 - val_mean_squared_error: 29892060.0000 - val_mean_absolute_error: 4744.7148\n",
      "11/11 [==============================] - 1s 28ms/step - loss: 4822.0146 - mean_squared_error: 58028012.0000 - mean_absolute_error: 4822.0146\n",
      "2/2 [==============================] - 0s 129ms/step - loss: 4590.7642 - mean_squared_error: 38017868.0000 - mean_absolute_error: 4590.7642\n",
      "_______________________________________STORE_35______________________________________\n",
      "Epoch 1/100\n",
      "WARNING:tensorflow:Model was constructed with shape (None, None, 103) for input KerasTensor(type_spec=TensorSpec(shape=(None, None, 103), dtype=tf.float32, name='dense_1352_input'), name='dense_1352_input', description=\"created by layer 'dense_1352_input'\"), but it was called on an input with incompatible shape (None, 103).\n",
      "WARNING:tensorflow:Model was constructed with shape (None, None, 103) for input KerasTensor(type_spec=TensorSpec(shape=(None, None, 103), dtype=tf.float32, name='dense_1352_input'), name='dense_1352_input', description=\"created by layer 'dense_1352_input'\"), but it was called on an input with incompatible shape (None, 103).\n"
     ]
    },
    {
     "name": "stderr",
     "output_type": "stream",
     "text": [
      "2022-12-17 15:22:43.442358: I tensorflow/core/grappler/optimizers/custom_graph_optimizer_registry.cc:114] Plugin optimizer for device_type GPU is enabled.\n"
     ]
    },
    {
     "name": "stdout",
     "output_type": "stream",
     "text": [
      "33/33 [==============================] - ETA: 0s - loss: 11925.9131 - mean_squared_error: 350912320.0000 - mean_absolute_error: 11925.9131WARNING:tensorflow:Model was constructed with shape (None, None, 103) for input KerasTensor(type_spec=TensorSpec(shape=(None, None, 103), dtype=tf.float32, name='dense_1352_input'), name='dense_1352_input', description=\"created by layer 'dense_1352_input'\"), but it was called on an input with incompatible shape (None, 103).\n"
     ]
    },
    {
     "name": "stderr",
     "output_type": "stream",
     "text": [
      "2022-12-17 15:22:50.308795: I tensorflow/core/grappler/optimizers/custom_graph_optimizer_registry.cc:114] Plugin optimizer for device_type GPU is enabled.\n"
     ]
    },
    {
     "name": "stdout",
     "output_type": "stream",
     "text": [
      "33/33 [==============================] - 8s 156ms/step - loss: 11925.9131 - mean_squared_error: 350912320.0000 - mean_absolute_error: 11925.9131 - val_loss: 7746.3745 - val_mean_squared_error: 130344048.0000 - val_mean_absolute_error: 7746.3745\n",
      "Epoch 2/100\n",
      "33/33 [==============================] - 1s 20ms/step - loss: 8682.2451 - mean_squared_error: 227806160.0000 - mean_absolute_error: 8682.2451 - val_loss: 5644.0601 - val_mean_squared_error: 65416252.0000 - val_mean_absolute_error: 5644.0601\n",
      "Epoch 3/100\n",
      "33/33 [==============================] - 1s 20ms/step - loss: 7161.7319 - mean_squared_error: 194179648.0000 - mean_absolute_error: 7161.7319 - val_loss: 3720.7449 - val_mean_squared_error: 31450156.0000 - val_mean_absolute_error: 3720.7449\n",
      "Epoch 4/100\n",
      "33/33 [==============================] - 1s 19ms/step - loss: 6937.0903 - mean_squared_error: 187768624.0000 - mean_absolute_error: 6937.0903 - val_loss: 7565.3691 - val_mean_squared_error: 96371232.0000 - val_mean_absolute_error: 7565.3691\n",
      "Epoch 5/100\n",
      "33/33 [==============================] - 1s 17ms/step - loss: 6619.8628 - mean_squared_error: 181537488.0000 - mean_absolute_error: 6619.8628 - val_loss: 4648.8545 - val_mean_squared_error: 47354016.0000 - val_mean_absolute_error: 4648.8545\n",
      "Epoch 6/100\n",
      "33/33 [==============================] - 1s 16ms/step - loss: 6595.5640 - mean_squared_error: 183326640.0000 - mean_absolute_error: 6595.5640 - val_loss: 4557.6523 - val_mean_squared_error: 44500120.0000 - val_mean_absolute_error: 4557.6523\n",
      "Epoch 7/100\n",
      "33/33 [==============================] - 1s 15ms/step - loss: 6345.5894 - mean_squared_error: 176863728.0000 - mean_absolute_error: 6345.5894 - val_loss: 4439.2217 - val_mean_squared_error: 43203644.0000 - val_mean_absolute_error: 4439.2217\n",
      "11/11 [==============================] - 1s 40ms/step - loss: 6065.8726 - mean_squared_error: 160360224.0000 - mean_absolute_error: 6065.8726\n",
      "2/2 [==============================] - 0s 237ms/step - loss: 5740.2720 - mean_squared_error: 108951296.0000 - mean_absolute_error: 5740.2720\n",
      "_______________________________________STORE_36______________________________________\n",
      "Epoch 1/100\n",
      "WARNING:tensorflow:Model was constructed with shape (None, None, 103) for input KerasTensor(type_spec=TensorSpec(shape=(None, None, 103), dtype=tf.float32, name='dense_1360_input'), name='dense_1360_input', description=\"created by layer 'dense_1360_input'\"), but it was called on an input with incompatible shape (None, 103).\n",
      "WARNING:tensorflow:Model was constructed with shape (None, None, 103) for input KerasTensor(type_spec=TensorSpec(shape=(None, None, 103), dtype=tf.float32, name='dense_1360_input'), name='dense_1360_input', description=\"created by layer 'dense_1360_input'\"), but it was called on an input with incompatible shape (None, 103).\n"
     ]
    },
    {
     "name": "stderr",
     "output_type": "stream",
     "text": [
      "2022-12-17 15:22:56.613065: I tensorflow/core/grappler/optimizers/custom_graph_optimizer_registry.cc:114] Plugin optimizer for device_type GPU is enabled.\n"
     ]
    },
    {
     "name": "stdout",
     "output_type": "stream",
     "text": [
      "28/28 [==============================] - ETA: 0s - loss: 3294.2419 - mean_squared_error: 26070338.0000 - mean_absolute_error: 3294.2419WARNING:tensorflow:Model was constructed with shape (None, None, 103) for input KerasTensor(type_spec=TensorSpec(shape=(None, None, 103), dtype=tf.float32, name='dense_1360_input'), name='dense_1360_input', description=\"created by layer 'dense_1360_input'\"), but it was called on an input with incompatible shape (None, 103).\n"
     ]
    },
    {
     "name": "stderr",
     "output_type": "stream",
     "text": [
      "2022-12-17 15:23:04.834042: I tensorflow/core/grappler/optimizers/custom_graph_optimizer_registry.cc:114] Plugin optimizer for device_type GPU is enabled.\n"
     ]
    },
    {
     "name": "stdout",
     "output_type": "stream",
     "text": [
      "28/28 [==============================] - 10s 220ms/step - loss: 3294.2419 - mean_squared_error: 26070338.0000 - mean_absolute_error: 3294.2419 - val_loss: 838.2094 - val_mean_squared_error: 1501986.2500 - val_mean_absolute_error: 838.2094\n",
      "Epoch 2/100\n",
      "28/28 [==============================] - 1s 18ms/step - loss: 1376.5767 - mean_squared_error: 5006067.0000 - mean_absolute_error: 1376.5767 - val_loss: 978.3151 - val_mean_squared_error: 2057300.3750 - val_mean_absolute_error: 978.3151\n",
      "Epoch 3/100\n",
      "28/28 [==============================] - 1s 22ms/step - loss: 1006.3021 - mean_squared_error: 2740260.7500 - mean_absolute_error: 1006.3021 - val_loss: 909.3815 - val_mean_squared_error: 1962742.3750 - val_mean_absolute_error: 909.3815\n",
      "Epoch 4/100\n",
      "28/28 [==============================] - 0s 17ms/step - loss: 1048.4171 - mean_squared_error: 2948873.5000 - mean_absolute_error: 1048.4171 - val_loss: 594.2904 - val_mean_squared_error: 922863.8125 - val_mean_absolute_error: 594.2904\n",
      "Epoch 5/100\n",
      "28/28 [==============================] - 0s 17ms/step - loss: 951.4008 - mean_squared_error: 2333541.2500 - mean_absolute_error: 951.4008 - val_loss: 940.8477 - val_mean_squared_error: 2526376.7500 - val_mean_absolute_error: 940.8477\n",
      "Epoch 6/100\n",
      "28/28 [==============================] - 0s 17ms/step - loss: 871.6395 - mean_squared_error: 2162883.7500 - mean_absolute_error: 871.6395 - val_loss: 705.6046 - val_mean_squared_error: 1379599.8750 - val_mean_absolute_error: 705.6046\n",
      "Epoch 7/100\n",
      "28/28 [==============================] - 0s 14ms/step - loss: 822.0091 - mean_squared_error: 1810130.3750 - mean_absolute_error: 822.0091 - val_loss: 569.3614 - val_mean_squared_error: 681786.5625 - val_mean_absolute_error: 569.3614\n",
      "Epoch 8/100\n",
      "28/28 [==============================] - 0s 16ms/step - loss: 806.6595 - mean_squared_error: 1832856.2500 - mean_absolute_error: 806.6595 - val_loss: 1241.6700 - val_mean_squared_error: 4061300.5000 - val_mean_absolute_error: 1241.6700\n",
      "9/9 [==============================] - 1s 44ms/step - loss: 937.8427 - mean_squared_error: 2116553.2500 - mean_absolute_error: 937.8427\n",
      "2/2 [==============================] - 0s 445ms/step - loss: 521.9224 - mean_squared_error: 690968.6875 - mean_absolute_error: 521.9224\n",
      "_______________________________________STORE_37______________________________________\n",
      "Epoch 1/100\n",
      "WARNING:tensorflow:Model was constructed with shape (None, None, 103) for input KerasTensor(type_spec=TensorSpec(shape=(None, None, 103), dtype=tf.float32, name='dense_1368_input'), name='dense_1368_input', description=\"created by layer 'dense_1368_input'\"), but it was called on an input with incompatible shape (None, 103).\n",
      "WARNING:tensorflow:Model was constructed with shape (None, None, 103) for input KerasTensor(type_spec=TensorSpec(shape=(None, None, 103), dtype=tf.float32, name='dense_1368_input'), name='dense_1368_input', description=\"created by layer 'dense_1368_input'\"), but it was called on an input with incompatible shape (None, 103).\n"
     ]
    },
    {
     "name": "stderr",
     "output_type": "stream",
     "text": [
      "2022-12-17 15:23:11.778417: I tensorflow/core/grappler/optimizers/custom_graph_optimizer_registry.cc:114] Plugin optimizer for device_type GPU is enabled.\n"
     ]
    },
    {
     "name": "stdout",
     "output_type": "stream",
     "text": [
      "33/33 [==============================] - ETA: 0s - loss: 5408.0894 - mean_squared_error: 56656448.0000 - mean_absolute_error: 5408.0894WARNING:tensorflow:Model was constructed with shape (None, None, 103) for input KerasTensor(type_spec=TensorSpec(shape=(None, None, 103), dtype=tf.float32, name='dense_1368_input'), name='dense_1368_input', description=\"created by layer 'dense_1368_input'\"), but it was called on an input with incompatible shape (None, 103).\n"
     ]
    },
    {
     "name": "stderr",
     "output_type": "stream",
     "text": [
      "2022-12-17 15:23:18.652008: I tensorflow/core/grappler/optimizers/custom_graph_optimizer_registry.cc:114] Plugin optimizer for device_type GPU is enabled.\n"
     ]
    },
    {
     "name": "stdout",
     "output_type": "stream",
     "text": [
      "33/33 [==============================] - 9s 180ms/step - loss: 5408.0894 - mean_squared_error: 56656448.0000 - mean_absolute_error: 5408.0894 - val_loss: 1732.1743 - val_mean_squared_error: 4603988.0000 - val_mean_absolute_error: 1732.1743\n",
      "Epoch 2/100\n",
      "33/33 [==============================] - 1s 23ms/step - loss: 1890.1552 - mean_squared_error: 9663257.0000 - mean_absolute_error: 1890.1552 - val_loss: 2196.8196 - val_mean_squared_error: 9208651.0000 - val_mean_absolute_error: 2196.8196\n",
      "Epoch 3/100\n",
      "33/33 [==============================] - 1s 19ms/step - loss: 1579.5740 - mean_squared_error: 7141112.0000 - mean_absolute_error: 1579.5740 - val_loss: 615.4219 - val_mean_squared_error: 826870.2500 - val_mean_absolute_error: 615.4219\n",
      "Epoch 4/100\n",
      "33/33 [==============================] - 1s 17ms/step - loss: 1462.2576 - mean_squared_error: 6173308.0000 - mean_absolute_error: 1462.2576 - val_loss: 1556.5756 - val_mean_squared_error: 4879574.0000 - val_mean_absolute_error: 1556.5756\n",
      "Epoch 5/100\n",
      "33/33 [==============================] - 1s 15ms/step - loss: 1449.1862 - mean_squared_error: 6030265.5000 - mean_absolute_error: 1449.1862 - val_loss: 1628.5083 - val_mean_squared_error: 5444388.5000 - val_mean_absolute_error: 1628.5083\n",
      "Epoch 6/100\n",
      "33/33 [==============================] - 1s 16ms/step - loss: 1357.1792 - mean_squared_error: 5512084.5000 - mean_absolute_error: 1357.1792 - val_loss: 800.9136 - val_mean_squared_error: 1457059.7500 - val_mean_absolute_error: 800.9136\n",
      "Epoch 7/100\n",
      "33/33 [==============================] - 0s 15ms/step - loss: 1266.5862 - mean_squared_error: 4847889.0000 - mean_absolute_error: 1266.5862 - val_loss: 2329.0264 - val_mean_squared_error: 9206155.0000 - val_mean_absolute_error: 2329.0261\n",
      "11/11 [==============================] - 1s 56ms/step - loss: 980.1818 - mean_squared_error: 2921068.2500 - mean_absolute_error: 980.1818\n",
      "2/2 [==============================] - 1s 759ms/step - loss: 1438.2767 - mean_squared_error: 7320602.5000 - mean_absolute_error: 1438.2767\n",
      "_______________________________________STORE_38______________________________________\n",
      "Epoch 1/100\n",
      "WARNING:tensorflow:Model was constructed with shape (None, None, 103) for input KerasTensor(type_spec=TensorSpec(shape=(None, None, 103), dtype=tf.float32, name='dense_1376_input'), name='dense_1376_input', description=\"created by layer 'dense_1376_input'\"), but it was called on an input with incompatible shape (None, 103).\n",
      "WARNING:tensorflow:Model was constructed with shape (None, None, 103) for input KerasTensor(type_spec=TensorSpec(shape=(None, None, 103), dtype=tf.float32, name='dense_1376_input'), name='dense_1376_input', description=\"created by layer 'dense_1376_input'\"), but it was called on an input with incompatible shape (None, 103).\n"
     ]
    },
    {
     "name": "stderr",
     "output_type": "stream",
     "text": [
      "2022-12-17 15:23:25.929060: I tensorflow/core/grappler/optimizers/custom_graph_optimizer_registry.cc:114] Plugin optimizer for device_type GPU is enabled.\n"
     ]
    },
    {
     "name": "stdout",
     "output_type": "stream",
     "text": [
      "33/33 [==============================] - ETA: 0s - loss: 3924.4731 - mean_squared_error: 29493320.0000 - mean_absolute_error: 3924.4731WARNING:tensorflow:Model was constructed with shape (None, None, 103) for input KerasTensor(type_spec=TensorSpec(shape=(None, None, 103), dtype=tf.float32, name='dense_1376_input'), name='dense_1376_input', description=\"created by layer 'dense_1376_input'\"), but it was called on an input with incompatible shape (None, 103).\n"
     ]
    },
    {
     "name": "stderr",
     "output_type": "stream",
     "text": [
      "2022-12-17 15:23:35.173623: I tensorflow/core/grappler/optimizers/custom_graph_optimizer_registry.cc:114] Plugin optimizer for device_type GPU is enabled.\n"
     ]
    },
    {
     "name": "stdout",
     "output_type": "stream",
     "text": [
      "33/33 [==============================] - 12s 186ms/step - loss: 3924.4731 - mean_squared_error: 29493320.0000 - mean_absolute_error: 3924.4731 - val_loss: 2219.2009 - val_mean_squared_error: 5933015.5000 - val_mean_absolute_error: 2219.2009\n",
      "Epoch 2/100\n",
      "33/33 [==============================] - 1s 17ms/step - loss: 1494.9045 - mean_squared_error: 5784482.0000 - mean_absolute_error: 1494.9045 - val_loss: 708.3685 - val_mean_squared_error: 1179735.1250 - val_mean_absolute_error: 708.3685\n",
      "Epoch 3/100\n",
      "33/33 [==============================] - 1s 17ms/step - loss: 1063.8088 - mean_squared_error: 3025274.5000 - mean_absolute_error: 1063.8088 - val_loss: 1243.2826 - val_mean_squared_error: 3518676.5000 - val_mean_absolute_error: 1243.2826\n",
      "Epoch 4/100\n",
      "33/33 [==============================] - 1s 15ms/step - loss: 1005.7057 - mean_squared_error: 2779760.0000 - mean_absolute_error: 1005.7057 - val_loss: 1296.0144 - val_mean_squared_error: 3828073.2500 - val_mean_absolute_error: 1296.0144\n",
      "Epoch 5/100\n",
      "33/33 [==============================] - 1s 21ms/step - loss: 956.1796 - mean_squared_error: 2625985.0000 - mean_absolute_error: 956.1796 - val_loss: 923.6467 - val_mean_squared_error: 1730629.5000 - val_mean_absolute_error: 923.6467\n",
      "Epoch 6/100\n",
      "33/33 [==============================] - 1s 17ms/step - loss: 913.8804 - mean_squared_error: 2326027.7500 - mean_absolute_error: 913.8804 - val_loss: 1064.8159 - val_mean_squared_error: 2514893.5000 - val_mean_absolute_error: 1064.8159\n",
      "11/11 [==============================] - 1s 71ms/step - loss: 603.6534 - mean_squared_error: 983886.0625 - mean_absolute_error: 603.6534\n",
      "2/2 [==============================] - 0s 321ms/step - loss: 1327.8240 - mean_squared_error: 4850644.5000 - mean_absolute_error: 1327.8240\n",
      "_______________________________________STORE_39______________________________________\n",
      "Epoch 1/100\n",
      "WARNING:tensorflow:Model was constructed with shape (None, None, 103) for input KerasTensor(type_spec=TensorSpec(shape=(None, None, 103), dtype=tf.float32, name='dense_1384_input'), name='dense_1384_input', description=\"created by layer 'dense_1384_input'\"), but it was called on an input with incompatible shape (None, 103).\n",
      "WARNING:tensorflow:Model was constructed with shape (None, None, 103) for input KerasTensor(type_spec=TensorSpec(shape=(None, None, 103), dtype=tf.float32, name='dense_1384_input'), name='dense_1384_input', description=\"created by layer 'dense_1384_input'\"), but it was called on an input with incompatible shape (None, 103).\n"
     ]
    },
    {
     "name": "stderr",
     "output_type": "stream",
     "text": [
      "2022-12-17 15:23:42.113127: I tensorflow/core/grappler/optimizers/custom_graph_optimizer_registry.cc:114] Plugin optimizer for device_type GPU is enabled.\n"
     ]
    },
    {
     "name": "stdout",
     "output_type": "stream",
     "text": [
      "33/33 [==============================] - ETA: 0s - loss: 17847.2969 - mean_squared_error: 642125312.0000 - mean_absolute_error: 17847.2969WARNING:tensorflow:Model was constructed with shape (None, None, 103) for input KerasTensor(type_spec=TensorSpec(shape=(None, None, 103), dtype=tf.float32, name='dense_1384_input'), name='dense_1384_input', description=\"created by layer 'dense_1384_input'\"), but it was called on an input with incompatible shape (None, 103).\n"
     ]
    },
    {
     "name": "stderr",
     "output_type": "stream",
     "text": [
      "2022-12-17 15:23:48.851570: I tensorflow/core/grappler/optimizers/custom_graph_optimizer_registry.cc:114] Plugin optimizer for device_type GPU is enabled.\n"
     ]
    },
    {
     "name": "stdout",
     "output_type": "stream",
     "text": [
      "33/33 [==============================] - 9s 183ms/step - loss: 17847.2969 - mean_squared_error: 642125312.0000 - mean_absolute_error: 17847.2969 - val_loss: 15984.8896 - val_mean_squared_error: 445121856.0000 - val_mean_absolute_error: 15984.8896\n",
      "Epoch 2/100\n",
      "33/33 [==============================] - 1s 38ms/step - loss: 11449.2939 - mean_squared_error: 354063424.0000 - mean_absolute_error: 11449.2939 - val_loss: 17162.9492 - val_mean_squared_error: 498255712.0000 - val_mean_absolute_error: 17162.9492\n",
      "Epoch 3/100\n",
      "33/33 [==============================] - 1s 17ms/step - loss: 9195.1826 - mean_squared_error: 291670240.0000 - mean_absolute_error: 9195.1826 - val_loss: 24076.4590 - val_mean_squared_error: 1106083968.0000 - val_mean_absolute_error: 24076.4590\n",
      "Epoch 4/100\n",
      "33/33 [==============================] - 1s 17ms/step - loss: 8484.8984 - mean_squared_error: 265321040.0000 - mean_absolute_error: 8484.8984 - val_loss: 23386.6055 - val_mean_squared_error: 956903936.0000 - val_mean_absolute_error: 23386.6055\n",
      "Epoch 5/100\n",
      "33/33 [==============================] - 1s 19ms/step - loss: 8434.0996 - mean_squared_error: 259266288.0000 - mean_absolute_error: 8434.0996 - val_loss: 10258.5410 - val_mean_squared_error: 193944576.0000 - val_mean_absolute_error: 10258.5410\n",
      "Epoch 6/100\n",
      "33/33 [==============================] - 1s 15ms/step - loss: 8154.1294 - mean_squared_error: 258384000.0000 - mean_absolute_error: 8154.1294 - val_loss: 9559.8105 - val_mean_squared_error: 144780576.0000 - val_mean_absolute_error: 9559.8105\n",
      "Epoch 7/100\n",
      "33/33 [==============================] - 0s 14ms/step - loss: 7919.5234 - mean_squared_error: 263967136.0000 - mean_absolute_error: 7919.5234 - val_loss: 16059.1230 - val_mean_squared_error: 420548416.0000 - val_mean_absolute_error: 16059.1230\n",
      "Epoch 8/100\n",
      "33/33 [==============================] - 0s 15ms/step - loss: 8363.5215 - mean_squared_error: 269217920.0000 - mean_absolute_error: 8363.5215 - val_loss: 13843.1377 - val_mean_squared_error: 352530272.0000 - val_mean_absolute_error: 13843.1377\n",
      "Epoch 9/100\n",
      "33/33 [==============================] - 0s 14ms/step - loss: 7884.6680 - mean_squared_error: 256199568.0000 - mean_absolute_error: 7884.6680 - val_loss: 12566.8438 - val_mean_squared_error: 256454864.0000 - val_mean_absolute_error: 12566.8438\n",
      "Epoch 10/100\n",
      "33/33 [==============================] - 0s 14ms/step - loss: 7746.1372 - mean_squared_error: 248169184.0000 - mean_absolute_error: 7746.1372 - val_loss: 19175.3008 - val_mean_squared_error: 681071616.0000 - val_mean_absolute_error: 19175.3008\n",
      "11/11 [==============================] - 1s 42ms/step - loss: 7910.8550 - mean_squared_error: 272598944.0000 - mean_absolute_error: 7910.8550\n",
      "2/2 [==============================] - 0s 259ms/step - loss: 10997.9561 - mean_squared_error: 346135904.0000 - mean_absolute_error: 10997.9561\n",
      "_______________________________________STORE_40______________________________________\n",
      "Epoch 1/100\n",
      "WARNING:tensorflow:Model was constructed with shape (None, None, 103) for input KerasTensor(type_spec=TensorSpec(shape=(None, None, 103), dtype=tf.float32, name='dense_1392_input'), name='dense_1392_input', description=\"created by layer 'dense_1392_input'\"), but it was called on an input with incompatible shape (None, 103).\n",
      "WARNING:tensorflow:Model was constructed with shape (None, None, 103) for input KerasTensor(type_spec=TensorSpec(shape=(None, None, 103), dtype=tf.float32, name='dense_1392_input'), name='dense_1392_input', description=\"created by layer 'dense_1392_input'\"), but it was called on an input with incompatible shape (None, 103).\n"
     ]
    },
    {
     "name": "stderr",
     "output_type": "stream",
     "text": [
      "2022-12-17 15:23:58.131189: I tensorflow/core/grappler/optimizers/custom_graph_optimizer_registry.cc:114] Plugin optimizer for device_type GPU is enabled.\n"
     ]
    },
    {
     "name": "stdout",
     "output_type": "stream",
     "text": [
      "33/33 [==============================] - ETA: 0s - loss: 10530.9512 - mean_squared_error: 187473248.0000 - mean_absolute_error: 10530.9512WARNING:tensorflow:Model was constructed with shape (None, None, 103) for input KerasTensor(type_spec=TensorSpec(shape=(None, None, 103), dtype=tf.float32, name='dense_1392_input'), name='dense_1392_input', description=\"created by layer 'dense_1392_input'\"), but it was called on an input with incompatible shape (None, 103).\n"
     ]
    },
    {
     "name": "stderr",
     "output_type": "stream",
     "text": [
      "2022-12-17 15:24:05.252363: I tensorflow/core/grappler/optimizers/custom_graph_optimizer_registry.cc:114] Plugin optimizer for device_type GPU is enabled.\n"
     ]
    },
    {
     "name": "stdout",
     "output_type": "stream",
     "text": [
      "33/33 [==============================] - 9s 186ms/step - loss: 10530.9512 - mean_squared_error: 187473248.0000 - mean_absolute_error: 10530.9512 - val_loss: 7965.2549 - val_mean_squared_error: 84201152.0000 - val_mean_absolute_error: 7965.2549\n",
      "Epoch 2/100\n",
      "33/33 [==============================] - 1s 23ms/step - loss: 7149.9697 - mean_squared_error: 93599672.0000 - mean_absolute_error: 7149.9697 - val_loss: 6303.4160 - val_mean_squared_error: 58454292.0000 - val_mean_absolute_error: 6303.4160\n",
      "Epoch 3/100\n",
      "33/33 [==============================] - 1s 24ms/step - loss: 5249.2397 - mean_squared_error: 70209816.0000 - mean_absolute_error: 5249.2397 - val_loss: 4204.3120 - val_mean_squared_error: 29829966.0000 - val_mean_absolute_error: 4204.3120\n",
      "Epoch 4/100\n",
      "33/33 [==============================] - 1s 16ms/step - loss: 4898.7134 - mean_squared_error: 64795076.0000 - mean_absolute_error: 4898.7134 - val_loss: 6727.7930 - val_mean_squared_error: 54176096.0000 - val_mean_absolute_error: 6727.7930\n",
      "Epoch 5/100\n",
      "33/33 [==============================] - 1s 18ms/step - loss: 4789.7764 - mean_squared_error: 61850440.0000 - mean_absolute_error: 4789.7764 - val_loss: 4913.2461 - val_mean_squared_error: 34233692.0000 - val_mean_absolute_error: 4913.2461\n",
      "Epoch 6/100\n",
      "33/33 [==============================] - 1s 17ms/step - loss: 4642.6353 - mean_squared_error: 59246828.0000 - mean_absolute_error: 4642.6353 - val_loss: 3814.6042 - val_mean_squared_error: 24188218.0000 - val_mean_absolute_error: 3814.6042\n",
      "Epoch 7/100\n",
      "33/33 [==============================] - 0s 14ms/step - loss: 4636.7441 - mean_squared_error: 60356508.0000 - mean_absolute_error: 4636.7441 - val_loss: 4883.9404 - val_mean_squared_error: 33140838.0000 - val_mean_absolute_error: 4883.9404\n",
      "Epoch 8/100\n",
      "33/33 [==============================] - 1s 16ms/step - loss: 4440.1855 - mean_squared_error: 57430796.0000 - mean_absolute_error: 4440.1855 - val_loss: 5682.0127 - val_mean_squared_error: 41705104.0000 - val_mean_absolute_error: 5682.0127\n",
      "Epoch 9/100\n",
      "33/33 [==============================] - 1s 18ms/step - loss: 4444.3867 - mean_squared_error: 58449448.0000 - mean_absolute_error: 4444.3867 - val_loss: 4197.2549 - val_mean_squared_error: 34517040.0000 - val_mean_absolute_error: 4197.2549\n",
      "Epoch 10/100\n",
      "33/33 [==============================] - 1s 16ms/step - loss: 4549.5586 - mean_squared_error: 59701488.0000 - mean_absolute_error: 4549.5586 - val_loss: 4373.2651 - val_mean_squared_error: 35378908.0000 - val_mean_absolute_error: 4373.2651\n",
      "11/11 [==============================] - 1s 71ms/step - loss: 3695.9456 - mean_squared_error: 52831108.0000 - mean_absolute_error: 3695.9456\n",
      "2/2 [==============================] - 0s 477ms/step - loss: 2882.6550 - mean_squared_error: 13081272.0000 - mean_absolute_error: 2882.6550\n",
      "_______________________________________STORE_41______________________________________\n",
      "Epoch 1/100\n",
      "WARNING:tensorflow:Model was constructed with shape (None, None, 103) for input KerasTensor(type_spec=TensorSpec(shape=(None, None, 103), dtype=tf.float32, name='dense_1400_input'), name='dense_1400_input', description=\"created by layer 'dense_1400_input'\"), but it was called on an input with incompatible shape (None, 103).\n",
      "WARNING:tensorflow:Model was constructed with shape (None, None, 103) for input KerasTensor(type_spec=TensorSpec(shape=(None, None, 103), dtype=tf.float32, name='dense_1400_input'), name='dense_1400_input', description=\"created by layer 'dense_1400_input'\"), but it was called on an input with incompatible shape (None, 103).\n"
     ]
    },
    {
     "name": "stderr",
     "output_type": "stream",
     "text": [
      "2022-12-17 15:24:14.593302: I tensorflow/core/grappler/optimizers/custom_graph_optimizer_registry.cc:114] Plugin optimizer for device_type GPU is enabled.\n"
     ]
    },
    {
     "name": "stdout",
     "output_type": "stream",
     "text": [
      "33/33 [==============================] - ETA: 0s - loss: 14585.0225 - mean_squared_error: 433166112.0000 - mean_absolute_error: 14585.0225WARNING:tensorflow:Model was constructed with shape (None, None, 103) for input KerasTensor(type_spec=TensorSpec(shape=(None, None, 103), dtype=tf.float32, name='dense_1400_input'), name='dense_1400_input', description=\"created by layer 'dense_1400_input'\"), but it was called on an input with incompatible shape (None, 103).\n"
     ]
    },
    {
     "name": "stderr",
     "output_type": "stream",
     "text": [
      "2022-12-17 15:24:23.493034: I tensorflow/core/grappler/optimizers/custom_graph_optimizer_registry.cc:114] Plugin optimizer for device_type GPU is enabled.\n"
     ]
    },
    {
     "name": "stdout",
     "output_type": "stream",
     "text": [
      "33/33 [==============================] - 11s 183ms/step - loss: 14585.0225 - mean_squared_error: 433166112.0000 - mean_absolute_error: 14585.0225 - val_loss: 9913.1631 - val_mean_squared_error: 142824112.0000 - val_mean_absolute_error: 9913.1631\n",
      "Epoch 2/100\n",
      "33/33 [==============================] - 1s 20ms/step - loss: 10041.3535 - mean_squared_error: 246095024.0000 - mean_absolute_error: 10041.3535 - val_loss: 7018.4751 - val_mean_squared_error: 75306872.0000 - val_mean_absolute_error: 7018.4751\n",
      "Epoch 3/100\n",
      "33/33 [==============================] - 1s 21ms/step - loss: 8068.5454 - mean_squared_error: 210315536.0000 - mean_absolute_error: 8068.5454 - val_loss: 5593.4585 - val_mean_squared_error: 54735096.0000 - val_mean_absolute_error: 5593.4585\n",
      "Epoch 4/100\n",
      "33/33 [==============================] - 1s 18ms/step - loss: 7196.2178 - mean_squared_error: 207166272.0000 - mean_absolute_error: 7196.2178 - val_loss: 6375.0640 - val_mean_squared_error: 59030704.0000 - val_mean_absolute_error: 6375.0640\n",
      "Epoch 5/100\n",
      "33/33 [==============================] - 1s 17ms/step - loss: 8049.2217 - mean_squared_error: 212255920.0000 - mean_absolute_error: 8049.2217 - val_loss: 5107.0034 - val_mean_squared_error: 65434996.0000 - val_mean_absolute_error: 5107.0034\n",
      "Epoch 6/100\n",
      "33/33 [==============================] - 1s 19ms/step - loss: 7287.5312 - mean_squared_error: 198500656.0000 - mean_absolute_error: 7287.5312 - val_loss: 5408.3374 - val_mean_squared_error: 72908552.0000 - val_mean_absolute_error: 5408.3374\n",
      "Epoch 7/100\n",
      "33/33 [==============================] - 1s 17ms/step - loss: 7447.3086 - mean_squared_error: 205893504.0000 - mean_absolute_error: 7447.3086 - val_loss: 10541.6836 - val_mean_squared_error: 180622672.0000 - val_mean_absolute_error: 10541.6836\n",
      "Epoch 8/100\n",
      "33/33 [==============================] - 1s 15ms/step - loss: 7180.3872 - mean_squared_error: 197652112.0000 - mean_absolute_error: 7180.3872 - val_loss: 5283.4160 - val_mean_squared_error: 48092744.0000 - val_mean_absolute_error: 5283.4160\n",
      "Epoch 9/100\n",
      "33/33 [==============================] - 0s 14ms/step - loss: 7193.6748 - mean_squared_error: 200743088.0000 - mean_absolute_error: 7193.6748 - val_loss: 4432.3350 - val_mean_squared_error: 48695280.0000 - val_mean_absolute_error: 4432.3350\n",
      "Epoch 10/100\n",
      "33/33 [==============================] - 0s 14ms/step - loss: 6863.7021 - mean_squared_error: 190410832.0000 - mean_absolute_error: 6863.7021 - val_loss: 5490.0195 - val_mean_squared_error: 45747820.0000 - val_mean_absolute_error: 5490.0195\n",
      "Epoch 11/100\n",
      "33/33 [==============================] - 0s 14ms/step - loss: 6942.2505 - mean_squared_error: 188169504.0000 - mean_absolute_error: 6942.2505 - val_loss: 9690.0166 - val_mean_squared_error: 117116392.0000 - val_mean_absolute_error: 9690.0166\n",
      "Epoch 12/100\n",
      "33/33 [==============================] - 0s 14ms/step - loss: 7021.8945 - mean_squared_error: 187665648.0000 - mean_absolute_error: 7021.8945 - val_loss: 7287.4019 - val_mean_squared_error: 87693384.0000 - val_mean_absolute_error: 7287.4019\n",
      "Epoch 13/100\n",
      "33/33 [==============================] - 0s 14ms/step - loss: 6641.2090 - mean_squared_error: 183868672.0000 - mean_absolute_error: 6641.2090 - val_loss: 4954.6851 - val_mean_squared_error: 37231800.0000 - val_mean_absolute_error: 4954.6851\n",
      "11/11 [==============================] - 1s 52ms/step - loss: 5638.2427 - mean_squared_error: 176240992.0000 - mean_absolute_error: 5638.2427\n",
      "2/2 [==============================] - 1s 796ms/step - loss: 5478.9561 - mean_squared_error: 136229392.0000 - mean_absolute_error: 5478.9561\n",
      "_______________________________________STORE_42______________________________________\n",
      "Epoch 1/100\n",
      "WARNING:tensorflow:Model was constructed with shape (None, None, 103) for input KerasTensor(type_spec=TensorSpec(shape=(None, None, 103), dtype=tf.float32, name='dense_1408_input'), name='dense_1408_input', description=\"created by layer 'dense_1408_input'\"), but it was called on an input with incompatible shape (None, 103).\n",
      "WARNING:tensorflow:Model was constructed with shape (None, None, 103) for input KerasTensor(type_spec=TensorSpec(shape=(None, None, 103), dtype=tf.float32, name='dense_1408_input'), name='dense_1408_input', description=\"created by layer 'dense_1408_input'\"), but it was called on an input with incompatible shape (None, 103).\n"
     ]
    },
    {
     "name": "stderr",
     "output_type": "stream",
     "text": [
      "2022-12-17 15:24:34.143229: I tensorflow/core/grappler/optimizers/custom_graph_optimizer_registry.cc:114] Plugin optimizer for device_type GPU is enabled.\n"
     ]
    },
    {
     "name": "stdout",
     "output_type": "stream",
     "text": [
      "30/30 [==============================] - ETA: 0s - loss: 6101.0703 - mean_squared_error: 61328580.0000 - mean_absolute_error: 6101.0703WARNING:tensorflow:Model was constructed with shape (None, None, 103) for input KerasTensor(type_spec=TensorSpec(shape=(None, None, 103), dtype=tf.float32, name='dense_1408_input'), name='dense_1408_input', description=\"created by layer 'dense_1408_input'\"), but it was called on an input with incompatible shape (None, 103).\n"
     ]
    },
    {
     "name": "stderr",
     "output_type": "stream",
     "text": [
      "2022-12-17 15:24:45.811227: I tensorflow/core/grappler/optimizers/custom_graph_optimizer_registry.cc:114] Plugin optimizer for device_type GPU is enabled.\n"
     ]
    },
    {
     "name": "stdout",
     "output_type": "stream",
     "text": [
      "30/30 [==============================] - 13s 139ms/step - loss: 6101.0703 - mean_squared_error: 61328580.0000 - mean_absolute_error: 6101.0703 - val_loss: 2840.3926 - val_mean_squared_error: 17105840.0000 - val_mean_absolute_error: 2840.3926\n",
      "Epoch 2/100\n",
      "30/30 [==============================] - 1s 24ms/step - loss: 2508.7578 - mean_squared_error: 13790933.0000 - mean_absolute_error: 2508.7578 - val_loss: 870.5452 - val_mean_squared_error: 1867825.7500 - val_mean_absolute_error: 870.5452\n",
      "Epoch 3/100\n",
      "30/30 [==============================] - 1s 19ms/step - loss: 1870.0955 - mean_squared_error: 7856837.0000 - mean_absolute_error: 1870.0955 - val_loss: 3036.2224 - val_mean_squared_error: 18012264.0000 - val_mean_absolute_error: 3036.2224\n",
      "Epoch 4/100\n",
      "30/30 [==============================] - 1s 18ms/step - loss: 1801.4974 - mean_squared_error: 7760732.0000 - mean_absolute_error: 1801.4974 - val_loss: 3820.4810 - val_mean_squared_error: 27079964.0000 - val_mean_absolute_error: 3820.4810\n",
      "Epoch 5/100\n",
      "30/30 [==============================] - 0s 16ms/step - loss: 1778.1978 - mean_squared_error: 8284598.0000 - mean_absolute_error: 1778.1978 - val_loss: 2857.8511 - val_mean_squared_error: 12050796.0000 - val_mean_absolute_error: 2857.8511\n",
      "Epoch 6/100\n",
      "30/30 [==============================] - 1s 20ms/step - loss: 1577.2238 - mean_squared_error: 6125826.0000 - mean_absolute_error: 1577.2238 - val_loss: 2090.8743 - val_mean_squared_error: 8708896.0000 - val_mean_absolute_error: 2090.8743\n",
      "10/10 [==============================] - 1s 72ms/step - loss: 1061.7194 - mean_squared_error: 2474164.2500 - mean_absolute_error: 1061.7194\n",
      "2/2 [==============================] - 0s 256ms/step - loss: 1668.4637 - mean_squared_error: 7636596.0000 - mean_absolute_error: 1668.4637\n",
      "_______________________________________STORE_43______________________________________\n",
      "Epoch 1/100\n",
      "WARNING:tensorflow:Model was constructed with shape (None, None, 103) for input KerasTensor(type_spec=TensorSpec(shape=(None, None, 103), dtype=tf.float32, name='dense_1416_input'), name='dense_1416_input', description=\"created by layer 'dense_1416_input'\"), but it was called on an input with incompatible shape (None, 103).\n",
      "WARNING:tensorflow:Model was constructed with shape (None, None, 103) for input KerasTensor(type_spec=TensorSpec(shape=(None, None, 103), dtype=tf.float32, name='dense_1416_input'), name='dense_1416_input', description=\"created by layer 'dense_1416_input'\"), but it was called on an input with incompatible shape (None, 103).\n"
     ]
    },
    {
     "name": "stderr",
     "output_type": "stream",
     "text": [
      "2022-12-17 15:24:51.830295: I tensorflow/core/grappler/optimizers/custom_graph_optimizer_registry.cc:114] Plugin optimizer for device_type GPU is enabled.\n"
     ]
    },
    {
     "name": "stdout",
     "output_type": "stream",
     "text": [
      "31/31 [==============================] - ETA: 0s - loss: 5926.0439 - mean_squared_error: 69567888.0000 - mean_absolute_error: 5926.0439WARNING:tensorflow:Model was constructed with shape (None, None, 103) for input KerasTensor(type_spec=TensorSpec(shape=(None, None, 103), dtype=tf.float32, name='dense_1416_input'), name='dense_1416_input', description=\"created by layer 'dense_1416_input'\"), but it was called on an input with incompatible shape (None, 103).\n"
     ]
    },
    {
     "name": "stderr",
     "output_type": "stream",
     "text": [
      "2022-12-17 15:25:00.915075: I tensorflow/core/grappler/optimizers/custom_graph_optimizer_registry.cc:114] Plugin optimizer for device_type GPU is enabled.\n"
     ]
    },
    {
     "name": "stdout",
     "output_type": "stream",
     "text": [
      "31/31 [==============================] - 11s 188ms/step - loss: 5926.0439 - mean_squared_error: 69567888.0000 - mean_absolute_error: 5926.0439 - val_loss: 8133.3320 - val_mean_squared_error: 80102304.0000 - val_mean_absolute_error: 8133.3320\n",
      "Epoch 2/100\n",
      "31/31 [==============================] - 1s 19ms/step - loss: 2277.2056 - mean_squared_error: 16929386.0000 - mean_absolute_error: 2277.2056 - val_loss: 2420.3870 - val_mean_squared_error: 10186926.0000 - val_mean_absolute_error: 2420.3870\n",
      "Epoch 3/100\n",
      "31/31 [==============================] - 1s 29ms/step - loss: 2034.2292 - mean_squared_error: 15048447.0000 - mean_absolute_error: 2034.2292 - val_loss: 947.8564 - val_mean_squared_error: 1722527.1250 - val_mean_absolute_error: 947.8564\n",
      "Epoch 4/100\n",
      "31/31 [==============================] - 1s 18ms/step - loss: 1719.1624 - mean_squared_error: 12365186.0000 - mean_absolute_error: 1719.1624 - val_loss: 1662.2053 - val_mean_squared_error: 6212296.0000 - val_mean_absolute_error: 1662.2053\n",
      "Epoch 5/100\n",
      "31/31 [==============================] - 1s 21ms/step - loss: 1874.8058 - mean_squared_error: 12757053.0000 - mean_absolute_error: 1874.8058 - val_loss: 802.1329 - val_mean_squared_error: 1235042.7500 - val_mean_absolute_error: 802.1329\n",
      "Epoch 6/100\n",
      "31/31 [==============================] - 0s 14ms/step - loss: 1658.4532 - mean_squared_error: 12174022.0000 - mean_absolute_error: 1658.4532 - val_loss: 4820.7344 - val_mean_squared_error: 38153688.0000 - val_mean_absolute_error: 4820.7344\n",
      "Epoch 7/100\n",
      "31/31 [==============================] - 0s 14ms/step - loss: 1657.1083 - mean_squared_error: 11247988.0000 - mean_absolute_error: 1657.1083 - val_loss: 928.0215 - val_mean_squared_error: 2193630.2500 - val_mean_absolute_error: 928.0215\n",
      "Epoch 8/100\n",
      "31/31 [==============================] - 1s 16ms/step - loss: 1551.6221 - mean_squared_error: 11242533.0000 - mean_absolute_error: 1551.6221 - val_loss: 1355.1566 - val_mean_squared_error: 3539439.7500 - val_mean_absolute_error: 1355.1566\n",
      "Epoch 9/100\n",
      "31/31 [==============================] - 0s 16ms/step - loss: 1564.6202 - mean_squared_error: 11337739.0000 - mean_absolute_error: 1564.6202 - val_loss: 3072.1033 - val_mean_squared_error: 18479126.0000 - val_mean_absolute_error: 3072.1033\n",
      "10/10 [==============================] - 1s 32ms/step - loss: 1123.8689 - mean_squared_error: 8266565.5000 - mean_absolute_error: 1123.8689\n",
      "2/2 [==============================] - 1s 568ms/step - loss: 936.2668 - mean_squared_error: 3325561.0000 - mean_absolute_error: 936.2668\n",
      "_______________________________________STORE_44______________________________________\n",
      "Epoch 1/100\n",
      "WARNING:tensorflow:Model was constructed with shape (None, None, 103) for input KerasTensor(type_spec=TensorSpec(shape=(None, None, 103), dtype=tf.float32, name='dense_1424_input'), name='dense_1424_input', description=\"created by layer 'dense_1424_input'\"), but it was called on an input with incompatible shape (None, 103).\n",
      "WARNING:tensorflow:Model was constructed with shape (None, None, 103) for input KerasTensor(type_spec=TensorSpec(shape=(None, None, 103), dtype=tf.float32, name='dense_1424_input'), name='dense_1424_input', description=\"created by layer 'dense_1424_input'\"), but it was called on an input with incompatible shape (None, 103).\n"
     ]
    },
    {
     "name": "stderr",
     "output_type": "stream",
     "text": [
      "2022-12-17 15:25:09.001649: I tensorflow/core/grappler/optimizers/custom_graph_optimizer_registry.cc:114] Plugin optimizer for device_type GPU is enabled.\n"
     ]
    },
    {
     "name": "stdout",
     "output_type": "stream",
     "text": [
      "33/33 [==============================] - ETA: 0s - loss: 2706.9995 - mean_squared_error: 15342372.0000 - mean_absolute_error: 2706.9995WARNING:tensorflow:Model was constructed with shape (None, None, 103) for input KerasTensor(type_spec=TensorSpec(shape=(None, None, 103), dtype=tf.float32, name='dense_1424_input'), name='dense_1424_input', description=\"created by layer 'dense_1424_input'\"), but it was called on an input with incompatible shape (None, 103).\n"
     ]
    },
    {
     "name": "stderr",
     "output_type": "stream",
     "text": [
      "2022-12-17 15:25:19.434079: I tensorflow/core/grappler/optimizers/custom_graph_optimizer_registry.cc:114] Plugin optimizer for device_type GPU is enabled.\n"
     ]
    },
    {
     "name": "stdout",
     "output_type": "stream",
     "text": [
      "33/33 [==============================] - 13s 207ms/step - loss: 2706.9995 - mean_squared_error: 15342372.0000 - mean_absolute_error: 2706.9995 - val_loss: 2420.9292 - val_mean_squared_error: 7386665.0000 - val_mean_absolute_error: 2420.9292\n",
      "Epoch 2/100\n",
      "33/33 [==============================] - 1s 23ms/step - loss: 1105.2762 - mean_squared_error: 3489459.0000 - mean_absolute_error: 1105.2762 - val_loss: 1124.3567 - val_mean_squared_error: 2725481.2500 - val_mean_absolute_error: 1124.3567\n",
      "Epoch 3/100\n",
      "33/33 [==============================] - 0s 15ms/step - loss: 908.2242 - mean_squared_error: 2232088.2500 - mean_absolute_error: 908.2242 - val_loss: 484.2319 - val_mean_squared_error: 523189.2812 - val_mean_absolute_error: 484.2319\n",
      "Epoch 4/100\n",
      "33/33 [==============================] - 1s 17ms/step - loss: 890.6313 - mean_squared_error: 2287085.5000 - mean_absolute_error: 890.6313 - val_loss: 1588.3378 - val_mean_squared_error: 4303735.0000 - val_mean_absolute_error: 1588.3378\n",
      "Epoch 5/100\n",
      "33/33 [==============================] - 1s 22ms/step - loss: 821.3835 - mean_squared_error: 1942737.8750 - mean_absolute_error: 821.3835 - val_loss: 1332.7407 - val_mean_squared_error: 2720409.2500 - val_mean_absolute_error: 1332.7407\n",
      "Epoch 6/100\n",
      "33/33 [==============================] - 1s 16ms/step - loss: 751.6105 - mean_squared_error: 1782435.1250 - mean_absolute_error: 751.6105 - val_loss: 372.0238 - val_mean_squared_error: 333139.0938 - val_mean_absolute_error: 372.0238\n",
      "Epoch 7/100\n",
      "33/33 [==============================] - 0s 14ms/step - loss: 789.2582 - mean_squared_error: 1923662.3750 - mean_absolute_error: 789.2582 - val_loss: 404.8683 - val_mean_squared_error: 403723.5312 - val_mean_absolute_error: 404.8683\n",
      "Epoch 8/100\n",
      "33/33 [==============================] - 0s 15ms/step - loss: 724.3301 - mean_squared_error: 1584306.0000 - mean_absolute_error: 724.3301 - val_loss: 537.8411 - val_mean_squared_error: 782609.8125 - val_mean_absolute_error: 537.8411\n",
      "Epoch 9/100\n",
      "33/33 [==============================] - 0s 14ms/step - loss: 716.2393 - mean_squared_error: 1606344.0000 - mean_absolute_error: 716.2393 - val_loss: 721.1125 - val_mean_squared_error: 1274663.5000 - val_mean_absolute_error: 721.1125\n",
      "Epoch 10/100\n",
      "33/33 [==============================] - 0s 14ms/step - loss: 723.7402 - mean_squared_error: 1651450.0000 - mean_absolute_error: 723.7402 - val_loss: 343.5445 - val_mean_squared_error: 280060.7812 - val_mean_absolute_error: 343.5445\n",
      "11/11 [==============================] - 1s 48ms/step - loss: 432.4128 - mean_squared_error: 759266.6875 - mean_absolute_error: 432.4128\n",
      "2/2 [==============================] - 0s 177ms/step - loss: 516.1019 - mean_squared_error: 623813.6875 - mean_absolute_error: 516.1019\n",
      "_______________________________________STORE_45______________________________________\n",
      "Epoch 1/100\n",
      "WARNING:tensorflow:Model was constructed with shape (None, None, 103) for input KerasTensor(type_spec=TensorSpec(shape=(None, None, 103), dtype=tf.float32, name='dense_1432_input'), name='dense_1432_input', description=\"created by layer 'dense_1432_input'\"), but it was called on an input with incompatible shape (None, 103).\n",
      "WARNING:tensorflow:Model was constructed with shape (None, None, 103) for input KerasTensor(type_spec=TensorSpec(shape=(None, None, 103), dtype=tf.float32, name='dense_1432_input'), name='dense_1432_input', description=\"created by layer 'dense_1432_input'\"), but it was called on an input with incompatible shape (None, 103).\n"
     ]
    },
    {
     "name": "stderr",
     "output_type": "stream",
     "text": [
      "2022-12-17 15:25:27.999476: I tensorflow/core/grappler/optimizers/custom_graph_optimizer_registry.cc:114] Plugin optimizer for device_type GPU is enabled.\n"
     ]
    },
    {
     "name": "stdout",
     "output_type": "stream",
     "text": [
      "33/33 [==============================] - ETA: 0s - loss: 11690.5322 - mean_squared_error: 260103824.0000 - mean_absolute_error: 11690.5322WARNING:tensorflow:Model was constructed with shape (None, None, 103) for input KerasTensor(type_spec=TensorSpec(shape=(None, None, 103), dtype=tf.float32, name='dense_1432_input'), name='dense_1432_input', description=\"created by layer 'dense_1432_input'\"), but it was called on an input with incompatible shape (None, 103).\n"
     ]
    },
    {
     "name": "stderr",
     "output_type": "stream",
     "text": [
      "2022-12-17 15:25:36.698965: I tensorflow/core/grappler/optimizers/custom_graph_optimizer_registry.cc:114] Plugin optimizer for device_type GPU is enabled.\n"
     ]
    },
    {
     "name": "stdout",
     "output_type": "stream",
     "text": [
      "33/33 [==============================] - 11s 226ms/step - loss: 11690.5322 - mean_squared_error: 260103824.0000 - mean_absolute_error: 11690.5322 - val_loss: 9707.9004 - val_mean_squared_error: 153291456.0000 - val_mean_absolute_error: 9707.9004\n",
      "Epoch 2/100\n",
      "33/33 [==============================] - 1s 22ms/step - loss: 7476.3516 - mean_squared_error: 149977584.0000 - mean_absolute_error: 7476.3516 - val_loss: 4781.7920 - val_mean_squared_error: 33415406.0000 - val_mean_absolute_error: 4781.7920\n",
      "Epoch 3/100\n",
      "33/33 [==============================] - 1s 21ms/step - loss: 6189.7236 - mean_squared_error: 129065000.0000 - mean_absolute_error: 6189.7236 - val_loss: 3661.0247 - val_mean_squared_error: 21960888.0000 - val_mean_absolute_error: 3661.0247\n",
      "Epoch 4/100\n",
      "33/33 [==============================] - 1s 18ms/step - loss: 5605.9019 - mean_squared_error: 123607440.0000 - mean_absolute_error: 5605.9019 - val_loss: 4649.4956 - val_mean_squared_error: 30014746.0000 - val_mean_absolute_error: 4649.4956\n",
      "Epoch 5/100\n",
      "33/33 [==============================] - 1s 16ms/step - loss: 5858.9160 - mean_squared_error: 126631944.0000 - mean_absolute_error: 5858.9160 - val_loss: 5719.1289 - val_mean_squared_error: 57016648.0000 - val_mean_absolute_error: 5719.1289\n",
      "Epoch 6/100\n",
      "33/33 [==============================] - 1s 16ms/step - loss: 5645.2539 - mean_squared_error: 123593704.0000 - mean_absolute_error: 5645.2539 - val_loss: 4061.9260 - val_mean_squared_error: 30786368.0000 - val_mean_absolute_error: 4061.9260\n",
      "Epoch 7/100\n",
      "33/33 [==============================] - 1s 17ms/step - loss: 5611.0483 - mean_squared_error: 121207608.0000 - mean_absolute_error: 5611.0483 - val_loss: 4187.5127 - val_mean_squared_error: 24981324.0000 - val_mean_absolute_error: 4187.5127\n",
      "11/11 [==============================] - 1s 64ms/step - loss: 5022.8247 - mean_squared_error: 104477128.0000 - mean_absolute_error: 5022.8247\n",
      "2/2 [==============================] - 1s 506ms/step - loss: 4287.6250 - mean_squared_error: 32677086.0000 - mean_absolute_error: 4287.6250\n"
     ]
    }
   ],
   "source": [
    "for i in range(0, 45):\n",
    "    print(\"_______________________________________STORE_\"+str(i+1)+\"______________________________________\")\n",
    "    # path = os.path.join(\"./data/store_level_data/\", \"store_\" + str(i))\n",
    "    X_train, y_train, x_valid, y_valid, x_test, y_test = load_data(str(i+1), data_dir=\"./data/store_level_data_2/\")\n",
    "    model = Model().model\n",
    "    early_stopping = tf.keras.callbacks.EarlyStopping(\n",
    "                    monitor='val_loss',\n",
    "                    patience=4,\n",
    "                    min_delta= 100,\n",
    "                    restore_best_weights=True,\n",
    "                )\n",
    "    try:\n",
    "        history = model.fit(\n",
    "                            X_train,\n",
    "                            y_train,\n",
    "                            epochs=100,\n",
    "                            callbacks=[early_stopping],\n",
    "                            validation_data=(x_valid, y_valid)\n",
    "                        )\n",
    "        loss, train_mean_squared_error, train_mean_absolute_error = model.evaluate(\n",
    "                X_train, y_train, batch_size =100\n",
    "            )\n",
    "        loss, test_mean_squared_error, test_mean_absolute_error = model.evaluate(\n",
    "                x_test, y_test, batch_size =100\n",
    "            )\n",
    "\n",
    "        df_sub = pd.DataFrame({\"Store\":[str(i+1)],\n",
    "                            \"train_mse\": [train_mean_squared_error],\n",
    "                            \"train_mae\":[train_mean_absolute_error],\n",
    "                            \"test_mse\": [test_mean_squared_error],\n",
    "                            \"test_mae\":[test_mean_absolute_error],\n",
    "                            \"training_history\": history }\n",
    "                            )\n",
    "        df_low = pd.concat([df_low, df_sub])\n",
    "    except:\n",
    "        failed.append(str(i+1))"
   ]
  },
  {
   "cell_type": "code",
   "execution_count": 34,
   "metadata": {},
   "outputs": [
    {
     "data": {
      "text/html": [
       "<div>\n",
       "<style scoped>\n",
       "    .dataframe tbody tr th:only-of-type {\n",
       "        vertical-align: middle;\n",
       "    }\n",
       "\n",
       "    .dataframe tbody tr th {\n",
       "        vertical-align: top;\n",
       "    }\n",
       "\n",
       "    .dataframe thead th {\n",
       "        text-align: right;\n",
       "    }\n",
       "</style>\n",
       "<table border=\"1\" class=\"dataframe\">\n",
       "  <thead>\n",
       "    <tr style=\"text-align: right;\">\n",
       "      <th></th>\n",
       "      <th>Store</th>\n",
       "      <th>train_mse</th>\n",
       "      <th>train_mae</th>\n",
       "      <th>test_mse</th>\n",
       "      <th>test_mae</th>\n",
       "      <th>training_history</th>\n",
       "    </tr>\n",
       "  </thead>\n",
       "  <tbody>\n",
       "    <tr>\n",
       "      <th>0</th>\n",
       "      <td>1</td>\n",
       "      <td>1.025898e+08</td>\n",
       "      <td>4902.356934</td>\n",
       "      <td>5.470247e+07</td>\n",
       "      <td>4675.691406</td>\n",
       "      <td>&lt;keras.callbacks.History object at 0x85bedd400&gt;</td>\n",
       "    </tr>\n",
       "    <tr>\n",
       "      <th>0</th>\n",
       "      <td>2</td>\n",
       "      <td>2.584481e+08</td>\n",
       "      <td>7078.997070</td>\n",
       "      <td>8.978825e+07</td>\n",
       "      <td>5493.038574</td>\n",
       "      <td>&lt;keras.callbacks.History object at 0x8a5abafa0&gt;</td>\n",
       "    </tr>\n",
       "    <tr>\n",
       "      <th>0</th>\n",
       "      <td>3</td>\n",
       "      <td>1.319900e+07</td>\n",
       "      <td>1656.667603</td>\n",
       "      <td>8.688863e+06</td>\n",
       "      <td>1905.488770</td>\n",
       "      <td>&lt;keras.callbacks.History object at 0x8b5e70c70&gt;</td>\n",
       "    </tr>\n",
       "    <tr>\n",
       "      <th>0</th>\n",
       "      <td>4</td>\n",
       "      <td>3.344990e+08</td>\n",
       "      <td>8708.626953</td>\n",
       "      <td>1.772921e+08</td>\n",
       "      <td>7303.389648</td>\n",
       "      <td>&lt;keras.callbacks.History object at 0x8c70a4460&gt;</td>\n",
       "    </tr>\n",
       "    <tr>\n",
       "      <th>0</th>\n",
       "      <td>5</td>\n",
       "      <td>6.109364e+06</td>\n",
       "      <td>1346.515869</td>\n",
       "      <td>6.237998e+06</td>\n",
       "      <td>1279.891357</td>\n",
       "      <td>&lt;keras.callbacks.History object at 0x89c408520&gt;</td>\n",
       "    </tr>\n",
       "    <tr>\n",
       "      <th>0</th>\n",
       "      <td>6</td>\n",
       "      <td>1.897299e+08</td>\n",
       "      <td>8189.295410</td>\n",
       "      <td>1.079772e+08</td>\n",
       "      <td>6379.642090</td>\n",
       "      <td>&lt;keras.callbacks.History object at 0x889814790&gt;</td>\n",
       "    </tr>\n",
       "    <tr>\n",
       "      <th>0</th>\n",
       "      <td>7</td>\n",
       "      <td>4.493802e+07</td>\n",
       "      <td>3441.093750</td>\n",
       "      <td>7.600354e+07</td>\n",
       "      <td>5172.157227</td>\n",
       "      <td>&lt;keras.callbacks.History object at 0x8fb3c0880&gt;</td>\n",
       "    </tr>\n",
       "    <tr>\n",
       "      <th>0</th>\n",
       "      <td>8</td>\n",
       "      <td>6.388864e+07</td>\n",
       "      <td>3651.803711</td>\n",
       "      <td>3.877386e+07</td>\n",
       "      <td>3348.793701</td>\n",
       "      <td>&lt;keras.callbacks.History object at 0x8df17f1f0&gt;</td>\n",
       "    </tr>\n",
       "    <tr>\n",
       "      <th>0</th>\n",
       "      <td>9</td>\n",
       "      <td>2.855582e+07</td>\n",
       "      <td>2608.687988</td>\n",
       "      <td>2.273451e+07</td>\n",
       "      <td>2710.451904</td>\n",
       "      <td>&lt;keras.callbacks.History object at 0x97f5a0220&gt;</td>\n",
       "    </tr>\n",
       "    <tr>\n",
       "      <th>0</th>\n",
       "      <td>10</td>\n",
       "      <td>6.234467e+08</td>\n",
       "      <td>10180.028320</td>\n",
       "      <td>1.815507e+08</td>\n",
       "      <td>7068.259277</td>\n",
       "      <td>&lt;keras.callbacks.History object at 0x9d640c7c0&gt;</td>\n",
       "    </tr>\n",
       "    <tr>\n",
       "      <th>0</th>\n",
       "      <td>11</td>\n",
       "      <td>1.706669e+08</td>\n",
       "      <td>6294.645508</td>\n",
       "      <td>9.583129e+07</td>\n",
       "      <td>5457.448242</td>\n",
       "      <td>&lt;keras.callbacks.History object at 0x9589dc520&gt;</td>\n",
       "    </tr>\n",
       "    <tr>\n",
       "      <th>0</th>\n",
       "      <td>12</td>\n",
       "      <td>2.063155e+08</td>\n",
       "      <td>7006.562012</td>\n",
       "      <td>1.723799e+08</td>\n",
       "      <td>8462.674805</td>\n",
       "      <td>&lt;keras.callbacks.History object at 0x8bc3d87c0&gt;</td>\n",
       "    </tr>\n",
       "    <tr>\n",
       "      <th>0</th>\n",
       "      <td>13</td>\n",
       "      <td>5.177818e+08</td>\n",
       "      <td>9611.576172</td>\n",
       "      <td>1.857680e+08</td>\n",
       "      <td>6917.407227</td>\n",
       "      <td>&lt;keras.callbacks.History object at 0x89c6d46d0&gt;</td>\n",
       "    </tr>\n",
       "    <tr>\n",
       "      <th>0</th>\n",
       "      <td>14</td>\n",
       "      <td>4.913179e+08</td>\n",
       "      <td>9873.868164</td>\n",
       "      <td>1.334583e+08</td>\n",
       "      <td>7998.208008</td>\n",
       "      <td>&lt;keras.callbacks.History object at 0x9c8f1c910&gt;</td>\n",
       "    </tr>\n",
       "    <tr>\n",
       "      <th>0</th>\n",
       "      <td>15</td>\n",
       "      <td>7.682730e+07</td>\n",
       "      <td>4026.712891</td>\n",
       "      <td>2.958184e+07</td>\n",
       "      <td>3705.180908</td>\n",
       "      <td>&lt;keras.callbacks.History object at 0x9bc390f40&gt;</td>\n",
       "    </tr>\n",
       "    <tr>\n",
       "      <th>0</th>\n",
       "      <td>16</td>\n",
       "      <td>5.046243e+07</td>\n",
       "      <td>3438.331787</td>\n",
       "      <td>1.634817e+08</td>\n",
       "      <td>4392.321777</td>\n",
       "      <td>&lt;keras.callbacks.History object at 0x8b5ec5640&gt;</td>\n",
       "    </tr>\n",
       "    <tr>\n",
       "      <th>0</th>\n",
       "      <td>17</td>\n",
       "      <td>8.666830e+07</td>\n",
       "      <td>5419.531738</td>\n",
       "      <td>7.503978e+07</td>\n",
       "      <td>5576.581543</td>\n",
       "      <td>&lt;keras.callbacks.History object at 0x8a9749df0&gt;</td>\n",
       "    </tr>\n",
       "    <tr>\n",
       "      <th>0</th>\n",
       "      <td>18</td>\n",
       "      <td>2.031445e+08</td>\n",
       "      <td>6281.859375</td>\n",
       "      <td>9.375296e+07</td>\n",
       "      <td>4702.104980</td>\n",
       "      <td>&lt;keras.callbacks.History object at 0x9b74c60d0&gt;</td>\n",
       "    </tr>\n",
       "    <tr>\n",
       "      <th>0</th>\n",
       "      <td>19</td>\n",
       "      <td>1.793180e+08</td>\n",
       "      <td>7277.865723</td>\n",
       "      <td>1.435163e+08</td>\n",
       "      <td>5874.126465</td>\n",
       "      <td>&lt;keras.callbacks.History object at 0x8b07ff6d0&gt;</td>\n",
       "    </tr>\n",
       "    <tr>\n",
       "      <th>0</th>\n",
       "      <td>20</td>\n",
       "      <td>3.498800e+08</td>\n",
       "      <td>9219.443359</td>\n",
       "      <td>7.585953e+07</td>\n",
       "      <td>6288.062988</td>\n",
       "      <td>&lt;keras.callbacks.History object at 0x9ab8c8df0&gt;</td>\n",
       "    </tr>\n",
       "    <tr>\n",
       "      <th>0</th>\n",
       "      <td>21</td>\n",
       "      <td>1.362383e+08</td>\n",
       "      <td>3928.308838</td>\n",
       "      <td>8.136558e+07</td>\n",
       "      <td>4333.576660</td>\n",
       "      <td>&lt;keras.callbacks.History object at 0x89d6b0d90&gt;</td>\n",
       "    </tr>\n",
       "    <tr>\n",
       "      <th>0</th>\n",
       "      <td>22</td>\n",
       "      <td>1.505572e+08</td>\n",
       "      <td>5746.167969</td>\n",
       "      <td>7.557894e+07</td>\n",
       "      <td>4875.336426</td>\n",
       "      <td>&lt;keras.callbacks.History object at 0x8da600580&gt;</td>\n",
       "    </tr>\n",
       "    <tr>\n",
       "      <th>0</th>\n",
       "      <td>23</td>\n",
       "      <td>3.305084e+08</td>\n",
       "      <td>8837.174805</td>\n",
       "      <td>1.487112e+08</td>\n",
       "      <td>7586.168945</td>\n",
       "      <td>&lt;keras.callbacks.History object at 0x8281cba60&gt;</td>\n",
       "    </tr>\n",
       "    <tr>\n",
       "      <th>0</th>\n",
       "      <td>24</td>\n",
       "      <td>1.073699e+08</td>\n",
       "      <td>5252.735352</td>\n",
       "      <td>3.984363e+07</td>\n",
       "      <td>4417.511719</td>\n",
       "      <td>&lt;keras.callbacks.History object at 0x5d7dc2670&gt;</td>\n",
       "    </tr>\n",
       "    <tr>\n",
       "      <th>0</th>\n",
       "      <td>25</td>\n",
       "      <td>6.128931e+07</td>\n",
       "      <td>3681.914062</td>\n",
       "      <td>3.596012e+07</td>\n",
       "      <td>3430.148926</td>\n",
       "      <td>&lt;keras.callbacks.History object at 0x78e86d430&gt;</td>\n",
       "    </tr>\n",
       "    <tr>\n",
       "      <th>0</th>\n",
       "      <td>26</td>\n",
       "      <td>4.474140e+07</td>\n",
       "      <td>3506.412842</td>\n",
       "      <td>1.793593e+07</td>\n",
       "      <td>3144.825684</td>\n",
       "      <td>&lt;keras.callbacks.History object at 0x88b12a0a0&gt;</td>\n",
       "    </tr>\n",
       "    <tr>\n",
       "      <th>0</th>\n",
       "      <td>27</td>\n",
       "      <td>2.908347e+08</td>\n",
       "      <td>8719.054688</td>\n",
       "      <td>2.033454e+08</td>\n",
       "      <td>8338.000000</td>\n",
       "      <td>&lt;keras.callbacks.History object at 0x977b1f790&gt;</td>\n",
       "    </tr>\n",
       "    <tr>\n",
       "      <th>0</th>\n",
       "      <td>28</td>\n",
       "      <td>1.361077e+08</td>\n",
       "      <td>5411.679199</td>\n",
       "      <td>5.228240e+07</td>\n",
       "      <td>4152.852539</td>\n",
       "      <td>&lt;keras.callbacks.History object at 0x6c0786be0&gt;</td>\n",
       "    </tr>\n",
       "    <tr>\n",
       "      <th>0</th>\n",
       "      <td>29</td>\n",
       "      <td>5.144719e+07</td>\n",
       "      <td>3284.931641</td>\n",
       "      <td>2.023428e+07</td>\n",
       "      <td>3046.298340</td>\n",
       "      <td>&lt;keras.callbacks.History object at 0x992cb53a0&gt;</td>\n",
       "    </tr>\n",
       "    <tr>\n",
       "      <th>0</th>\n",
       "      <td>30</td>\n",
       "      <td>1.358438e+06</td>\n",
       "      <td>571.485413</td>\n",
       "      <td>2.162567e+06</td>\n",
       "      <td>854.887146</td>\n",
       "      <td>&lt;keras.callbacks.History object at 0x7e170db80&gt;</td>\n",
       "    </tr>\n",
       "    <tr>\n",
       "      <th>0</th>\n",
       "      <td>31</td>\n",
       "      <td>8.274831e+07</td>\n",
       "      <td>4732.899414</td>\n",
       "      <td>4.605289e+07</td>\n",
       "      <td>4198.864258</td>\n",
       "      <td>&lt;keras.callbacks.History object at 0xa285b04c0&gt;</td>\n",
       "    </tr>\n",
       "    <tr>\n",
       "      <th>0</th>\n",
       "      <td>32</td>\n",
       "      <td>1.212441e+08</td>\n",
       "      <td>4689.207520</td>\n",
       "      <td>9.015648e+07</td>\n",
       "      <td>4948.963379</td>\n",
       "      <td>&lt;keras.callbacks.History object at 0x832f88790&gt;</td>\n",
       "    </tr>\n",
       "    <tr>\n",
       "      <th>0</th>\n",
       "      <td>33</td>\n",
       "      <td>1.404680e+06</td>\n",
       "      <td>823.498901</td>\n",
       "      <td>3.118523e+05</td>\n",
       "      <td>357.468719</td>\n",
       "      <td>&lt;keras.callbacks.History object at 0x8b061ce20&gt;</td>\n",
       "    </tr>\n",
       "    <tr>\n",
       "      <th>0</th>\n",
       "      <td>34</td>\n",
       "      <td>5.802801e+07</td>\n",
       "      <td>4822.014648</td>\n",
       "      <td>3.801787e+07</td>\n",
       "      <td>4590.764160</td>\n",
       "      <td>&lt;keras.callbacks.History object at 0x9bc4b5eb0&gt;</td>\n",
       "    </tr>\n",
       "    <tr>\n",
       "      <th>0</th>\n",
       "      <td>35</td>\n",
       "      <td>1.603602e+08</td>\n",
       "      <td>6065.872559</td>\n",
       "      <td>1.089513e+08</td>\n",
       "      <td>5740.271973</td>\n",
       "      <td>&lt;keras.callbacks.History object at 0x8bfc54760&gt;</td>\n",
       "    </tr>\n",
       "    <tr>\n",
       "      <th>0</th>\n",
       "      <td>36</td>\n",
       "      <td>2.116553e+06</td>\n",
       "      <td>937.842712</td>\n",
       "      <td>6.909687e+05</td>\n",
       "      <td>521.922424</td>\n",
       "      <td>&lt;keras.callbacks.History object at 0x8cb30d7c0&gt;</td>\n",
       "    </tr>\n",
       "    <tr>\n",
       "      <th>0</th>\n",
       "      <td>37</td>\n",
       "      <td>2.921068e+06</td>\n",
       "      <td>980.181763</td>\n",
       "      <td>7.320602e+06</td>\n",
       "      <td>1438.276733</td>\n",
       "      <td>&lt;keras.callbacks.History object at 0x90d18a2b0&gt;</td>\n",
       "    </tr>\n",
       "    <tr>\n",
       "      <th>0</th>\n",
       "      <td>38</td>\n",
       "      <td>9.838861e+05</td>\n",
       "      <td>603.653442</td>\n",
       "      <td>4.850644e+06</td>\n",
       "      <td>1327.823975</td>\n",
       "      <td>&lt;keras.callbacks.History object at 0x8edb576d0&gt;</td>\n",
       "    </tr>\n",
       "    <tr>\n",
       "      <th>0</th>\n",
       "      <td>39</td>\n",
       "      <td>2.725989e+08</td>\n",
       "      <td>7910.854980</td>\n",
       "      <td>3.461359e+08</td>\n",
       "      <td>10997.956055</td>\n",
       "      <td>&lt;keras.callbacks.History object at 0x8fdd01730&gt;</td>\n",
       "    </tr>\n",
       "    <tr>\n",
       "      <th>0</th>\n",
       "      <td>40</td>\n",
       "      <td>5.283111e+07</td>\n",
       "      <td>3695.945557</td>\n",
       "      <td>1.308127e+07</td>\n",
       "      <td>2882.655029</td>\n",
       "      <td>&lt;keras.callbacks.History object at 0x8fdd2bdf0&gt;</td>\n",
       "    </tr>\n",
       "    <tr>\n",
       "      <th>0</th>\n",
       "      <td>41</td>\n",
       "      <td>1.762410e+08</td>\n",
       "      <td>5638.242676</td>\n",
       "      <td>1.362294e+08</td>\n",
       "      <td>5478.956055</td>\n",
       "      <td>&lt;keras.callbacks.History object at 0x91de49700&gt;</td>\n",
       "    </tr>\n",
       "    <tr>\n",
       "      <th>0</th>\n",
       "      <td>42</td>\n",
       "      <td>2.474164e+06</td>\n",
       "      <td>1061.719360</td>\n",
       "      <td>7.636596e+06</td>\n",
       "      <td>1668.463745</td>\n",
       "      <td>&lt;keras.callbacks.History object at 0x9d62306d0&gt;</td>\n",
       "    </tr>\n",
       "    <tr>\n",
       "      <th>0</th>\n",
       "      <td>43</td>\n",
       "      <td>8.266566e+06</td>\n",
       "      <td>1123.868896</td>\n",
       "      <td>3.325561e+06</td>\n",
       "      <td>936.266785</td>\n",
       "      <td>&lt;keras.callbacks.History object at 0xb5586e2b0&gt;</td>\n",
       "    </tr>\n",
       "    <tr>\n",
       "      <th>0</th>\n",
       "      <td>44</td>\n",
       "      <td>7.592667e+05</td>\n",
       "      <td>432.412842</td>\n",
       "      <td>6.238137e+05</td>\n",
       "      <td>516.101929</td>\n",
       "      <td>&lt;keras.callbacks.History object at 0xa46749f40&gt;</td>\n",
       "    </tr>\n",
       "    <tr>\n",
       "      <th>0</th>\n",
       "      <td>45</td>\n",
       "      <td>1.044771e+08</td>\n",
       "      <td>5022.824707</td>\n",
       "      <td>3.267709e+07</td>\n",
       "      <td>4287.625000</td>\n",
       "      <td>&lt;keras.callbacks.History object at 0xacef4ecd0&gt;</td>\n",
       "    </tr>\n",
       "  </tbody>\n",
       "</table>\n",
       "</div>"
      ],
      "text/plain": [
       "  Store     train_mse     train_mae      test_mse      test_mae  \\\n",
       "0     1  1.025898e+08   4902.356934  5.470247e+07   4675.691406   \n",
       "0     2  2.584481e+08   7078.997070  8.978825e+07   5493.038574   \n",
       "0     3  1.319900e+07   1656.667603  8.688863e+06   1905.488770   \n",
       "0     4  3.344990e+08   8708.626953  1.772921e+08   7303.389648   \n",
       "0     5  6.109364e+06   1346.515869  6.237998e+06   1279.891357   \n",
       "0     6  1.897299e+08   8189.295410  1.079772e+08   6379.642090   \n",
       "0     7  4.493802e+07   3441.093750  7.600354e+07   5172.157227   \n",
       "0     8  6.388864e+07   3651.803711  3.877386e+07   3348.793701   \n",
       "0     9  2.855582e+07   2608.687988  2.273451e+07   2710.451904   \n",
       "0    10  6.234467e+08  10180.028320  1.815507e+08   7068.259277   \n",
       "0    11  1.706669e+08   6294.645508  9.583129e+07   5457.448242   \n",
       "0    12  2.063155e+08   7006.562012  1.723799e+08   8462.674805   \n",
       "0    13  5.177818e+08   9611.576172  1.857680e+08   6917.407227   \n",
       "0    14  4.913179e+08   9873.868164  1.334583e+08   7998.208008   \n",
       "0    15  7.682730e+07   4026.712891  2.958184e+07   3705.180908   \n",
       "0    16  5.046243e+07   3438.331787  1.634817e+08   4392.321777   \n",
       "0    17  8.666830e+07   5419.531738  7.503978e+07   5576.581543   \n",
       "0    18  2.031445e+08   6281.859375  9.375296e+07   4702.104980   \n",
       "0    19  1.793180e+08   7277.865723  1.435163e+08   5874.126465   \n",
       "0    20  3.498800e+08   9219.443359  7.585953e+07   6288.062988   \n",
       "0    21  1.362383e+08   3928.308838  8.136558e+07   4333.576660   \n",
       "0    22  1.505572e+08   5746.167969  7.557894e+07   4875.336426   \n",
       "0    23  3.305084e+08   8837.174805  1.487112e+08   7586.168945   \n",
       "0    24  1.073699e+08   5252.735352  3.984363e+07   4417.511719   \n",
       "0    25  6.128931e+07   3681.914062  3.596012e+07   3430.148926   \n",
       "0    26  4.474140e+07   3506.412842  1.793593e+07   3144.825684   \n",
       "0    27  2.908347e+08   8719.054688  2.033454e+08   8338.000000   \n",
       "0    28  1.361077e+08   5411.679199  5.228240e+07   4152.852539   \n",
       "0    29  5.144719e+07   3284.931641  2.023428e+07   3046.298340   \n",
       "0    30  1.358438e+06    571.485413  2.162567e+06    854.887146   \n",
       "0    31  8.274831e+07   4732.899414  4.605289e+07   4198.864258   \n",
       "0    32  1.212441e+08   4689.207520  9.015648e+07   4948.963379   \n",
       "0    33  1.404680e+06    823.498901  3.118523e+05    357.468719   \n",
       "0    34  5.802801e+07   4822.014648  3.801787e+07   4590.764160   \n",
       "0    35  1.603602e+08   6065.872559  1.089513e+08   5740.271973   \n",
       "0    36  2.116553e+06    937.842712  6.909687e+05    521.922424   \n",
       "0    37  2.921068e+06    980.181763  7.320602e+06   1438.276733   \n",
       "0    38  9.838861e+05    603.653442  4.850644e+06   1327.823975   \n",
       "0    39  2.725989e+08   7910.854980  3.461359e+08  10997.956055   \n",
       "0    40  5.283111e+07   3695.945557  1.308127e+07   2882.655029   \n",
       "0    41  1.762410e+08   5638.242676  1.362294e+08   5478.956055   \n",
       "0    42  2.474164e+06   1061.719360  7.636596e+06   1668.463745   \n",
       "0    43  8.266566e+06   1123.868896  3.325561e+06    936.266785   \n",
       "0    44  7.592667e+05    432.412842  6.238137e+05    516.101929   \n",
       "0    45  1.044771e+08   5022.824707  3.267709e+07   4287.625000   \n",
       "\n",
       "                                  training_history  \n",
       "0  <keras.callbacks.History object at 0x85bedd400>  \n",
       "0  <keras.callbacks.History object at 0x8a5abafa0>  \n",
       "0  <keras.callbacks.History object at 0x8b5e70c70>  \n",
       "0  <keras.callbacks.History object at 0x8c70a4460>  \n",
       "0  <keras.callbacks.History object at 0x89c408520>  \n",
       "0  <keras.callbacks.History object at 0x889814790>  \n",
       "0  <keras.callbacks.History object at 0x8fb3c0880>  \n",
       "0  <keras.callbacks.History object at 0x8df17f1f0>  \n",
       "0  <keras.callbacks.History object at 0x97f5a0220>  \n",
       "0  <keras.callbacks.History object at 0x9d640c7c0>  \n",
       "0  <keras.callbacks.History object at 0x9589dc520>  \n",
       "0  <keras.callbacks.History object at 0x8bc3d87c0>  \n",
       "0  <keras.callbacks.History object at 0x89c6d46d0>  \n",
       "0  <keras.callbacks.History object at 0x9c8f1c910>  \n",
       "0  <keras.callbacks.History object at 0x9bc390f40>  \n",
       "0  <keras.callbacks.History object at 0x8b5ec5640>  \n",
       "0  <keras.callbacks.History object at 0x8a9749df0>  \n",
       "0  <keras.callbacks.History object at 0x9b74c60d0>  \n",
       "0  <keras.callbacks.History object at 0x8b07ff6d0>  \n",
       "0  <keras.callbacks.History object at 0x9ab8c8df0>  \n",
       "0  <keras.callbacks.History object at 0x89d6b0d90>  \n",
       "0  <keras.callbacks.History object at 0x8da600580>  \n",
       "0  <keras.callbacks.History object at 0x8281cba60>  \n",
       "0  <keras.callbacks.History object at 0x5d7dc2670>  \n",
       "0  <keras.callbacks.History object at 0x78e86d430>  \n",
       "0  <keras.callbacks.History object at 0x88b12a0a0>  \n",
       "0  <keras.callbacks.History object at 0x977b1f790>  \n",
       "0  <keras.callbacks.History object at 0x6c0786be0>  \n",
       "0  <keras.callbacks.History object at 0x992cb53a0>  \n",
       "0  <keras.callbacks.History object at 0x7e170db80>  \n",
       "0  <keras.callbacks.History object at 0xa285b04c0>  \n",
       "0  <keras.callbacks.History object at 0x832f88790>  \n",
       "0  <keras.callbacks.History object at 0x8b061ce20>  \n",
       "0  <keras.callbacks.History object at 0x9bc4b5eb0>  \n",
       "0  <keras.callbacks.History object at 0x8bfc54760>  \n",
       "0  <keras.callbacks.History object at 0x8cb30d7c0>  \n",
       "0  <keras.callbacks.History object at 0x90d18a2b0>  \n",
       "0  <keras.callbacks.History object at 0x8edb576d0>  \n",
       "0  <keras.callbacks.History object at 0x8fdd01730>  \n",
       "0  <keras.callbacks.History object at 0x8fdd2bdf0>  \n",
       "0  <keras.callbacks.History object at 0x91de49700>  \n",
       "0  <keras.callbacks.History object at 0x9d62306d0>  \n",
       "0  <keras.callbacks.History object at 0xb5586e2b0>  \n",
       "0  <keras.callbacks.History object at 0xa46749f40>  \n",
       "0  <keras.callbacks.History object at 0xacef4ecd0>  "
      ]
     },
     "execution_count": 34,
     "metadata": {},
     "output_type": "execute_result"
    }
   ],
   "source": [
    "df_low"
   ]
  },
  {
   "cell_type": "code",
   "execution_count": 38,
   "metadata": {},
   "outputs": [],
   "source": [
    "df_low.to_csv(\"./data/performance/indiviudal_low.csv\", index=False)"
   ]
  },
  {
   "cell_type": "code",
   "execution_count": 35,
   "metadata": {},
   "outputs": [
    {
     "name": "stderr",
     "output_type": "stream",
     "text": [
      "78083.53s - pydevd: Sending message related to process being replaced timed-out after 5 seconds\n"
     ]
    },
    {
     "name": "stdout",
     "output_type": "stream",
     "text": [
      "README.md  conda.yml  \u001b[1m\u001b[36mdata\u001b[m\u001b[m/      \u001b[1m\u001b[36mmodels\u001b[m\u001b[m/    \u001b[1m\u001b[36mnotebooks\u001b[m\u001b[m/ \u001b[1m\u001b[36msrc\u001b[m\u001b[m/\n"
     ]
    }
   ],
   "source": [
    "%ls"
   ]
  },
  {
   "cell_type": "code",
   "execution_count": 39,
   "metadata": {},
   "outputs": [],
   "source": [
    "df_2 = pd.read_csv(\"./data/performance/fl_low_data.csv\")\n",
    "df_2['model'] = 'Federated learning'"
   ]
  },
  {
   "cell_type": "code",
   "execution_count": 40,
   "metadata": {},
   "outputs": [],
   "source": [
    "df_low['model'] = 'individualised'"
   ]
  },
  {
   "cell_type": "code",
   "execution_count": 41,
   "metadata": {},
   "outputs": [],
   "source": [
    "df_final = pd.concat([df_2, df_low])"
   ]
  },
  {
   "cell_type": "code",
   "execution_count": 46,
   "metadata": {},
   "outputs": [],
   "source": [
    "df_final['Store'] = df_final['Store'].astype('str')"
   ]
  },
  {
   "cell_type": "code",
   "execution_count": 47,
   "metadata": {},
   "outputs": [
    {
     "data": {
      "text/plain": [
       "(0.0, 10000.0)"
      ]
     },
     "execution_count": 47,
     "metadata": {},
     "output_type": "execute_result"
    },
    {
     "data": {
      "image/png": "[encoded data removed]",
      "text/plain": [
       "<Figure size 1600x1000 with 1 Axes>"
      ]
     },
     "metadata": {},
     "output_type": "display_data"
    }
   ],
   "source": [
    "import seaborn as sns \n",
    "\n",
    "plt.figure(figsize=(16,10))\n",
    "bar = sns.barplot(data=df_final, x='Store', y='test_mae', hue='model')\n",
    "bar.set_ylim(top=10000)"
   ]
  },
  {
   "cell_type": "code",
   "execution_count": 50,
   "metadata": {},
   "outputs": [],
   "source": [
    "best = []\n",
    "for i in df_final['Store'].unique():\n",
    "    best_model = df_final[df_final['Store'] == i].sort_values(by='test_mae').iloc[0]['model']\n",
    "    best.append(best_model)"
   ]
  },
  {
   "cell_type": "code",
   "execution_count": 53,
   "metadata": {},
   "outputs": [
    {
     "data": {
      "text/plain": [
       "Counter({'individualised': 18, 'Federated learning': 27})"
      ]
     },
     "execution_count": 53,
     "metadata": {},
     "output_type": "execute_result"
    }
   ],
   "source": [
    "from collections import Counter\n",
    "\n",
    "Counter(best)"
   ]
  },
  {
   "cell_type": "code",
   "execution_count": null,
   "metadata": {},
   "outputs": [],
   "source": []
  }
 ],
 "metadata": {
  "kernelspec": {
   "display_name": "Python 3.9.13 ('assignment-5-tensor')",
   "language": "python",
   "name": "python3"
  },
  "language_info": {
   "codemirror_mode": {
    "name": "ipython",
    "version": 3
   },
   "file_extension": ".py",
   "mimetype": "text/x-python",
   "name": "python",
   "nbconvert_exporter": "python",
   "pygments_lexer": "ipython3",
   "version": "3.9.13"
  },
  "orig_nbformat": 4,
  "vscode": {
   "interpreter": {
    "hash": "5f7b906d99b2ec91f843337fb9b0616c07f4c02a7a501f2516fb446e3b496cbd"
   }
  }
 },
 "nbformat": 4,
 "nbformat_minor": 2
}
